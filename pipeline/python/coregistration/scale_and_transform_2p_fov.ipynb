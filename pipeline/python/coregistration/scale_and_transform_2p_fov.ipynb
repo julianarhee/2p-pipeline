{
 "cells": [
  {
   "cell_type": "code",
   "execution_count": null,
   "metadata": {
    "collapsed": true
   },
   "outputs": [],
   "source": [
    "import tifffile as tf\n",
    "import cv2\n",
    "import os\n",
    "import glob\n",
    "import json\n",
    "import pylab as pl"
   ]
  },
  {
   "cell_type": "code",
   "execution_count": null,
   "metadata": {
    "collapsed": true
   },
   "outputs": [],
   "source": []
  },
  {
   "cell_type": "code",
   "execution_count": null,
   "metadata": {
    "collapsed": true
   },
   "outputs": [],
   "source": [
    "animalid = 'JC080'\n",
    "session = '20190603'\n",
    "fov = 'FOV1_zoom2p0x'\n",
    "channel_id = 2\n",
    "fmt = 'tif'\n",
    "\n",
    "anat_fpath = glob.glob(os.path.join(rootdir, animalid, session, fov, 'anatomical', \\\n",
    "                                    'anatomical_Channel%02d*.%s' % (channel_id, fmt)))[0]\n",
    "anat_fpath"
   ]
  },
  {
   "cell_type": "code",
   "execution_count": null,
   "metadata": {
    "collapsed": true
   },
   "outputs": [],
   "source": [
    "if fmt=='tif':\n",
    "    img = tf.imread(anat_fpath)\n",
    "else:\n",
    "    img = cv2.imread(anat_fpath)\n",
    "\n",
    "print(img.dtype, img.min(), img.max())\n",
    "print(img.shape)\n"
   ]
  },
  {
   "cell_type": "code",
   "execution_count": null,
   "metadata": {
    "collapsed": true
   },
   "outputs": [],
   "source": [
    "if len(img.shape)>2:\n",
    "    img = img[:, :, 0]\n",
    "img.shape"
   ]
  },
  {
   "cell_type": "code",
   "execution_count": null,
   "metadata": {
    "collapsed": true
   },
   "outputs": [],
   "source": [
    "print(\"top2bottom:\", 0.302*8.0)\n",
    "print(\"left2right\", 0.289*8.0)\n",
    "\n"
   ]
  },
  {
   "cell_type": "code",
   "execution_count": null,
   "metadata": {
    "collapsed": true
   },
   "outputs": [],
   "source": [
    "# Use measured pixel size from PSF (20191005, most recent)\n",
    "# ------------------------------------------------------------------\n",
    "xaxis_conversion = 2.31  # size of x-axis pixel, goes with A-P axis\n",
    "yaxis_conversion = 1.89  # size of y-axis pixels, goes with M-L axis"
   ]
  },
  {
   "cell_type": "code",
   "execution_count": null,
   "metadata": {
    "collapsed": true
   },
   "outputs": [],
   "source": [
    "d1, d2 = img.shape # (im_h, im_w)\n",
    "new_d1 = int(round(d1*xaxis_conversion, 1)) # after transform, \n",
    "new_d2 = int(round(d2*yaxis_conversion, 1)) # after transform, d2~ML axis (width), \n",
    "zimg_r = cv2.resize(im, (new_d2, new_d1))   # (new_d1~COLS, new_d2~ROWS)\n",
    "print(zimg_r.shape)\n",
    "print(new_d1, new_d2)"
   ]
  },
  {
   "cell_type": "code",
   "execution_count": null,
   "metadata": {
    "collapsed": true
   },
   "outputs": [],
   "source": [
    "pl.figure()\n",
    "pl.imshow(zimg_r)"
   ]
  },
  {
   "cell_type": "code",
   "execution_count": null,
   "metadata": {
    "collapsed": true
   },
   "outputs": [],
   "source": [
    "img_outpath = '%s_scaled2.%s' % (os.path.splitext(anat_fpath)[0], fmt)\n",
    "\n",
    "if fmt=='tif':\n",
    "    tf.imsave(img_outpath, zimg_r)\n",
    "else:\n",
    "    cv2.imwrite(img_outpath, zimg_r)\n"
   ]
  }
 ],
 "metadata": {
  "kernelspec": {
   "display_name": "Python 2",
   "language": "python",
   "name": "python2"
  },
  "language_info": {
   "codemirror_mode": {
    "name": "ipython",
    "version": 2
   },
   "file_extension": ".py",
   "mimetype": "text/x-python",
   "name": "python",
   "nbconvert_exporter": "python",
   "pygments_lexer": "ipython2",
   "version": "2.7.13"
  }
 },
 "nbformat": 4,
 "nbformat_minor": 2
}
