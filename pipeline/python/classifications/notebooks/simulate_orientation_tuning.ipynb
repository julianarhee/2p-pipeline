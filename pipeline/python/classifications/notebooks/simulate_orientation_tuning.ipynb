{
 "cells": [
  {
   "cell_type": "code",
   "execution_count": null,
   "metadata": {
    "collapsed": true
   },
   "outputs": [],
   "source": [
    "import os\n",
    "import cv2\n",
    "import glob\n",
    "import h5py\n",
    "import sys\n",
    "import optparse\n",
    "import copy\n",
    "\n",
    "import pylab as pl"
   ]
  },
  {
   "cell_type": "code",
   "execution_count": null,
   "metadata": {
    "collapsed": true
   },
   "outputs": [],
   "source": [
    "%matplotlib notebook"
   ]
  },
  {
   "cell_type": "code",
   "execution_count": null,
   "metadata": {
    "collapsed": true
   },
   "outputs": [],
   "source": [
    "# simulate responses"
   ]
  },
  {
   "cell_type": "code",
   "execution_count": null,
   "metadata": {
    "collapsed": true
   },
   "outputs": [],
   "source": [
    "mean_response = np.random.random(8)\n",
    "oris = np.linspace(0, 360, 25, endpoint=True)\n",
    "print(oris)"
   ]
  },
  {
   "cell_type": "code",
   "execution_count": null,
   "metadata": {
    "collapsed": true
   },
   "outputs": [],
   "source": [
    "np.where(oris==90)"
   ]
  },
  {
   "cell_type": "code",
   "execution_count": null,
   "metadata": {
    "collapsed": true
   },
   "outputs": [],
   "source": [
    "ori_ix = np.where(oris==45)[0]\n",
    "ori_ix2 = np.where(oris==(45+180))[0]\n",
    "print(ori_ix, ori_ix2)"
   ]
  },
  {
   "cell_type": "code",
   "execution_count": null,
   "metadata": {
    "collapsed": true
   },
   "outputs": [],
   "source": [
    "OSI_cvs = []\n",
    "DSI_cvs = []\n",
    "m_responses = []\n",
    "strength = 5s\n",
    "mean_response = np.random.random(len(oris))\n",
    "add_response = np.zeros(mean_response.shape)\n",
    "\n",
    "n_levels = 10\n",
    "for n_level in range(n_levels):\n",
    "    add_response[ori_ix] = n_level*strength\n",
    "    if ori_ix2 is not None:\n",
    "        add_response[ori_ix2] = n_level*strength #/ 5\n",
    "    mean_response = mean_response + add_response\n",
    "    #mean_response\n",
    "    #curr_resps = mean_response #fit_results[roi]['mean_responses']\n",
    "    #curr_oris =  fresults['oris']\n",
    "    circvar_osi =  np.sum( [r_theta * np.exp(2j*theta) for r_theta, theta in zip(mean_response, oris)] ) / np.sum(mean_response)\n",
    "    circvar_dsi = np.sum( [r_theta * np.exp(1j*theta) \\\n",
    "                           for r_theta, theta in zip(mean_response, oris)] ) / np.sum(mean_response)\n",
    "    rOSI_cv = np.abs(circvar_osi) \n",
    "    #rOSI_cv = np.abs( np.sum( [r_theta * np.exp(2j*theta) for r_theta, theta in zip(mean_response, oris)] ) / np.sum(mean_response) )\n",
    "    rDSI_cv = np.abs( circvar_dsi )\n",
    "    print(\"strength: %i -- OSI: %.5f, DSI: %.5f\" % (strength, rOSI_cv, rDSI_cv))\n",
    "\n",
    "    OSI_cvs.append(rOSI_cv)\n",
    "    DSI_cvs.append(rDSI_cv)\n",
    "    m_responses.append(mean_response)"
   ]
  },
  {
   "cell_type": "code",
   "execution_count": null,
   "metadata": {
    "collapsed": true
   },
   "outputs": [],
   "source": [
    "strengths = np.linspace(0, 100, 10)\n",
    "\n",
    "fig, ax = pl.subplots(1,2)\n",
    "for r in range(len(m_responses)):\n",
    "    ax[0].plot(m_responses[r]) # + r*20)\n",
    "    \n",
    "ax[1].plot(strengths, OSI_cvs, label='osi_circvar')\n",
    "ax[1].plot(strengths, DSI_cvs, label='dsi_circvar')\n",
    "pl.legend()"
   ]
  },
  {
   "cell_type": "code",
   "execution_count": null,
   "metadata": {
    "collapsed": true
   },
   "outputs": [],
   "source": [
    "#strengths = np.linspace(0, 100, 10)\n",
    "\n",
    "fig, ax = pl.subplots(1,2)\n",
    "for r in range(len(m_responses)):\n",
    "    ax[0].plot(m_responses[r]) # + r*20)\n",
    "    \n",
    "ax[1].plot(strengths, OSI_cvs, label='osi_circvar')\n",
    "ax[1].plot(strengths, DSI_cvs, label='dsi_circvar')\n",
    "pl.legend()"
   ]
  },
  {
   "cell_type": "code",
   "execution_count": null,
   "metadata": {
    "collapsed": true
   },
   "outputs": [],
   "source": [
    "#strengths = np.linspace(0, 100, 10)\n",
    "\n",
    "fig, ax = pl.subplots(1,2)\n",
    "for r in range(len(m_responses)):\n",
    "    ax[0].plot(m_responses[r]) # + r*20)\n",
    "    \n",
    "ax[1].plot(strengths, OSI_cvs, label='osi_circvar')\n",
    "ax[1].plot(strengths, DSI_cvs, label='dsi_circvar')\n",
    "pl.legend()"
   ]
  },
  {
   "cell_type": "code",
   "execution_count": null,
   "metadata": {
    "collapsed": true
   },
   "outputs": [],
   "source": []
  },
  {
   "cell_type": "code",
   "execution_count": null,
   "metadata": {
    "collapsed": true
   },
   "outputs": [],
   "source": []
  }
 ],
 "metadata": {
  "kernelspec": {
   "display_name": "Python 2",
   "language": "python",
   "name": "python2"
  },
  "language_info": {
   "codemirror_mode": {
    "name": "ipython",
    "version": 2
   },
   "file_extension": ".py",
   "mimetype": "text/x-python",
   "name": "python",
   "nbconvert_exporter": "python",
   "pygments_lexer": "ipython2",
   "version": "2.7.13"
  }
 },
 "nbformat": 4,
 "nbformat_minor": 2
}
