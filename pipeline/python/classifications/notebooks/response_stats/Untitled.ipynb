{
 "cells": [
  {
   "cell_type": "code",
   "execution_count": 1,
   "id": "neural-colon",
   "metadata": {},
   "outputs": [],
   "source": [
    "import os\n",
    "import glob\n",
    "import itertools\n",
    "import json\n",
    "import importlib\n",
    "\n",
    "import matplotlib as mpl\n",
    "import scipy.stats as spstats\n",
    "import dill as pkl\n",
    "import pandas as pd\n",
    "import numpy as np\n",
    "import seaborn as sns\n",
    "import pylab as pl\n",
    "import py3utils as p3"
   ]
  },
  {
   "cell_type": "code",
   "execution_count": 2,
   "id": "moral-interim",
   "metadata": {},
   "outputs": [],
   "source": [
    "%matplotlib notebook"
   ]
  },
  {
   "cell_type": "code",
   "execution_count": null,
   "id": "mysterious-republican",
   "metadata": {},
   "outputs": [],
   "source": [
    "aggregate_dir = '/n/coxfs01/julianarhee/aggregate-visual-areas'\n",
    "\n",
    "response_type='dff'\n",
    "responsive_test='ROC'\n",
    "overlap_thr=None\n",
    "trial_epoch = 'plushalf'\n",
    "traceid = 'traces001'\n",
    "\n",
    "responsive_thr = 0.05 if responsive_test=='ROC' else 10.0\n",
    "overlap_str = 'noRF' if overlap_thr in [None, 'None'] else 'overlap%.2f' % overlap_thr\n",
    "\n",
    "fname = 'neuraldata_%s_%s_%s-thr-%.2f_%s_%s' \\\n",
    "        % (traceid, response_type, responsive_test, responsive_thr, trial_epoch, overlap_str)\n",
    "\n",
    "datafile = os.path.join(aggregate_dir, 'data-stats', 'tmp_data', '%s.pkl' % fname)\n",
    "with open(datafile, 'rb') as f:\n",
    "    D = pkl.load(f, encoding='latin1')\n",
    "D.keys()"
   ]
  },
  {
   "cell_type": "code",
   "execution_count": null,
   "id": "flush-dividend",
   "metadata": {},
   "outputs": [],
   "source": [
    "def get_dsets_with_max_rfs(rf_dsets, assigned_cells):\n",
    "\n",
    "    # Load all RF data\n",
    "    from pipeline.python.classifications import rf_utils as rfutils\n",
    "    all_rfdfs = rfutils.load_aggregate_rfs(rf_dsets)\n",
    "    all_rfs = get_rfdata(assigned_cells, all_rfdfs, verbose=False, average_repeats=True)\n",
    "\n",
    "    best_dfs = get_dsets_with_most_cells(all_rfs) #, assigned_cells)\n",
    "\n",
    "    return best_dfs\n",
    "\n"
   ]
  }
 ],
 "metadata": {
  "kernelspec": {
   "display_name": "Python 3",
   "language": "python",
   "name": "python3"
  },
  "language_info": {
   "codemirror_mode": {
    "name": "ipython",
    "version": 3
   },
   "file_extension": ".py",
   "mimetype": "text/x-python",
   "name": "python",
   "nbconvert_exporter": "python",
   "pygments_lexer": "ipython3",
   "version": "3.7.10"
  }
 },
 "nbformat": 4,
 "nbformat_minor": 5
}
