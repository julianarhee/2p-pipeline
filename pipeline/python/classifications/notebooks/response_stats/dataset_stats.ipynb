{
 "cells": [
  {
   "cell_type": "code",
   "execution_count": 2,
   "id": "talented-rouge",
   "metadata": {},
   "outputs": [],
   "source": [
    "import glob\n",
    "import os\n",
    "import cv2\n",
    "import glob\n",
    "import re\n",
    "import json\n",
    "import h5py\n",
    "\n",
    "import matplotlib as mpl\n",
    "import tifffile as tf\n",
    "import pandas as pd\n",
    "import pylab as pl\n",
    "import seaborn as sns\n",
    "import numpy as np"
   ]
  },
  {
   "cell_type": "code",
   "execution_count": 3,
   "id": "essential-reach",
   "metadata": {},
   "outputs": [],
   "source": [
    "import py3utils as p3\n",
    "import plotting as pplot\n",
    "import rf_utils as rfutils"
   ]
  },
  {
   "cell_type": "code",
   "execution_count": 4,
   "id": "innocent-logistics",
   "metadata": {},
   "outputs": [],
   "source": [
    "%matplotlib notebook"
   ]
  },
  {
   "cell_type": "code",
   "execution_count": 5,
   "id": "graphic-animation",
   "metadata": {},
   "outputs": [],
   "source": [
    "#### Plotting params\n",
    "visual_areas, area_colors = pplot.set_threecolor_palette()\n",
    "pplot.set_plot_params(labelsize=6, lw_axes=0.25)"
   ]
  },
  {
   "cell_type": "code",
   "execution_count": null,
   "id": "accepting-briefs",
   "metadata": {},
   "outputs": [],
   "source": []
  },
  {
   "cell_type": "code",
   "execution_count": null,
   "id": "further-mounting",
   "metadata": {},
   "outputs": [],
   "source": []
  },
  {
   "cell_type": "code",
   "execution_count": 6,
   "id": "satisfactory-austin",
   "metadata": {},
   "outputs": [],
   "source": [
    "aggregate_dir = '/n/coxfs01/julianarhee/aggregate-visual-areas'\n",
    "\n",
    "response_type='dff'\n",
    "traceid = 'traces001'\n",
    "\n",
    "fit_thr=0.5\n",
    "do_spherical_correction=True"
   ]
  },
  {
   "cell_type": "code",
   "execution_count": 7,
   "id": "quick-westminster",
   "metadata": {},
   "outputs": [
    {
     "name": "stdout",
     "output_type": "stream",
     "text": [
      "/n/coxfs01/julianarhee/aggregate-visual-areas/dataset_info_assigned.pkl\n",
      "Segmentation: missing 3 dsets\n",
      "             datakey  cell\n",
      "visual_area               \n",
      "Li              3754  3754\n",
      "Lm              4461  4461\n",
      "V1              4007  4007\n"
     ]
    }
   ],
   "source": [
    "sdata, cells0 = p3.get_aggregate_info(visual_areas=visual_areas, return_cells=True)\n",
    "all_cell_counts = cells0[['visual_area', 'datakey', 'cell']]\\\n",
    "                .drop_duplicates().groupby(['visual_area']).count().reset_index()\n",
    "\n",
    "print(all_cell_counts.groupby(['visual_area']).sum())"
   ]
  },
  {
   "cell_type": "code",
   "execution_count": 8,
   "id": "exceptional-translator",
   "metadata": {},
   "outputs": [
    {
     "name": "stdout",
     "output_type": "stream",
     "text": [
      "/n/coxfs01/julianarhee/aggregate-visual-areas/data-stats/counts/all_assigned_cells.csv\n"
     ]
    }
   ],
   "source": [
    "# Save counts\n",
    "statdir = os.path.join(aggregate_dir, 'data-stats','counts')\n",
    "if not os.path.exists(statdir):\n",
    "    os.makedirs(statdir)\n",
    "counts_outfile = os.path.join(statdir, 'all_assigned_cells.csv')\n",
    "all_cell_counts.to_csv (r'%s' % counts_outfile, index=False, header=True)\n",
    "print(counts_outfile)"
   ]
  },
  {
   "cell_type": "code",
   "execution_count": null,
   "id": "exotic-seminar",
   "metadata": {},
   "outputs": [],
   "source": []
  }
 ],
 "metadata": {
  "kernelspec": {
   "display_name": "Python 3",
   "language": "python",
   "name": "python3"
  },
  "language_info": {
   "codemirror_mode": {
    "name": "ipython",
    "version": 3
   },
   "file_extension": ".py",
   "mimetype": "text/x-python",
   "name": "python",
   "nbconvert_exporter": "python",
   "pygments_lexer": "ipython3",
   "version": "3.7.10"
  }
 },
 "nbformat": 4,
 "nbformat_minor": 5
}
