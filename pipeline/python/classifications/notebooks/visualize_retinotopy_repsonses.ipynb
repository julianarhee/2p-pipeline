{
 "cells": [
  {
   "cell_type": "code",
   "execution_count": 1,
   "metadata": {},
   "outputs": [
    {
     "data": {
      "text/html": [
       "\n",
       "    <div class=\"bk-root\">\n",
       "        <a href=\"https://bokeh.pydata.org\" target=\"_blank\" class=\"bk-logo bk-logo-small bk-logo-notebook\"></a>\n",
       "        <span id=\"1001\">Loading BokehJS ...</span>\n",
       "    </div>"
      ]
     },
     "metadata": {},
     "output_type": "display_data"
    },
    {
     "data": {
      "application/javascript": [
       "\n",
       "(function(root) {\n",
       "  function now() {\n",
       "    return new Date();\n",
       "  }\n",
       "\n",
       "  var force = true;\n",
       "\n",
       "  if (typeof root._bokeh_onload_callbacks === \"undefined\" || force === true) {\n",
       "    root._bokeh_onload_callbacks = [];\n",
       "    root._bokeh_is_loading = undefined;\n",
       "  }\n",
       "\n",
       "  var JS_MIME_TYPE = 'application/javascript';\n",
       "  var HTML_MIME_TYPE = 'text/html';\n",
       "  var EXEC_MIME_TYPE = 'application/vnd.bokehjs_exec.v0+json';\n",
       "  var CLASS_NAME = 'output_bokeh rendered_html';\n",
       "\n",
       "  /**\n",
       "   * Render data to the DOM node\n",
       "   */\n",
       "  function render(props, node) {\n",
       "    var script = document.createElement(\"script\");\n",
       "    node.appendChild(script);\n",
       "  }\n",
       "\n",
       "  /**\n",
       "   * Handle when an output is cleared or removed\n",
       "   */\n",
       "  function handleClearOutput(event, handle) {\n",
       "    var cell = handle.cell;\n",
       "\n",
       "    var id = cell.output_area._bokeh_element_id;\n",
       "    var server_id = cell.output_area._bokeh_server_id;\n",
       "    // Clean up Bokeh references\n",
       "    if (id != null && id in Bokeh.index) {\n",
       "      Bokeh.index[id].model.document.clear();\n",
       "      delete Bokeh.index[id];\n",
       "    }\n",
       "\n",
       "    if (server_id !== undefined) {\n",
       "      // Clean up Bokeh references\n",
       "      var cmd = \"from bokeh.io.state import curstate; print(curstate().uuid_to_server['\" + server_id + \"'].get_sessions()[0].document.roots[0]._id)\";\n",
       "      cell.notebook.kernel.execute(cmd, {\n",
       "        iopub: {\n",
       "          output: function(msg) {\n",
       "            var id = msg.content.text.trim();\n",
       "            if (id in Bokeh.index) {\n",
       "              Bokeh.index[id].model.document.clear();\n",
       "              delete Bokeh.index[id];\n",
       "            }\n",
       "          }\n",
       "        }\n",
       "      });\n",
       "      // Destroy server and session\n",
       "      var cmd = \"import bokeh.io.notebook as ion; ion.destroy_server('\" + server_id + \"')\";\n",
       "      cell.notebook.kernel.execute(cmd);\n",
       "    }\n",
       "  }\n",
       "\n",
       "  /**\n",
       "   * Handle when a new output is added\n",
       "   */\n",
       "  function handleAddOutput(event, handle) {\n",
       "    var output_area = handle.output_area;\n",
       "    var output = handle.output;\n",
       "\n",
       "    // limit handleAddOutput to display_data with EXEC_MIME_TYPE content only\n",
       "    if ((output.output_type != \"display_data\") || (!output.data.hasOwnProperty(EXEC_MIME_TYPE))) {\n",
       "      return\n",
       "    }\n",
       "\n",
       "    var toinsert = output_area.element.find(\".\" + CLASS_NAME.split(' ')[0]);\n",
       "\n",
       "    if (output.metadata[EXEC_MIME_TYPE][\"id\"] !== undefined) {\n",
       "      toinsert[toinsert.length - 1].firstChild.textContent = output.data[JS_MIME_TYPE];\n",
       "      // store reference to embed id on output_area\n",
       "      output_area._bokeh_element_id = output.metadata[EXEC_MIME_TYPE][\"id\"];\n",
       "    }\n",
       "    if (output.metadata[EXEC_MIME_TYPE][\"server_id\"] !== undefined) {\n",
       "      var bk_div = document.createElement(\"div\");\n",
       "      bk_div.innerHTML = output.data[HTML_MIME_TYPE];\n",
       "      var script_attrs = bk_div.children[0].attributes;\n",
       "      for (var i = 0; i < script_attrs.length; i++) {\n",
       "        toinsert[toinsert.length - 1].firstChild.setAttribute(script_attrs[i].name, script_attrs[i].value);\n",
       "      }\n",
       "      // store reference to server id on output_area\n",
       "      output_area._bokeh_server_id = output.metadata[EXEC_MIME_TYPE][\"server_id\"];\n",
       "    }\n",
       "  }\n",
       "\n",
       "  function register_renderer(events, OutputArea) {\n",
       "\n",
       "    function append_mime(data, metadata, element) {\n",
       "      // create a DOM node to render to\n",
       "      var toinsert = this.create_output_subarea(\n",
       "        metadata,\n",
       "        CLASS_NAME,\n",
       "        EXEC_MIME_TYPE\n",
       "      );\n",
       "      this.keyboard_manager.register_events(toinsert);\n",
       "      // Render to node\n",
       "      var props = {data: data, metadata: metadata[EXEC_MIME_TYPE]};\n",
       "      render(props, toinsert[toinsert.length - 1]);\n",
       "      element.append(toinsert);\n",
       "      return toinsert\n",
       "    }\n",
       "\n",
       "    /* Handle when an output is cleared or removed */\n",
       "    events.on('clear_output.CodeCell', handleClearOutput);\n",
       "    events.on('delete.Cell', handleClearOutput);\n",
       "\n",
       "    /* Handle when a new output is added */\n",
       "    events.on('output_added.OutputArea', handleAddOutput);\n",
       "\n",
       "    /**\n",
       "     * Register the mime type and append_mime function with output_area\n",
       "     */\n",
       "    OutputArea.prototype.register_mime_type(EXEC_MIME_TYPE, append_mime, {\n",
       "      /* Is output safe? */\n",
       "      safe: true,\n",
       "      /* Index of renderer in `output_area.display_order` */\n",
       "      index: 0\n",
       "    });\n",
       "  }\n",
       "\n",
       "  // register the mime type if in Jupyter Notebook environment and previously unregistered\n",
       "  if (root.Jupyter !== undefined) {\n",
       "    var events = require('base/js/events');\n",
       "    var OutputArea = require('notebook/js/outputarea').OutputArea;\n",
       "\n",
       "    if (OutputArea.prototype.mime_types().indexOf(EXEC_MIME_TYPE) == -1) {\n",
       "      register_renderer(events, OutputArea);\n",
       "    }\n",
       "  }\n",
       "\n",
       "  \n",
       "  if (typeof (root._bokeh_timeout) === \"undefined\" || force === true) {\n",
       "    root._bokeh_timeout = Date.now() + 5000;\n",
       "    root._bokeh_failed_load = false;\n",
       "  }\n",
       "\n",
       "  var NB_LOAD_WARNING = {'data': {'text/html':\n",
       "     \"<div style='background-color: #fdd'>\\n\"+\n",
       "     \"<p>\\n\"+\n",
       "     \"BokehJS does not appear to have successfully loaded. If loading BokehJS from CDN, this \\n\"+\n",
       "     \"may be due to a slow or bad network connection. Possible fixes:\\n\"+\n",
       "     \"</p>\\n\"+\n",
       "     \"<ul>\\n\"+\n",
       "     \"<li>re-rerun `output_notebook()` to attempt to load from CDN again, or</li>\\n\"+\n",
       "     \"<li>use INLINE resources instead, as so:</li>\\n\"+\n",
       "     \"</ul>\\n\"+\n",
       "     \"<code>\\n\"+\n",
       "     \"from bokeh.resources import INLINE\\n\"+\n",
       "     \"output_notebook(resources=INLINE)\\n\"+\n",
       "     \"</code>\\n\"+\n",
       "     \"</div>\"}};\n",
       "\n",
       "  function display_loaded() {\n",
       "    var el = document.getElementById(\"1001\");\n",
       "    if (el != null) {\n",
       "      el.textContent = \"BokehJS is loading...\";\n",
       "    }\n",
       "    if (root.Bokeh !== undefined) {\n",
       "      if (el != null) {\n",
       "        el.textContent = \"BokehJS \" + root.Bokeh.version + \" successfully loaded.\";\n",
       "      }\n",
       "    } else if (Date.now() < root._bokeh_timeout) {\n",
       "      setTimeout(display_loaded, 100)\n",
       "    }\n",
       "  }\n",
       "\n",
       "\n",
       "  function run_callbacks() {\n",
       "    try {\n",
       "      root._bokeh_onload_callbacks.forEach(function(callback) {\n",
       "        if (callback != null)\n",
       "          callback();\n",
       "      });\n",
       "    } finally {\n",
       "      delete root._bokeh_onload_callbacks\n",
       "    }\n",
       "    console.debug(\"Bokeh: all callbacks have finished\");\n",
       "  }\n",
       "\n",
       "  function load_libs(css_urls, js_urls, callback) {\n",
       "    if (css_urls == null) css_urls = [];\n",
       "    if (js_urls == null) js_urls = [];\n",
       "\n",
       "    root._bokeh_onload_callbacks.push(callback);\n",
       "    if (root._bokeh_is_loading > 0) {\n",
       "      console.debug(\"Bokeh: BokehJS is being loaded, scheduling callback at\", now());\n",
       "      return null;\n",
       "    }\n",
       "    if (js_urls == null || js_urls.length === 0) {\n",
       "      run_callbacks();\n",
       "      return null;\n",
       "    }\n",
       "    console.debug(\"Bokeh: BokehJS not loaded, scheduling load and callback at\", now());\n",
       "    root._bokeh_is_loading = css_urls.length + js_urls.length;\n",
       "\n",
       "    function on_load() {\n",
       "      root._bokeh_is_loading--;\n",
       "      if (root._bokeh_is_loading === 0) {\n",
       "        console.debug(\"Bokeh: all BokehJS libraries/stylesheets loaded\");\n",
       "        run_callbacks()\n",
       "      }\n",
       "    }\n",
       "\n",
       "    function on_error() {\n",
       "      console.error(\"failed to load \" + url);\n",
       "    }\n",
       "\n",
       "    for (var i = 0; i < css_urls.length; i++) {\n",
       "      var url = css_urls[i];\n",
       "      const element = document.createElement(\"link\");\n",
       "      element.onload = on_load;\n",
       "      element.onerror = on_error;\n",
       "      element.rel = \"stylesheet\";\n",
       "      element.type = \"text/css\";\n",
       "      element.href = url;\n",
       "      console.debug(\"Bokeh: injecting link tag for BokehJS stylesheet: \", url);\n",
       "      document.body.appendChild(element);\n",
       "    }\n",
       "\n",
       "    for (var i = 0; i < js_urls.length; i++) {\n",
       "      var url = js_urls[i];\n",
       "      var element = document.createElement('script');\n",
       "      element.onload = on_load;\n",
       "      element.onerror = on_error;\n",
       "      element.async = false;\n",
       "      element.src = url;\n",
       "      console.debug(\"Bokeh: injecting script tag for BokehJS library: \", url);\n",
       "      document.head.appendChild(element);\n",
       "    }\n",
       "  };var element = document.getElementById(\"1001\");\n",
       "  if (element == null) {\n",
       "    console.error(\"Bokeh: ERROR: autoload.js configured with elementid '1001' but no matching script tag was found. \")\n",
       "    return false;\n",
       "  }\n",
       "\n",
       "  function inject_raw_css(css) {\n",
       "    const element = document.createElement(\"style\");\n",
       "    element.appendChild(document.createTextNode(css));\n",
       "    document.body.appendChild(element);\n",
       "  }\n",
       "\n",
       "  var js_urls = [\"https://cdn.pydata.org/bokeh/release/bokeh-1.1.0.min.js\", \"https://cdn.pydata.org/bokeh/release/bokeh-widgets-1.1.0.min.js\", \"https://cdn.pydata.org/bokeh/release/bokeh-tables-1.1.0.min.js\", \"https://cdn.pydata.org/bokeh/release/bokeh-gl-1.1.0.min.js\"];\n",
       "  var css_urls = [\"https://cdn.pydata.org/bokeh/release/bokeh-1.1.0.min.css\", \"https://cdn.pydata.org/bokeh/release/bokeh-widgets-1.1.0.min.css\", \"https://cdn.pydata.org/bokeh/release/bokeh-tables-1.1.0.min.css\"];\n",
       "\n",
       "  var inline_js = [\n",
       "    function(Bokeh) {\n",
       "      Bokeh.set_log_level(\"info\");\n",
       "    },\n",
       "    \n",
       "    function(Bokeh) {\n",
       "      \n",
       "    },\n",
       "    function(Bokeh) {} // ensure no trailing comma for IE\n",
       "  ];\n",
       "\n",
       "  function run_inline_js() {\n",
       "    \n",
       "    if ((root.Bokeh !== undefined) || (force === true)) {\n",
       "      for (var i = 0; i < inline_js.length; i++) {\n",
       "        inline_js[i].call(root, root.Bokeh);\n",
       "      }if (force === true) {\n",
       "        display_loaded();\n",
       "      }} else if (Date.now() < root._bokeh_timeout) {\n",
       "      setTimeout(run_inline_js, 100);\n",
       "    } else if (!root._bokeh_failed_load) {\n",
       "      console.log(\"Bokeh: BokehJS failed to load within specified timeout.\");\n",
       "      root._bokeh_failed_load = true;\n",
       "    } else if (force !== true) {\n",
       "      var cell = $(document.getElementById(\"1001\")).parents('.cell').data().cell;\n",
       "      cell.output_area.append_execute_result(NB_LOAD_WARNING)\n",
       "    }\n",
       "\n",
       "  }\n",
       "\n",
       "  if (root._bokeh_is_loading === 0) {\n",
       "    console.debug(\"Bokeh: BokehJS loaded, going straight to plotting\");\n",
       "    run_inline_js();\n",
       "  } else {\n",
       "    load_libs(css_urls, js_urls, function() {\n",
       "      console.debug(\"Bokeh: BokehJS plotting callback run at\", now());\n",
       "      run_inline_js();\n",
       "    });\n",
       "  }\n",
       "}(window));"
      ],
      "application/vnd.bokehjs_load.v0+json": "\n(function(root) {\n  function now() {\n    return new Date();\n  }\n\n  var force = true;\n\n  if (typeof root._bokeh_onload_callbacks === \"undefined\" || force === true) {\n    root._bokeh_onload_callbacks = [];\n    root._bokeh_is_loading = undefined;\n  }\n\n  \n\n  \n  if (typeof (root._bokeh_timeout) === \"undefined\" || force === true) {\n    root._bokeh_timeout = Date.now() + 5000;\n    root._bokeh_failed_load = false;\n  }\n\n  var NB_LOAD_WARNING = {'data': {'text/html':\n     \"<div style='background-color: #fdd'>\\n\"+\n     \"<p>\\n\"+\n     \"BokehJS does not appear to have successfully loaded. If loading BokehJS from CDN, this \\n\"+\n     \"may be due to a slow or bad network connection. Possible fixes:\\n\"+\n     \"</p>\\n\"+\n     \"<ul>\\n\"+\n     \"<li>re-rerun `output_notebook()` to attempt to load from CDN again, or</li>\\n\"+\n     \"<li>use INLINE resources instead, as so:</li>\\n\"+\n     \"</ul>\\n\"+\n     \"<code>\\n\"+\n     \"from bokeh.resources import INLINE\\n\"+\n     \"output_notebook(resources=INLINE)\\n\"+\n     \"</code>\\n\"+\n     \"</div>\"}};\n\n  function display_loaded() {\n    var el = document.getElementById(\"1001\");\n    if (el != null) {\n      el.textContent = \"BokehJS is loading...\";\n    }\n    if (root.Bokeh !== undefined) {\n      if (el != null) {\n        el.textContent = \"BokehJS \" + root.Bokeh.version + \" successfully loaded.\";\n      }\n    } else if (Date.now() < root._bokeh_timeout) {\n      setTimeout(display_loaded, 100)\n    }\n  }\n\n\n  function run_callbacks() {\n    try {\n      root._bokeh_onload_callbacks.forEach(function(callback) {\n        if (callback != null)\n          callback();\n      });\n    } finally {\n      delete root._bokeh_onload_callbacks\n    }\n    console.debug(\"Bokeh: all callbacks have finished\");\n  }\n\n  function load_libs(css_urls, js_urls, callback) {\n    if (css_urls == null) css_urls = [];\n    if (js_urls == null) js_urls = [];\n\n    root._bokeh_onload_callbacks.push(callback);\n    if (root._bokeh_is_loading > 0) {\n      console.debug(\"Bokeh: BokehJS is being loaded, scheduling callback at\", now());\n      return null;\n    }\n    if (js_urls == null || js_urls.length === 0) {\n      run_callbacks();\n      return null;\n    }\n    console.debug(\"Bokeh: BokehJS not loaded, scheduling load and callback at\", now());\n    root._bokeh_is_loading = css_urls.length + js_urls.length;\n\n    function on_load() {\n      root._bokeh_is_loading--;\n      if (root._bokeh_is_loading === 0) {\n        console.debug(\"Bokeh: all BokehJS libraries/stylesheets loaded\");\n        run_callbacks()\n      }\n    }\n\n    function on_error() {\n      console.error(\"failed to load \" + url);\n    }\n\n    for (var i = 0; i < css_urls.length; i++) {\n      var url = css_urls[i];\n      const element = document.createElement(\"link\");\n      element.onload = on_load;\n      element.onerror = on_error;\n      element.rel = \"stylesheet\";\n      element.type = \"text/css\";\n      element.href = url;\n      console.debug(\"Bokeh: injecting link tag for BokehJS stylesheet: \", url);\n      document.body.appendChild(element);\n    }\n\n    for (var i = 0; i < js_urls.length; i++) {\n      var url = js_urls[i];\n      var element = document.createElement('script');\n      element.onload = on_load;\n      element.onerror = on_error;\n      element.async = false;\n      element.src = url;\n      console.debug(\"Bokeh: injecting script tag for BokehJS library: \", url);\n      document.head.appendChild(element);\n    }\n  };var element = document.getElementById(\"1001\");\n  if (element == null) {\n    console.error(\"Bokeh: ERROR: autoload.js configured with elementid '1001' but no matching script tag was found. \")\n    return false;\n  }\n\n  function inject_raw_css(css) {\n    const element = document.createElement(\"style\");\n    element.appendChild(document.createTextNode(css));\n    document.body.appendChild(element);\n  }\n\n  var js_urls = [\"https://cdn.pydata.org/bokeh/release/bokeh-1.1.0.min.js\", \"https://cdn.pydata.org/bokeh/release/bokeh-widgets-1.1.0.min.js\", \"https://cdn.pydata.org/bokeh/release/bokeh-tables-1.1.0.min.js\", \"https://cdn.pydata.org/bokeh/release/bokeh-gl-1.1.0.min.js\"];\n  var css_urls = [\"https://cdn.pydata.org/bokeh/release/bokeh-1.1.0.min.css\", \"https://cdn.pydata.org/bokeh/release/bokeh-widgets-1.1.0.min.css\", \"https://cdn.pydata.org/bokeh/release/bokeh-tables-1.1.0.min.css\"];\n\n  var inline_js = [\n    function(Bokeh) {\n      Bokeh.set_log_level(\"info\");\n    },\n    \n    function(Bokeh) {\n      \n    },\n    function(Bokeh) {} // ensure no trailing comma for IE\n  ];\n\n  function run_inline_js() {\n    \n    if ((root.Bokeh !== undefined) || (force === true)) {\n      for (var i = 0; i < inline_js.length; i++) {\n        inline_js[i].call(root, root.Bokeh);\n      }if (force === true) {\n        display_loaded();\n      }} else if (Date.now() < root._bokeh_timeout) {\n      setTimeout(run_inline_js, 100);\n    } else if (!root._bokeh_failed_load) {\n      console.log(\"Bokeh: BokehJS failed to load within specified timeout.\");\n      root._bokeh_failed_load = true;\n    } else if (force !== true) {\n      var cell = $(document.getElementById(\"1001\")).parents('.cell').data().cell;\n      cell.output_area.append_execute_result(NB_LOAD_WARNING)\n    }\n\n  }\n\n  if (root._bokeh_is_loading === 0) {\n    console.debug(\"Bokeh: BokehJS loaded, going straight to plotting\");\n    run_inline_js();\n  } else {\n    load_libs(css_urls, js_urls, function() {\n      console.debug(\"Bokeh: BokehJS plotting callback run at\", now());\n      run_inline_js();\n    });\n  }\n}(window));"
     },
     "metadata": {},
     "output_type": "display_data"
    }
   ],
   "source": [
    "\n",
    "import bokeh.plotting as bpl\n",
    "import cv2\n",
    "import glob\n",
    "import logging\n",
    "import matplotlib.pyplot as plt\n",
    "import numpy as np\n",
    "import os\n",
    "import pylab as pl\n",
    "import matplotlib.gridspec as gridspec\n",
    "\n",
    "\n",
    "import json\n",
    "#%pip install pandas\n",
    "import pandas as pd\n",
    "#%pip install seaborn\n",
    "import seaborn as sns\n",
    "\n",
    "try:\n",
    "    cv2.setNumThreads(0)\n",
    "except():\n",
    "    pass\n",
    "\n",
    "try:\n",
    "    if __IPYTHON__:\n",
    "        # this is used for debugging purposes only. allows to reload classes\n",
    "        # when changed\n",
    "        get_ipython().magic('load_ext autoreload')\n",
    "        get_ipython().magic('autoreload 2')\n",
    "except NameError:\n",
    "    pass\n",
    "\n",
    "import caiman as cm\n",
    "from caiman.motion_correction import MotionCorrect\n",
    "from caiman.source_extraction.cnmf import cnmf as cnmf\n",
    "from caiman.source_extraction.cnmf import params as params\n",
    "from caiman.utils.utils import download_demo\n",
    "from caiman.utils.visualization import plot_contours, nb_view_patches, nb_plot_contour\n",
    "bpl.output_notebook()\n",
    "\n",
    "import pylab as pl\n"
   ]
  },
  {
   "cell_type": "code",
   "execution_count": 2,
   "metadata": {},
   "outputs": [],
   "source": [
    "from mpl_toolkits.axes_grid1 import make_axes_locatable\n",
    "from caiman.utils.visualization import plot_contours\n",
    "\n",
    "import matplotlib as mpl\n",
    "import matplotlib.cm as cmx\n",
    "from matplotlib.ticker import MaxNLocator, MultipleLocator, LogFormatter\n"
   ]
  },
  {
   "cell_type": "code",
   "execution_count": 3,
   "metadata": {},
   "outputs": [],
   "source": [
    "def label_figure(fig, data_identifier):\n",
    "    fig.text(0, 1,data_identifier, ha='left', va='top', fontsize=8)\n",
    "\n",
    "    "
   ]
  },
  {
   "cell_type": "code",
   "execution_count": 4,
   "metadata": {},
   "outputs": [],
   "source": [
    "\n",
    "def do_fft_analysis(avg_traces, idx, n_frames):\n",
    "    fft_results = np.fft.fft(avg_traces, axis=0) #avg_traces.apply(np.fft.fft, axis=1)\n",
    "\n",
    "    # get phase and magnitude\n",
    "    mag_data = abs(fft_results)\n",
    "    phase_data = np.angle(fft_results)\n",
    "\n",
    "    # sort mag and phase by freq idx:\n",
    "    mag_data = mag_data[idx]\n",
    "    phase_data = phase_data[idx]\n",
    "\n",
    "    # exclude DC offset from data\n",
    "    mag_data = mag_data[int(np.round(n_frames/2.))+1:, :]\n",
    "    phase_data = phase_data[int(np.round(n_frames/2.))+1:, :]\n",
    "\n",
    "    #unpack values from frequency analysis\n",
    "    mag_array = mag_data[freq_idx, :]\n",
    "    phase_array = phase_data[freq_idx, :]\n",
    "\n",
    "    #get magnitude ratio\n",
    "    tmp = np.copy(mag_data)\n",
    "    #tmp = np.delete(tmp,freq_idx,0)\n",
    "    nontarget_mag_array=np.sum(tmp,0)\n",
    "    magratio_array=mag_array/nontarget_mag_array\n",
    "\n",
    "    return magratio_array, phase_array\n"
   ]
  },
  {
   "cell_type": "markdown",
   "metadata": {},
   "source": [
    "# Select dataset"
   ]
  },
  {
   "cell_type": "code",
   "execution_count": 5,
   "metadata": {},
   "outputs": [
    {
     "name": "stdout",
     "output_type": "stream",
     "text": [
      "[retino_run2]: added 12 tifs to queue.\n",
      "*** Dataset: JC084|20190522|FOV1_zoom2p0x|retino_run2 ***\n"
     ]
    }
   ],
   "source": [
    "rootdir = '/n/coxfs01/2p-data'\n",
    "animalid = 'JC084'\n",
    "session = '20190522' #'20190505_JC083'\n",
    "session_dir = os.path.join(rootdir, animalid, session)\n",
    "\n",
    "fov = 'FOV1_zoom2p0x'\n",
    "run_list = ['retino_run2']\n",
    "run_label = 'retino_run2'\n",
    "fnames = []\n",
    "for run in run_list:\n",
    "    fnames_tmp = glob.glob(os.path.join(session_dir, fov, '%s*' % run, 'raw*', '*.tif'))\n",
    "    fnames.extend(fnames_tmp)\n",
    "    print(\"[%s]: added %i tifs to queue.\" % (run, len(fnames_tmp)))\n",
    "\n",
    "data_identifier = '|'.join([animalid, session, fov, run_label])\n",
    "\n",
    "print(\"*** Dataset: %s ***\" % data_identifier)"
   ]
  },
  {
   "cell_type": "markdown",
   "metadata": {},
   "source": [
    "# Load traces"
   ]
  },
  {
   "cell_type": "code",
   "execution_count": 6,
   "metadata": {},
   "outputs": [],
   "source": [
    "from caiman.source_extraction.cnmf.cnmf import load_CNMF\n"
   ]
  },
  {
   "cell_type": "code",
   "execution_count": 7,
   "metadata": {},
   "outputs": [
    {
     "data": {
      "text/plain": [
       "['/n/coxfs01/2p-data/JC084/20190522/FOV1_zoom2p0x/retino_run2/caiman_results/analysis_results.hdf5',\n",
       " '/n/coxfs01/2p-data/JC084/20190522/FOV1_zoom2p0x/retino_run2/caiman_results/analysis_results2.hdf5']"
      ]
     },
     "execution_count": 7,
     "metadata": {},
     "output_type": "execute_result"
    }
   ],
   "source": [
    "results_dir = os.path.join(session_dir, fov, run_label, 'caiman_results')\n",
    "glob.glob(os.path.join(results_dir, '*.hdf5'))"
   ]
  },
  {
   "cell_type": "markdown",
   "metadata": {},
   "source": [
    "#### Load cnmf object"
   ]
  },
  {
   "cell_type": "code",
   "execution_count": 8,
   "metadata": {},
   "outputs": [
    {
     "name": "stdout",
     "output_type": "stream",
     "text": [
      "/n/coxfs01/2p-data/JC084/20190522/FOV1_zoom2p0x/retino_run2/caiman_results/analysis_results2.hdf5\n"
     ]
    },
    {
     "name": "stderr",
     "output_type": "stream",
     "text": [
      "/n/coxfs01/2p-pipeline/envs/caiman/lib/python3.6/site-packages/h5py/_hl/dataset.py:313: H5pyDeprecationWarning: dataset.value has been deprecated. Use dataset[()] instead.\n",
      "  \"Use dataset[()] instead.\", H5pyDeprecationWarning)\n"
     ]
    },
    {
     "data": {
      "text/plain": [
       "(262144, 208)"
      ]
     },
     "execution_count": 8,
     "metadata": {},
     "output_type": "execute_result"
    }
   ],
   "source": [
    "results_fpath = os.path.join(results_dir, 'analysis_results2.hdf5')\n",
    "print(results_fpath)\n",
    "cnm = load_CNMF(results_fpath, n_processes=8)\n",
    "cnm.estimates.A.shape"
   ]
  },
  {
   "cell_type": "markdown",
   "metadata": {},
   "source": [
    "#### Load memmap file"
   ]
  },
  {
   "cell_type": "code",
   "execution_count": 9,
   "metadata": {},
   "outputs": [
    {
     "name": "stdout",
     "output_type": "stream",
     "text": [
      "['/n/coxfs01/2p-data/JC084/20190522/FOV1_zoom2p0x/retino_run2/raw_6ee6c4/full_memmap__d1_512_d2_512_d3_1_order_C_frames_26796_.mmap']\n"
     ]
    }
   ],
   "source": [
    "# now load the file\n",
    "fname_tots = glob.glob(os.path.join(session_dir, fov, run, 'raw*', 'full_memmap_*.mmap'))\n",
    "print(fname_tots)\n",
    "fname_new = fname_tots[0]\n",
    "\n",
    "\n",
    "# Load images\n",
    "Yr, dims, T = cm.load_memmap(fname_new)\n",
    "images = np.reshape(Yr.T, [T] + list(dims), order='F') "
   ]
  },
  {
   "cell_type": "code",
   "execution_count": 8,
   "metadata": {},
   "outputs": [],
   "source": [
    "Av = images.mean(axis=0)\n"
   ]
  },
  {
   "cell_type": "code",
   "execution_count": null,
   "metadata": {},
   "outputs": [],
   "source": []
  },
  {
   "cell_type": "markdown",
   "metadata": {},
   "source": [
    "# Get experiment info"
   ]
  },
  {
   "cell_type": "code",
   "execution_count": 10,
   "metadata": {},
   "outputs": [
    {
     "name": "stdout",
     "output_type": "stream",
     "text": [
      "26796\n",
      "{'top': [6, 7, 10], 'bottom': [3, 5, 9], 'left': [1, 4, 11], 'right': [2, 8, 12]}\n"
     ]
    }
   ],
   "source": [
    "# Get acquisition info (SI):\n",
    "# ----------------------------------------------------\n",
    "run_dir = os.path.join(session_dir, fov, run)\n",
    "\n",
    "run = os.path.split(run_dir)[-1]\n",
    "with open(os.path.join(run_dir, '%s.json' % run), 'r') as fr:\n",
    "    scan_info = json.load(fr)\n",
    "frame_tsecs = np.array(scan_info['frame_tstamps_sec'])\n",
    "ntiffs = scan_info['ntiffs']\n",
    "\n",
    "# Need to make frame_tsecs span all TIFs:\n",
    "frame_tsecs_ext = np.hstack([frame_tsecs for i in range(ntiffs)])\n",
    "print(len(frame_tsecs_ext))\n",
    "\n",
    "nframes_per_file = len(frame_tsecs)\n",
    "\n",
    "\n",
    "# Get paradigm info (MW):\n",
    "# ----------------------------------------------------\n",
    "paradigm_fpath = glob.glob(os.path.join(run_dir, 'paradigm', 'files', 'parsed*.json'))[0]\n",
    "with open(paradigm_fpath, 'r') as f:\n",
    "    mwinfo = json.load(f)\n",
    "\n",
    "conditions = list(set([cdict['stimuli']['stimulus'] for trial_num, cdict in mwinfo.items()]))\n",
    "trials_by_cond = dict((cond, [int(k) for k, v in mwinfo.items() if v['stimuli']['stimulus']==cond]) \\\n",
    "                       for cond in conditions)\n",
    "print(trials_by_cond)\n",
    "\n",
    "\n",
    "trial_nums = np.array([v for k,v in trials_by_cond.items()])\n",
    "trial_nums = sorted(trial_nums.flatten())\n"
   ]
  },
  {
   "cell_type": "code",
   "execution_count": 11,
   "metadata": {},
   "outputs": [
    {
     "name": "stdout",
     "output_type": "stream",
     "text": [
      "12\n"
     ]
    }
   ],
   "source": [
    "# Get cycle info:\n",
    "\n",
    "curr_cond = 'left'\n",
    "stimfreq = np.unique([v['stimuli']['scale'] for k,v in mwinfo.items() if v['stimuli']['stimulus']==curr_cond])[0]\n",
    "stimperiod = 1./stimfreq # sec per cycle\n",
    "\n",
    "n_frames = scan_info['nvolumes']\n",
    "fr = scan_info['frame_rate']\n",
    "\n",
    "n_cycles = int(round((n_frames/fr) / stimperiod))\n",
    "#print n_cycles\n",
    "\n",
    "n_frames_per_cycle = int(np.floor(stimperiod * fr))\n",
    "cycle_starts = np.round(np.arange(0, n_frames_per_cycle * n_cycles, n_frames_per_cycle)).astype('int')\n",
    "print(len(cycle_starts))"
   ]
  },
  {
   "cell_type": "markdown",
   "metadata": {},
   "source": [
    "# Format masks"
   ]
  },
  {
   "cell_type": "code",
   "execution_count": 12,
   "metadata": {},
   "outputs": [
    {
     "name": "stdout",
     "output_type": "stream",
     "text": [
      "0 out of 208 evaluated components are flat.\n",
      "[]\n",
      "N active cells: 208\n",
      "Mask array: (208, 512, 512)\n"
     ]
    }
   ],
   "source": [
    "# Filter out flat liners:\n",
    "\n",
    "ncomps = cnm.estimates.A.shape[-1]\n",
    "flat_rois = [rid for rid in range(ncomps) if all(np.diff(cnm.estimates.C[rid])==0)]\n",
    "print(\"%i out of %i evaluated components are flat.\" % (len(flat_rois), ncomps))\n",
    "\n",
    "print(flat_rois)\n",
    "\n",
    "# get average traces across condition reps:\n",
    "active_cells = [i for i in range(ncomps) if i not in flat_rois]\n",
    "print(\"N active cells:\", len(active_cells))\n",
    "\n",
    "# Format masks\n",
    "masks = []\n",
    "for rid in active_cells:\n",
    "    msk = np.reshape(cnm.estimates.A[:, rid].toarray(), dims, order='F')\n",
    "    masks.append(msk)\n",
    "    \n",
    "masks = np.array(masks)\n",
    "print(\"Mask array:\", masks.shape)"
   ]
  },
  {
   "cell_type": "code",
   "execution_count": null,
   "metadata": {},
   "outputs": [],
   "source": []
  },
  {
   "cell_type": "markdown",
   "metadata": {},
   "source": [
    "# Do fft and extract traces"
   ]
  },
  {
   "cell_type": "code",
   "execution_count": 13,
   "metadata": {},
   "outputs": [],
   "source": [
    "output_dir = os.path.join(results_dir, 'visualization')\n",
    "if not os.path.exists(output_dir):\n",
    "    os.makedirs(output_dir)"
   ]
  },
  {
   "cell_type": "code",
   "execution_count": 14,
   "metadata": {},
   "outputs": [
    {
     "name": "stdout",
     "output_type": "stream",
     "text": [
      "[-22.31640161 -22.29640484 -22.27640806 ...  22.27640806  22.29640484\n",
      "  22.31640161]\n",
      "Target freq: 0.240 Hz\n"
     ]
    }
   ],
   "source": [
    "\n",
    "# label frequency bins\n",
    "freqs = np.fft.fftfreq(n_frames, float(1/fr))\n",
    "idx = np.argsort(freqs)\n",
    "freqs=freqs[idx]\n",
    "print(freqs)\n",
    "\n",
    "# exclude DC offset from data\n",
    "freqs=freqs[int(np.round(n_frames/2.))+1:]\n",
    "\n",
    "# Identify freq idx:\n",
    "freq_idx=np.argmin(np.absolute(freqs-stimfreq))#find out index of stimulation freq\n",
    "top_freq_idx=np.where(freqs>1)[0][0]#find out index of 1Hz, to cut-off zoomed out plot\n",
    "print(\"Target freq: %.3f Hz\" % freqs[freq_idx])\n",
    "#max_mod_idx=np.argmax(magnitudes[freq_idx, :],0)#best pixel index\n"
   ]
  },
  {
   "cell_type": "code",
   "execution_count": 15,
   "metadata": {},
   "outputs": [],
   "source": [
    "#curr_cond = 'bottom'\n",
    "magratios=[]\n",
    "phases=[]\n",
    "conds=[]\n",
    "traces={}\n",
    "for curr_cond in trials_by_cond.keys():\n",
    "    avg_traces = []\n",
    "    for rid in active_cells:\n",
    "        tracemat = pd.DataFrame(np.reshape(cnm.estimates.C[rid], (nframes_per_file, ntiffs), order='F'), columns=trial_nums)\n",
    "        avg = tracemat[trials_by_cond[curr_cond]].mean(axis=1)\n",
    "        avg_traces.append(avg)\n",
    "    avg_traces = pd.DataFrame(np.array(avg_traces).T, columns=active_cells)\n",
    "    traces[curr_cond] = avg_traces\n",
    "\n",
    "    magratio_array, phase_array = do_fft_analysis(avg_traces, idx, n_frames)\n",
    "\n",
    "    magratios.append(magratio_array)\n",
    "    phases.append(phase_array)\n",
    "    conds.append(curr_cond)"
   ]
  },
  {
   "cell_type": "code",
   "execution_count": 16,
   "metadata": {},
   "outputs": [],
   "source": [
    "magratios = pd.DataFrame(np.array(magratios).T, columns=conds)\n",
    "phases = pd.DataFrame(np.array(phases).T, columns=conds)"
   ]
  },
  {
   "cell_type": "code",
   "execution_count": 17,
   "metadata": {},
   "outputs": [
    {
     "name": "stdout",
     "output_type": "stream",
     "text": [
      "max mag ratio ix: 198 (cond right)\n"
     ]
    }
   ],
   "source": [
    "ri_mx, ci_mx = np.where(magratios==magratios.max(axis=1).max())\n",
    "max_mod_ix = int(ri_mx)\n",
    "max_mod_condn = magratios.columns[int(ci_mx)]\n",
    "print(\"max mag ratio ix: %i (cond %s)\" % (max_mod_ix, max_mod_condn))"
   ]
  },
  {
   "cell_type": "markdown",
   "metadata": {},
   "source": [
    "###### Look at 1 cell"
   ]
  },
  {
   "cell_type": "code",
   "execution_count": 18,
   "metadata": {},
   "outputs": [
    {
     "name": "stdout",
     "output_type": "stream",
     "text": [
      "(2233,)\n"
     ]
    },
    {
     "name": "stderr",
     "output_type": "stream",
     "text": [
      "/n/coxfs01/2p-pipeline/envs/caiman/lib/python3.6/site-packages/matplotlib/figure.py:2144: UserWarning: This figure was using constrained_layout==True, but that is incompatible with subplots_adjust and or tight_layout: setting constrained_layout==False. \n",
      "  warnings.warn(\"This figure was using constrained_layout==True, \"\n"
     ]
    },
    {
     "data": {
      "image/png": "[encoded data removed]",
      "text/plain": [
       "<Figure size 1440x432 with 3 Axes>"
      ]
     },
     "metadata": {
      "needs_background": "light"
     },
     "output_type": "display_data"
    }
   ],
   "source": [
    "rid = 198 #max_mod_ix\n",
    "curr_cond = 'left' #max_mod_condn\n",
    "\n",
    "fig = pl.figure(constrained_layout=True, figsize=(20,6))\n",
    "gspec = gridspec.GridSpec(ncols=4, nrows=2, figure=fig, height_ratios=[1, 1])\n",
    "\n",
    "ax1 = fig.add_subplot(gspec[0, 0])\n",
    "ax1.imshow(np.reshape(cnm.estimates.A[:, rid].toarray(), cnm.dims, order='F'))\n",
    "ax1.set_title('rid %i' % rid)\n",
    "ax1.axis('off')\n",
    "\n",
    "ax2 = fig.add_subplot(gspec[0, 1:])\n",
    "ax2.plot(cnm.estimates.YrA[rid], 'b', alpha=0.5, lw=0.5)\n",
    "ax2.plot(cnm.estimates.C[rid], 'r')\n",
    "ax2.set_title('raw traces (all conds)')\n",
    "\n",
    "ax3 = fig.add_subplot(gspec[1, 0:])\n",
    "avg = traces[curr_cond][rid]\n",
    "print(avg.shape)\n",
    "ax3.plot(avg)\n",
    "ax3.set_xticks([0, n_frames])\n",
    "for cyc in cycle_starts:\n",
    "    ax3.axvline(x=cyc, color='r')\n",
    "ax3.set_title('average response (%s)' % curr_cond)\n",
    "ax3.set_ylabel('intensity')\n",
    "ax3.set_xlabel('frames')\n",
    "\n",
    "sns.despine(trim=True, offset=4)\n",
    "pl.subplots_adjust(top=0.85, left=0.1, hspace=0.5)\n",
    "label_figure(fig, data_identifier)\n",
    "\n",
    "pl.savefig(os.path.join(output_dir, 'strongest_cell_%05d_%s.png' % (rid, curr_cond)))"
   ]
  },
  {
   "cell_type": "markdown",
   "metadata": {},
   "source": [
    "# Create or load denoised movie:"
   ]
  },
  {
   "cell_type": "code",
   "execution_count": 19,
   "metadata": {},
   "outputs": [],
   "source": [
    "import tifffile as tf\n",
    "import pylab as pl\n",
    "\n",
    "import copy"
   ]
  },
  {
   "cell_type": "code",
   "execution_count": 20,
   "metadata": {},
   "outputs": [
    {
     "name": "stdout",
     "output_type": "stream",
     "text": [
      "left [1, 4, 11]\n"
     ]
    }
   ],
   "source": [
    "curr_cond = 'left'\n",
    "\n",
    "print(curr_cond, trials_by_cond[curr_cond])\n",
    "\n",
    "tot_n_frames = n_frames * len(trial_nums)\n",
    "assert tot_n_frames == cnm.estimates.C.shape[-1], \"Frame counts don't match!\"\n",
    "\n",
    "npix, ncomps = cnm.estimates.A.shape"
   ]
  },
  {
   "cell_type": "code",
   "execution_count": 21,
   "metadata": {},
   "outputs": [
    {
     "name": "stdout",
     "output_type": "stream",
     "text": [
      "Loading movie for cond: left\n",
      "movie: (2233, 512, 512)\n"
     ]
    }
   ],
   "source": [
    "denoised_movie_fpath = os.path.join(output_dir, 'denoised_movie_processed_%s.tif' % curr_cond)\n",
    "\n",
    "if not os.path.exists(denoised_movie_fpath):\n",
    "    print(\"No movie found - creating new...\")\n",
    "    mov = np.empty((npix, n_frames), dtype=cnm.estimates.C.dtype)\n",
    "    for tnum in trials_by_cond[curr_cond]:\n",
    "        fr_ixs = [fi + ((tnum-1)*n_frames) for fi in np.arange(0, n_frames)]\n",
    "        mov += cnm.estimates.A.dot(cnm.estimates.C[:, fr_ixs])\n",
    "    mov = mov / len(trials_by_cond[curr_cond])\n",
    "    print(mov.shape)  \n",
    "    # Make save movie:\n",
    "\n",
    "    # denoised = cm.movie(cnm2.estimates.A.dot(cnm2.estimates.C) + \\\n",
    "    #                     cnm2.estimates.b.dot(cnm2.estimates.f)).reshape(dims + (-1,), order='F').transpose([2, 0, 1])\n",
    "    denoised = cm.movie(mov).reshape(dims + (-1,), order='F').transpose([2, 0, 1])\n",
    "    denoised.save()\n",
    "\n",
    "else:\n",
    "    print(\"Loading movie for cond: %s\" % curr_cond)\n",
    "    denoised = tf.imread(denoised_movie_fpath)\n",
    "\n",
    "print(\"movie:\", denoised.shape)"
   ]
  },
  {
   "cell_type": "code",
   "execution_count": 22,
   "metadata": {},
   "outputs": [
    {
     "name": "stdout",
     "output_type": "stream",
     "text": [
      "Curr cond: left\n"
     ]
    }
   ],
   "source": [
    "print(\"Curr cond: %s\" % curr_cond)\n",
    "phase_array = phases[curr_cond]\n",
    "magratio_array = magratios[curr_cond]\n",
    "\n",
    "phase_array_cont =  -1 * phase_array\n",
    "phase_array_cont = phase_array_cont % (2*np.pi)\n"
   ]
  },
  {
   "cell_type": "markdown",
   "metadata": {},
   "source": [
    "#### Find best cells to plot"
   ]
  },
  {
   "cell_type": "code",
   "execution_count": 23,
   "metadata": {},
   "outputs": [
    {
     "data": {
      "text/plain": [
       "6"
      ]
     },
     "execution_count": 23,
     "metadata": {},
     "output_type": "execute_result"
    }
   ],
   "source": [
    "mag_thr = 0.05\n",
    "strong_cells = [i for i in magratios.index.tolist() if all(magratios.iloc[i]>=mag_thr)]\n",
    "len(strong_cells)"
   ]
  },
  {
   "cell_type": "code",
   "execution_count": 24,
   "metadata": {},
   "outputs": [],
   "source": [
    "sorted_mags = [i for i in np.argsort(magratio_array)[::-1] if i in strong_cells] # sort high to low\n",
    "sorted_phase = [i for i in np.argsort(phase_array_cont) if i in strong_cells] # sort smallest to highest"
   ]
  },
  {
   "cell_type": "code",
   "execution_count": 25,
   "metadata": {},
   "outputs": [
    {
     "name": "stdout",
     "output_type": "stream",
     "text": [
      "[206, 152, 180, 196, 202, 198]\n",
      "206 2.3269959892458765\n",
      "152 4.480454543075332\n",
      "180 5.217692097483386\n",
      "196 5.937820095186742\n",
      "202 6.002764887890405\n",
      "198 6.1040350962010885\n"
     ]
    }
   ],
   "source": [
    "roi_list = copy.copy(sorted_phase)\n",
    "print(roi_list)\n",
    "for roi in roi_list:\n",
    "    print(roi, phase_array_cont[roi])"
   ]
  },
  {
   "cell_type": "code",
   "execution_count": 26,
   "metadata": {},
   "outputs": [],
   "source": [
    "#roi_list = [206, 152, 180, 198]"
   ]
  },
  {
   "cell_type": "code",
   "execution_count": 27,
   "metadata": {},
   "outputs": [],
   "source": [
    "phase_min = min([phase_array_cont[roi] for roi in roi_list])\n",
    "phase_max = max([phase_array_cont[roi] for roi in roi_list])\n",
    "\n",
    "roi_colors = sns.color_palette('Spectral', len(roi_list))\n",
    "\n",
    "\n",
    "norm = mpl.colors.Normalize(vmin=phase_min,vmax=phase_max)\n",
    "cmap = pl.cm.Spectral\n",
    "roi_cdict = dict((roi, cmap(norm(phase_array_cont[roi]))) for roi in roi_list)\n",
    "\n"
   ]
  },
  {
   "cell_type": "code",
   "execution_count": 28,
   "metadata": {},
   "outputs": [
    {
     "data": {
      "text/plain": [
       "<matplotlib.colorbar.Colorbar at 0x2b17aaa74ef0>"
      ]
     },
     "execution_count": 28,
     "metadata": {},
     "output_type": "execute_result"
    },
    {
     "data": {
      "image/png": "[encoded data removed]",
      "text/plain": [
       "<Figure size 432x288 with 2 Axes>"
      ]
     },
     "metadata": {
      "needs_background": "light"
     },
     "output_type": "display_data"
    }
   ],
   "source": [
    "pl.figure()\n",
    "nrois, d1, d2 = masks.shape\n",
    "\n",
    "all_masks = np.ones((d1, d2), dtype=phase_array_cont.dtype) * 100\n",
    "for rid in roi_list:\n",
    "    tmp_mask = masks[rid, :, :].copy()\n",
    "    tmp_mask[tmp_mask > 0] = 1. * phase_array_cont[rid]\n",
    "    msk = np.ma.masked_where(tmp_mask==0, tmp_mask)\n",
    "    \n",
    "    all_masks[tmp_mask > 0] = 1. * phase_array_cont[rid]\n",
    "    pl.imshow(msk, cmap=\n",
    "              'Spectral', vmin=0, vmax=2*np.pi)\n",
    "    \n",
    "pl.colorbar()"
   ]
  },
  {
   "cell_type": "code",
   "execution_count": 29,
   "metadata": {},
   "outputs": [
    {
     "data": {
      "text/plain": [
       "<matplotlib.image.AxesImage at 0x2b17901d5c50>"
      ]
     },
     "execution_count": 29,
     "metadata": {},
     "output_type": "execute_result"
    },
    {
     "data": {
      "image/png": "[encoded data removed]",
      "text/plain": [
       "<Figure size 432x288 with 1 Axes>"
      ]
     },
     "metadata": {
      "needs_background": "light"
     },
     "output_type": "display_data"
    }
   ],
   "source": [
    "mask_overlay = np.ma.masked_where(all_masks==100, all_masks)\n",
    "pl.figure()\n",
    "pl.imshow(mask_overlay, cmap='Spectral', vmin=phase_min, vmax=phase_max)\n",
    "\n"
   ]
  },
  {
   "cell_type": "code",
   "execution_count": 30,
   "metadata": {},
   "outputs": [
    {
     "data": {
      "image/png": "[encoded data removed]",
      "text/plain": [
       "<Figure size 432x288 with 1 Axes>"
      ]
     },
     "metadata": {
      "needs_background": "light"
     },
     "output_type": "display_data"
    }
   ],
   "source": [
    "pl.figure()\n",
    "\n",
    "for rid in roi_list:\n",
    "    pl.plot(traces[curr_cond][rid], color=roi_cdict[rid])"
   ]
  },
  {
   "cell_type": "code",
   "execution_count": 31,
   "metadata": {},
   "outputs": [
    {
     "data": {
      "text/plain": [
       "[206, 152, 180, 196, 202, 198]"
      ]
     },
     "execution_count": 31,
     "metadata": {},
     "output_type": "execute_result"
    }
   ],
   "source": [
    "roi_list"
   ]
  },
  {
   "cell_type": "markdown",
   "metadata": {},
   "source": [
    "#### Create stimulus movie"
   ]
  },
  {
   "cell_type": "code",
   "execution_count": 32,
   "metadata": {},
   "outputs": [
    {
     "name": "stdout",
     "output_type": "stream",
     "text": [
      "Loading stimulus movie: /n/coxfs01/2p-data/JC084/20190522/FOV1_zoom2p0x/retino_run2/caiman_results/visualization/left_stimulus.tif\n",
      "Stimulus move: (2232, 186, 186)\n"
     ]
    }
   ],
   "source": [
    "stim_mov_fpath = os.path.join(output_dir, '%s_stimulus.tif' % curr_cond)\n",
    "if os.path.exists(stim_mov_fpath):\n",
    "    print(\"Loading stimulus movie: %s\" % stim_mov_fpath)\n",
    "    stimulus_mov = tf.imread(stim_mov_fpath)\n",
    "else:\n",
    "    print(\"Creating stimulus movie: %s\" % curr_cond)\n",
    "    mw_start_ixs = mwinfo['%i' % trials_by_cond[curr_cond][0]]['stiminfo']['start_indices']\n",
    "\n",
    "    mwpos = np.array(mwinfo['%i' % trials_by_cond[curr_cond][0]]['stiminfo']['values'][0:mw_start_ixs[1]])\n",
    "    len(mwpos)\n",
    "    mwpos = mwpos - mwpos.min()\n",
    "\n",
    "    iframes = np.linspace(mwpos[0], mwpos[-1], n_frames_per_cycle)\n",
    "\n",
    "    allpos = np.array(mwinfo['%i' % trials_by_cond[curr_cond][0]]['stiminfo']['values'])\n",
    "    stimsize = len(iframes) #int(np.ceil(allpos.max() - allpos.min()))\n",
    "    print(stimsize)\n",
    "\n",
    "    # Create stimulus:\n",
    "    stimulus = np.zeros((stimsize, stimsize), dtype=np.int8)\n",
    "    if curr_cond in ['left', 'right']:\n",
    "        stimulus[:, 0:2] = 1\n",
    "    else:\n",
    "        stimulus[0:2, :] = 1\n",
    "\n",
    "    iframes = [int(round(i)) for i in iframes]\n",
    "    pos_int = 0\n",
    "    stim_list=[]\n",
    "    for fi, fpos in enumerate(iframes):\n",
    "        stimulus = np.roll(stimulus, 1, axis=1)\n",
    "        stim_list.append(stimulus)\n",
    "    stim_mov = np.array(stim_list)\n",
    "\n",
    "    # Save movie:\n",
    "    stimulus_mov = np.vstack([stim_mov for _ in range(n_cycles)]) * 255\n",
    "    tf.imsave(stim_mov_fpath, stimulus_mov)\n",
    "print(\"Stimulus move:\", stimulus_mov.shape)"
   ]
  },
  {
   "cell_type": "markdown",
   "metadata": {},
   "source": [
    "#### Test with 1 frame"
   ]
  },
  {
   "cell_type": "code",
   "execution_count": 33,
   "metadata": {},
   "outputs": [
    {
     "data": {
      "image/png": "[encoded data removed]",
      "text/plain": [
       "<Figure size 1440x720 with 8 Axes>"
      ]
     },
     "metadata": {
      "needs_background": "light"
     },
     "output_type": "display_data"
    }
   ],
   "source": [
    "index = 10\n",
    "vmin = phase_min\n",
    "vmax = phase_max\n",
    "\n",
    "fig = pl.figure(figsize=(20, 10))\n",
    "nr = len(roi_list)\n",
    "nc = 2\n",
    "\n",
    "nframes = stimulus_mov.shape[0]\n",
    "axl = pl.subplot2grid((nr, nc), (0, 0), colspan=1, rowspan=1)\n",
    "axl.imshow(stimulus_mov[index, :, :], cmap='gray')\n",
    "axl.set_aspect(1/2)\n",
    "axl.axis('off')\n",
    "\n",
    "rspan = nr\n",
    "ax0 = pl.subplot2grid((nr, nc), (1, 0), colspan=1, rowspan=nr-1)\n",
    "ax0.imshow(denoised[index, :, :], cmap='gray')\n",
    "ax0.imshow(mask_overlay, cmap='Spectral', vmin=vmin, vmax=vmax, alpha=0.8)\n",
    "ax0.axis('off')\n",
    "\n",
    "\n",
    "for ri, roi in enumerate(roi_list):\n",
    "    ax = plt.subplot2grid((nr, nc), (ri, 1), colspan=nc-1, rowspan=1)\n",
    "    ax.set_xlim([0, nframes])\n",
    "    ax.plot(traces[curr_cond][roi][0:index], color=roi_cdict[roi])\n",
    "    ax.set_xticks([])\n",
    "    ax.set_yticks([int(round(traces[curr_cond][roi].min())), int(round(traces[curr_cond][roi].max()))])\n",
    "    sns.despine(ax=ax, bottom=True, trim=True, offset=2)\n",
    "    \n",
    "#pl.subplots_adjust(top=0.9)\n",
    "\n",
    "# bbox_s = axl.get_position()\n",
    "# bbox_s2 = [bbox_s.x0-0.1, bbox_s.y0,  bbox_s.width*2, bbox_s.height] \n",
    "# axl.set_position(bbox_s2)\n"
   ]
  },
  {
   "cell_type": "code",
   "execution_count": 34,
   "metadata": {},
   "outputs": [],
   "source": [
    "\n",
    "nframes = stimulus_mov.shape[0]\n",
    "nframes_digits=int(np.ceil(np.log10(nframes)))\n",
    "\n",
    "tmpfolder = os.path.join(output_dir, 'tmp-frames')\n",
    "if not os.path.exists(tmpfolder):\n",
    "    os.makedirs(tmpfolder)\n",
    "    "
   ]
  },
  {
   "cell_type": "code",
   "execution_count": 35,
   "metadata": {},
   "outputs": [
    {
     "data": {
      "text/plain": [
       "'/n/coxfs01/2p-data/JC084/20190522/FOV1_zoom2p0x/retino_run2/caiman_results/visualization/tmp-frames/file0010.png'"
      ]
     },
     "execution_count": 35,
     "metadata": {},
     "output_type": "execute_result"
    }
   ],
   "source": [
    "tmpfolder + \"/file\"+str(index).zfill(nframes_digits)+\".png\""
   ]
  },
  {
   "cell_type": "code",
   "execution_count": 36,
   "metadata": {},
   "outputs": [
    {
     "data": {
      "text/plain": [
       "1533"
      ]
     },
     "execution_count": 36,
     "metadata": {},
     "output_type": "execute_result"
    }
   ],
   "source": [
    "len(os.listdir(tmpfolder))"
   ]
  },
  {
   "cell_type": "code",
   "execution_count": 38,
   "metadata": {},
   "outputs": [],
   "source": [
    "vmin = phase_min\n",
    "vmax = phase_max\n",
    "\n",
    "for index in np.arange(1532, nframes): #range(nframes): #np.arange(4343, nframes)): # range(nframes)\n",
    "\n",
    "    imagename = tmpfolder + \"/file\"+str(index).zfill(nframes_digits)+\".png\"\n",
    "\n",
    "    fig = pl.figure(figsize=(20, 10))\n",
    "    nr = len(roi_list)\n",
    "    nc = 2\n",
    "\n",
    "    nframes = stimulus_mov.shape[0]\n",
    "    axl = pl.subplot2grid((nr, nc), (0, 0), colspan=1, rowspan=1)\n",
    "    axl.imshow(stimulus_mov[index, :, :], cmap='gray')\n",
    "    axl.set_aspect(1/2)\n",
    "    axl.axis('off')\n",
    "\n",
    "    rspan = nr\n",
    "    ax0 = pl.subplot2grid((nr, nc), (1, 0), colspan=1, rowspan=nr-1)\n",
    "    ax0.imshow(denoised[index, :, :], cmap='gray')\n",
    "    ax0.imshow(mask_overlay, cmap='Spectral', vmin=vmin, vmax=vmax, alpha=0.4)\n",
    "    ax0.axis('off')\n",
    "\n",
    "\n",
    "    for ri, roi in enumerate(roi_list):\n",
    "        ax = plt.subplot2grid((nr, nc), (ri, 1), colspan=nc-1, rowspan=1)\n",
    "        ax.set_xlim([0, nframes])\n",
    "        ax.plot(traces[curr_cond][roi][0:index], color=roi_cdict[roi])\n",
    "        ax.set_xticks([])\n",
    "        ax.set_yticks([int(round(traces[curr_cond][roi].min())), int(round(traces[curr_cond][roi].max()))])\n",
    "        sns.despine(ax=ax, bottom=True, trim=True, offset=2)\n",
    "\n",
    "    pl.savefig(imagename)\n",
    "    pl.close(\"all\")"
   ]
  },
  {
   "cell_type": "code",
   "execution_count": 41,
   "metadata": {},
   "outputs": [],
   "source": [
    "import subprocess"
   ]
  },
  {
   "cell_type": "code",
   "execution_count": 43,
   "metadata": {},
   "outputs": [
    {
     "data": {
      "text/plain": [
       "44.6528"
      ]
     },
     "execution_count": 43,
     "metadata": {},
     "output_type": "execute_result"
    }
   ],
   "source": [
    "fr"
   ]
  },
  {
   "cell_type": "code",
   "execution_count": 51,
   "metadata": {},
   "outputs": [
    {
     "name": "stdout",
     "output_type": "stream",
     "text": [
      "All labeled frames were created, now generating video...\n"
     ]
    }
   ],
   "source": [
    "delete = False\n",
    "outputframerate = 120.\n",
    "videooutname = os.path.join(output_dir, 'experiment_movie_%s_%icells.mp4' % (curr_cond, len(roi_list)))\n",
    "\n",
    "\n",
    "# #### Save movie\n",
    "\n",
    "start= os.getcwd()\n",
    "os.chdir(tmpfolder)\n",
    "print(\"All labeled frames were created, now generating video...\")\n",
    "## One can change the parameters of the video creation script below:\n",
    "# See ffmpeg user guide: http://ffmpeg.org/ffmpeg.html#Video-and-Audio-file-format-conversion\n",
    "# \n",
    "try: \n",
    "    subprocess.call([\n",
    "        'ffmpeg', '-framerate', \n",
    "        str(fr), '-i', 'file%0'+str(nframes_digits)+'d.png', '-r', str(outputframerate), videooutname])\n",
    "except FileNotFoundError:\n",
    "    print(\"Ffmpeg not correctly installed, see https://github.com/AlexEMG/DeepLabCut/issues/45\")\n",
    "\n",
    "if delete:\n",
    "    for file_name in glob.glob(\"*.png\"):\n",
    "        os.remove(file_name)\n",
    "os.chdir(start)"
   ]
  },
  {
   "cell_type": "code",
   "execution_count": 48,
   "metadata": {},
   "outputs": [
    {
     "data": {
      "text/plain": [
       "'/net/coxfs01/srv/export/coxfs01/share_root/2p-data/JC084/20190522/FOV1_zoom2p0x/retino_run2/caiman_results/visualization/tmp-frames'"
      ]
     },
     "execution_count": 48,
     "metadata": {},
     "output_type": "execute_result"
    }
   ],
   "source": [
    "start"
   ]
  },
  {
   "cell_type": "code",
   "execution_count": 50,
   "metadata": {},
   "outputs": [
    {
     "data": {
      "text/plain": [
       "'/n/coxfs01/2p-data/JC084/20190522/FOV1_zoom2p0x/retino_run2/caiman_results/visualization/experiment_movie_left_6cells.mp4'"
      ]
     },
     "execution_count": 50,
     "metadata": {},
     "output_type": "execute_result"
    }
   ],
   "source": [
    "videooutname"
   ]
  },
  {
   "cell_type": "code",
   "execution_count": null,
   "metadata": {},
   "outputs": [],
   "source": []
  },
  {
   "cell_type": "code",
   "execution_count": null,
   "metadata": {},
   "outputs": [],
   "source": [
    "\n",
    "    fig, ax = pl.subplots(figsize=figsize)\n",
    "    #offset = 200\n",
    "    last_y = 0\n",
    "    for ri,rid in enumerate(sorted_list):\n",
    "        cval = scalarmap.to_rgba(hue_values[rid])\n",
    "        im = ax.plot(avg_traces[rid] + last_y, color=cval, lw=1, alpha=0.8)\n",
    "        last_y = avg_traces[rid].mean() + ri*offset\n",
    "\n",
    "    for cyc in stimlines:\n",
    "        ax.axvline(x=cyc, color='k', linestyle=':', lw=0.75, alpha=0.5)\n",
    "\n",
    "    sns.despine(trim=True, offset=8, left=True, bottom=True)\n",
    "    if label_rois:\n",
    "        ax.set_yticks([ri*offset + avg_traces[rid].mean() for ri,rid in enumerate(sorted_list)])\n",
    "        ax.set_yticklabels([rid for rid in sorted_list])\n",
    "    else:\n",
    "        ax.set_yticks([])\n",
    "        ax.set_yticklabels([])\n",
    "    ax.set_xticks([])\n",
    "    ax.set_xticklabels([])\n",
    "\n",
    "    pl.subplots_adjust(left=0.01, top=0.9, right=0.85)\n"
   ]
  },
  {
   "cell_type": "code",
   "execution_count": null,
   "metadata": {},
   "outputs": [],
   "source": []
  },
  {
   "cell_type": "code",
   "execution_count": null,
   "metadata": {},
   "outputs": [],
   "source": []
  }
 ],
 "metadata": {
  "kernelspec": {
   "display_name": "Python 3",
   "language": "python",
   "name": "python3"
  },
  "language_info": {
   "codemirror_mode": {
    "name": "ipython",
    "version": 3
   },
   "file_extension": ".py",
   "mimetype": "text/x-python",
   "name": "python",
   "nbconvert_exporter": "python",
   "pygments_lexer": "ipython3",
   "version": "3.6.7"
  }
 },
 "nbformat": 4,
 "nbformat_minor": 2
}
