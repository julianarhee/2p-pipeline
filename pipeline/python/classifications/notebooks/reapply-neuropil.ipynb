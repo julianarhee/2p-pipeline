{
 "cells": [
  {
   "cell_type": "code",
   "execution_count": null,
   "metadata": {
    "collapsed": true
   },
   "outputs": [],
   "source": []
  },
  {
   "cell_type": "markdown",
   "metadata": {},
   "source": [
    "#### Load warped ROI masks and only re-create NEUROPIL mask"
   ]
  },
  {
   "cell_type": "code",
   "execution_count": null,
   "metadata": {
    "collapsed": true
   },
   "outputs": [],
   "source": [
    "maskinfo = get_mask_info(TID, RID, nslices=nslices, rootdir=rootdir)\n",
    "maskdict_path = os.path.join(TID['DST'], 'MASKS.hdf5')"
   ]
  },
  {
   "cell_type": "code",
   "execution_count": null,
   "metadata": {
    "collapsed": true
   },
   "outputs": [],
   "source": [
    "# mask_write_path = os.path.join(TID['DST'], 'MASKS.hdf5') -- this is 'maskdict_path'\n",
    "\n",
    "maskdict_path = get_masks(maskdict_path, maskinfo, RID,\n",
    "                                  save_warp_images=False,\n",
    "                                  do_neuropil_correction=True,\n",
    "                                  niter=niter,\n",
    "                                  rootdir=rootdir)"
   ]
  },
  {
   "cell_type": "code",
   "execution_count": null,
   "metadata": {
    "collapsed": true
   },
   "outputs": [],
   "source": [
    "\n",
    "# 'mask_arr' is output of masks_to_normed_array(masks_aligned) \n",
    "# --- original shape of masks_aligned is:  Assumes masks.shape = (d1, d2, nrois)\n",
    "# --- normalizes and reshapes to : np.reshape(masks[:,:,r], (d,), order='C'), where d=d1*d2\n",
    "\n",
    "# 'mask_arr' is saved in h5:   filegrp[curr_slice]['maskarray']\n",
    "# 'np_maskarray' is saved in h5:   filegrp[curr_slice]['np_maskarray']\n",
    "\n",
    "# MASKS = h5py.File(mask_write_path, 'w')\n",
    "# MASKS.attrs['source_file'] = maskinfo['filepath']\n",
    "# MASKS.attrs['roi_id'] = str(RID['roi_id'])\n",
    "# MASKS.attrs['rid_hash'] = str(RID['rid_hash'])\n",
    "# MASKS.attrs['roi_type'] = str(RID['roi_type'])\n",
    "\n",
    "# try:\n",
    "#     maskfile = h5py.File(str(maskinfo['filepath']), 'r')\n",
    "#     for fidx, curr_file in enumerate(maskinfo['filenames']):\n",
    "#         if curr_file not in MASKS.keys():\n",
    "#             filegrp = MASKS.create_group(curr_file)\n",
    "#         else:\n",
    "#             filegrp = MASKS[curr_file]\n",
    "#         # DO THE SHIT\n",
    "#\n",
    "# except Exception as e:\n",
    "#     print \"------------------------------------------\"\n",
    "#     print \"*** ERROR creating masks: %s, %s ***\" % (curr_file, curr_slice)\n",
    "#     traceback.print_exc()\n",
    "#     print \"------------------------------------------\"\n",
    "\n",
    "# finally:\n",
    "#     MASKS.close()\n",
    "#     maskfile.close()\n",
    "\n",
    "\n",
    "# Check if should create neuropil masks:\n",
    "if do_neuropil_correction:\n",
    "    np_masks = create_neuropil_masks(masks_aligned, niterations=niter)\n",
    "    npil_arr = masks_to_normed_array(np_masks)\n",
    "    npil = filegrp.create_dataset('/'.join([curr_slice, 'np_maskarray']), npil_arr.shape, npil_arr.dtype)\n",
    "    npil[...] = npil_arr\n",
    "    npil.attrs['niterations'] = niter"
   ]
  },
  {
   "cell_type": "markdown",
   "metadata": {},
   "source": [
    "#### Apply new NP mask to extract traces"
   ]
  },
  {
   "cell_type": "code",
   "execution_count": null,
   "metadata": {
    "collapsed": true
   },
   "outputs": [],
   "source": [
    "filetraces_dir = os.path.join(TID['DST'], 'files')"
   ]
  },
  {
   "cell_type": "code",
   "execution_count": null,
   "metadata": {
    "collapsed": true
   },
   "outputs": [],
   "source": [
    "print \"--- Using SUBTRACTION method, (global) correction-factor: \", np_correction_factor\n",
    "filetraces_dir = append_neuropil_subtraction(maskdict_path,\n",
    "                                             np_correction_factor,\n",
    "                                             filetraces_dir,\n",
    "                                             create_new=create_new,\n",
    "                                             rootdir=rootdir)"
   ]
  }
 ],
 "metadata": {
  "kernelspec": {
   "display_name": "Python 2",
   "language": "python",
   "name": "python2"
  },
  "language_info": {
   "codemirror_mode": {
    "name": "ipython",
    "version": 2
   },
   "file_extension": ".py",
   "mimetype": "text/x-python",
   "name": "python",
   "nbconvert_exporter": "python",
   "pygments_lexer": "ipython2",
   "version": "2.7.13"
  }
 },
 "nbformat": 4,
 "nbformat_minor": 2
}
