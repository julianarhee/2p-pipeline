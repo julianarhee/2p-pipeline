{
 "cells": [
  {
   "cell_type": "code",
   "execution_count": 1,
   "metadata": {},
   "outputs": [
    {
     "name": "stderr",
     "output_type": "stream",
     "text": [
      "/home/julianarhee/Repositories/2p-pipeline/pipeline/python/retinotopy/do_retinotopy_analysis.py:3: UserWarning: \n",
      "This call to matplotlib.use() has no effect because the backend has already\n",
      "been chosen; matplotlib.use() must be called *before* pylab, matplotlib.pyplot,\n",
      "or matplotlib.backends is imported for the first time.\n",
      "\n",
      "The backend was *originally* set to 'module://ipykernel.pylab.backend_inline' by the following code:\n",
      "  File \"/home/julianarhee/anaconda2/envs/pipeline/lib/python2.7/runpy.py\", line 174, in _run_module_as_main\n",
      "    \"__main__\", fname, loader, pkg_name)\n",
      "  File \"/home/julianarhee/anaconda2/envs/pipeline/lib/python2.7/runpy.py\", line 72, in _run_code\n",
      "    exec code in run_globals\n",
      "  File \"/home/julianarhee/anaconda2/envs/pipeline/lib/python2.7/site-packages/ipykernel_launcher.py\", line 16, in <module>\n",
      "    app.launch_new_instance()\n",
      "  File \"/home/julianarhee/anaconda2/envs/pipeline/lib/python2.7/site-packages/traitlets/config/application.py\", line 658, in launch_instance\n",
      "    app.start()\n",
      "  File \"/home/julianarhee/anaconda2/envs/pipeline/lib/python2.7/site-packages/ipykernel/kernelapp.py\", line 477, in start\n",
      "    ioloop.IOLoop.instance().start()\n",
      "  File \"/home/julianarhee/anaconda2/envs/pipeline/lib/python2.7/site-packages/zmq/eventloop/ioloop.py\", line 177, in start\n",
      "    super(ZMQIOLoop, self).start()\n",
      "  File \"/home/julianarhee/anaconda2/envs/pipeline/lib/python2.7/site-packages/tornado/ioloop.py\", line 888, in start\n",
      "    handler_func(fd_obj, events)\n",
      "  File \"/home/julianarhee/anaconda2/envs/pipeline/lib/python2.7/site-packages/tornado/stack_context.py\", line 277, in null_wrapper\n",
      "    return fn(*args, **kwargs)\n",
      "  File \"/home/julianarhee/anaconda2/envs/pipeline/lib/python2.7/site-packages/zmq/eventloop/zmqstream.py\", line 440, in _handle_events\n",
      "    self._handle_recv()\n",
      "  File \"/home/julianarhee/anaconda2/envs/pipeline/lib/python2.7/site-packages/zmq/eventloop/zmqstream.py\", line 472, in _handle_recv\n",
      "    self._run_callback(callback, msg)\n",
      "  File \"/home/julianarhee/anaconda2/envs/pipeline/lib/python2.7/site-packages/zmq/eventloop/zmqstream.py\", line 414, in _run_callback\n",
      "    callback(*args, **kwargs)\n",
      "  File \"/home/julianarhee/anaconda2/envs/pipeline/lib/python2.7/site-packages/tornado/stack_context.py\", line 277, in null_wrapper\n",
      "    return fn(*args, **kwargs)\n",
      "  File \"/home/julianarhee/anaconda2/envs/pipeline/lib/python2.7/site-packages/ipykernel/kernelbase.py\", line 283, in dispatcher\n",
      "    return self.dispatch_shell(stream, msg)\n",
      "  File \"/home/julianarhee/anaconda2/envs/pipeline/lib/python2.7/site-packages/ipykernel/kernelbase.py\", line 235, in dispatch_shell\n",
      "    handler(stream, idents, msg)\n",
      "  File \"/home/julianarhee/anaconda2/envs/pipeline/lib/python2.7/site-packages/ipykernel/kernelbase.py\", line 399, in execute_request\n",
      "    user_expressions, allow_stdin)\n",
      "  File \"/home/julianarhee/anaconda2/envs/pipeline/lib/python2.7/site-packages/ipykernel/ipkernel.py\", line 196, in do_execute\n",
      "    res = shell.run_cell(code, store_history=store_history, silent=silent)\n",
      "  File \"/home/julianarhee/anaconda2/envs/pipeline/lib/python2.7/site-packages/ipykernel/zmqshell.py\", line 533, in run_cell\n",
      "    return super(ZMQInteractiveShell, self).run_cell(*args, **kwargs)\n",
      "  File \"/home/julianarhee/anaconda2/envs/pipeline/lib/python2.7/site-packages/IPython/core/interactiveshell.py\", line 2717, in run_cell\n",
      "    interactivity=interactivity, compiler=compiler, result=result)\n",
      "  File \"/home/julianarhee/anaconda2/envs/pipeline/lib/python2.7/site-packages/IPython/core/interactiveshell.py\", line 2821, in run_ast_nodes\n",
      "    if self.run_code(code, result):\n",
      "  File \"/home/julianarhee/anaconda2/envs/pipeline/lib/python2.7/site-packages/IPython/core/interactiveshell.py\", line 2881, in run_code\n",
      "    exec(code_obj, self.user_global_ns, self.user_ns)\n",
      "  File \"<ipython-input-1-dadb56134ead>\", line 6, in <module>\n",
      "    import pylab as pl\n",
      "  File \"/home/julianarhee/anaconda2/envs/pipeline/lib/python2.7/site-packages/pylab.py\", line 1, in <module>\n",
      "    from matplotlib.pylab import *\n",
      "  File \"/home/julianarhee/anaconda2/envs/pipeline/lib/python2.7/site-packages/matplotlib/pylab.py\", line 257, in <module>\n",
      "    from matplotlib import cbook, mlab, pyplot as plt\n",
      "  File \"/home/julianarhee/anaconda2/envs/pipeline/lib/python2.7/site-packages/matplotlib/pyplot.py\", line 69, in <module>\n",
      "    from matplotlib.backends import pylab_setup\n",
      "  File \"/home/julianarhee/anaconda2/envs/pipeline/lib/python2.7/site-packages/matplotlib/backends/__init__.py\", line 14, in <module>\n",
      "    line for line in traceback.format_stack()\n",
      "\n",
      "\n",
      "  matplotlib.use('Agg')\n",
      "/home/julianarhee/Repositories/2p-pipeline/pipeline/python/traces/get_traces.py:96: UserWarning: \n",
      "This call to matplotlib.use() has no effect because the backend has already\n",
      "been chosen; matplotlib.use() must be called *before* pylab, matplotlib.pyplot,\n",
      "or matplotlib.backends is imported for the first time.\n",
      "\n",
      "The backend was *originally* set to 'module://ipykernel.pylab.backend_inline' by the following code:\n",
      "  File \"/home/julianarhee/anaconda2/envs/pipeline/lib/python2.7/runpy.py\", line 174, in _run_module_as_main\n",
      "    \"__main__\", fname, loader, pkg_name)\n",
      "  File \"/home/julianarhee/anaconda2/envs/pipeline/lib/python2.7/runpy.py\", line 72, in _run_code\n",
      "    exec code in run_globals\n",
      "  File \"/home/julianarhee/anaconda2/envs/pipeline/lib/python2.7/site-packages/ipykernel_launcher.py\", line 16, in <module>\n",
      "    app.launch_new_instance()\n",
      "  File \"/home/julianarhee/anaconda2/envs/pipeline/lib/python2.7/site-packages/traitlets/config/application.py\", line 658, in launch_instance\n",
      "    app.start()\n",
      "  File \"/home/julianarhee/anaconda2/envs/pipeline/lib/python2.7/site-packages/ipykernel/kernelapp.py\", line 477, in start\n",
      "    ioloop.IOLoop.instance().start()\n",
      "  File \"/home/julianarhee/anaconda2/envs/pipeline/lib/python2.7/site-packages/zmq/eventloop/ioloop.py\", line 177, in start\n",
      "    super(ZMQIOLoop, self).start()\n",
      "  File \"/home/julianarhee/anaconda2/envs/pipeline/lib/python2.7/site-packages/tornado/ioloop.py\", line 888, in start\n",
      "    handler_func(fd_obj, events)\n",
      "  File \"/home/julianarhee/anaconda2/envs/pipeline/lib/python2.7/site-packages/tornado/stack_context.py\", line 277, in null_wrapper\n",
      "    return fn(*args, **kwargs)\n",
      "  File \"/home/julianarhee/anaconda2/envs/pipeline/lib/python2.7/site-packages/zmq/eventloop/zmqstream.py\", line 440, in _handle_events\n",
      "    self._handle_recv()\n",
      "  File \"/home/julianarhee/anaconda2/envs/pipeline/lib/python2.7/site-packages/zmq/eventloop/zmqstream.py\", line 472, in _handle_recv\n",
      "    self._run_callback(callback, msg)\n",
      "  File \"/home/julianarhee/anaconda2/envs/pipeline/lib/python2.7/site-packages/zmq/eventloop/zmqstream.py\", line 414, in _run_callback\n",
      "    callback(*args, **kwargs)\n",
      "  File \"/home/julianarhee/anaconda2/envs/pipeline/lib/python2.7/site-packages/tornado/stack_context.py\", line 277, in null_wrapper\n",
      "    return fn(*args, **kwargs)\n",
      "  File \"/home/julianarhee/anaconda2/envs/pipeline/lib/python2.7/site-packages/ipykernel/kernelbase.py\", line 283, in dispatcher\n",
      "    return self.dispatch_shell(stream, msg)\n",
      "  File \"/home/julianarhee/anaconda2/envs/pipeline/lib/python2.7/site-packages/ipykernel/kernelbase.py\", line 235, in dispatch_shell\n",
      "    handler(stream, idents, msg)\n",
      "  File \"/home/julianarhee/anaconda2/envs/pipeline/lib/python2.7/site-packages/ipykernel/kernelbase.py\", line 399, in execute_request\n",
      "    user_expressions, allow_stdin)\n",
      "  File \"/home/julianarhee/anaconda2/envs/pipeline/lib/python2.7/site-packages/ipykernel/ipkernel.py\", line 196, in do_execute\n",
      "    res = shell.run_cell(code, store_history=store_history, silent=silent)\n",
      "  File \"/home/julianarhee/anaconda2/envs/pipeline/lib/python2.7/site-packages/ipykernel/zmqshell.py\", line 533, in run_cell\n",
      "    return super(ZMQInteractiveShell, self).run_cell(*args, **kwargs)\n",
      "  File \"/home/julianarhee/anaconda2/envs/pipeline/lib/python2.7/site-packages/IPython/core/interactiveshell.py\", line 2717, in run_cell\n",
      "    interactivity=interactivity, compiler=compiler, result=result)\n",
      "  File \"/home/julianarhee/anaconda2/envs/pipeline/lib/python2.7/site-packages/IPython/core/interactiveshell.py\", line 2821, in run_ast_nodes\n",
      "    if self.run_code(code, result):\n",
      "  File \"/home/julianarhee/anaconda2/envs/pipeline/lib/python2.7/site-packages/IPython/core/interactiveshell.py\", line 2881, in run_code\n",
      "    exec(code_obj, self.user_global_ns, self.user_ns)\n",
      "  File \"<ipython-input-1-dadb56134ead>\", line 6, in <module>\n",
      "    import pylab as pl\n",
      "  File \"/home/julianarhee/anaconda2/envs/pipeline/lib/python2.7/site-packages/pylab.py\", line 1, in <module>\n",
      "    from matplotlib.pylab import *\n",
      "  File \"/home/julianarhee/anaconda2/envs/pipeline/lib/python2.7/site-packages/matplotlib/pylab.py\", line 257, in <module>\n",
      "    from matplotlib import cbook, mlab, pyplot as plt\n",
      "  File \"/home/julianarhee/anaconda2/envs/pipeline/lib/python2.7/site-packages/matplotlib/pyplot.py\", line 69, in <module>\n",
      "    from matplotlib.backends import pylab_setup\n",
      "  File \"/home/julianarhee/anaconda2/envs/pipeline/lib/python2.7/site-packages/matplotlib/backends/__init__.py\", line 14, in <module>\n",
      "    line for line in traceback.format_stack()\n",
      "\n",
      "\n",
      "  matplotlib.use('Agg')\n"
     ]
    },
    {
     "name": "stderr",
     "output_type": "stream",
     "text": [
      "/home/julianarhee/Repositories/2p-pipeline/pipeline/python/rois/utils.py:9: UserWarning: \n",
      "This call to matplotlib.use() has no effect because the backend has already\n",
      "been chosen; matplotlib.use() must be called *before* pylab, matplotlib.pyplot,\n",
      "or matplotlib.backends is imported for the first time.\n",
      "\n",
      "The backend was *originally* set to 'module://ipykernel.pylab.backend_inline' by the following code:\n",
      "  File \"/home/julianarhee/anaconda2/envs/pipeline/lib/python2.7/runpy.py\", line 174, in _run_module_as_main\n",
      "    \"__main__\", fname, loader, pkg_name)\n",
      "  File \"/home/julianarhee/anaconda2/envs/pipeline/lib/python2.7/runpy.py\", line 72, in _run_code\n",
      "    exec code in run_globals\n",
      "  File \"/home/julianarhee/anaconda2/envs/pipeline/lib/python2.7/site-packages/ipykernel_launcher.py\", line 16, in <module>\n",
      "    app.launch_new_instance()\n",
      "  File \"/home/julianarhee/anaconda2/envs/pipeline/lib/python2.7/site-packages/traitlets/config/application.py\", line 658, in launch_instance\n",
      "    app.start()\n",
      "  File \"/home/julianarhee/anaconda2/envs/pipeline/lib/python2.7/site-packages/ipykernel/kernelapp.py\", line 477, in start\n",
      "    ioloop.IOLoop.instance().start()\n",
      "  File \"/home/julianarhee/anaconda2/envs/pipeline/lib/python2.7/site-packages/zmq/eventloop/ioloop.py\", line 177, in start\n",
      "    super(ZMQIOLoop, self).start()\n",
      "  File \"/home/julianarhee/anaconda2/envs/pipeline/lib/python2.7/site-packages/tornado/ioloop.py\", line 888, in start\n",
      "    handler_func(fd_obj, events)\n",
      "  File \"/home/julianarhee/anaconda2/envs/pipeline/lib/python2.7/site-packages/tornado/stack_context.py\", line 277, in null_wrapper\n",
      "    return fn(*args, **kwargs)\n",
      "  File \"/home/julianarhee/anaconda2/envs/pipeline/lib/python2.7/site-packages/zmq/eventloop/zmqstream.py\", line 440, in _handle_events\n",
      "    self._handle_recv()\n",
      "  File \"/home/julianarhee/anaconda2/envs/pipeline/lib/python2.7/site-packages/zmq/eventloop/zmqstream.py\", line 472, in _handle_recv\n",
      "    self._run_callback(callback, msg)\n",
      "  File \"/home/julianarhee/anaconda2/envs/pipeline/lib/python2.7/site-packages/zmq/eventloop/zmqstream.py\", line 414, in _run_callback\n",
      "    callback(*args, **kwargs)\n",
      "  File \"/home/julianarhee/anaconda2/envs/pipeline/lib/python2.7/site-packages/tornado/stack_context.py\", line 277, in null_wrapper\n",
      "    return fn(*args, **kwargs)\n",
      "  File \"/home/julianarhee/anaconda2/envs/pipeline/lib/python2.7/site-packages/ipykernel/kernelbase.py\", line 283, in dispatcher\n",
      "    return self.dispatch_shell(stream, msg)\n",
      "  File \"/home/julianarhee/anaconda2/envs/pipeline/lib/python2.7/site-packages/ipykernel/kernelbase.py\", line 235, in dispatch_shell\n",
      "    handler(stream, idents, msg)\n",
      "  File \"/home/julianarhee/anaconda2/envs/pipeline/lib/python2.7/site-packages/ipykernel/kernelbase.py\", line 399, in execute_request\n",
      "    user_expressions, allow_stdin)\n",
      "  File \"/home/julianarhee/anaconda2/envs/pipeline/lib/python2.7/site-packages/ipykernel/ipkernel.py\", line 196, in do_execute\n",
      "    res = shell.run_cell(code, store_history=store_history, silent=silent)\n",
      "  File \"/home/julianarhee/anaconda2/envs/pipeline/lib/python2.7/site-packages/ipykernel/zmqshell.py\", line 533, in run_cell\n",
      "    return super(ZMQInteractiveShell, self).run_cell(*args, **kwargs)\n",
      "  File \"/home/julianarhee/anaconda2/envs/pipeline/lib/python2.7/site-packages/IPython/core/interactiveshell.py\", line 2717, in run_cell\n",
      "    interactivity=interactivity, compiler=compiler, result=result)\n",
      "  File \"/home/julianarhee/anaconda2/envs/pipeline/lib/python2.7/site-packages/IPython/core/interactiveshell.py\", line 2821, in run_ast_nodes\n",
      "    if self.run_code(code, result):\n",
      "  File \"/home/julianarhee/anaconda2/envs/pipeline/lib/python2.7/site-packages/IPython/core/interactiveshell.py\", line 2881, in run_code\n",
      "    exec(code_obj, self.user_global_ns, self.user_ns)\n",
      "  File \"<ipython-input-1-dadb56134ead>\", line 6, in <module>\n",
      "    import pylab as pl\n",
      "  File \"/home/julianarhee/anaconda2/envs/pipeline/lib/python2.7/site-packages/pylab.py\", line 1, in <module>\n",
      "    from matplotlib.pylab import *\n",
      "  File \"/home/julianarhee/anaconda2/envs/pipeline/lib/python2.7/site-packages/matplotlib/pylab.py\", line 257, in <module>\n",
      "    from matplotlib import cbook, mlab, pyplot as plt\n",
      "  File \"/home/julianarhee/anaconda2/envs/pipeline/lib/python2.7/site-packages/matplotlib/pyplot.py\", line 69, in <module>\n",
      "    from matplotlib.backends import pylab_setup\n",
      "  File \"/home/julianarhee/anaconda2/envs/pipeline/lib/python2.7/site-packages/matplotlib/backends/__init__.py\", line 14, in <module>\n",
      "    line for line in traceback.format_stack()\n",
      "\n",
      "\n",
      "  matplotlib.use('Agg')\n",
      "/home/julianarhee/Repositories/2p-pipeline/pipeline/python/paradigm/align_acquisition_events.py:72: UserWarning: \n",
      "This call to matplotlib.use() has no effect because the backend has already\n",
      "been chosen; matplotlib.use() must be called *before* pylab, matplotlib.pyplot,\n",
      "or matplotlib.backends is imported for the first time.\n",
      "\n",
      "The backend was *originally* set to 'module://ipykernel.pylab.backend_inline' by the following code:\n",
      "  File \"/home/julianarhee/anaconda2/envs/pipeline/lib/python2.7/runpy.py\", line 174, in _run_module_as_main\n",
      "    \"__main__\", fname, loader, pkg_name)\n",
      "  File \"/home/julianarhee/anaconda2/envs/pipeline/lib/python2.7/runpy.py\", line 72, in _run_code\n",
      "    exec code in run_globals\n",
      "  File \"/home/julianarhee/anaconda2/envs/pipeline/lib/python2.7/site-packages/ipykernel_launcher.py\", line 16, in <module>\n",
      "    app.launch_new_instance()\n",
      "  File \"/home/julianarhee/anaconda2/envs/pipeline/lib/python2.7/site-packages/traitlets/config/application.py\", line 658, in launch_instance\n",
      "    app.start()\n",
      "  File \"/home/julianarhee/anaconda2/envs/pipeline/lib/python2.7/site-packages/ipykernel/kernelapp.py\", line 477, in start\n",
      "    ioloop.IOLoop.instance().start()\n",
      "  File \"/home/julianarhee/anaconda2/envs/pipeline/lib/python2.7/site-packages/zmq/eventloop/ioloop.py\", line 177, in start\n",
      "    super(ZMQIOLoop, self).start()\n",
      "  File \"/home/julianarhee/anaconda2/envs/pipeline/lib/python2.7/site-packages/tornado/ioloop.py\", line 888, in start\n",
      "    handler_func(fd_obj, events)\n",
      "  File \"/home/julianarhee/anaconda2/envs/pipeline/lib/python2.7/site-packages/tornado/stack_context.py\", line 277, in null_wrapper\n",
      "    return fn(*args, **kwargs)\n",
      "  File \"/home/julianarhee/anaconda2/envs/pipeline/lib/python2.7/site-packages/zmq/eventloop/zmqstream.py\", line 440, in _handle_events\n",
      "    self._handle_recv()\n",
      "  File \"/home/julianarhee/anaconda2/envs/pipeline/lib/python2.7/site-packages/zmq/eventloop/zmqstream.py\", line 472, in _handle_recv\n",
      "    self._run_callback(callback, msg)\n",
      "  File \"/home/julianarhee/anaconda2/envs/pipeline/lib/python2.7/site-packages/zmq/eventloop/zmqstream.py\", line 414, in _run_callback\n",
      "    callback(*args, **kwargs)\n",
      "  File \"/home/julianarhee/anaconda2/envs/pipeline/lib/python2.7/site-packages/tornado/stack_context.py\", line 277, in null_wrapper\n",
      "    return fn(*args, **kwargs)\n",
      "  File \"/home/julianarhee/anaconda2/envs/pipeline/lib/python2.7/site-packages/ipykernel/kernelbase.py\", line 283, in dispatcher\n",
      "    return self.dispatch_shell(stream, msg)\n",
      "  File \"/home/julianarhee/anaconda2/envs/pipeline/lib/python2.7/site-packages/ipykernel/kernelbase.py\", line 235, in dispatch_shell\n",
      "    handler(stream, idents, msg)\n",
      "  File \"/home/julianarhee/anaconda2/envs/pipeline/lib/python2.7/site-packages/ipykernel/kernelbase.py\", line 399, in execute_request\n",
      "    user_expressions, allow_stdin)\n",
      "  File \"/home/julianarhee/anaconda2/envs/pipeline/lib/python2.7/site-packages/ipykernel/ipkernel.py\", line 196, in do_execute\n",
      "    res = shell.run_cell(code, store_history=store_history, silent=silent)\n",
      "  File \"/home/julianarhee/anaconda2/envs/pipeline/lib/python2.7/site-packages/ipykernel/zmqshell.py\", line 533, in run_cell\n",
      "    return super(ZMQInteractiveShell, self).run_cell(*args, **kwargs)\n",
      "  File \"/home/julianarhee/anaconda2/envs/pipeline/lib/python2.7/site-packages/IPython/core/interactiveshell.py\", line 2717, in run_cell\n",
      "    interactivity=interactivity, compiler=compiler, result=result)\n",
      "  File \"/home/julianarhee/anaconda2/envs/pipeline/lib/python2.7/site-packages/IPython/core/interactiveshell.py\", line 2821, in run_ast_nodes\n",
      "    if self.run_code(code, result):\n",
      "  File \"/home/julianarhee/anaconda2/envs/pipeline/lib/python2.7/site-packages/IPython/core/interactiveshell.py\", line 2881, in run_code\n",
      "    exec(code_obj, self.user_global_ns, self.user_ns)\n",
      "  File \"<ipython-input-1-dadb56134ead>\", line 6, in <module>\n",
      "    import pylab as pl\n",
      "  File \"/home/julianarhee/anaconda2/envs/pipeline/lib/python2.7/site-packages/pylab.py\", line 1, in <module>\n",
      "    from matplotlib.pylab import *\n",
      "  File \"/home/julianarhee/anaconda2/envs/pipeline/lib/python2.7/site-packages/matplotlib/pylab.py\", line 257, in <module>\n",
      "    from matplotlib import cbook, mlab, pyplot as plt\n",
      "  File \"/home/julianarhee/anaconda2/envs/pipeline/lib/python2.7/site-packages/matplotlib/pyplot.py\", line 69, in <module>\n",
      "    from matplotlib.backends import pylab_setup\n",
      "  File \"/home/julianarhee/anaconda2/envs/pipeline/lib/python2.7/site-packages/matplotlib/backends/__init__.py\", line 14, in <module>\n",
      "    line for line in traceback.format_stack()\n",
      "\n",
      "\n",
      "  matplotlib.use('Agg')\n",
      "/home/julianarhee/Repositories/2p-pipeline/pipeline/python/paradigm/tifs_to_data_arrays.py:9: UserWarning: \n",
      "This call to matplotlib.use() has no effect because the backend has already\n",
      "been chosen; matplotlib.use() must be called *before* pylab, matplotlib.pyplot,\n",
      "or matplotlib.backends is imported for the first time.\n",
      "\n",
      "The backend was *originally* set to 'module://ipykernel.pylab.backend_inline' by the following code:\n",
      "  File \"/home/julianarhee/anaconda2/envs/pipeline/lib/python2.7/runpy.py\", line 174, in _run_module_as_main\n",
      "    \"__main__\", fname, loader, pkg_name)\n",
      "  File \"/home/julianarhee/anaconda2/envs/pipeline/lib/python2.7/runpy.py\", line 72, in _run_code\n",
      "    exec code in run_globals\n",
      "  File \"/home/julianarhee/anaconda2/envs/pipeline/lib/python2.7/site-packages/ipykernel_launcher.py\", line 16, in <module>\n",
      "    app.launch_new_instance()\n",
      "  File \"/home/julianarhee/anaconda2/envs/pipeline/lib/python2.7/site-packages/traitlets/config/application.py\", line 658, in launch_instance\n",
      "    app.start()\n",
      "  File \"/home/julianarhee/anaconda2/envs/pipeline/lib/python2.7/site-packages/ipykernel/kernelapp.py\", line 477, in start\n",
      "    ioloop.IOLoop.instance().start()\n",
      "  File \"/home/julianarhee/anaconda2/envs/pipeline/lib/python2.7/site-packages/zmq/eventloop/ioloop.py\", line 177, in start\n",
      "    super(ZMQIOLoop, self).start()\n",
      "  File \"/home/julianarhee/anaconda2/envs/pipeline/lib/python2.7/site-packages/tornado/ioloop.py\", line 888, in start\n",
      "    handler_func(fd_obj, events)\n",
      "  File \"/home/julianarhee/anaconda2/envs/pipeline/lib/python2.7/site-packages/tornado/stack_context.py\", line 277, in null_wrapper\n",
      "    return fn(*args, **kwargs)\n",
      "  File \"/home/julianarhee/anaconda2/envs/pipeline/lib/python2.7/site-packages/zmq/eventloop/zmqstream.py\", line 440, in _handle_events\n",
      "    self._handle_recv()\n",
      "  File \"/home/julianarhee/anaconda2/envs/pipeline/lib/python2.7/site-packages/zmq/eventloop/zmqstream.py\", line 472, in _handle_recv\n",
      "    self._run_callback(callback, msg)\n",
      "  File \"/home/julianarhee/anaconda2/envs/pipeline/lib/python2.7/site-packages/zmq/eventloop/zmqstream.py\", line 414, in _run_callback\n",
      "    callback(*args, **kwargs)\n",
      "  File \"/home/julianarhee/anaconda2/envs/pipeline/lib/python2.7/site-packages/tornado/stack_context.py\", line 277, in null_wrapper\n",
      "    return fn(*args, **kwargs)\n",
      "  File \"/home/julianarhee/anaconda2/envs/pipeline/lib/python2.7/site-packages/ipykernel/kernelbase.py\", line 283, in dispatcher\n",
      "    return self.dispatch_shell(stream, msg)\n",
      "  File \"/home/julianarhee/anaconda2/envs/pipeline/lib/python2.7/site-packages/ipykernel/kernelbase.py\", line 235, in dispatch_shell\n",
      "    handler(stream, idents, msg)\n",
      "  File \"/home/julianarhee/anaconda2/envs/pipeline/lib/python2.7/site-packages/ipykernel/kernelbase.py\", line 399, in execute_request\n",
      "    user_expressions, allow_stdin)\n",
      "  File \"/home/julianarhee/anaconda2/envs/pipeline/lib/python2.7/site-packages/ipykernel/ipkernel.py\", line 196, in do_execute\n",
      "    res = shell.run_cell(code, store_history=store_history, silent=silent)\n",
      "  File \"/home/julianarhee/anaconda2/envs/pipeline/lib/python2.7/site-packages/ipykernel/zmqshell.py\", line 533, in run_cell\n",
      "    return super(ZMQInteractiveShell, self).run_cell(*args, **kwargs)\n",
      "  File \"/home/julianarhee/anaconda2/envs/pipeline/lib/python2.7/site-packages/IPython/core/interactiveshell.py\", line 2717, in run_cell\n",
      "    interactivity=interactivity, compiler=compiler, result=result)\n",
      "  File \"/home/julianarhee/anaconda2/envs/pipeline/lib/python2.7/site-packages/IPython/core/interactiveshell.py\", line 2821, in run_ast_nodes\n",
      "    if self.run_code(code, result):\n",
      "  File \"/home/julianarhee/anaconda2/envs/pipeline/lib/python2.7/site-packages/IPython/core/interactiveshell.py\", line 2881, in run_code\n",
      "    exec(code_obj, self.user_global_ns, self.user_ns)\n",
      "  File \"<ipython-input-1-dadb56134ead>\", line 6, in <module>\n",
      "    import pylab as pl\n",
      "  File \"/home/julianarhee/anaconda2/envs/pipeline/lib/python2.7/site-packages/pylab.py\", line 1, in <module>\n",
      "    from matplotlib.pylab import *\n",
      "  File \"/home/julianarhee/anaconda2/envs/pipeline/lib/python2.7/site-packages/matplotlib/pylab.py\", line 257, in <module>\n",
      "    from matplotlib import cbook, mlab, pyplot as plt\n",
      "  File \"/home/julianarhee/anaconda2/envs/pipeline/lib/python2.7/site-packages/matplotlib/pyplot.py\", line 69, in <module>\n",
      "    from matplotlib.backends import pylab_setup\n",
      "  File \"/home/julianarhee/anaconda2/envs/pipeline/lib/python2.7/site-packages/matplotlib/backends/__init__.py\", line 14, in <module>\n",
      "    line for line in traceback.format_stack()\n",
      "\n",
      "\n",
      "  matplotlib.use('agg')\n",
      "/home/julianarhee/Repositories/2p-pipeline/pipeline/python/paradigm/plot_responses.py:11: UserWarning: \n",
      "This call to matplotlib.use() has no effect because the backend has already\n",
      "been chosen; matplotlib.use() must be called *before* pylab, matplotlib.pyplot,\n",
      "or matplotlib.backends is imported for the first time.\n",
      "\n",
      "The backend was *originally* set to 'module://ipykernel.pylab.backend_inline' by the following code:\n",
      "  File \"/home/julianarhee/anaconda2/envs/pipeline/lib/python2.7/runpy.py\", line 174, in _run_module_as_main\n",
      "    \"__main__\", fname, loader, pkg_name)\n",
      "  File \"/home/julianarhee/anaconda2/envs/pipeline/lib/python2.7/runpy.py\", line 72, in _run_code\n",
      "    exec code in run_globals\n",
      "  File \"/home/julianarhee/anaconda2/envs/pipeline/lib/python2.7/site-packages/ipykernel_launcher.py\", line 16, in <module>\n",
      "    app.launch_new_instance()\n",
      "  File \"/home/julianarhee/anaconda2/envs/pipeline/lib/python2.7/site-packages/traitlets/config/application.py\", line 658, in launch_instance\n",
      "    app.start()\n",
      "  File \"/home/julianarhee/anaconda2/envs/pipeline/lib/python2.7/site-packages/ipykernel/kernelapp.py\", line 477, in start\n",
      "    ioloop.IOLoop.instance().start()\n",
      "  File \"/home/julianarhee/anaconda2/envs/pipeline/lib/python2.7/site-packages/zmq/eventloop/ioloop.py\", line 177, in start\n",
      "    super(ZMQIOLoop, self).start()\n",
      "  File \"/home/julianarhee/anaconda2/envs/pipeline/lib/python2.7/site-packages/tornado/ioloop.py\", line 888, in start\n",
      "    handler_func(fd_obj, events)\n",
      "  File \"/home/julianarhee/anaconda2/envs/pipeline/lib/python2.7/site-packages/tornado/stack_context.py\", line 277, in null_wrapper\n",
      "    return fn(*args, **kwargs)\n",
      "  File \"/home/julianarhee/anaconda2/envs/pipeline/lib/python2.7/site-packages/zmq/eventloop/zmqstream.py\", line 440, in _handle_events\n",
      "    self._handle_recv()\n",
      "  File \"/home/julianarhee/anaconda2/envs/pipeline/lib/python2.7/site-packages/zmq/eventloop/zmqstream.py\", line 472, in _handle_recv\n",
      "    self._run_callback(callback, msg)\n",
      "  File \"/home/julianarhee/anaconda2/envs/pipeline/lib/python2.7/site-packages/zmq/eventloop/zmqstream.py\", line 414, in _run_callback\n",
      "    callback(*args, **kwargs)\n",
      "  File \"/home/julianarhee/anaconda2/envs/pipeline/lib/python2.7/site-packages/tornado/stack_context.py\", line 277, in null_wrapper\n",
      "    return fn(*args, **kwargs)\n",
      "  File \"/home/julianarhee/anaconda2/envs/pipeline/lib/python2.7/site-packages/ipykernel/kernelbase.py\", line 283, in dispatcher\n",
      "    return self.dispatch_shell(stream, msg)\n",
      "  File \"/home/julianarhee/anaconda2/envs/pipeline/lib/python2.7/site-packages/ipykernel/kernelbase.py\", line 235, in dispatch_shell\n",
      "    handler(stream, idents, msg)\n",
      "  File \"/home/julianarhee/anaconda2/envs/pipeline/lib/python2.7/site-packages/ipykernel/kernelbase.py\", line 399, in execute_request\n",
      "    user_expressions, allow_stdin)\n",
      "  File \"/home/julianarhee/anaconda2/envs/pipeline/lib/python2.7/site-packages/ipykernel/ipkernel.py\", line 196, in do_execute\n",
      "    res = shell.run_cell(code, store_history=store_history, silent=silent)\n",
      "  File \"/home/julianarhee/anaconda2/envs/pipeline/lib/python2.7/site-packages/ipykernel/zmqshell.py\", line 533, in run_cell\n",
      "    return super(ZMQInteractiveShell, self).run_cell(*args, **kwargs)\n",
      "  File \"/home/julianarhee/anaconda2/envs/pipeline/lib/python2.7/site-packages/IPython/core/interactiveshell.py\", line 2717, in run_cell\n",
      "    interactivity=interactivity, compiler=compiler, result=result)\n",
      "  File \"/home/julianarhee/anaconda2/envs/pipeline/lib/python2.7/site-packages/IPython/core/interactiveshell.py\", line 2821, in run_ast_nodes\n",
      "    if self.run_code(code, result):\n",
      "  File \"/home/julianarhee/anaconda2/envs/pipeline/lib/python2.7/site-packages/IPython/core/interactiveshell.py\", line 2881, in run_code\n",
      "    exec(code_obj, self.user_global_ns, self.user_ns)\n",
      "  File \"<ipython-input-1-dadb56134ead>\", line 6, in <module>\n",
      "    import pylab as pl\n",
      "  File \"/home/julianarhee/anaconda2/envs/pipeline/lib/python2.7/site-packages/pylab.py\", line 1, in <module>\n",
      "    from matplotlib.pylab import *\n",
      "  File \"/home/julianarhee/anaconda2/envs/pipeline/lib/python2.7/site-packages/matplotlib/pylab.py\", line 257, in <module>\n",
      "    from matplotlib import cbook, mlab, pyplot as plt\n",
      "  File \"/home/julianarhee/anaconda2/envs/pipeline/lib/python2.7/site-packages/matplotlib/pyplot.py\", line 69, in <module>\n",
      "    from matplotlib.backends import pylab_setup\n",
      "  File \"/home/julianarhee/anaconda2/envs/pipeline/lib/python2.7/site-packages/matplotlib/backends/__init__.py\", line 14, in <module>\n",
      "    line for line in traceback.format_stack()\n",
      "\n",
      "\n",
      "  mpl.use('agg')\n",
      "/home/julianarhee/Repositories/2p-pipeline/pipeline/python/traces/remake_neuropil_masks.py:19: UserWarning: \n",
      "This call to matplotlib.use() has no effect because the backend has already\n",
      "been chosen; matplotlib.use() must be called *before* pylab, matplotlib.pyplot,\n",
      "or matplotlib.backends is imported for the first time.\n",
      "\n",
      "The backend was *originally* set to 'module://ipykernel.pylab.backend_inline' by the following code:\n",
      "  File \"/home/julianarhee/anaconda2/envs/pipeline/lib/python2.7/runpy.py\", line 174, in _run_module_as_main\n",
      "    \"__main__\", fname, loader, pkg_name)\n",
      "  File \"/home/julianarhee/anaconda2/envs/pipeline/lib/python2.7/runpy.py\", line 72, in _run_code\n",
      "    exec code in run_globals\n",
      "  File \"/home/julianarhee/anaconda2/envs/pipeline/lib/python2.7/site-packages/ipykernel_launcher.py\", line 16, in <module>\n",
      "    app.launch_new_instance()\n",
      "  File \"/home/julianarhee/anaconda2/envs/pipeline/lib/python2.7/site-packages/traitlets/config/application.py\", line 658, in launch_instance\n",
      "    app.start()\n",
      "  File \"/home/julianarhee/anaconda2/envs/pipeline/lib/python2.7/site-packages/ipykernel/kernelapp.py\", line 477, in start\n",
      "    ioloop.IOLoop.instance().start()\n",
      "  File \"/home/julianarhee/anaconda2/envs/pipeline/lib/python2.7/site-packages/zmq/eventloop/ioloop.py\", line 177, in start\n",
      "    super(ZMQIOLoop, self).start()\n",
      "  File \"/home/julianarhee/anaconda2/envs/pipeline/lib/python2.7/site-packages/tornado/ioloop.py\", line 888, in start\n",
      "    handler_func(fd_obj, events)\n",
      "  File \"/home/julianarhee/anaconda2/envs/pipeline/lib/python2.7/site-packages/tornado/stack_context.py\", line 277, in null_wrapper\n",
      "    return fn(*args, **kwargs)\n",
      "  File \"/home/julianarhee/anaconda2/envs/pipeline/lib/python2.7/site-packages/zmq/eventloop/zmqstream.py\", line 440, in _handle_events\n",
      "    self._handle_recv()\n",
      "  File \"/home/julianarhee/anaconda2/envs/pipeline/lib/python2.7/site-packages/zmq/eventloop/zmqstream.py\", line 472, in _handle_recv\n",
      "    self._run_callback(callback, msg)\n",
      "  File \"/home/julianarhee/anaconda2/envs/pipeline/lib/python2.7/site-packages/zmq/eventloop/zmqstream.py\", line 414, in _run_callback\n",
      "    callback(*args, **kwargs)\n",
      "  File \"/home/julianarhee/anaconda2/envs/pipeline/lib/python2.7/site-packages/tornado/stack_context.py\", line 277, in null_wrapper\n",
      "    return fn(*args, **kwargs)\n",
      "  File \"/home/julianarhee/anaconda2/envs/pipeline/lib/python2.7/site-packages/ipykernel/kernelbase.py\", line 283, in dispatcher\n",
      "    return self.dispatch_shell(stream, msg)\n",
      "  File \"/home/julianarhee/anaconda2/envs/pipeline/lib/python2.7/site-packages/ipykernel/kernelbase.py\", line 235, in dispatch_shell\n",
      "    handler(stream, idents, msg)\n",
      "  File \"/home/julianarhee/anaconda2/envs/pipeline/lib/python2.7/site-packages/ipykernel/kernelbase.py\", line 399, in execute_request\n",
      "    user_expressions, allow_stdin)\n",
      "  File \"/home/julianarhee/anaconda2/envs/pipeline/lib/python2.7/site-packages/ipykernel/ipkernel.py\", line 196, in do_execute\n",
      "    res = shell.run_cell(code, store_history=store_history, silent=silent)\n",
      "  File \"/home/julianarhee/anaconda2/envs/pipeline/lib/python2.7/site-packages/ipykernel/zmqshell.py\", line 533, in run_cell\n",
      "    return super(ZMQInteractiveShell, self).run_cell(*args, **kwargs)\n",
      "  File \"/home/julianarhee/anaconda2/envs/pipeline/lib/python2.7/site-packages/IPython/core/interactiveshell.py\", line 2717, in run_cell\n",
      "    interactivity=interactivity, compiler=compiler, result=result)\n",
      "  File \"/home/julianarhee/anaconda2/envs/pipeline/lib/python2.7/site-packages/IPython/core/interactiveshell.py\", line 2821, in run_ast_nodes\n",
      "    if self.run_code(code, result):\n",
      "  File \"/home/julianarhee/anaconda2/envs/pipeline/lib/python2.7/site-packages/IPython/core/interactiveshell.py\", line 2881, in run_code\n",
      "    exec(code_obj, self.user_global_ns, self.user_ns)\n",
      "  File \"<ipython-input-1-dadb56134ead>\", line 6, in <module>\n",
      "    import pylab as pl\n",
      "  File \"/home/julianarhee/anaconda2/envs/pipeline/lib/python2.7/site-packages/pylab.py\", line 1, in <module>\n",
      "    from matplotlib.pylab import *\n",
      "  File \"/home/julianarhee/anaconda2/envs/pipeline/lib/python2.7/site-packages/matplotlib/pylab.py\", line 257, in <module>\n",
      "    from matplotlib import cbook, mlab, pyplot as plt\n",
      "  File \"/home/julianarhee/anaconda2/envs/pipeline/lib/python2.7/site-packages/matplotlib/pyplot.py\", line 69, in <module>\n",
      "    from matplotlib.backends import pylab_setup\n",
      "  File \"/home/julianarhee/anaconda2/envs/pipeline/lib/python2.7/site-packages/matplotlib/backends/__init__.py\", line 14, in <module>\n",
      "    line for line in traceback.format_stack()\n",
      "\n",
      "\n",
      "  mpl.use('agg')\n",
      "/home/julianarhee/Repositories/2p-pipeline/pipeline/python/classifications/evaluate_receptivefield_fits.py:10: UserWarning: \n",
      "This call to matplotlib.use() has no effect because the backend has already\n",
      "been chosen; matplotlib.use() must be called *before* pylab, matplotlib.pyplot,\n",
      "or matplotlib.backends is imported for the first time.\n",
      "\n",
      "The backend was *originally* set to 'module://ipykernel.pylab.backend_inline' by the following code:\n",
      "  File \"/home/julianarhee/anaconda2/envs/pipeline/lib/python2.7/runpy.py\", line 174, in _run_module_as_main\n",
      "    \"__main__\", fname, loader, pkg_name)\n",
      "  File \"/home/julianarhee/anaconda2/envs/pipeline/lib/python2.7/runpy.py\", line 72, in _run_code\n",
      "    exec code in run_globals\n",
      "  File \"/home/julianarhee/anaconda2/envs/pipeline/lib/python2.7/site-packages/ipykernel_launcher.py\", line 16, in <module>\n",
      "    app.launch_new_instance()\n",
      "  File \"/home/julianarhee/anaconda2/envs/pipeline/lib/python2.7/site-packages/traitlets/config/application.py\", line 658, in launch_instance\n",
      "    app.start()\n",
      "  File \"/home/julianarhee/anaconda2/envs/pipeline/lib/python2.7/site-packages/ipykernel/kernelapp.py\", line 477, in start\n",
      "    ioloop.IOLoop.instance().start()\n",
      "  File \"/home/julianarhee/anaconda2/envs/pipeline/lib/python2.7/site-packages/zmq/eventloop/ioloop.py\", line 177, in start\n",
      "    super(ZMQIOLoop, self).start()\n",
      "  File \"/home/julianarhee/anaconda2/envs/pipeline/lib/python2.7/site-packages/tornado/ioloop.py\", line 888, in start\n",
      "    handler_func(fd_obj, events)\n",
      "  File \"/home/julianarhee/anaconda2/envs/pipeline/lib/python2.7/site-packages/tornado/stack_context.py\", line 277, in null_wrapper\n",
      "    return fn(*args, **kwargs)\n",
      "  File \"/home/julianarhee/anaconda2/envs/pipeline/lib/python2.7/site-packages/zmq/eventloop/zmqstream.py\", line 440, in _handle_events\n",
      "    self._handle_recv()\n",
      "  File \"/home/julianarhee/anaconda2/envs/pipeline/lib/python2.7/site-packages/zmq/eventloop/zmqstream.py\", line 472, in _handle_recv\n",
      "    self._run_callback(callback, msg)\n",
      "  File \"/home/julianarhee/anaconda2/envs/pipeline/lib/python2.7/site-packages/zmq/eventloop/zmqstream.py\", line 414, in _run_callback\n",
      "    callback(*args, **kwargs)\n",
      "  File \"/home/julianarhee/anaconda2/envs/pipeline/lib/python2.7/site-packages/tornado/stack_context.py\", line 277, in null_wrapper\n",
      "    return fn(*args, **kwargs)\n",
      "  File \"/home/julianarhee/anaconda2/envs/pipeline/lib/python2.7/site-packages/ipykernel/kernelbase.py\", line 283, in dispatcher\n",
      "    return self.dispatch_shell(stream, msg)\n",
      "  File \"/home/julianarhee/anaconda2/envs/pipeline/lib/python2.7/site-packages/ipykernel/kernelbase.py\", line 235, in dispatch_shell\n",
      "    handler(stream, idents, msg)\n",
      "  File \"/home/julianarhee/anaconda2/envs/pipeline/lib/python2.7/site-packages/ipykernel/kernelbase.py\", line 399, in execute_request\n",
      "    user_expressions, allow_stdin)\n",
      "  File \"/home/julianarhee/anaconda2/envs/pipeline/lib/python2.7/site-packages/ipykernel/ipkernel.py\", line 196, in do_execute\n",
      "    res = shell.run_cell(code, store_history=store_history, silent=silent)\n",
      "  File \"/home/julianarhee/anaconda2/envs/pipeline/lib/python2.7/site-packages/ipykernel/zmqshell.py\", line 533, in run_cell\n",
      "    return super(ZMQInteractiveShell, self).run_cell(*args, **kwargs)\n",
      "  File \"/home/julianarhee/anaconda2/envs/pipeline/lib/python2.7/site-packages/IPython/core/interactiveshell.py\", line 2717, in run_cell\n",
      "    interactivity=interactivity, compiler=compiler, result=result)\n",
      "  File \"/home/julianarhee/anaconda2/envs/pipeline/lib/python2.7/site-packages/IPython/core/interactiveshell.py\", line 2821, in run_ast_nodes\n",
      "    if self.run_code(code, result):\n",
      "  File \"/home/julianarhee/anaconda2/envs/pipeline/lib/python2.7/site-packages/IPython/core/interactiveshell.py\", line 2881, in run_code\n",
      "    exec(code_obj, self.user_global_ns, self.user_ns)\n",
      "  File \"<ipython-input-1-dadb56134ead>\", line 6, in <module>\n",
      "    import pylab as pl\n",
      "  File \"/home/julianarhee/anaconda2/envs/pipeline/lib/python2.7/site-packages/pylab.py\", line 1, in <module>\n",
      "    from matplotlib.pylab import *\n",
      "  File \"/home/julianarhee/anaconda2/envs/pipeline/lib/python2.7/site-packages/matplotlib/pylab.py\", line 257, in <module>\n",
      "    from matplotlib import cbook, mlab, pyplot as plt\n",
      "  File \"/home/julianarhee/anaconda2/envs/pipeline/lib/python2.7/site-packages/matplotlib/pyplot.py\", line 69, in <module>\n",
      "    from matplotlib.backends import pylab_setup\n",
      "  File \"/home/julianarhee/anaconda2/envs/pipeline/lib/python2.7/site-packages/matplotlib/backends/__init__.py\", line 14, in <module>\n",
      "    line for line in traceback.format_stack()\n",
      "\n",
      "\n",
      "  mpl.use('agg')\n",
      "/home/julianarhee/Repositories/2p-pipeline/pipeline/python/classifications/test_responsivity.py:10: UserWarning: \n",
      "This call to matplotlib.use() has no effect because the backend has already\n",
      "been chosen; matplotlib.use() must be called *before* pylab, matplotlib.pyplot,\n",
      "or matplotlib.backends is imported for the first time.\n",
      "\n",
      "The backend was *originally* set to 'module://ipykernel.pylab.backend_inline' by the following code:\n",
      "  File \"/home/julianarhee/anaconda2/envs/pipeline/lib/python2.7/runpy.py\", line 174, in _run_module_as_main\n",
      "    \"__main__\", fname, loader, pkg_name)\n",
      "  File \"/home/julianarhee/anaconda2/envs/pipeline/lib/python2.7/runpy.py\", line 72, in _run_code\n",
      "    exec code in run_globals\n",
      "  File \"/home/julianarhee/anaconda2/envs/pipeline/lib/python2.7/site-packages/ipykernel_launcher.py\", line 16, in <module>\n",
      "    app.launch_new_instance()\n",
      "  File \"/home/julianarhee/anaconda2/envs/pipeline/lib/python2.7/site-packages/traitlets/config/application.py\", line 658, in launch_instance\n",
      "    app.start()\n",
      "  File \"/home/julianarhee/anaconda2/envs/pipeline/lib/python2.7/site-packages/ipykernel/kernelapp.py\", line 477, in start\n",
      "    ioloop.IOLoop.instance().start()\n",
      "  File \"/home/julianarhee/anaconda2/envs/pipeline/lib/python2.7/site-packages/zmq/eventloop/ioloop.py\", line 177, in start\n",
      "    super(ZMQIOLoop, self).start()\n",
      "  File \"/home/julianarhee/anaconda2/envs/pipeline/lib/python2.7/site-packages/tornado/ioloop.py\", line 888, in start\n",
      "    handler_func(fd_obj, events)\n",
      "  File \"/home/julianarhee/anaconda2/envs/pipeline/lib/python2.7/site-packages/tornado/stack_context.py\", line 277, in null_wrapper\n",
      "    return fn(*args, **kwargs)\n",
      "  File \"/home/julianarhee/anaconda2/envs/pipeline/lib/python2.7/site-packages/zmq/eventloop/zmqstream.py\", line 440, in _handle_events\n",
      "    self._handle_recv()\n",
      "  File \"/home/julianarhee/anaconda2/envs/pipeline/lib/python2.7/site-packages/zmq/eventloop/zmqstream.py\", line 472, in _handle_recv\n",
      "    self._run_callback(callback, msg)\n",
      "  File \"/home/julianarhee/anaconda2/envs/pipeline/lib/python2.7/site-packages/zmq/eventloop/zmqstream.py\", line 414, in _run_callback\n",
      "    callback(*args, **kwargs)\n",
      "  File \"/home/julianarhee/anaconda2/envs/pipeline/lib/python2.7/site-packages/tornado/stack_context.py\", line 277, in null_wrapper\n",
      "    return fn(*args, **kwargs)\n",
      "  File \"/home/julianarhee/anaconda2/envs/pipeline/lib/python2.7/site-packages/ipykernel/kernelbase.py\", line 283, in dispatcher\n",
      "    return self.dispatch_shell(stream, msg)\n",
      "  File \"/home/julianarhee/anaconda2/envs/pipeline/lib/python2.7/site-packages/ipykernel/kernelbase.py\", line 235, in dispatch_shell\n",
      "    handler(stream, idents, msg)\n",
      "  File \"/home/julianarhee/anaconda2/envs/pipeline/lib/python2.7/site-packages/ipykernel/kernelbase.py\", line 399, in execute_request\n",
      "    user_expressions, allow_stdin)\n",
      "  File \"/home/julianarhee/anaconda2/envs/pipeline/lib/python2.7/site-packages/ipykernel/ipkernel.py\", line 196, in do_execute\n",
      "    res = shell.run_cell(code, store_history=store_history, silent=silent)\n",
      "  File \"/home/julianarhee/anaconda2/envs/pipeline/lib/python2.7/site-packages/ipykernel/zmqshell.py\", line 533, in run_cell\n",
      "    return super(ZMQInteractiveShell, self).run_cell(*args, **kwargs)\n",
      "  File \"/home/julianarhee/anaconda2/envs/pipeline/lib/python2.7/site-packages/IPython/core/interactiveshell.py\", line 2717, in run_cell\n",
      "    interactivity=interactivity, compiler=compiler, result=result)\n",
      "  File \"/home/julianarhee/anaconda2/envs/pipeline/lib/python2.7/site-packages/IPython/core/interactiveshell.py\", line 2821, in run_ast_nodes\n",
      "    if self.run_code(code, result):\n",
      "  File \"/home/julianarhee/anaconda2/envs/pipeline/lib/python2.7/site-packages/IPython/core/interactiveshell.py\", line 2881, in run_code\n",
      "    exec(code_obj, self.user_global_ns, self.user_ns)\n",
      "  File \"<ipython-input-1-dadb56134ead>\", line 6, in <module>\n",
      "    import pylab as pl\n",
      "  File \"/home/julianarhee/anaconda2/envs/pipeline/lib/python2.7/site-packages/pylab.py\", line 1, in <module>\n",
      "    from matplotlib.pylab import *\n",
      "  File \"/home/julianarhee/anaconda2/envs/pipeline/lib/python2.7/site-packages/matplotlib/pylab.py\", line 257, in <module>\n",
      "    from matplotlib import cbook, mlab, pyplot as plt\n",
      "  File \"/home/julianarhee/anaconda2/envs/pipeline/lib/python2.7/site-packages/matplotlib/pyplot.py\", line 69, in <module>\n",
      "    from matplotlib.backends import pylab_setup\n",
      "  File \"/home/julianarhee/anaconda2/envs/pipeline/lib/python2.7/site-packages/matplotlib/backends/__init__.py\", line 14, in <module>\n",
      "    line for line in traceback.format_stack()\n",
      "\n",
      "\n",
      "  matplotlib.use('agg')\n",
      "/home/julianarhee/Repositories/2p-pipeline/pipeline/python/traces/combine_runs.py:9: UserWarning: \n",
      "This call to matplotlib.use() has no effect because the backend has already\n",
      "been chosen; matplotlib.use() must be called *before* pylab, matplotlib.pyplot,\n",
      "or matplotlib.backends is imported for the first time.\n",
      "\n",
      "The backend was *originally* set to 'module://ipykernel.pylab.backend_inline' by the following code:\n",
      "  File \"/home/julianarhee/anaconda2/envs/pipeline/lib/python2.7/runpy.py\", line 174, in _run_module_as_main\n",
      "    \"__main__\", fname, loader, pkg_name)\n",
      "  File \"/home/julianarhee/anaconda2/envs/pipeline/lib/python2.7/runpy.py\", line 72, in _run_code\n",
      "    exec code in run_globals\n",
      "  File \"/home/julianarhee/anaconda2/envs/pipeline/lib/python2.7/site-packages/ipykernel_launcher.py\", line 16, in <module>\n",
      "    app.launch_new_instance()\n",
      "  File \"/home/julianarhee/anaconda2/envs/pipeline/lib/python2.7/site-packages/traitlets/config/application.py\", line 658, in launch_instance\n",
      "    app.start()\n",
      "  File \"/home/julianarhee/anaconda2/envs/pipeline/lib/python2.7/site-packages/ipykernel/kernelapp.py\", line 477, in start\n",
      "    ioloop.IOLoop.instance().start()\n",
      "  File \"/home/julianarhee/anaconda2/envs/pipeline/lib/python2.7/site-packages/zmq/eventloop/ioloop.py\", line 177, in start\n",
      "    super(ZMQIOLoop, self).start()\n",
      "  File \"/home/julianarhee/anaconda2/envs/pipeline/lib/python2.7/site-packages/tornado/ioloop.py\", line 888, in start\n",
      "    handler_func(fd_obj, events)\n",
      "  File \"/home/julianarhee/anaconda2/envs/pipeline/lib/python2.7/site-packages/tornado/stack_context.py\", line 277, in null_wrapper\n",
      "    return fn(*args, **kwargs)\n",
      "  File \"/home/julianarhee/anaconda2/envs/pipeline/lib/python2.7/site-packages/zmq/eventloop/zmqstream.py\", line 440, in _handle_events\n",
      "    self._handle_recv()\n",
      "  File \"/home/julianarhee/anaconda2/envs/pipeline/lib/python2.7/site-packages/zmq/eventloop/zmqstream.py\", line 472, in _handle_recv\n",
      "    self._run_callback(callback, msg)\n",
      "  File \"/home/julianarhee/anaconda2/envs/pipeline/lib/python2.7/site-packages/zmq/eventloop/zmqstream.py\", line 414, in _run_callback\n",
      "    callback(*args, **kwargs)\n",
      "  File \"/home/julianarhee/anaconda2/envs/pipeline/lib/python2.7/site-packages/tornado/stack_context.py\", line 277, in null_wrapper\n",
      "    return fn(*args, **kwargs)\n",
      "  File \"/home/julianarhee/anaconda2/envs/pipeline/lib/python2.7/site-packages/ipykernel/kernelbase.py\", line 283, in dispatcher\n",
      "    return self.dispatch_shell(stream, msg)\n",
      "  File \"/home/julianarhee/anaconda2/envs/pipeline/lib/python2.7/site-packages/ipykernel/kernelbase.py\", line 235, in dispatch_shell\n",
      "    handler(stream, idents, msg)\n",
      "  File \"/home/julianarhee/anaconda2/envs/pipeline/lib/python2.7/site-packages/ipykernel/kernelbase.py\", line 399, in execute_request\n",
      "    user_expressions, allow_stdin)\n",
      "  File \"/home/julianarhee/anaconda2/envs/pipeline/lib/python2.7/site-packages/ipykernel/ipkernel.py\", line 196, in do_execute\n",
      "    res = shell.run_cell(code, store_history=store_history, silent=silent)\n",
      "  File \"/home/julianarhee/anaconda2/envs/pipeline/lib/python2.7/site-packages/ipykernel/zmqshell.py\", line 533, in run_cell\n",
      "    return super(ZMQInteractiveShell, self).run_cell(*args, **kwargs)\n",
      "  File \"/home/julianarhee/anaconda2/envs/pipeline/lib/python2.7/site-packages/IPython/core/interactiveshell.py\", line 2717, in run_cell\n",
      "    interactivity=interactivity, compiler=compiler, result=result)\n",
      "  File \"/home/julianarhee/anaconda2/envs/pipeline/lib/python2.7/site-packages/IPython/core/interactiveshell.py\", line 2821, in run_ast_nodes\n",
      "    if self.run_code(code, result):\n",
      "  File \"/home/julianarhee/anaconda2/envs/pipeline/lib/python2.7/site-packages/IPython/core/interactiveshell.py\", line 2881, in run_code\n",
      "    exec(code_obj, self.user_global_ns, self.user_ns)\n",
      "  File \"<ipython-input-1-dadb56134ead>\", line 6, in <module>\n",
      "    import pylab as pl\n",
      "  File \"/home/julianarhee/anaconda2/envs/pipeline/lib/python2.7/site-packages/pylab.py\", line 1, in <module>\n",
      "    from matplotlib.pylab import *\n",
      "  File \"/home/julianarhee/anaconda2/envs/pipeline/lib/python2.7/site-packages/matplotlib/pylab.py\", line 257, in <module>\n",
      "    from matplotlib import cbook, mlab, pyplot as plt\n",
      "  File \"/home/julianarhee/anaconda2/envs/pipeline/lib/python2.7/site-packages/matplotlib/pyplot.py\", line 69, in <module>\n",
      "    from matplotlib.backends import pylab_setup\n",
      "  File \"/home/julianarhee/anaconda2/envs/pipeline/lib/python2.7/site-packages/matplotlib/backends/__init__.py\", line 14, in <module>\n",
      "    line for line in traceback.format_stack()\n",
      "\n",
      "\n",
      "  matplotlib.use('agg')\n",
      "/home/julianarhee/Repositories/2p-pipeline/pipeline/python/visualization/plot_psths_from_dataframe.py:29: UserWarning: \n",
      "This call to matplotlib.use() has no effect because the backend has already\n",
      "been chosen; matplotlib.use() must be called *before* pylab, matplotlib.pyplot,\n",
      "or matplotlib.backends is imported for the first time.\n",
      "\n",
      "The backend was *originally* set to 'module://ipykernel.pylab.backend_inline' by the following code:\n",
      "  File \"/home/julianarhee/anaconda2/envs/pipeline/lib/python2.7/runpy.py\", line 174, in _run_module_as_main\n",
      "    \"__main__\", fname, loader, pkg_name)\n",
      "  File \"/home/julianarhee/anaconda2/envs/pipeline/lib/python2.7/runpy.py\", line 72, in _run_code\n",
      "    exec code in run_globals\n",
      "  File \"/home/julianarhee/anaconda2/envs/pipeline/lib/python2.7/site-packages/ipykernel_launcher.py\", line 16, in <module>\n",
      "    app.launch_new_instance()\n",
      "  File \"/home/julianarhee/anaconda2/envs/pipeline/lib/python2.7/site-packages/traitlets/config/application.py\", line 658, in launch_instance\n",
      "    app.start()\n",
      "  File \"/home/julianarhee/anaconda2/envs/pipeline/lib/python2.7/site-packages/ipykernel/kernelapp.py\", line 477, in start\n",
      "    ioloop.IOLoop.instance().start()\n",
      "  File \"/home/julianarhee/anaconda2/envs/pipeline/lib/python2.7/site-packages/zmq/eventloop/ioloop.py\", line 177, in start\n",
      "    super(ZMQIOLoop, self).start()\n",
      "  File \"/home/julianarhee/anaconda2/envs/pipeline/lib/python2.7/site-packages/tornado/ioloop.py\", line 888, in start\n",
      "    handler_func(fd_obj, events)\n",
      "  File \"/home/julianarhee/anaconda2/envs/pipeline/lib/python2.7/site-packages/tornado/stack_context.py\", line 277, in null_wrapper\n",
      "    return fn(*args, **kwargs)\n",
      "  File \"/home/julianarhee/anaconda2/envs/pipeline/lib/python2.7/site-packages/zmq/eventloop/zmqstream.py\", line 440, in _handle_events\n",
      "    self._handle_recv()\n",
      "  File \"/home/julianarhee/anaconda2/envs/pipeline/lib/python2.7/site-packages/zmq/eventloop/zmqstream.py\", line 472, in _handle_recv\n",
      "    self._run_callback(callback, msg)\n",
      "  File \"/home/julianarhee/anaconda2/envs/pipeline/lib/python2.7/site-packages/zmq/eventloop/zmqstream.py\", line 414, in _run_callback\n",
      "    callback(*args, **kwargs)\n",
      "  File \"/home/julianarhee/anaconda2/envs/pipeline/lib/python2.7/site-packages/tornado/stack_context.py\", line 277, in null_wrapper\n",
      "    return fn(*args, **kwargs)\n",
      "  File \"/home/julianarhee/anaconda2/envs/pipeline/lib/python2.7/site-packages/ipykernel/kernelbase.py\", line 283, in dispatcher\n",
      "    return self.dispatch_shell(stream, msg)\n",
      "  File \"/home/julianarhee/anaconda2/envs/pipeline/lib/python2.7/site-packages/ipykernel/kernelbase.py\", line 235, in dispatch_shell\n",
      "    handler(stream, idents, msg)\n",
      "  File \"/home/julianarhee/anaconda2/envs/pipeline/lib/python2.7/site-packages/ipykernel/kernelbase.py\", line 399, in execute_request\n",
      "    user_expressions, allow_stdin)\n",
      "  File \"/home/julianarhee/anaconda2/envs/pipeline/lib/python2.7/site-packages/ipykernel/ipkernel.py\", line 196, in do_execute\n",
      "    res = shell.run_cell(code, store_history=store_history, silent=silent)\n",
      "  File \"/home/julianarhee/anaconda2/envs/pipeline/lib/python2.7/site-packages/ipykernel/zmqshell.py\", line 533, in run_cell\n",
      "    return super(ZMQInteractiveShell, self).run_cell(*args, **kwargs)\n",
      "  File \"/home/julianarhee/anaconda2/envs/pipeline/lib/python2.7/site-packages/IPython/core/interactiveshell.py\", line 2717, in run_cell\n",
      "    interactivity=interactivity, compiler=compiler, result=result)\n",
      "  File \"/home/julianarhee/anaconda2/envs/pipeline/lib/python2.7/site-packages/IPython/core/interactiveshell.py\", line 2821, in run_ast_nodes\n",
      "    if self.run_code(code, result):\n",
      "  File \"/home/julianarhee/anaconda2/envs/pipeline/lib/python2.7/site-packages/IPython/core/interactiveshell.py\", line 2881, in run_code\n",
      "    exec(code_obj, self.user_global_ns, self.user_ns)\n",
      "  File \"<ipython-input-1-dadb56134ead>\", line 6, in <module>\n",
      "    import pylab as pl\n",
      "  File \"/home/julianarhee/anaconda2/envs/pipeline/lib/python2.7/site-packages/pylab.py\", line 1, in <module>\n",
      "    from matplotlib.pylab import *\n",
      "  File \"/home/julianarhee/anaconda2/envs/pipeline/lib/python2.7/site-packages/matplotlib/pylab.py\", line 257, in <module>\n",
      "    from matplotlib import cbook, mlab, pyplot as plt\n",
      "  File \"/home/julianarhee/anaconda2/envs/pipeline/lib/python2.7/site-packages/matplotlib/pyplot.py\", line 69, in <module>\n",
      "    from matplotlib.backends import pylab_setup\n",
      "  File \"/home/julianarhee/anaconda2/envs/pipeline/lib/python2.7/site-packages/matplotlib/backends/__init__.py\", line 14, in <module>\n",
      "    line for line in traceback.format_stack()\n",
      "\n",
      "\n",
      "  matplotlib.use('Agg')\n",
      "/home/julianarhee/Repositories/2p-pipeline/pipeline/python/retinotopy/fit_2d_rfs.py:18: UserWarning: \n",
      "This call to matplotlib.use() has no effect because the backend has already\n",
      "been chosen; matplotlib.use() must be called *before* pylab, matplotlib.pyplot,\n",
      "or matplotlib.backends is imported for the first time.\n",
      "\n",
      "The backend was *originally* set to 'module://ipykernel.pylab.backend_inline' by the following code:\n",
      "  File \"/home/julianarhee/anaconda2/envs/pipeline/lib/python2.7/runpy.py\", line 174, in _run_module_as_main\n",
      "    \"__main__\", fname, loader, pkg_name)\n",
      "  File \"/home/julianarhee/anaconda2/envs/pipeline/lib/python2.7/runpy.py\", line 72, in _run_code\n",
      "    exec code in run_globals\n",
      "  File \"/home/julianarhee/anaconda2/envs/pipeline/lib/python2.7/site-packages/ipykernel_launcher.py\", line 16, in <module>\n",
      "    app.launch_new_instance()\n",
      "  File \"/home/julianarhee/anaconda2/envs/pipeline/lib/python2.7/site-packages/traitlets/config/application.py\", line 658, in launch_instance\n",
      "    app.start()\n",
      "  File \"/home/julianarhee/anaconda2/envs/pipeline/lib/python2.7/site-packages/ipykernel/kernelapp.py\", line 477, in start\n",
      "    ioloop.IOLoop.instance().start()\n",
      "  File \"/home/julianarhee/anaconda2/envs/pipeline/lib/python2.7/site-packages/zmq/eventloop/ioloop.py\", line 177, in start\n",
      "    super(ZMQIOLoop, self).start()\n",
      "  File \"/home/julianarhee/anaconda2/envs/pipeline/lib/python2.7/site-packages/tornado/ioloop.py\", line 888, in start\n",
      "    handler_func(fd_obj, events)\n",
      "  File \"/home/julianarhee/anaconda2/envs/pipeline/lib/python2.7/site-packages/tornado/stack_context.py\", line 277, in null_wrapper\n",
      "    return fn(*args, **kwargs)\n",
      "  File \"/home/julianarhee/anaconda2/envs/pipeline/lib/python2.7/site-packages/zmq/eventloop/zmqstream.py\", line 440, in _handle_events\n",
      "    self._handle_recv()\n",
      "  File \"/home/julianarhee/anaconda2/envs/pipeline/lib/python2.7/site-packages/zmq/eventloop/zmqstream.py\", line 472, in _handle_recv\n",
      "    self._run_callback(callback, msg)\n",
      "  File \"/home/julianarhee/anaconda2/envs/pipeline/lib/python2.7/site-packages/zmq/eventloop/zmqstream.py\", line 414, in _run_callback\n",
      "    callback(*args, **kwargs)\n",
      "  File \"/home/julianarhee/anaconda2/envs/pipeline/lib/python2.7/site-packages/tornado/stack_context.py\", line 277, in null_wrapper\n",
      "    return fn(*args, **kwargs)\n",
      "  File \"/home/julianarhee/anaconda2/envs/pipeline/lib/python2.7/site-packages/ipykernel/kernelbase.py\", line 283, in dispatcher\n",
      "    return self.dispatch_shell(stream, msg)\n",
      "  File \"/home/julianarhee/anaconda2/envs/pipeline/lib/python2.7/site-packages/ipykernel/kernelbase.py\", line 235, in dispatch_shell\n",
      "    handler(stream, idents, msg)\n",
      "  File \"/home/julianarhee/anaconda2/envs/pipeline/lib/python2.7/site-packages/ipykernel/kernelbase.py\", line 399, in execute_request\n",
      "    user_expressions, allow_stdin)\n",
      "  File \"/home/julianarhee/anaconda2/envs/pipeline/lib/python2.7/site-packages/ipykernel/ipkernel.py\", line 196, in do_execute\n",
      "    res = shell.run_cell(code, store_history=store_history, silent=silent)\n",
      "  File \"/home/julianarhee/anaconda2/envs/pipeline/lib/python2.7/site-packages/ipykernel/zmqshell.py\", line 533, in run_cell\n",
      "    return super(ZMQInteractiveShell, self).run_cell(*args, **kwargs)\n",
      "  File \"/home/julianarhee/anaconda2/envs/pipeline/lib/python2.7/site-packages/IPython/core/interactiveshell.py\", line 2717, in run_cell\n",
      "    interactivity=interactivity, compiler=compiler, result=result)\n",
      "  File \"/home/julianarhee/anaconda2/envs/pipeline/lib/python2.7/site-packages/IPython/core/interactiveshell.py\", line 2821, in run_ast_nodes\n",
      "    if self.run_code(code, result):\n",
      "  File \"/home/julianarhee/anaconda2/envs/pipeline/lib/python2.7/site-packages/IPython/core/interactiveshell.py\", line 2881, in run_code\n",
      "    exec(code_obj, self.user_global_ns, self.user_ns)\n",
      "  File \"<ipython-input-1-dadb56134ead>\", line 6, in <module>\n",
      "    import pylab as pl\n",
      "  File \"/home/julianarhee/anaconda2/envs/pipeline/lib/python2.7/site-packages/pylab.py\", line 1, in <module>\n",
      "    from matplotlib.pylab import *\n",
      "  File \"/home/julianarhee/anaconda2/envs/pipeline/lib/python2.7/site-packages/matplotlib/pylab.py\", line 257, in <module>\n",
      "    from matplotlib import cbook, mlab, pyplot as plt\n",
      "  File \"/home/julianarhee/anaconda2/envs/pipeline/lib/python2.7/site-packages/matplotlib/pyplot.py\", line 69, in <module>\n",
      "    from matplotlib.backends import pylab_setup\n",
      "  File \"/home/julianarhee/anaconda2/envs/pipeline/lib/python2.7/site-packages/matplotlib/backends/__init__.py\", line 14, in <module>\n",
      "    line for line in traceback.format_stack()\n",
      "\n",
      "\n",
      "  mpl.use('agg')\n",
      "/home/julianarhee/Repositories/2p-pipeline/pipeline/python/retinotopy/target_visual_field.py:19: UserWarning: \n",
      "This call to matplotlib.use() has no effect because the backend has already\n",
      "been chosen; matplotlib.use() must be called *before* pylab, matplotlib.pyplot,\n",
      "or matplotlib.backends is imported for the first time.\n",
      "\n",
      "The backend was *originally* set to 'module://ipykernel.pylab.backend_inline' by the following code:\n",
      "  File \"/home/julianarhee/anaconda2/envs/pipeline/lib/python2.7/runpy.py\", line 174, in _run_module_as_main\n",
      "    \"__main__\", fname, loader, pkg_name)\n",
      "  File \"/home/julianarhee/anaconda2/envs/pipeline/lib/python2.7/runpy.py\", line 72, in _run_code\n",
      "    exec code in run_globals\n",
      "  File \"/home/julianarhee/anaconda2/envs/pipeline/lib/python2.7/site-packages/ipykernel_launcher.py\", line 16, in <module>\n",
      "    app.launch_new_instance()\n",
      "  File \"/home/julianarhee/anaconda2/envs/pipeline/lib/python2.7/site-packages/traitlets/config/application.py\", line 658, in launch_instance\n",
      "    app.start()\n",
      "  File \"/home/julianarhee/anaconda2/envs/pipeline/lib/python2.7/site-packages/ipykernel/kernelapp.py\", line 477, in start\n",
      "    ioloop.IOLoop.instance().start()\n",
      "  File \"/home/julianarhee/anaconda2/envs/pipeline/lib/python2.7/site-packages/zmq/eventloop/ioloop.py\", line 177, in start\n",
      "    super(ZMQIOLoop, self).start()\n",
      "  File \"/home/julianarhee/anaconda2/envs/pipeline/lib/python2.7/site-packages/tornado/ioloop.py\", line 888, in start\n",
      "    handler_func(fd_obj, events)\n",
      "  File \"/home/julianarhee/anaconda2/envs/pipeline/lib/python2.7/site-packages/tornado/stack_context.py\", line 277, in null_wrapper\n",
      "    return fn(*args, **kwargs)\n",
      "  File \"/home/julianarhee/anaconda2/envs/pipeline/lib/python2.7/site-packages/zmq/eventloop/zmqstream.py\", line 440, in _handle_events\n",
      "    self._handle_recv()\n",
      "  File \"/home/julianarhee/anaconda2/envs/pipeline/lib/python2.7/site-packages/zmq/eventloop/zmqstream.py\", line 472, in _handle_recv\n",
      "    self._run_callback(callback, msg)\n",
      "  File \"/home/julianarhee/anaconda2/envs/pipeline/lib/python2.7/site-packages/zmq/eventloop/zmqstream.py\", line 414, in _run_callback\n",
      "    callback(*args, **kwargs)\n",
      "  File \"/home/julianarhee/anaconda2/envs/pipeline/lib/python2.7/site-packages/tornado/stack_context.py\", line 277, in null_wrapper\n",
      "    return fn(*args, **kwargs)\n",
      "  File \"/home/julianarhee/anaconda2/envs/pipeline/lib/python2.7/site-packages/ipykernel/kernelbase.py\", line 283, in dispatcher\n",
      "    return self.dispatch_shell(stream, msg)\n",
      "  File \"/home/julianarhee/anaconda2/envs/pipeline/lib/python2.7/site-packages/ipykernel/kernelbase.py\", line 235, in dispatch_shell\n",
      "    handler(stream, idents, msg)\n",
      "  File \"/home/julianarhee/anaconda2/envs/pipeline/lib/python2.7/site-packages/ipykernel/kernelbase.py\", line 399, in execute_request\n",
      "    user_expressions, allow_stdin)\n",
      "  File \"/home/julianarhee/anaconda2/envs/pipeline/lib/python2.7/site-packages/ipykernel/ipkernel.py\", line 196, in do_execute\n",
      "    res = shell.run_cell(code, store_history=store_history, silent=silent)\n",
      "  File \"/home/julianarhee/anaconda2/envs/pipeline/lib/python2.7/site-packages/ipykernel/zmqshell.py\", line 533, in run_cell\n",
      "    return super(ZMQInteractiveShell, self).run_cell(*args, **kwargs)\n",
      "  File \"/home/julianarhee/anaconda2/envs/pipeline/lib/python2.7/site-packages/IPython/core/interactiveshell.py\", line 2717, in run_cell\n",
      "    interactivity=interactivity, compiler=compiler, result=result)\n",
      "  File \"/home/julianarhee/anaconda2/envs/pipeline/lib/python2.7/site-packages/IPython/core/interactiveshell.py\", line 2821, in run_ast_nodes\n",
      "    if self.run_code(code, result):\n",
      "  File \"/home/julianarhee/anaconda2/envs/pipeline/lib/python2.7/site-packages/IPython/core/interactiveshell.py\", line 2881, in run_code\n",
      "    exec(code_obj, self.user_global_ns, self.user_ns)\n",
      "  File \"<ipython-input-1-dadb56134ead>\", line 6, in <module>\n",
      "    import pylab as pl\n",
      "  File \"/home/julianarhee/anaconda2/envs/pipeline/lib/python2.7/site-packages/pylab.py\", line 1, in <module>\n",
      "    from matplotlib.pylab import *\n",
      "  File \"/home/julianarhee/anaconda2/envs/pipeline/lib/python2.7/site-packages/matplotlib/pylab.py\", line 257, in <module>\n",
      "    from matplotlib import cbook, mlab, pyplot as plt\n",
      "  File \"/home/julianarhee/anaconda2/envs/pipeline/lib/python2.7/site-packages/matplotlib/pyplot.py\", line 69, in <module>\n",
      "    from matplotlib.backends import pylab_setup\n",
      "  File \"/home/julianarhee/anaconda2/envs/pipeline/lib/python2.7/site-packages/matplotlib/backends/__init__.py\", line 14, in <module>\n",
      "    line for line in traceback.format_stack()\n",
      "\n",
      "\n",
      "  mpl.use('Agg')\n",
      "/home/julianarhee/Repositories/2p-pipeline/pipeline/python/retinotopy/visualize_rois.py:17: UserWarning: \n",
      "This call to matplotlib.use() has no effect because the backend has already\n",
      "been chosen; matplotlib.use() must be called *before* pylab, matplotlib.pyplot,\n",
      "or matplotlib.backends is imported for the first time.\n",
      "\n",
      "The backend was *originally* set to 'module://ipykernel.pylab.backend_inline' by the following code:\n",
      "  File \"/home/julianarhee/anaconda2/envs/pipeline/lib/python2.7/runpy.py\", line 174, in _run_module_as_main\n",
      "    \"__main__\", fname, loader, pkg_name)\n",
      "  File \"/home/julianarhee/anaconda2/envs/pipeline/lib/python2.7/runpy.py\", line 72, in _run_code\n",
      "    exec code in run_globals\n",
      "  File \"/home/julianarhee/anaconda2/envs/pipeline/lib/python2.7/site-packages/ipykernel_launcher.py\", line 16, in <module>\n",
      "    app.launch_new_instance()\n",
      "  File \"/home/julianarhee/anaconda2/envs/pipeline/lib/python2.7/site-packages/traitlets/config/application.py\", line 658, in launch_instance\n",
      "    app.start()\n",
      "  File \"/home/julianarhee/anaconda2/envs/pipeline/lib/python2.7/site-packages/ipykernel/kernelapp.py\", line 477, in start\n",
      "    ioloop.IOLoop.instance().start()\n",
      "  File \"/home/julianarhee/anaconda2/envs/pipeline/lib/python2.7/site-packages/zmq/eventloop/ioloop.py\", line 177, in start\n",
      "    super(ZMQIOLoop, self).start()\n",
      "  File \"/home/julianarhee/anaconda2/envs/pipeline/lib/python2.7/site-packages/tornado/ioloop.py\", line 888, in start\n",
      "    handler_func(fd_obj, events)\n",
      "  File \"/home/julianarhee/anaconda2/envs/pipeline/lib/python2.7/site-packages/tornado/stack_context.py\", line 277, in null_wrapper\n",
      "    return fn(*args, **kwargs)\n",
      "  File \"/home/julianarhee/anaconda2/envs/pipeline/lib/python2.7/site-packages/zmq/eventloop/zmqstream.py\", line 440, in _handle_events\n",
      "    self._handle_recv()\n",
      "  File \"/home/julianarhee/anaconda2/envs/pipeline/lib/python2.7/site-packages/zmq/eventloop/zmqstream.py\", line 472, in _handle_recv\n",
      "    self._run_callback(callback, msg)\n",
      "  File \"/home/julianarhee/anaconda2/envs/pipeline/lib/python2.7/site-packages/zmq/eventloop/zmqstream.py\", line 414, in _run_callback\n",
      "    callback(*args, **kwargs)\n",
      "  File \"/home/julianarhee/anaconda2/envs/pipeline/lib/python2.7/site-packages/tornado/stack_context.py\", line 277, in null_wrapper\n",
      "    return fn(*args, **kwargs)\n",
      "  File \"/home/julianarhee/anaconda2/envs/pipeline/lib/python2.7/site-packages/ipykernel/kernelbase.py\", line 283, in dispatcher\n",
      "    return self.dispatch_shell(stream, msg)\n",
      "  File \"/home/julianarhee/anaconda2/envs/pipeline/lib/python2.7/site-packages/ipykernel/kernelbase.py\", line 235, in dispatch_shell\n",
      "    handler(stream, idents, msg)\n",
      "  File \"/home/julianarhee/anaconda2/envs/pipeline/lib/python2.7/site-packages/ipykernel/kernelbase.py\", line 399, in execute_request\n",
      "    user_expressions, allow_stdin)\n",
      "  File \"/home/julianarhee/anaconda2/envs/pipeline/lib/python2.7/site-packages/ipykernel/ipkernel.py\", line 196, in do_execute\n",
      "    res = shell.run_cell(code, store_history=store_history, silent=silent)\n",
      "  File \"/home/julianarhee/anaconda2/envs/pipeline/lib/python2.7/site-packages/ipykernel/zmqshell.py\", line 533, in run_cell\n",
      "    return super(ZMQInteractiveShell, self).run_cell(*args, **kwargs)\n",
      "  File \"/home/julianarhee/anaconda2/envs/pipeline/lib/python2.7/site-packages/IPython/core/interactiveshell.py\", line 2717, in run_cell\n",
      "    interactivity=interactivity, compiler=compiler, result=result)\n",
      "  File \"/home/julianarhee/anaconda2/envs/pipeline/lib/python2.7/site-packages/IPython/core/interactiveshell.py\", line 2821, in run_ast_nodes\n",
      "    if self.run_code(code, result):\n",
      "  File \"/home/julianarhee/anaconda2/envs/pipeline/lib/python2.7/site-packages/IPython/core/interactiveshell.py\", line 2881, in run_code\n",
      "    exec(code_obj, self.user_global_ns, self.user_ns)\n",
      "  File \"<ipython-input-1-dadb56134ead>\", line 6, in <module>\n",
      "    import pylab as pl\n",
      "  File \"/home/julianarhee/anaconda2/envs/pipeline/lib/python2.7/site-packages/pylab.py\", line 1, in <module>\n",
      "    from matplotlib.pylab import *\n",
      "  File \"/home/julianarhee/anaconda2/envs/pipeline/lib/python2.7/site-packages/matplotlib/pylab.py\", line 257, in <module>\n",
      "    from matplotlib import cbook, mlab, pyplot as plt\n",
      "  File \"/home/julianarhee/anaconda2/envs/pipeline/lib/python2.7/site-packages/matplotlib/pyplot.py\", line 69, in <module>\n",
      "    from matplotlib.backends import pylab_setup\n",
      "  File \"/home/julianarhee/anaconda2/envs/pipeline/lib/python2.7/site-packages/matplotlib/backends/__init__.py\", line 14, in <module>\n",
      "    line for line in traceback.format_stack()\n",
      "\n",
      "\n",
      "  mpl.use('agg')\n"
     ]
    }
   ],
   "source": [
    "import glob\n",
    "import os\n",
    "import shutil\n",
    "\n",
    "import numpy as np\n",
    "import pylab as pl\n",
    "from mpl_toolkits.axes_grid1 import make_axes_locatable\n",
    "import seaborn as sns\n",
    "import pandas as pd\n",
    "from pipeline.python.utils import convert_range\n",
    "import scipy.stats as spstats\n",
    "\n",
    "\n",
    "from pipeline.python.utils import natural_keys, label_figure\n",
    "from pipeline.python import utils as putils\n",
    "\n",
    "import traceback\n",
    "from pipeline.python.retinotopy import utils as ret_utils\n",
    "from pipeline.python.rois import utils as roi_utils\n",
    "from pipeline.python.paradigm import utils as par_utils\n",
    "from pipeline.python.classifications import evaluate_receptivefield_fits as evalrf\n",
    "import sklearn.metrics as skmetrics\n",
    "from pipeline.python.coregistration import align_fov as coreg\n",
    "\n",
    "import json\n",
    "import tifffile as tf\n",
    "from scipy import ndimage\n",
    "\n",
    "\n",
    "import cv2\n",
    "from scipy import misc,interpolate,stats,signal\n",
    "from matplotlib.colors import LinearSegmentedColormap\n",
    "\n",
    "import matplotlib.colors as mcolors\n",
    "import cPickle as pkl\n",
    "import h5py"
   ]
  },
  {
   "cell_type": "code",
   "execution_count": 2,
   "metadata": {
    "collapsed": true
   },
   "outputs": [],
   "source": [
    "from pipeline.python.classifications import aggregate_data_stats as aggr\n",
    "from pipeline.python.retinotopy import fit_2d_rfs as fitrf\n",
    "from pipeline.python.classifications import rf_utils as rfutils\n",
    "\n",
    "from sklearn.linear_model import LinearRegression, Ridge, Lasso\n",
    "#from sklearn.model_selection import train_test_split\n",
    "import scipy.stats as spstats\n",
    "import sklearn.metrics as skmetrics #import mean_squared_error\n",
    "\n",
    "import seaborn as sns"
   ]
  },
  {
   "cell_type": "code",
   "execution_count": 3,
   "metadata": {
    "collapsed": true
   },
   "outputs": [],
   "source": [
    "import imutils\n",
    "from scipy.ndimage.morphology import binary_dilation\n"
   ]
  },
  {
   "cell_type": "code",
   "execution_count": 4,
   "metadata": {
    "collapsed": true
   },
   "outputs": [],
   "source": [
    "%matplotlib inline"
   ]
  },
  {
   "cell_type": "code",
   "execution_count": 5,
   "metadata": {
    "collapsed": true
   },
   "outputs": [],
   "source": [
    "def dilate_mask_centers(maskcenters, kernel_size=9):\n",
    "    '''Calculate center of soma, then dilate to create masks for smoothed  neuropil\n",
    "    '''\n",
    "    kernel_radius = (kernel_size - 1) // 2\n",
    "    x, y = np.ogrid[-kernel_radius:kernel_radius+1, -kernel_radius:kernel_radius+1]\n",
    "    dist = (x**2 + y**2)**0.5 # shape (kernel_size, kernel_size)\n",
    "\n",
    "    # let's create three kernels for the sake of example\n",
    "    radii = np.array([kernel_size/3., kernel_size/2.5, kernel_size/2.])[...,None,None] # shape (num_radii, 1, 1)\n",
    "    # using ... allows compatibility with arbitrarily-shaped radius arrays\n",
    "\n",
    "    kernel = (1 - (dist - radii).clip(0,1)).sum(axis=0)# shape (num_radii, kernel_size, kernel_size)\n",
    "\n",
    "    dilated_masks = np.zeros(maskcenters.shape, dtype=maskcenters.dtype)\n",
    "    for roi in range(maskcenters.shape[0]):\n",
    "        img = maskcenters[roi, :, :].copy()\n",
    "        x, y = np.where(img>0)\n",
    "        centroid = (sum(x) / len(x), sum(y) / len(x))\n",
    "        #print(centroid)\n",
    "        np_tmp = np.zeros(img.shape, dtype=bool)\n",
    "        np_tmp[centroid] = True\n",
    "        dilation = binary_dilation(np_tmp, structure=kernel )\n",
    "        dilated_masks[roi, : :] = dilation\n",
    "    return dilated_masks\n",
    "\n",
    "def mask_rois(masks, value_array, mask_thr=0.1, return_array=False):\n",
    "    '''\n",
    "    value_array: indices should be RIDs -- these ixs are used to index into masks.\n",
    "    '''\n",
    "    nrois, d1, d2 = masks.shape\n",
    "    dims = (d1, d2)\n",
    "\n",
    "    if return_array:\n",
    "        value_mask = np.ones(masks.shape)*np.nan #-100\n",
    "        for rid in value_array.index.tolist():\n",
    "            value_mask[rid, masks[rid,:,:]>=mask_thr] = value_array[rid]\n",
    "\n",
    "    else:\n",
    "        value_mask =  np.ones(dims)*-100\n",
    "        for rid in value_array.index.tolist():\n",
    "            value_mask[masks[rid,:,:]>=mask_thr] = value_array[rid]\n",
    "\n",
    "    return value_mask\n",
    "\n",
    "\n",
    "\n",
    "def mask_with_overlaps_averaged(dilated_masks, value_array, mask_thr=0.1,\n",
    "                               is_circular=False, vmin=-np.pi, vmax=np.pi):\n",
    "    '''\n",
    "    value_array: indices should be RIDs -- these ixs are used to index into masks.\n",
    "    '''\n",
    "    \n",
    "    nrois, d1, d2 = dilated_masks.shape\n",
    "    \n",
    "    # Get non-averaged array, shape=(d1, d2)\n",
    "    tmpmask = mask_rois(dilated_masks, value_array, mask_thr=mask_thr, return_array=False)\n",
    "    #print(\"no array:\", tmpmask.shape, value_array.shape)\n",
    "    \n",
    "    # Get full array to average across overlapping pixels, shape=(nrois, d1, d2)?\n",
    "    tmpmask_full = mask_rois(dilated_masks, value_array, mask_thr=mask_thr, return_array=True)\n",
    "    #print(\"arr:\", tmpmask_full.shape, value_array.shape)\n",
    "    tmpmask_r = np.reshape(tmpmask_full, (nrois_total, d1*d2))\n",
    "    \n",
    "    # Replace overlapping pixels with average value\n",
    "    avg_mask = tmpmask.copy().ravel()\n",
    "    multi_ixs = [i for i in range(tmpmask_r.shape[-1]) if len(np.where(tmpmask_r[:, i])[0]) > 1]\n",
    "    for ix in multi_ixs:\n",
    "        if is_circular:\n",
    "            avg_mask[ix] = spstats.circmean([v for v in tmpmask_r[:, ix] if not np.isnan(v)], low=vmin, high=vmax)\n",
    "        else:\n",
    "            avg_mask[ix] = np.nanmean([v for v in tmpmask_r[:, ix] if not np.isnan(v)])#, low=vmin, high=vmax)\n",
    "\n",
    "    avg_mask = np.reshape(avg_mask, (d1, d2))\n",
    "\n",
    "    return avg_mask"
   ]
  },
  {
   "cell_type": "code",
   "execution_count": 6,
   "metadata": {
    "collapsed": true
   },
   "outputs": [],
   "source": [
    "def get_phase_masks(masks, phases, average_overlap=True, roi_list=None, return_absolute=False,\n",
    "                    use_cont=True, mask_thr=0.01):\n",
    "    # Convert phase to continuous:\n",
    "    phases_cont = -1 * phases\n",
    "    phases_cont = phases_cont % (2*np.pi)\n",
    "    \n",
    "    # Only include specified rois:\n",
    "    if roi_list is None:\n",
    "        roi_list = phases.index.tolist()\n",
    "        \n",
    "    # Get absolute maps:\n",
    "    if use_cont:\n",
    "        elev = (phases_cont['bottom'] - phases_cont['top']) / 2.\n",
    "        azim = (phases_cont['left'] - phases_cont['right']) / 2.\n",
    "        vmin = -np.pi\n",
    "        vmax = np.pi\n",
    "    else:\n",
    "        # Get absolute maps:\n",
    "        elev = (phases['bottom'] - phases['top']) / 2.\n",
    "        azim = (phases['left'] - phases['right']) / 2.\n",
    "        \n",
    "        # Convert to continueous:\n",
    "        elev_c = -1 * elev\n",
    "        elev_c = elev_c % (2*np.pi)\n",
    "        azim_c = -1 * azim\n",
    "        azim_c = azim_c % (2*np.pi)\n",
    "\n",
    "        vmin = 0\n",
    "        vmax = 2*np.pi\n",
    "\n",
    "        azim = copy.copy(azim_c)\n",
    "        elev = copy.copy(elev_c)\n",
    "        \n",
    "    if average_overlap:\n",
    "        azim_phase = mask_with_overlaps_averaged(masks, azim[roi_list], mask_thr=mask_thr)\n",
    "        elev_phase = mask_with_overlaps_averaged(masks, elev[roi_list], mask_thr=mask_thr)\n",
    "    else:\n",
    "        azim_phase = mask_rois(masks, azim[roi_list], mask_thr=mask_thr)\n",
    "        elev_phase = mask_rois(masks, elev[roi_list], mask_thr=mask_thr)   \n",
    "    \n",
    "    \n",
    "    if return_absolute:\n",
    "        return azim_phase, elev_phase, azim, elev\n",
    "    else:\n",
    "        return azim_phase, elev_phase\n",
    "\n"
   ]
  },
  {
   "cell_type": "code",
   "execution_count": 7,
   "metadata": {
    "collapsed": true
   },
   "outputs": [],
   "source": [
    "from scipy.interpolate import SmoothBivariateSpline\n",
    "\n",
    "def fill_and_smooth_nans(img):\n",
    "\n",
    "    y, x = np.meshgrid(np.arange(0, img.shape[1]), np.arange(0, img.shape[0]))\n",
    "    x = x.astype(float)\n",
    "    y = y.astype(float)\n",
    "    z = img.copy()\n",
    "    \n",
    "    xx = x.copy()\n",
    "    yy = y.copy()\n",
    "    xx[np.isnan(z)] = np.nan\n",
    "    yy[np.isnan(z)] = np.nan\n",
    "\n",
    "    xx=xx.ravel()\n",
    "    xx=(xx[~np.isnan(xx)])\n",
    "    yy=yy.ravel()\n",
    "    yy=(yy[~np.isnan(yy)])\n",
    "    zz=z.ravel()\n",
    "    zz=(zz[~np.isnan(zz)])\n",
    "\n",
    "#     xnew = np.arange(xx.min(), xx.max()+1) #np.arange(9,11.5, 0.01)\n",
    "#     ynew = np.arange(yy.min(), yy.max()+1) #np.arange(10.5,15, 0.01)\n",
    "\n",
    "#     f = SmoothBivariateSpline(xx,yy,zz,kx=1,ky=1)\n",
    "#     znew=np.transpose(f(xnew, ynew)).T\n",
    "\n",
    "    xnew = np.arange(x.ravel().min(), x.ravel().max()+1) #np.arange(9,11.5, 0.01)\n",
    "    ynew = np.arange(y.ravel().min(), y.ravel().max()+1) #np.arange(10.5,15, 0.01)\n",
    "    \n",
    "    #print(xnew.min(), xnew.max())\n",
    "    \n",
    "    f = SmoothBivariateSpline(xx,yy,zz,kx=1,ky=1)\n",
    "    znew=f(xnew, ynew) #).T\n",
    "    \n",
    "    znew[np.isnan(z)] = np.nan\n",
    "    \n",
    "    #print(z.shape, znew.shape)\n",
    "    return znew #.T #a\n"
   ]
  },
  {
   "cell_type": "code",
   "execution_count": 8,
   "metadata": {
    "collapsed": true
   },
   "outputs": [],
   "source": [
    "def calculate_gradients(img):\n",
    "    # Get gradient\n",
    "    gdy, gdx = np.gradient(img)\n",
    "    \n",
    "    # 3) Calculate the magnitude\n",
    "    gradmag = np.sqrt(gdx**2 + gdy**2)\n",
    "\n",
    "    # 4) Scale to 8-bit (0 - 255) and convert to type = np.uint8\n",
    "    #scale_factor = np.max(gradmag)/255\n",
    "    #gradmag = (gradmag/scale_factor).astype(np.uint8)\n",
    "\n",
    "    # 3) Take the absolute value of the x and y gradients\n",
    "    abs_gdx = np.absolute(gdx)\n",
    "    abs_gdy = np.absolute(gdy)\n",
    "    # 4) Use np.arctan2(abs_sobely, abs_sobelx) to calculate the direction of the gradient\n",
    "    abs_gd = np.arctan2(gdy, gdx) # np.arctan2(abs_gdy, abs_gdx) # [-pi, pi]\n",
    "\n",
    "    # Get mean direction\n",
    "    #mean_dir = np.rad2deg(np.arctan2(gdy.mean(), gdx.mean())) # TODO why this diff\n",
    "#     mean_dir = np.rad2deg(spstats.circmean([np.arctan2(gy, gx) for gy, gx in zip(gdy.ravel(), gdx.ravel())],\n",
    "#                          low=-np.pi, high=np.pi)) # TODO why this diff\n",
    "    mean_dir = np.rad2deg(spstats.circmean([np.arctan2(gy, gx) for gy, gx in zip(gdy.ravel(), gdx.ravel())\\\n",
    "                                               if ((not np.isnan(gy)) and (not np.isnan(gx)))],\n",
    "                         low=-np.pi, high=np.pi)) # TODO why this diff\n",
    "\n",
    "    # Get unit vector\n",
    "    avg_gradient = spstats.circmean(abs_gd[~np.isnan(abs_gd)], low=-np.pi, high=np.pi) #.mean()\n",
    "    dirvec = (np.cos(avg_gradient), np.sin(avg_gradient))\n",
    "    vhat = dirvec / np.linalg.norm(dirvec)\n",
    "\n",
    "    grad_ = {'image': img,\n",
    "             'magnitude': gradmag,\n",
    "             'gradient_x': gdx,\n",
    "             'gradient_y': gdy,\n",
    "             'direction': abs_gd,\n",
    "             'mean_deg': mean_dir, # DEG\n",
    "             'mean_direction': avg_gradient, # RADIANS\n",
    "             'vhat': vhat}\n",
    "    \n",
    "    return grad_\n",
    "\n",
    "\n",
    "def plot_gradients(grad_, ax=None, draw_interval=3, scale=1, width=0.005, toy=False, headwidth=5):\n",
    "    '''\n",
    "    scale:  # of dat units per arrow length unit (smaller=longer arrow)\n",
    "    scale_units \n",
    "    weight = width of plot\n",
    "    angles='xy' (i.e., arrows point from (x,y) to (x+u, y+v))\n",
    "    Arrows should point TOWARD larger numbers\n",
    "    '''\n",
    "    if ax is None:\n",
    "        fig, ax = pl.subplots()\n",
    "        \n",
    "    gradimg = grad_['image']\n",
    "    mean_dir = grad_['mean_deg']\n",
    "    gdx = grad_['gradient_x']\n",
    "    gdy = grad_['gradient_y']\n",
    "    \n",
    "    # Set limits and number of points in grid\n",
    "    y, x = np.mgrid[0:gradimg.shape[0], 0:gradimg.shape[1]]\n",
    "\n",
    "    # Every 3rd point in each direction.\n",
    "    skip = (slice(None, None, draw_interval), slice(None, None, draw_interval))\n",
    "    \n",
    "    # plot\n",
    "    ax.quiver(x[skip], y[skip], gdx[skip], gdy[skip], color='k',\n",
    "              scale=scale, width=width,\n",
    "              scale_units='xy', angles='xy', pivot='mid', units='width',\n",
    "              headwidth=headwidth)\n",
    "    \n",
    "    gdir_ = grad_['direction'].copy()\n",
    "    gmean = spstats.circmean(gdir_[~np.isnan(gdir_)], low=-np.pi, high=np.pi)\n",
    "    \n",
    "    avg_dir_grad = np.rad2deg(gmean) #np.nanmean(grad_['direction']))\n",
    "    \n",
    "    ax.set(aspect=1, title=\"Mean: %.2f\\n(dir: %.2f)\" % (mean_dir, avg_dir_grad))\n",
    "\n",
    "    return ax"
   ]
  },
  {
   "cell_type": "code",
   "execution_count": 9,
   "metadata": {
    "collapsed": true
   },
   "outputs": [],
   "source": [
    "\n",
    "def get_retino_metadata(experiment='retino', animalids=None,\n",
    "                        roi_type='manual2D_circle', traceid=None,\n",
    "                        rootdir='/n/coxfs01/2p-data', \n",
    "                        aggregate_dir='/n/coxfs01/julianarhee/aggregate-visual-areas'):\n",
    "\n",
    "    sdata_fpath = os.path.join(aggregate_dir, 'dataset_info.pkl')\n",
    "    with open(sdata_fpath, 'rb') as f:\n",
    "        sdata = pkl.load(f)\n",
    "   \n",
    "    meta_list=[]\n",
    "    for (animalid, session, fov), g in sdata.groupby(['animalid', 'session', 'fov']):\n",
    "        if animalids is not None:\n",
    "            if animalid not in animalids:\n",
    "                continue\n",
    "        exp_list = [e for e in g['experiment'].values if experiment in e] \n",
    "        if len(exp_list)==0:\n",
    "            print('skipping, no retino (%s, %s, %s)' % (animalid, session, fov)) \n",
    "        retino_dirs = glob.glob(os.path.join(rootdir, animalid, session, fov, '%s*' % experiment,\n",
    "                                'retino_analysis'))\n",
    "        # get analysis ids for non-pixel\n",
    "        for retino_dir in retino_dirs:\n",
    "            retino_run = os.path.split(os.path.split(retino_dir)[0])[-1]\n",
    "            if traceid is None:\n",
    "                rid_fpath = glob.glob(os.path.join(retino_dir, 'analysisids_*.json'))[0]\n",
    "                with open(rid_fpath, 'r') as f:\n",
    "                    retids = json.load(f)\n",
    "                traceids = [r for r, res in retids.items() if res['PARAMS']['roi_type']==roi_type] \n",
    "                for traceid in traceids: \n",
    "                    meta_list.append(tuple([animalid, session, fov, retino_run, traceid]))\n",
    "            else:\n",
    "                meta_list.append(tuple([animalid, session, fov, retino_run, traceid]))\n",
    "\n",
    "    return meta_list\n",
    "\n"
   ]
  },
  {
   "cell_type": "markdown",
   "metadata": {},
   "source": [
    "## Some aggregate plotting stuff"
   ]
  },
  {
   "cell_type": "code",
   "execution_count": 10,
   "metadata": {
    "collapsed": true
   },
   "outputs": [],
   "source": [
    "visual_areas = ['V1', 'Lm', 'Li']\n",
    "colors = ['magenta', 'orange', 'dodgerblue'] #sns.color_palette(palette='colorblind') #, n_colors=3)\n",
    "area_colors = {'V1': colors[0], 'Lm': colors[1], 'Li': colors[2]}\n",
    "\n",
    "#### Plot params\n",
    "pl.rcParams[\"axes.labelsize\"] = 16\n",
    "pl.rcParams[\"xtick.labelsize\"] = 12\n",
    "pl.rcParams[\"ytick.labelsize\"] = 12\n",
    "\n",
    "dpi = 150"
   ]
  },
  {
   "cell_type": "markdown",
   "metadata": {},
   "source": [
    "# Select dataset"
   ]
  },
  {
   "cell_type": "code",
   "execution_count": 11,
   "metadata": {
    "collapsed": true
   },
   "outputs": [],
   "source": [
    "rootdir = '/n/coxfs01/2p-data'\n",
    "aggr_dir = '/n/coxfs01/julianarhee/aggregate-visual-areas'\n",
    "\n",
    "traceid = 'traces001'\n"
   ]
  },
  {
   "cell_type": "markdown",
   "metadata": {},
   "source": [
    "# Set output dirs"
   ]
  },
  {
   "cell_type": "code",
   "execution_count": 12,
   "metadata": {},
   "outputs": [
    {
     "data": {
      "text/plain": [
       "'/n/coxfs01/julianarhee/aggregate-visual-areas/retinotopy'"
      ]
     },
     "execution_count": 12,
     "metadata": {},
     "output_type": "execute_result"
    }
   ],
   "source": [
    "aggr_retino_dir = os.path.join(aggr_dir, 'retinotopy') #, 'figures', 'caiman-examples')\n",
    "if not os.path.exists(aggr_retino_dir):\n",
    "    os.makedirs(aggr_retino_dir)\n",
    "aggr_retino_dir"
   ]
  },
  {
   "cell_type": "markdown",
   "metadata": {},
   "source": [
    "# Example FOV -------------------------------------------------------------------------------"
   ]
  },
  {
   "cell_type": "code",
   "execution_count": 13,
   "metadata": {
    "collapsed": true
   },
   "outputs": [],
   "source": [
    "animalid = 'JC085' #'JC085'\n",
    "session = '20190622' #'20190626'\n",
    "fov = 'FOV1_zoom2p0x'\n",
    "retinorun = 'retino_run1'\n"
   ]
  },
  {
   "cell_type": "markdown",
   "metadata": {},
   "source": [
    "# Load data"
   ]
  },
  {
   "cell_type": "code",
   "execution_count": 14,
   "metadata": {
    "tags": []
   },
   "outputs": [
    {
     "name": "stdout",
     "output_type": "stream",
     "text": [
      "Loaded: retino_run1, analysis002 (/n/coxfs01/2p-data/JC085/20190622/FOV1_zoom2p0x/retino_run1))\n",
      "data ID: JC085_20190622_FOV1_zoom2p0x_retino_run1_analysis002\n",
      "Saving output to:\n",
      " /n/coxfs01/2p-data/JC085/20190622/FOV1_zoom2p0x/retino_run1/retino_analsysis/retino-structure\n"
     ]
    }
   ],
   "source": [
    "# Load data metainfo\n",
    "run_dir = os.path.join(rootdir, animalid, session, fov, retinorun)\n",
    "RETID = ret_utils.load_retinoanalysis(run_dir, traceid)\n",
    "analysis_dir = RETID['DST']\n",
    "retinoid = RETID['analysis_id']\n",
    "print(\"Loaded: %s, %s (%s))\" % (retinorun, retinoid, run_dir))\n",
    "data_id = '_'.join([animalid, session, fov, retinorun, retinoid])\n",
    "print(\"data ID: %s\" % data_id)\n",
    "\n",
    "# Load MW info and SI info\n",
    "mwinfo = ret_utils.load_mw_info(animalid, session, fov, retinorun)\n",
    "scaninfo = ret_utils.get_protocol_info(animalid, session, fov, run=retinorun) # load_si(run_dir)\n",
    "trials_by_cond = scaninfo['trials']\n",
    "\n",
    "# Set current animal's retino output dir\n",
    "curr_dst_dir = os.path.join(run_dir, 'retino_analsysis', 'retino-structure')\n",
    "if not os.path.exists(curr_dst_dir):\n",
    "    os.makedirs(curr_dst_dir)\n",
    "print(\"Saving output to:\\n %s\" % curr_dst_dir)"
   ]
  },
  {
   "cell_type": "markdown",
   "metadata": {},
   "source": [
    "# Select colormap"
   ]
  },
  {
   "cell_type": "code",
   "execution_count": 16,
   "metadata": {},
   "outputs": [
    {
     "data": {
      "text/plain": [
       "<module 'pipeline.python.retinotopy.utils' from '/home/julianarhee/Repositories/2p-pipeline/pipeline/python/retinotopy/utils.py'>"
      ]
     },
     "execution_count": 16,
     "metadata": {},
     "output_type": "execute_result"
    }
   ],
   "source": [
    "reload(ret_utils)"
   ]
  },
  {
   "cell_type": "code",
   "execution_count": 17,
   "metadata": {
    "scrolled": false,
    "tags": []
   },
   "outputs": [],
   "source": [
    "# Load colormap\n",
    "cmap_name = 'nic_Edge'\n",
    "zero_center = True\n",
    "screen, cmap_phase = ret_utils.get_retino_legends(cmap_name=cmap_name, zero_center=zero_center, \n",
    "                                                  return_cmap=True, dst_dir=None)"
   ]
  },
  {
   "cell_type": "markdown",
   "metadata": {},
   "source": [
    "# Get mask info"
   ]
  },
  {
   "cell_type": "code",
   "execution_count": 18,
   "metadata": {
    "scrolled": true
   },
   "outputs": [
    {
     "name": "stdout",
     "output_type": "stream",
     "text": [
      "... FOV size: (256, 256) (downsample factor=2)\n"
     ]
    }
   ],
   "source": [
    "# Get ROIID and projection image\n",
    "masks_soma, masks_np, zimg = ret_utils.load_soma_and_np_masks(RETID)\n",
    "roiid = RETID['PARAMS']['roi_id']\n",
    "ds_factor = int(RETID['PARAMS']['downsample_factor'])\n",
    "nrois_total, d1, d2 = masks_soma.shape\n",
    "\n",
    "# fig, ax = pl.subplots()\n",
    "# roi_utils.plot_neuropil_masks(masks_soma, masks_np, zimg, ax=ax)\n",
    "# ax.set_title('soma + neuropil masks')\n",
    "# label_figure(fig, data_id)\n",
    "# pl.savefig(os.path.join(curr_dst_dir, 'soma-v-neuropil-masks.png'))"
   ]
  },
  {
   "cell_type": "markdown",
   "metadata": {},
   "source": [
    "# Dilate soma masks\n",
    "From Liang et al., 2018, Cell.\n",
    "1. Assign center of neuropil ring w/ preferred retino location.\n",
    "2. From Neurpil ring center, dilate by a disk of 10um radius (20um diam)\n",
    "3. Average overlapping disks\n",
    "4. Spatially smooth w/ isotropic 2D Guassian filter (std=2um) for final pixe-wise estimates \n",
    "\n",
    "Nots: measured pixel size: (2.3, 1.9)\n",
    "Want to dilate by ~9.52380952381\n"
   ]
  },
  {
   "cell_type": "code",
   "execution_count": 19,
   "metadata": {},
   "outputs": [
    {
     "name": "stdout",
     "output_type": "stream",
     "text": [
      "Measured pixel size: (2.3, 1.9) (~1.05um/pix).\n",
      "Pixel size with ds_factor 2.00 = 9\n"
     ]
    }
   ],
   "source": [
    "desired_radius_um = 10.0 #20.0\n",
    "pixel_size = putils.get_pixel_size()\n",
    "um_per_pixel = np.mean(pixel_size) / ds_factor # divide by DS factor (pixels are half if ds=2)\n",
    "pixels2dilate = desired_radius_um/um_per_pixel\n",
    "print(\"Measured pixel size: %s (~%.2fum/pix).\\nPixel size with ds_factor %.2f = %i\" % (str(pixel_size), um_per_pixel, ds_factor, pixels2dilate))\n",
    "\n"
   ]
  },
  {
   "cell_type": "code",
   "execution_count": 20,
   "metadata": {},
   "outputs": [
    {
     "name": "stdout",
     "output_type": "stream",
     "text": [
      "Kernel ((9, 9)), Dilation diameter (um): 9.45\n"
     ]
    }
   ],
   "source": [
    "check_masks = False\n",
    "\n",
    "# Set kernel params\n",
    "kernel_size = np.ceil(pixels2dilate) #+2 #21\n",
    "kernel_radius = (kernel_size - 1) // 2\n",
    "x, y = np.ogrid[-kernel_radius:kernel_radius+1, -kernel_radius:kernel_radius+1]\n",
    "dist = (x**2 + y**2)**0.5 # shape (kernel_size, kernel_size)\n",
    "\n",
    "# Create three kernels for the sake of example\n",
    "radii = np.array([kernel_size/3., kernel_size/2.5, kernel_size/2.])[...,None,None] # shape (num_radii, 1, 1)\n",
    "kernel = (1 - (dist - radii).clip(0,1)).sum(axis=0)# shape (num_radii, kernel_size, kernel_size)\n",
    "kernel_diam_um = (kernel.shape[0]*um_per_pixel)\n",
    "print(\"Kernel (%s), Dilation diameter (um): %.2f\" % (str(kernel.shape), kernel_diam_um))\n",
    "\n",
    "## Dilate all masks with kernel\n",
    "dilated_masks = dilate_mask_centers(masks_soma.astype(float), kernel_size=kernel_size)\n",
    "\n",
    "if check_masks:\n",
    "    fig, axn = pl.subplots(1, 2, figsize=(3,6))\n",
    "    axn[0].imshow(kernel)\n",
    "\n",
    "    rid = 33\n",
    "    axn[1].imshow(dilated_masks[rid, :, :])\n",
    "    axn[1].set_title(\"Kernel size: %.2f\\n(final diam: %.2f um)\" % (kernel_size, kernel_diam_um))\n",
    "    x, y = np.where(dilated_masks[rid, :, :]>0)\n",
    "    print \"X/Y-min/max:\", x.max()-x.min(), y.max()-y.min()\n"
   ]
  },
  {
   "cell_type": "markdown",
   "metadata": {},
   "source": [
    "# Rescale FOV image"
   ]
  },
  {
   "cell_type": "code",
   "execution_count": 21,
   "metadata": {},
   "outputs": [
    {
     "name": "stdout",
     "output_type": "stream",
     "text": [
      "((256, 256), (1177, 972))\n"
     ]
    },
    {
     "data": {
      "text/plain": [
       "<matplotlib.image.AxesImage at 0x7fbf51928810>"
      ]
     },
     "execution_count": 21,
     "metadata": {},
     "output_type": "execute_result"
    },
    {
     "data": {
      "image/png": "[encoded data removed]",
      "text/plain": [
       "<matplotlib.figure.Figure at 0x7fbf5171a290>"
      ]
     },
     "metadata": {},
     "output_type": "display_data"
    }
   ],
   "source": [
    "pixel_size = putils.get_pixel_size()\n",
    "pixel_size = (pixel_size[0]*ds_factor, pixel_size[1]*ds_factor)\n",
    "\n",
    "zimg_r = coreg.transform_2p_fov(zimg, pixel_size)\n",
    "print(zimg.shape, zimg_r.shape)\n",
    "\n",
    "pl.figure()\n",
    "pl.imshow(zimg_r)"
   ]
  },
  {
   "cell_type": "markdown",
   "metadata": {},
   "source": [
    "# Process raw traces"
   ]
  },
  {
   "cell_type": "code",
   "execution_count": 22,
   "metadata": {
    "tags": []
   },
   "outputs": [
    {
     "name": "stdout",
     "output_type": "stream",
     "text": [
      "... loading traces (neuropil)\n",
      "... loading traces (raw)\n"
     ]
    }
   ],
   "source": [
    "#### Load raw and process traces -- returns average trace for condition\n",
    "temporal_ds = float(RETID['PARAMS']['average_frames'])\n",
    "\n",
    "#### Load raw and process traces -- returns average trace for condition\n",
    "retino_dpath = os.path.join(analysis_dir, 'traces', 'extracted_traces.h5')\n",
    "temporal_ds = float(RETID['PARAMS']['average_frames'])\n",
    "np_traces = ret_utils.load_traces(animalid, session, fov, run=retinorun,\n",
    "                                  analysisid=retinoid, trace_type='neuropil')\n",
    "soma_traces = ret_utils.load_traces(animalid, session, fov, run=retinorun,\n",
    "                                  analysisid=retinoid, trace_type='raw')"
   ]
  },
  {
   "cell_type": "markdown",
   "metadata": {},
   "source": [
    "# Do FFT analysis"
   ]
  },
  {
   "cell_type": "code",
   "execution_count": 26,
   "metadata": {
    "tags": []
   },
   "outputs": [
    {
     "name": "stdout",
     "output_type": "stream",
     "text": [
      "Mag ratio: 0.01\n",
      "[soma] 54 out of 389 cells pass mag-ratio thr (thr>=0.010, all)\n",
      "[np] 3 out of 389 cells pass mag-ratio thr (thr>=0.100, all)\n",
      "54 out of 389 cells pass mag-ratio thr (thr>=0.010, all)\n"
     ]
    },
    {
     "data": {
      "image/png": "[encoded data removed]",
      "text/plain": [
       "<matplotlib.figure.Figure at 0x7fbf51836510>"
      ]
     },
     "metadata": {},
     "output_type": "display_data"
    }
   ],
   "source": [
    "mag_thr=0.01 #if trace_type == 'neuropil' else 0.02\n",
    "np_mag_thr = 0.1\n",
    "pass_criterion='all'\n",
    "plot_examples = True\n",
    "\n",
    "\n",
    "print(\"Mag ratio: %.2f\" % mag_thr)\n",
    "\n",
    "#### Get FFT params\n",
    "n_frames = scaninfo['stimulus']['n_frames']\n",
    "frame_rate = scaninfo['stimulus']['frame_rate']\n",
    "stim_freq_idx = scaninfo['stimulus']['stim_freq_idx']\n",
    "freqs = np.fft.fftfreq(n_frames, float(1./frame_rate)) # Label frequency bins\n",
    "sorted_freq_idxs = np.argsort(freqs)\n",
    "\n",
    "#### Do FFT\n",
    "fft_soma = dict((cond, ret_utils.do_fft_analysis(tdf, sorted_freq_idxs, stim_freq_idx)) for cond, tdf in soma_traces.items())\n",
    "fft_np = dict((cond, ret_utils.do_fft_analysis(tdf, sorted_freq_idxs, stim_freq_idx)) for cond, tdf in np_traces.items())\n",
    "\n",
    "# Get magratios -- each column is a condition\n",
    "magratios_soma = pd.DataFrame(dict((cond, k[0]) for cond, k in fft_soma.items()))\n",
    "magratios_np = pd.DataFrame(dict((cond, k[0]) for cond, k in fft_np.items()))\n",
    "\n",
    "# Get phases\n",
    "phases_soma = pd.DataFrame(dict((cond, k[1]) for cond, k in fft_soma.items()))\n",
    "phases_np = pd.DataFrame(dict((cond, k[1]) for cond, k in fft_np.items()))\n",
    "\n",
    "# Get average across conditions\n",
    "mean_magratio_values_soma = magratios_soma.mean(axis=1).values \n",
    "mean_magratio_values_np = magratios_np.mean(axis=1).values\n",
    "\n",
    "\n",
    "# Filter out bad cells\n",
    "conds = [c for c in magratios_soma.columns if c!='blank']\n",
    "if pass_criterion=='all':\n",
    "    soma_rois = [i for i in magratios_soma.index if all(magratios_soma[conds].loc[i] >= mag_thr)]\n",
    "    np_rois = [i for i in magratios_np.index if all(magratios_np[conds].loc[i] >= np_mag_thr)]\n",
    "elif pass_criterion=='either':\n",
    "    az_conds = [c for c in magratios_soma.columns if c in ['right', 'left']]\n",
    "    el_conds = [c for c in magratios_soma.columns if c in ['top', 'bottom']]\n",
    "    soma_rois = [i for i in magratios_soma.index \\\n",
    "                if (any(magratios_soma[az_conds].loc[i] >= mag_thr) \\\n",
    "                    and (any(magratios_soma[el_conds].loc[i] >= mag_thr))) ]\n",
    "    np_rois = [i for i in magratios_np.index \\\n",
    "                if (any(magratios_np[az_conds].loc[i] >= mag_thr) \\\n",
    "                    and (any(magratios_np[el_conds].loc[i] >= np_mag_thr))) ]\n",
    "elif pass_criterion == 'any':\n",
    "    soma_rois = [i for i in magratios_soma.index if any(magratios_soma[conds].loc[i] >= mag_thr) ]\n",
    "    np_rois = [i for i in magratios_np.index if any(magratios_np[conds].loc[i] >= np_mag_thr)]\n",
    "else:\n",
    "    soma_rois = magratios_soma.index.tolist()\n",
    "    np_rois = magratios_np.index.tolist()\n",
    "\n",
    "nrois_total = len(mean_magratio_values_soma)\n",
    "print(\"[soma] %i out of %i cells pass mag-ratio thr (thr>=%.3f, %s)\" % (len(soma_rois), nrois_total, mag_thr, pass_criterion))\n",
    "print(\"[np] %i out of %i cells pass mag-ratio thr (thr>=%.3f, %s)\" % (len(np_rois), nrois_total, np_mag_thr, pass_criterion))\n",
    "\n",
    "\n",
    "# Use NP mean to get roi list\n",
    "mag_thr = np_mag_thr if pass_criterion=='npmean' else mag_thr\n",
    "roi_list = pass_np_rlist if pass_criterion=='npmean' else soma_rois\n",
    "print(\"%i out of %i cells pass mag-ratio thr (thr>=%.3f, %s)\" % (len(roi_list), nrois_total, mag_thr, pass_criterion))\n",
    "\n",
    "\n",
    "# Sort ROIs by their average mag ratios\n",
    "sorted_rois_soma = np.argsort(mean_magratio_values_soma)[::-1]\n",
    "sorted_by_mag = [r for r in sorted_rois_soma if r in roi_list]\n",
    "\n",
    "# Look at example cell\n",
    "if plot_examples:\n",
    "    ret_utils.plot_some_example_traces(soma_traces, np_traces, plot_rois=sorted_rois_soma[0:3],\n",
    "                         dst_dir=curr_dst_dir, data_id=data_id)\n",
    "    "
   ]
  },
  {
   "cell_type": "code",
   "execution_count": 27,
   "metadata": {},
   "outputs": [
    {
     "data": {
      "text/plain": [
       "'all'"
      ]
     },
     "execution_count": 27,
     "metadata": {},
     "output_type": "execute_result"
    }
   ],
   "source": [
    "pass_criterion"
   ]
  },
  {
   "cell_type": "code",
   "execution_count": 28,
   "metadata": {
    "scrolled": true
   },
   "outputs": [
    {
     "data": {
      "text/plain": [
       "<matplotlib.axes._subplots.AxesSubplot at 0x7fbf51928a90>"
      ]
     },
     "execution_count": 28,
     "metadata": {},
     "output_type": "execute_result"
    },
    {
     "data": {
      "image/png": "[encoded data removed]",
      "text/plain": [
       "<matplotlib.figure.Figure at 0x7fbf519331d0>"
      ]
     },
     "metadata": {},
     "output_type": "display_data"
    }
   ],
   "source": [
    "pl.figure()\n",
    "sns.distplot(magratios_np.loc[soma_rois].mean(axis=1))\n",
    "sns.distplot(magratios_np.loc[np_rois].mean(axis=1))"
   ]
  },
  {
   "cell_type": "markdown",
   "metadata": {},
   "source": [
    "# Assign phase to neuropil"
   ]
  },
  {
   "cell_type": "code",
   "execution_count": 29,
   "metadata": {},
   "outputs": [
    {
     "ename": "NameError",
     "evalue": "name 'average_overlap' is not defined",
     "output_type": "error",
     "traceback": [
      "\u001b[0;31m---------------------------------------------------------------------------\u001b[0m",
      "\u001b[0;31mNameError\u001b[0m                                 Traceback (most recent call last)",
      "\u001b[0;32m<ipython-input-29-3198c227967e>\u001b[0m in \u001b[0;36m<module>\u001b[0;34m()\u001b[0m\n\u001b[1;32m      1\u001b[0m azim_phase_np, elev_phase_np, azim_np, elev_np = get_phase_masks(dilated_masks, phases_np, \n\u001b[0;32m----> 2\u001b[0;31m                                                             \u001b[0maverage_overlap\u001b[0m\u001b[0;34m=\u001b[0m\u001b[0maverage_overlap\u001b[0m\u001b[0;34m,\u001b[0m\u001b[0;34m\u001b[0m\u001b[0m\n\u001b[0m\u001b[1;32m      3\u001b[0m                                                             \u001b[0mroi_list\u001b[0m\u001b[0;34m=\u001b[0m\u001b[0mNone\u001b[0m\u001b[0;34m,\u001b[0m \u001b[0muse_cont\u001b[0m\u001b[0;34m=\u001b[0m\u001b[0muse_cont\u001b[0m\u001b[0;34m,\u001b[0m\u001b[0;34m\u001b[0m\u001b[0m\n\u001b[1;32m      4\u001b[0m                                                             mask_thr=mask_thr, return_absolute=True)\n",
      "\u001b[0;31mNameError\u001b[0m: name 'average_overlap' is not defined"
     ]
    }
   ],
   "source": [
    "azim_phase_np, elev_phase_np, azim_np, elev_np = get_phase_masks(dilated_masks, phases_np, \n",
    "                                                            average_overlap=average_overlap, \n",
    "                                                            roi_list=None, use_cont=use_cont,\n",
    "                                                            mask_thr=mask_thr, return_absolute=True)\n"
   ]
  },
  {
   "cell_type": "code",
   "execution_count": 412,
   "metadata": {
    "collapsed": true,
    "scrolled": true
   },
   "outputs": [],
   "source": [
    "# soma_mag_means = magratios_soma.mean(axis=1)\n",
    "np_mag_means_from_soma = magratios_np.loc[soma_rois].mean(axis=1)\n",
    "np_mag_means_from_np = magratios_np.loc[np_rois].mean(axis=1)\n",
    "\n",
    "np_mag_means = magratios_np.mean(axis=1) # magratios_np.loc[np_rois].mean(axis=1)"
   ]
  },
  {
   "cell_type": "code",
   "execution_count": 413,
   "metadata": {
    "scrolled": true
   },
   "outputs": [
    {
     "name": "stdout",
     "output_type": "stream",
     "text": [
      "NP filtered: 33, Soma filtered: 24, NP mean: 51\n"
     ]
    }
   ],
   "source": [
    "np_mag_thr=0.1\n",
    "pass_np_rlist_from_soma = np_mag_means_from_soma[np_mag_means_from_soma>=np_mag_thr].index.tolist()\n",
    "pass_np_rlist_from_np = np_mag_means_from_np[np_mag_means_from_np>=np_mag_thr].index.tolist()\n",
    "pass_np_rlist = np_mag_means[np_mag_means>=np_mag_thr].index.tolist()\n",
    "\n",
    "print(\"NP filtered: %i, Soma filtered: %i, NP mean: %i\" \n",
    "      % (len(pass_np_rlist_from_np), len(pass_np_rlist_from_soma), len(pass_np_rlist)))\n",
    "fail_np_rlist_from_soma = [r for r in roi_list if r not in pass_np_rlist_from_soma]\n",
    "fail_np_rlist = [r for r in roi_list if r not in pass_np_rlist]"
   ]
  },
  {
   "cell_type": "code",
   "execution_count": 415,
   "metadata": {},
   "outputs": [
    {
     "data": {
      "text/plain": [
       "('JC099', '20190609')"
      ]
     },
     "execution_count": 415,
     "metadata": {},
     "output_type": "execute_result"
    }
   ],
   "source": [
    "animalid, session"
   ]
  },
  {
   "cell_type": "code",
   "execution_count": 416,
   "metadata": {},
   "outputs": [
    {
     "data": {
      "text/plain": [
       "<matplotlib.legend.Legend at 0x7f9679409690>"
      ]
     },
     "execution_count": 416,
     "metadata": {},
     "output_type": "execute_result"
    },
    {
     "data": {
      "image/png": "[encoded data removed]",
      "text/plain": [
       "<matplotlib.figure.Figure at 0x7f96892711d0>"
      ]
     },
     "metadata": {},
     "output_type": "display_data"
    }
   ],
   "source": [
    "fig, axn = pl.subplots(1,3, figsize=(8,3))\n",
    "ax = axn[0]\n",
    "sns.distplot(azim_np[pass_np_rlist_from_soma].values, label='from_soma (%i)' % len(pass_np_rlist_from_soma), ax=ax)\n",
    "sns.distplot(azim_np[pass_np_rlist].values, label='from_np (%i)' % len(pass_np_rlist), ax=ax)\n",
    "ax.legend()\n",
    "\n",
    "ax = axn[1]\n",
    "sns.distplot(azim_np[pass_np_rlist_from_soma].values, label='from_soma', ax=ax)\n",
    "sns.distplot(azim_np[fail_np_rlist_from_soma].values, label='fail', ax=ax)\n",
    "ax.legend()\n",
    "\n",
    "\n",
    "ax = axn[2]\n",
    "sns.distplot(azim_np[pass_np_rlist].values, label='from_np', ax=ax)\n",
    "sns.distplot(azim_np[fail_np_rlist].values, label='fail', ax=ax)\n",
    "ax.legend()\n"
   ]
  },
  {
   "cell_type": "code",
   "execution_count": 417,
   "metadata": {
    "collapsed": true,
    "scrolled": true
   },
   "outputs": [],
   "source": [
    "import copy"
   ]
  },
  {
   "cell_type": "code",
   "execution_count": 418,
   "metadata": {},
   "outputs": [
    {
     "name": "stdout",
     "output_type": "stream",
     "text": [
      "51\n"
     ]
    }
   ],
   "source": [
    "print(len(pass_np_rlist))"
   ]
  },
  {
   "cell_type": "code",
   "execution_count": 420,
   "metadata": {},
   "outputs": [
    {
     "name": "stdout",
     "output_type": "stream",
     "text": [
      "51\n"
     ]
    }
   ],
   "source": [
    "roi_list = copy.copy(pass_np_rlist)\n",
    "print(len(roi_list))"
   ]
  },
  {
   "cell_type": "code",
   "execution_count": null,
   "metadata": {
    "collapsed": true
   },
   "outputs": [],
   "source": [
    "use_cont = True\n",
    "average_overlap = True\n",
    "filter_by_mag = True\n",
    "mask_thr=0.01\n",
    "\n",
    "# Set bounds for averaging\n",
    "vmin = -np.pi if use_cont else 0\n",
    "vmax = np.pi if use_cont else 2*np.pi\n",
    "\n",
    "# Assign phase value to dilated masks\n",
    "azim_phase_np, elev_phase_np = get_phase_masks(dilated_masks, phases_np, average_overlap=average_overlap, \n",
    "                                               roi_list=roi_list, use_cont=use_cont, mask_thr=mask_thr)\n",
    "\n",
    "azim_phase_soma, elev_phase_soma = get_phase_masks(masks_soma, phases_soma, average_overlap=average_overlap, \n",
    "                                                   roi_list=roi_list, use_cont=use_cont, mask_thr=mask_thr)\n",
    "\n",
    "# Mask images for plotting\n",
    "azim_phase_mask_np = np.ma.masked_where(azim_phase_np==-100, azim_phase_np)\n",
    "elev_phase_mask_np = np.ma.masked_where(elev_phase_np==-100, elev_phase_np)\n",
    "\n",
    "azim_phase_mask_soma = np.ma.masked_where(azim_phase_soma==-100, azim_phase_soma)\n",
    "elev_phase_mask_soma = np.ma.masked_where(elev_phase_soma==-100, elev_phase_soma)\n"
   ]
  },
  {
   "cell_type": "markdown",
   "metadata": {},
   "source": [
    "# Smooth"
   ]
  },
  {
   "cell_type": "code",
   "execution_count": null,
   "metadata": {
    "scrolled": true
   },
   "outputs": [],
   "source": [
    "# Spatial smooth neuropil dilated masks \n",
    "smooth_fwhm = 7 #21\n",
    "azim_smoothed = ret_utils.smooth_neuropil(azim_phase_np, smooth_fwhm=smooth_fwhm)\n",
    "elev_smoothed = ret_utils.smooth_neuropil(elev_phase_np, smooth_fwhm=smooth_fwhm)\n",
    "\n",
    "if 'zoom1p0x' in fov:\n",
    "    print(\"... resizing\")\n",
    "    azim_smoothed = cv2.resize(azim_smoothed, (new_d1, new_d2))\n",
    "    elev_smoothed = cv2.resize(elev_smoothed, (new_d1, new_d2))\n",
    "    \n",
    "azim_smoothed = fill_and_smooth_nans(azim_smoothed)\n",
    "elev_smoothed = fill_and_smooth_nans(elev_smoothed)\n",
    "\n",
    "# Transform FOV to match widefield\n",
    "azim_r = coreg.transform_2p_fov(azim_smoothed, pixel_size, normalize=False)\n",
    "elev_r = coreg.transform_2p_fov(elev_smoothed, pixel_size, normalize=False)\n",
    "print(azim_r[~np.isnan(azim_r)].min(), azim_r[~np.isnan(azim_r)].max())\n",
    "\n",
    "az_fill = azim_r.copy()\n",
    "el_fill = elev_r.copy()\n",
    "\n",
    "azim_soma_r = coreg.transform_2p_fov(azim_phase_mask_np, pixel_size, normalize=False)\n",
    "elev_soma_r = coreg.transform_2p_fov(elev_phase_mask_soma, pixel_size, normalize=False)"
   ]
  },
  {
   "cell_type": "code",
   "execution_count": 423,
   "metadata": {},
   "outputs": [
    {
     "name": "stdout",
     "output_type": "stream",
     "text": [
      "(u'/n/coxfs01/2p-data/JC099/20190609/FOV1_zoom2p0x/retino_run1/retino_analysis/analysis002_733e38/retino-structure', 'soma-v-neuropil_dilate-center-10_spatial-smooth-7_circ_magthr-0.010-either')\n"
     ]
    },
    {
     "data": {
      "image/png": "[encoded data removed]",
      "text/plain": [
       "<matplotlib.figure.Figure at 0x7f968927a990>"
      ]
     },
     "metadata": {},
     "output_type": "display_data"
    }
   ],
   "source": [
    "fig, axn = pl.subplots(2,4, figsize=(10,6))\n",
    "\n",
    "ax = axn[0,0]\n",
    "ax.imshow(azim_phase_mask_soma, cmap=cmap_phase, vmin=vmin, vmax=vmax)\n",
    "ax.set_title('soma')\n",
    "ax.set_ylabel('Azimuth')\n",
    "\n",
    "ax = axn[0, 1]\n",
    "ax.set_title('neuropil, center-dilated')\n",
    "ax.imshow(azim_phase_mask_np, cmap=cmap_phase, vmin=vmin, vmax=vmax)\n",
    "\n",
    "ax = axn[0, 2]\n",
    "ax.imshow(azim_smoothed, cmap=cmap_phase, vmin=vmin, vmax=vmax)\n",
    "ax.set_title('spatial smooth (%i)' % smooth_fwhm)\n",
    "\n",
    "ax = axn[0, 3]\n",
    "im0 = ax.imshow(az_fill, cmap=cmap_phase, vmin=vmin, vmax=vmax)\n",
    "ax.set_title('filled NaNs')\n",
    "pl.colorbar(im0, ax=ax, orientation='horizontal', shrink=0.7)\n",
    "ax.imshow(azim_soma_r, cmap=cmap_phase, vmin=vmin, vmax=vmax)\n",
    "\n",
    "ax = axn[1, 0]\n",
    "ax.imshow(elev_phase_mask_soma, cmap=cmap_phase, vmin=vmin, vmax=vmax)\n",
    "ax.set_ylabel('Altitude')\n",
    "\n",
    "ax = axn[1, 1]\n",
    "ax.imshow(elev_phase_mask_np, cmap=cmap_phase, vmin=vmin, vmax=vmax)\n",
    "\n",
    "ax = axn[1, 2]\n",
    "ax.imshow(elev_smoothed, cmap=cmap_phase, vmin=vmin, vmax=vmax)\n",
    "\n",
    "ax = axn[1, 3]\n",
    "im1= ax.imshow(el_fill, cmap=cmap_phase, vmin=vmin, vmax=vmax)\n",
    "ax.set_title('filled NaNs')\n",
    "pl.colorbar(im1, ax=ax, orientation='vertical', shrink=0.7)\n",
    "ax.imshow(elev_soma_r, cmap=cmap_phase, vmin=vmin, vmax=vmax)\n",
    "\n",
    "pl.subplots_adjust(wspace=0.3, hspace=0.3)\n",
    "putils.label_figure(fig, data_id)\n",
    "\n",
    "figname = 'soma-v-neuropil_dilate-center-%i_spatial-smooth-%i_circ_magthr-%.3f-%s' % (kernel_size, smooth_fwhm, mag_thr, pass_criterion)\n",
    "#pl.savefig(os.path.join(curr_dst_dir, '%s.png' % figname))\n",
    "print(curr_dst_dir, figname)"
   ]
  },
  {
   "cell_type": "markdown",
   "metadata": {},
   "source": [
    "#### Plot smoothed azimuth neuropil"
   ]
  },
  {
   "cell_type": "code",
   "execution_count": 424,
   "metadata": {},
   "outputs": [
    {
     "data": {
      "text/plain": [
       "Text(0.5,1,u'Altitude')"
      ]
     },
     "execution_count": 424,
     "metadata": {},
     "output_type": "execute_result"
    },
    {
     "data": {
      "image/png": "[encoded data removed]",
      "text/plain": [
       "<matplotlib.figure.Figure at 0x7f967a8cb050>"
      ]
     },
     "metadata": {},
     "output_type": "display_data"
    }
   ],
   "source": [
    "cmap = 'nipy_spectral' # cmap_phase\n",
    "overlay = True\n",
    "overlay_str = '_overlay' if overlay else ''\n",
    "alpha = 0.5 if overlay else 1.0\n",
    "\n",
    "fig, axn = pl.subplots(1,2)\n",
    "ax = axn[0]\n",
    "if overlay:\n",
    "    ax.imshow(zimg_r, cmap='gray')\n",
    "ax.imshow(azim_r, cmap=cmap_phase, vmin=vmin, vmax=vmax, alpha=alpha)\n",
    "ax.set_title('Azimuth')\n",
    "\n",
    "ax = axn[1]\n",
    "if overlay:\n",
    "    ax.imshow(zimg_r, cmap='gray')\n",
    "ax.imshow(elev_r, cmap=cmap_phase, vmin=vmin, vmax=vmax, alpha=alpha)\n",
    "ax.set_title('Altitude')\n",
    "\n",
    "#figname = 'overlay_dilate-%i_spatial-fwhm-%i%s' % (kernel_size, smooth_fwhm, overlay_str)\n",
    "\n",
    "#pl.savefig(os.path.join(curr_dst_dir, '%s.png' % figname))\n"
   ]
  },
  {
   "cell_type": "markdown",
   "metadata": {},
   "source": [
    "# Calculate image gradient"
   ]
  },
  {
   "cell_type": "code",
   "execution_count": 425,
   "metadata": {
    "collapsed": true
   },
   "outputs": [],
   "source": [
    "# Convert to degrees\n",
    "screen = putils.get_screen_dims()\n",
    "screen_max = screen['azimuth_deg']/2.\n",
    "screen_min = -screen_max"
   ]
  },
  {
   "cell_type": "code",
   "execution_count": 426,
   "metadata": {
    "collapsed": true
   },
   "outputs": [],
   "source": [
    "plot_degrees = True\n",
    "\n",
    "vmin=-np.pi\n",
    "vmax=np.pi\n",
    "img_az = convert_range(az_fill, oldmin=vmin, oldmax=vmax, newmin=screen_min, newmax=screen_max)\n",
    "img_el = convert_range(el_fill, oldmin=vmin, oldmax=vmax,newmin=screen_min, newmax=screen_max)\n",
    "vmin, vmax = (screen_min, screen_max)\n"
   ]
  },
  {
   "cell_type": "code",
   "execution_count": 427,
   "metadata": {},
   "outputs": [
    {
     "name": "stdout",
     "output_type": "stream",
     "text": [
      "(-59.7782, 59.7782)\n"
     ]
    }
   ],
   "source": [
    "# Calculate gradients\n",
    "if plot_degrees:\n",
    "    grad_az = calculate_gradients(img_az)\n",
    "    grad_el = calculate_gradients(img_el)\n",
    "    vmin, vmax = (screen_min, screen_max)\n",
    "else:\n",
    "    grad_az = calculate_gradients(az_fill)\n",
    "    grad_el = calculate_gradients(el_fill)\n",
    "    # vmin, vmax = (-np.pi, np.pi)\n",
    "    \n",
    "print(vmin, vmax)"
   ]
  },
  {
   "cell_type": "code",
   "execution_count": 429,
   "metadata": {
    "scrolled": false
   },
   "outputs": [
    {
     "name": "stdout",
     "output_type": "stream",
     "text": [
      "(u'/n/coxfs01/2p-data/JC099/20190609/FOV1_zoom2p0x/retino_run1/retino_analysis/analysis002_733e38/retino-structure', 'gradients_dilate-center-10_spatial-smooth-7_degrees_circ_magthr-0.010-either')\n"
     ]
    },
    {
     "data": {
      "image/png": "[encoded data removed]",
      "text/plain": [
       "<matplotlib.figure.Figure at 0x7f9688ec01d0>"
      ]
     },
     "metadata": {},
     "output_type": "display_data"
    }
   ],
   "source": [
    "spacing = 200\n",
    "scale = None #0.0001\n",
    "width = 0.01 #0.01\n",
    "headwidth=5\n",
    "\n",
    "plot_str = 'degrees' if plot_degrees else ''\n",
    "fig, axn = pl.subplots(1, 2, figsize=(8,6))\n",
    "ax = axn[0]\n",
    "im = ax.imshow(img_az, cmap=cmap_phase)#, vmin=vmin, vmax=vmax)\n",
    "plot_gradients(grad_az, ax=ax, draw_interval=spacing, scale=scale, width=width,\n",
    "              headwidth=headwidth)\n",
    "fig.colorbar(im, ax=ax, shrink=0.3, label='Azimuth')\n",
    "\n",
    "ax = axn[1]\n",
    "im = ax.imshow(img_el,cmap=cmap_phase) #, vmin=vmin, vmax=vmax)\n",
    "plot_gradients(grad_el, ax=ax, draw_interval=spacing, scale=scale, width=width,\n",
    "              headwidth=headwidth)\n",
    "fig.colorbar(im, ax=ax, shrink=0.3, label='Altitude')\n",
    "\n",
    "pl.subplots_adjust(wspace=0.5, hspace=0.3)\n",
    "\n",
    "putils.label_figure(fig, data_id)\n",
    "figname = 'gradients_dilate-center-%i_spatial-smooth-%i_%s_circ_magthr-%.3f-%s' % (kernel_size, smooth_fwhm, plot_str, mag_thr, pass_criterion)\n",
    "\n",
    "#pl.savefig(os.path.join(curr_dst_dir, '%s.svg' % figname))\n",
    "print(curr_dst_dir, figname)"
   ]
  },
  {
   "cell_type": "code",
   "execution_count": 382,
   "metadata": {},
   "outputs": [
    {
     "data": {
      "text/plain": [
       "48"
      ]
     },
     "execution_count": 382,
     "metadata": {},
     "output_type": "execute_result"
    }
   ],
   "source": [
    "len(roi_list)"
   ]
  },
  {
   "cell_type": "code",
   "execution_count": null,
   "metadata": {
    "collapsed": true
   },
   "outputs": [],
   "source": []
  },
  {
   "cell_type": "markdown",
   "metadata": {},
   "source": [
    "## Compute unit vector and project"
   ]
  },
  {
   "cell_type": "code",
   "execution_count": 383,
   "metadata": {},
   "outputs": [
    {
     "name": "stdout",
     "output_type": "stream",
     "text": [
      "[EL]avg dir: 30.18 deg\n",
      "[AZ]avg dir: 179.47 deg\n",
      "(array([-0.99995744,  0.00922633]), array([ 0.8644171 ,  0.50277538]))\n"
     ]
    }
   ],
   "source": [
    "avg_dir_el = np.rad2deg(grad_el['mean_direction'])\n",
    "print('[EL]avg dir: %.2f deg' % avg_dir_el)\n",
    "vhat_el = grad_el['vhat']\n",
    "\n",
    "avg_dir_az = np.rad2deg(grad_az['mean_direction'])\n",
    "print('[AZ]avg dir: %.2f deg' % avg_dir_az)\n",
    "vhat_az = grad_az['vhat']\n",
    "\n",
    "print(vhat_az, vhat_el)\n"
   ]
  },
  {
   "cell_type": "code",
   "execution_count": 384,
   "metadata": {},
   "outputs": [
    {
     "data": {
      "image/png": "[encoded data removed]",
      "text/plain": [
       "<matplotlib.figure.Figure at 0x7f9680f151d0>"
      ]
     },
     "metadata": {},
     "output_type": "display_data"
    }
   ],
   "source": [
    "fig, axn = pl.subplots(1, 2, figsize=(6,3))\n",
    "\n",
    "ax = axn[0]\n",
    "ax.grid(True)\n",
    "ax.set_title('azimuth')\n",
    "vh = grad_az['vhat'].copy()\n",
    "az_dir = np.rad2deg(np.arctan2(vh[1], vh[0])) #+ 360.) % 360\n",
    "vhat_az = (np.cos(np.deg2rad(az_dir)), np.sin(np.deg2rad(az_dir)))\n",
    "\n",
    "ax.text(-.9, -.8, \"u=(%.2f, %.2f), %.2f deg\" % (vhat_az[0], vhat_az[1], az_dir))\n",
    "ax.quiver(0,0, vhat_az[0], vhat_az[1],  scale=1, scale_units='xy', \n",
    "          units='xy', angles='xy', width=.05, pivot='tail')\n",
    "ax.set_xlim([-1, 1])\n",
    "ax.set_ylim([-1, 1])\n",
    "ax.set_aspect('equal')\n",
    "ax.invert_yaxis()\n",
    "\n",
    "ax = axn[1]\n",
    "ax.grid(True)\n",
    "ax.set_title('elevation')\n",
    "el_dir = np.rad2deg(np.arctan2(vhat_el[1], vhat_el[0]))\n",
    "ax.text(-0.9, -0.8, \"u=(%.2f, %.2f), %.2f deg\" % (vhat_el[0], vhat_el[1], el_dir))\n",
    "ax.quiver(0,0, vhat_el[0], vhat_el[1],  scale=1, scale_units='xy', \n",
    "          units='xy', angles='xy', width=.05, pivot='tail')\n",
    "ax.set_xlim([-1, 1])\n",
    "ax.set_ylim([-1, 1])\n",
    "ax.set_aspect('equal')\n",
    "ax.invert_yaxis()\n",
    "\n",
    "label_figure(fig, data_id)\n",
    "pl.subplots_adjust(left=0.1, wspace=0.5)\n",
    "#figname = 'gradients_unitvec_dilate-center-%i_spatial-smooth-%i_%s_magthr-%.3f-%s' % (kernel_size, smooth_fwhm, plot_str, mag_thr, pass_criterion)\n",
    "#pl.savefig(os.path.join(curr_dst_dir, '%s.svg' % figname))\n"
   ]
  },
  {
   "cell_type": "markdown",
   "metadata": {
    "collapsed": true
   },
   "source": [
    "# Project coordinates onto \"prevailing\" retino dir"
   ]
  },
  {
   "cell_type": "code",
   "execution_count": 385,
   "metadata": {},
   "outputs": [
    {
     "name": "stdout",
     "output_type": "stream",
     "text": [
      "(1177, 972)\n",
      "(array([-0.99995744,  0.00922633]), array([ 0.8644171 ,  0.50277538]))\n"
     ]
    }
   ],
   "source": [
    "gimg_az = grad_az['image'].copy()\n",
    "gimg_el = grad_el['image'].copy()\n",
    "\n",
    "d1, d2 = grad_az['image'].shape\n",
    "print(d1, d2)\n",
    "vhat_az = grad_az['vhat'].copy() #[0], -0.04) #abs(grad_az['vhat'][1]))\n",
    "vhat_el = grad_el['vhat'].copy() #[0], -0.04) #abs(grad_az['vhat'][1]))\n",
    "print(vhat_az, vhat_el)\n",
    "\n"
   ]
  },
  {
   "cell_type": "code",
   "execution_count": 386,
   "metadata": {
    "collapsed": true
   },
   "outputs": [],
   "source": [
    "proj_az = np.array([np.dot(np.array((xv, yv)), vhat_az) for yv in np.arange(0, d1) for xv in np.arange(0, d2)])\n",
    "#proj_az2 = d2 - np.array([np.dot(np.array((xv, yv)), vhat_az) for yv in np.arange(0, d1) for xv in np.arange(0, d2)])\n",
    "\n",
    "ret_az = np.array([gimg_az[xv, yv] for xv in np.arange(0, d1) for yv in np.arange(0, d2)] )\n",
    "\n",
    "proj_el = np.array([np.dot(np.array((xv, yv)), vhat_el) for yv in np.arange(0, d1) for xv in np.arange(0, d2)])\n",
    "ret_el = np.array([gimg_el[xv, yv] for xv in np.arange(0, d1) for yv in np.arange(0, d2)] )\n",
    "\n",
    "pix = np.array([xv for yv in np.arange(0, d1) for xv in np.arange(0, d2) ])\n",
    "coords = np.array([np.array((xv, yv)) for yv in np.arange(0, d1) for xv in np.arange(0, d2)])\n"
   ]
  },
  {
   "cell_type": "code",
   "execution_count": 358,
   "metadata": {},
   "outputs": [
    {
     "data": {
      "image/png": "[encoded data removed]",
      "text/plain": [
       "<matplotlib.figure.Figure at 0x7f9689507d50>"
      ]
     },
     "metadata": {},
     "output_type": "display_data"
    }
   ],
   "source": [
    "fig, axn = pl.subplots(2,2, figsize=(8,8)) #.figure()\n",
    "\n",
    "ncyc=5\n",
    "\n",
    "startcyc=800\n",
    "endcyc=startcyc+ncyc\n",
    "\n",
    "npts = d2*endcyc\n",
    "spts = d2*startcyc\n",
    "fig.suptitle(\"%i thru %i (of %i) cycles\" % (startcyc, endcyc, d1))\n",
    "\n",
    "ax = axn[0,0]\n",
    "ax.set_title('azimuth', loc='left')\n",
    "ax.plot(pix[spts:npts], 'k',  marker='.', lw=.5, markersize=0.5, alpha=0.5)\n",
    "ax.plot(proj_az[spts:npts], 'r',  marker='.', lw=0.5, markersize=0.5)\n",
    "ax.plot(ret_az[spts:npts], 'b', marker='.', lw=0, markersize=0.5)\n",
    "ax.set_ylabel('value along d2')\n",
    "\n",
    "ax = axn[0,1]\n",
    "offsets = [0 for i in np.arange(spts, npts)]\n",
    "ax.scatter(proj_az[spts:npts], ret_az[spts:npts]+offsets, marker='.', s=2, c='b')\n",
    "ax.set_xlabel('projected')\n",
    "ax.set_ylabel('retino')\n",
    "\n",
    "\n",
    "ax = axn[1,0]\n",
    "ax.set_title('elevation', loc='left')\n",
    "ax.plot(pix[spts:npts], 'k',  marker='.', lw=.5, markersize=0.5, alpha=0.5)\n",
    "ax.plot(proj_el[spts:npts], 'r',  marker='.', lw=0.5, markersize=0.5)\n",
    "ax.plot(ret_el[spts:npts], 'b', marker='.', lw=0, markersize=0.5)\n",
    "\n",
    "ax.set_ylabel('value along d2')\n",
    "ax = axn[1,1]\n",
    "offsets = [0 for i in np.arange(spts, npts)]\n",
    "ax.scatter(proj_el[spts:npts], ret_el[spts:npts]+offsets, marker='.', s=2, c='b')\n",
    "ax.set_xlabel('projected')\n",
    "ax.set_ylabel('retino')\n",
    "\n",
    "\n",
    "label_figure(fig, data_id)\n",
    "pl.subplots_adjust(left=0.1, wspace=0.5)\n",
    "#figname = 'test_projections__dilate-center-%i_spatial-smooth-%i_%s_magthr-%.3f-%s' % (kernel_size, smooth_fwhm, plot_str, mag_thr, pass_criterion)\n",
    "#pl.savefig(os.path.join(curr_dst_dir, '%s.png' % figname))\n"
   ]
  },
  {
   "cell_type": "markdown",
   "metadata": {},
   "source": [
    "## Fit linear"
   ]
  },
  {
   "cell_type": "code",
   "execution_count": 359,
   "metadata": {},
   "outputs": [
    {
     "data": {
      "image/png": "[encoded data removed]",
      "text/plain": [
       "<matplotlib.figure.Figure at 0x7f96a872c090>"
      ]
     },
     "metadata": {},
     "output_type": "display_data"
    }
   ],
   "source": [
    "regr_model = 'ridge'\n",
    "regr_line_color = 'magenta'\n",
    "regr_model2 = 'ols' \n",
    "\n",
    "fitv_az, regr_az = evalrf.fit_linear_regr(proj_az[~np.isnan(ret_az)], ret_az[~np.isnan(ret_az)], \n",
    "                                          return_regr=True, model=regr_model)\n",
    "fitv_el, regr_el = evalrf.fit_linear_regr(proj_el[~np.isnan(ret_el)], ret_el[~np.isnan(ret_el)], \n",
    "                                          return_regr=True, model=regr_model)\n",
    "\n",
    "fitv_az2, regr_az2 = evalrf.fit_linear_regr(proj_az[~np.isnan(ret_az)], ret_az[~np.isnan(ret_az)], \n",
    "                                          return_regr=True, model=regr_model2)\n",
    "fitv_el2, regr_el2 = evalrf.fit_linear_regr(proj_el[~np.isnan(ret_el)], ret_el[~np.isnan(ret_el)], \n",
    "                                          return_regr=True, model=regr_model2)\n",
    "\n",
    "fig, axn = pl.subplots(1,2, figsize=(12, 5))\n",
    "spacing=800\n",
    "ax=axn[0]\n",
    "ax.scatter(proj_az[0::spacing], ret_az[0::spacing], marker='.', lw=0, color='k', s=1)\n",
    "r2_az = skmetrics.r2_score(ret_az[~np.isnan(ret_az)], fitv_az)\n",
    "linfit_str = '(%s) y=%.2fx+%.2f (R2=%.2f)' % (regr_model, float(regr_az.coef_), float(regr_az.intercept_), r2_az) \n",
    "ax.plot(proj_az[~np.isnan(ret_az)], fitv_az, color=regr_line_color, label=linfit_str)\n",
    "\n",
    "r2_az2 = skmetrics.r2_score(ret_az[~np.isnan(ret_az)], fitv_az2)\n",
    "linfit_str2 = '(%s) y=%.2fx+%.2f (R2=%.2f)' % (regr_model2, float(regr_az2.coef_), float(regr_az2.intercept_), r2_az2) \n",
    "ax.plot(proj_az[~np.isnan(ret_az)], fitv_az2, color='b', label=linfit_str2)\n",
    "ax.legend()\n",
    "\n",
    "ax.set_title('Azimuth', loc='left')\n",
    "ax.set_ylabel('azimuth (deg)', fontsize=12)\n",
    "ax.set_xlabel('projected pos (um)', fontsize=12)\n",
    "\n",
    "        \n",
    "ax=axn[1]\n",
    "#sns.regplot(proj_el, ret_el, ax=ax, scatter=False, color='k')\n",
    "ax.scatter(proj_el[0::spacing], ret_el[0::spacing], marker='.', lw=0, color='k', s=1)\n",
    "r2_el = skmetrics.r2_score(ret_el[~np.isnan(ret_el)], fitv_el)\n",
    "linfit_str = '(%s) y=%.2fx+%.2f (R2=%.2f)' % (regr_model, float(regr_el.coef_), float(regr_el.intercept_), r2_el) \n",
    "ax.plot(proj_el[~np.isnan(ret_el)], fitv_el, color=regr_line_color, label=linfit_str)\n",
    "\n",
    "r2_el2 = skmetrics.r2_score(ret_el[~np.isnan(ret_el)], fitv_el2)\n",
    "linfit_str2 = '(%s) y=%.2fx+%.2f (R2=%.2f)' % (regr_model2, float(regr_el2.coef_), float(regr_el2.intercept_), r2_el2) \n",
    "ax.plot(proj_el[~np.isnan(ret_el)], fitv_el2, color='b', label=linfit_str2)\n",
    "ax.legend()\n",
    "\n",
    "ax.set_title('Elevation', loc='left')\n",
    "ax.set_ylabel('altitude (deg)', fontsize=12)\n",
    "ax.set_xlabel('projected pos (um)', fontsize=12)\n",
    "\n",
    "label_figure(fig, data_id)\n",
    "pl.subplots_adjust(left=0.1, wspace=0.5)\n",
    "#figname = 'Proj_versus_Retinopos__dilate-center-%i_spatial-smooth-%i_%s_magthr-%.3f-%s_test' % (kernel_size, smooth_fwhm, plot_str, mag_thr, pass_criterion)\n",
    "#pl.savefig(os.path.join(curr_dst_dir, '%s.svg' % figname))"
   ]
  },
  {
   "cell_type": "code",
   "execution_count": null,
   "metadata": {
    "collapsed": true
   },
   "outputs": [],
   "source": []
  },
  {
   "cell_type": "markdown",
   "metadata": {},
   "source": [
    "# Compare RFs"
   ]
  },
  {
   "cell_type": "code",
   "execution_count": null,
   "metadata": {
    "collapsed": true
   },
   "outputs": [],
   "source": [
    "glob.glob(os.path.join(aggregate_dir, 'receptive-fields', \n",
    "                                     '%s__%s' % (traceid, rf_fit_desc), 'fits_and_coords*'))"
   ]
  },
  {
   "cell_type": "code",
   "execution_count": null,
   "metadata": {
    "collapsed": true
   },
   "outputs": [],
   "source": [
    "rf_fit_desc = 'fit-2dgaus_dff-no-cutoff'\n",
    "rfpos_fpath = glob.glob(os.path.join(aggregate_dir, 'receptive-fields', \n",
    "                                     '%s__%s' % (traceid, rf_fit_desc), 'fits_and_coords*'))[1]\n",
    "print(rfpos_fpath)\n",
    "\n",
    "with open(rfpos_fpath, 'rb') as f:\n",
    "    rfpos = pkl.load(f)\n",
    "    rfpos=rfpos['df']\n",
    "rfpos.keys()\n",
    "\n"
   ]
  },
  {
   "cell_type": "code",
   "execution_count": null,
   "metadata": {
    "collapsed": true
   },
   "outputs": [],
   "source": [
    "fovnum=1\n",
    "datakey = '_'.join([session, animalid, 'fov%i' % fovnum])\n",
    "curr_rfs = rfpos[rfpos['datakey']==datakey].copy()\n",
    "print(datakey, curr_rfs.shape)\n"
   ]
  },
  {
   "cell_type": "code",
   "execution_count": null,
   "metadata": {
    "collapsed": true
   },
   "outputs": [],
   "source": [
    "rfdf = curr_rfs.copy()\n",
    "rfdf['ml_proj']=''\n",
    "rfdf['ap_proj']=''\n",
    "#retinorun = projdf[projdf['datakey']==datakey].groupby(['retinorun']).mean().reset_index()[['retinorun', 'R2']].max()['retinorun']\n",
    "#p_df = projdf[(projdf['datakey']==datakey) & (projdf['retinorun']==retinorun)]\n",
    "#fpath = p_df['fpath'].unique()[0]\n",
    "#gpath = os.path.join(os.path.split(fpath)[0], 'vectors_%s.pkl' % magthr_str)\n",
    "#with open(gpath, 'rb') as f:\n",
    "#    gresults = pkl.load(f)\n",
    "\n",
    "# Project FOV coordinates\n",
    "rfdf['ml_proj'][rfdf.index] = np.array([np.dot(np.array((ml, ap)), vhat_az) \\\n",
    "                                      for ap, ml in curr_rfs[['ap_pos', 'ml_pos']].values])\n",
    "rfdf['ap_proj'][rfdf.index] = np.array([np.dot(np.array((ml, ap)), vhat_el) \\\n",
    "                                      for ap, ml in curr_rfs[['ap_pos', 'ml_pos']].values])"
   ]
  },
  {
   "cell_type": "markdown",
   "metadata": {},
   "source": [
    "## Plot"
   ]
  },
  {
   "cell_type": "code",
   "execution_count": null,
   "metadata": {
    "collapsed": true
   },
   "outputs": [],
   "source": [
    "r2_thr=0.5\n",
    "#rfname = 'rfs10'\n",
    "\n",
    "fig, axn = pl.subplots(2,2, figsize=(8,8))\n",
    "for ri, (rfname, expdf) in enumerate(rfdf.groupby(['experiment'])):\n",
    "    for ci, cond in enumerate(['az', 'el']):\n",
    "        ax = axn[ci, ri]\n",
    "        xname = 'ml' if cond=='az' else 'ap'\n",
    "        yname = 'x0' if cond=='az' else 'y0'\n",
    "\n",
    "        # Plot RF positions vs. cell locs\n",
    "        cell_locs = expdf['%s_pos' % xname].values\n",
    "        rf_locs = expdf[yname].values\n",
    "        ax.scatter(cell_locs, rf_locs, marker='o', s=5, color='k', label='original')\n",
    "\n",
    "        proj_locs = expdf['%s_proj' % xname].values\n",
    "        ax.scatter(proj_locs, rf_locs, marker='o', s=5, color='orange', label='projected')\n",
    "\n",
    "        #proj_locs2 = abs(np.array([np.dot(np.array((ml, ap)), gresults[cond]['vhat']) \\\n",
    "        #                         for ap, ml in edf[['ap_pos', 'ml_pos']].values]))\n",
    "\n",
    "        # plot gradient line\n",
    "        ret_ = ret_az if cond=='az' else ret_el\n",
    "        fitv_ = fitv_az if cond=='az' else fitv_el\n",
    "        regr_ = regr_az if cond=='az' else regr_el \n",
    "        slope = float(regr_.coef_)\n",
    "        intercept = float(regr_.intercept_)\n",
    "        r2_val = skmetrics.r2_score(ret_[~np.isnan(ret_)], fitv_)\n",
    "        linfit_str = '(%s) y=%.2fx+%.2f (R2=%.2f)' % (regr_model, slope, intercept, r2_val) \n",
    "\n",
    "        ls = ':' if r2_val < r2_thr else '-'\n",
    "        label_prefix = 'R2=%.2f' % r2_val\n",
    "        label = True\n",
    "        ax = abline(slope, intercept, ax=ax, color='k',\n",
    "                    label=label, label_prefix=label_prefix, ls=ls)\n",
    "        ax.set_title('%s (%s)' % (rfname, cond), loc='left', fontsize=20)\n",
    "\n",
    "        ax.legend(bbox_to_anchor=(0.7, 1), loc='top')\n",
    "\n",
    "pl.subplots_adjust(top=0.7, wspace=0.5, hspace=0.5)"
   ]
  },
  {
   "cell_type": "code",
   "execution_count": null,
   "metadata": {
    "collapsed": true
   },
   "outputs": [],
   "source": []
  }
 ],
 "metadata": {
  "kernelspec": {
   "display_name": "Python 2",
   "language": "python",
   "name": "python2"
  },
  "language_info": {
   "codemirror_mode": {
    "name": "ipython",
    "version": 2
   },
   "file_extension": ".py",
   "mimetype": "text/x-python",
   "name": "python",
   "nbconvert_exporter": "python",
   "pygments_lexer": "ipython2",
   "version": "2.7.13"
  }
 },
 "nbformat": 4,
 "nbformat_minor": 2
}
