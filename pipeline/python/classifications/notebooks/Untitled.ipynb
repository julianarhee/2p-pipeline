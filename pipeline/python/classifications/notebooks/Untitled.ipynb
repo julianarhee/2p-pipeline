{
 "cells": [
  {
   "cell_type": "code",
   "execution_count": 1,
   "metadata": {
    "collapsed": true
   },
   "outputs": [],
   "source": [
    "import os\n",
    "import glob\n",
    "import json\n",
    "import h5py\n",
    "import optparse\n",
    "import sys\n",
    "import traceback\n",
    "import copy\n",
    "\n",
    "import pandas as pd\n",
    "import pylab as pl\n",
    "import seaborn as sns\n",
    "import numpy as np\n",
    "import scipy as sp\n",
    "import statsmodels as sm\n",
    "import cPickle as pkl\n",
    "import tifffile as tf\n",
    "\n",
    "import numpy as np\n",
    "from scipy.optimize import leastsq\n",
    "import pylab as pl\n"
   ]
  },
  {
   "cell_type": "code",
   "execution_count": null,
   "metadata": {
    "collapsed": true
   },
   "outputs": [],
   "source": [
    "opts = extract_options(options)\n",
    "\n",
    "rootdir = '/n/coxfs01/2p-data'\n",
    "animalid = 'JC085' #opts.animalid\n",
    "session = '20190517'\n",
    "fov = opts.acquisition\n",
    "run = opts.run\n",
    "retinoid = opts.retinoid\n",
    "use_linear = opts.use_linear\n",
    "#fit_thresh_az = float(opts.fit_thresh_az)\n",
    "#fit_thresh_el = float(opts.fit_thresh_el) #0.2\n"
   ]
  }
 ],
 "metadata": {
  "kernelspec": {
   "display_name": "Python 2",
   "language": "python",
   "name": "python2"
  },
  "language_info": {
   "codemirror_mode": {
    "name": "ipython",
    "version": 2
   },
   "file_extension": ".py",
   "mimetype": "text/x-python",
   "name": "python",
   "nbconvert_exporter": "python",
   "pygments_lexer": "ipython2",
   "version": "2.7.13"
  }
 },
 "nbformat": 4,
 "nbformat_minor": 2
}
