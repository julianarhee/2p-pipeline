{
 "cells": [
  {
   "cell_type": "code",
   "execution_count": null,
   "metadata": {
    "collapsed": true
   },
   "outputs": [],
   "source": []
  },
  {
   "cell_type": "code",
   "execution_count": null,
   "metadata": {
    "collapsed": true
   },
   "outputs": [],
   "source": [
    "def get_trials_for_N_cells_df(curr_ncells, gdf, NEURALDATA):\n",
    "    # Get current global RIDs\n",
    "    ncells_t = gdf.shape[0]\n",
    "    roi_ids = np.array(gdf['roi'].values.copy())\n",
    "\n",
    "    # Random sample w/ replacement\n",
    "    rand_ixs = np.array([random.randint(0, ncells_t-1) for _ in np.arange(0, curr_ncells)])\n",
    "    curr_roi_list = roi_ids[rand_ixs]\n",
    "    curr_roidf = gdf[gdf['roi'].isin(curr_roi_list)].copy()\n",
    "\n",
    "    # Make sure equal num trials per condition for all dsets\n",
    "    curr_dkeys = curr_roidf['datakey'].unique()\n",
    "    currd = NEURALDATA[NEURALDATA['datakey'].isin(curr_dkeys)].copy()\n",
    "    min_ntrials_by_config = currd[['datakey', 'config', 'trial']].drop_duplicates().groupby(['datakey'])['config'].value_counts().min()\n",
    "    #print(min_ntrials_by_config)\n",
    "\n",
    "    d_list=[]\n",
    "    for datakey, dkey_rois in curr_roidf.groupby(['datakey']):\n",
    "        assert datakey in currd['datakey'].unique(), \"ERROR: %s not found\" % datakey\n",
    "        # Get current trials, make equal to min_ntrials_by_config\n",
    "        tmpd = pd.concat([trialmat.sample(n=min_ntrials_by_config)\n",
    "                         for (rid, cfg), trialmat in currd[currd['datakey']==datakey].groupby(['cell', 'config'])], axis=0)\n",
    "        tmpd['cell'] = tmpd['cell'].astype(float)\n",
    "\n",
    "        # For each RID sample belonging to current dataset, get RID order\n",
    "        sampled_cells = pd.concat([dkey_rois[dkey_rois['roi']==globalid][['roi', 'dset_roi']]\n",
    "                                   for globalid in curr_roi_list])\n",
    "        sampled_dset_rois = sampled_cells['dset_roi'].values\n",
    "        sampled_global_rois = sampled_cells['roi'].values\n",
    "        cell_lut = dict((k, v) for k, v in zip(sampled_dset_rois, sampled_global_rois))\n",
    "\n",
    "        # Get response + config, replace dset roi  name with global roi name\n",
    "        slist = [tmpd[tmpd['cell']==rid][['config', 'response']].rename(columns={'response': cell_lut[rid]})\n",
    "                 .sort_values(by='config').reset_index(drop=True) for rid in sampled_dset_rois]\n",
    "        curr_roidata = pd.concat(slist, axis=1)\n",
    "        curr_roidata = curr_roidata.loc[:,~curr_roidata.T.duplicated(keep='first')]\n",
    "        d_list.append(curr_roidata)\n",
    "    curr_neuraldf = pd.concat(d_list, axis=1)[curr_roi_list]\n",
    "\n",
    "    cfg_df = pd.concat(d_list, axis=1)['config']\n",
    "\n",
    "    assert cfg_df.shape[0]==curr_neuraldf.shape[0], \"Bad trials\"\n",
    "    if len(cfg_df.shape) > 1:\n",
    "        cfg_df = cfg_df.loc[:,~cfg_df.T.duplicated(keep='first')]\n",
    "        assert cfg_df.shape[1]==1, \"Bad configs: %s\" % str(curr_roidf['datakey'].unique()) #cfg_df\n",
    "\n",
    "    df = pd.concat([curr_neuraldf, cfg_df], axis=1)\n",
    "\n",
    "    return df"
   ]
  }
 ],
 "metadata": {
  "kernelspec": {
   "display_name": "Python 2",
   "language": "python",
   "name": "python2"
  },
  "language_info": {
   "codemirror_mode": {
    "name": "ipython",
    "version": 2
   },
   "file_extension": ".py",
   "mimetype": "text/x-python",
   "name": "python",
   "nbconvert_exporter": "python",
   "pygments_lexer": "ipython2",
   "version": "2.7.15"
  }
 },
 "nbformat": 4,
 "nbformat_minor": 2
}
