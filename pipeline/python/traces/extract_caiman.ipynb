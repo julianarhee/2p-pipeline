{
 "cells": [
  {
   "cell_type": "code",
   "execution_count": 1,
   "metadata": {},
   "outputs": [],
   "source": [
    "\n",
    "\n",
    "import cv2\n",
    "import glob\n",
    "import logging\n",
    "import matplotlib.pyplot as plt\n",
    "import numpy as np\n",
    "import os\n",
    "import time\n",
    "import h5py\n",
    "\n",
    "try:\n",
    "    cv2.setNumThreads(0)\n",
    "except():\n",
    "    pass\n",
    "\n",
    "try:\n",
    "    if __IPYTHON__:\n",
    "        # this is used for debugging purposes only. allows to reload classes\n",
    "        # when changed\n",
    "        get_ipython().magic('load_ext autoreload')\n",
    "        get_ipython().magic('autoreload 2')\n",
    "except NameError:\n",
    "    pass\n",
    "\n",
    "import caiman as cm\n",
    "from caiman.motion_correction import MotionCorrect\n",
    "from caiman.source_extraction.cnmf import cnmf as cnmf\n",
    "from caiman.source_extraction.cnmf import params as params\n",
    "from caiman.utils.utils import download_demo\n",
    "from caiman.utils.visualization import plot_contours, nb_view_patches, nb_plot_contour\n",
    "\n",
    "\n",
    "import pylab as pl\n",
    "from functools import partial\n",
    "import tifffile as tf\n",
    "import multiprocessing as mp\n",
    "import json\n",
    "import time\n",
    "import re\n",
    "import optparse\n",
    "import sys\n",
    "\n",
    "\n",
    "def atoi(text):\n",
    "    return int(text) if text.isdigit() else text\n",
    "\n",
    "def natural_keys(text):\n",
    "    return [ atoi(c) for c in re.split('(\\d+)', text) ]\n",
    "\n",
    "\n",
    "\n",
    "from caiman.source_extraction.cnmf.initialization import downscale as cmdownscale\n",
    "\n",
    "\n",
    "\n",
    "def extract_options(options):\n",
    "\n",
    "    parser = optparse.OptionParser()\n",
    "\n",
    "    # PATH opts:\n",
    "    parser.add_option('-D', '--root', action='store', dest='rootdir', default='/n/coxfs01/2p-data', help='data root dir (root project dir containing all animalids) [default: /n/coxfs01/2pdata]')\n",
    "    parser.add_option('-i', '--animalid', action='store', dest='animalid', default='', help='Animal ID')\n",
    "    parser.add_option('-S', '--session', action='store', dest='session', default='', help='session dir (format: YYYMMDD_ANIMALID')\n",
    "    parser.add_option('-A', '--acq', action='store', dest='fov', default='FOV1_zoom2p0x', help=\"acquisition folder (ex: 'FOV1_zoom2p0x') [default: FOV1_zoom2p0x]\")\n",
    "    parser.add_option('-E', '--exp', action='store', dest='experiment', default='', help=\"Name of experiment (stimulus type), e.g., rfs\")\n",
    "    parser.add_option('-t', '--traceid', action='store', dest='traceid', default='traces001', help=\"Traceid from which to get seeded rois (default: traces001)\")\n",
    "\n",
    "\n",
    "    parser.add_option('-n', '--nproc', action=\"store\",\n",
    "                      dest=\"n_processes\", default=2, help=\"N processes [default: 1]\")\n",
    "    parser.add_option('-d', '--downsample', action=\"store\",\n",
    "                      dest=\"ds_factor\", default=5, help=\"Downsample factor (int, default: 5)\")\n",
    "\n",
    "    parser.add_option('--destdir', action=\"store\",\n",
    "                      dest=\"destdir\", default='/n/scratchlfs/cox_lab/julianarhee/downsampled', help=\"output dir for movie files [default: /n/scratchlfs/cox_lab/julianarhee/downsampled]\")\n",
    "    parser.add_option('--plot', action='store_true', dest='plot_rois', default=False, help=\"set to plot results of each roi's analysis\")\n",
    "    parser.add_option('--processed', action='store_false', dest='use_raw', default=True, help=\"set to downsample on non-raw source\")\n",
    "\n",
    "    parser.add_option('--new', action='store_true', dest='create_new', default=False, help=\"Set to downsample and motion correct anew\")\n",
    "    parser.add_option('--prefix', action='store', dest='prefix', default='Yr', help=\"Prefix for sourced memmap/mc files (default: Yr)\")\n",
    "\n",
    "\n",
    "    (options, args) = parser.parse_args(options)\n",
    "\n",
    "    return options\n",
    "\n",
    "def caiman_params(fnames):\n",
    "    # dataset dependent parameters\n",
    "    fr = 44.65                             # imaging rate in frames per second\n",
    "    decay_time = 0.4                    # length of a typical transient in seconds\n",
    "\n",
    "    # motion correction parameters\n",
    "    strides = (48, 48)          # start a new patch for pw-rigid motion correction every x pixels\n",
    "    overlaps = (24, 24)         # overlap between pathes (size of patch strides+overlaps)\n",
    "    max_shifts = (6,6)          # maximum allowed rigid shifts (in pixels)\n",
    "    max_deviation_rigid = 3     # maximum shifts deviation allowed for patch with respect to rigid shifts\n",
    "    pw_rigid = False             # flag for performing non-rigid motion correction\n",
    "\n",
    "    # parameters for source extraction and deconvolution\n",
    "    p = 2                       # order of the autoregressive system\n",
    "    gnb = 2                     # number of global background components\n",
    "    merge_thr = 0.85            # merging threshold, max correlation allowed\n",
    "    rf = 25                     # half-size of the patches in pixels. e.g., if rf=25, patches are 50x50\n",
    "    stride_cnmf = 12             # amount of overlap between the patches in pixels\n",
    "    K = 8                      # number of components per patch\n",
    "    gSig = [2, 2]               # expected half size of neurons in pixels\n",
    "    method_init = 'greedy_roi'  # initialization method (if analyzing dendritic data using 'sparse_nmf')\n",
    "    ssub = 1                    # spatial subsampling during initialization\n",
    "    tsub = 1                    # temporal subsampling during intialization\n",
    "\n",
    "    # parameters for component evaluation\n",
    "    min_SNR = 2.0               # signal to noise ratio for accepting a component\n",
    "    rval_thr = 0.85              # space correlation threshold for accepting a component\n",
    "    cnn_thr = 0.99              # threshold for CNN based classifier\n",
    "    cnn_lowest = 0.1 # neurons with cnn probability lower than this value are rejected\n",
    "\n",
    "    opts_dict = {'fnames': fnames,\n",
    "                'fr': fr,\n",
    "                'decay_time': decay_time,\n",
    "                'strides': strides,\n",
    "                'overlaps': overlaps,\n",
    "                'max_shifts': max_shifts,\n",
    "                'max_deviation_rigid': max_deviation_rigid,\n",
    "                'pw_rigid': pw_rigid,\n",
    "                'p': 1,\n",
    "                'nb': gnb,\n",
    "                'rf': rf,\n",
    "                'K': K, \n",
    "                'stride': stride_cnmf,\n",
    "                'method_init': method_init,\n",
    "                'rolling_sum': True,\n",
    "                'only_init': True,\n",
    "                'ssub': ssub,\n",
    "                'tsub': tsub,\n",
    "                'merge_thr': merge_thr, \n",
    "                'min_SNR': min_SNR,\n",
    "                'rval_thr': rval_thr,\n",
    "                'use_cnn': True,\n",
    "                'min_cnn_thr': cnn_thr,\n",
    "                'cnn_lowest': cnn_lowest}\n",
    "\n",
    "    opts = params.CNMFParams(params_dict=opts_dict)\n",
    "\n",
    "    return opts"
   ]
  },
  {
   "cell_type": "code",
   "execution_count": 2,
   "metadata": {},
   "outputs": [],
   "source": [
    "\n",
    "def save_mc_results(results_dir, prefix='Yr'):\n",
    "    np.savez(os.path.join(results_dir, 'mc_rigid.npz'),\n",
    "            mc=mc,\n",
    "            fname=mc.fname, max_shifts=mc.max_shifts, min_mov=mc.min_mov,\n",
    "            border_nan=mc.border_nan,\n",
    "            fname_tot_rig=mc.fname_tot_rig,\n",
    "            total_template_rig=mc.total_template_rig,\n",
    "            templates_rig=mc.templates_rig,\n",
    "            shifts_rig=mc.shifts_rig,\n",
    "            mmap_file=mc.mmap_file,\n",
    "            border_to_0=mc.border_to_0)\n",
    "    print(\"--- saved MC results: %s\" % os.path.join(results_dir, '%s_mc-rigid.npz' % prefix))\n",
    "\n",
    "    \n",
    "def load_mc_results(results_dir, prefix='Yr'):\n",
    "    try:\n",
    "        mc_results = np.load(os.path.join(results_dir, '%s_mc-rigid.npz' % prefix))\n",
    "        mc = mc_results[mc] \n",
    "#            fname=mc.fname, max_shifts=mc.max_shifts, min_mov=mc.min_mov,\n",
    "#            border_nan=mc.border_nan,\n",
    "#            fname_tot_rig=mc.fname_tot_rig,\n",
    "#            total_template_rig=mc.total_template_rig,\n",
    "#            templates_rig=mc.templates_rig,\n",
    "#            shifts_rig=mc.shifts_rig,\n",
    "#            mmap_file=mc.mmap_file,\n",
    "#            border_to_0=mc.border_to_0)\n",
    "    except Exception as e:\n",
    "        return None\n",
    "\n",
    "    return mc \n",
    "\n",
    "def get_file_paths(results_dir, prefix='Yr'):\n",
    "    try:\n",
    "        mparams_fpath = os.path.join(results_dir, '%s_memmap-params.json' % prefix)\n",
    "        print(\"Loading memmap params...\")\n",
    "        with open(mparams_fpath, 'r') as f:\n",
    "            mparams = json.load(f)\n",
    "        fnames = mparams['fnames']\n",
    "    except Exception as e:\n",
    "        print(\"Unable to load memmap params, trying alt.\")\n",
    "        try:\n",
    "            dpath = glob.glob(os.path.join(results_dir, 'memmap', '*%s*.npz' % prefix))[0]#) [0]) \n",
    "            minfo = np.load(dpath)\n",
    "            fnames = sorted(list(minfo['mmap_fnames']))\n",
    "        except Exception as e:\n",
    "            print(\"unable to load file names.\")\n",
    "            return None\n",
    "    \n",
    "    return fnames #fnames = mparams['fnames']\n",
    "\n",
    "def get_full_memmap_path(results_dir, prefix='Yr'):\n",
    "    print(\"Getting full mmap path for prefix: %s\" % prefix)\n",
    "    fname_new = glob.glob(os.path.join(results_dir, 'memmap', '*%s*_d*_.mmap' % prefix))[0]\n",
    "    prefix = os.path.splitext(os.path.split(fname_new)[-1])[0].split('_d1_')[0]\n",
    "    print(\"CORRECTED PREFIX: %s\" % prefix)\n",
    "    return fname_new, prefix\n"
   ]
  },
  {
   "cell_type": "code",
   "execution_count": 3,
   "metadata": {},
   "outputs": [],
   "source": [
    "\n",
    "def get_roiid_from_traceid(animalid, session, fov, run_type=None, traceid='traces001', rootdir='/n/coxfs01/2p-data'):\n",
    "    \n",
    "    if run_type is not None:\n",
    "        if int(session) < 20190511 and run_type == 'gratings':\n",
    "            a_traceid_dict = glob.glob(os.path.join(rootdir, animalid, session, fov, '*run*', 'traces', 'traceids*.json'))[0]\n",
    "        else:\n",
    "            a_traceid_dict = glob.glob(os.path.join(rootdir, animalid, session, fov, '*%s*' % run_type, 'traces', 'traceids*.json'))[0]\n",
    "    else:\n",
    "        a_traceid_dict = glob.glob(os.path.join(rootdir, animalid, session, fov, '*run*', 'traces', 'traceids*.json'))[0]\n",
    "    with open(a_traceid_dict, 'r') as f:\n",
    "        tracedict = json.load(f)\n",
    "    \n",
    "    tid = tracedict[traceid]\n",
    "    roiid = tid['PARAMS']['roi_id']\n",
    "    \n",
    "    return roiid\n",
    "\n",
    "\n",
    "def load_roi_masks(animalid, session, fov, rois=None, rootdir='/n/coxfs01/2p-data'):\n",
    "    masks=None; zimg=None;\n",
    "    mask_fpath = glob.glob(os.path.join(rootdir, animalid, session, 'ROIs', '%s*' % rois, 'masks.hdf5'))[0]\n",
    "    try:\n",
    "        mfile = h5py.File(mask_fpath, 'r')\n",
    "\n",
    "        # Load and reshape masks\n",
    "        fkey = list(mfile.keys())[0]\n",
    "        masks = mfile[fkey]['masks']['Slice01'][:] #.T\n",
    "        #print(masks.shape)\n",
    "        #mfile[mfile.keys()[0]].keys()\n",
    "\n",
    "        zimg = mfile[fkey]['zproj_img']['Slice01'][:] #.T\n",
    "        zimg.shape\n",
    "    except Exception as e:\n",
    "        print(\"error loading masks\")\n",
    "    finally:\n",
    "        mfile.close()\n",
    "        \n",
    "    return masks, zimg\n",
    "\n",
    "def reshape_and_binarize_masks(masks):\n",
    "    # Binarze and reshape:\n",
    "    nrois, d1, d2 = masks.shape\n",
    "    Ain = np.reshape(masks, (nrois, d1*d2))\n",
    "    Ain[Ain>0] = 1\n",
    "    Ain = Ain.astype(bool).T \n",
    "    \n",
    "    return Ain\n"
   ]
  },
  {
   "cell_type": "code",
   "execution_count": 4,
   "metadata": {},
   "outputs": [],
   "source": [
    "options = ['-i', 'JC084', '-S', '20190525', '-A', 'FOV1_zoom2p0x', '-E', 'gratings', \n",
    "          '--prefix=JC084-20190525-FOV1_zoom2p0x-gratings-downsample-5', '-n', 4]"
   ]
  },
  {
   "cell_type": "code",
   "execution_count": 5,
   "metadata": {},
   "outputs": [],
   "source": [
    "optsE = extract_options(options) \n",
    "rootdir = optsE.rootdir #'/n/coxfs01/2p-data'\n",
    "animalid = optsE.animalid #'JC084'\n",
    "session = optsE.session #'20190525' #'20190505_JC083'\n",
    "fov = optsE.fov\n",
    "experiment = optsE.experiment\n",
    "ds_factor = int(optsE.ds_factor)\n",
    "destdir = optsE.destdir\n",
    "use_raw = optsE.use_raw\n",
    "n_processes = int(optsE.n_processes) \n",
    "create_new = optsE.create_new\n",
    "prefix = optsE.prefix\n",
    "traceid=optsE.traceid\n"
   ]
  },
  {
   "cell_type": "code",
   "execution_count": 6,
   "metadata": {},
   "outputs": [
    {
     "name": "stdout",
     "output_type": "stream",
     "text": [
      "Getting seeds...\n"
     ]
    },
    {
     "data": {
      "text/plain": [
       "(262144, 238)"
      ]
     },
     "execution_count": 6,
     "metadata": {},
     "output_type": "execute_result"
    }
   ],
   "source": [
    "\n",
    "# Load manual ROIs and format\n",
    "print(\"Getting seeds...\")\n",
    "roiid = get_roiid_from_traceid(animalid, session, fov, run_type=experiment, traceid=traceid)\n",
    "masks, zimg = load_roi_masks(animalid, session, fov, rois=roiid)\n",
    "Ain = reshape_and_binarize_masks(masks)\n",
    "Ain.shape"
   ]
  },
  {
   "cell_type": "code",
   "execution_count": 7,
   "metadata": {},
   "outputs": [],
   "source": [
    "del masks\n",
    "del zimg"
   ]
  },
  {
   "cell_type": "code",
   "execution_count": 9,
   "metadata": {},
   "outputs": [
    {
     "name": "stdout",
     "output_type": "stream",
     "text": [
      "Getting full mmap path for prefix: JC084-20190525-FOV1_zoom2p0x-gratings-downsample-5\n",
      "CORRECTED PREFIX: JC084-20190525-FOV1_zoom2p0x-gratings-downsample-5\n",
      "Extracting CNMF from: /n/coxfs01/2p-data/JC084/20190525/FOV1_zoom2p0x/caiman_results/gratings/memmap/JC084-20190525-FOV1_zoom2p0x-gratings-downsample-5_d1_512_d2_512_d3_1_order_C_frames_29504_.mmap\n",
      "Preparing for CNMF extraction...\n",
      "--> got 32 files for extraction\n"
     ]
    }
   ],
   "source": [
    "\n",
    "# Load memmapped file(s)\n",
    "fovdir = glob.glob(os.path.join(rootdir, animalid, session, fov))[0]\n",
    "results_dir = os.path.join(fovdir, 'caiman_results', experiment)\n",
    "fname_tot, prefix = get_full_memmap_path(results_dir, prefix=prefix)\n",
    "print(\"Extracting CNMF from: %s\" % fname_tot)\n",
    "\n",
    "# Load data\n",
    "Yr, dims, T = cm.load_memmap(fname_tot)\n",
    "#images = np.reshape(Yr, dims + (T,), order='F')\n",
    "#print(\"Loaded data:\", images.shape)\n",
    "\n",
    "# Create opts for cnmf\n",
    "print(\"Preparing for CNMF extraction...\") \n",
    "#fnames = get_file_paths(results_dir, prefix=prefix) \n",
    "fnames = sorted(glob.glob(os.path.join(results_dir, 'downsample-5', '*.tif')), key=natural_keys)\n",
    "print(\"--> got %i files for extraction\" % len(fnames))"
   ]
  },
  {
   "cell_type": "code",
   "execution_count": 10,
   "metadata": {},
   "outputs": [
    {
     "data": {
      "text/plain": [
       "'JC084-20190525-FOV1_zoom2p0x-gratings-downsample-5'"
      ]
     },
     "execution_count": 10,
     "metadata": {},
     "output_type": "execute_result"
    }
   ],
   "source": [
    "prefix"
   ]
  },
  {
   "cell_type": "code",
   "execution_count": 11,
   "metadata": {
    "scrolled": true
   },
   "outputs": [
    {
     "data": {
      "text/plain": [
       "['/n/coxfs01/2p-data/JC084/20190525/FOV1_zoom2p0x/caiman_results/gratings/downsample-5/file00001_fov1_gratings_00001.tif',\n",
       " '/n/coxfs01/2p-data/JC084/20190525/FOV1_zoom2p0x/caiman_results/gratings/downsample-5/file00002_fov1_gratings_00002.tif',\n",
       " '/n/coxfs01/2p-data/JC084/20190525/FOV1_zoom2p0x/caiman_results/gratings/downsample-5/file00003_fov1_gratings_00003.tif',\n",
       " '/n/coxfs01/2p-data/JC084/20190525/FOV1_zoom2p0x/caiman_results/gratings/downsample-5/file00004_fov1_gratings_00004.tif',\n",
       " '/n/coxfs01/2p-data/JC084/20190525/FOV1_zoom2p0x/caiman_results/gratings/downsample-5/file00005_fov1_gratings_00005.tif',\n",
       " '/n/coxfs01/2p-data/JC084/20190525/FOV1_zoom2p0x/caiman_results/gratings/downsample-5/file00006_fov1_gratings_00006.tif',\n",
       " '/n/coxfs01/2p-data/JC084/20190525/FOV1_zoom2p0x/caiman_results/gratings/downsample-5/file00007_fov1_gratings_00007.tif',\n",
       " '/n/coxfs01/2p-data/JC084/20190525/FOV1_zoom2p0x/caiman_results/gratings/downsample-5/file00008_fov1_gratings_00008.tif',\n",
       " '/n/coxfs01/2p-data/JC084/20190525/FOV1_zoom2p0x/caiman_results/gratings/downsample-5/file00009_fov1_gratings_00001.tif',\n",
       " '/n/coxfs01/2p-data/JC084/20190525/FOV1_zoom2p0x/caiman_results/gratings/downsample-5/file00010_fov1_gratings_00002.tif',\n",
       " '/n/coxfs01/2p-data/JC084/20190525/FOV1_zoom2p0x/caiman_results/gratings/downsample-5/file00011_fov1_gratings_00003.tif',\n",
       " '/n/coxfs01/2p-data/JC084/20190525/FOV1_zoom2p0x/caiman_results/gratings/downsample-5/file00012_fov1_gratings_00004.tif',\n",
       " '/n/coxfs01/2p-data/JC084/20190525/FOV1_zoom2p0x/caiman_results/gratings/downsample-5/file00013_fov1_gratings_00005.tif',\n",
       " '/n/coxfs01/2p-data/JC084/20190525/FOV1_zoom2p0x/caiman_results/gratings/downsample-5/file00014_fov1_gratings_00006.tif',\n",
       " '/n/coxfs01/2p-data/JC084/20190525/FOV1_zoom2p0x/caiman_results/gratings/downsample-5/file00015_fov1_gratings_00007.tif',\n",
       " '/n/coxfs01/2p-data/JC084/20190525/FOV1_zoom2p0x/caiman_results/gratings/downsample-5/file00016_fov1_gratings_00008.tif',\n",
       " '/n/coxfs01/2p-data/JC084/20190525/FOV1_zoom2p0x/caiman_results/gratings/downsample-5/file00017_fov1_gratings_00001.tif',\n",
       " '/n/coxfs01/2p-data/JC084/20190525/FOV1_zoom2p0x/caiman_results/gratings/downsample-5/file00018_fov1_gratings_00002.tif',\n",
       " '/n/coxfs01/2p-data/JC084/20190525/FOV1_zoom2p0x/caiman_results/gratings/downsample-5/file00019_fov1_gratings_00003.tif',\n",
       " '/n/coxfs01/2p-data/JC084/20190525/FOV1_zoom2p0x/caiman_results/gratings/downsample-5/file00020_fov1_gratings_00004.tif',\n",
       " '/n/coxfs01/2p-data/JC084/20190525/FOV1_zoom2p0x/caiman_results/gratings/downsample-5/file00021_fov1_gratings_00005.tif',\n",
       " '/n/coxfs01/2p-data/JC084/20190525/FOV1_zoom2p0x/caiman_results/gratings/downsample-5/file00022_fov1_gratings_00006.tif',\n",
       " '/n/coxfs01/2p-data/JC084/20190525/FOV1_zoom2p0x/caiman_results/gratings/downsample-5/file00023_fov1_gratings_00007.tif',\n",
       " '/n/coxfs01/2p-data/JC084/20190525/FOV1_zoom2p0x/caiman_results/gratings/downsample-5/file00024_fov1_gratings_00008.tif',\n",
       " '/n/coxfs01/2p-data/JC084/20190525/FOV1_zoom2p0x/caiman_results/gratings/downsample-5/file00025_fov1_gratings_00001.tif',\n",
       " '/n/coxfs01/2p-data/JC084/20190525/FOV1_zoom2p0x/caiman_results/gratings/downsample-5/file00026_fov1_gratings_00002.tif',\n",
       " '/n/coxfs01/2p-data/JC084/20190525/FOV1_zoom2p0x/caiman_results/gratings/downsample-5/file00027_fov1_gratings_00003.tif',\n",
       " '/n/coxfs01/2p-data/JC084/20190525/FOV1_zoom2p0x/caiman_results/gratings/downsample-5/file00028_fov1_gratings_00004.tif',\n",
       " '/n/coxfs01/2p-data/JC084/20190525/FOV1_zoom2p0x/caiman_results/gratings/downsample-5/file00029_fov1_gratings_00005.tif',\n",
       " '/n/coxfs01/2p-data/JC084/20190525/FOV1_zoom2p0x/caiman_results/gratings/downsample-5/file00030_fov1_gratings_00006.tif',\n",
       " '/n/coxfs01/2p-data/JC084/20190525/FOV1_zoom2p0x/caiman_results/gratings/downsample-5/file00031_fov1_gratings_00007.tif',\n",
       " '/n/coxfs01/2p-data/JC084/20190525/FOV1_zoom2p0x/caiman_results/gratings/downsample-5/file00032_fov1_gratings_00008.tif']"
      ]
     },
     "execution_count": 11,
     "metadata": {},
     "output_type": "execute_result"
    }
   ],
   "source": [
    "fnames"
   ]
  },
  {
   "cell_type": "code",
   "execution_count": 12,
   "metadata": {
    "scrolled": true
   },
   "outputs": [
    {
     "name": "stderr",
     "output_type": "stream",
     "text": [
      "WARNING:root:Changing key fnames in group data from None to ['/n/coxfs01/2p-data/JC084/20190525/FOV1_zoom2p0x/caiman_results/gratings/downsample-5/file00001_fov1_gratings_00001.tif', '/n/coxfs01/2p-data/JC084/20190525/FOV1_zoom2p0x/caiman_results/gratings/downsample-5/file00002_fov1_gratings_00002.tif', '/n/coxfs01/2p-data/JC084/20190525/FOV1_zoom2p0x/caiman_results/gratings/downsample-5/file00003_fov1_gratings_00003.tif', '/n/coxfs01/2p-data/JC084/20190525/FOV1_zoom2p0x/caiman_results/gratings/downsample-5/file00004_fov1_gratings_00004.tif', '/n/coxfs01/2p-data/JC084/20190525/FOV1_zoom2p0x/caiman_results/gratings/downsample-5/file00005_fov1_gratings_00005.tif', '/n/coxfs01/2p-data/JC084/20190525/FOV1_zoom2p0x/caiman_results/gratings/downsample-5/file00006_fov1_gratings_00006.tif', '/n/coxfs01/2p-data/JC084/20190525/FOV1_zoom2p0x/caiman_results/gratings/downsample-5/file00007_fov1_gratings_00007.tif', '/n/coxfs01/2p-data/JC084/20190525/FOV1_zoom2p0x/caiman_results/gratings/downsample-5/file00008_fov1_gratings_00008.tif', '/n/coxfs01/2p-data/JC084/20190525/FOV1_zoom2p0x/caiman_results/gratings/downsample-5/file00009_fov1_gratings_00001.tif', '/n/coxfs01/2p-data/JC084/20190525/FOV1_zoom2p0x/caiman_results/gratings/downsample-5/file00010_fov1_gratings_00002.tif', '/n/coxfs01/2p-data/JC084/20190525/FOV1_zoom2p0x/caiman_results/gratings/downsample-5/file00011_fov1_gratings_00003.tif', '/n/coxfs01/2p-data/JC084/20190525/FOV1_zoom2p0x/caiman_results/gratings/downsample-5/file00012_fov1_gratings_00004.tif', '/n/coxfs01/2p-data/JC084/20190525/FOV1_zoom2p0x/caiman_results/gratings/downsample-5/file00013_fov1_gratings_00005.tif', '/n/coxfs01/2p-data/JC084/20190525/FOV1_zoom2p0x/caiman_results/gratings/downsample-5/file00014_fov1_gratings_00006.tif', '/n/coxfs01/2p-data/JC084/20190525/FOV1_zoom2p0x/caiman_results/gratings/downsample-5/file00015_fov1_gratings_00007.tif', '/n/coxfs01/2p-data/JC084/20190525/FOV1_zoom2p0x/caiman_results/gratings/downsample-5/file00016_fov1_gratings_00008.tif', '/n/coxfs01/2p-data/JC084/20190525/FOV1_zoom2p0x/caiman_results/gratings/downsample-5/file00017_fov1_gratings_00001.tif', '/n/coxfs01/2p-data/JC084/20190525/FOV1_zoom2p0x/caiman_results/gratings/downsample-5/file00018_fov1_gratings_00002.tif', '/n/coxfs01/2p-data/JC084/20190525/FOV1_zoom2p0x/caiman_results/gratings/downsample-5/file00019_fov1_gratings_00003.tif', '/n/coxfs01/2p-data/JC084/20190525/FOV1_zoom2p0x/caiman_results/gratings/downsample-5/file00020_fov1_gratings_00004.tif', '/n/coxfs01/2p-data/JC084/20190525/FOV1_zoom2p0x/caiman_results/gratings/downsample-5/file00021_fov1_gratings_00005.tif', '/n/coxfs01/2p-data/JC084/20190525/FOV1_zoom2p0x/caiman_results/gratings/downsample-5/file00022_fov1_gratings_00006.tif', '/n/coxfs01/2p-data/JC084/20190525/FOV1_zoom2p0x/caiman_results/gratings/downsample-5/file00023_fov1_gratings_00007.tif', '/n/coxfs01/2p-data/JC084/20190525/FOV1_zoom2p0x/caiman_results/gratings/downsample-5/file00024_fov1_gratings_00008.tif', '/n/coxfs01/2p-data/JC084/20190525/FOV1_zoom2p0x/caiman_results/gratings/downsample-5/file00025_fov1_gratings_00001.tif', '/n/coxfs01/2p-data/JC084/20190525/FOV1_zoom2p0x/caiman_results/gratings/downsample-5/file00026_fov1_gratings_00002.tif', '/n/coxfs01/2p-data/JC084/20190525/FOV1_zoom2p0x/caiman_results/gratings/downsample-5/file00027_fov1_gratings_00003.tif', '/n/coxfs01/2p-data/JC084/20190525/FOV1_zoom2p0x/caiman_results/gratings/downsample-5/file00028_fov1_gratings_00004.tif', '/n/coxfs01/2p-data/JC084/20190525/FOV1_zoom2p0x/caiman_results/gratings/downsample-5/file00029_fov1_gratings_00005.tif', '/n/coxfs01/2p-data/JC084/20190525/FOV1_zoom2p0x/caiman_results/gratings/downsample-5/file00030_fov1_gratings_00006.tif', '/n/coxfs01/2p-data/JC084/20190525/FOV1_zoom2p0x/caiman_results/gratings/downsample-5/file00031_fov1_gratings_00007.tif', '/n/coxfs01/2p-data/JC084/20190525/FOV1_zoom2p0x/caiman_results/gratings/downsample-5/file00032_fov1_gratings_00008.tif']\n",
      "WARNING:root:Changing key fr in group data from 30 to 44.65\n",
      "WARNING:root:Changing key rf in group patch from None to 25\n",
      "WARNING:root:Changing key stride in group patch from None to 12\n",
      "WARNING:root:Changing key p in group preprocess from 2 to 1\n",
      "WARNING:root:Changing key nb in group init from 1 to 2\n",
      "WARNING:root:Changing key K in group init from 30 to 8\n",
      "WARNING:root:Changing key ssub in group init from 2 to 1\n",
      "WARNING:root:Changing key tsub in group init from 2 to 1\n",
      "WARNING:root:Changing key nb in group spatial from 1 to 2\n",
      "WARNING:root:Changing key p in group temporal from 2 to 1\n",
      "WARNING:root:Changing key nb in group temporal from 1 to 2\n",
      "WARNING:root:Changing key merge_thr in group merging from 0.8 to 0.85\n",
      "WARNING:root:Changing key min_SNR in group quality from 2.5 to 2.0\n",
      "WARNING:root:Changing key rval_thr in group quality from 0.8 to 0.85\n",
      "WARNING:root:Changing key min_cnn_thr in group quality from 0.9 to 0.99\n",
      "WARNING:root:Changing key min_SNR in group online from 2.5 to 2.0\n",
      "WARNING:root:Changing key rval_thr in group online from 0.8 to 0.85\n",
      "WARNING:root:Changing key strides in group motion from (96, 96) to (48, 48)\n",
      "WARNING:root:Changing key overlaps in group motion from (32, 32) to (24, 24)\n"
     ]
    }
   ],
   "source": [
    "\n",
    "opts = caiman_params(fnames)"
   ]
  },
  {
   "cell_type": "code",
   "execution_count": 13,
   "metadata": {},
   "outputs": [
    {
     "name": "stdout",
     "output_type": "stream",
     "text": [
      "--- running on 8 processes ---\n",
      "--- dview:  None\n"
     ]
    }
   ],
   "source": [
    "\n",
    "# #%% start a cluster for parallel processing \n",
    "#(if a cluster already exists it will be closed and a new session will be opened)\n",
    "if 'dview' in locals():\n",
    "    cm.stop_server(dview=dview)\n",
    "c, dview, n_processes = cm.cluster.setup_cluster(\n",
    "    backend='local', n_processes=None, single_thread=False)\n",
    "#n_processes=2\n",
    "dview = None\n",
    "print(\"--- running on %i processes ---\" % n_processes)\n",
    "print(\"--- dview: \", dview)\n",
    "dview=None \n",
    "# Reset default patch params to run on full\n",
    "rf = None          # half-size of the patches in pixels. `None` when seeded CNMF is used.\n",
    "only_init = False  # has to be `False` when seeded CNMF is used\n",
    "gSig = (2, 2)      # expected half size of neurons in pixels, v important for proper component detection\n",
    "fr = 44.65 "
   ]
  },
  {
   "cell_type": "code",
   "execution_count": 14,
   "metadata": {},
   "outputs": [
    {
     "name": "stderr",
     "output_type": "stream",
     "text": [
      "WARNING:root:Changing key fnames in group data from None to ['/n/coxfs01/2p-data/JC084/20190525/FOV1_zoom2p0x/caiman_results/gratings/downsample-5/file00001_fov1_gratings_00001.tif', '/n/coxfs01/2p-data/JC084/20190525/FOV1_zoom2p0x/caiman_results/gratings/downsample-5/file00002_fov1_gratings_00002.tif', '/n/coxfs01/2p-data/JC084/20190525/FOV1_zoom2p0x/caiman_results/gratings/downsample-5/file00003_fov1_gratings_00003.tif', '/n/coxfs01/2p-data/JC084/20190525/FOV1_zoom2p0x/caiman_results/gratings/downsample-5/file00004_fov1_gratings_00004.tif', '/n/coxfs01/2p-data/JC084/20190525/FOV1_zoom2p0x/caiman_results/gratings/downsample-5/file00005_fov1_gratings_00005.tif', '/n/coxfs01/2p-data/JC084/20190525/FOV1_zoom2p0x/caiman_results/gratings/downsample-5/file00006_fov1_gratings_00006.tif', '/n/coxfs01/2p-data/JC084/20190525/FOV1_zoom2p0x/caiman_results/gratings/downsample-5/file00007_fov1_gratings_00007.tif', '/n/coxfs01/2p-data/JC084/20190525/FOV1_zoom2p0x/caiman_results/gratings/downsample-5/file00008_fov1_gratings_00008.tif', '/n/coxfs01/2p-data/JC084/20190525/FOV1_zoom2p0x/caiman_results/gratings/downsample-5/file00009_fov1_gratings_00001.tif', '/n/coxfs01/2p-data/JC084/20190525/FOV1_zoom2p0x/caiman_results/gratings/downsample-5/file00010_fov1_gratings_00002.tif', '/n/coxfs01/2p-data/JC084/20190525/FOV1_zoom2p0x/caiman_results/gratings/downsample-5/file00011_fov1_gratings_00003.tif', '/n/coxfs01/2p-data/JC084/20190525/FOV1_zoom2p0x/caiman_results/gratings/downsample-5/file00012_fov1_gratings_00004.tif', '/n/coxfs01/2p-data/JC084/20190525/FOV1_zoom2p0x/caiman_results/gratings/downsample-5/file00013_fov1_gratings_00005.tif', '/n/coxfs01/2p-data/JC084/20190525/FOV1_zoom2p0x/caiman_results/gratings/downsample-5/file00014_fov1_gratings_00006.tif', '/n/coxfs01/2p-data/JC084/20190525/FOV1_zoom2p0x/caiman_results/gratings/downsample-5/file00015_fov1_gratings_00007.tif', '/n/coxfs01/2p-data/JC084/20190525/FOV1_zoom2p0x/caiman_results/gratings/downsample-5/file00016_fov1_gratings_00008.tif', '/n/coxfs01/2p-data/JC084/20190525/FOV1_zoom2p0x/caiman_results/gratings/downsample-5/file00017_fov1_gratings_00001.tif', '/n/coxfs01/2p-data/JC084/20190525/FOV1_zoom2p0x/caiman_results/gratings/downsample-5/file00018_fov1_gratings_00002.tif', '/n/coxfs01/2p-data/JC084/20190525/FOV1_zoom2p0x/caiman_results/gratings/downsample-5/file00019_fov1_gratings_00003.tif', '/n/coxfs01/2p-data/JC084/20190525/FOV1_zoom2p0x/caiman_results/gratings/downsample-5/file00020_fov1_gratings_00004.tif', '/n/coxfs01/2p-data/JC084/20190525/FOV1_zoom2p0x/caiman_results/gratings/downsample-5/file00021_fov1_gratings_00005.tif', '/n/coxfs01/2p-data/JC084/20190525/FOV1_zoom2p0x/caiman_results/gratings/downsample-5/file00022_fov1_gratings_00006.tif', '/n/coxfs01/2p-data/JC084/20190525/FOV1_zoom2p0x/caiman_results/gratings/downsample-5/file00023_fov1_gratings_00007.tif', '/n/coxfs01/2p-data/JC084/20190525/FOV1_zoom2p0x/caiman_results/gratings/downsample-5/file00024_fov1_gratings_00008.tif', '/n/coxfs01/2p-data/JC084/20190525/FOV1_zoom2p0x/caiman_results/gratings/downsample-5/file00025_fov1_gratings_00001.tif', '/n/coxfs01/2p-data/JC084/20190525/FOV1_zoom2p0x/caiman_results/gratings/downsample-5/file00026_fov1_gratings_00002.tif', '/n/coxfs01/2p-data/JC084/20190525/FOV1_zoom2p0x/caiman_results/gratings/downsample-5/file00027_fov1_gratings_00003.tif', '/n/coxfs01/2p-data/JC084/20190525/FOV1_zoom2p0x/caiman_results/gratings/downsample-5/file00028_fov1_gratings_00004.tif', '/n/coxfs01/2p-data/JC084/20190525/FOV1_zoom2p0x/caiman_results/gratings/downsample-5/file00029_fov1_gratings_00005.tif', '/n/coxfs01/2p-data/JC084/20190525/FOV1_zoom2p0x/caiman_results/gratings/downsample-5/file00030_fov1_gratings_00006.tif', '/n/coxfs01/2p-data/JC084/20190525/FOV1_zoom2p0x/caiman_results/gratings/downsample-5/file00031_fov1_gratings_00007.tif', '/n/coxfs01/2p-data/JC084/20190525/FOV1_zoom2p0x/caiman_results/gratings/downsample-5/file00032_fov1_gratings_00008.tif']\n",
      "WARNING:root:Changing key fr in group data from 30 to 44.65\n",
      "WARNING:root:Changing key only_init in group patch from True to False\n",
      "WARNING:root:Changing key n_pixels_per_process in group preprocess from None to 50\n",
      "WARNING:root:Changing key nb in group init from 1 to 2\n",
      "WARNING:root:Changing key gSig in group init from [5, 5] to (2, 2)\n",
      "WARNING:root:Changing key ssub in group init from 2 to 1\n",
      "WARNING:root:Changing key tsub in group init from 2 to 1\n",
      "WARNING:root:Changing key nb in group spatial from 1 to 2\n",
      "WARNING:root:Changing key n_pixels_per_process in group spatial from None to 50\n",
      "WARNING:root:Changing key nb in group temporal from 1 to 2\n",
      "WARNING:root:Changing key merge_thr in group merging from 0.8 to 0.85\n"
     ]
    }
   ],
   "source": [
    "# params object\n",
    "opts_dict = {'fnames': fnames,\n",
    "             'fr': fr,\n",
    "            'decay_time': 0.4,\n",
    "            'p': 2,\n",
    "            'nb': 2,\n",
    "            'rf': rf,\n",
    "            'only_init': only_init,\n",
    "            'gSig': gSig,\n",
    "            'ssub': 1,\n",
    "            'tsub': 1,\n",
    "            'merge_thr': 0.85,\n",
    "            'n_pixels_per_process': 50}\n",
    "\n",
    "#opts.change_params(opts_dict)\n",
    "opts = params.CNMFParams(params_dict=opts_dict)\n"
   ]
  },
  {
   "cell_type": "code",
   "execution_count": 18,
   "metadata": {},
   "outputs": [
    {
     "ename": "NameError",
     "evalue": "name 'Yr' is not defined",
     "output_type": "error",
     "traceback": [
      "\u001b[0;31m---------------------------------------------------------------------------\u001b[0m",
      "\u001b[0;31mNameError\u001b[0m                                 Traceback (most recent call last)",
      "\u001b[0;32m<ipython-input-18-a6b541c5ba32>\u001b[0m in \u001b[0;36m<module>\u001b[0;34m\u001b[0m\n\u001b[0;32m----> 1\u001b[0;31m \u001b[0;32mdel\u001b[0m \u001b[0mYr\u001b[0m\u001b[0;34m\u001b[0m\u001b[0;34m\u001b[0m\u001b[0m\n\u001b[0m",
      "\u001b[0;31mNameError\u001b[0m: name 'Yr' is not defined"
     ]
    }
   ],
   "source": [
    "#del Yr"
   ]
  },
  {
   "cell_type": "code",
   "execution_count": 16,
   "metadata": {},
   "outputs": [
    {
     "name": "stderr",
     "output_type": "stream",
     "text": [
      "WARNING:root:Changing key init_batch in group online from 200 to 512\n"
     ]
    },
    {
     "ename": "MemoryError",
     "evalue": "",
     "output_type": "error",
     "traceback": [
      "\u001b[0;31m---------------------------------------------------------------------------\u001b[0m",
      "\u001b[0;31mMemoryError\u001b[0m                               Traceback (most recent call last)",
      "\u001b[0;32m<ipython-input-16-2dab3bfa3420>\u001b[0m in \u001b[0;36m<module>\u001b[0;34m\u001b[0m\n\u001b[1;32m      1\u001b[0m \u001b[0mstart_t\u001b[0m \u001b[0;34m=\u001b[0m \u001b[0mtime\u001b[0m\u001b[0;34m.\u001b[0m\u001b[0mtime\u001b[0m\u001b[0;34m(\u001b[0m\u001b[0;34m)\u001b[0m\u001b[0;34m\u001b[0m\u001b[0;34m\u001b[0m\u001b[0m\n\u001b[1;32m      2\u001b[0m \u001b[0mcnm\u001b[0m \u001b[0;34m=\u001b[0m \u001b[0mcnmf\u001b[0m\u001b[0;34m.\u001b[0m\u001b[0mCNMF\u001b[0m\u001b[0;34m(\u001b[0m\u001b[0mn_processes\u001b[0m\u001b[0;34m,\u001b[0m \u001b[0mparams\u001b[0m\u001b[0;34m=\u001b[0m\u001b[0mopts\u001b[0m\u001b[0;34m,\u001b[0m \u001b[0mdview\u001b[0m\u001b[0;34m=\u001b[0m\u001b[0mdview\u001b[0m\u001b[0;34m,\u001b[0m \u001b[0mAin\u001b[0m\u001b[0;34m=\u001b[0m\u001b[0mAin\u001b[0m\u001b[0;34m)\u001b[0m\u001b[0;34m\u001b[0m\u001b[0;34m\u001b[0m\u001b[0m\n\u001b[0;32m----> 3\u001b[0;31m \u001b[0mcnm\u001b[0m\u001b[0;34m.\u001b[0m\u001b[0mfit\u001b[0m\u001b[0;34m(\u001b[0m\u001b[0mnp\u001b[0m\u001b[0;34m.\u001b[0m\u001b[0mreshape\u001b[0m\u001b[0;34m(\u001b[0m\u001b[0mYr\u001b[0m\u001b[0;34m,\u001b[0m \u001b[0mdims\u001b[0m \u001b[0;34m+\u001b[0m \u001b[0;34m(\u001b[0m\u001b[0mT\u001b[0m\u001b[0;34m,\u001b[0m\u001b[0;34m)\u001b[0m\u001b[0;34m,\u001b[0m \u001b[0morder\u001b[0m\u001b[0;34m=\u001b[0m\u001b[0;34m'F'\u001b[0m\u001b[0;34m)\u001b[0m\u001b[0;34m)\u001b[0m\u001b[0;34m\u001b[0m\u001b[0;34m\u001b[0m\u001b[0m\n\u001b[0m\u001b[1;32m      4\u001b[0m \u001b[0mend_t\u001b[0m \u001b[0;34m=\u001b[0m \u001b[0mtime\u001b[0m\u001b[0;34m.\u001b[0m\u001b[0mtime\u001b[0m\u001b[0;34m(\u001b[0m\u001b[0;34m)\u001b[0m\u001b[0;34m\u001b[0m\u001b[0;34m\u001b[0m\u001b[0m\n\u001b[1;32m      5\u001b[0m \u001b[0mprint\u001b[0m\u001b[0;34m(\u001b[0m\u001b[0;34m\"--> Elapsed time: {0:.2f}sec\"\u001b[0m\u001b[0;34m.\u001b[0m\u001b[0mformat\u001b[0m\u001b[0;34m(\u001b[0m\u001b[0mend_t\u001b[0m\u001b[0;34m)\u001b[0m\u001b[0;34m)\u001b[0m\u001b[0;34m\u001b[0m\u001b[0;34m\u001b[0m\u001b[0m\n",
      "\u001b[0;32m~/Repositories/CaImAn/caiman/source_extraction/cnmf/cnmf.py\u001b[0m in \u001b[0;36mfit\u001b[0;34m(self, images, indices)\u001b[0m\n\u001b[1;32m    418\u001b[0m         \u001b[0;31m#self.params.data['dims'] = images.shape[1:]\u001b[0m\u001b[0;34m\u001b[0m\u001b[0;34m\u001b[0m\u001b[0;34m\u001b[0m\u001b[0m\n\u001b[1;32m    419\u001b[0m         \u001b[0mY\u001b[0m \u001b[0;34m=\u001b[0m \u001b[0mnp\u001b[0m\u001b[0;34m.\u001b[0m\u001b[0mtranspose\u001b[0m\u001b[0;34m(\u001b[0m\u001b[0mimages\u001b[0m\u001b[0;34m,\u001b[0m \u001b[0mlist\u001b[0m\u001b[0;34m(\u001b[0m\u001b[0mrange\u001b[0m\u001b[0;34m(\u001b[0m\u001b[0;36m1\u001b[0m\u001b[0;34m,\u001b[0m \u001b[0mlen\u001b[0m\u001b[0;34m(\u001b[0m\u001b[0mself\u001b[0m\u001b[0;34m.\u001b[0m\u001b[0mdims\u001b[0m\u001b[0;34m)\u001b[0m \u001b[0;34m+\u001b[0m \u001b[0;36m1\u001b[0m\u001b[0;34m)\u001b[0m\u001b[0;34m)\u001b[0m \u001b[0;34m+\u001b[0m \u001b[0;34m[\u001b[0m\u001b[0;36m0\u001b[0m\u001b[0;34m]\u001b[0m\u001b[0;34m)\u001b[0m\u001b[0;34m\u001b[0m\u001b[0;34m\u001b[0m\u001b[0m\n\u001b[0;32m--> 420\u001b[0;31m         \u001b[0mYr\u001b[0m \u001b[0;34m=\u001b[0m \u001b[0mnp\u001b[0m\u001b[0;34m.\u001b[0m\u001b[0mtranspose\u001b[0m\u001b[0;34m(\u001b[0m\u001b[0mnp\u001b[0m\u001b[0;34m.\u001b[0m\u001b[0mreshape\u001b[0m\u001b[0;34m(\u001b[0m\u001b[0mimages\u001b[0m\u001b[0;34m,\u001b[0m \u001b[0;34m(\u001b[0m\u001b[0mT\u001b[0m\u001b[0;34m,\u001b[0m \u001b[0;34m-\u001b[0m\u001b[0;36m1\u001b[0m\u001b[0;34m)\u001b[0m\u001b[0;34m,\u001b[0m \u001b[0morder\u001b[0m\u001b[0;34m=\u001b[0m\u001b[0;34m'F'\u001b[0m\u001b[0;34m)\u001b[0m\u001b[0;34m)\u001b[0m\u001b[0;34m\u001b[0m\u001b[0;34m\u001b[0m\u001b[0m\n\u001b[0m\u001b[1;32m    421\u001b[0m         \u001b[0;32mif\u001b[0m \u001b[0mnp\u001b[0m\u001b[0;34m.\u001b[0m\u001b[0misfortran\u001b[0m\u001b[0;34m(\u001b[0m\u001b[0mYr\u001b[0m\u001b[0;34m)\u001b[0m\u001b[0;34m:\u001b[0m\u001b[0;34m\u001b[0m\u001b[0;34m\u001b[0m\u001b[0m\n\u001b[1;32m    422\u001b[0m             \u001b[0;32mraise\u001b[0m \u001b[0mException\u001b[0m\u001b[0;34m(\u001b[0m\u001b[0;34m'The file is in F order, it should be in C order (see save_memmap function)'\u001b[0m\u001b[0;34m)\u001b[0m\u001b[0;34m\u001b[0m\u001b[0;34m\u001b[0m\u001b[0m\n",
      "\u001b[0;32m~/anaconda2/envs/caiman/lib/python3.6/site-packages/numpy/core/fromnumeric.py\u001b[0m in \u001b[0;36mreshape\u001b[0;34m(a, newshape, order)\u001b[0m\n\u001b[1;32m    290\u001b[0m            [5, 6]])\n\u001b[1;32m    291\u001b[0m     \"\"\"\n\u001b[0;32m--> 292\u001b[0;31m     \u001b[0;32mreturn\u001b[0m \u001b[0m_wrapfunc\u001b[0m\u001b[0;34m(\u001b[0m\u001b[0ma\u001b[0m\u001b[0;34m,\u001b[0m \u001b[0;34m'reshape'\u001b[0m\u001b[0;34m,\u001b[0m \u001b[0mnewshape\u001b[0m\u001b[0;34m,\u001b[0m \u001b[0morder\u001b[0m\u001b[0;34m=\u001b[0m\u001b[0morder\u001b[0m\u001b[0;34m)\u001b[0m\u001b[0;34m\u001b[0m\u001b[0;34m\u001b[0m\u001b[0m\n\u001b[0m\u001b[1;32m    293\u001b[0m \u001b[0;34m\u001b[0m\u001b[0m\n\u001b[1;32m    294\u001b[0m \u001b[0;34m\u001b[0m\u001b[0m\n",
      "\u001b[0;32m~/anaconda2/envs/caiman/lib/python3.6/site-packages/numpy/core/fromnumeric.py\u001b[0m in \u001b[0;36m_wrapfunc\u001b[0;34m(obj, method, *args, **kwds)\u001b[0m\n\u001b[1;32m     54\u001b[0m \u001b[0;32mdef\u001b[0m \u001b[0m_wrapfunc\u001b[0m\u001b[0;34m(\u001b[0m\u001b[0mobj\u001b[0m\u001b[0;34m,\u001b[0m \u001b[0mmethod\u001b[0m\u001b[0;34m,\u001b[0m \u001b[0;34m*\u001b[0m\u001b[0margs\u001b[0m\u001b[0;34m,\u001b[0m \u001b[0;34m**\u001b[0m\u001b[0mkwds\u001b[0m\u001b[0;34m)\u001b[0m\u001b[0;34m:\u001b[0m\u001b[0;34m\u001b[0m\u001b[0;34m\u001b[0m\u001b[0m\n\u001b[1;32m     55\u001b[0m     \u001b[0;32mtry\u001b[0m\u001b[0;34m:\u001b[0m\u001b[0;34m\u001b[0m\u001b[0;34m\u001b[0m\u001b[0m\n\u001b[0;32m---> 56\u001b[0;31m         \u001b[0;32mreturn\u001b[0m \u001b[0mgetattr\u001b[0m\u001b[0;34m(\u001b[0m\u001b[0mobj\u001b[0m\u001b[0;34m,\u001b[0m \u001b[0mmethod\u001b[0m\u001b[0;34m)\u001b[0m\u001b[0;34m(\u001b[0m\u001b[0;34m*\u001b[0m\u001b[0margs\u001b[0m\u001b[0;34m,\u001b[0m \u001b[0;34m**\u001b[0m\u001b[0mkwds\u001b[0m\u001b[0;34m)\u001b[0m\u001b[0;34m\u001b[0m\u001b[0;34m\u001b[0m\u001b[0m\n\u001b[0m\u001b[1;32m     57\u001b[0m \u001b[0;34m\u001b[0m\u001b[0m\n\u001b[1;32m     58\u001b[0m     \u001b[0;31m# An AttributeError occurs if the object does not have\u001b[0m\u001b[0;34m\u001b[0m\u001b[0;34m\u001b[0m\u001b[0;34m\u001b[0m\u001b[0m\n",
      "\u001b[0;31mMemoryError\u001b[0m: "
     ]
    }
   ],
   "source": [
    "start_t = time.time()  \n",
    "cnm = cnmf.CNMF(n_processes, params=opts, dview=dview, Ain=Ain) \n",
    "cnm.fit(np.reshape(Yr, dims + (T,), order='F'))\n",
    "end_t = time.time() \n",
    "print(\"--> Elapsed time: {0:.2f}sec\".format(end_t))  "
   ]
  },
  {
   "cell_type": "code",
   "execution_count": 24,
   "metadata": {},
   "outputs": [
    {
     "data": {
      "text/plain": [
       "'/n/coxfs01/2p-data/JC084/20190525/FOV1_zoom2p0x/caiman_results/gratings/memmap/JC084-20190525-FOV1_zoom2p0x-gratings-downsample-5_d1_512_d2_512_d3_1_order_C_frames_29504_.mmap'"
      ]
     },
     "execution_count": 24,
     "metadata": {},
     "output_type": "execute_result"
    }
   ],
   "source": [
    "fname_tot"
   ]
  },
  {
   "cell_type": "code",
   "execution_count": null,
   "metadata": {},
   "outputs": [],
   "source": []
  }
 ],
 "metadata": {
  "kernelspec": {
   "display_name": "Python 3",
   "language": "python",
   "name": "python3"
  },
  "language_info": {
   "codemirror_mode": {
    "name": "ipython",
    "version": 3
   },
   "file_extension": ".py",
   "mimetype": "text/x-python",
   "name": "python",
   "nbconvert_exporter": "python",
   "pygments_lexer": "ipython3",
   "version": "3.6.7"
  }
 },
 "nbformat": 4,
 "nbformat_minor": 2
}
