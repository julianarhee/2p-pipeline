{
 "cells": [
  {
   "cell_type": "code",
   "execution_count": 1,
   "metadata": {},
   "outputs": [
    {
     "name": "stderr",
     "output_type": "stream",
     "text": [
      "/n/coxfs01/2p-pipeline/envs/caiman/lib/python3.7/site-packages/tensorflow/python/framework/dtypes.py:526: FutureWarning: Passing (type, 1) or '1type' as a synonym of type is deprecated; in a future version of numpy, it will be understood as (type, (1,)) / '(1,)type'.\n",
      "  _np_qint8 = np.dtype([(\"qint8\", np.int8, 1)])\n",
      "/n/coxfs01/2p-pipeline/envs/caiman/lib/python3.7/site-packages/tensorflow/python/framework/dtypes.py:527: FutureWarning: Passing (type, 1) or '1type' as a synonym of type is deprecated; in a future version of numpy, it will be understood as (type, (1,)) / '(1,)type'.\n",
      "  _np_quint8 = np.dtype([(\"quint8\", np.uint8, 1)])\n",
      "/n/coxfs01/2p-pipeline/envs/caiman/lib/python3.7/site-packages/tensorflow/python/framework/dtypes.py:528: FutureWarning: Passing (type, 1) or '1type' as a synonym of type is deprecated; in a future version of numpy, it will be understood as (type, (1,)) / '(1,)type'.\n",
      "  _np_qint16 = np.dtype([(\"qint16\", np.int16, 1)])\n",
      "/n/coxfs01/2p-pipeline/envs/caiman/lib/python3.7/site-packages/tensorflow/python/framework/dtypes.py:529: FutureWarning: Passing (type, 1) or '1type' as a synonym of type is deprecated; in a future version of numpy, it will be understood as (type, (1,)) / '(1,)type'.\n",
      "  _np_quint16 = np.dtype([(\"quint16\", np.uint16, 1)])\n",
      "/n/coxfs01/2p-pipeline/envs/caiman/lib/python3.7/site-packages/tensorflow/python/framework/dtypes.py:530: FutureWarning: Passing (type, 1) or '1type' as a synonym of type is deprecated; in a future version of numpy, it will be understood as (type, (1,)) / '(1,)type'.\n",
      "  _np_qint32 = np.dtype([(\"qint32\", np.int32, 1)])\n",
      "/n/coxfs01/2p-pipeline/envs/caiman/lib/python3.7/site-packages/tensorflow/python/framework/dtypes.py:535: FutureWarning: Passing (type, 1) or '1type' as a synonym of type is deprecated; in a future version of numpy, it will be understood as (type, (1,)) / '(1,)type'.\n",
      "  np_resource = np.dtype([(\"resource\", np.ubyte, 1)])\n"
     ]
    }
   ],
   "source": [
    "\n",
    "\n",
    "import cv2\n",
    "import glob\n",
    "import logging\n",
    "import matplotlib.pyplot as plt\n",
    "import numpy as np\n",
    "import os\n",
    "import time\n",
    "import h5py\n",
    "\n",
    "try:\n",
    "    cv2.setNumThreads(0)\n",
    "except():\n",
    "    pass\n",
    "\n",
    "try:\n",
    "    if __IPYTHON__:\n",
    "        # this is used for debugging purposes only. allows to reload classes\n",
    "        # when changed\n",
    "        get_ipython().magic('load_ext autoreload')\n",
    "        get_ipython().magic('autoreload 2')\n",
    "except NameError:\n",
    "    pass\n",
    "\n",
    "import caiman as cm\n",
    "from caiman.motion_correction import MotionCorrect\n",
    "from caiman.source_extraction.cnmf import cnmf as cnmf\n",
    "from caiman.source_extraction.cnmf import params as params\n",
    "from caiman.utils.utils import download_demo\n",
    "from caiman.utils.visualization import plot_contours, nb_view_patches, nb_plot_contour\n",
    "\n",
    "\n",
    "import pylab as pl\n",
    "from functools import partial\n",
    "import tifffile as tf\n",
    "import multiprocessing as mp\n",
    "import json\n",
    "import time\n",
    "import re\n",
    "import optparse\n",
    "import sys\n",
    "\n",
    "from caiman.source_extraction.cnmf.initialization import downscale as cmdownscale\n",
    "\n"
   ]
  },
  {
   "cell_type": "code",
   "execution_count": 2,
   "metadata": {},
   "outputs": [],
   "source": [
    "def atoi(text):\n",
    "    return int(text) if text.isdigit() else text\n",
    "\n",
    "def natural_keys(text):\n",
    "    return [ atoi(c) for c in re.split('(\\d+)', text) ]\n",
    "\n",
    "\n"
   ]
  },
  {
   "cell_type": "code",
   "execution_count": null,
   "metadata": {},
   "outputs": [],
   "source": []
  },
  {
   "cell_type": "code",
   "execution_count": 12,
   "metadata": {},
   "outputs": [],
   "source": [
    "\n",
    "def caiman_params(fnames, kwargs=None):\n",
    "    # dataset dependent parameters\n",
    "    fr = 44.65                             # imaging rate in frames per second\n",
    "    decay_time = 0.4                    # length of a typical transient in seconds\n",
    "\n",
    "    # motion correction parameters\n",
    "    strides = (96, 96)          # start a new patch for pw-rigid motion correction every x pixels\n",
    "    overlaps = (48, 48)         # overlap between pathes (size of patch strides+overlaps)\n",
    "    max_shifts = (6,6)          # maximum allowed rigid shifts (in pixels)\n",
    "    max_deviation_rigid = 3     # maximum shifts deviation allowed for patch with respect to rigid shifts\n",
    "    pw_rigid = False             # flag for performing non-rigid motion correction\n",
    "\n",
    "    # parameters for source extraction and deconvolution\n",
    "    p = 2                       # order of the autoregressive system\n",
    "    gnb = 2                     # number of global background components\n",
    "    merge_thr = 0.85            # merging threshold, max correlation allowed\n",
    "    rf = 25                     # half-size of the patches in pixels. e.g., if rf=25, patches are 50x50\n",
    "    stride_cnmf = 12             # amount of overlap between the patches in pixels\n",
    "    K = 8                       # number of components per patch\n",
    "    gSig = [2, 2]               # expected half size of neurons in pixels\n",
    "    method_init = 'greedy_roi'  # initialization method (if analyzing dendritic data using 'sparse_nmf')\n",
    "    ssub = 1                    # spatial subsampling during initialization\n",
    "    tsub = 1                    # temporal subsampling during intialization\n",
    "\n",
    "    # parameters for component evaluation\n",
    "    min_SNR = 2.0               # signal to noise ratio for accepting a component\n",
    "    rval_thr = 0.85              # space correlation threshold for accepting a component\n",
    "    cnn_thr = 0.99              # threshold for CNN based classifier\n",
    "    cnn_lowest = 0.1 # neurons with cnn probability lower than this value are rejected\n",
    "\n",
    "    opts_dict = {'fnames': fnames,\n",
    "                'fr': fr,\n",
    "                'decay_time': decay_time,\n",
    "                'strides': strides,\n",
    "                'overlaps': overlaps,\n",
    "                'max_shifts': max_shifts,\n",
    "                'max_deviation_rigid': max_deviation_rigid,\n",
    "                'pw_rigid': pw_rigid,\n",
    "                'p': p,\n",
    "                'nb': gnb,\n",
    "                'rf': rf,\n",
    "                'K': K, \n",
    "                'gSig': gSig,\n",
    "                'stride': stride_cnmf,\n",
    "                'method_init': method_init,\n",
    "                'rolling_sum': True,\n",
    "                'only_init': True,\n",
    "                'ssub': ssub,\n",
    "                'tsub': tsub,\n",
    "                'merge_thr': merge_thr, \n",
    "                'min_SNR': min_SNR,\n",
    "                'rval_thr': rval_thr,\n",
    "                'use_cnn': True,\n",
    "                'min_cnn_thr': cnn_thr,\n",
    "                'cnn_lowest': cnn_lowest}\n",
    "\n",
    "   \n",
    "    if kwargs is not None:\n",
    "        for k, v in kwargs.iteritems():\n",
    "            opts_dict.update({k: v})\n",
    "            print(\"... updating opt %s to value %s\" % (k, str(v)))\n",
    "\n",
    "    if opts_dict['ssub'] != 1:\n",
    "        print(\"Updating params for spatial ds factor: %i\" % opts_dict['ssub'])\n",
    "        ssub_val = float(opts_dict['ssub'])\n",
    "        gsig_val = float(opts_dict['gSig'][0])\n",
    "        rf_val = float(opts_dict['rf'])\n",
    "\n",
    "        strides = (int(round(opts_dict['strides'][0]/ssub_val)), int(round(opts_dict['strides'][1]/ssub_val)))\n",
    "        overlaps = (int(round(opts_dict['overlaps'][0]/ssub_val)), int(round(opts_dict['overlaps'][1]/ssub_val)))\n",
    "        gSig = (int(round(gsig_val/ssub_val)), int(round(gsig_val/ssub_val)))\n",
    "        rf = (int(round(rf_val/ssub_val)), int(round(rf_val/ssub_val)))\n",
    "        strid_cnmf = int(round(opts_dict['stride']))\n",
    "\n",
    "        opts_dict.update({'strides': strides, \n",
    "                          'overlaps': overlaps,\n",
    "                          'gSig': gSig,\n",
    "                          'rf': rf,\n",
    "                          'stride': stride_cnmf})\n",
    "\n",
    "    opts_dict.update({'p_ssub': opts_dict['ssub'],\n",
    "                      'p_tsub': opts_dict['tsub']}) \n",
    "\n",
    "\n",
    "    opts = params.CNMFParams(params_dict=opts_dict)\n",
    "\n",
    "    return opts\n",
    "\n",
    "\n",
    "\n",
    "def save_memmap_params(results_dir, resize_fact=(), add_to_movie=None, border_to_0=None, fnames=[], prefix='Yr'):\n",
    "    # create mmap params file\n",
    "    mmap_fpath = os.path.join(results_dir, '%s_memmap-params.json' % prefix)\n",
    "    mmap_params = {'resize_fact': list(resize_fact), \n",
    "                   'add_to_movie': add_to_movie,\n",
    "                   'border_to_0': border_to_0,\n",
    "                   'fnames': fnames}\n",
    "    for k, m in mmap_params.items():\n",
    "        if isinstance(m, list):\n",
    "            if not isinstance(m[0], (str, bytes)):\n",
    "                mmap_params[k] = [float(mi) for mi in m]\n",
    "            #print\n",
    "        else:\n",
    "            mmap_params[k] = float(m)\n",
    "\n",
    "    with open(mmap_fpath, 'w') as f:\n",
    "        json.dump(mmap_params, f, indent=4)\n",
    "     \n",
    "    \n",
    "def save_mc_results(mc, results_dir, prefix='Yr'):\n",
    "    np.savez(os.path.join(results_dir, '%s_mc-rigid.npz' % prefix),\n",
    "            #mc=mc,\n",
    "            fname=mc.fname, max_shifts=mc.max_shifts, min_mov=mc.min_mov,\n",
    "            border_nan=mc.border_nan,\n",
    "            fname_tot_rig=mc.fname_tot_rig,\n",
    "            total_template_rig=mc.total_template_rig,\n",
    "            templates_rig=mc.templates_rig,\n",
    "            shifts_rig=mc.shifts_rig,\n",
    "            mmap_file=mc.mmap_file,\n",
    "            border_to_0=mc.border_to_0)\n",
    "    print(\"--- saved MC results: %s\" % os.path.join(results_dir, '%s_mc-rigid.npz' % prefix))\n",
    "    \n",
    "    # Also save params as json \n",
    "    if 'downsample' in prefix:\n",
    "        ds_fact = int(prefix.split('downsample-')[-1])\n",
    "        resize_fact = (1, 1, 1./ds_fact)\n",
    "    else:\n",
    "        resize_fact = (1, 1, 1)\n",
    "    save_memmap_params(results_dir, resize_fact=resize_fact, add_to_movie=mc.min_mov, \n",
    "                   border_to_0=mc.border_to_0, fnames=mc.fname, prefix=prefix)\n",
    "    print(\"--- saved MC params to JSON\")\n",
    "    \n",
    "def load_mc_results(results_dir, mc, prefix='Yr'):\n",
    "    try:\n",
    "        mc_results = np.load(os.path.join(results_dir, '%s_mc-rigid.npz' % prefix))\n",
    "        #mc = mc_results[mc] \n",
    "        mc.fname = res['fname']\n",
    "        mc.max_shifts = res['max_shifts']\n",
    "        mc.min_mov = res['min_mov']\n",
    "        mc.border_nan = res['border_nan']\n",
    "        mc.fname_tot_rig = res['fname_tot_rig']\n",
    "        mc.total_template_rig = res['total_template_rig']\n",
    "        mc.templates_rig = res['templates_rig']\n",
    "        mc.shifts_rig = res['mc_shifts_rig']\n",
    "        mc.mmap_file = res['mmap_file']\n",
    "        mc.border_to_0 = res['border_to_0']\n",
    "        mc.gSig_filt = res['gSig_filt']\n",
    "\n",
    "    except Exception as e:\n",
    "        return None\n",
    "\n",
    "    return mc \n",
    "\n",
    "# def get_full_memmap_path(results_dir, prefix='Yr'):\n",
    "#     try:\n",
    "#         fname_new = glob.glob(os.path.join(results_dir, 'memmap', '*%s_d*_.mmap' % prefix))[0]\n",
    "#     except Exception as e:\n",
    "#         return None\n",
    "#     return fname_new\n",
    "\n",
    "\n",
    "\n",
    "def get_full_memmap_path(results_dir, mm_prefix='Yr'):\n",
    "    print(\"Getting full mmap path for prefix: %s\" % mm_prefix)\n",
    "    print(\"-- dir: %s\" % results_dir)\n",
    "    print(glob.glob(os.path.join(results_dir, 'memmap', '*%s*.mmap')))\n",
    "    fname_new = glob.glob(os.path.join(results_dir, 'memmap', '*%s_d*_.mmap' % mm_prefix))[0]\n",
    "    mm_prefix = os.path.splitext(os.path.split(fname_new)[-1])[0].split('_d1_')[0]\n",
    "    print(\"CORRECTED PREFIX: %s\" % mm_prefix)\n",
    "    return fname_new, mm_prefix\n",
    "\n",
    "def get_file_paths(results_dir, mm_prefix='Yr'):\n",
    "    try:\n",
    "        mparams_fpath = os.path.join(results_dir, '%s_memmap-params.json' % mm_prefix)\n",
    "        print(\"Loading memmap params...\")\n",
    "        with open(mparams_fpath, 'r') as f:\n",
    "            mparams = json.load(f)\n",
    "        fnames = mparams['fnames']\n",
    "    except Exception as e:\n",
    "        print(\"Unable to load memmap params, trying alt.\")\n",
    "        try:\n",
    "            fnames = []\n",
    "            if 'downsample' in mm_prefix:\n",
    "                print(\"checking scratch\")\n",
    "                fovdir = results_dir.split('/caiman_results/')[0]\n",
    "                fov = os.path.split(fovdir)[-1]\n",
    "                sessiondir = os.path.split(fovdir)[0]\n",
    "                session = os.path.split(sessiondir)[-1]\n",
    "                animalid = os.path.split(os.path.split(sessiondir)[0])[-1]\n",
    "                print(\"Animal: %s, Fov: %s, Session: %s\" % (animalid, fov, session))\n",
    "                fnames = sorted(glob.glob(os.path.join('/n/scratchlfs/cox_lab/julianarhee/downsampled/*%s*/*.tif' % mm_prefix)), key=natural_keys)\n",
    "                print(fnames[0:5]) \n",
    "            if len(fnames)==0 and 'downsample' not in mm_prefix: \n",
    "                dpath = glob.glob(os.path.join(results_dir, 'memmap', '*%s*.npz' % mm_prefix))[0]#) [0]) \n",
    "                minfo = np.load(dpath)\n",
    "                fnames = sorted(list(minfo['mmap_fnames']))\n",
    "        except Exception as e:\n",
    "            print(\"unable to load file names.\")\n",
    "            return None\n",
    "    \n",
    "    return fnames #fnames = mparams['fnames']\n",
    "\n"
   ]
  },
  {
   "cell_type": "code",
   "execution_count": 4,
   "metadata": {},
   "outputs": [],
   "source": [
    "\n",
    "\n",
    "def get_roiid_from_traceid(animalid, session, fov, run_type=None, traceid='traces001', rootdir='/n/coxfs01/2p-data'):\n",
    "    \n",
    "    if run_type is not None:\n",
    "        if int(session) < 20190511 and run_type == 'gratings':\n",
    "            a_traceid_dict = glob.glob(os.path.join(rootdir, animalid, session, fov, '*run*', 'traces', 'traceids*.json'))[0]\n",
    "        else:\n",
    "            a_traceid_dict = glob.glob(os.path.join(rootdir, animalid, session, fov, '*%s*' % run_type, 'traces', 'traceids*.json'))[0]\n",
    "    else:\n",
    "        a_traceid_dict = glob.glob(os.path.join(rootdir, animalid, session, fov, '*run*', 'traces', 'traceids*.json'))[0]\n",
    "    with open(a_traceid_dict, 'r') as f:\n",
    "        tracedict = json.load(f)\n",
    "    \n",
    "    tid = tracedict[traceid]\n",
    "    roiid = tid['PARAMS']['roi_id']\n",
    "    \n",
    "    return roiid\n",
    "\n",
    "\n",
    "def load_roi_masks(animalid, session, fov, rois=None, rootdir='/n/coxfs01/2p-data'):\n",
    "    masks=None; zimg=None;\n",
    "    mask_fpath = glob.glob(os.path.join(rootdir, animalid, session, 'ROIs', '%s*' % rois, 'masks.hdf5'))[0]\n",
    "    try:\n",
    "        mfile = h5py.File(mask_fpath, 'r')\n",
    "\n",
    "        # Load and reshape masks\n",
    "        fkey = list(mfile.keys())[0]\n",
    "        masks = mfile[fkey]['masks']['Slice01'][:] #.T\n",
    "        #print(masks.shape)\n",
    "        #mfile[mfile.keys()[0]].keys()\n",
    "\n",
    "        zimg = mfile[fkey]['zproj_img']['Slice01'][:] #.T\n",
    "        zimg.shape\n",
    "    except Exception as e:\n",
    "        print(\"error loading masks\")\n",
    "    finally:\n",
    "        mfile.close()\n",
    "        \n",
    "    return masks, zimg\n",
    "\n",
    "# def reshape_and_binarize_masks(masks):\n",
    "#     # Binarze and reshape:\n",
    "#     nrois, d1, d2 = masks.shape\n",
    "#     Ain = np.reshape(masks, (nrois, d1*d2))\n",
    "#     Ain[Ain>0] = 1\n",
    "#     Ain = Ain.astype(bool).T \n",
    "    \n",
    "#     return Ain\n",
    "\n",
    "def reshape_and_binarize_masks(masks):\n",
    "    # Binarze and reshape:\n",
    "    nrois, d1, d2 = masks.shape\n",
    "    #masks2 = np.swapaxes(masks, 1, 2)\n",
    "    Ain = np.reshape(masks, (nrois, d1*d2))\n",
    "    Ain[Ain>0] = 1\n",
    "    Ain = Ain.astype(bool).T \n",
    "    \n",
    "    return Ain\n"
   ]
  },
  {
   "cell_type": "markdown",
   "metadata": {},
   "source": [
    "# Set data"
   ]
  },
  {
   "cell_type": "code",
   "execution_count": 5,
   "metadata": {},
   "outputs": [],
   "source": [
    "rootdir = '/n/coxfs01/2p-data'\n",
    "animalid = 'JC085'\n",
    "session = '20190622'\n",
    "experiment = 'retino_run1'\n",
    "n_processes=8"
   ]
  },
  {
   "cell_type": "code",
   "execution_count": 6,
   "metadata": {},
   "outputs": [
    {
     "name": "stdout",
     "output_type": "stream",
     "text": [
      "[retino_run1]: added 16 tifs to queue.\n"
     ]
    }
   ],
   "source": [
    "rootdir = '/n/coxfs01/2p-data'\n",
    "animalid = 'JC085'\n",
    "session = '20190622' #'20190505_JC083'\n",
    "session_dir = os.path.join(rootdir, animalid, session)\n",
    "\n",
    "fov = 'FOV1_zoom2p0x'\n",
    "run_list = ['retino_run1']\n",
    "run_label = 'retino_run1'\n",
    "fnames = []\n",
    "for run in run_list:\n",
    "    fnames_tmp = glob.glob(os.path.join(session_dir, fov, '%s*' % run, 'raw*', '*.tif'))\n",
    "    fnames.extend(fnames_tmp)\n",
    "    print(\"[%s]: added %i tifs to queue.\" % (run, len(fnames_tmp)))\n"
   ]
  },
  {
   "cell_type": "code",
   "execution_count": 7,
   "metadata": {},
   "outputs": [
    {
     "name": "stderr",
     "output_type": "stream",
     "text": [
      "WARNING:root:Changing key fnames in group data from None to ['/n/coxfs01/2p-data/JC085/20190622/FOV1_zoom2p0x/retino_run1/raw_29070c/fov1_retinobar_00001.tif', '/n/coxfs01/2p-data/JC085/20190622/FOV1_zoom2p0x/retino_run1/raw_29070c/fov1_retinobar_00002.tif', '/n/coxfs01/2p-data/JC085/20190622/FOV1_zoom2p0x/retino_run1/raw_29070c/fov1_retinobar_00003.tif', '/n/coxfs01/2p-data/JC085/20190622/FOV1_zoom2p0x/retino_run1/raw_29070c/fov1_retinobar_00004.tif', '/n/coxfs01/2p-data/JC085/20190622/FOV1_zoom2p0x/retino_run1/raw_29070c/fov1_retinobar_00005.tif', '/n/coxfs01/2p-data/JC085/20190622/FOV1_zoom2p0x/retino_run1/raw_29070c/fov1_retinobar_00006.tif', '/n/coxfs01/2p-data/JC085/20190622/FOV1_zoom2p0x/retino_run1/raw_29070c/fov1_retinobar_00007.tif', '/n/coxfs01/2p-data/JC085/20190622/FOV1_zoom2p0x/retino_run1/raw_29070c/fov1_retinobar_00008.tif', '/n/coxfs01/2p-data/JC085/20190622/FOV1_zoom2p0x/retino_run1/raw_29070c/fov1_retinobar_00009.tif', '/n/coxfs01/2p-data/JC085/20190622/FOV1_zoom2p0x/retino_run1/raw_29070c/fov1_retinobar_00010.tif', '/n/coxfs01/2p-data/JC085/20190622/FOV1_zoom2p0x/retino_run1/raw_29070c/fov1_retinobar_00011.tif', '/n/coxfs01/2p-data/JC085/20190622/FOV1_zoom2p0x/retino_run1/raw_29070c/fov1_retinobar_00012.tif', '/n/coxfs01/2p-data/JC085/20190622/FOV1_zoom2p0x/retino_run1/raw_29070c/fov1_retinobar_00013.tif', '/n/coxfs01/2p-data/JC085/20190622/FOV1_zoom2p0x/retino_run1/raw_29070c/fov1_retinobar_00014.tif', '/n/coxfs01/2p-data/JC085/20190622/FOV1_zoom2p0x/retino_run1/raw_29070c/fov1_retinobar_00015.tif', '/n/coxfs01/2p-data/JC085/20190622/FOV1_zoom2p0x/retino_run1/raw_29070c/fov1_retinobar_00016.tif']\n",
      "WARNING:root:Changing key fr in group data from 30 to 44.65\n",
      "WARNING:root:Changing key rf in group patch from None to 25\n",
      "WARNING:root:Changing key stride in group patch from None to 12\n",
      "WARNING:root:Changing key p_ssub in group patch from 2 to 1\n",
      "WARNING:root:Changing key p_tsub in group patch from 2 to 1\n",
      "WARNING:root:Changing key nb in group init from 1 to 2\n",
      "WARNING:root:Changing key K in group init from 30 to 8\n",
      "WARNING:root:Changing key gSig in group init from [5, 5] to [2, 2]\n",
      "WARNING:root:Changing key ssub in group init from 2 to 1\n",
      "WARNING:root:Changing key tsub in group init from 2 to 1\n",
      "WARNING:root:Changing key nb in group spatial from 1 to 2\n",
      "WARNING:root:Changing key nb in group temporal from 1 to 2\n",
      "WARNING:root:Changing key merge_thr in group merging from 0.8 to 0.85\n",
      "WARNING:root:Changing key min_SNR in group quality from 2.5 to 2.0\n",
      "WARNING:root:Changing key rval_thr in group quality from 0.8 to 0.85\n",
      "WARNING:root:Changing key min_cnn_thr in group quality from 0.9 to 0.99\n",
      "WARNING:root:Changing key min_SNR in group online from 2.5 to 2.0\n",
      "WARNING:root:Changing key rval_thr in group online from 0.8 to 0.85\n",
      "WARNING:root:Changing key overlaps in group motion from (32, 32) to (48, 48)\n"
     ]
    }
   ],
   "source": [
    "opts = caiman_params(fnames)"
   ]
  },
  {
   "cell_type": "code",
   "execution_count": 8,
   "metadata": {},
   "outputs": [
    {
     "name": "stdout",
     "output_type": "stream",
     "text": [
      "/n/coxfs01/2p-data/JC085/20190622/FOV1_zoom2p0x/retino_run1/caiman_results\n"
     ]
    }
   ],
   "source": [
    "results_dir = os.path.join(session_dir, fov, run_label, 'caiman_results')\n",
    "if not os.path.exists(results_dir):\n",
    "    os.makedirs(results_dir)\n",
    "print(results_dir)"
   ]
  },
  {
   "cell_type": "code",
   "execution_count": 9,
   "metadata": {},
   "outputs": [
    {
     "data": {
      "text/plain": [
       "'JC085-20190622-FOV1_zoom2p0x-retino_run1'"
      ]
     },
     "execution_count": 9,
     "metadata": {},
     "output_type": "execute_result"
    }
   ],
   "source": [
    "source_key = '-'.join([animalid, session, fov, run_label])\n",
    "source_key"
   ]
  },
  {
   "cell_type": "code",
   "execution_count": null,
   "metadata": {},
   "outputs": [],
   "source": []
  },
  {
   "cell_type": "markdown",
   "metadata": {},
   "source": [
    "# Preprocessing"
   ]
  },
  {
   "cell_type": "code",
   "execution_count": 10,
   "metadata": {},
   "outputs": [
    {
     "name": "stderr",
     "output_type": "stream",
     "text": [
      "/n/coxfs01/2p-pipeline/envs/caiman/lib/python3.7/site-packages/numpy/core/memmap.py:331: FutureWarning: Using a non-tuple sequence for multidimensional indexing is deprecated; use `arr[tuple(seq)]` instead of `arr[seq]`. In the future this will be interpreted as an array index, `arr[np.array(seq)]`, which will result either in an error or a different result.\n",
      "  res = super(memmap, self).__getitem__(index)\n",
      "/n/coxfs01/2p-pipeline/envs/caiman/lib/python3.7/site-packages/numpy/core/memmap.py:331: FutureWarning: Using a non-tuple sequence for multidimensional indexing is deprecated; use `arr[tuple(seq)]` instead of `arr[seq]`. In the future this will be interpreted as an array index, `arr[np.array(seq)]`, which will result either in an error or a different result.\n",
      "  res = super(memmap, self).__getitem__(index)\n",
      "/n/coxfs01/2p-pipeline/envs/caiman/lib/python3.7/site-packages/numpy/core/memmap.py:331: FutureWarning: Using a non-tuple sequence for multidimensional indexing is deprecated; use `arr[tuple(seq)]` instead of `arr[seq]`. In the future this will be interpreted as an array index, `arr[np.array(seq)]`, which will result either in an error or a different result.\n",
      "  res = super(memmap, self).__getitem__(index)\n",
      "/n/coxfs01/2p-pipeline/envs/caiman/lib/python3.7/site-packages/numpy/core/memmap.py:331: FutureWarning: Using a non-tuple sequence for multidimensional indexing is deprecated; use `arr[tuple(seq)]` instead of `arr[seq]`. In the future this will be interpreted as an array index, `arr[np.array(seq)]`, which will result either in an error or a different result.\n",
      "  res = super(memmap, self).__getitem__(index)\n",
      "/n/coxfs01/2p-pipeline/envs/caiman/lib/python3.7/site-packages/numpy/core/memmap.py:331: FutureWarning: Using a non-tuple sequence for multidimensional indexing is deprecated; use `arr[tuple(seq)]` instead of `arr[seq]`. In the future this will be interpreted as an array index, `arr[np.array(seq)]`, which will result either in an error or a different result.\n",
      "  res = super(memmap, self).__getitem__(index)\n",
      "/n/coxfs01/2p-pipeline/envs/caiman/lib/python3.7/site-packages/numpy/core/memmap.py:331: FutureWarning: Using a non-tuple sequence for multidimensional indexing is deprecated; use `arr[tuple(seq)]` instead of `arr[seq]`. In the future this will be interpreted as an array index, `arr[np.array(seq)]`, which will result either in an error or a different result.\n",
      "  res = super(memmap, self).__getitem__(index)\n",
      "/n/coxfs01/2p-pipeline/envs/caiman/lib/python3.7/site-packages/numpy/core/memmap.py:331: FutureWarning: Using a non-tuple sequence for multidimensional indexing is deprecated; use `arr[tuple(seq)]` instead of `arr[seq]`. In the future this will be interpreted as an array index, `arr[np.array(seq)]`, which will result either in an error or a different result.\n",
      "  res = super(memmap, self).__getitem__(index)\n",
      "/n/coxfs01/2p-pipeline/envs/caiman/lib/python3.7/site-packages/numpy/core/memmap.py:331: FutureWarning: Using a non-tuple sequence for multidimensional indexing is deprecated; use `arr[tuple(seq)]` instead of `arr[seq]`. In the future this will be interpreted as an array index, `arr[np.array(seq)]`, which will result either in an error or a different result.\n",
      "  res = super(memmap, self).__getitem__(index)\n",
      "WARNING:root:Changing key n_processes in group patch from 8 to 1\n",
      "WARNING:root:Changing key rf in group patch from 25 to None\n",
      "WARNING:root:Changing key stride in group patch from 12 to None\n",
      "WARNING:root:Changing key nb in group init from 2 to 1\n",
      "WARNING:root:Changing key nb in group temporal from 2 to 1\n",
      "WARNING:root:Changing key nb in group spatial from 2 to 1\n",
      "WARNING:root:Changing key n_processes in group patch from 8 to 1\n",
      "WARNING:root:Changing key rf in group patch from 25 to None\n",
      "WARNING:root:Changing key n_processes in group patch from 8 to 1\n",
      "WARNING:root:Changing key n_processes in group patch from 8 to 1\n",
      "WARNING:root:Changing key stride in group patch from 12 to None\n",
      "WARNING:root:Changing key rf in group patch from 25 to None\n",
      "WARNING:root:Changing key rf in group patch from 25 to None\n",
      "WARNING:root:Changing key nb in group init from 2 to 1\n",
      "WARNING:root:Changing key stride in group patch from 12 to None\n",
      "WARNING:root:Changing key stride in group patch from 12 to None\n",
      "WARNING:root:Changing key nb in group temporal from 2 to 1\n",
      "WARNING:root:Changing key nb in group init from 2 to 1\n",
      "WARNING:root:Changing key nb in group init from 2 to 1\n",
      "WARNING:root:Changing key nb in group spatial from 2 to 1\n",
      "WARNING:root:Changing key nb in group temporal from 2 to 1\n",
      "WARNING:root:Changing key nb in group temporal from 2 to 1\n",
      "WARNING:root:Changing key nb in group spatial from 2 to 1\n",
      "WARNING:root:Changing key nb in group spatial from 2 to 1\n",
      "WARNING:root:Changing key n_processes in group patch from 8 to 1\n",
      "WARNING:root:Changing key rf in group patch from 25 to None\n",
      "WARNING:root:Changing key stride in group patch from 12 to None\n",
      "WARNING:root:Changing key nb in group init from 2 to 1\n",
      "WARNING:root:Changing key nb in group temporal from 2 to 1\n",
      "WARNING:root:Changing key nb in group spatial from 2 to 1\n",
      "WARNING:root:Changing key n_processes in group patch from 8 to 1\n",
      "WARNING:root:Changing key rf in group patch from 25 to None\n",
      "WARNING:root:Changing key n_processes in group patch from 8 to 1\n",
      "WARNING:root:Changing key stride in group patch from 12 to None\n",
      "WARNING:root:Changing key n_processes in group patch from 8 to 1\n",
      "WARNING:root:Changing key rf in group patch from 25 to None\n",
      "WARNING:root:Changing key nb in group init from 2 to 1\n",
      "WARNING:root:Changing key rf in group patch from 25 to None\n",
      "WARNING:root:Changing key stride in group patch from 12 to None\n",
      "WARNING:root:Changing key nb in group temporal from 2 to 1\n",
      "WARNING:root:Changing key stride in group patch from 12 to None\n",
      "WARNING:root:Changing key nb in group init from 2 to 1\n",
      "WARNING:root:Changing key nb in group spatial from 2 to 1\n",
      "WARNING:root:Changing key nb in group init from 2 to 1\n",
      "WARNING:root:Changing key nb in group temporal from 2 to 1\n",
      "WARNING:root:Changing key nb in group spatial from 2 to 1\n",
      "WARNING:root:Changing key nb in group temporal from 2 to 1\n",
      "WARNING:root:Changing key nb in group spatial from 2 to 1\n",
      "/n/coxfs01/2p-pipeline/envs/caiman/lib/python3.7/site-packages/numpy/core/memmap.py:331: FutureWarning: Using a non-tuple sequence for multidimensional indexing is deprecated; use `arr[tuple(seq)]` instead of `arr[seq]`. In the future this will be interpreted as an array index, `arr[np.array(seq)]`, which will result either in an error or a different result.\n",
      "  res = super(memmap, self).__getitem__(index)\n",
      "/n/coxfs01/2p-pipeline/envs/caiman/lib/python3.7/site-packages/numpy/core/memmap.py:331: FutureWarning: Using a non-tuple sequence for multidimensional indexing is deprecated; use `arr[tuple(seq)]` instead of `arr[seq]`. In the future this will be interpreted as an array index, `arr[np.array(seq)]`, which will result either in an error or a different result.\n",
      "  res = super(memmap, self).__getitem__(index)\n",
      "/n/coxfs01/2p-pipeline/envs/caiman/lib/python3.7/site-packages/numpy/core/memmap.py:331: FutureWarning: Using a non-tuple sequence for multidimensional indexing is deprecated; use `arr[tuple(seq)]` instead of `arr[seq]`. In the future this will be interpreted as an array index, `arr[np.array(seq)]`, which will result either in an error or a different result.\n",
      "  res = super(memmap, self).__getitem__(index)\n",
      "/n/coxfs01/2p-pipeline/envs/caiman/lib/python3.7/site-packages/numpy/core/memmap.py:331: FutureWarning: Using a non-tuple sequence for multidimensional indexing is deprecated; use `arr[tuple(seq)]` instead of `arr[seq]`. In the future this will be interpreted as an array index, `arr[np.array(seq)]`, which will result either in an error or a different result.\n",
      "  res = super(memmap, self).__getitem__(index)\n",
      "/n/coxfs01/2p-pipeline/envs/caiman/lib/python3.7/site-packages/numpy/core/memmap.py:331: FutureWarning: Using a non-tuple sequence for multidimensional indexing is deprecated; use `arr[tuple(seq)]` instead of `arr[seq]`. In the future this will be interpreted as an array index, `arr[np.array(seq)]`, which will result either in an error or a different result.\n",
      "  res = super(memmap, self).__getitem__(index)\n",
      "/n/coxfs01/2p-pipeline/envs/caiman/lib/python3.7/site-packages/numpy/core/memmap.py:331: FutureWarning: Using a non-tuple sequence for multidimensional indexing is deprecated; use `arr[tuple(seq)]` instead of `arr[seq]`. In the future this will be interpreted as an array index, `arr[np.array(seq)]`, which will result either in an error or a different result.\n",
      "  res = super(memmap, self).__getitem__(index)\n"
     ]
    },
    {
     "name": "stderr",
     "output_type": "stream",
     "text": [
      "/n/coxfs01/2p-pipeline/envs/caiman/lib/python3.7/site-packages/numpy/core/memmap.py:331: FutureWarning: Using a non-tuple sequence for multidimensional indexing is deprecated; use `arr[tuple(seq)]` instead of `arr[seq]`. In the future this will be interpreted as an array index, `arr[np.array(seq)]`, which will result either in an error or a different result.\n",
      "  res = super(memmap, self).__getitem__(index)\n",
      "/n/coxfs01/2p-pipeline/envs/caiman/lib/python3.7/site-packages/numpy/core/memmap.py:331: FutureWarning: Using a non-tuple sequence for multidimensional indexing is deprecated; use `arr[tuple(seq)]` instead of `arr[seq]`. In the future this will be interpreted as an array index, `arr[np.array(seq)]`, which will result either in an error or a different result.\n",
      "  res = super(memmap, self).__getitem__(index)\n",
      "/n/coxfs01/2p-pipeline/envs/caiman/lib/python3.7/site-packages/numpy/core/memmap.py:331: FutureWarning: Using a non-tuple sequence for multidimensional indexing is deprecated; use `arr[tuple(seq)]` instead of `arr[seq]`. In the future this will be interpreted as an array index, `arr[np.array(seq)]`, which will result either in an error or a different result.\n",
      "  res = super(memmap, self).__getitem__(index)\n",
      "/n/coxfs01/2p-pipeline/envs/caiman/lib/python3.7/site-packages/numpy/core/memmap.py:331: FutureWarning: Using a non-tuple sequence for multidimensional indexing is deprecated; use `arr[tuple(seq)]` instead of `arr[seq]`. In the future this will be interpreted as an array index, `arr[np.array(seq)]`, which will result either in an error or a different result.\n",
      "  res = super(memmap, self).__getitem__(index)\n",
      "/n/coxfs01/2p-pipeline/envs/caiman/lib/python3.7/site-packages/numpy/core/memmap.py:331: FutureWarning: Using a non-tuple sequence for multidimensional indexing is deprecated; use `arr[tuple(seq)]` instead of `arr[seq]`. In the future this will be interpreted as an array index, `arr[np.array(seq)]`, which will result either in an error or a different result.\n",
      "  res = super(memmap, self).__getitem__(index)\n",
      "/n/coxfs01/2p-pipeline/envs/caiman/lib/python3.7/site-packages/numpy/core/memmap.py:331: FutureWarning: Using a non-tuple sequence for multidimensional indexing is deprecated; use `arr[tuple(seq)]` instead of `arr[seq]`. In the future this will be interpreted as an array index, `arr[np.array(seq)]`, which will result either in an error or a different result.\n",
      "  res = super(memmap, self).__getitem__(index)\n",
      "/n/coxfs01/2p-pipeline/envs/caiman/lib/python3.7/site-packages/numpy/core/memmap.py:331: FutureWarning: Using a non-tuple sequence for multidimensional indexing is deprecated; use `arr[tuple(seq)]` instead of `arr[seq]`. In the future this will be interpreted as an array index, `arr[np.array(seq)]`, which will result either in an error or a different result.\n",
      "  res = super(memmap, self).__getitem__(index)\n",
      "/n/coxfs01/2p-pipeline/envs/caiman/lib/python3.7/site-packages/numpy/core/memmap.py:331: FutureWarning: Using a non-tuple sequence for multidimensional indexing is deprecated; use `arr[tuple(seq)]` instead of `arr[seq]`. In the future this will be interpreted as an array index, `arr[np.array(seq)]`, which will result either in an error or a different result.\n",
      "  res = super(memmap, self).__getitem__(index)\n",
      "/n/coxfs01/2p-pipeline/envs/caiman/lib/python3.7/site-packages/numpy/core/memmap.py:331: FutureWarning: Using a non-tuple sequence for multidimensional indexing is deprecated; use `arr[tuple(seq)]` instead of `arr[seq]`. In the future this will be interpreted as an array index, `arr[np.array(seq)]`, which will result either in an error or a different result.\n",
      "  res = super(memmap, self).__getitem__(index)\n",
      "/n/coxfs01/2p-pipeline/envs/caiman/lib/python3.7/site-packages/numpy/core/memmap.py:331: FutureWarning: Using a non-tuple sequence for multidimensional indexing is deprecated; use `arr[tuple(seq)]` instead of `arr[seq]`. In the future this will be interpreted as an array index, `arr[np.array(seq)]`, which will result either in an error or a different result.\n",
      "  res = super(memmap, self).__getitem__(index)\n",
      "/n/coxfs01/2p-pipeline/envs/caiman/lib/python3.7/site-packages/numpy/core/memmap.py:331: FutureWarning: Using a non-tuple sequence for multidimensional indexing is deprecated; use `arr[tuple(seq)]` instead of `arr[seq]`. In the future this will be interpreted as an array index, `arr[np.array(seq)]`, which will result either in an error or a different result.\n",
      "  res = super(memmap, self).__getitem__(index)\n",
      "/n/coxfs01/2p-pipeline/envs/caiman/lib/python3.7/site-packages/numpy/core/memmap.py:331: FutureWarning: Using a non-tuple sequence for multidimensional indexing is deprecated; use `arr[tuple(seq)]` instead of `arr[seq]`. In the future this will be interpreted as an array index, `arr[np.array(seq)]`, which will result either in an error or a different result.\n",
      "  res = super(memmap, self).__getitem__(index)\n",
      "/n/coxfs01/2p-pipeline/envs/caiman/lib/python3.7/site-packages/numpy/core/memmap.py:331: FutureWarning: Using a non-tuple sequence for multidimensional indexing is deprecated; use `arr[tuple(seq)]` instead of `arr[seq]`. In the future this will be interpreted as an array index, `arr[np.array(seq)]`, which will result either in an error or a different result.\n",
      "  res = super(memmap, self).__getitem__(index)\n",
      "/n/coxfs01/2p-pipeline/envs/caiman/lib/python3.7/site-packages/numpy/core/memmap.py:331: FutureWarning: Using a non-tuple sequence for multidimensional indexing is deprecated; use `arr[tuple(seq)]` instead of `arr[seq]`. In the future this will be interpreted as an array index, `arr[np.array(seq)]`, which will result either in an error or a different result.\n",
      "  res = super(memmap, self).__getitem__(index)\n",
      "/n/coxfs01/2p-pipeline/envs/caiman/lib/python3.7/site-packages/numpy/core/memmap.py:331: FutureWarning: Using a non-tuple sequence for multidimensional indexing is deprecated; use `arr[tuple(seq)]` instead of `arr[seq]`. In the future this will be interpreted as an array index, `arr[np.array(seq)]`, which will result either in an error or a different result.\n",
      "  res = super(memmap, self).__getitem__(index)\n",
      "/n/coxfs01/2p-pipeline/envs/caiman/lib/python3.7/site-packages/numpy/core/memmap.py:331: FutureWarning: Using a non-tuple sequence for multidimensional indexing is deprecated; use `arr[tuple(seq)]` instead of `arr[seq]`. In the future this will be interpreted as an array index, `arr[np.array(seq)]`, which will result either in an error or a different result.\n",
      "  res = super(memmap, self).__getitem__(index)\n",
      "/n/coxfs01/2p-pipeline/envs/caiman/lib/python3.7/site-packages/numpy/core/memmap.py:331: FutureWarning: Using a non-tuple sequence for multidimensional indexing is deprecated; use `arr[tuple(seq)]` instead of `arr[seq]`. In the future this will be interpreted as an array index, `arr[np.array(seq)]`, which will result either in an error or a different result.\n",
      "  res = super(memmap, self).__getitem__(index)\n",
      "/n/coxfs01/2p-pipeline/envs/caiman/lib/python3.7/site-packages/numpy/core/memmap.py:331: FutureWarning: Using a non-tuple sequence for multidimensional indexing is deprecated; use `arr[tuple(seq)]` instead of `arr[seq]`. In the future this will be interpreted as an array index, `arr[np.array(seq)]`, which will result either in an error or a different result.\n",
      "  res = super(memmap, self).__getitem__(index)\n",
      "/n/coxfs01/2p-pipeline/envs/caiman/lib/python3.7/site-packages/numpy/core/memmap.py:331: FutureWarning: Using a non-tuple sequence for multidimensional indexing is deprecated; use `arr[tuple(seq)]` instead of `arr[seq]`. In the future this will be interpreted as an array index, `arr[np.array(seq)]`, which will result either in an error or a different result.\n",
      "  res = super(memmap, self).__getitem__(index)\n",
      "/n/coxfs01/2p-pipeline/envs/caiman/lib/python3.7/site-packages/numpy/core/memmap.py:331: FutureWarning: Using a non-tuple sequence for multidimensional indexing is deprecated; use `arr[tuple(seq)]` instead of `arr[seq]`. In the future this will be interpreted as an array index, `arr[np.array(seq)]`, which will result either in an error or a different result.\n",
      "  res = super(memmap, self).__getitem__(index)\n",
      "/n/coxfs01/2p-pipeline/envs/caiman/lib/python3.7/site-packages/numpy/core/memmap.py:331: FutureWarning: Using a non-tuple sequence for multidimensional indexing is deprecated; use `arr[tuple(seq)]` instead of `arr[seq]`. In the future this will be interpreted as an array index, `arr[np.array(seq)]`, which will result either in an error or a different result.\n",
      "  res = super(memmap, self).__getitem__(index)\n"
     ]
    },
    {
     "name": "stderr",
     "output_type": "stream",
     "text": [
      "/n/coxfs01/2p-pipeline/envs/caiman/lib/python3.7/site-packages/numpy/core/memmap.py:331: FutureWarning: Using a non-tuple sequence for multidimensional indexing is deprecated; use `arr[tuple(seq)]` instead of `arr[seq]`. In the future this will be interpreted as an array index, `arr[np.array(seq)]`, which will result either in an error or a different result.\n",
      "  res = super(memmap, self).__getitem__(index)\n",
      "/n/coxfs01/2p-pipeline/envs/caiman/lib/python3.7/site-packages/numpy/core/memmap.py:331: FutureWarning: Using a non-tuple sequence for multidimensional indexing is deprecated; use `arr[tuple(seq)]` instead of `arr[seq]`. In the future this will be interpreted as an array index, `arr[np.array(seq)]`, which will result either in an error or a different result.\n",
      "  res = super(memmap, self).__getitem__(index)\n",
      "/n/coxfs01/2p-pipeline/envs/caiman/lib/python3.7/site-packages/numpy/core/memmap.py:331: FutureWarning: Using a non-tuple sequence for multidimensional indexing is deprecated; use `arr[tuple(seq)]` instead of `arr[seq]`. In the future this will be interpreted as an array index, `arr[np.array(seq)]`, which will result either in an error or a different result.\n",
      "  res = super(memmap, self).__getitem__(index)\n",
      "/n/coxfs01/2p-pipeline/envs/caiman/lib/python3.7/site-packages/numpy/core/memmap.py:331: FutureWarning: Using a non-tuple sequence for multidimensional indexing is deprecated; use `arr[tuple(seq)]` instead of `arr[seq]`. In the future this will be interpreted as an array index, `arr[np.array(seq)]`, which will result either in an error or a different result.\n",
      "  res = super(memmap, self).__getitem__(index)\n",
      "/n/coxfs01/2p-pipeline/envs/caiman/lib/python3.7/site-packages/numpy/core/memmap.py:331: FutureWarning: Using a non-tuple sequence for multidimensional indexing is deprecated; use `arr[tuple(seq)]` instead of `arr[seq]`. In the future this will be interpreted as an array index, `arr[np.array(seq)]`, which will result either in an error or a different result.\n",
      "  res = super(memmap, self).__getitem__(index)\n",
      "/n/coxfs01/2p-pipeline/envs/caiman/lib/python3.7/site-packages/numpy/core/memmap.py:331: FutureWarning: Using a non-tuple sequence for multidimensional indexing is deprecated; use `arr[tuple(seq)]` instead of `arr[seq]`. In the future this will be interpreted as an array index, `arr[np.array(seq)]`, which will result either in an error or a different result.\n",
      "  res = super(memmap, self).__getitem__(index)\n",
      "/n/coxfs01/2p-pipeline/envs/caiman/lib/python3.7/site-packages/numpy/core/memmap.py:331: FutureWarning: Using a non-tuple sequence for multidimensional indexing is deprecated; use `arr[tuple(seq)]` instead of `arr[seq]`. In the future this will be interpreted as an array index, `arr[np.array(seq)]`, which will result either in an error or a different result.\n",
      "  res = super(memmap, self).__getitem__(index)\n",
      "/n/coxfs01/2p-pipeline/envs/caiman/lib/python3.7/site-packages/numpy/core/memmap.py:331: FutureWarning: Using a non-tuple sequence for multidimensional indexing is deprecated; use `arr[tuple(seq)]` instead of `arr[seq]`. In the future this will be interpreted as an array index, `arr[np.array(seq)]`, which will result either in an error or a different result.\n",
      "  res = super(memmap, self).__getitem__(index)\n",
      "/n/coxfs01/2p-pipeline/envs/caiman/lib/python3.7/site-packages/numpy/core/memmap.py:331: FutureWarning: Using a non-tuple sequence for multidimensional indexing is deprecated; use `arr[tuple(seq)]` instead of `arr[seq]`. In the future this will be interpreted as an array index, `arr[np.array(seq)]`, which will result either in an error or a different result.\n",
      "  res = super(memmap, self).__getitem__(index)\n",
      "/n/coxfs01/2p-pipeline/envs/caiman/lib/python3.7/site-packages/numpy/core/memmap.py:331: FutureWarning: Using a non-tuple sequence for multidimensional indexing is deprecated; use `arr[tuple(seq)]` instead of `arr[seq]`. In the future this will be interpreted as an array index, `arr[np.array(seq)]`, which will result either in an error or a different result.\n",
      "  res = super(memmap, self).__getitem__(index)\n",
      "/n/coxfs01/2p-pipeline/envs/caiman/lib/python3.7/site-packages/numpy/core/memmap.py:331: FutureWarning: Using a non-tuple sequence for multidimensional indexing is deprecated; use `arr[tuple(seq)]` instead of `arr[seq]`. In the future this will be interpreted as an array index, `arr[np.array(seq)]`, which will result either in an error or a different result.\n",
      "  res = super(memmap, self).__getitem__(index)\n",
      "/n/coxfs01/2p-pipeline/envs/caiman/lib/python3.7/site-packages/numpy/core/memmap.py:331: FutureWarning: Using a non-tuple sequence for multidimensional indexing is deprecated; use `arr[tuple(seq)]` instead of `arr[seq]`. In the future this will be interpreted as an array index, `arr[np.array(seq)]`, which will result either in an error or a different result.\n",
      "  res = super(memmap, self).__getitem__(index)\n",
      "/n/coxfs01/2p-pipeline/envs/caiman/lib/python3.7/site-packages/numpy/core/memmap.py:331: FutureWarning: Using a non-tuple sequence for multidimensional indexing is deprecated; use `arr[tuple(seq)]` instead of `arr[seq]`. In the future this will be interpreted as an array index, `arr[np.array(seq)]`, which will result either in an error or a different result.\n",
      "  res = super(memmap, self).__getitem__(index)\n",
      "/n/coxfs01/2p-pipeline/envs/caiman/lib/python3.7/site-packages/numpy/core/memmap.py:331: FutureWarning: Using a non-tuple sequence for multidimensional indexing is deprecated; use `arr[tuple(seq)]` instead of `arr[seq]`. In the future this will be interpreted as an array index, `arr[np.array(seq)]`, which will result either in an error or a different result.\n",
      "  res = super(memmap, self).__getitem__(index)\n",
      "/n/coxfs01/2p-pipeline/envs/caiman/lib/python3.7/site-packages/numpy/core/memmap.py:331: FutureWarning: Using a non-tuple sequence for multidimensional indexing is deprecated; use `arr[tuple(seq)]` instead of `arr[seq]`. In the future this will be interpreted as an array index, `arr[np.array(seq)]`, which will result either in an error or a different result.\n",
      "  res = super(memmap, self).__getitem__(index)\n",
      "/n/coxfs01/2p-pipeline/envs/caiman/lib/python3.7/site-packages/numpy/core/memmap.py:331: FutureWarning: Using a non-tuple sequence for multidimensional indexing is deprecated; use `arr[tuple(seq)]` instead of `arr[seq]`. In the future this will be interpreted as an array index, `arr[np.array(seq)]`, which will result either in an error or a different result.\n",
      "  res = super(memmap, self).__getitem__(index)\n",
      "/n/coxfs01/2p-pipeline/envs/caiman/lib/python3.7/site-packages/numpy/core/memmap.py:331: FutureWarning: Using a non-tuple sequence for multidimensional indexing is deprecated; use `arr[tuple(seq)]` instead of `arr[seq]`. In the future this will be interpreted as an array index, `arr[np.array(seq)]`, which will result either in an error or a different result.\n",
      "  res = super(memmap, self).__getitem__(index)\n",
      "/n/coxfs01/2p-pipeline/envs/caiman/lib/python3.7/site-packages/numpy/core/memmap.py:331: FutureWarning: Using a non-tuple sequence for multidimensional indexing is deprecated; use `arr[tuple(seq)]` instead of `arr[seq]`. In the future this will be interpreted as an array index, `arr[np.array(seq)]`, which will result either in an error or a different result.\n",
      "  res = super(memmap, self).__getitem__(index)\n",
      "/n/coxfs01/2p-pipeline/envs/caiman/lib/python3.7/site-packages/numpy/core/memmap.py:331: FutureWarning: Using a non-tuple sequence for multidimensional indexing is deprecated; use `arr[tuple(seq)]` instead of `arr[seq]`. In the future this will be interpreted as an array index, `arr[np.array(seq)]`, which will result either in an error or a different result.\n",
      "  res = super(memmap, self).__getitem__(index)\n",
      "/n/coxfs01/2p-pipeline/envs/caiman/lib/python3.7/site-packages/numpy/core/memmap.py:331: FutureWarning: Using a non-tuple sequence for multidimensional indexing is deprecated; use `arr[tuple(seq)]` instead of `arr[seq]`. In the future this will be interpreted as an array index, `arr[np.array(seq)]`, which will result either in an error or a different result.\n",
      "  res = super(memmap, self).__getitem__(index)\n",
      "/n/coxfs01/2p-pipeline/envs/caiman/lib/python3.7/site-packages/numpy/core/memmap.py:331: FutureWarning: Using a non-tuple sequence for multidimensional indexing is deprecated; use `arr[tuple(seq)]` instead of `arr[seq]`. In the future this will be interpreted as an array index, `arr[np.array(seq)]`, which will result either in an error or a different result.\n",
      "  res = super(memmap, self).__getitem__(index)\n"
     ]
    },
    {
     "name": "stderr",
     "output_type": "stream",
     "text": [
      "/n/coxfs01/2p-pipeline/envs/caiman/lib/python3.7/site-packages/numpy/core/memmap.py:331: FutureWarning: Using a non-tuple sequence for multidimensional indexing is deprecated; use `arr[tuple(seq)]` instead of `arr[seq]`. In the future this will be interpreted as an array index, `arr[np.array(seq)]`, which will result either in an error or a different result.\n",
      "  res = super(memmap, self).__getitem__(index)\n",
      "/n/coxfs01/2p-pipeline/envs/caiman/lib/python3.7/site-packages/numpy/core/memmap.py:331: FutureWarning: Using a non-tuple sequence for multidimensional indexing is deprecated; use `arr[tuple(seq)]` instead of `arr[seq]`. In the future this will be interpreted as an array index, `arr[np.array(seq)]`, which will result either in an error or a different result.\n",
      "  res = super(memmap, self).__getitem__(index)\n",
      "/n/coxfs01/2p-pipeline/envs/caiman/lib/python3.7/site-packages/numpy/core/memmap.py:331: FutureWarning: Using a non-tuple sequence for multidimensional indexing is deprecated; use `arr[tuple(seq)]` instead of `arr[seq]`. In the future this will be interpreted as an array index, `arr[np.array(seq)]`, which will result either in an error or a different result.\n",
      "  res = super(memmap, self).__getitem__(index)\n",
      "/n/coxfs01/2p-pipeline/envs/caiman/lib/python3.7/site-packages/numpy/core/memmap.py:331: FutureWarning: Using a non-tuple sequence for multidimensional indexing is deprecated; use `arr[tuple(seq)]` instead of `arr[seq]`. In the future this will be interpreted as an array index, `arr[np.array(seq)]`, which will result either in an error or a different result.\n",
      "  res = super(memmap, self).__getitem__(index)\n",
      "/n/coxfs01/2p-pipeline/envs/caiman/lib/python3.7/site-packages/numpy/core/memmap.py:331: FutureWarning: Using a non-tuple sequence for multidimensional indexing is deprecated; use `arr[tuple(seq)]` instead of `arr[seq]`. In the future this will be interpreted as an array index, `arr[np.array(seq)]`, which will result either in an error or a different result.\n",
      "  res = super(memmap, self).__getitem__(index)\n",
      "/n/coxfs01/2p-pipeline/envs/caiman/lib/python3.7/site-packages/numpy/core/memmap.py:331: FutureWarning: Using a non-tuple sequence for multidimensional indexing is deprecated; use `arr[tuple(seq)]` instead of `arr[seq]`. In the future this will be interpreted as an array index, `arr[np.array(seq)]`, which will result either in an error or a different result.\n",
      "  res = super(memmap, self).__getitem__(index)\n",
      "/n/coxfs01/2p-pipeline/envs/caiman/lib/python3.7/site-packages/numpy/core/memmap.py:331: FutureWarning: Using a non-tuple sequence for multidimensional indexing is deprecated; use `arr[tuple(seq)]` instead of `arr[seq]`. In the future this will be interpreted as an array index, `arr[np.array(seq)]`, which will result either in an error or a different result.\n",
      "  res = super(memmap, self).__getitem__(index)\n",
      "WARNING:root:Changing key n_processes in group patch from 8 to 1\n",
      "WARNING:root:Changing key rf in group patch from 25 to None\n",
      "WARNING:root:Changing key stride in group patch from 12 to None\n",
      "WARNING:root:Changing key nb in group init from 2 to 1\n",
      "WARNING:root:Changing key nb in group temporal from 2 to 1\n",
      "WARNING:root:Changing key nb in group spatial from 2 to 1\n",
      "WARNING:root:Changing key n_processes in group patch from 8 to 1\n",
      "WARNING:root:Changing key rf in group patch from 25 to None\n",
      "WARNING:root:Changing key stride in group patch from 12 to None\n",
      "WARNING:root:Changing key nb in group init from 2 to 1\n",
      "WARNING:root:Changing key nb in group temporal from 2 to 1\n",
      "WARNING:root:Changing key nb in group spatial from 2 to 1\n",
      "WARNING:root:Changing key n_processes in group patch from 8 to 1\n",
      "WARNING:root:Changing key rf in group patch from 25 to None\n",
      "WARNING:root:Changing key stride in group patch from 12 to None\n",
      "WARNING:root:Changing key nb in group init from 2 to 1\n",
      "WARNING:root:Changing key nb in group temporal from 2 to 1\n",
      "WARNING:root:Changing key nb in group spatial from 2 to 1\n",
      "WARNING:root:Changing key n_processes in group patch from 8 to 1\n",
      "WARNING:root:Changing key rf in group patch from 25 to None\n",
      "WARNING:root:Changing key stride in group patch from 12 to None\n",
      "WARNING:root:Changing key nb in group init from 2 to 1\n",
      "WARNING:root:Changing key nb in group temporal from 2 to 1\n",
      "WARNING:root:Changing key nb in group spatial from 2 to 1\n",
      "WARNING:root:Changing key n_processes in group patch from 8 to 1\n",
      "WARNING:root:Changing key rf in group patch from 25 to None\n",
      "WARNING:root:Changing key stride in group patch from 12 to None\n",
      "WARNING:root:Changing key nb in group init from 2 to 1\n",
      "WARNING:root:Changing key nb in group temporal from 2 to 1\n",
      "WARNING:root:Changing key nb in group spatial from 2 to 1\n",
      "WARNING:root:Changing key n_processes in group patch from 8 to 1\n",
      "WARNING:root:Changing key rf in group patch from 25 to None\n",
      "WARNING:root:Changing key stride in group patch from 12 to None\n",
      "WARNING:root:Changing key nb in group init from 2 to 1\n",
      "WARNING:root:Changing key nb in group temporal from 2 to 1\n",
      "WARNING:root:Changing key nb in group spatial from 2 to 1\n",
      "WARNING:root:Changing key n_processes in group patch from 8 to 1\n",
      "WARNING:root:Changing key rf in group patch from 25 to None\n",
      "WARNING:root:Changing key stride in group patch from 12 to None\n",
      "WARNING:root:Changing key nb in group init from 2 to 1\n",
      "WARNING:root:Changing key nb in group temporal from 2 to 1\n",
      "WARNING:root:Changing key nb in group spatial from 2 to 1\n",
      "/n/coxfs01/2p-pipeline/envs/caiman/lib/python3.7/site-packages/numpy/core/memmap.py:331: FutureWarning: Using a non-tuple sequence for multidimensional indexing is deprecated; use `arr[tuple(seq)]` instead of `arr[seq]`. In the future this will be interpreted as an array index, `arr[np.array(seq)]`, which will result either in an error or a different result.\n",
      "  res = super(memmap, self).__getitem__(index)\n",
      "WARNING:root:Changing key n_processes in group patch from 8 to 1\n",
      "WARNING:root:Changing key rf in group patch from 25 to None\n",
      "WARNING:root:Changing key stride in group patch from 12 to None\n",
      "WARNING:root:Changing key nb in group init from 2 to 1\n",
      "WARNING:root:Changing key nb in group temporal from 2 to 1\n",
      "WARNING:root:Changing key nb in group spatial from 2 to 1\n",
      "/n/coxfs01/2p-pipeline/envs/caiman/lib/python3.7/site-packages/numpy/core/memmap.py:331: FutureWarning: Using a non-tuple sequence for multidimensional indexing is deprecated; use `arr[tuple(seq)]` instead of `arr[seq]`. In the future this will be interpreted as an array index, `arr[np.array(seq)]`, which will result either in an error or a different result.\n",
      "  res = super(memmap, self).__getitem__(index)\n",
      "/n/coxfs01/2p-pipeline/envs/caiman/lib/python3.7/site-packages/numpy/core/memmap.py:331: FutureWarning: Using a non-tuple sequence for multidimensional indexing is deprecated; use `arr[tuple(seq)]` instead of `arr[seq]`. In the future this will be interpreted as an array index, `arr[np.array(seq)]`, which will result either in an error or a different result.\n",
      "  res = super(memmap, self).__getitem__(index)\n",
      "/n/coxfs01/2p-pipeline/envs/caiman/lib/python3.7/site-packages/numpy/core/memmap.py:331: FutureWarning: Using a non-tuple sequence for multidimensional indexing is deprecated; use `arr[tuple(seq)]` instead of `arr[seq]`. In the future this will be interpreted as an array index, `arr[np.array(seq)]`, which will result either in an error or a different result.\n",
      "  res = super(memmap, self).__getitem__(index)\n",
      "/n/coxfs01/2p-pipeline/envs/caiman/lib/python3.7/site-packages/numpy/core/memmap.py:331: FutureWarning: Using a non-tuple sequence for multidimensional indexing is deprecated; use `arr[tuple(seq)]` instead of `arr[seq]`. In the future this will be interpreted as an array index, `arr[np.array(seq)]`, which will result either in an error or a different result.\n",
      "  res = super(memmap, self).__getitem__(index)\n",
      "/n/coxfs01/2p-pipeline/envs/caiman/lib/python3.7/site-packages/numpy/core/memmap.py:331: FutureWarning: Using a non-tuple sequence for multidimensional indexing is deprecated; use `arr[tuple(seq)]` instead of `arr[seq]`. In the future this will be interpreted as an array index, `arr[np.array(seq)]`, which will result either in an error or a different result.\n",
      "  res = super(memmap, self).__getitem__(index)\n",
      "/n/coxfs01/2p-pipeline/envs/caiman/lib/python3.7/site-packages/numpy/core/memmap.py:331: FutureWarning: Using a non-tuple sequence for multidimensional indexing is deprecated; use `arr[tuple(seq)]` instead of `arr[seq]`. In the future this will be interpreted as an array index, `arr[np.array(seq)]`, which will result either in an error or a different result.\n",
      "  res = super(memmap, self).__getitem__(index)\n"
     ]
    },
    {
     "name": "stderr",
     "output_type": "stream",
     "text": [
      "/n/coxfs01/2p-pipeline/envs/caiman/lib/python3.7/site-packages/numpy/core/memmap.py:331: FutureWarning: Using a non-tuple sequence for multidimensional indexing is deprecated; use `arr[tuple(seq)]` instead of `arr[seq]`. In the future this will be interpreted as an array index, `arr[np.array(seq)]`, which will result either in an error or a different result.\n",
      "  res = super(memmap, self).__getitem__(index)\n",
      "/n/coxfs01/2p-pipeline/envs/caiman/lib/python3.7/site-packages/numpy/core/memmap.py:331: FutureWarning: Using a non-tuple sequence for multidimensional indexing is deprecated; use `arr[tuple(seq)]` instead of `arr[seq]`. In the future this will be interpreted as an array index, `arr[np.array(seq)]`, which will result either in an error or a different result.\n",
      "  res = super(memmap, self).__getitem__(index)\n",
      "/n/coxfs01/2p-pipeline/envs/caiman/lib/python3.7/site-packages/numpy/core/memmap.py:331: FutureWarning: Using a non-tuple sequence for multidimensional indexing is deprecated; use `arr[tuple(seq)]` instead of `arr[seq]`. In the future this will be interpreted as an array index, `arr[np.array(seq)]`, which will result either in an error or a different result.\n",
      "  res = super(memmap, self).__getitem__(index)\n",
      "/n/coxfs01/2p-pipeline/envs/caiman/lib/python3.7/site-packages/numpy/core/memmap.py:331: FutureWarning: Using a non-tuple sequence for multidimensional indexing is deprecated; use `arr[tuple(seq)]` instead of `arr[seq]`. In the future this will be interpreted as an array index, `arr[np.array(seq)]`, which will result either in an error or a different result.\n",
      "  res = super(memmap, self).__getitem__(index)\n",
      "/n/coxfs01/2p-pipeline/envs/caiman/lib/python3.7/site-packages/numpy/core/memmap.py:331: FutureWarning: Using a non-tuple sequence for multidimensional indexing is deprecated; use `arr[tuple(seq)]` instead of `arr[seq]`. In the future this will be interpreted as an array index, `arr[np.array(seq)]`, which will result either in an error or a different result.\n",
      "  res = super(memmap, self).__getitem__(index)\n",
      "/n/coxfs01/2p-pipeline/envs/caiman/lib/python3.7/site-packages/numpy/core/memmap.py:331: FutureWarning: Using a non-tuple sequence for multidimensional indexing is deprecated; use `arr[tuple(seq)]` instead of `arr[seq]`. In the future this will be interpreted as an array index, `arr[np.array(seq)]`, which will result either in an error or a different result.\n",
      "  res = super(memmap, self).__getitem__(index)\n",
      "/n/coxfs01/2p-pipeline/envs/caiman/lib/python3.7/site-packages/numpy/core/memmap.py:331: FutureWarning: Using a non-tuple sequence for multidimensional indexing is deprecated; use `arr[tuple(seq)]` instead of `arr[seq]`. In the future this will be interpreted as an array index, `arr[np.array(seq)]`, which will result either in an error or a different result.\n",
      "  res = super(memmap, self).__getitem__(index)\n",
      "/n/coxfs01/2p-pipeline/envs/caiman/lib/python3.7/site-packages/numpy/core/memmap.py:331: FutureWarning: Using a non-tuple sequence for multidimensional indexing is deprecated; use `arr[tuple(seq)]` instead of `arr[seq]`. In the future this will be interpreted as an array index, `arr[np.array(seq)]`, which will result either in an error or a different result.\n",
      "  res = super(memmap, self).__getitem__(index)\n",
      "/n/coxfs01/2p-pipeline/envs/caiman/lib/python3.7/site-packages/numpy/core/memmap.py:331: FutureWarning: Using a non-tuple sequence for multidimensional indexing is deprecated; use `arr[tuple(seq)]` instead of `arr[seq]`. In the future this will be interpreted as an array index, `arr[np.array(seq)]`, which will result either in an error or a different result.\n",
      "  res = super(memmap, self).__getitem__(index)\n",
      "/n/coxfs01/2p-pipeline/envs/caiman/lib/python3.7/site-packages/numpy/core/memmap.py:331: FutureWarning: Using a non-tuple sequence for multidimensional indexing is deprecated; use `arr[tuple(seq)]` instead of `arr[seq]`. In the future this will be interpreted as an array index, `arr[np.array(seq)]`, which will result either in an error or a different result.\n",
      "  res = super(memmap, self).__getitem__(index)\n",
      "/n/coxfs01/2p-pipeline/envs/caiman/lib/python3.7/site-packages/numpy/core/memmap.py:331: FutureWarning: Using a non-tuple sequence for multidimensional indexing is deprecated; use `arr[tuple(seq)]` instead of `arr[seq]`. In the future this will be interpreted as an array index, `arr[np.array(seq)]`, which will result either in an error or a different result.\n",
      "  res = super(memmap, self).__getitem__(index)\n",
      "/n/coxfs01/2p-pipeline/envs/caiman/lib/python3.7/site-packages/numpy/core/memmap.py:331: FutureWarning: Using a non-tuple sequence for multidimensional indexing is deprecated; use `arr[tuple(seq)]` instead of `arr[seq]`. In the future this will be interpreted as an array index, `arr[np.array(seq)]`, which will result either in an error or a different result.\n",
      "  res = super(memmap, self).__getitem__(index)\n",
      "/n/coxfs01/2p-pipeline/envs/caiman/lib/python3.7/site-packages/numpy/core/memmap.py:331: FutureWarning: Using a non-tuple sequence for multidimensional indexing is deprecated; use `arr[tuple(seq)]` instead of `arr[seq]`. In the future this will be interpreted as an array index, `arr[np.array(seq)]`, which will result either in an error or a different result.\n",
      "  res = super(memmap, self).__getitem__(index)\n",
      "/n/coxfs01/2p-pipeline/envs/caiman/lib/python3.7/site-packages/numpy/core/memmap.py:331: FutureWarning: Using a non-tuple sequence for multidimensional indexing is deprecated; use `arr[tuple(seq)]` instead of `arr[seq]`. In the future this will be interpreted as an array index, `arr[np.array(seq)]`, which will result either in an error or a different result.\n",
      "  res = super(memmap, self).__getitem__(index)\n",
      "/n/coxfs01/2p-pipeline/envs/caiman/lib/python3.7/site-packages/numpy/core/memmap.py:331: FutureWarning: Using a non-tuple sequence for multidimensional indexing is deprecated; use `arr[tuple(seq)]` instead of `arr[seq]`. In the future this will be interpreted as an array index, `arr[np.array(seq)]`, which will result either in an error or a different result.\n",
      "  res = super(memmap, self).__getitem__(index)\n",
      "/n/coxfs01/2p-pipeline/envs/caiman/lib/python3.7/site-packages/numpy/core/memmap.py:331: FutureWarning: Using a non-tuple sequence for multidimensional indexing is deprecated; use `arr[tuple(seq)]` instead of `arr[seq]`. In the future this will be interpreted as an array index, `arr[np.array(seq)]`, which will result either in an error or a different result.\n",
      "  res = super(memmap, self).__getitem__(index)\n",
      "/n/coxfs01/2p-pipeline/envs/caiman/lib/python3.7/site-packages/numpy/core/memmap.py:331: FutureWarning: Using a non-tuple sequence for multidimensional indexing is deprecated; use `arr[tuple(seq)]` instead of `arr[seq]`. In the future this will be interpreted as an array index, `arr[np.array(seq)]`, which will result either in an error or a different result.\n",
      "  res = super(memmap, self).__getitem__(index)\n",
      "/n/coxfs01/2p-pipeline/envs/caiman/lib/python3.7/site-packages/numpy/core/memmap.py:331: FutureWarning: Using a non-tuple sequence for multidimensional indexing is deprecated; use `arr[tuple(seq)]` instead of `arr[seq]`. In the future this will be interpreted as an array index, `arr[np.array(seq)]`, which will result either in an error or a different result.\n",
      "  res = super(memmap, self).__getitem__(index)\n",
      "/n/coxfs01/2p-pipeline/envs/caiman/lib/python3.7/site-packages/numpy/core/memmap.py:331: FutureWarning: Using a non-tuple sequence for multidimensional indexing is deprecated; use `arr[tuple(seq)]` instead of `arr[seq]`. In the future this will be interpreted as an array index, `arr[np.array(seq)]`, which will result either in an error or a different result.\n",
      "  res = super(memmap, self).__getitem__(index)\n",
      "/n/coxfs01/2p-pipeline/envs/caiman/lib/python3.7/site-packages/numpy/core/memmap.py:331: FutureWarning: Using a non-tuple sequence for multidimensional indexing is deprecated; use `arr[tuple(seq)]` instead of `arr[seq]`. In the future this will be interpreted as an array index, `arr[np.array(seq)]`, which will result either in an error or a different result.\n",
      "  res = super(memmap, self).__getitem__(index)\n",
      "/n/coxfs01/2p-pipeline/envs/caiman/lib/python3.7/site-packages/numpy/core/memmap.py:331: FutureWarning: Using a non-tuple sequence for multidimensional indexing is deprecated; use `arr[tuple(seq)]` instead of `arr[seq]`. In the future this will be interpreted as an array index, `arr[np.array(seq)]`, which will result either in an error or a different result.\n",
      "  res = super(memmap, self).__getitem__(index)\n"
     ]
    },
    {
     "name": "stderr",
     "output_type": "stream",
     "text": [
      "/n/coxfs01/2p-pipeline/envs/caiman/lib/python3.7/site-packages/numpy/core/memmap.py:331: FutureWarning: Using a non-tuple sequence for multidimensional indexing is deprecated; use `arr[tuple(seq)]` instead of `arr[seq]`. In the future this will be interpreted as an array index, `arr[np.array(seq)]`, which will result either in an error or a different result.\n",
      "  res = super(memmap, self).__getitem__(index)\n",
      "/n/coxfs01/2p-pipeline/envs/caiman/lib/python3.7/site-packages/numpy/core/memmap.py:331: FutureWarning: Using a non-tuple sequence for multidimensional indexing is deprecated; use `arr[tuple(seq)]` instead of `arr[seq]`. In the future this will be interpreted as an array index, `arr[np.array(seq)]`, which will result either in an error or a different result.\n",
      "  res = super(memmap, self).__getitem__(index)\n",
      "/n/coxfs01/2p-pipeline/envs/caiman/lib/python3.7/site-packages/numpy/core/memmap.py:331: FutureWarning: Using a non-tuple sequence for multidimensional indexing is deprecated; use `arr[tuple(seq)]` instead of `arr[seq]`. In the future this will be interpreted as an array index, `arr[np.array(seq)]`, which will result either in an error or a different result.\n",
      "  res = super(memmap, self).__getitem__(index)\n",
      "/n/coxfs01/2p-pipeline/envs/caiman/lib/python3.7/site-packages/numpy/core/memmap.py:331: FutureWarning: Using a non-tuple sequence for multidimensional indexing is deprecated; use `arr[tuple(seq)]` instead of `arr[seq]`. In the future this will be interpreted as an array index, `arr[np.array(seq)]`, which will result either in an error or a different result.\n",
      "  res = super(memmap, self).__getitem__(index)\n",
      "/n/coxfs01/2p-pipeline/envs/caiman/lib/python3.7/site-packages/numpy/core/memmap.py:331: FutureWarning: Using a non-tuple sequence for multidimensional indexing is deprecated; use `arr[tuple(seq)]` instead of `arr[seq]`. In the future this will be interpreted as an array index, `arr[np.array(seq)]`, which will result either in an error or a different result.\n",
      "  res = super(memmap, self).__getitem__(index)\n",
      "/n/coxfs01/2p-pipeline/envs/caiman/lib/python3.7/site-packages/numpy/core/memmap.py:331: FutureWarning: Using a non-tuple sequence for multidimensional indexing is deprecated; use `arr[tuple(seq)]` instead of `arr[seq]`. In the future this will be interpreted as an array index, `arr[np.array(seq)]`, which will result either in an error or a different result.\n",
      "  res = super(memmap, self).__getitem__(index)\n",
      "/n/coxfs01/2p-pipeline/envs/caiman/lib/python3.7/site-packages/numpy/core/memmap.py:331: FutureWarning: Using a non-tuple sequence for multidimensional indexing is deprecated; use `arr[tuple(seq)]` instead of `arr[seq]`. In the future this will be interpreted as an array index, `arr[np.array(seq)]`, which will result either in an error or a different result.\n",
      "  res = super(memmap, self).__getitem__(index)\n",
      "/n/coxfs01/2p-pipeline/envs/caiman/lib/python3.7/site-packages/numpy/core/memmap.py:331: FutureWarning: Using a non-tuple sequence for multidimensional indexing is deprecated; use `arr[tuple(seq)]` instead of `arr[seq]`. In the future this will be interpreted as an array index, `arr[np.array(seq)]`, which will result either in an error or a different result.\n",
      "  res = super(memmap, self).__getitem__(index)\n",
      "/n/coxfs01/2p-pipeline/envs/caiman/lib/python3.7/site-packages/numpy/core/memmap.py:331: FutureWarning: Using a non-tuple sequence for multidimensional indexing is deprecated; use `arr[tuple(seq)]` instead of `arr[seq]`. In the future this will be interpreted as an array index, `arr[np.array(seq)]`, which will result either in an error or a different result.\n",
      "  res = super(memmap, self).__getitem__(index)\n",
      "/n/coxfs01/2p-pipeline/envs/caiman/lib/python3.7/site-packages/numpy/core/memmap.py:331: FutureWarning: Using a non-tuple sequence for multidimensional indexing is deprecated; use `arr[tuple(seq)]` instead of `arr[seq]`. In the future this will be interpreted as an array index, `arr[np.array(seq)]`, which will result either in an error or a different result.\n",
      "  res = super(memmap, self).__getitem__(index)\n",
      "/n/coxfs01/2p-pipeline/envs/caiman/lib/python3.7/site-packages/numpy/core/memmap.py:331: FutureWarning: Using a non-tuple sequence for multidimensional indexing is deprecated; use `arr[tuple(seq)]` instead of `arr[seq]`. In the future this will be interpreted as an array index, `arr[np.array(seq)]`, which will result either in an error or a different result.\n",
      "  res = super(memmap, self).__getitem__(index)\n",
      "/n/coxfs01/2p-pipeline/envs/caiman/lib/python3.7/site-packages/numpy/core/memmap.py:331: FutureWarning: Using a non-tuple sequence for multidimensional indexing is deprecated; use `arr[tuple(seq)]` instead of `arr[seq]`. In the future this will be interpreted as an array index, `arr[np.array(seq)]`, which will result either in an error or a different result.\n",
      "  res = super(memmap, self).__getitem__(index)\n",
      "/n/coxfs01/2p-pipeline/envs/caiman/lib/python3.7/site-packages/numpy/core/memmap.py:331: FutureWarning: Using a non-tuple sequence for multidimensional indexing is deprecated; use `arr[tuple(seq)]` instead of `arr[seq]`. In the future this will be interpreted as an array index, `arr[np.array(seq)]`, which will result either in an error or a different result.\n",
      "  res = super(memmap, self).__getitem__(index)\n",
      "/n/coxfs01/2p-pipeline/envs/caiman/lib/python3.7/site-packages/numpy/core/memmap.py:331: FutureWarning: Using a non-tuple sequence for multidimensional indexing is deprecated; use `arr[tuple(seq)]` instead of `arr[seq]`. In the future this will be interpreted as an array index, `arr[np.array(seq)]`, which will result either in an error or a different result.\n",
      "  res = super(memmap, self).__getitem__(index)\n",
      "/n/coxfs01/2p-pipeline/envs/caiman/lib/python3.7/site-packages/numpy/core/memmap.py:331: FutureWarning: Using a non-tuple sequence for multidimensional indexing is deprecated; use `arr[tuple(seq)]` instead of `arr[seq]`. In the future this will be interpreted as an array index, `arr[np.array(seq)]`, which will result either in an error or a different result.\n",
      "  res = super(memmap, self).__getitem__(index)\n",
      "/n/coxfs01/2p-pipeline/envs/caiman/lib/python3.7/site-packages/numpy/core/memmap.py:331: FutureWarning: Using a non-tuple sequence for multidimensional indexing is deprecated; use `arr[tuple(seq)]` instead of `arr[seq]`. In the future this will be interpreted as an array index, `arr[np.array(seq)]`, which will result either in an error or a different result.\n",
      "  res = super(memmap, self).__getitem__(index)\n",
      "/n/coxfs01/2p-pipeline/envs/caiman/lib/python3.7/site-packages/numpy/core/memmap.py:331: FutureWarning: Using a non-tuple sequence for multidimensional indexing is deprecated; use `arr[tuple(seq)]` instead of `arr[seq]`. In the future this will be interpreted as an array index, `arr[np.array(seq)]`, which will result either in an error or a different result.\n",
      "  res = super(memmap, self).__getitem__(index)\n",
      "/n/coxfs01/2p-pipeline/envs/caiman/lib/python3.7/site-packages/numpy/core/memmap.py:331: FutureWarning: Using a non-tuple sequence for multidimensional indexing is deprecated; use `arr[tuple(seq)]` instead of `arr[seq]`. In the future this will be interpreted as an array index, `arr[np.array(seq)]`, which will result either in an error or a different result.\n",
      "  res = super(memmap, self).__getitem__(index)\n",
      "/n/coxfs01/2p-pipeline/envs/caiman/lib/python3.7/site-packages/numpy/core/memmap.py:331: FutureWarning: Using a non-tuple sequence for multidimensional indexing is deprecated; use `arr[tuple(seq)]` instead of `arr[seq]`. In the future this will be interpreted as an array index, `arr[np.array(seq)]`, which will result either in an error or a different result.\n",
      "  res = super(memmap, self).__getitem__(index)\n",
      "/n/coxfs01/2p-pipeline/envs/caiman/lib/python3.7/site-packages/numpy/core/memmap.py:331: FutureWarning: Using a non-tuple sequence for multidimensional indexing is deprecated; use `arr[tuple(seq)]` instead of `arr[seq]`. In the future this will be interpreted as an array index, `arr[np.array(seq)]`, which will result either in an error or a different result.\n",
      "  res = super(memmap, self).__getitem__(index)\n",
      "/n/coxfs01/2p-pipeline/envs/caiman/lib/python3.7/site-packages/numpy/core/memmap.py:331: FutureWarning: Using a non-tuple sequence for multidimensional indexing is deprecated; use `arr[tuple(seq)]` instead of `arr[seq]`. In the future this will be interpreted as an array index, `arr[np.array(seq)]`, which will result either in an error or a different result.\n",
      "  res = super(memmap, self).__getitem__(index)\n"
     ]
    },
    {
     "name": "stderr",
     "output_type": "stream",
     "text": [
      "/n/coxfs01/2p-pipeline/envs/caiman/lib/python3.7/site-packages/numpy/core/memmap.py:331: FutureWarning: Using a non-tuple sequence for multidimensional indexing is deprecated; use `arr[tuple(seq)]` instead of `arr[seq]`. In the future this will be interpreted as an array index, `arr[np.array(seq)]`, which will result either in an error or a different result.\n",
      "  res = super(memmap, self).__getitem__(index)\n",
      "/n/coxfs01/2p-pipeline/envs/caiman/lib/python3.7/site-packages/numpy/core/memmap.py:331: FutureWarning: Using a non-tuple sequence for multidimensional indexing is deprecated; use `arr[tuple(seq)]` instead of `arr[seq]`. In the future this will be interpreted as an array index, `arr[np.array(seq)]`, which will result either in an error or a different result.\n",
      "  res = super(memmap, self).__getitem__(index)\n",
      "/n/coxfs01/2p-pipeline/envs/caiman/lib/python3.7/site-packages/numpy/core/memmap.py:331: FutureWarning: Using a non-tuple sequence for multidimensional indexing is deprecated; use `arr[tuple(seq)]` instead of `arr[seq]`. In the future this will be interpreted as an array index, `arr[np.array(seq)]`, which will result either in an error or a different result.\n",
      "  res = super(memmap, self).__getitem__(index)\n",
      "/n/coxfs01/2p-pipeline/envs/caiman/lib/python3.7/site-packages/numpy/core/memmap.py:331: FutureWarning: Using a non-tuple sequence for multidimensional indexing is deprecated; use `arr[tuple(seq)]` instead of `arr[seq]`. In the future this will be interpreted as an array index, `arr[np.array(seq)]`, which will result either in an error or a different result.\n",
      "  res = super(memmap, self).__getitem__(index)\n",
      "/n/coxfs01/2p-pipeline/envs/caiman/lib/python3.7/site-packages/numpy/core/memmap.py:331: FutureWarning: Using a non-tuple sequence for multidimensional indexing is deprecated; use `arr[tuple(seq)]` instead of `arr[seq]`. In the future this will be interpreted as an array index, `arr[np.array(seq)]`, which will result either in an error or a different result.\n",
      "  res = super(memmap, self).__getitem__(index)\n",
      "/n/coxfs01/2p-pipeline/envs/caiman/lib/python3.7/site-packages/numpy/core/memmap.py:331: FutureWarning: Using a non-tuple sequence for multidimensional indexing is deprecated; use `arr[tuple(seq)]` instead of `arr[seq]`. In the future this will be interpreted as an array index, `arr[np.array(seq)]`, which will result either in an error or a different result.\n",
      "  res = super(memmap, self).__getitem__(index)\n",
      "/n/coxfs01/2p-pipeline/envs/caiman/lib/python3.7/site-packages/numpy/core/memmap.py:331: FutureWarning: Using a non-tuple sequence for multidimensional indexing is deprecated; use `arr[tuple(seq)]` instead of `arr[seq]`. In the future this will be interpreted as an array index, `arr[np.array(seq)]`, which will result either in an error or a different result.\n",
      "  res = super(memmap, self).__getitem__(index)\n",
      "WARNING:root:Changing key n_processes in group patch from 8 to 1\n",
      "WARNING:root:Changing key rf in group patch from 25 to None\n",
      "WARNING:root:Changing key stride in group patch from 12 to None\n",
      "WARNING:root:Changing key nb in group init from 2 to 1\n",
      "WARNING:root:Changing key nb in group temporal from 2 to 1\n",
      "WARNING:root:Changing key nb in group spatial from 2 to 1\n",
      "WARNING:root:Changing key n_processes in group patch from 8 to 1\n",
      "WARNING:root:Changing key rf in group patch from 25 to None\n",
      "WARNING:root:Changing key stride in group patch from 12 to None\n",
      "WARNING:root:Changing key nb in group init from 2 to 1\n",
      "WARNING:root:Changing key nb in group temporal from 2 to 1\n",
      "WARNING:root:Changing key nb in group spatial from 2 to 1\n",
      "WARNING:root:Changing key n_processes in group patch from 8 to 1\n",
      "WARNING:root:Changing key rf in group patch from 25 to None\n",
      "WARNING:root:Changing key stride in group patch from 12 to None\n",
      "WARNING:root:Changing key nb in group init from 2 to 1\n",
      "WARNING:root:Changing key nb in group temporal from 2 to 1\n",
      "WARNING:root:Changing key nb in group spatial from 2 to 1\n",
      "WARNING:root:Changing key n_processes in group patch from 8 to 1\n",
      "WARNING:root:Changing key rf in group patch from 25 to None\n",
      "WARNING:root:Changing key stride in group patch from 12 to None\n",
      "WARNING:root:Changing key nb in group init from 2 to 1\n",
      "WARNING:root:Changing key nb in group temporal from 2 to 1\n",
      "WARNING:root:Changing key nb in group spatial from 2 to 1\n",
      "WARNING:root:Changing key n_processes in group patch from 8 to 1\n",
      "WARNING:root:Changing key rf in group patch from 25 to None\n",
      "WARNING:root:Changing key stride in group patch from 12 to None\n",
      "WARNING:root:Changing key nb in group init from 2 to 1\n",
      "WARNING:root:Changing key nb in group temporal from 2 to 1\n",
      "WARNING:root:Changing key nb in group spatial from 2 to 1\n",
      "WARNING:root:Changing key n_processes in group patch from 8 to 1\n",
      "WARNING:root:Changing key rf in group patch from 25 to None\n",
      "WARNING:root:Changing key stride in group patch from 12 to None\n",
      "WARNING:root:Changing key nb in group init from 2 to 1\n",
      "WARNING:root:Changing key nb in group temporal from 2 to 1\n",
      "WARNING:root:Changing key nb in group spatial from 2 to 1\n",
      "WARNING:root:Changing key n_processes in group patch from 8 to 1\n",
      "WARNING:root:Changing key rf in group patch from 25 to None\n",
      "WARNING:root:Changing key stride in group patch from 12 to None\n",
      "WARNING:root:Changing key nb in group init from 2 to 1\n",
      "WARNING:root:Changing key nb in group temporal from 2 to 1\n",
      "WARNING:root:Changing key nb in group spatial from 2 to 1\n",
      "/n/coxfs01/2p-pipeline/envs/caiman/lib/python3.7/site-packages/numpy/core/memmap.py:331: FutureWarning: Using a non-tuple sequence for multidimensional indexing is deprecated; use `arr[tuple(seq)]` instead of `arr[seq]`. In the future this will be interpreted as an array index, `arr[np.array(seq)]`, which will result either in an error or a different result.\n",
      "  res = super(memmap, self).__getitem__(index)\n",
      "WARNING:root:Changing key n_processes in group patch from 8 to 1\n",
      "WARNING:root:Changing key rf in group patch from 25 to None\n",
      "WARNING:root:Changing key stride in group patch from 12 to None\n",
      "WARNING:root:Changing key nb in group init from 2 to 1\n",
      "WARNING:root:Changing key nb in group temporal from 2 to 1\n",
      "WARNING:root:Changing key nb in group spatial from 2 to 1\n",
      "/n/coxfs01/2p-pipeline/envs/caiman/lib/python3.7/site-packages/numpy/core/memmap.py:331: FutureWarning: Using a non-tuple sequence for multidimensional indexing is deprecated; use `arr[tuple(seq)]` instead of `arr[seq]`. In the future this will be interpreted as an array index, `arr[np.array(seq)]`, which will result either in an error or a different result.\n",
      "  res = super(memmap, self).__getitem__(index)\n",
      "/n/coxfs01/2p-pipeline/envs/caiman/lib/python3.7/site-packages/numpy/core/memmap.py:331: FutureWarning: Using a non-tuple sequence for multidimensional indexing is deprecated; use `arr[tuple(seq)]` instead of `arr[seq]`. In the future this will be interpreted as an array index, `arr[np.array(seq)]`, which will result either in an error or a different result.\n",
      "  res = super(memmap, self).__getitem__(index)\n",
      "/n/coxfs01/2p-pipeline/envs/caiman/lib/python3.7/site-packages/numpy/core/memmap.py:331: FutureWarning: Using a non-tuple sequence for multidimensional indexing is deprecated; use `arr[tuple(seq)]` instead of `arr[seq]`. In the future this will be interpreted as an array index, `arr[np.array(seq)]`, which will result either in an error or a different result.\n",
      "  res = super(memmap, self).__getitem__(index)\n",
      "/n/coxfs01/2p-pipeline/envs/caiman/lib/python3.7/site-packages/numpy/core/memmap.py:331: FutureWarning: Using a non-tuple sequence for multidimensional indexing is deprecated; use `arr[tuple(seq)]` instead of `arr[seq]`. In the future this will be interpreted as an array index, `arr[np.array(seq)]`, which will result either in an error or a different result.\n",
      "  res = super(memmap, self).__getitem__(index)\n",
      "/n/coxfs01/2p-pipeline/envs/caiman/lib/python3.7/site-packages/numpy/core/memmap.py:331: FutureWarning: Using a non-tuple sequence for multidimensional indexing is deprecated; use `arr[tuple(seq)]` instead of `arr[seq]`. In the future this will be interpreted as an array index, `arr[np.array(seq)]`, which will result either in an error or a different result.\n",
      "  res = super(memmap, self).__getitem__(index)\n",
      "/n/coxfs01/2p-pipeline/envs/caiman/lib/python3.7/site-packages/numpy/core/memmap.py:331: FutureWarning: Using a non-tuple sequence for multidimensional indexing is deprecated; use `arr[tuple(seq)]` instead of `arr[seq]`. In the future this will be interpreted as an array index, `arr[np.array(seq)]`, which will result either in an error or a different result.\n",
      "  res = super(memmap, self).__getitem__(index)\n"
     ]
    },
    {
     "name": "stderr",
     "output_type": "stream",
     "text": [
      "/n/coxfs01/2p-pipeline/envs/caiman/lib/python3.7/site-packages/numpy/core/memmap.py:331: FutureWarning: Using a non-tuple sequence for multidimensional indexing is deprecated; use `arr[tuple(seq)]` instead of `arr[seq]`. In the future this will be interpreted as an array index, `arr[np.array(seq)]`, which will result either in an error or a different result.\n",
      "  res = super(memmap, self).__getitem__(index)\n",
      "/n/coxfs01/2p-pipeline/envs/caiman/lib/python3.7/site-packages/numpy/core/memmap.py:331: FutureWarning: Using a non-tuple sequence for multidimensional indexing is deprecated; use `arr[tuple(seq)]` instead of `arr[seq]`. In the future this will be interpreted as an array index, `arr[np.array(seq)]`, which will result either in an error or a different result.\n",
      "  res = super(memmap, self).__getitem__(index)\n",
      "/n/coxfs01/2p-pipeline/envs/caiman/lib/python3.7/site-packages/numpy/core/memmap.py:331: FutureWarning: Using a non-tuple sequence for multidimensional indexing is deprecated; use `arr[tuple(seq)]` instead of `arr[seq]`. In the future this will be interpreted as an array index, `arr[np.array(seq)]`, which will result either in an error or a different result.\n",
      "  res = super(memmap, self).__getitem__(index)\n",
      "/n/coxfs01/2p-pipeline/envs/caiman/lib/python3.7/site-packages/numpy/core/memmap.py:331: FutureWarning: Using a non-tuple sequence for multidimensional indexing is deprecated; use `arr[tuple(seq)]` instead of `arr[seq]`. In the future this will be interpreted as an array index, `arr[np.array(seq)]`, which will result either in an error or a different result.\n",
      "  res = super(memmap, self).__getitem__(index)\n",
      "/n/coxfs01/2p-pipeline/envs/caiman/lib/python3.7/site-packages/numpy/core/memmap.py:331: FutureWarning: Using a non-tuple sequence for multidimensional indexing is deprecated; use `arr[tuple(seq)]` instead of `arr[seq]`. In the future this will be interpreted as an array index, `arr[np.array(seq)]`, which will result either in an error or a different result.\n",
      "  res = super(memmap, self).__getitem__(index)\n",
      "/n/coxfs01/2p-pipeline/envs/caiman/lib/python3.7/site-packages/numpy/core/memmap.py:331: FutureWarning: Using a non-tuple sequence for multidimensional indexing is deprecated; use `arr[tuple(seq)]` instead of `arr[seq]`. In the future this will be interpreted as an array index, `arr[np.array(seq)]`, which will result either in an error or a different result.\n",
      "  res = super(memmap, self).__getitem__(index)\n",
      "/n/coxfs01/2p-pipeline/envs/caiman/lib/python3.7/site-packages/numpy/core/memmap.py:331: FutureWarning: Using a non-tuple sequence for multidimensional indexing is deprecated; use `arr[tuple(seq)]` instead of `arr[seq]`. In the future this will be interpreted as an array index, `arr[np.array(seq)]`, which will result either in an error or a different result.\n",
      "  res = super(memmap, self).__getitem__(index)\n",
      "/n/coxfs01/2p-pipeline/envs/caiman/lib/python3.7/site-packages/numpy/core/memmap.py:331: FutureWarning: Using a non-tuple sequence for multidimensional indexing is deprecated; use `arr[tuple(seq)]` instead of `arr[seq]`. In the future this will be interpreted as an array index, `arr[np.array(seq)]`, which will result either in an error or a different result.\n",
      "  res = super(memmap, self).__getitem__(index)\n",
      "/n/coxfs01/2p-pipeline/envs/caiman/lib/python3.7/site-packages/numpy/core/memmap.py:331: FutureWarning: Using a non-tuple sequence for multidimensional indexing is deprecated; use `arr[tuple(seq)]` instead of `arr[seq]`. In the future this will be interpreted as an array index, `arr[np.array(seq)]`, which will result either in an error or a different result.\n",
      "  res = super(memmap, self).__getitem__(index)\n",
      "/n/coxfs01/2p-pipeline/envs/caiman/lib/python3.7/site-packages/numpy/core/memmap.py:331: FutureWarning: Using a non-tuple sequence for multidimensional indexing is deprecated; use `arr[tuple(seq)]` instead of `arr[seq]`. In the future this will be interpreted as an array index, `arr[np.array(seq)]`, which will result either in an error or a different result.\n",
      "  res = super(memmap, self).__getitem__(index)\n",
      "/n/coxfs01/2p-pipeline/envs/caiman/lib/python3.7/site-packages/numpy/core/memmap.py:331: FutureWarning: Using a non-tuple sequence for multidimensional indexing is deprecated; use `arr[tuple(seq)]` instead of `arr[seq]`. In the future this will be interpreted as an array index, `arr[np.array(seq)]`, which will result either in an error or a different result.\n",
      "  res = super(memmap, self).__getitem__(index)\n",
      "/n/coxfs01/2p-pipeline/envs/caiman/lib/python3.7/site-packages/numpy/core/memmap.py:331: FutureWarning: Using a non-tuple sequence for multidimensional indexing is deprecated; use `arr[tuple(seq)]` instead of `arr[seq]`. In the future this will be interpreted as an array index, `arr[np.array(seq)]`, which will result either in an error or a different result.\n",
      "  res = super(memmap, self).__getitem__(index)\n",
      "/n/coxfs01/2p-pipeline/envs/caiman/lib/python3.7/site-packages/numpy/core/memmap.py:331: FutureWarning: Using a non-tuple sequence for multidimensional indexing is deprecated; use `arr[tuple(seq)]` instead of `arr[seq]`. In the future this will be interpreted as an array index, `arr[np.array(seq)]`, which will result either in an error or a different result.\n",
      "  res = super(memmap, self).__getitem__(index)\n",
      "/n/coxfs01/2p-pipeline/envs/caiman/lib/python3.7/site-packages/numpy/core/memmap.py:331: FutureWarning: Using a non-tuple sequence for multidimensional indexing is deprecated; use `arr[tuple(seq)]` instead of `arr[seq]`. In the future this will be interpreted as an array index, `arr[np.array(seq)]`, which will result either in an error or a different result.\n",
      "  res = super(memmap, self).__getitem__(index)\n",
      "/n/coxfs01/2p-pipeline/envs/caiman/lib/python3.7/site-packages/numpy/core/memmap.py:331: FutureWarning: Using a non-tuple sequence for multidimensional indexing is deprecated; use `arr[tuple(seq)]` instead of `arr[seq]`. In the future this will be interpreted as an array index, `arr[np.array(seq)]`, which will result either in an error or a different result.\n",
      "  res = super(memmap, self).__getitem__(index)\n",
      "/n/coxfs01/2p-pipeline/envs/caiman/lib/python3.7/site-packages/numpy/core/memmap.py:331: FutureWarning: Using a non-tuple sequence for multidimensional indexing is deprecated; use `arr[tuple(seq)]` instead of `arr[seq]`. In the future this will be interpreted as an array index, `arr[np.array(seq)]`, which will result either in an error or a different result.\n",
      "  res = super(memmap, self).__getitem__(index)\n",
      "/n/coxfs01/2p-pipeline/envs/caiman/lib/python3.7/site-packages/numpy/core/memmap.py:331: FutureWarning: Using a non-tuple sequence for multidimensional indexing is deprecated; use `arr[tuple(seq)]` instead of `arr[seq]`. In the future this will be interpreted as an array index, `arr[np.array(seq)]`, which will result either in an error or a different result.\n",
      "  res = super(memmap, self).__getitem__(index)\n",
      "/n/coxfs01/2p-pipeline/envs/caiman/lib/python3.7/site-packages/numpy/core/memmap.py:331: FutureWarning: Using a non-tuple sequence for multidimensional indexing is deprecated; use `arr[tuple(seq)]` instead of `arr[seq]`. In the future this will be interpreted as an array index, `arr[np.array(seq)]`, which will result either in an error or a different result.\n",
      "  res = super(memmap, self).__getitem__(index)\n",
      "/n/coxfs01/2p-pipeline/envs/caiman/lib/python3.7/site-packages/numpy/core/memmap.py:331: FutureWarning: Using a non-tuple sequence for multidimensional indexing is deprecated; use `arr[tuple(seq)]` instead of `arr[seq]`. In the future this will be interpreted as an array index, `arr[np.array(seq)]`, which will result either in an error or a different result.\n",
      "  res = super(memmap, self).__getitem__(index)\n",
      "/n/coxfs01/2p-pipeline/envs/caiman/lib/python3.7/site-packages/numpy/core/memmap.py:331: FutureWarning: Using a non-tuple sequence for multidimensional indexing is deprecated; use `arr[tuple(seq)]` instead of `arr[seq]`. In the future this will be interpreted as an array index, `arr[np.array(seq)]`, which will result either in an error or a different result.\n",
      "  res = super(memmap, self).__getitem__(index)\n",
      "/n/coxfs01/2p-pipeline/envs/caiman/lib/python3.7/site-packages/numpy/core/memmap.py:331: FutureWarning: Using a non-tuple sequence for multidimensional indexing is deprecated; use `arr[tuple(seq)]` instead of `arr[seq]`. In the future this will be interpreted as an array index, `arr[np.array(seq)]`, which will result either in an error or a different result.\n",
      "  res = super(memmap, self).__getitem__(index)\n"
     ]
    },
    {
     "name": "stderr",
     "output_type": "stream",
     "text": [
      "/n/coxfs01/2p-pipeline/envs/caiman/lib/python3.7/site-packages/numpy/core/memmap.py:331: FutureWarning: Using a non-tuple sequence for multidimensional indexing is deprecated; use `arr[tuple(seq)]` instead of `arr[seq]`. In the future this will be interpreted as an array index, `arr[np.array(seq)]`, which will result either in an error or a different result.\n",
      "  res = super(memmap, self).__getitem__(index)\n",
      "/n/coxfs01/2p-pipeline/envs/caiman/lib/python3.7/site-packages/numpy/core/memmap.py:331: FutureWarning: Using a non-tuple sequence for multidimensional indexing is deprecated; use `arr[tuple(seq)]` instead of `arr[seq]`. In the future this will be interpreted as an array index, `arr[np.array(seq)]`, which will result either in an error or a different result.\n",
      "  res = super(memmap, self).__getitem__(index)\n",
      "/n/coxfs01/2p-pipeline/envs/caiman/lib/python3.7/site-packages/numpy/core/memmap.py:331: FutureWarning: Using a non-tuple sequence for multidimensional indexing is deprecated; use `arr[tuple(seq)]` instead of `arr[seq]`. In the future this will be interpreted as an array index, `arr[np.array(seq)]`, which will result either in an error or a different result.\n",
      "  res = super(memmap, self).__getitem__(index)\n",
      "/n/coxfs01/2p-pipeline/envs/caiman/lib/python3.7/site-packages/numpy/core/memmap.py:331: FutureWarning: Using a non-tuple sequence for multidimensional indexing is deprecated; use `arr[tuple(seq)]` instead of `arr[seq]`. In the future this will be interpreted as an array index, `arr[np.array(seq)]`, which will result either in an error or a different result.\n",
      "  res = super(memmap, self).__getitem__(index)\n",
      "/n/coxfs01/2p-pipeline/envs/caiman/lib/python3.7/site-packages/numpy/core/memmap.py:331: FutureWarning: Using a non-tuple sequence for multidimensional indexing is deprecated; use `arr[tuple(seq)]` instead of `arr[seq]`. In the future this will be interpreted as an array index, `arr[np.array(seq)]`, which will result either in an error or a different result.\n",
      "  res = super(memmap, self).__getitem__(index)\n",
      "/n/coxfs01/2p-pipeline/envs/caiman/lib/python3.7/site-packages/numpy/core/memmap.py:331: FutureWarning: Using a non-tuple sequence for multidimensional indexing is deprecated; use `arr[tuple(seq)]` instead of `arr[seq]`. In the future this will be interpreted as an array index, `arr[np.array(seq)]`, which will result either in an error or a different result.\n",
      "  res = super(memmap, self).__getitem__(index)\n",
      "/n/coxfs01/2p-pipeline/envs/caiman/lib/python3.7/site-packages/numpy/core/memmap.py:331: FutureWarning: Using a non-tuple sequence for multidimensional indexing is deprecated; use `arr[tuple(seq)]` instead of `arr[seq]`. In the future this will be interpreted as an array index, `arr[np.array(seq)]`, which will result either in an error or a different result.\n",
      "  res = super(memmap, self).__getitem__(index)\n",
      "/n/coxfs01/2p-pipeline/envs/caiman/lib/python3.7/site-packages/numpy/core/memmap.py:331: FutureWarning: Using a non-tuple sequence for multidimensional indexing is deprecated; use `arr[tuple(seq)]` instead of `arr[seq]`. In the future this will be interpreted as an array index, `arr[np.array(seq)]`, which will result either in an error or a different result.\n",
      "  res = super(memmap, self).__getitem__(index)\n",
      "/n/coxfs01/2p-pipeline/envs/caiman/lib/python3.7/site-packages/numpy/core/memmap.py:331: FutureWarning: Using a non-tuple sequence for multidimensional indexing is deprecated; use `arr[tuple(seq)]` instead of `arr[seq]`. In the future this will be interpreted as an array index, `arr[np.array(seq)]`, which will result either in an error or a different result.\n",
      "  res = super(memmap, self).__getitem__(index)\n",
      "/n/coxfs01/2p-pipeline/envs/caiman/lib/python3.7/site-packages/numpy/core/memmap.py:331: FutureWarning: Using a non-tuple sequence for multidimensional indexing is deprecated; use `arr[tuple(seq)]` instead of `arr[seq]`. In the future this will be interpreted as an array index, `arr[np.array(seq)]`, which will result either in an error or a different result.\n",
      "  res = super(memmap, self).__getitem__(index)\n",
      "/n/coxfs01/2p-pipeline/envs/caiman/lib/python3.7/site-packages/numpy/core/memmap.py:331: FutureWarning: Using a non-tuple sequence for multidimensional indexing is deprecated; use `arr[tuple(seq)]` instead of `arr[seq]`. In the future this will be interpreted as an array index, `arr[np.array(seq)]`, which will result either in an error or a different result.\n",
      "  res = super(memmap, self).__getitem__(index)\n",
      "/n/coxfs01/2p-pipeline/envs/caiman/lib/python3.7/site-packages/numpy/core/memmap.py:331: FutureWarning: Using a non-tuple sequence for multidimensional indexing is deprecated; use `arr[tuple(seq)]` instead of `arr[seq]`. In the future this will be interpreted as an array index, `arr[np.array(seq)]`, which will result either in an error or a different result.\n",
      "  res = super(memmap, self).__getitem__(index)\n",
      "/n/coxfs01/2p-pipeline/envs/caiman/lib/python3.7/site-packages/numpy/core/memmap.py:331: FutureWarning: Using a non-tuple sequence for multidimensional indexing is deprecated; use `arr[tuple(seq)]` instead of `arr[seq]`. In the future this will be interpreted as an array index, `arr[np.array(seq)]`, which will result either in an error or a different result.\n",
      "  res = super(memmap, self).__getitem__(index)\n",
      "/n/coxfs01/2p-pipeline/envs/caiman/lib/python3.7/site-packages/numpy/core/memmap.py:331: FutureWarning: Using a non-tuple sequence for multidimensional indexing is deprecated; use `arr[tuple(seq)]` instead of `arr[seq]`. In the future this will be interpreted as an array index, `arr[np.array(seq)]`, which will result either in an error or a different result.\n",
      "  res = super(memmap, self).__getitem__(index)\n",
      "/n/coxfs01/2p-pipeline/envs/caiman/lib/python3.7/site-packages/numpy/core/memmap.py:331: FutureWarning: Using a non-tuple sequence for multidimensional indexing is deprecated; use `arr[tuple(seq)]` instead of `arr[seq]`. In the future this will be interpreted as an array index, `arr[np.array(seq)]`, which will result either in an error or a different result.\n",
      "  res = super(memmap, self).__getitem__(index)\n",
      "/n/coxfs01/2p-pipeline/envs/caiman/lib/python3.7/site-packages/numpy/core/memmap.py:331: FutureWarning: Using a non-tuple sequence for multidimensional indexing is deprecated; use `arr[tuple(seq)]` instead of `arr[seq]`. In the future this will be interpreted as an array index, `arr[np.array(seq)]`, which will result either in an error or a different result.\n",
      "  res = super(memmap, self).__getitem__(index)\n",
      "/n/coxfs01/2p-pipeline/envs/caiman/lib/python3.7/site-packages/numpy/core/memmap.py:331: FutureWarning: Using a non-tuple sequence for multidimensional indexing is deprecated; use `arr[tuple(seq)]` instead of `arr[seq]`. In the future this will be interpreted as an array index, `arr[np.array(seq)]`, which will result either in an error or a different result.\n",
      "  res = super(memmap, self).__getitem__(index)\n",
      "/n/coxfs01/2p-pipeline/envs/caiman/lib/python3.7/site-packages/numpy/core/memmap.py:331: FutureWarning: Using a non-tuple sequence for multidimensional indexing is deprecated; use `arr[tuple(seq)]` instead of `arr[seq]`. In the future this will be interpreted as an array index, `arr[np.array(seq)]`, which will result either in an error or a different result.\n",
      "  res = super(memmap, self).__getitem__(index)\n",
      "/n/coxfs01/2p-pipeline/envs/caiman/lib/python3.7/site-packages/numpy/core/memmap.py:331: FutureWarning: Using a non-tuple sequence for multidimensional indexing is deprecated; use `arr[tuple(seq)]` instead of `arr[seq]`. In the future this will be interpreted as an array index, `arr[np.array(seq)]`, which will result either in an error or a different result.\n",
      "  res = super(memmap, self).__getitem__(index)\n",
      "/n/coxfs01/2p-pipeline/envs/caiman/lib/python3.7/site-packages/numpy/core/memmap.py:331: FutureWarning: Using a non-tuple sequence for multidimensional indexing is deprecated; use `arr[tuple(seq)]` instead of `arr[seq]`. In the future this will be interpreted as an array index, `arr[np.array(seq)]`, which will result either in an error or a different result.\n",
      "  res = super(memmap, self).__getitem__(index)\n",
      "/n/coxfs01/2p-pipeline/envs/caiman/lib/python3.7/site-packages/numpy/core/memmap.py:331: FutureWarning: Using a non-tuple sequence for multidimensional indexing is deprecated; use `arr[tuple(seq)]` instead of `arr[seq]`. In the future this will be interpreted as an array index, `arr[np.array(seq)]`, which will result either in an error or a different result.\n",
      "  res = super(memmap, self).__getitem__(index)\n"
     ]
    },
    {
     "name": "stderr",
     "output_type": "stream",
     "text": [
      "/n/coxfs01/2p-pipeline/envs/caiman/lib/python3.7/site-packages/numpy/core/memmap.py:331: FutureWarning: Using a non-tuple sequence for multidimensional indexing is deprecated; use `arr[tuple(seq)]` instead of `arr[seq]`. In the future this will be interpreted as an array index, `arr[np.array(seq)]`, which will result either in an error or a different result.\n",
      "  res = super(memmap, self).__getitem__(index)\n",
      "/n/coxfs01/2p-pipeline/envs/caiman/lib/python3.7/site-packages/numpy/core/memmap.py:331: FutureWarning: Using a non-tuple sequence for multidimensional indexing is deprecated; use `arr[tuple(seq)]` instead of `arr[seq]`. In the future this will be interpreted as an array index, `arr[np.array(seq)]`, which will result either in an error or a different result.\n",
      "  res = super(memmap, self).__getitem__(index)\n",
      "/n/coxfs01/2p-pipeline/envs/caiman/lib/python3.7/site-packages/numpy/core/memmap.py:331: FutureWarning: Using a non-tuple sequence for multidimensional indexing is deprecated; use `arr[tuple(seq)]` instead of `arr[seq]`. In the future this will be interpreted as an array index, `arr[np.array(seq)]`, which will result either in an error or a different result.\n",
      "  res = super(memmap, self).__getitem__(index)\n",
      "/n/coxfs01/2p-pipeline/envs/caiman/lib/python3.7/site-packages/numpy/core/memmap.py:331: FutureWarning: Using a non-tuple sequence for multidimensional indexing is deprecated; use `arr[tuple(seq)]` instead of `arr[seq]`. In the future this will be interpreted as an array index, `arr[np.array(seq)]`, which will result either in an error or a different result.\n",
      "  res = super(memmap, self).__getitem__(index)\n",
      "WARNING:root:Changing key n_processes in group patch from 8 to 1\n",
      "WARNING:root:Changing key rf in group patch from 25 to None\n",
      "WARNING:root:Changing key stride in group patch from 12 to None\n",
      "WARNING:root:Changing key nb in group init from 2 to 1\n",
      "WARNING:root:Changing key nb in group temporal from 2 to 1\n",
      "WARNING:root:Changing key nb in group spatial from 2 to 1\n",
      "WARNING:root:Changing key n_processes in group patch from 8 to 1\n",
      "WARNING:root:Changing key rf in group patch from 25 to None\n",
      "WARNING:root:Changing key stride in group patch from 12 to None\n",
      "WARNING:root:Changing key nb in group init from 2 to 1\n",
      "WARNING:root:Changing key nb in group temporal from 2 to 1\n",
      "WARNING:root:Changing key nb in group spatial from 2 to 1\n",
      "WARNING:root:Changing key n_processes in group patch from 8 to 1\n",
      "WARNING:root:Changing key rf in group patch from 25 to None\n",
      "WARNING:root:Changing key stride in group patch from 12 to None\n",
      "WARNING:root:Changing key nb in group init from 2 to 1\n",
      "WARNING:root:Changing key nb in group temporal from 2 to 1\n",
      "WARNING:root:Changing key nb in group spatial from 2 to 1\n",
      "WARNING:root:Changing key n_processes in group patch from 8 to 1\n",
      "WARNING:root:Changing key rf in group patch from 25 to None\n",
      "WARNING:root:Changing key stride in group patch from 12 to None\n",
      "WARNING:root:Changing key nb in group init from 2 to 1\n",
      "WARNING:root:Changing key nb in group temporal from 2 to 1\n",
      "WARNING:root:Changing key nb in group spatial from 2 to 1\n",
      "/n/coxfs01/2p-pipeline/envs/caiman/lib/python3.7/site-packages/numpy/core/memmap.py:331: FutureWarning: Using a non-tuple sequence for multidimensional indexing is deprecated; use `arr[tuple(seq)]` instead of `arr[seq]`. In the future this will be interpreted as an array index, `arr[np.array(seq)]`, which will result either in an error or a different result.\n",
      "  res = super(memmap, self).__getitem__(index)\n",
      "/n/coxfs01/2p-pipeline/envs/caiman/lib/python3.7/site-packages/numpy/core/memmap.py:331: FutureWarning: Using a non-tuple sequence for multidimensional indexing is deprecated; use `arr[tuple(seq)]` instead of `arr[seq]`. In the future this will be interpreted as an array index, `arr[np.array(seq)]`, which will result either in an error or a different result.\n",
      "  res = super(memmap, self).__getitem__(index)\n",
      "/n/coxfs01/2p-pipeline/envs/caiman/lib/python3.7/site-packages/numpy/core/memmap.py:331: FutureWarning: Using a non-tuple sequence for multidimensional indexing is deprecated; use `arr[tuple(seq)]` instead of `arr[seq]`. In the future this will be interpreted as an array index, `arr[np.array(seq)]`, which will result either in an error or a different result.\n",
      "  res = super(memmap, self).__getitem__(index)\n",
      "/n/coxfs01/2p-pipeline/envs/caiman/lib/python3.7/site-packages/numpy/core/memmap.py:331: FutureWarning: Using a non-tuple sequence for multidimensional indexing is deprecated; use `arr[tuple(seq)]` instead of `arr[seq]`. In the future this will be interpreted as an array index, `arr[np.array(seq)]`, which will result either in an error or a different result.\n",
      "  res = super(memmap, self).__getitem__(index)\n",
      "/n/coxfs01/2p-pipeline/envs/caiman/lib/python3.7/site-packages/numpy/core/memmap.py:331: FutureWarning: Using a non-tuple sequence for multidimensional indexing is deprecated; use `arr[tuple(seq)]` instead of `arr[seq]`. In the future this will be interpreted as an array index, `arr[np.array(seq)]`, which will result either in an error or a different result.\n",
      "  res = super(memmap, self).__getitem__(index)\n",
      "/n/coxfs01/2p-pipeline/envs/caiman/lib/python3.7/site-packages/numpy/core/memmap.py:331: FutureWarning: Using a non-tuple sequence for multidimensional indexing is deprecated; use `arr[tuple(seq)]` instead of `arr[seq]`. In the future this will be interpreted as an array index, `arr[np.array(seq)]`, which will result either in an error or a different result.\n",
      "  res = super(memmap, self).__getitem__(index)\n",
      "/n/coxfs01/2p-pipeline/envs/caiman/lib/python3.7/site-packages/numpy/core/memmap.py:331: FutureWarning: Using a non-tuple sequence for multidimensional indexing is deprecated; use `arr[tuple(seq)]` instead of `arr[seq]`. In the future this will be interpreted as an array index, `arr[np.array(seq)]`, which will result either in an error or a different result.\n",
      "  res = super(memmap, self).__getitem__(index)\n",
      "/n/coxfs01/2p-pipeline/envs/caiman/lib/python3.7/site-packages/numpy/core/memmap.py:331: FutureWarning: Using a non-tuple sequence for multidimensional indexing is deprecated; use `arr[tuple(seq)]` instead of `arr[seq]`. In the future this will be interpreted as an array index, `arr[np.array(seq)]`, which will result either in an error or a different result.\n",
      "  res = super(memmap, self).__getitem__(index)\n",
      "/n/coxfs01/2p-pipeline/envs/caiman/lib/python3.7/site-packages/numpy/core/memmap.py:331: FutureWarning: Using a non-tuple sequence for multidimensional indexing is deprecated; use `arr[tuple(seq)]` instead of `arr[seq]`. In the future this will be interpreted as an array index, `arr[np.array(seq)]`, which will result either in an error or a different result.\n",
      "  res = super(memmap, self).__getitem__(index)\n",
      "/n/coxfs01/2p-pipeline/envs/caiman/lib/python3.7/site-packages/numpy/core/memmap.py:331: FutureWarning: Using a non-tuple sequence for multidimensional indexing is deprecated; use `arr[tuple(seq)]` instead of `arr[seq]`. In the future this will be interpreted as an array index, `arr[np.array(seq)]`, which will result either in an error or a different result.\n",
      "  res = super(memmap, self).__getitem__(index)\n",
      "/n/coxfs01/2p-pipeline/envs/caiman/lib/python3.7/site-packages/numpy/core/memmap.py:331: FutureWarning: Using a non-tuple sequence for multidimensional indexing is deprecated; use `arr[tuple(seq)]` instead of `arr[seq]`. In the future this will be interpreted as an array index, `arr[np.array(seq)]`, which will result either in an error or a different result.\n",
      "  res = super(memmap, self).__getitem__(index)\n",
      "/n/coxfs01/2p-pipeline/envs/caiman/lib/python3.7/site-packages/numpy/core/memmap.py:331: FutureWarning: Using a non-tuple sequence for multidimensional indexing is deprecated; use `arr[tuple(seq)]` instead of `arr[seq]`. In the future this will be interpreted as an array index, `arr[np.array(seq)]`, which will result either in an error or a different result.\n",
      "  res = super(memmap, self).__getitem__(index)\n",
      "/n/coxfs01/2p-pipeline/envs/caiman/lib/python3.7/site-packages/numpy/core/memmap.py:331: FutureWarning: Using a non-tuple sequence for multidimensional indexing is deprecated; use `arr[tuple(seq)]` instead of `arr[seq]`. In the future this will be interpreted as an array index, `arr[np.array(seq)]`, which will result either in an error or a different result.\n",
      "  res = super(memmap, self).__getitem__(index)\n"
     ]
    },
    {
     "name": "stderr",
     "output_type": "stream",
     "text": [
      "/n/coxfs01/2p-pipeline/envs/caiman/lib/python3.7/site-packages/numpy/core/memmap.py:331: FutureWarning: Using a non-tuple sequence for multidimensional indexing is deprecated; use `arr[tuple(seq)]` instead of `arr[seq]`. In the future this will be interpreted as an array index, `arr[np.array(seq)]`, which will result either in an error or a different result.\n",
      "  res = super(memmap, self).__getitem__(index)\n",
      "/n/coxfs01/2p-pipeline/envs/caiman/lib/python3.7/site-packages/numpy/core/memmap.py:331: FutureWarning: Using a non-tuple sequence for multidimensional indexing is deprecated; use `arr[tuple(seq)]` instead of `arr[seq]`. In the future this will be interpreted as an array index, `arr[np.array(seq)]`, which will result either in an error or a different result.\n",
      "  res = super(memmap, self).__getitem__(index)\n",
      "/n/coxfs01/2p-pipeline/envs/caiman/lib/python3.7/site-packages/numpy/core/memmap.py:331: FutureWarning: Using a non-tuple sequence for multidimensional indexing is deprecated; use `arr[tuple(seq)]` instead of `arr[seq]`. In the future this will be interpreted as an array index, `arr[np.array(seq)]`, which will result either in an error or a different result.\n",
      "  res = super(memmap, self).__getitem__(index)\n",
      "/n/coxfs01/2p-pipeline/envs/caiman/lib/python3.7/site-packages/numpy/core/memmap.py:331: FutureWarning: Using a non-tuple sequence for multidimensional indexing is deprecated; use `arr[tuple(seq)]` instead of `arr[seq]`. In the future this will be interpreted as an array index, `arr[np.array(seq)]`, which will result either in an error or a different result.\n",
      "  res = super(memmap, self).__getitem__(index)\n",
      "/n/coxfs01/2p-pipeline/envs/caiman/lib/python3.7/site-packages/numpy/core/memmap.py:331: FutureWarning: Using a non-tuple sequence for multidimensional indexing is deprecated; use `arr[tuple(seq)]` instead of `arr[seq]`. In the future this will be interpreted as an array index, `arr[np.array(seq)]`, which will result either in an error or a different result.\n",
      "  res = super(memmap, self).__getitem__(index)\n",
      "/n/coxfs01/2p-pipeline/envs/caiman/lib/python3.7/site-packages/numpy/core/memmap.py:331: FutureWarning: Using a non-tuple sequence for multidimensional indexing is deprecated; use `arr[tuple(seq)]` instead of `arr[seq]`. In the future this will be interpreted as an array index, `arr[np.array(seq)]`, which will result either in an error or a different result.\n",
      "  res = super(memmap, self).__getitem__(index)\n",
      "/n/coxfs01/2p-pipeline/envs/caiman/lib/python3.7/site-packages/numpy/core/memmap.py:331: FutureWarning: Using a non-tuple sequence for multidimensional indexing is deprecated; use `arr[tuple(seq)]` instead of `arr[seq]`. In the future this will be interpreted as an array index, `arr[np.array(seq)]`, which will result either in an error or a different result.\n",
      "  res = super(memmap, self).__getitem__(index)\n",
      "/n/coxfs01/2p-pipeline/envs/caiman/lib/python3.7/site-packages/numpy/core/memmap.py:331: FutureWarning: Using a non-tuple sequence for multidimensional indexing is deprecated; use `arr[tuple(seq)]` instead of `arr[seq]`. In the future this will be interpreted as an array index, `arr[np.array(seq)]`, which will result either in an error or a different result.\n",
      "  res = super(memmap, self).__getitem__(index)\n",
      "/n/coxfs01/2p-pipeline/envs/caiman/lib/python3.7/site-packages/numpy/core/memmap.py:331: FutureWarning: Using a non-tuple sequence for multidimensional indexing is deprecated; use `arr[tuple(seq)]` instead of `arr[seq]`. In the future this will be interpreted as an array index, `arr[np.array(seq)]`, which will result either in an error or a different result.\n",
      "  res = super(memmap, self).__getitem__(index)\n",
      "/n/coxfs01/2p-pipeline/envs/caiman/lib/python3.7/site-packages/numpy/core/memmap.py:331: FutureWarning: Using a non-tuple sequence for multidimensional indexing is deprecated; use `arr[tuple(seq)]` instead of `arr[seq]`. In the future this will be interpreted as an array index, `arr[np.array(seq)]`, which will result either in an error or a different result.\n",
      "  res = super(memmap, self).__getitem__(index)\n",
      "/n/coxfs01/2p-pipeline/envs/caiman/lib/python3.7/site-packages/numpy/core/memmap.py:331: FutureWarning: Using a non-tuple sequence for multidimensional indexing is deprecated; use `arr[tuple(seq)]` instead of `arr[seq]`. In the future this will be interpreted as an array index, `arr[np.array(seq)]`, which will result either in an error or a different result.\n",
      "  res = super(memmap, self).__getitem__(index)\n",
      "WARNING:root:Component 11 is only active jointly with neighboring components. Space correlation calculation might be unreliable.\n",
      "WARNING:root:Component 44 is only active jointly with neighboring components. Space correlation calculation might be unreliable.\n"
     ]
    }
   ],
   "source": [
    "c, dview, n_processes = cm.cluster.setup_cluster(\n",
    "       backend='local', n_processes=8, single_thread=False)"
   ]
  },
  {
   "cell_type": "code",
   "execution_count": 11,
   "metadata": {},
   "outputs": [],
   "source": [
    "mc = MotionCorrect(fnames, dview=dview, **opts.get_group('motion'))\n",
    "\n",
    "try:\n",
    "    mc = load_mc_results(mc, results_dir, prefix=source_key)\n",
    "except Exception as e:\n",
    "    print(\"No MC results, doing now...\")\n",
    "    mc.motion_correct(save_movie=True)\n",
    "    save_mc_results(mc, results_dir, prefix=source_key)\n"
   ]
  },
  {
   "cell_type": "code",
   "execution_count": null,
   "metadata": {},
   "outputs": [],
   "source": []
  },
  {
   "cell_type": "code",
   "execution_count": 12,
   "metadata": {},
   "outputs": [
    {
     "data": {
      "text/plain": [
       "'JC085-20190622-FOV1_zoom2p0x-retino_run1'"
      ]
     },
     "execution_count": 12,
     "metadata": {},
     "output_type": "execute_result"
    }
   ],
   "source": [
    "source_key"
   ]
  },
  {
   "cell_type": "code",
   "execution_count": 13,
   "metadata": {
    "scrolled": true
   },
   "outputs": [
    {
     "data": {
      "text/plain": [
       "['/n/coxfs01/2p-data/JC085/20190622/FOV1_zoom2p0x/retino_run1/raw_29070c/fov1_retinobar_00001.tif',\n",
       " '/n/coxfs01/2p-data/JC085/20190622/FOV1_zoom2p0x/retino_run1/raw_29070c/fov1_retinobar_00002.tif',\n",
       " '/n/coxfs01/2p-data/JC085/20190622/FOV1_zoom2p0x/retino_run1/raw_29070c/fov1_retinobar_00003.tif',\n",
       " '/n/coxfs01/2p-data/JC085/20190622/FOV1_zoom2p0x/retino_run1/raw_29070c/fov1_retinobar_00004.tif',\n",
       " '/n/coxfs01/2p-data/JC085/20190622/FOV1_zoom2p0x/retino_run1/raw_29070c/fov1_retinobar_00005.tif',\n",
       " '/n/coxfs01/2p-data/JC085/20190622/FOV1_zoom2p0x/retino_run1/raw_29070c/fov1_retinobar_00006.tif',\n",
       " '/n/coxfs01/2p-data/JC085/20190622/FOV1_zoom2p0x/retino_run1/raw_29070c/fov1_retinobar_00007.tif',\n",
       " '/n/coxfs01/2p-data/JC085/20190622/FOV1_zoom2p0x/retino_run1/raw_29070c/fov1_retinobar_00008.tif',\n",
       " '/n/coxfs01/2p-data/JC085/20190622/FOV1_zoom2p0x/retino_run1/raw_29070c/fov1_retinobar_00009.tif',\n",
       " '/n/coxfs01/2p-data/JC085/20190622/FOV1_zoom2p0x/retino_run1/raw_29070c/fov1_retinobar_00010.tif',\n",
       " '/n/coxfs01/2p-data/JC085/20190622/FOV1_zoom2p0x/retino_run1/raw_29070c/fov1_retinobar_00011.tif',\n",
       " '/n/coxfs01/2p-data/JC085/20190622/FOV1_zoom2p0x/retino_run1/raw_29070c/fov1_retinobar_00012.tif',\n",
       " '/n/coxfs01/2p-data/JC085/20190622/FOV1_zoom2p0x/retino_run1/raw_29070c/fov1_retinobar_00013.tif',\n",
       " '/n/coxfs01/2p-data/JC085/20190622/FOV1_zoom2p0x/retino_run1/raw_29070c/fov1_retinobar_00014.tif',\n",
       " '/n/coxfs01/2p-data/JC085/20190622/FOV1_zoom2p0x/retino_run1/raw_29070c/fov1_retinobar_00015.tif',\n",
       " '/n/coxfs01/2p-data/JC085/20190622/FOV1_zoom2p0x/retino_run1/raw_29070c/fov1_retinobar_00016.tif']"
      ]
     },
     "execution_count": 13,
     "metadata": {},
     "output_type": "execute_result"
    }
   ],
   "source": [
    "list(mc.fname)"
   ]
  },
  {
   "cell_type": "code",
   "execution_count": 11,
   "metadata": {},
   "outputs": [
    {
     "data": {
      "text/plain": [
       "'/n/coxfs01/2p-data/JC085/20190622/FOV1_zoom2p0x/retino_run1/caiman_results'"
      ]
     },
     "execution_count": 11,
     "metadata": {},
     "output_type": "execute_result"
    }
   ],
   "source": [
    "results_dir"
   ]
  },
  {
   "cell_type": "code",
   "execution_count": 14,
   "metadata": {},
   "outputs": [
    {
     "name": "stdout",
     "output_type": "stream",
     "text": [
      "Getting full mmap path for prefix: JC085-20190622-FOV1_zoom2p0x-retino_run1\n",
      "-- dir: /n/coxfs01/2p-data/JC085/20190622/FOV1_zoom2p0x/retino_run1/caiman_results\n",
      "[]\n",
      "CORRECTED PREFIX: JC085-20190622-FOV1_zoom2p0x-retino_run1\n",
      "/n/coxfs01/2p-data/JC085/20190622/FOV1_zoom2p0x/retino_run1/caiman_results/memmap/JC085-20190622-FOV1_zoom2p0x-retino_run1_d1_512_d2_512_d3_1_order_C_frames_35728_.mmap\n"
     ]
    }
   ],
   "source": [
    "# Save full memmap\n",
    "prefix=source_key\n",
    "base_name = '%s/memmap/%s' % (results_dir, prefix)\n",
    "\n",
    "\n",
    "fname_tot, mm_prefix = get_full_memmap_path(results_dir, mm_prefix=prefix)\n",
    "print(fname_tot)\n"
   ]
  },
  {
   "cell_type": "code",
   "execution_count": 16,
   "metadata": {},
   "outputs": [],
   "source": [
    "if fname_tot is None:\n",
    "    fname_tot = cm.save_memmap_join(mc.mmap_file, base_name=base_name, dview=dview)   "
   ]
  },
  {
   "cell_type": "code",
   "execution_count": 17,
   "metadata": {},
   "outputs": [],
   "source": [
    "# now load the file\n",
    "Yr, dims, T = cm.load_memmap(fname_tot)\n",
    "images = np.reshape(Yr.T, [T] + list(dims), order='F') \n",
    "    #load frames in python format (T x X x Y)"
   ]
  },
  {
   "cell_type": "code",
   "execution_count": 19,
   "metadata": {},
   "outputs": [
    {
     "name": "stdout",
     "output_type": "stream",
     "text": [
      "--- running on 8 processes ---\n",
      "--- dview:  <multiprocessing.pool.Pool object at 0x2b1b6526ba90>\n"
     ]
    },
    {
     "name": "stderr",
     "output_type": "stream",
     "text": [
      "/n/coxfs01/2p-pipeline/envs/caiman/lib/python3.7/site-packages/numpy/core/memmap.py:331: FutureWarning: Using a non-tuple sequence for multidimensional indexing is deprecated; use `arr[tuple(seq)]` instead of `arr[seq]`. In the future this will be interpreted as an array index, `arr[np.array(seq)]`, which will result either in an error or a different result.\n",
      "  res = super(memmap, self).__getitem__(index)\n",
      "/n/coxfs01/2p-pipeline/envs/caiman/lib/python3.7/site-packages/numpy/core/memmap.py:331: FutureWarning: Using a non-tuple sequence for multidimensional indexing is deprecated; use `arr[tuple(seq)]` instead of `arr[seq]`. In the future this will be interpreted as an array index, `arr[np.array(seq)]`, which will result either in an error or a different result.\n",
      "  res = super(memmap, self).__getitem__(index)\n",
      "/n/coxfs01/2p-pipeline/envs/caiman/lib/python3.7/site-packages/numpy/core/memmap.py:331: FutureWarning: Using a non-tuple sequence for multidimensional indexing is deprecated; use `arr[tuple(seq)]` instead of `arr[seq]`. In the future this will be interpreted as an array index, `arr[np.array(seq)]`, which will result either in an error or a different result.\n",
      "  res = super(memmap, self).__getitem__(index)\n",
      "/n/coxfs01/2p-pipeline/envs/caiman/lib/python3.7/site-packages/numpy/core/memmap.py:331: FutureWarning: Using a non-tuple sequence for multidimensional indexing is deprecated; use `arr[tuple(seq)]` instead of `arr[seq]`. In the future this will be interpreted as an array index, `arr[np.array(seq)]`, which will result either in an error or a different result.\n",
      "  res = super(memmap, self).__getitem__(index)\n",
      "/n/coxfs01/2p-pipeline/envs/caiman/lib/python3.7/site-packages/numpy/core/memmap.py:331: FutureWarning: Using a non-tuple sequence for multidimensional indexing is deprecated; use `arr[tuple(seq)]` instead of `arr[seq]`. In the future this will be interpreted as an array index, `arr[np.array(seq)]`, which will result either in an error or a different result.\n",
      "  res = super(memmap, self).__getitem__(index)\n",
      "/n/coxfs01/2p-pipeline/envs/caiman/lib/python3.7/site-packages/numpy/core/memmap.py:331: FutureWarning: Using a non-tuple sequence for multidimensional indexing is deprecated; use `arr[tuple(seq)]` instead of `arr[seq]`. In the future this will be interpreted as an array index, `arr[np.array(seq)]`, which will result either in an error or a different result.\n",
      "  res = super(memmap, self).__getitem__(index)\n",
      "/n/coxfs01/2p-pipeline/envs/caiman/lib/python3.7/site-packages/numpy/core/memmap.py:331: FutureWarning: Using a non-tuple sequence for multidimensional indexing is deprecated; use `arr[tuple(seq)]` instead of `arr[seq]`. In the future this will be interpreted as an array index, `arr[np.array(seq)]`, which will result either in an error or a different result.\n",
      "  res = super(memmap, self).__getitem__(index)\n",
      "/n/coxfs01/2p-pipeline/envs/caiman/lib/python3.7/site-packages/numpy/core/memmap.py:331: FutureWarning: Using a non-tuple sequence for multidimensional indexing is deprecated; use `arr[tuple(seq)]` instead of `arr[seq]`. In the future this will be interpreted as an array index, `arr[np.array(seq)]`, which will result either in an error or a different result.\n",
      "  res = super(memmap, self).__getitem__(index)\n",
      "WARNING:root:Changing key n_processes in group patch from 8 to 1\n",
      "WARNING:root:Changing key n_processes in group patch from 8 to 1\n",
      "WARNING:root:Changing key n_processes in group patch from 8 to 1\n",
      "WARNING:root:Changing key n_processes in group patch from 8 to 1\n",
      "WARNING:root:Changing key rf in group patch from 25 to None\n",
      "WARNING:root:Changing key n_processes in group patch from 8 to 1\n",
      "WARNING:root:Changing key rf in group patch from 25 to None\n",
      "WARNING:root:Changing key n_processes in group patch from 8 to 1\n",
      "WARNING:root:Changing key rf in group patch from 25 to None\n",
      "WARNING:root:Changing key rf in group patch from 25 to None\n",
      "WARNING:root:Changing key n_processes in group patch from 8 to 1\n",
      "WARNING:root:Changing key stride in group patch from 12 to None\n",
      "WARNING:root:Changing key rf in group patch from 25 to None\n",
      "WARNING:root:Changing key stride in group patch from 12 to None\n",
      "WARNING:root:Changing key rf in group patch from 25 to None\n",
      "WARNING:root:Changing key stride in group patch from 12 to None\n",
      "WARNING:root:Changing key stride in group patch from 12 to None\n",
      "WARNING:root:Changing key rf in group patch from 25 to None\n",
      "WARNING:root:Changing key nb in group init from 2 to 1\n",
      "WARNING:root:Changing key stride in group patch from 12 to None\n",
      "WARNING:root:Changing key nb in group init from 2 to 1\n",
      "WARNING:root:Changing key n_processes in group patch from 8 to 1\n",
      "WARNING:root:Changing key stride in group patch from 12 to None\n",
      "WARNING:root:Changing key nb in group init from 2 to 1\n",
      "WARNING:root:Changing key nb in group init from 2 to 1\n",
      "WARNING:root:Changing key stride in group patch from 12 to None\n",
      "WARNING:root:Changing key nb in group temporal from 2 to 1\n",
      "WARNING:root:Changing key nb in group init from 2 to 1\n",
      "WARNING:root:Changing key nb in group temporal from 2 to 1\n",
      "WARNING:root:Changing key rf in group patch from 25 to None\n",
      "WARNING:root:Changing key nb in group init from 2 to 1\n",
      "WARNING:root:Changing key nb in group temporal from 2 to 1\n",
      "WARNING:root:Changing key nb in group temporal from 2 to 1\n",
      "WARNING:root:Changing key nb in group init from 2 to 1\n",
      "WARNING:root:Changing key nb in group spatial from 2 to 1\n",
      "WARNING:root:Changing key nb in group temporal from 2 to 1\n",
      "WARNING:root:Changing key nb in group spatial from 2 to 1\n",
      "WARNING:root:Changing key stride in group patch from 12 to None\n",
      "WARNING:root:Changing key nb in group temporal from 2 to 1\n",
      "WARNING:root:Changing key nb in group spatial from 2 to 1\n",
      "WARNING:root:Changing key nb in group spatial from 2 to 1\n",
      "WARNING:root:Changing key nb in group temporal from 2 to 1\n",
      "WARNING:root:Changing key nb in group spatial from 2 to 1\n",
      "WARNING:root:Changing key nb in group init from 2 to 1\n",
      "WARNING:root:Changing key nb in group spatial from 2 to 1\n",
      "WARNING:root:Changing key nb in group spatial from 2 to 1\n",
      "WARNING:root:Changing key nb in group temporal from 2 to 1\n",
      "WARNING:root:Changing key nb in group spatial from 2 to 1\n",
      "/n/coxfs01/2p-pipeline/envs/caiman/lib/python3.7/site-packages/numpy/core/memmap.py:331: FutureWarning: Using a non-tuple sequence for multidimensional indexing is deprecated; use `arr[tuple(seq)]` instead of `arr[seq]`. In the future this will be interpreted as an array index, `arr[np.array(seq)]`, which will result either in an error or a different result.\n",
      "  res = super(memmap, self).__getitem__(index)\n",
      "/n/coxfs01/2p-pipeline/envs/caiman/lib/python3.7/site-packages/numpy/core/memmap.py:331: FutureWarning: Using a non-tuple sequence for multidimensional indexing is deprecated; use `arr[tuple(seq)]` instead of `arr[seq]`. In the future this will be interpreted as an array index, `arr[np.array(seq)]`, which will result either in an error or a different result.\n",
      "  res = super(memmap, self).__getitem__(index)\n",
      "/n/coxfs01/2p-pipeline/envs/caiman/lib/python3.7/site-packages/numpy/core/memmap.py:331: FutureWarning: Using a non-tuple sequence for multidimensional indexing is deprecated; use `arr[tuple(seq)]` instead of `arr[seq]`. In the future this will be interpreted as an array index, `arr[np.array(seq)]`, which will result either in an error or a different result.\n",
      "  res = super(memmap, self).__getitem__(index)\n",
      "/n/coxfs01/2p-pipeline/envs/caiman/lib/python3.7/site-packages/numpy/core/memmap.py:331: FutureWarning: Using a non-tuple sequence for multidimensional indexing is deprecated; use `arr[tuple(seq)]` instead of `arr[seq]`. In the future this will be interpreted as an array index, `arr[np.array(seq)]`, which will result either in an error or a different result.\n",
      "  res = super(memmap, self).__getitem__(index)\n",
      "/n/coxfs01/2p-pipeline/envs/caiman/lib/python3.7/site-packages/numpy/core/memmap.py:331: FutureWarning: Using a non-tuple sequence for multidimensional indexing is deprecated; use `arr[tuple(seq)]` instead of `arr[seq]`. In the future this will be interpreted as an array index, `arr[np.array(seq)]`, which will result either in an error or a different result.\n",
      "  res = super(memmap, self).__getitem__(index)\n",
      "/n/coxfs01/2p-pipeline/envs/caiman/lib/python3.7/site-packages/numpy/core/memmap.py:331: FutureWarning: Using a non-tuple sequence for multidimensional indexing is deprecated; use `arr[tuple(seq)]` instead of `arr[seq]`. In the future this will be interpreted as an array index, `arr[np.array(seq)]`, which will result either in an error or a different result.\n",
      "  res = super(memmap, self).__getitem__(index)\n"
     ]
    },
    {
     "name": "stderr",
     "output_type": "stream",
     "text": [
      "/n/coxfs01/2p-pipeline/envs/caiman/lib/python3.7/site-packages/numpy/core/memmap.py:331: FutureWarning: Using a non-tuple sequence for multidimensional indexing is deprecated; use `arr[tuple(seq)]` instead of `arr[seq]`. In the future this will be interpreted as an array index, `arr[np.array(seq)]`, which will result either in an error or a different result.\n",
      "  res = super(memmap, self).__getitem__(index)\n",
      "/n/coxfs01/2p-pipeline/envs/caiman/lib/python3.7/site-packages/numpy/core/memmap.py:331: FutureWarning: Using a non-tuple sequence for multidimensional indexing is deprecated; use `arr[tuple(seq)]` instead of `arr[seq]`. In the future this will be interpreted as an array index, `arr[np.array(seq)]`, which will result either in an error or a different result.\n",
      "  res = super(memmap, self).__getitem__(index)\n",
      "/n/coxfs01/2p-pipeline/envs/caiman/lib/python3.7/site-packages/numpy/core/memmap.py:331: FutureWarning: Using a non-tuple sequence for multidimensional indexing is deprecated; use `arr[tuple(seq)]` instead of `arr[seq]`. In the future this will be interpreted as an array index, `arr[np.array(seq)]`, which will result either in an error or a different result.\n",
      "  res = super(memmap, self).__getitem__(index)\n",
      "/n/coxfs01/2p-pipeline/envs/caiman/lib/python3.7/site-packages/numpy/core/memmap.py:331: FutureWarning: Using a non-tuple sequence for multidimensional indexing is deprecated; use `arr[tuple(seq)]` instead of `arr[seq]`. In the future this will be interpreted as an array index, `arr[np.array(seq)]`, which will result either in an error or a different result.\n",
      "  res = super(memmap, self).__getitem__(index)\n",
      "/n/coxfs01/2p-pipeline/envs/caiman/lib/python3.7/site-packages/numpy/core/memmap.py:331: FutureWarning: Using a non-tuple sequence for multidimensional indexing is deprecated; use `arr[tuple(seq)]` instead of `arr[seq]`. In the future this will be interpreted as an array index, `arr[np.array(seq)]`, which will result either in an error or a different result.\n",
      "  res = super(memmap, self).__getitem__(index)\n",
      "/n/coxfs01/2p-pipeline/envs/caiman/lib/python3.7/site-packages/numpy/core/memmap.py:331: FutureWarning: Using a non-tuple sequence for multidimensional indexing is deprecated; use `arr[tuple(seq)]` instead of `arr[seq]`. In the future this will be interpreted as an array index, `arr[np.array(seq)]`, which will result either in an error or a different result.\n",
      "  res = super(memmap, self).__getitem__(index)\n",
      "/n/coxfs01/2p-pipeline/envs/caiman/lib/python3.7/site-packages/numpy/core/memmap.py:331: FutureWarning: Using a non-tuple sequence for multidimensional indexing is deprecated; use `arr[tuple(seq)]` instead of `arr[seq]`. In the future this will be interpreted as an array index, `arr[np.array(seq)]`, which will result either in an error or a different result.\n",
      "  res = super(memmap, self).__getitem__(index)\n",
      "/n/coxfs01/2p-pipeline/envs/caiman/lib/python3.7/site-packages/numpy/core/memmap.py:331: FutureWarning: Using a non-tuple sequence for multidimensional indexing is deprecated; use `arr[tuple(seq)]` instead of `arr[seq]`. In the future this will be interpreted as an array index, `arr[np.array(seq)]`, which will result either in an error or a different result.\n",
      "  res = super(memmap, self).__getitem__(index)\n",
      "/n/coxfs01/2p-pipeline/envs/caiman/lib/python3.7/site-packages/numpy/core/memmap.py:331: FutureWarning: Using a non-tuple sequence for multidimensional indexing is deprecated; use `arr[tuple(seq)]` instead of `arr[seq]`. In the future this will be interpreted as an array index, `arr[np.array(seq)]`, which will result either in an error or a different result.\n",
      "  res = super(memmap, self).__getitem__(index)\n",
      "/n/coxfs01/2p-pipeline/envs/caiman/lib/python3.7/site-packages/numpy/core/memmap.py:331: FutureWarning: Using a non-tuple sequence for multidimensional indexing is deprecated; use `arr[tuple(seq)]` instead of `arr[seq]`. In the future this will be interpreted as an array index, `arr[np.array(seq)]`, which will result either in an error or a different result.\n",
      "  res = super(memmap, self).__getitem__(index)\n",
      "/n/coxfs01/2p-pipeline/envs/caiman/lib/python3.7/site-packages/numpy/core/memmap.py:331: FutureWarning: Using a non-tuple sequence for multidimensional indexing is deprecated; use `arr[tuple(seq)]` instead of `arr[seq]`. In the future this will be interpreted as an array index, `arr[np.array(seq)]`, which will result either in an error or a different result.\n",
      "  res = super(memmap, self).__getitem__(index)\n",
      "/n/coxfs01/2p-pipeline/envs/caiman/lib/python3.7/site-packages/numpy/core/memmap.py:331: FutureWarning: Using a non-tuple sequence for multidimensional indexing is deprecated; use `arr[tuple(seq)]` instead of `arr[seq]`. In the future this will be interpreted as an array index, `arr[np.array(seq)]`, which will result either in an error or a different result.\n",
      "  res = super(memmap, self).__getitem__(index)\n",
      "/n/coxfs01/2p-pipeline/envs/caiman/lib/python3.7/site-packages/numpy/core/memmap.py:331: FutureWarning: Using a non-tuple sequence for multidimensional indexing is deprecated; use `arr[tuple(seq)]` instead of `arr[seq]`. In the future this will be interpreted as an array index, `arr[np.array(seq)]`, which will result either in an error or a different result.\n",
      "  res = super(memmap, self).__getitem__(index)\n",
      "/n/coxfs01/2p-pipeline/envs/caiman/lib/python3.7/site-packages/numpy/core/memmap.py:331: FutureWarning: Using a non-tuple sequence for multidimensional indexing is deprecated; use `arr[tuple(seq)]` instead of `arr[seq]`. In the future this will be interpreted as an array index, `arr[np.array(seq)]`, which will result either in an error or a different result.\n",
      "  res = super(memmap, self).__getitem__(index)\n",
      "/n/coxfs01/2p-pipeline/envs/caiman/lib/python3.7/site-packages/numpy/core/memmap.py:331: FutureWarning: Using a non-tuple sequence for multidimensional indexing is deprecated; use `arr[tuple(seq)]` instead of `arr[seq]`. In the future this will be interpreted as an array index, `arr[np.array(seq)]`, which will result either in an error or a different result.\n",
      "  res = super(memmap, self).__getitem__(index)\n",
      "/n/coxfs01/2p-pipeline/envs/caiman/lib/python3.7/site-packages/numpy/core/memmap.py:331: FutureWarning: Using a non-tuple sequence for multidimensional indexing is deprecated; use `arr[tuple(seq)]` instead of `arr[seq]`. In the future this will be interpreted as an array index, `arr[np.array(seq)]`, which will result either in an error or a different result.\n",
      "  res = super(memmap, self).__getitem__(index)\n",
      "/n/coxfs01/2p-pipeline/envs/caiman/lib/python3.7/site-packages/numpy/core/memmap.py:331: FutureWarning: Using a non-tuple sequence for multidimensional indexing is deprecated; use `arr[tuple(seq)]` instead of `arr[seq]`. In the future this will be interpreted as an array index, `arr[np.array(seq)]`, which will result either in an error or a different result.\n",
      "  res = super(memmap, self).__getitem__(index)\n",
      "/n/coxfs01/2p-pipeline/envs/caiman/lib/python3.7/site-packages/numpy/core/memmap.py:331: FutureWarning: Using a non-tuple sequence for multidimensional indexing is deprecated; use `arr[tuple(seq)]` instead of `arr[seq]`. In the future this will be interpreted as an array index, `arr[np.array(seq)]`, which will result either in an error or a different result.\n",
      "  res = super(memmap, self).__getitem__(index)\n",
      "/n/coxfs01/2p-pipeline/envs/caiman/lib/python3.7/site-packages/numpy/core/memmap.py:331: FutureWarning: Using a non-tuple sequence for multidimensional indexing is deprecated; use `arr[tuple(seq)]` instead of `arr[seq]`. In the future this will be interpreted as an array index, `arr[np.array(seq)]`, which will result either in an error or a different result.\n",
      "  res = super(memmap, self).__getitem__(index)\n",
      "/n/coxfs01/2p-pipeline/envs/caiman/lib/python3.7/site-packages/numpy/core/memmap.py:331: FutureWarning: Using a non-tuple sequence for multidimensional indexing is deprecated; use `arr[tuple(seq)]` instead of `arr[seq]`. In the future this will be interpreted as an array index, `arr[np.array(seq)]`, which will result either in an error or a different result.\n",
      "  res = super(memmap, self).__getitem__(index)\n",
      "/n/coxfs01/2p-pipeline/envs/caiman/lib/python3.7/site-packages/numpy/core/memmap.py:331: FutureWarning: Using a non-tuple sequence for multidimensional indexing is deprecated; use `arr[tuple(seq)]` instead of `arr[seq]`. In the future this will be interpreted as an array index, `arr[np.array(seq)]`, which will result either in an error or a different result.\n",
      "  res = super(memmap, self).__getitem__(index)\n"
     ]
    },
    {
     "name": "stderr",
     "output_type": "stream",
     "text": [
      "/n/coxfs01/2p-pipeline/envs/caiman/lib/python3.7/site-packages/numpy/core/memmap.py:331: FutureWarning: Using a non-tuple sequence for multidimensional indexing is deprecated; use `arr[tuple(seq)]` instead of `arr[seq]`. In the future this will be interpreted as an array index, `arr[np.array(seq)]`, which will result either in an error or a different result.\n",
      "  res = super(memmap, self).__getitem__(index)\n",
      "/n/coxfs01/2p-pipeline/envs/caiman/lib/python3.7/site-packages/numpy/core/memmap.py:331: FutureWarning: Using a non-tuple sequence for multidimensional indexing is deprecated; use `arr[tuple(seq)]` instead of `arr[seq]`. In the future this will be interpreted as an array index, `arr[np.array(seq)]`, which will result either in an error or a different result.\n",
      "  res = super(memmap, self).__getitem__(index)\n",
      "/n/coxfs01/2p-pipeline/envs/caiman/lib/python3.7/site-packages/numpy/core/memmap.py:331: FutureWarning: Using a non-tuple sequence for multidimensional indexing is deprecated; use `arr[tuple(seq)]` instead of `arr[seq]`. In the future this will be interpreted as an array index, `arr[np.array(seq)]`, which will result either in an error or a different result.\n",
      "  res = super(memmap, self).__getitem__(index)\n",
      "/n/coxfs01/2p-pipeline/envs/caiman/lib/python3.7/site-packages/numpy/core/memmap.py:331: FutureWarning: Using a non-tuple sequence for multidimensional indexing is deprecated; use `arr[tuple(seq)]` instead of `arr[seq]`. In the future this will be interpreted as an array index, `arr[np.array(seq)]`, which will result either in an error or a different result.\n",
      "  res = super(memmap, self).__getitem__(index)\n",
      "/n/coxfs01/2p-pipeline/envs/caiman/lib/python3.7/site-packages/numpy/core/memmap.py:331: FutureWarning: Using a non-tuple sequence for multidimensional indexing is deprecated; use `arr[tuple(seq)]` instead of `arr[seq]`. In the future this will be interpreted as an array index, `arr[np.array(seq)]`, which will result either in an error or a different result.\n",
      "  res = super(memmap, self).__getitem__(index)\n",
      "/n/coxfs01/2p-pipeline/envs/caiman/lib/python3.7/site-packages/numpy/core/memmap.py:331: FutureWarning: Using a non-tuple sequence for multidimensional indexing is deprecated; use `arr[tuple(seq)]` instead of `arr[seq]`. In the future this will be interpreted as an array index, `arr[np.array(seq)]`, which will result either in an error or a different result.\n",
      "  res = super(memmap, self).__getitem__(index)\n",
      "/n/coxfs01/2p-pipeline/envs/caiman/lib/python3.7/site-packages/numpy/core/memmap.py:331: FutureWarning: Using a non-tuple sequence for multidimensional indexing is deprecated; use `arr[tuple(seq)]` instead of `arr[seq]`. In the future this will be interpreted as an array index, `arr[np.array(seq)]`, which will result either in an error or a different result.\n",
      "  res = super(memmap, self).__getitem__(index)\n",
      "WARNING:root:Changing key n_processes in group patch from 8 to 1\n",
      "WARNING:root:Changing key rf in group patch from 25 to None\n",
      "WARNING:root:Changing key stride in group patch from 12 to None\n",
      "WARNING:root:Changing key nb in group init from 2 to 1\n",
      "WARNING:root:Changing key nb in group temporal from 2 to 1\n",
      "WARNING:root:Changing key nb in group spatial from 2 to 1\n",
      "/n/coxfs01/2p-pipeline/envs/caiman/lib/python3.7/site-packages/numpy/core/memmap.py:331: FutureWarning: Using a non-tuple sequence for multidimensional indexing is deprecated; use `arr[tuple(seq)]` instead of `arr[seq]`. In the future this will be interpreted as an array index, `arr[np.array(seq)]`, which will result either in an error or a different result.\n",
      "  res = super(memmap, self).__getitem__(index)\n",
      "WARNING:root:Changing key n_processes in group patch from 8 to 1\n",
      "WARNING:root:Changing key rf in group patch from 25 to None\n",
      "WARNING:root:Changing key stride in group patch from 12 to None\n",
      "WARNING:root:Changing key nb in group init from 2 to 1\n",
      "WARNING:root:Changing key nb in group temporal from 2 to 1\n",
      "WARNING:root:Changing key nb in group spatial from 2 to 1\n",
      "/n/coxfs01/2p-pipeline/envs/caiman/lib/python3.7/site-packages/numpy/core/memmap.py:331: FutureWarning: Using a non-tuple sequence for multidimensional indexing is deprecated; use `arr[tuple(seq)]` instead of `arr[seq]`. In the future this will be interpreted as an array index, `arr[np.array(seq)]`, which will result either in an error or a different result.\n",
      "  res = super(memmap, self).__getitem__(index)\n",
      "/n/coxfs01/2p-pipeline/envs/caiman/lib/python3.7/site-packages/numpy/core/memmap.py:331: FutureWarning: Using a non-tuple sequence for multidimensional indexing is deprecated; use `arr[tuple(seq)]` instead of `arr[seq]`. In the future this will be interpreted as an array index, `arr[np.array(seq)]`, which will result either in an error or a different result.\n",
      "  res = super(memmap, self).__getitem__(index)\n",
      "/n/coxfs01/2p-pipeline/envs/caiman/lib/python3.7/site-packages/numpy/core/memmap.py:331: FutureWarning: Using a non-tuple sequence for multidimensional indexing is deprecated; use `arr[tuple(seq)]` instead of `arr[seq]`. In the future this will be interpreted as an array index, `arr[np.array(seq)]`, which will result either in an error or a different result.\n",
      "  res = super(memmap, self).__getitem__(index)\n",
      "/n/coxfs01/2p-pipeline/envs/caiman/lib/python3.7/site-packages/numpy/core/memmap.py:331: FutureWarning: Using a non-tuple sequence for multidimensional indexing is deprecated; use `arr[tuple(seq)]` instead of `arr[seq]`. In the future this will be interpreted as an array index, `arr[np.array(seq)]`, which will result either in an error or a different result.\n",
      "  res = super(memmap, self).__getitem__(index)\n",
      "/n/coxfs01/2p-pipeline/envs/caiman/lib/python3.7/site-packages/numpy/core/memmap.py:331: FutureWarning: Using a non-tuple sequence for multidimensional indexing is deprecated; use `arr[tuple(seq)]` instead of `arr[seq]`. In the future this will be interpreted as an array index, `arr[np.array(seq)]`, which will result either in an error or a different result.\n",
      "  res = super(memmap, self).__getitem__(index)\n",
      "/n/coxfs01/2p-pipeline/envs/caiman/lib/python3.7/site-packages/numpy/core/memmap.py:331: FutureWarning: Using a non-tuple sequence for multidimensional indexing is deprecated; use `arr[tuple(seq)]` instead of `arr[seq]`. In the future this will be interpreted as an array index, `arr[np.array(seq)]`, which will result either in an error or a different result.\n",
      "  res = super(memmap, self).__getitem__(index)\n",
      "/n/coxfs01/2p-pipeline/envs/caiman/lib/python3.7/site-packages/numpy/core/memmap.py:331: FutureWarning: Using a non-tuple sequence for multidimensional indexing is deprecated; use `arr[tuple(seq)]` instead of `arr[seq]`. In the future this will be interpreted as an array index, `arr[np.array(seq)]`, which will result either in an error or a different result.\n",
      "  res = super(memmap, self).__getitem__(index)\n",
      "/n/coxfs01/2p-pipeline/envs/caiman/lib/python3.7/site-packages/numpy/core/memmap.py:331: FutureWarning: Using a non-tuple sequence for multidimensional indexing is deprecated; use `arr[tuple(seq)]` instead of `arr[seq]`. In the future this will be interpreted as an array index, `arr[np.array(seq)]`, which will result either in an error or a different result.\n",
      "  res = super(memmap, self).__getitem__(index)\n",
      "/n/coxfs01/2p-pipeline/envs/caiman/lib/python3.7/site-packages/numpy/core/memmap.py:331: FutureWarning: Using a non-tuple sequence for multidimensional indexing is deprecated; use `arr[tuple(seq)]` instead of `arr[seq]`. In the future this will be interpreted as an array index, `arr[np.array(seq)]`, which will result either in an error or a different result.\n",
      "  res = super(memmap, self).__getitem__(index)\n",
      "/n/coxfs01/2p-pipeline/envs/caiman/lib/python3.7/site-packages/numpy/core/memmap.py:331: FutureWarning: Using a non-tuple sequence for multidimensional indexing is deprecated; use `arr[tuple(seq)]` instead of `arr[seq]`. In the future this will be interpreted as an array index, `arr[np.array(seq)]`, which will result either in an error or a different result.\n",
      "  res = super(memmap, self).__getitem__(index)\n",
      "/n/coxfs01/2p-pipeline/envs/caiman/lib/python3.7/site-packages/numpy/core/memmap.py:331: FutureWarning: Using a non-tuple sequence for multidimensional indexing is deprecated; use `arr[tuple(seq)]` instead of `arr[seq]`. In the future this will be interpreted as an array index, `arr[np.array(seq)]`, which will result either in an error or a different result.\n",
      "  res = super(memmap, self).__getitem__(index)\n"
     ]
    },
    {
     "name": "stderr",
     "output_type": "stream",
     "text": [
      "/n/coxfs01/2p-pipeline/envs/caiman/lib/python3.7/site-packages/numpy/core/memmap.py:331: FutureWarning: Using a non-tuple sequence for multidimensional indexing is deprecated; use `arr[tuple(seq)]` instead of `arr[seq]`. In the future this will be interpreted as an array index, `arr[np.array(seq)]`, which will result either in an error or a different result.\n",
      "  res = super(memmap, self).__getitem__(index)\n",
      "/n/coxfs01/2p-pipeline/envs/caiman/lib/python3.7/site-packages/numpy/core/memmap.py:331: FutureWarning: Using a non-tuple sequence for multidimensional indexing is deprecated; use `arr[tuple(seq)]` instead of `arr[seq]`. In the future this will be interpreted as an array index, `arr[np.array(seq)]`, which will result either in an error or a different result.\n",
      "  res = super(memmap, self).__getitem__(index)\n",
      "/n/coxfs01/2p-pipeline/envs/caiman/lib/python3.7/site-packages/numpy/core/memmap.py:331: FutureWarning: Using a non-tuple sequence for multidimensional indexing is deprecated; use `arr[tuple(seq)]` instead of `arr[seq]`. In the future this will be interpreted as an array index, `arr[np.array(seq)]`, which will result either in an error or a different result.\n",
      "  res = super(memmap, self).__getitem__(index)\n",
      "/n/coxfs01/2p-pipeline/envs/caiman/lib/python3.7/site-packages/numpy/core/memmap.py:331: FutureWarning: Using a non-tuple sequence for multidimensional indexing is deprecated; use `arr[tuple(seq)]` instead of `arr[seq]`. In the future this will be interpreted as an array index, `arr[np.array(seq)]`, which will result either in an error or a different result.\n",
      "  res = super(memmap, self).__getitem__(index)\n",
      "/n/coxfs01/2p-pipeline/envs/caiman/lib/python3.7/site-packages/numpy/core/memmap.py:331: FutureWarning: Using a non-tuple sequence for multidimensional indexing is deprecated; use `arr[tuple(seq)]` instead of `arr[seq]`. In the future this will be interpreted as an array index, `arr[np.array(seq)]`, which will result either in an error or a different result.\n",
      "  res = super(memmap, self).__getitem__(index)\n",
      "/n/coxfs01/2p-pipeline/envs/caiman/lib/python3.7/site-packages/numpy/core/memmap.py:331: FutureWarning: Using a non-tuple sequence for multidimensional indexing is deprecated; use `arr[tuple(seq)]` instead of `arr[seq]`. In the future this will be interpreted as an array index, `arr[np.array(seq)]`, which will result either in an error or a different result.\n",
      "  res = super(memmap, self).__getitem__(index)\n",
      "/n/coxfs01/2p-pipeline/envs/caiman/lib/python3.7/site-packages/numpy/core/memmap.py:331: FutureWarning: Using a non-tuple sequence for multidimensional indexing is deprecated; use `arr[tuple(seq)]` instead of `arr[seq]`. In the future this will be interpreted as an array index, `arr[np.array(seq)]`, which will result either in an error or a different result.\n",
      "  res = super(memmap, self).__getitem__(index)\n",
      "/n/coxfs01/2p-pipeline/envs/caiman/lib/python3.7/site-packages/numpy/core/memmap.py:331: FutureWarning: Using a non-tuple sequence for multidimensional indexing is deprecated; use `arr[tuple(seq)]` instead of `arr[seq]`. In the future this will be interpreted as an array index, `arr[np.array(seq)]`, which will result either in an error or a different result.\n",
      "  res = super(memmap, self).__getitem__(index)\n",
      "/n/coxfs01/2p-pipeline/envs/caiman/lib/python3.7/site-packages/numpy/core/memmap.py:331: FutureWarning: Using a non-tuple sequence for multidimensional indexing is deprecated; use `arr[tuple(seq)]` instead of `arr[seq]`. In the future this will be interpreted as an array index, `arr[np.array(seq)]`, which will result either in an error or a different result.\n",
      "  res = super(memmap, self).__getitem__(index)\n",
      "/n/coxfs01/2p-pipeline/envs/caiman/lib/python3.7/site-packages/numpy/core/memmap.py:331: FutureWarning: Using a non-tuple sequence for multidimensional indexing is deprecated; use `arr[tuple(seq)]` instead of `arr[seq]`. In the future this will be interpreted as an array index, `arr[np.array(seq)]`, which will result either in an error or a different result.\n",
      "  res = super(memmap, self).__getitem__(index)\n",
      "/n/coxfs01/2p-pipeline/envs/caiman/lib/python3.7/site-packages/numpy/core/memmap.py:331: FutureWarning: Using a non-tuple sequence for multidimensional indexing is deprecated; use `arr[tuple(seq)]` instead of `arr[seq]`. In the future this will be interpreted as an array index, `arr[np.array(seq)]`, which will result either in an error or a different result.\n",
      "  res = super(memmap, self).__getitem__(index)\n",
      "/n/coxfs01/2p-pipeline/envs/caiman/lib/python3.7/site-packages/numpy/core/memmap.py:331: FutureWarning: Using a non-tuple sequence for multidimensional indexing is deprecated; use `arr[tuple(seq)]` instead of `arr[seq]`. In the future this will be interpreted as an array index, `arr[np.array(seq)]`, which will result either in an error or a different result.\n",
      "  res = super(memmap, self).__getitem__(index)\n",
      "WARNING:root:Changing key n_processes in group patch from 8 to 1\n",
      "WARNING:root:Changing key rf in group patch from 25 to None\n",
      "WARNING:root:Changing key stride in group patch from 12 to None\n",
      "WARNING:root:Changing key nb in group init from 2 to 1\n",
      "WARNING:root:Changing key nb in group temporal from 2 to 1\n",
      "WARNING:root:Changing key nb in group spatial from 2 to 1\n",
      "WARNING:root:Changing key n_processes in group patch from 8 to 1\n",
      "WARNING:root:Changing key rf in group patch from 25 to None\n",
      "WARNING:root:Changing key stride in group patch from 12 to None\n",
      "WARNING:root:Changing key nb in group init from 2 to 1\n",
      "WARNING:root:Changing key nb in group temporal from 2 to 1\n",
      "WARNING:root:Changing key nb in group spatial from 2 to 1\n",
      "WARNING:root:Changing key n_processes in group patch from 8 to 1\n",
      "WARNING:root:Changing key rf in group patch from 25 to None\n",
      "WARNING:root:Changing key stride in group patch from 12 to None\n",
      "WARNING:root:Changing key nb in group init from 2 to 1\n",
      "WARNING:root:Changing key nb in group temporal from 2 to 1\n",
      "WARNING:root:Changing key nb in group spatial from 2 to 1\n",
      "/n/coxfs01/2p-pipeline/envs/caiman/lib/python3.7/site-packages/numpy/core/memmap.py:331: FutureWarning: Using a non-tuple sequence for multidimensional indexing is deprecated; use `arr[tuple(seq)]` instead of `arr[seq]`. In the future this will be interpreted as an array index, `arr[np.array(seq)]`, which will result either in an error or a different result.\n",
      "  res = super(memmap, self).__getitem__(index)\n",
      "/n/coxfs01/2p-pipeline/envs/caiman/lib/python3.7/site-packages/numpy/core/memmap.py:331: FutureWarning: Using a non-tuple sequence for multidimensional indexing is deprecated; use `arr[tuple(seq)]` instead of `arr[seq]`. In the future this will be interpreted as an array index, `arr[np.array(seq)]`, which will result either in an error or a different result.\n",
      "  res = super(memmap, self).__getitem__(index)\n",
      "WARNING:root:Changing key n_processes in group patch from 8 to 1\n",
      "WARNING:root:Changing key rf in group patch from 25 to None\n",
      "WARNING:root:Changing key stride in group patch from 12 to None\n",
      "WARNING:root:Changing key nb in group init from 2 to 1\n",
      "WARNING:root:Changing key nb in group temporal from 2 to 1\n",
      "/n/coxfs01/2p-pipeline/envs/caiman/lib/python3.7/site-packages/numpy/core/memmap.py:331: FutureWarning: Using a non-tuple sequence for multidimensional indexing is deprecated; use `arr[tuple(seq)]` instead of `arr[seq]`. In the future this will be interpreted as an array index, `arr[np.array(seq)]`, which will result either in an error or a different result.\n",
      "  res = super(memmap, self).__getitem__(index)\n",
      "WARNING:root:Changing key nb in group spatial from 2 to 1\n",
      "WARNING:root:Changing key n_processes in group patch from 8 to 1\n",
      "WARNING:root:Changing key rf in group patch from 25 to None\n",
      "WARNING:root:Changing key stride in group patch from 12 to None\n",
      "WARNING:root:Changing key nb in group init from 2 to 1\n",
      "WARNING:root:Changing key nb in group temporal from 2 to 1\n",
      "WARNING:root:Changing key nb in group spatial from 2 to 1\n",
      "WARNING:root:Changing key n_processes in group patch from 8 to 1\n",
      "WARNING:root:Changing key rf in group patch from 25 to None\n",
      "WARNING:root:Changing key stride in group patch from 12 to None\n",
      "WARNING:root:Changing key nb in group init from 2 to 1\n",
      "WARNING:root:Changing key nb in group temporal from 2 to 1\n"
     ]
    },
    {
     "name": "stderr",
     "output_type": "stream",
     "text": [
      "WARNING:root:Changing key nb in group spatial from 2 to 1\n",
      "/n/coxfs01/2p-pipeline/envs/caiman/lib/python3.7/site-packages/numpy/core/memmap.py:331: FutureWarning: Using a non-tuple sequence for multidimensional indexing is deprecated; use `arr[tuple(seq)]` instead of `arr[seq]`. In the future this will be interpreted as an array index, `arr[np.array(seq)]`, which will result either in an error or a different result.\n",
      "  res = super(memmap, self).__getitem__(index)\n",
      "/n/coxfs01/2p-pipeline/envs/caiman/lib/python3.7/site-packages/numpy/core/memmap.py:331: FutureWarning: Using a non-tuple sequence for multidimensional indexing is deprecated; use `arr[tuple(seq)]` instead of `arr[seq]`. In the future this will be interpreted as an array index, `arr[np.array(seq)]`, which will result either in an error or a different result.\n",
      "  res = super(memmap, self).__getitem__(index)\n",
      "/n/coxfs01/2p-pipeline/envs/caiman/lib/python3.7/site-packages/numpy/core/memmap.py:331: FutureWarning: Using a non-tuple sequence for multidimensional indexing is deprecated; use `arr[tuple(seq)]` instead of `arr[seq]`. In the future this will be interpreted as an array index, `arr[np.array(seq)]`, which will result either in an error or a different result.\n",
      "  res = super(memmap, self).__getitem__(index)\n",
      "/n/coxfs01/2p-pipeline/envs/caiman/lib/python3.7/site-packages/numpy/core/memmap.py:331: FutureWarning: Using a non-tuple sequence for multidimensional indexing is deprecated; use `arr[tuple(seq)]` instead of `arr[seq]`. In the future this will be interpreted as an array index, `arr[np.array(seq)]`, which will result either in an error or a different result.\n",
      "  res = super(memmap, self).__getitem__(index)\n",
      "/n/coxfs01/2p-pipeline/envs/caiman/lib/python3.7/site-packages/numpy/core/memmap.py:331: FutureWarning: Using a non-tuple sequence for multidimensional indexing is deprecated; use `arr[tuple(seq)]` instead of `arr[seq]`. In the future this will be interpreted as an array index, `arr[np.array(seq)]`, which will result either in an error or a different result.\n",
      "  res = super(memmap, self).__getitem__(index)\n",
      "/n/coxfs01/2p-pipeline/envs/caiman/lib/python3.7/site-packages/numpy/core/memmap.py:331: FutureWarning: Using a non-tuple sequence for multidimensional indexing is deprecated; use `arr[tuple(seq)]` instead of `arr[seq]`. In the future this will be interpreted as an array index, `arr[np.array(seq)]`, which will result either in an error or a different result.\n",
      "  res = super(memmap, self).__getitem__(index)\n",
      "/n/coxfs01/2p-pipeline/envs/caiman/lib/python3.7/site-packages/numpy/core/memmap.py:331: FutureWarning: Using a non-tuple sequence for multidimensional indexing is deprecated; use `arr[tuple(seq)]` instead of `arr[seq]`. In the future this will be interpreted as an array index, `arr[np.array(seq)]`, which will result either in an error or a different result.\n",
      "  res = super(memmap, self).__getitem__(index)\n",
      "/n/coxfs01/2p-pipeline/envs/caiman/lib/python3.7/site-packages/numpy/core/memmap.py:331: FutureWarning: Using a non-tuple sequence for multidimensional indexing is deprecated; use `arr[tuple(seq)]` instead of `arr[seq]`. In the future this will be interpreted as an array index, `arr[np.array(seq)]`, which will result either in an error or a different result.\n",
      "  res = super(memmap, self).__getitem__(index)\n",
      "/n/coxfs01/2p-pipeline/envs/caiman/lib/python3.7/site-packages/numpy/core/memmap.py:331: FutureWarning: Using a non-tuple sequence for multidimensional indexing is deprecated; use `arr[tuple(seq)]` instead of `arr[seq]`. In the future this will be interpreted as an array index, `arr[np.array(seq)]`, which will result either in an error or a different result.\n",
      "  res = super(memmap, self).__getitem__(index)\n",
      "/n/coxfs01/2p-pipeline/envs/caiman/lib/python3.7/site-packages/numpy/core/memmap.py:331: FutureWarning: Using a non-tuple sequence for multidimensional indexing is deprecated; use `arr[tuple(seq)]` instead of `arr[seq]`. In the future this will be interpreted as an array index, `arr[np.array(seq)]`, which will result either in an error or a different result.\n",
      "  res = super(memmap, self).__getitem__(index)\n",
      "/n/coxfs01/2p-pipeline/envs/caiman/lib/python3.7/site-packages/numpy/core/memmap.py:331: FutureWarning: Using a non-tuple sequence for multidimensional indexing is deprecated; use `arr[tuple(seq)]` instead of `arr[seq]`. In the future this will be interpreted as an array index, `arr[np.array(seq)]`, which will result either in an error or a different result.\n",
      "  res = super(memmap, self).__getitem__(index)\n",
      "/n/coxfs01/2p-pipeline/envs/caiman/lib/python3.7/site-packages/numpy/core/memmap.py:331: FutureWarning: Using a non-tuple sequence for multidimensional indexing is deprecated; use `arr[tuple(seq)]` instead of `arr[seq]`. In the future this will be interpreted as an array index, `arr[np.array(seq)]`, which will result either in an error or a different result.\n",
      "  res = super(memmap, self).__getitem__(index)\n",
      "/n/coxfs01/2p-pipeline/envs/caiman/lib/python3.7/site-packages/numpy/core/memmap.py:331: FutureWarning: Using a non-tuple sequence for multidimensional indexing is deprecated; use `arr[tuple(seq)]` instead of `arr[seq]`. In the future this will be interpreted as an array index, `arr[np.array(seq)]`, which will result either in an error or a different result.\n",
      "  res = super(memmap, self).__getitem__(index)\n",
      "/n/coxfs01/2p-pipeline/envs/caiman/lib/python3.7/site-packages/numpy/core/memmap.py:331: FutureWarning: Using a non-tuple sequence for multidimensional indexing is deprecated; use `arr[tuple(seq)]` instead of `arr[seq]`. In the future this will be interpreted as an array index, `arr[np.array(seq)]`, which will result either in an error or a different result.\n",
      "  res = super(memmap, self).__getitem__(index)\n",
      "/n/coxfs01/2p-pipeline/envs/caiman/lib/python3.7/site-packages/numpy/core/memmap.py:331: FutureWarning: Using a non-tuple sequence for multidimensional indexing is deprecated; use `arr[tuple(seq)]` instead of `arr[seq]`. In the future this will be interpreted as an array index, `arr[np.array(seq)]`, which will result either in an error or a different result.\n",
      "  res = super(memmap, self).__getitem__(index)\n",
      "/n/coxfs01/2p-pipeline/envs/caiman/lib/python3.7/site-packages/numpy/core/memmap.py:331: FutureWarning: Using a non-tuple sequence for multidimensional indexing is deprecated; use `arr[tuple(seq)]` instead of `arr[seq]`. In the future this will be interpreted as an array index, `arr[np.array(seq)]`, which will result either in an error or a different result.\n",
      "  res = super(memmap, self).__getitem__(index)\n",
      "/n/coxfs01/2p-pipeline/envs/caiman/lib/python3.7/site-packages/numpy/core/memmap.py:331: FutureWarning: Using a non-tuple sequence for multidimensional indexing is deprecated; use `arr[tuple(seq)]` instead of `arr[seq]`. In the future this will be interpreted as an array index, `arr[np.array(seq)]`, which will result either in an error or a different result.\n",
      "  res = super(memmap, self).__getitem__(index)\n",
      "/n/coxfs01/2p-pipeline/envs/caiman/lib/python3.7/site-packages/numpy/core/memmap.py:331: FutureWarning: Using a non-tuple sequence for multidimensional indexing is deprecated; use `arr[tuple(seq)]` instead of `arr[seq]`. In the future this will be interpreted as an array index, `arr[np.array(seq)]`, which will result either in an error or a different result.\n",
      "  res = super(memmap, self).__getitem__(index)\n",
      "/n/coxfs01/2p-pipeline/envs/caiman/lib/python3.7/site-packages/numpy/core/memmap.py:331: FutureWarning: Using a non-tuple sequence for multidimensional indexing is deprecated; use `arr[tuple(seq)]` instead of `arr[seq]`. In the future this will be interpreted as an array index, `arr[np.array(seq)]`, which will result either in an error or a different result.\n",
      "  res = super(memmap, self).__getitem__(index)\n",
      "/n/coxfs01/2p-pipeline/envs/caiman/lib/python3.7/site-packages/numpy/core/memmap.py:331: FutureWarning: Using a non-tuple sequence for multidimensional indexing is deprecated; use `arr[tuple(seq)]` instead of `arr[seq]`. In the future this will be interpreted as an array index, `arr[np.array(seq)]`, which will result either in an error or a different result.\n",
      "  res = super(memmap, self).__getitem__(index)\n"
     ]
    },
    {
     "name": "stderr",
     "output_type": "stream",
     "text": [
      "/n/coxfs01/2p-pipeline/envs/caiman/lib/python3.7/site-packages/numpy/core/memmap.py:331: FutureWarning: Using a non-tuple sequence for multidimensional indexing is deprecated; use `arr[tuple(seq)]` instead of `arr[seq]`. In the future this will be interpreted as an array index, `arr[np.array(seq)]`, which will result either in an error or a different result.\n",
      "  res = super(memmap, self).__getitem__(index)\n",
      "/n/coxfs01/2p-pipeline/envs/caiman/lib/python3.7/site-packages/numpy/core/memmap.py:331: FutureWarning: Using a non-tuple sequence for multidimensional indexing is deprecated; use `arr[tuple(seq)]` instead of `arr[seq]`. In the future this will be interpreted as an array index, `arr[np.array(seq)]`, which will result either in an error or a different result.\n",
      "  res = super(memmap, self).__getitem__(index)\n",
      "/n/coxfs01/2p-pipeline/envs/caiman/lib/python3.7/site-packages/numpy/core/memmap.py:331: FutureWarning: Using a non-tuple sequence for multidimensional indexing is deprecated; use `arr[tuple(seq)]` instead of `arr[seq]`. In the future this will be interpreted as an array index, `arr[np.array(seq)]`, which will result either in an error or a different result.\n",
      "  res = super(memmap, self).__getitem__(index)\n",
      "/n/coxfs01/2p-pipeline/envs/caiman/lib/python3.7/site-packages/numpy/core/memmap.py:331: FutureWarning: Using a non-tuple sequence for multidimensional indexing is deprecated; use `arr[tuple(seq)]` instead of `arr[seq]`. In the future this will be interpreted as an array index, `arr[np.array(seq)]`, which will result either in an error or a different result.\n",
      "  res = super(memmap, self).__getitem__(index)\n",
      "/n/coxfs01/2p-pipeline/envs/caiman/lib/python3.7/site-packages/numpy/core/memmap.py:331: FutureWarning: Using a non-tuple sequence for multidimensional indexing is deprecated; use `arr[tuple(seq)]` instead of `arr[seq]`. In the future this will be interpreted as an array index, `arr[np.array(seq)]`, which will result either in an error or a different result.\n",
      "  res = super(memmap, self).__getitem__(index)\n",
      "/n/coxfs01/2p-pipeline/envs/caiman/lib/python3.7/site-packages/numpy/core/memmap.py:331: FutureWarning: Using a non-tuple sequence for multidimensional indexing is deprecated; use `arr[tuple(seq)]` instead of `arr[seq]`. In the future this will be interpreted as an array index, `arr[np.array(seq)]`, which will result either in an error or a different result.\n",
      "  res = super(memmap, self).__getitem__(index)\n",
      "/n/coxfs01/2p-pipeline/envs/caiman/lib/python3.7/site-packages/numpy/core/memmap.py:331: FutureWarning: Using a non-tuple sequence for multidimensional indexing is deprecated; use `arr[tuple(seq)]` instead of `arr[seq]`. In the future this will be interpreted as an array index, `arr[np.array(seq)]`, which will result either in an error or a different result.\n",
      "  res = super(memmap, self).__getitem__(index)\n",
      "/n/coxfs01/2p-pipeline/envs/caiman/lib/python3.7/site-packages/numpy/core/memmap.py:331: FutureWarning: Using a non-tuple sequence for multidimensional indexing is deprecated; use `arr[tuple(seq)]` instead of `arr[seq]`. In the future this will be interpreted as an array index, `arr[np.array(seq)]`, which will result either in an error or a different result.\n",
      "  res = super(memmap, self).__getitem__(index)\n",
      "WARNING:root:Changing key n_processes in group patch from 8 to 1\n",
      "WARNING:root:Changing key rf in group patch from 25 to None\n",
      "WARNING:root:Changing key stride in group patch from 12 to None\n",
      "WARNING:root:Changing key nb in group init from 2 to 1\n",
      "WARNING:root:Changing key nb in group temporal from 2 to 1\n",
      "WARNING:root:Changing key nb in group spatial from 2 to 1\n",
      "/n/coxfs01/2p-pipeline/envs/caiman/lib/python3.7/site-packages/numpy/core/memmap.py:331: FutureWarning: Using a non-tuple sequence for multidimensional indexing is deprecated; use `arr[tuple(seq)]` instead of `arr[seq]`. In the future this will be interpreted as an array index, `arr[np.array(seq)]`, which will result either in an error or a different result.\n",
      "  res = super(memmap, self).__getitem__(index)\n",
      "/n/coxfs01/2p-pipeline/envs/caiman/lib/python3.7/site-packages/numpy/core/memmap.py:331: FutureWarning: Using a non-tuple sequence for multidimensional indexing is deprecated; use `arr[tuple(seq)]` instead of `arr[seq]`. In the future this will be interpreted as an array index, `arr[np.array(seq)]`, which will result either in an error or a different result.\n",
      "  res = super(memmap, self).__getitem__(index)\n",
      "/n/coxfs01/2p-pipeline/envs/caiman/lib/python3.7/site-packages/numpy/core/memmap.py:331: FutureWarning: Using a non-tuple sequence for multidimensional indexing is deprecated; use `arr[tuple(seq)]` instead of `arr[seq]`. In the future this will be interpreted as an array index, `arr[np.array(seq)]`, which will result either in an error or a different result.\n",
      "  res = super(memmap, self).__getitem__(index)\n",
      "WARNING:root:Changing key n_processes in group patch from 8 to 1\n",
      "WARNING:root:Changing key rf in group patch from 25 to None\n",
      "WARNING:root:Changing key stride in group patch from 12 to None\n",
      "WARNING:root:Changing key nb in group init from 2 to 1\n",
      "WARNING:root:Changing key nb in group temporal from 2 to 1\n",
      "WARNING:root:Changing key nb in group spatial from 2 to 1\n",
      "/n/coxfs01/2p-pipeline/envs/caiman/lib/python3.7/site-packages/numpy/core/memmap.py:331: FutureWarning: Using a non-tuple sequence for multidimensional indexing is deprecated; use `arr[tuple(seq)]` instead of `arr[seq]`. In the future this will be interpreted as an array index, `arr[np.array(seq)]`, which will result either in an error or a different result.\n",
      "  res = super(memmap, self).__getitem__(index)\n",
      "/n/coxfs01/2p-pipeline/envs/caiman/lib/python3.7/site-packages/numpy/core/memmap.py:331: FutureWarning: Using a non-tuple sequence for multidimensional indexing is deprecated; use `arr[tuple(seq)]` instead of `arr[seq]`. In the future this will be interpreted as an array index, `arr[np.array(seq)]`, which will result either in an error or a different result.\n",
      "  res = super(memmap, self).__getitem__(index)\n",
      "/n/coxfs01/2p-pipeline/envs/caiman/lib/python3.7/site-packages/numpy/core/memmap.py:331: FutureWarning: Using a non-tuple sequence for multidimensional indexing is deprecated; use `arr[tuple(seq)]` instead of `arr[seq]`. In the future this will be interpreted as an array index, `arr[np.array(seq)]`, which will result either in an error or a different result.\n",
      "  res = super(memmap, self).__getitem__(index)\n",
      "/n/coxfs01/2p-pipeline/envs/caiman/lib/python3.7/site-packages/numpy/core/memmap.py:331: FutureWarning: Using a non-tuple sequence for multidimensional indexing is deprecated; use `arr[tuple(seq)]` instead of `arr[seq]`. In the future this will be interpreted as an array index, `arr[np.array(seq)]`, which will result either in an error or a different result.\n",
      "  res = super(memmap, self).__getitem__(index)\n",
      "/n/coxfs01/2p-pipeline/envs/caiman/lib/python3.7/site-packages/numpy/core/memmap.py:331: FutureWarning: Using a non-tuple sequence for multidimensional indexing is deprecated; use `arr[tuple(seq)]` instead of `arr[seq]`. In the future this will be interpreted as an array index, `arr[np.array(seq)]`, which will result either in an error or a different result.\n",
      "  res = super(memmap, self).__getitem__(index)\n",
      "/n/coxfs01/2p-pipeline/envs/caiman/lib/python3.7/site-packages/numpy/core/memmap.py:331: FutureWarning: Using a non-tuple sequence for multidimensional indexing is deprecated; use `arr[tuple(seq)]` instead of `arr[seq]`. In the future this will be interpreted as an array index, `arr[np.array(seq)]`, which will result either in an error or a different result.\n",
      "  res = super(memmap, self).__getitem__(index)\n",
      "/n/coxfs01/2p-pipeline/envs/caiman/lib/python3.7/site-packages/numpy/core/memmap.py:331: FutureWarning: Using a non-tuple sequence for multidimensional indexing is deprecated; use `arr[tuple(seq)]` instead of `arr[seq]`. In the future this will be interpreted as an array index, `arr[np.array(seq)]`, which will result either in an error or a different result.\n",
      "  res = super(memmap, self).__getitem__(index)\n",
      "/n/coxfs01/2p-pipeline/envs/caiman/lib/python3.7/site-packages/numpy/core/memmap.py:331: FutureWarning: Using a non-tuple sequence for multidimensional indexing is deprecated; use `arr[tuple(seq)]` instead of `arr[seq]`. In the future this will be interpreted as an array index, `arr[np.array(seq)]`, which will result either in an error or a different result.\n",
      "  res = super(memmap, self).__getitem__(index)\n"
     ]
    },
    {
     "name": "stderr",
     "output_type": "stream",
     "text": [
      "/n/coxfs01/2p-pipeline/envs/caiman/lib/python3.7/site-packages/numpy/core/memmap.py:331: FutureWarning: Using a non-tuple sequence for multidimensional indexing is deprecated; use `arr[tuple(seq)]` instead of `arr[seq]`. In the future this will be interpreted as an array index, `arr[np.array(seq)]`, which will result either in an error or a different result.\n",
      "  res = super(memmap, self).__getitem__(index)\n",
      "/n/coxfs01/2p-pipeline/envs/caiman/lib/python3.7/site-packages/numpy/core/memmap.py:331: FutureWarning: Using a non-tuple sequence for multidimensional indexing is deprecated; use `arr[tuple(seq)]` instead of `arr[seq]`. In the future this will be interpreted as an array index, `arr[np.array(seq)]`, which will result either in an error or a different result.\n",
      "  res = super(memmap, self).__getitem__(index)\n",
      "/n/coxfs01/2p-pipeline/envs/caiman/lib/python3.7/site-packages/numpy/core/memmap.py:331: FutureWarning: Using a non-tuple sequence for multidimensional indexing is deprecated; use `arr[tuple(seq)]` instead of `arr[seq]`. In the future this will be interpreted as an array index, `arr[np.array(seq)]`, which will result either in an error or a different result.\n",
      "  res = super(memmap, self).__getitem__(index)\n",
      "/n/coxfs01/2p-pipeline/envs/caiman/lib/python3.7/site-packages/numpy/core/memmap.py:331: FutureWarning: Using a non-tuple sequence for multidimensional indexing is deprecated; use `arr[tuple(seq)]` instead of `arr[seq]`. In the future this will be interpreted as an array index, `arr[np.array(seq)]`, which will result either in an error or a different result.\n",
      "  res = super(memmap, self).__getitem__(index)\n",
      "/n/coxfs01/2p-pipeline/envs/caiman/lib/python3.7/site-packages/numpy/core/memmap.py:331: FutureWarning: Using a non-tuple sequence for multidimensional indexing is deprecated; use `arr[tuple(seq)]` instead of `arr[seq]`. In the future this will be interpreted as an array index, `arr[np.array(seq)]`, which will result either in an error or a different result.\n",
      "  res = super(memmap, self).__getitem__(index)\n",
      "/n/coxfs01/2p-pipeline/envs/caiman/lib/python3.7/site-packages/numpy/core/memmap.py:331: FutureWarning: Using a non-tuple sequence for multidimensional indexing is deprecated; use `arr[tuple(seq)]` instead of `arr[seq]`. In the future this will be interpreted as an array index, `arr[np.array(seq)]`, which will result either in an error or a different result.\n",
      "  res = super(memmap, self).__getitem__(index)\n",
      "/n/coxfs01/2p-pipeline/envs/caiman/lib/python3.7/site-packages/numpy/core/memmap.py:331: FutureWarning: Using a non-tuple sequence for multidimensional indexing is deprecated; use `arr[tuple(seq)]` instead of `arr[seq]`. In the future this will be interpreted as an array index, `arr[np.array(seq)]`, which will result either in an error or a different result.\n",
      "  res = super(memmap, self).__getitem__(index)\n",
      "/n/coxfs01/2p-pipeline/envs/caiman/lib/python3.7/site-packages/numpy/core/memmap.py:331: FutureWarning: Using a non-tuple sequence for multidimensional indexing is deprecated; use `arr[tuple(seq)]` instead of `arr[seq]`. In the future this will be interpreted as an array index, `arr[np.array(seq)]`, which will result either in an error or a different result.\n",
      "  res = super(memmap, self).__getitem__(index)\n",
      "/n/coxfs01/2p-pipeline/envs/caiman/lib/python3.7/site-packages/numpy/core/memmap.py:331: FutureWarning: Using a non-tuple sequence for multidimensional indexing is deprecated; use `arr[tuple(seq)]` instead of `arr[seq]`. In the future this will be interpreted as an array index, `arr[np.array(seq)]`, which will result either in an error or a different result.\n",
      "  res = super(memmap, self).__getitem__(index)\n",
      "/n/coxfs01/2p-pipeline/envs/caiman/lib/python3.7/site-packages/numpy/core/memmap.py:331: FutureWarning: Using a non-tuple sequence for multidimensional indexing is deprecated; use `arr[tuple(seq)]` instead of `arr[seq]`. In the future this will be interpreted as an array index, `arr[np.array(seq)]`, which will result either in an error or a different result.\n",
      "  res = super(memmap, self).__getitem__(index)\n",
      "/n/coxfs01/2p-pipeline/envs/caiman/lib/python3.7/site-packages/numpy/core/memmap.py:331: FutureWarning: Using a non-tuple sequence for multidimensional indexing is deprecated; use `arr[tuple(seq)]` instead of `arr[seq]`. In the future this will be interpreted as an array index, `arr[np.array(seq)]`, which will result either in an error or a different result.\n",
      "  res = super(memmap, self).__getitem__(index)\n",
      "/n/coxfs01/2p-pipeline/envs/caiman/lib/python3.7/site-packages/numpy/core/memmap.py:331: FutureWarning: Using a non-tuple sequence for multidimensional indexing is deprecated; use `arr[tuple(seq)]` instead of `arr[seq]`. In the future this will be interpreted as an array index, `arr[np.array(seq)]`, which will result either in an error or a different result.\n",
      "  res = super(memmap, self).__getitem__(index)\n",
      "/n/coxfs01/2p-pipeline/envs/caiman/lib/python3.7/site-packages/numpy/core/memmap.py:331: FutureWarning: Using a non-tuple sequence for multidimensional indexing is deprecated; use `arr[tuple(seq)]` instead of `arr[seq]`. In the future this will be interpreted as an array index, `arr[np.array(seq)]`, which will result either in an error or a different result.\n",
      "  res = super(memmap, self).__getitem__(index)\n",
      "WARNING:root:Changing key n_processes in group patch from 8 to 1\n",
      "WARNING:root:Changing key rf in group patch from 25 to None\n",
      "WARNING:root:Changing key stride in group patch from 12 to None\n",
      "WARNING:root:Changing key nb in group init from 2 to 1\n",
      "WARNING:root:Changing key nb in group temporal from 2 to 1\n",
      "WARNING:root:Changing key nb in group spatial from 2 to 1\n",
      "WARNING:root:Changing key n_processes in group patch from 8 to 1\n",
      "WARNING:root:Changing key rf in group patch from 25 to None\n",
      "WARNING:root:Changing key stride in group patch from 12 to None\n",
      "WARNING:root:Changing key nb in group init from 2 to 1\n",
      "WARNING:root:Changing key nb in group temporal from 2 to 1\n",
      "WARNING:root:Changing key nb in group spatial from 2 to 1\n",
      "/n/coxfs01/2p-pipeline/envs/caiman/lib/python3.7/site-packages/numpy/core/memmap.py:331: FutureWarning: Using a non-tuple sequence for multidimensional indexing is deprecated; use `arr[tuple(seq)]` instead of `arr[seq]`. In the future this will be interpreted as an array index, `arr[np.array(seq)]`, which will result either in an error or a different result.\n",
      "  res = super(memmap, self).__getitem__(index)\n",
      "WARNING:root:Changing key n_processes in group patch from 8 to 1\n",
      "WARNING:root:Changing key rf in group patch from 25 to None\n",
      "WARNING:root:Changing key stride in group patch from 12 to None\n",
      "WARNING:root:Changing key nb in group init from 2 to 1\n",
      "WARNING:root:Changing key nb in group temporal from 2 to 1\n",
      "WARNING:root:Changing key nb in group spatial from 2 to 1\n",
      "/n/coxfs01/2p-pipeline/envs/caiman/lib/python3.7/site-packages/numpy/core/memmap.py:331: FutureWarning: Using a non-tuple sequence for multidimensional indexing is deprecated; use `arr[tuple(seq)]` instead of `arr[seq]`. In the future this will be interpreted as an array index, `arr[np.array(seq)]`, which will result either in an error or a different result.\n",
      "  res = super(memmap, self).__getitem__(index)\n",
      "/n/coxfs01/2p-pipeline/envs/caiman/lib/python3.7/site-packages/numpy/core/memmap.py:331: FutureWarning: Using a non-tuple sequence for multidimensional indexing is deprecated; use `arr[tuple(seq)]` instead of `arr[seq]`. In the future this will be interpreted as an array index, `arr[np.array(seq)]`, which will result either in an error or a different result.\n",
      "  res = super(memmap, self).__getitem__(index)\n",
      "WARNING:root:Changing key n_processes in group patch from 8 to 1\n",
      "WARNING:root:Changing key rf in group patch from 25 to None\n",
      "WARNING:root:Changing key stride in group patch from 12 to None\n",
      "WARNING:root:Changing key nb in group init from 2 to 1\n",
      "WARNING:root:Changing key nb in group temporal from 2 to 1\n",
      "WARNING:root:Changing key nb in group spatial from 2 to 1\n",
      "/n/coxfs01/2p-pipeline/envs/caiman/lib/python3.7/site-packages/numpy/core/memmap.py:331: FutureWarning: Using a non-tuple sequence for multidimensional indexing is deprecated; use `arr[tuple(seq)]` instead of `arr[seq]`. In the future this will be interpreted as an array index, `arr[np.array(seq)]`, which will result either in an error or a different result.\n",
      "  res = super(memmap, self).__getitem__(index)\n"
     ]
    },
    {
     "name": "stderr",
     "output_type": "stream",
     "text": [
      "WARNING:root:Changing key n_processes in group patch from 8 to 1\n",
      "WARNING:root:Changing key rf in group patch from 25 to None\n",
      "WARNING:root:Changing key stride in group patch from 12 to None\n",
      "WARNING:root:Changing key nb in group init from 2 to 1\n",
      "WARNING:root:Changing key nb in group temporal from 2 to 1\n",
      "WARNING:root:Changing key nb in group spatial from 2 to 1\n",
      "WARNING:root:Changing key n_processes in group patch from 8 to 1\n",
      "WARNING:root:Changing key rf in group patch from 25 to None\n",
      "WARNING:root:Changing key stride in group patch from 12 to None\n",
      "WARNING:root:Changing key nb in group init from 2 to 1\n",
      "WARNING:root:Changing key nb in group temporal from 2 to 1\n",
      "WARNING:root:Changing key nb in group spatial from 2 to 1\n",
      "/n/coxfs01/2p-pipeline/envs/caiman/lib/python3.7/site-packages/numpy/core/memmap.py:331: FutureWarning: Using a non-tuple sequence for multidimensional indexing is deprecated; use `arr[tuple(seq)]` instead of `arr[seq]`. In the future this will be interpreted as an array index, `arr[np.array(seq)]`, which will result either in an error or a different result.\n",
      "  res = super(memmap, self).__getitem__(index)\n",
      "/n/coxfs01/2p-pipeline/envs/caiman/lib/python3.7/site-packages/numpy/core/memmap.py:331: FutureWarning: Using a non-tuple sequence for multidimensional indexing is deprecated; use `arr[tuple(seq)]` instead of `arr[seq]`. In the future this will be interpreted as an array index, `arr[np.array(seq)]`, which will result either in an error or a different result.\n",
      "  res = super(memmap, self).__getitem__(index)\n",
      "/n/coxfs01/2p-pipeline/envs/caiman/lib/python3.7/site-packages/numpy/core/memmap.py:331: FutureWarning: Using a non-tuple sequence for multidimensional indexing is deprecated; use `arr[tuple(seq)]` instead of `arr[seq]`. In the future this will be interpreted as an array index, `arr[np.array(seq)]`, which will result either in an error or a different result.\n",
      "  res = super(memmap, self).__getitem__(index)\n",
      "/n/coxfs01/2p-pipeline/envs/caiman/lib/python3.7/site-packages/numpy/core/memmap.py:331: FutureWarning: Using a non-tuple sequence for multidimensional indexing is deprecated; use `arr[tuple(seq)]` instead of `arr[seq]`. In the future this will be interpreted as an array index, `arr[np.array(seq)]`, which will result either in an error or a different result.\n",
      "  res = super(memmap, self).__getitem__(index)\n",
      "/n/coxfs01/2p-pipeline/envs/caiman/lib/python3.7/site-packages/numpy/core/memmap.py:331: FutureWarning: Using a non-tuple sequence for multidimensional indexing is deprecated; use `arr[tuple(seq)]` instead of `arr[seq]`. In the future this will be interpreted as an array index, `arr[np.array(seq)]`, which will result either in an error or a different result.\n",
      "  res = super(memmap, self).__getitem__(index)\n",
      "/n/coxfs01/2p-pipeline/envs/caiman/lib/python3.7/site-packages/numpy/core/memmap.py:331: FutureWarning: Using a non-tuple sequence for multidimensional indexing is deprecated; use `arr[tuple(seq)]` instead of `arr[seq]`. In the future this will be interpreted as an array index, `arr[np.array(seq)]`, which will result either in an error or a different result.\n",
      "  res = super(memmap, self).__getitem__(index)\n",
      "/n/coxfs01/2p-pipeline/envs/caiman/lib/python3.7/site-packages/numpy/core/memmap.py:331: FutureWarning: Using a non-tuple sequence for multidimensional indexing is deprecated; use `arr[tuple(seq)]` instead of `arr[seq]`. In the future this will be interpreted as an array index, `arr[np.array(seq)]`, which will result either in an error or a different result.\n",
      "  res = super(memmap, self).__getitem__(index)\n",
      "/n/coxfs01/2p-pipeline/envs/caiman/lib/python3.7/site-packages/numpy/core/memmap.py:331: FutureWarning: Using a non-tuple sequence for multidimensional indexing is deprecated; use `arr[tuple(seq)]` instead of `arr[seq]`. In the future this will be interpreted as an array index, `arr[np.array(seq)]`, which will result either in an error or a different result.\n",
      "  res = super(memmap, self).__getitem__(index)\n",
      "/n/coxfs01/2p-pipeline/envs/caiman/lib/python3.7/site-packages/numpy/core/memmap.py:331: FutureWarning: Using a non-tuple sequence for multidimensional indexing is deprecated; use `arr[tuple(seq)]` instead of `arr[seq]`. In the future this will be interpreted as an array index, `arr[np.array(seq)]`, which will result either in an error or a different result.\n",
      "  res = super(memmap, self).__getitem__(index)\n",
      "/n/coxfs01/2p-pipeline/envs/caiman/lib/python3.7/site-packages/numpy/core/memmap.py:331: FutureWarning: Using a non-tuple sequence for multidimensional indexing is deprecated; use `arr[tuple(seq)]` instead of `arr[seq]`. In the future this will be interpreted as an array index, `arr[np.array(seq)]`, which will result either in an error or a different result.\n",
      "  res = super(memmap, self).__getitem__(index)\n",
      "/n/coxfs01/2p-pipeline/envs/caiman/lib/python3.7/site-packages/numpy/core/memmap.py:331: FutureWarning: Using a non-tuple sequence for multidimensional indexing is deprecated; use `arr[tuple(seq)]` instead of `arr[seq]`. In the future this will be interpreted as an array index, `arr[np.array(seq)]`, which will result either in an error or a different result.\n",
      "  res = super(memmap, self).__getitem__(index)\n",
      "/n/coxfs01/2p-pipeline/envs/caiman/lib/python3.7/site-packages/numpy/core/memmap.py:331: FutureWarning: Using a non-tuple sequence for multidimensional indexing is deprecated; use `arr[tuple(seq)]` instead of `arr[seq]`. In the future this will be interpreted as an array index, `arr[np.array(seq)]`, which will result either in an error or a different result.\n",
      "  res = super(memmap, self).__getitem__(index)\n",
      "/n/coxfs01/2p-pipeline/envs/caiman/lib/python3.7/site-packages/numpy/core/memmap.py:331: FutureWarning: Using a non-tuple sequence for multidimensional indexing is deprecated; use `arr[tuple(seq)]` instead of `arr[seq]`. In the future this will be interpreted as an array index, `arr[np.array(seq)]`, which will result either in an error or a different result.\n",
      "  res = super(memmap, self).__getitem__(index)\n",
      "/n/coxfs01/2p-pipeline/envs/caiman/lib/python3.7/site-packages/numpy/core/memmap.py:331: FutureWarning: Using a non-tuple sequence for multidimensional indexing is deprecated; use `arr[tuple(seq)]` instead of `arr[seq]`. In the future this will be interpreted as an array index, `arr[np.array(seq)]`, which will result either in an error or a different result.\n",
      "  res = super(memmap, self).__getitem__(index)\n",
      "/n/coxfs01/2p-pipeline/envs/caiman/lib/python3.7/site-packages/numpy/core/memmap.py:331: FutureWarning: Using a non-tuple sequence for multidimensional indexing is deprecated; use `arr[tuple(seq)]` instead of `arr[seq]`. In the future this will be interpreted as an array index, `arr[np.array(seq)]`, which will result either in an error or a different result.\n",
      "  res = super(memmap, self).__getitem__(index)\n",
      "/n/coxfs01/2p-pipeline/envs/caiman/lib/python3.7/site-packages/numpy/core/memmap.py:331: FutureWarning: Using a non-tuple sequence for multidimensional indexing is deprecated; use `arr[tuple(seq)]` instead of `arr[seq]`. In the future this will be interpreted as an array index, `arr[np.array(seq)]`, which will result either in an error or a different result.\n",
      "  res = super(memmap, self).__getitem__(index)\n",
      "/n/coxfs01/2p-pipeline/envs/caiman/lib/python3.7/site-packages/numpy/core/memmap.py:331: FutureWarning: Using a non-tuple sequence for multidimensional indexing is deprecated; use `arr[tuple(seq)]` instead of `arr[seq]`. In the future this will be interpreted as an array index, `arr[np.array(seq)]`, which will result either in an error or a different result.\n",
      "  res = super(memmap, self).__getitem__(index)\n",
      "/n/coxfs01/2p-pipeline/envs/caiman/lib/python3.7/site-packages/numpy/core/memmap.py:331: FutureWarning: Using a non-tuple sequence for multidimensional indexing is deprecated; use `arr[tuple(seq)]` instead of `arr[seq]`. In the future this will be interpreted as an array index, `arr[np.array(seq)]`, which will result either in an error or a different result.\n",
      "  res = super(memmap, self).__getitem__(index)\n",
      "/n/coxfs01/2p-pipeline/envs/caiman/lib/python3.7/site-packages/numpy/core/memmap.py:331: FutureWarning: Using a non-tuple sequence for multidimensional indexing is deprecated; use `arr[tuple(seq)]` instead of `arr[seq]`. In the future this will be interpreted as an array index, `arr[np.array(seq)]`, which will result either in an error or a different result.\n",
      "  res = super(memmap, self).__getitem__(index)\n"
     ]
    },
    {
     "name": "stderr",
     "output_type": "stream",
     "text": [
      "/n/coxfs01/2p-pipeline/envs/caiman/lib/python3.7/site-packages/numpy/core/memmap.py:331: FutureWarning: Using a non-tuple sequence for multidimensional indexing is deprecated; use `arr[tuple(seq)]` instead of `arr[seq]`. In the future this will be interpreted as an array index, `arr[np.array(seq)]`, which will result either in an error or a different result.\n",
      "  res = super(memmap, self).__getitem__(index)\n",
      "/n/coxfs01/2p-pipeline/envs/caiman/lib/python3.7/site-packages/numpy/core/memmap.py:331: FutureWarning: Using a non-tuple sequence for multidimensional indexing is deprecated; use `arr[tuple(seq)]` instead of `arr[seq]`. In the future this will be interpreted as an array index, `arr[np.array(seq)]`, which will result either in an error or a different result.\n",
      "  res = super(memmap, self).__getitem__(index)\n",
      "/n/coxfs01/2p-pipeline/envs/caiman/lib/python3.7/site-packages/numpy/core/memmap.py:331: FutureWarning: Using a non-tuple sequence for multidimensional indexing is deprecated; use `arr[tuple(seq)]` instead of `arr[seq]`. In the future this will be interpreted as an array index, `arr[np.array(seq)]`, which will result either in an error or a different result.\n",
      "  res = super(memmap, self).__getitem__(index)\n",
      "/n/coxfs01/2p-pipeline/envs/caiman/lib/python3.7/site-packages/numpy/core/memmap.py:331: FutureWarning: Using a non-tuple sequence for multidimensional indexing is deprecated; use `arr[tuple(seq)]` instead of `arr[seq]`. In the future this will be interpreted as an array index, `arr[np.array(seq)]`, which will result either in an error or a different result.\n",
      "  res = super(memmap, self).__getitem__(index)\n",
      "/n/coxfs01/2p-pipeline/envs/caiman/lib/python3.7/site-packages/numpy/core/memmap.py:331: FutureWarning: Using a non-tuple sequence for multidimensional indexing is deprecated; use `arr[tuple(seq)]` instead of `arr[seq]`. In the future this will be interpreted as an array index, `arr[np.array(seq)]`, which will result either in an error or a different result.\n",
      "  res = super(memmap, self).__getitem__(index)\n",
      "/n/coxfs01/2p-pipeline/envs/caiman/lib/python3.7/site-packages/numpy/core/memmap.py:331: FutureWarning: Using a non-tuple sequence for multidimensional indexing is deprecated; use `arr[tuple(seq)]` instead of `arr[seq]`. In the future this will be interpreted as an array index, `arr[np.array(seq)]`, which will result either in an error or a different result.\n",
      "  res = super(memmap, self).__getitem__(index)\n",
      "/n/coxfs01/2p-pipeline/envs/caiman/lib/python3.7/site-packages/numpy/core/memmap.py:331: FutureWarning: Using a non-tuple sequence for multidimensional indexing is deprecated; use `arr[tuple(seq)]` instead of `arr[seq]`. In the future this will be interpreted as an array index, `arr[np.array(seq)]`, which will result either in an error or a different result.\n",
      "  res = super(memmap, self).__getitem__(index)\n",
      "/n/coxfs01/2p-pipeline/envs/caiman/lib/python3.7/site-packages/numpy/core/memmap.py:331: FutureWarning: Using a non-tuple sequence for multidimensional indexing is deprecated; use `arr[tuple(seq)]` instead of `arr[seq]`. In the future this will be interpreted as an array index, `arr[np.array(seq)]`, which will result either in an error or a different result.\n",
      "  res = super(memmap, self).__getitem__(index)\n",
      "/n/coxfs01/2p-pipeline/envs/caiman/lib/python3.7/site-packages/numpy/core/memmap.py:331: FutureWarning: Using a non-tuple sequence for multidimensional indexing is deprecated; use `arr[tuple(seq)]` instead of `arr[seq]`. In the future this will be interpreted as an array index, `arr[np.array(seq)]`, which will result either in an error or a different result.\n",
      "  res = super(memmap, self).__getitem__(index)\n",
      "WARNING:root:Changing key n_processes in group patch from 8 to 1\n",
      "WARNING:root:Changing key rf in group patch from 25 to None\n",
      "WARNING:root:Changing key stride in group patch from 12 to None\n",
      "WARNING:root:Changing key nb in group init from 2 to 1\n",
      "WARNING:root:Changing key nb in group temporal from 2 to 1\n",
      "WARNING:root:Changing key nb in group spatial from 2 to 1\n",
      "/n/coxfs01/2p-pipeline/envs/caiman/lib/python3.7/site-packages/numpy/core/memmap.py:331: FutureWarning: Using a non-tuple sequence for multidimensional indexing is deprecated; use `arr[tuple(seq)]` instead of `arr[seq]`. In the future this will be interpreted as an array index, `arr[np.array(seq)]`, which will result either in an error or a different result.\n",
      "  res = super(memmap, self).__getitem__(index)\n",
      "/n/coxfs01/2p-pipeline/envs/caiman/lib/python3.7/site-packages/numpy/core/memmap.py:331: FutureWarning: Using a non-tuple sequence for multidimensional indexing is deprecated; use `arr[tuple(seq)]` instead of `arr[seq]`. In the future this will be interpreted as an array index, `arr[np.array(seq)]`, which will result either in an error or a different result.\n",
      "  res = super(memmap, self).__getitem__(index)\n",
      "/n/coxfs01/2p-pipeline/envs/caiman/lib/python3.7/site-packages/numpy/core/memmap.py:331: FutureWarning: Using a non-tuple sequence for multidimensional indexing is deprecated; use `arr[tuple(seq)]` instead of `arr[seq]`. In the future this will be interpreted as an array index, `arr[np.array(seq)]`, which will result either in an error or a different result.\n",
      "  res = super(memmap, self).__getitem__(index)\n",
      "/n/coxfs01/2p-pipeline/envs/caiman/lib/python3.7/site-packages/numpy/core/memmap.py:331: FutureWarning: Using a non-tuple sequence for multidimensional indexing is deprecated; use `arr[tuple(seq)]` instead of `arr[seq]`. In the future this will be interpreted as an array index, `arr[np.array(seq)]`, which will result either in an error or a different result.\n",
      "  res = super(memmap, self).__getitem__(index)\n",
      "/n/coxfs01/2p-pipeline/envs/caiman/lib/python3.7/site-packages/numpy/core/memmap.py:331: FutureWarning: Using a non-tuple sequence for multidimensional indexing is deprecated; use `arr[tuple(seq)]` instead of `arr[seq]`. In the future this will be interpreted as an array index, `arr[np.array(seq)]`, which will result either in an error or a different result.\n",
      "  res = super(memmap, self).__getitem__(index)\n",
      "WARNING:root:Changing key n_processes in group patch from 8 to 1\n",
      "WARNING:root:Changing key rf in group patch from 25 to None\n",
      "WARNING:root:Changing key stride in group patch from 12 to None\n",
      "WARNING:root:Changing key nb in group init from 2 to 1\n",
      "WARNING:root:Changing key nb in group temporal from 2 to 1\n",
      "WARNING:root:Changing key nb in group spatial from 2 to 1\n",
      "/n/coxfs01/2p-pipeline/envs/caiman/lib/python3.7/site-packages/numpy/core/memmap.py:331: FutureWarning: Using a non-tuple sequence for multidimensional indexing is deprecated; use `arr[tuple(seq)]` instead of `arr[seq]`. In the future this will be interpreted as an array index, `arr[np.array(seq)]`, which will result either in an error or a different result.\n",
      "  res = super(memmap, self).__getitem__(index)\n",
      "/n/coxfs01/2p-pipeline/envs/caiman/lib/python3.7/site-packages/numpy/core/memmap.py:331: FutureWarning: Using a non-tuple sequence for multidimensional indexing is deprecated; use `arr[tuple(seq)]` instead of `arr[seq]`. In the future this will be interpreted as an array index, `arr[np.array(seq)]`, which will result either in an error or a different result.\n",
      "  res = super(memmap, self).__getitem__(index)\n",
      "/n/coxfs01/2p-pipeline/envs/caiman/lib/python3.7/site-packages/numpy/core/memmap.py:331: FutureWarning: Using a non-tuple sequence for multidimensional indexing is deprecated; use `arr[tuple(seq)]` instead of `arr[seq]`. In the future this will be interpreted as an array index, `arr[np.array(seq)]`, which will result either in an error or a different result.\n",
      "  res = super(memmap, self).__getitem__(index)\n",
      "/n/coxfs01/2p-pipeline/envs/caiman/lib/python3.7/site-packages/numpy/core/memmap.py:331: FutureWarning: Using a non-tuple sequence for multidimensional indexing is deprecated; use `arr[tuple(seq)]` instead of `arr[seq]`. In the future this will be interpreted as an array index, `arr[np.array(seq)]`, which will result either in an error or a different result.\n",
      "  res = super(memmap, self).__getitem__(index)\n",
      "/n/coxfs01/2p-pipeline/envs/caiman/lib/python3.7/site-packages/numpy/core/memmap.py:331: FutureWarning: Using a non-tuple sequence for multidimensional indexing is deprecated; use `arr[tuple(seq)]` instead of `arr[seq]`. In the future this will be interpreted as an array index, `arr[np.array(seq)]`, which will result either in an error or a different result.\n",
      "  res = super(memmap, self).__getitem__(index)\n"
     ]
    },
    {
     "name": "stderr",
     "output_type": "stream",
     "text": [
      "/n/coxfs01/2p-pipeline/envs/caiman/lib/python3.7/site-packages/numpy/core/memmap.py:331: FutureWarning: Using a non-tuple sequence for multidimensional indexing is deprecated; use `arr[tuple(seq)]` instead of `arr[seq]`. In the future this will be interpreted as an array index, `arr[np.array(seq)]`, which will result either in an error or a different result.\n",
      "  res = super(memmap, self).__getitem__(index)\n",
      "/n/coxfs01/2p-pipeline/envs/caiman/lib/python3.7/site-packages/numpy/core/memmap.py:331: FutureWarning: Using a non-tuple sequence for multidimensional indexing is deprecated; use `arr[tuple(seq)]` instead of `arr[seq]`. In the future this will be interpreted as an array index, `arr[np.array(seq)]`, which will result either in an error or a different result.\n",
      "  res = super(memmap, self).__getitem__(index)\n",
      "/n/coxfs01/2p-pipeline/envs/caiman/lib/python3.7/site-packages/numpy/core/memmap.py:331: FutureWarning: Using a non-tuple sequence for multidimensional indexing is deprecated; use `arr[tuple(seq)]` instead of `arr[seq]`. In the future this will be interpreted as an array index, `arr[np.array(seq)]`, which will result either in an error or a different result.\n",
      "  res = super(memmap, self).__getitem__(index)\n",
      "/n/coxfs01/2p-pipeline/envs/caiman/lib/python3.7/site-packages/numpy/core/memmap.py:331: FutureWarning: Using a non-tuple sequence for multidimensional indexing is deprecated; use `arr[tuple(seq)]` instead of `arr[seq]`. In the future this will be interpreted as an array index, `arr[np.array(seq)]`, which will result either in an error or a different result.\n",
      "  res = super(memmap, self).__getitem__(index)\n",
      "/n/coxfs01/2p-pipeline/envs/caiman/lib/python3.7/site-packages/numpy/core/memmap.py:331: FutureWarning: Using a non-tuple sequence for multidimensional indexing is deprecated; use `arr[tuple(seq)]` instead of `arr[seq]`. In the future this will be interpreted as an array index, `arr[np.array(seq)]`, which will result either in an error or a different result.\n",
      "  res = super(memmap, self).__getitem__(index)\n",
      "/n/coxfs01/2p-pipeline/envs/caiman/lib/python3.7/site-packages/numpy/core/memmap.py:331: FutureWarning: Using a non-tuple sequence for multidimensional indexing is deprecated; use `arr[tuple(seq)]` instead of `arr[seq]`. In the future this will be interpreted as an array index, `arr[np.array(seq)]`, which will result either in an error or a different result.\n",
      "  res = super(memmap, self).__getitem__(index)\n",
      "/n/coxfs01/2p-pipeline/envs/caiman/lib/python3.7/site-packages/numpy/core/memmap.py:331: FutureWarning: Using a non-tuple sequence for multidimensional indexing is deprecated; use `arr[tuple(seq)]` instead of `arr[seq]`. In the future this will be interpreted as an array index, `arr[np.array(seq)]`, which will result either in an error or a different result.\n",
      "  res = super(memmap, self).__getitem__(index)\n",
      "/n/coxfs01/2p-pipeline/envs/caiman/lib/python3.7/site-packages/numpy/core/memmap.py:331: FutureWarning: Using a non-tuple sequence for multidimensional indexing is deprecated; use `arr[tuple(seq)]` instead of `arr[seq]`. In the future this will be interpreted as an array index, `arr[np.array(seq)]`, which will result either in an error or a different result.\n",
      "  res = super(memmap, self).__getitem__(index)\n",
      "/n/coxfs01/2p-pipeline/envs/caiman/lib/python3.7/site-packages/numpy/core/memmap.py:331: FutureWarning: Using a non-tuple sequence for multidimensional indexing is deprecated; use `arr[tuple(seq)]` instead of `arr[seq]`. In the future this will be interpreted as an array index, `arr[np.array(seq)]`, which will result either in an error or a different result.\n",
      "  res = super(memmap, self).__getitem__(index)\n",
      "/n/coxfs01/2p-pipeline/envs/caiman/lib/python3.7/site-packages/numpy/core/memmap.py:331: FutureWarning: Using a non-tuple sequence for multidimensional indexing is deprecated; use `arr[tuple(seq)]` instead of `arr[seq]`. In the future this will be interpreted as an array index, `arr[np.array(seq)]`, which will result either in an error or a different result.\n",
      "  res = super(memmap, self).__getitem__(index)\n",
      "WARNING:root:Changing key n_processes in group patch from 8 to 1\n",
      "WARNING:root:Changing key rf in group patch from 25 to None\n",
      "WARNING:root:Changing key stride in group patch from 12 to None\n",
      "WARNING:root:Changing key nb in group init from 2 to 1\n",
      "WARNING:root:Changing key nb in group temporal from 2 to 1\n",
      "WARNING:root:Changing key nb in group spatial from 2 to 1\n",
      "/n/coxfs01/2p-pipeline/envs/caiman/lib/python3.7/site-packages/numpy/core/memmap.py:331: FutureWarning: Using a non-tuple sequence for multidimensional indexing is deprecated; use `arr[tuple(seq)]` instead of `arr[seq]`. In the future this will be interpreted as an array index, `arr[np.array(seq)]`, which will result either in an error or a different result.\n",
      "  res = super(memmap, self).__getitem__(index)\n",
      "/n/coxfs01/2p-pipeline/envs/caiman/lib/python3.7/site-packages/numpy/core/memmap.py:331: FutureWarning: Using a non-tuple sequence for multidimensional indexing is deprecated; use `arr[tuple(seq)]` instead of `arr[seq]`. In the future this will be interpreted as an array index, `arr[np.array(seq)]`, which will result either in an error or a different result.\n",
      "  res = super(memmap, self).__getitem__(index)\n",
      "WARNING:root:Changing key n_processes in group patch from 8 to 1\n",
      "WARNING:root:Changing key rf in group patch from 25 to None\n",
      "WARNING:root:Changing key stride in group patch from 12 to None\n",
      "WARNING:root:Changing key nb in group init from 2 to 1\n",
      "WARNING:root:Changing key nb in group temporal from 2 to 1\n",
      "WARNING:root:Changing key nb in group spatial from 2 to 1\n",
      "/n/coxfs01/2p-pipeline/envs/caiman/lib/python3.7/site-packages/numpy/core/memmap.py:331: FutureWarning: Using a non-tuple sequence for multidimensional indexing is deprecated; use `arr[tuple(seq)]` instead of `arr[seq]`. In the future this will be interpreted as an array index, `arr[np.array(seq)]`, which will result either in an error or a different result.\n",
      "  res = super(memmap, self).__getitem__(index)\n",
      "/n/coxfs01/2p-pipeline/envs/caiman/lib/python3.7/site-packages/numpy/core/memmap.py:331: FutureWarning: Using a non-tuple sequence for multidimensional indexing is deprecated; use `arr[tuple(seq)]` instead of `arr[seq]`. In the future this will be interpreted as an array index, `arr[np.array(seq)]`, which will result either in an error or a different result.\n",
      "  res = super(memmap, self).__getitem__(index)\n",
      "/n/coxfs01/2p-pipeline/envs/caiman/lib/python3.7/site-packages/numpy/core/memmap.py:331: FutureWarning: Using a non-tuple sequence for multidimensional indexing is deprecated; use `arr[tuple(seq)]` instead of `arr[seq]`. In the future this will be interpreted as an array index, `arr[np.array(seq)]`, which will result either in an error or a different result.\n",
      "  res = super(memmap, self).__getitem__(index)\n",
      "/n/coxfs01/2p-pipeline/envs/caiman/lib/python3.7/site-packages/numpy/core/memmap.py:331: FutureWarning: Using a non-tuple sequence for multidimensional indexing is deprecated; use `arr[tuple(seq)]` instead of `arr[seq]`. In the future this will be interpreted as an array index, `arr[np.array(seq)]`, which will result either in an error or a different result.\n",
      "  res = super(memmap, self).__getitem__(index)\n",
      "/n/coxfs01/2p-pipeline/envs/caiman/lib/python3.7/site-packages/numpy/core/memmap.py:331: FutureWarning: Using a non-tuple sequence for multidimensional indexing is deprecated; use `arr[tuple(seq)]` instead of `arr[seq]`. In the future this will be interpreted as an array index, `arr[np.array(seq)]`, which will result either in an error or a different result.\n",
      "  res = super(memmap, self).__getitem__(index)\n",
      "/n/coxfs01/2p-pipeline/envs/caiman/lib/python3.7/site-packages/numpy/core/memmap.py:331: FutureWarning: Using a non-tuple sequence for multidimensional indexing is deprecated; use `arr[tuple(seq)]` instead of `arr[seq]`. In the future this will be interpreted as an array index, `arr[np.array(seq)]`, which will result either in an error or a different result.\n",
      "  res = super(memmap, self).__getitem__(index)\n",
      "/n/coxfs01/2p-pipeline/envs/caiman/lib/python3.7/site-packages/numpy/core/memmap.py:331: FutureWarning: Using a non-tuple sequence for multidimensional indexing is deprecated; use `arr[tuple(seq)]` instead of `arr[seq]`. In the future this will be interpreted as an array index, `arr[np.array(seq)]`, which will result either in an error or a different result.\n",
      "  res = super(memmap, self).__getitem__(index)\n"
     ]
    },
    {
     "name": "stderr",
     "output_type": "stream",
     "text": [
      "/n/coxfs01/2p-pipeline/envs/caiman/lib/python3.7/site-packages/numpy/core/memmap.py:331: FutureWarning: Using a non-tuple sequence for multidimensional indexing is deprecated; use `arr[tuple(seq)]` instead of `arr[seq]`. In the future this will be interpreted as an array index, `arr[np.array(seq)]`, which will result either in an error or a different result.\n",
      "  res = super(memmap, self).__getitem__(index)\n",
      "/n/coxfs01/2p-pipeline/envs/caiman/lib/python3.7/site-packages/numpy/core/memmap.py:331: FutureWarning: Using a non-tuple sequence for multidimensional indexing is deprecated; use `arr[tuple(seq)]` instead of `arr[seq]`. In the future this will be interpreted as an array index, `arr[np.array(seq)]`, which will result either in an error or a different result.\n",
      "  res = super(memmap, self).__getitem__(index)\n",
      "/n/coxfs01/2p-pipeline/envs/caiman/lib/python3.7/site-packages/numpy/core/memmap.py:331: FutureWarning: Using a non-tuple sequence for multidimensional indexing is deprecated; use `arr[tuple(seq)]` instead of `arr[seq]`. In the future this will be interpreted as an array index, `arr[np.array(seq)]`, which will result either in an error or a different result.\n",
      "  res = super(memmap, self).__getitem__(index)\n",
      "/n/coxfs01/2p-pipeline/envs/caiman/lib/python3.7/site-packages/numpy/core/memmap.py:331: FutureWarning: Using a non-tuple sequence for multidimensional indexing is deprecated; use `arr[tuple(seq)]` instead of `arr[seq]`. In the future this will be interpreted as an array index, `arr[np.array(seq)]`, which will result either in an error or a different result.\n",
      "  res = super(memmap, self).__getitem__(index)\n",
      "/n/coxfs01/2p-pipeline/envs/caiman/lib/python3.7/site-packages/numpy/core/memmap.py:331: FutureWarning: Using a non-tuple sequence for multidimensional indexing is deprecated; use `arr[tuple(seq)]` instead of `arr[seq]`. In the future this will be interpreted as an array index, `arr[np.array(seq)]`, which will result either in an error or a different result.\n",
      "  res = super(memmap, self).__getitem__(index)\n",
      "/n/coxfs01/2p-pipeline/envs/caiman/lib/python3.7/site-packages/numpy/core/memmap.py:331: FutureWarning: Using a non-tuple sequence for multidimensional indexing is deprecated; use `arr[tuple(seq)]` instead of `arr[seq]`. In the future this will be interpreted as an array index, `arr[np.array(seq)]`, which will result either in an error or a different result.\n",
      "  res = super(memmap, self).__getitem__(index)\n",
      "/n/coxfs01/2p-pipeline/envs/caiman/lib/python3.7/site-packages/numpy/core/memmap.py:331: FutureWarning: Using a non-tuple sequence for multidimensional indexing is deprecated; use `arr[tuple(seq)]` instead of `arr[seq]`. In the future this will be interpreted as an array index, `arr[np.array(seq)]`, which will result either in an error or a different result.\n",
      "  res = super(memmap, self).__getitem__(index)\n",
      "/n/coxfs01/2p-pipeline/envs/caiman/lib/python3.7/site-packages/numpy/core/memmap.py:331: FutureWarning: Using a non-tuple sequence for multidimensional indexing is deprecated; use `arr[tuple(seq)]` instead of `arr[seq]`. In the future this will be interpreted as an array index, `arr[np.array(seq)]`, which will result either in an error or a different result.\n",
      "  res = super(memmap, self).__getitem__(index)\n",
      "/n/coxfs01/2p-pipeline/envs/caiman/lib/python3.7/site-packages/numpy/core/memmap.py:331: FutureWarning: Using a non-tuple sequence for multidimensional indexing is deprecated; use `arr[tuple(seq)]` instead of `arr[seq]`. In the future this will be interpreted as an array index, `arr[np.array(seq)]`, which will result either in an error or a different result.\n",
      "  res = super(memmap, self).__getitem__(index)\n",
      "/n/coxfs01/2p-pipeline/envs/caiman/lib/python3.7/site-packages/numpy/core/memmap.py:331: FutureWarning: Using a non-tuple sequence for multidimensional indexing is deprecated; use `arr[tuple(seq)]` instead of `arr[seq]`. In the future this will be interpreted as an array index, `arr[np.array(seq)]`, which will result either in an error or a different result.\n",
      "  res = super(memmap, self).__getitem__(index)\n",
      "/n/coxfs01/2p-pipeline/envs/caiman/lib/python3.7/site-packages/numpy/core/memmap.py:331: FutureWarning: Using a non-tuple sequence for multidimensional indexing is deprecated; use `arr[tuple(seq)]` instead of `arr[seq]`. In the future this will be interpreted as an array index, `arr[np.array(seq)]`, which will result either in an error or a different result.\n",
      "  res = super(memmap, self).__getitem__(index)\n",
      "/n/coxfs01/2p-pipeline/envs/caiman/lib/python3.7/site-packages/numpy/core/memmap.py:331: FutureWarning: Using a non-tuple sequence for multidimensional indexing is deprecated; use `arr[tuple(seq)]` instead of `arr[seq]`. In the future this will be interpreted as an array index, `arr[np.array(seq)]`, which will result either in an error or a different result.\n",
      "  res = super(memmap, self).__getitem__(index)\n",
      "/n/coxfs01/2p-pipeline/envs/caiman/lib/python3.7/site-packages/numpy/core/memmap.py:331: FutureWarning: Using a non-tuple sequence for multidimensional indexing is deprecated; use `arr[tuple(seq)]` instead of `arr[seq]`. In the future this will be interpreted as an array index, `arr[np.array(seq)]`, which will result either in an error or a different result.\n",
      "  res = super(memmap, self).__getitem__(index)\n",
      "/n/coxfs01/2p-pipeline/envs/caiman/lib/python3.7/site-packages/numpy/core/memmap.py:331: FutureWarning: Using a non-tuple sequence for multidimensional indexing is deprecated; use `arr[tuple(seq)]` instead of `arr[seq]`. In the future this will be interpreted as an array index, `arr[np.array(seq)]`, which will result either in an error or a different result.\n",
      "  res = super(memmap, self).__getitem__(index)\n",
      "WARNING:root:Component 43 is only active jointly with neighboring components. Space correlation calculation might be unreliable.\n"
     ]
    }
   ],
   "source": [
    "\n",
    "#%% start a cluster for parallel processing \n",
    "#(if a cluster already exists it will be closed and a new session will be opened)\n",
    "if 'dview' in locals():\n",
    "    cm.stop_server(dview=dview)\n",
    "c, dview, n_processes = cm.cluster.setup_cluster(\n",
    "    backend='local', n_processes=n_processes, single_thread=False)\n",
    "print(\"--- running on %i processes ---\" % n_processes)\n",
    "print(\"--- dview: \", dview)\n",
    "#dview=None \n"
   ]
  },
  {
   "cell_type": "code",
   "execution_count": null,
   "metadata": {},
   "outputs": [],
   "source": []
  },
  {
   "cell_type": "code",
   "execution_count": 5,
   "metadata": {},
   "outputs": [],
   "source": [
    "# options = ['-i', 'JC084', '-S', '20190525', '-A', 'FOV1_zoom2p0x', '-E', 'gratings', \n",
    "#           '--prefix=JC084-20190525-FOV1_zoom2p0x-gratings-downsample-5', '-n', 8]"
   ]
  },
  {
   "cell_type": "code",
   "execution_count": 26,
   "metadata": {},
   "outputs": [],
   "source": [
    "options = ['-i', 'JC085', '-S', '20190622', '-A', 'FOV1_zoom2p0x', '-E', 'retino_run1', \n",
    "          '--prefix=%s' % source_key, '-n', 8]\n",
    "# options = ['-i', 'JC084', '-S', '20190522', '-A', 'FOV1_zoom2p0x', '-E', 'retino_run2', \n",
    "#           '--prefix=JC084-20190525-FOV1_zoom2p0x-retino_run2-downsample-1', '-n', 16]"
   ]
  },
  {
   "cell_type": "code",
   "execution_count": 27,
   "metadata": {},
   "outputs": [
    {
     "ename": "NameError",
     "evalue": "name 'extract_options' is not defined",
     "output_type": "error",
     "traceback": [
      "\u001b[0;31m---------------------------------------------------------------------------\u001b[0m",
      "\u001b[0;31mNameError\u001b[0m                                 Traceback (most recent call last)",
      "\u001b[0;32m<ipython-input-27-62ff36f06b45>\u001b[0m in \u001b[0;36m<module>\u001b[0;34m\u001b[0m\n\u001b[0;32m----> 1\u001b[0;31m \u001b[0moptsE\u001b[0m \u001b[0;34m=\u001b[0m \u001b[0mextract_options\u001b[0m\u001b[0;34m(\u001b[0m\u001b[0moptions\u001b[0m\u001b[0;34m)\u001b[0m\u001b[0;34m\u001b[0m\u001b[0;34m\u001b[0m\u001b[0m\n\u001b[0m\u001b[1;32m      2\u001b[0m \u001b[0mrootdir\u001b[0m \u001b[0;34m=\u001b[0m \u001b[0moptsE\u001b[0m\u001b[0;34m.\u001b[0m\u001b[0mrootdir\u001b[0m \u001b[0;31m#'/n/coxfs01/2p-data'\u001b[0m\u001b[0;34m\u001b[0m\u001b[0;34m\u001b[0m\u001b[0m\n\u001b[1;32m      3\u001b[0m \u001b[0manimalid\u001b[0m \u001b[0;34m=\u001b[0m \u001b[0moptsE\u001b[0m\u001b[0;34m.\u001b[0m\u001b[0manimalid\u001b[0m \u001b[0;31m#'JC084'\u001b[0m\u001b[0;34m\u001b[0m\u001b[0;34m\u001b[0m\u001b[0m\n\u001b[1;32m      4\u001b[0m \u001b[0msession\u001b[0m \u001b[0;34m=\u001b[0m \u001b[0moptsE\u001b[0m\u001b[0;34m.\u001b[0m\u001b[0msession\u001b[0m \u001b[0;31m#'20190525' #'20190505_JC083'\u001b[0m\u001b[0;34m\u001b[0m\u001b[0;34m\u001b[0m\u001b[0m\n\u001b[1;32m      5\u001b[0m \u001b[0mfov\u001b[0m \u001b[0;34m=\u001b[0m \u001b[0moptsE\u001b[0m\u001b[0;34m.\u001b[0m\u001b[0mfov\u001b[0m\u001b[0;34m\u001b[0m\u001b[0;34m\u001b[0m\u001b[0m\n",
      "\u001b[0;31mNameError\u001b[0m: name 'extract_options' is not defined"
     ]
    }
   ],
   "source": [
    "optsE = extract_options(options) \n",
    "rootdir = optsE.rootdir #'/n/coxfs01/2p-data'\n",
    "animalid = optsE.animalid #'JC084'\n",
    "session = optsE.session #'20190525' #'20190505_JC083'\n",
    "fov = optsE.fov\n",
    "experiment = optsE.experiment\n",
    "ds_factor = int(optsE.ds_factor)\n",
    "destdir = optsE.destdir\n",
    "use_raw = optsE.use_raw\n",
    "n_processes = int(optsE.n_processes) \n",
    "create_new = optsE.create_new\n",
    "prefix = optsE.prefix\n",
    "traceid=optsE.traceid\n"
   ]
  },
  {
   "cell_type": "code",
   "execution_count": null,
   "metadata": {},
   "outputs": [],
   "source": []
  },
  {
   "cell_type": "code",
   "execution_count": null,
   "metadata": {},
   "outputs": [],
   "source": []
  },
  {
   "cell_type": "code",
   "execution_count": null,
   "metadata": {},
   "outputs": [],
   "source": []
  },
  {
   "cell_type": "code",
   "execution_count": 15,
   "metadata": {},
   "outputs": [],
   "source": [
    "traceid = 'traces001'\n",
    "roiid='rois001'"
   ]
  },
  {
   "cell_type": "code",
   "execution_count": 16,
   "metadata": {},
   "outputs": [],
   "source": [
    "seed_manual = True"
   ]
  },
  {
   "cell_type": "code",
   "execution_count": 17,
   "metadata": {},
   "outputs": [
    {
     "name": "stdout",
     "output_type": "stream",
     "text": [
      "Getting seeds...\n",
      "(262144, 389)\n"
     ]
    }
   ],
   "source": [
    "if seed_manual:\n",
    "    # Load manual ROIs and format\n",
    "    print(\"Getting seeds...\")\n",
    "    #roiid = get_roiid_from_traceid(animalid, session, fov, run_type=experiment, traceid=traceid)\n",
    "    masks, zimg = load_roi_masks(animalid, session, fov, rois=roiid)\n",
    "    zimg = zimg.T\n",
    "    #masks = np.swapaxes(masks, 1, 2)    \n",
    "    Ain = reshape_and_binarize_masks(masks)\n",
    "    print(Ain.shape)\n",
    "\n"
   ]
  },
  {
   "cell_type": "code",
   "execution_count": 18,
   "metadata": {},
   "outputs": [
    {
     "data": {
      "text/plain": [
       "<matplotlib.image.AxesImage at 0x2aaec9793940>"
      ]
     },
     "execution_count": 18,
     "metadata": {},
     "output_type": "execute_result"
    },
    {
     "data": {
      "image/png": "[encoded data removed]",
      "text/plain": [
       "<Figure size 432x288 with 1 Axes>"
      ]
     },
     "metadata": {
      "needs_background": "light"
     },
     "output_type": "display_data"
    }
   ],
   "source": [
    "pl.figure()\n",
    "pl.imshow(zimg, cmap='gray', vmin=np.percentile(zimg, 1), vmax=np.percentile(zimg, 99.8))\n"
   ]
  },
  {
   "cell_type": "markdown",
   "metadata": {},
   "source": [
    "# Get caiman data"
   ]
  },
  {
   "cell_type": "code",
   "execution_count": 19,
   "metadata": {},
   "outputs": [
    {
     "name": "stdout",
     "output_type": "stream",
     "text": [
      "retino_run1\n"
     ]
    }
   ],
   "source": [
    "print(experiment)"
   ]
  },
  {
   "cell_type": "code",
   "execution_count": 29,
   "metadata": {},
   "outputs": [
    {
     "data": {
      "text/plain": [
       "'JC085-20190622-FOV1_zoom2p0x-retino_run1'"
      ]
     },
     "execution_count": 29,
     "metadata": {},
     "output_type": "execute_result"
    }
   ],
   "source": [
    "prefix=source_key\n",
    "prefix"
   ]
  },
  {
   "cell_type": "code",
   "execution_count": 38,
   "metadata": {},
   "outputs": [],
   "source": [
    "\n",
    "def get_full_memmap_path(results_dir, mm_prefix='Yr'):\n",
    "    print(\"Getting full mmap path for prefix: %s\" % mm_prefix)\n",
    "    print(\"-- dir: %s\" % results_dir)\n",
    "    #print(glob.glob(os.path.join(results_dir, 'memmap', '*%s*.mmap' % mm_prefix)))\n",
    "    fname_new = glob.glob(os.path.join(results_dir, 'memmap', '*%s_d*_.mmap' % mm_prefix))[0]\n",
    "    mm_prefix = os.path.splitext(os.path.split(fname_new)[-1])[0].split('_d1_')[0]\n",
    "    print(\"CORRECTED PREFIX: %s\" % mm_prefix)\n",
    "    return fname_new, mm_prefix\n"
   ]
  },
  {
   "cell_type": "code",
   "execution_count": 39,
   "metadata": {},
   "outputs": [
    {
     "name": "stdout",
     "output_type": "stream",
     "text": [
      "Getting full mmap path for prefix: JC085-20190622-FOV1_zoom2p0x-retino_run1\n",
      "-- dir: /n/coxfs01/2p-data/JC085/20190622/FOV1_zoom2p0x/retino_run1/caiman_results\n",
      "CORRECTED PREFIX: JC085-20190622-FOV1_zoom2p0x-retino_run1\n",
      "Extracting CNMF from: /n/coxfs01/2p-data/JC085/20190622/FOV1_zoom2p0x/retino_run1/caiman_results/memmap/JC085-20190622-FOV1_zoom2p0x-retino_run1_d1_512_d2_512_d3_1_order_C_frames_35728_.mmap\n"
     ]
    }
   ],
   "source": [
    "\n",
    "# Load memmapped file(s)\n",
    "fovdir = glob.glob(os.path.join(rootdir, animalid, session, fov))[0]\n",
    "results_dir = os.path.join(fovdir, experiment, 'caiman_results')\n",
    "fname_tot, mm_prefix= get_full_memmap_path(results_dir, mm_prefix=prefix)\n",
    "print(\"Extracting CNMF from: %s\" % fname_tot)"
   ]
  },
  {
   "cell_type": "code",
   "execution_count": 31,
   "metadata": {},
   "outputs": [
    {
     "ename": "NameError",
     "evalue": "name 'fname_tot' is not defined",
     "output_type": "error",
     "traceback": [
      "\u001b[0;31m---------------------------------------------------------------------------\u001b[0m",
      "\u001b[0;31mNameError\u001b[0m                                 Traceback (most recent call last)",
      "\u001b[0;32m<ipython-input-31-9eb4dedf8662>\u001b[0m in \u001b[0;36m<module>\u001b[0;34m\u001b[0m\n\u001b[0;32m----> 1\u001b[0;31m \u001b[0mfname_tot\u001b[0m\u001b[0;34m\u001b[0m\u001b[0;34m\u001b[0m\u001b[0m\n\u001b[0m",
      "\u001b[0;31mNameError\u001b[0m: name 'fname_tot' is not defined"
     ]
    }
   ],
   "source": [
    "fname_tot"
   ]
  },
  {
   "cell_type": "code",
   "execution_count": 18,
   "metadata": {},
   "outputs": [
    {
     "name": "stdout",
     "output_type": "stream",
     "text": [
      "Loaded data: (35728, 512, 512)\n"
     ]
    }
   ],
   "source": [
    "\n",
    "\n",
    "# Load data\n",
    "Yr, dims, T = cm.load_memmap(fname_tot)\n",
    "images = np.reshape(Yr.T, [T] + list(dims), order='F') #np.reshape(Yr, dims + (T,), order='F')\n",
    "print(\"Loaded data:\", images.shape)\n"
   ]
  },
  {
   "cell_type": "code",
   "execution_count": null,
   "metadata": {},
   "outputs": [],
   "source": []
  },
  {
   "cell_type": "code",
   "execution_count": 40,
   "metadata": {},
   "outputs": [
    {
     "name": "stdout",
     "output_type": "stream",
     "text": [
      "Preparing for CNMF extraction...\n",
      "Loading memmap params...\n",
      "Unable to load memmap params, trying alt.\n",
      "--> got 16 files for extraction\n"
     ]
    }
   ],
   "source": [
    "\n",
    "# Create opts for cnmf\n",
    "print(\"Preparing for CNMF extraction...\") \n",
    "fnames = get_file_paths(results_dir, mm_prefix=mm_prefix) \n",
    "print(\"--> got %i files for extraction\" % len(fnames))\n",
    "\n",
    "#    if 'fov' in fnames[0]:\n",
    "#        fnames = sorted(glob.glob(os.path.join(rootdir, animalid, session, fov, '*%s*' % experiment,\n",
    "#                                'raw*', '*.tif')))\n"
   ]
  },
  {
   "cell_type": "code",
   "execution_count": 41,
   "metadata": {},
   "outputs": [
    {
     "name": "stdout",
     "output_type": "stream",
     "text": [
      "seeded-JC085-20190622-FOV1_zoom2p0x-retino_run1\n"
     ]
    }
   ],
   "source": [
    "\n",
    "if prefix is None:\n",
    "     prefix = mm_prefix\n",
    "prefix = 'seeded-%s' % prefix\n",
    "print(prefix)"
   ]
  },
  {
   "cell_type": "code",
   "execution_count": 42,
   "metadata": {},
   "outputs": [
    {
     "name": "stdout",
     "output_type": "stream",
     "text": [
      "--- running on 8 processes ---\n",
      "--- dview:  <multiprocessing.pool.Pool object at 0x2aaec7e215c0>\n"
     ]
    }
   ],
   "source": [
    "\n",
    "\n",
    "#%% start a cluster for parallel processing \n",
    "#(if a cluster already exists it will be closed and a new session will be opened)\n",
    "if 'dview' in locals():\n",
    "    cm.stop_server(dview=dview)\n",
    "c, dview, n_processes = cm.cluster.setup_cluster(\n",
    "    backend='local', n_processes=n_processes, single_thread=False)\n",
    "print(\"--- running on %i processes ---\" % n_processes)\n",
    "print(\"--- dview: \", dview)\n",
    "#dview=None \n"
   ]
  },
  {
   "cell_type": "code",
   "execution_count": 43,
   "metadata": {},
   "outputs": [
    {
     "name": "stderr",
     "output_type": "stream",
     "text": [
      "WARNING:root:Changing key fnames in group data from ['/n/coxfs01/2p-data/JC085/20190622/FOV1_zoom2p0x/retino_run1/raw_29070c/fov1_retinobar_00001.tif', '/n/coxfs01/2p-data/JC085/20190622/FOV1_zoom2p0x/retino_run1/raw_29070c/fov1_retinobar_00002.tif', '/n/coxfs01/2p-data/JC085/20190622/FOV1_zoom2p0x/retino_run1/raw_29070c/fov1_retinobar_00003.tif', '/n/coxfs01/2p-data/JC085/20190622/FOV1_zoom2p0x/retino_run1/raw_29070c/fov1_retinobar_00004.tif', '/n/coxfs01/2p-data/JC085/20190622/FOV1_zoom2p0x/retino_run1/raw_29070c/fov1_retinobar_00005.tif', '/n/coxfs01/2p-data/JC085/20190622/FOV1_zoom2p0x/retino_run1/raw_29070c/fov1_retinobar_00006.tif', '/n/coxfs01/2p-data/JC085/20190622/FOV1_zoom2p0x/retino_run1/raw_29070c/fov1_retinobar_00007.tif', '/n/coxfs01/2p-data/JC085/20190622/FOV1_zoom2p0x/retino_run1/raw_29070c/fov1_retinobar_00008.tif', '/n/coxfs01/2p-data/JC085/20190622/FOV1_zoom2p0x/retino_run1/raw_29070c/fov1_retinobar_00009.tif', '/n/coxfs01/2p-data/JC085/20190622/FOV1_zoom2p0x/retino_run1/raw_29070c/fov1_retinobar_00010.tif', '/n/coxfs01/2p-data/JC085/20190622/FOV1_zoom2p0x/retino_run1/raw_29070c/fov1_retinobar_00011.tif', '/n/coxfs01/2p-data/JC085/20190622/FOV1_zoom2p0x/retino_run1/raw_29070c/fov1_retinobar_00012.tif', '/n/coxfs01/2p-data/JC085/20190622/FOV1_zoom2p0x/retino_run1/raw_29070c/fov1_retinobar_00013.tif', '/n/coxfs01/2p-data/JC085/20190622/FOV1_zoom2p0x/retino_run1/raw_29070c/fov1_retinobar_00014.tif', '/n/coxfs01/2p-data/JC085/20190622/FOV1_zoom2p0x/retino_run1/raw_29070c/fov1_retinobar_00015.tif', '/n/coxfs01/2p-data/JC085/20190622/FOV1_zoom2p0x/retino_run1/raw_29070c/fov1_retinobar_00016.tif'] to ['/n/coxfs01/2p-data/JC085/20190622/FOV1_zoom2p0x/retino_run1/raw_29070c/fov1_retinobar_00001_rig__d1_512_d2_512_d3_1_order_F_frames_2233_.mmap', '/n/coxfs01/2p-data/JC085/20190622/FOV1_zoom2p0x/retino_run1/raw_29070c/fov1_retinobar_00002_rig__d1_512_d2_512_d3_1_order_F_frames_2233_.mmap', '/n/coxfs01/2p-data/JC085/20190622/FOV1_zoom2p0x/retino_run1/raw_29070c/fov1_retinobar_00003_rig__d1_512_d2_512_d3_1_order_F_frames_2233_.mmap', '/n/coxfs01/2p-data/JC085/20190622/FOV1_zoom2p0x/retino_run1/raw_29070c/fov1_retinobar_00004_rig__d1_512_d2_512_d3_1_order_F_frames_2233_.mmap', '/n/coxfs01/2p-data/JC085/20190622/FOV1_zoom2p0x/retino_run1/raw_29070c/fov1_retinobar_00005_rig__d1_512_d2_512_d3_1_order_F_frames_2233_.mmap', '/n/coxfs01/2p-data/JC085/20190622/FOV1_zoom2p0x/retino_run1/raw_29070c/fov1_retinobar_00006_rig__d1_512_d2_512_d3_1_order_F_frames_2233_.mmap', '/n/coxfs01/2p-data/JC085/20190622/FOV1_zoom2p0x/retino_run1/raw_29070c/fov1_retinobar_00007_rig__d1_512_d2_512_d3_1_order_F_frames_2233_.mmap', '/n/coxfs01/2p-data/JC085/20190622/FOV1_zoom2p0x/retino_run1/raw_29070c/fov1_retinobar_00008_rig__d1_512_d2_512_d3_1_order_F_frames_2233_.mmap', '/n/coxfs01/2p-data/JC085/20190622/FOV1_zoom2p0x/retino_run1/raw_29070c/fov1_retinobar_00009_rig__d1_512_d2_512_d3_1_order_F_frames_2233_.mmap', '/n/coxfs01/2p-data/JC085/20190622/FOV1_zoom2p0x/retino_run1/raw_29070c/fov1_retinobar_00010_rig__d1_512_d2_512_d3_1_order_F_frames_2233_.mmap', '/n/coxfs01/2p-data/JC085/20190622/FOV1_zoom2p0x/retino_run1/raw_29070c/fov1_retinobar_00011_rig__d1_512_d2_512_d3_1_order_F_frames_2233_.mmap', '/n/coxfs01/2p-data/JC085/20190622/FOV1_zoom2p0x/retino_run1/raw_29070c/fov1_retinobar_00012_rig__d1_512_d2_512_d3_1_order_F_frames_2233_.mmap', '/n/coxfs01/2p-data/JC085/20190622/FOV1_zoom2p0x/retino_run1/raw_29070c/fov1_retinobar_00013_rig__d1_512_d2_512_d3_1_order_F_frames_2233_.mmap', '/n/coxfs01/2p-data/JC085/20190622/FOV1_zoom2p0x/retino_run1/raw_29070c/fov1_retinobar_00014_rig__d1_512_d2_512_d3_1_order_F_frames_2233_.mmap', '/n/coxfs01/2p-data/JC085/20190622/FOV1_zoom2p0x/retino_run1/raw_29070c/fov1_retinobar_00015_rig__d1_512_d2_512_d3_1_order_F_frames_2233_.mmap', '/n/coxfs01/2p-data/JC085/20190622/FOV1_zoom2p0x/retino_run1/raw_29070c/fov1_retinobar_00016_rig__d1_512_d2_512_d3_1_order_F_frames_2233_.mmap']\n",
      "WARNING:root:Changing key rf in group patch from 25 to None\n",
      "WARNING:root:Changing key only_init in group patch from True to False\n",
      "WARNING:root:Changing key n_pixels_per_process in group preprocess from None to 100\n",
      "WARNING:root:Changing key n_pixels_per_process in group spatial from None to 100\n"
     ]
    },
    {
     "data": {
      "text/plain": [
       "CNMFParams:\n",
       "\n",
       "data:\n",
       "\n",
       "{'caiman_version': '1.6.2',\n",
       " 'decay_time': 0.4,\n",
       " 'dims': (512, 512),\n",
       " 'dxy': (1, 1),\n",
       " 'fnames': ['/n/coxfs01/2p-data/JC085/20190622/FOV1_zoom2p0x/retino_run1/raw_29070c/fov1_retinobar_00001_rig__d1_512_d2_512_d3_1_order_F_frames_2233_.mmap',\n",
       "            '/n/coxfs01/2p-data/JC085/20190622/FOV1_zoom2p0x/retino_run1/raw_29070c/fov1_retinobar_00002_rig__d1_512_d2_512_d3_1_order_F_frames_2233_.mmap',\n",
       "            '/n/coxfs01/2p-data/JC085/20190622/FOV1_zoom2p0x/retino_run1/raw_29070c/fov1_retinobar_00003_rig__d1_512_d2_512_d3_1_order_F_frames_2233_.mmap',\n",
       "            '/n/coxfs01/2p-data/JC085/20190622/FOV1_zoom2p0x/retino_run1/raw_29070c/fov1_retinobar_00004_rig__d1_512_d2_512_d3_1_order_F_frames_2233_.mmap',\n",
       "            '/n/coxfs01/2p-data/JC085/20190622/FOV1_zoom2p0x/retino_run1/raw_29070c/fov1_retinobar_00005_rig__d1_512_d2_512_d3_1_order_F_frames_2233_.mmap',\n",
       "            '/n/coxfs01/2p-data/JC085/20190622/FOV1_zoom2p0x/retino_run1/raw_29070c/fov1_retinobar_00006_rig__d1_512_d2_512_d3_1_order_F_frames_2233_.mmap',\n",
       "            '/n/coxfs01/2p-data/JC085/20190622/FOV1_zoom2p0x/retino_run1/raw_29070c/fov1_retinobar_00007_rig__d1_512_d2_512_d3_1_order_F_frames_2233_.mmap',\n",
       "            '/n/coxfs01/2p-data/JC085/20190622/FOV1_zoom2p0x/retino_run1/raw_29070c/fov1_retinobar_00008_rig__d1_512_d2_512_d3_1_order_F_frames_2233_.mmap',\n",
       "            '/n/coxfs01/2p-data/JC085/20190622/FOV1_zoom2p0x/retino_run1/raw_29070c/fov1_retinobar_00009_rig__d1_512_d2_512_d3_1_order_F_frames_2233_.mmap',\n",
       "            '/n/coxfs01/2p-data/JC085/20190622/FOV1_zoom2p0x/retino_run1/raw_29070c/fov1_retinobar_00010_rig__d1_512_d2_512_d3_1_order_F_frames_2233_.mmap',\n",
       "            '/n/coxfs01/2p-data/JC085/20190622/FOV1_zoom2p0x/retino_run1/raw_29070c/fov1_retinobar_00011_rig__d1_512_d2_512_d3_1_order_F_frames_2233_.mmap',\n",
       "            '/n/coxfs01/2p-data/JC085/20190622/FOV1_zoom2p0x/retino_run1/raw_29070c/fov1_retinobar_00012_rig__d1_512_d2_512_d3_1_order_F_frames_2233_.mmap',\n",
       "            '/n/coxfs01/2p-data/JC085/20190622/FOV1_zoom2p0x/retino_run1/raw_29070c/fov1_retinobar_00013_rig__d1_512_d2_512_d3_1_order_F_frames_2233_.mmap',\n",
       "            '/n/coxfs01/2p-data/JC085/20190622/FOV1_zoom2p0x/retino_run1/raw_29070c/fov1_retinobar_00014_rig__d1_512_d2_512_d3_1_order_F_frames_2233_.mmap',\n",
       "            '/n/coxfs01/2p-data/JC085/20190622/FOV1_zoom2p0x/retino_run1/raw_29070c/fov1_retinobar_00015_rig__d1_512_d2_512_d3_1_order_F_frames_2233_.mmap',\n",
       "            '/n/coxfs01/2p-data/JC085/20190622/FOV1_zoom2p0x/retino_run1/raw_29070c/fov1_retinobar_00016_rig__d1_512_d2_512_d3_1_order_F_frames_2233_.mmap'],\n",
       " 'fr': 44.65,\n",
       " 'last_commit': 'GITW-d9e0761ef75277ff2fc0adc3d24052e7df316bf8',\n",
       " 'mmap_C': None,\n",
       " 'mmap_F': None,\n",
       " 'var_name_hdf5': 'mov'}\n",
       "\n",
       "spatial_params:\n",
       "\n",
       "{'block_size_spat': 5000,\n",
       " 'dist': 3,\n",
       " 'expandCore': array([[0, 0, 1, 0, 0],\n",
       "       [0, 1, 1, 1, 0],\n",
       "       [1, 1, 1, 1, 1],\n",
       "       [0, 1, 1, 1, 0],\n",
       "       [0, 0, 1, 0, 0]]),\n",
       " 'extract_cc': True,\n",
       " 'maxthr': 0.1,\n",
       " 'medw': None,\n",
       " 'method_exp': 'dilate',\n",
       " 'method_ls': 'lasso_lars',\n",
       " 'n_pixels_per_process': 100,\n",
       " 'nb': 2,\n",
       " 'normalize_yyt_one': True,\n",
       " 'nrgthr': 0.9999,\n",
       " 'num_blocks_per_run_spat': 20,\n",
       " 'se': array([[1, 1, 1],\n",
       "       [1, 1, 1],\n",
       "       [1, 1, 1]], dtype=uint8),\n",
       " 'ss': array([[1, 1, 1],\n",
       "       [1, 1, 1],\n",
       "       [1, 1, 1]], dtype=uint8),\n",
       " 'thr_method': 'nrg',\n",
       " 'update_background_components': True}\n",
       "\n",
       "temporal_params:\n",
       "\n",
       "{'ITER': 2,\n",
       " 'bas_nonneg': False,\n",
       " 'block_size_temp': 5000,\n",
       " 'fudge_factor': 0.96,\n",
       " 'lags': 5,\n",
       " 'memory_efficient': False,\n",
       " 'method_deconvolution': 'oasis',\n",
       " 'nb': 2,\n",
       " 'noise_method': 'mean',\n",
       " 'noise_range': [0.25, 0.5],\n",
       " 'num_blocks_per_run_temp': 20,\n",
       " 'optimize_g': False,\n",
       " 'p': 2,\n",
       " 's_min': None,\n",
       " 'solvers': ['ECOS', 'SCS'],\n",
       " 'verbosity': False}\n",
       "\n",
       "init_params:\n",
       "\n",
       "{'K': 8,\n",
       " 'SC_kernel': 'heat',\n",
       " 'SC_nnn': 20,\n",
       " 'SC_normalize': True,\n",
       " 'SC_sigma': 1,\n",
       " 'SC_thr': 0,\n",
       " 'SC_use_NN': False,\n",
       " 'alpha_snmf': 100,\n",
       " 'center_psf': False,\n",
       " 'gSig': [2, 2],\n",
       " 'gSiz': [5, 5],\n",
       " 'init_iter': 2,\n",
       " 'kernel': None,\n",
       " 'lambda_gnmf': 1,\n",
       " 'maxIter': 5,\n",
       " 'max_iter_snmf': 500,\n",
       " 'method_init': 'greedy_roi',\n",
       " 'min_corr': 0.85,\n",
       " 'min_pnr': 20,\n",
       " 'nIter': 5,\n",
       " 'nb': 2,\n",
       " 'normalize_init': True,\n",
       " 'options_local_NMF': None,\n",
       " 'perc_baseline_snmf': 20,\n",
       " 'ring_size_factor': 1.5,\n",
       " 'rolling_length': 100,\n",
       " 'rolling_sum': True,\n",
       " 'sigma_smooth_snmf': (0.5, 0.5, 0.5),\n",
       " 'ssub': 1,\n",
       " 'ssub_B': 2,\n",
       " 'tsub': 1}\n",
       "\n",
       "preprocess_params:\n",
       "\n",
       "{'check_nan': True,\n",
       " 'compute_g': False,\n",
       " 'include_noise': False,\n",
       " 'lags': 5,\n",
       " 'max_num_samples_fft': 3072,\n",
       " 'n_pixels_per_process': 100,\n",
       " 'noise_method': 'mean',\n",
       " 'noise_range': [0.25, 0.5],\n",
       " 'p': 2,\n",
       " 'pixels': None,\n",
       " 'sn': None}\n",
       "\n",
       "patch_params:\n",
       "\n",
       "{'border_pix': 0,\n",
       " 'del_duplicates': False,\n",
       " 'in_memory': True,\n",
       " 'low_rank_background': True,\n",
       " 'memory_fact': 1,\n",
       " 'n_processes': 1,\n",
       " 'nb_patch': 1,\n",
       " 'only_init': False,\n",
       " 'p_patch': 0,\n",
       " 'p_ssub': 1,\n",
       " 'p_tsub': 1,\n",
       " 'remove_very_bad_comps': False,\n",
       " 'rf': None,\n",
       " 'skip_refinement': False,\n",
       " 'stride': 12}\n",
       "\n",
       "online:\n",
       "\n",
       "{'N_samples_exceptionality': 18,\n",
       " 'batch_update_suff_stat': False,\n",
       " 'dist_shape_update': False,\n",
       " 'ds_factor': 1,\n",
       " 'epochs': 1,\n",
       " 'expected_comps': 500,\n",
       " 'init_batch': 200,\n",
       " 'init_method': 'bare',\n",
       " 'iters_shape': 5,\n",
       " 'max_comp_update_shape': inf,\n",
       " 'max_num_added': 5,\n",
       " 'max_shifts_online': 10,\n",
       " 'min_SNR': 2.0,\n",
       " 'min_num_trial': 5,\n",
       " 'minibatch_shape': 100,\n",
       " 'minibatch_suff_stat': 5,\n",
       " 'motion_correct': True,\n",
       " 'movie_name_online': '/n/coxfs01/2p-data/JC085/20190622/FOV1_zoom2p0x/retino_run1/raw_29070c/online_movie.avi',\n",
       " 'n_refit': 0,\n",
       " 'normalize': False,\n",
       " 'num_times_comp_updated': inf,\n",
       " 'path_to_model': '/n/home00/juliana.rhee/caiman_data/model/cnn_model_online.h5',\n",
       " 'rval_thr': 0.85,\n",
       " 'save_online_movie': False,\n",
       " 'show_movie': False,\n",
       " 'simultaneously': False,\n",
       " 'sniper_mode': False,\n",
       " 'test_both': False,\n",
       " 'thresh_CNN_noisy': 0.5,\n",
       " 'thresh_fitness_delta': -50,\n",
       " 'thresh_fitness_raw': -68.09731800627658,\n",
       " 'thresh_overlap': 0.5,\n",
       " 'update_freq': 200,\n",
       " 'update_num_comps': True,\n",
       " 'use_dense': True,\n",
       " 'use_peak_max': True}\n",
       "\n",
       "quality:\n",
       "\n",
       "{'SNR_lowest': 0.5,\n",
       " 'cnn_lowest': 0.1,\n",
       " 'gSig_range': None,\n",
       " 'min_SNR': 2.0,\n",
       " 'min_cnn_thr': 0.99,\n",
       " 'rval_lowest': -1,\n",
       " 'rval_thr': 0.85,\n",
       " 'use_cnn': True}\n",
       "\n",
       "merging:\n",
       "\n",
       "{'do_merge': True,\n",
       " 'max_merge_area': None,\n",
       " 'merge_parallel': False,\n",
       " 'merge_thr': 0.85}\n",
       "\n",
       "motion:\n",
       "\n",
       "{'border_nan': 'copy',\n",
       " 'gSig_filt': None,\n",
       " 'is3D': False,\n",
       " 'max_deviation_rigid': 3,\n",
       " 'max_shifts': (6, 6),\n",
       " 'min_mov': None,\n",
       " 'niter_rig': 1,\n",
       " 'nonneg_movie': True,\n",
       " 'num_frames_split': 80,\n",
       " 'num_splits_to_process_els': [7, None],\n",
       " 'num_splits_to_process_rig': None,\n",
       " 'overlaps': (48, 48),\n",
       " 'pw_rigid': False,\n",
       " 'shifts_opencv': True,\n",
       " 'splits_els': 27,\n",
       " 'splits_rig': 27,\n",
       " 'strides': (96, 96),\n",
       " 'upsample_factor_grid': 4,\n",
       " 'use_cuda': False}"
      ]
     },
     "execution_count": 43,
     "metadata": {},
     "output_type": "execute_result"
    }
   ],
   "source": [
    "\n",
    "\n",
    "# Reset default patch params to run on full\n",
    "rf = None          # half-size of the patches in pixels. `None` when seeded CNMF is used.\n",
    "only_init = False  # has to be `False` when seeded CNMF is used\n",
    "#gSig = (2, 2)      # expected half size of neurons in pixels, v important for proper component detection\n",
    "\n",
    "# params object\n",
    "opts_dict = {'fnames': fnames,\n",
    "            'decay_time': 0.4,\n",
    "            'p': 2,\n",
    "            'nb': 2,\n",
    "            'rf': rf,\n",
    "            'only_init': only_init,\n",
    "            'merge_thr': 0.85,\n",
    "            'n_pixels_per_process': 100}\n",
    "\n",
    "opts.change_params(opts_dict)"
   ]
  },
  {
   "cell_type": "code",
   "execution_count": 46,
   "metadata": {},
   "outputs": [
    {
     "name": "stderr",
     "output_type": "stream",
     "text": [
      "WARNING:root:Changing key init_batch in group online from 200 to 35728\n",
      "WARNING:root:Changing key medw in group spatial from None to (3, 3)\n"
     ]
    },
    {
     "name": "stdout",
     "output_type": "stream",
     "text": [
      "Extracting...\n",
      "spatial support for each components given by the user\n",
      "estimating f\n",
      "cluster temporary folder: /net/coxfs01/srv/export/coxfs01/share_root/2p-pipeline/repos/2p-pipeline/pipeline/python\n"
     ]
    },
    {
     "name": "stderr",
     "output_type": "stream",
     "text": [
      "WARNING:root:Changing key p in group temporal from 2 to 0\n"
     ]
    },
    {
     "name": "stdout",
     "output_type": "stream",
     "text": [
      "cluster temporary folder: /net/coxfs01/srv/export/coxfs01/share_root/2p-pipeline/repos/2p-pipeline/pipeline/python\n"
     ]
    },
    {
     "name": "stderr",
     "output_type": "stream",
     "text": [
      "WARNING:root:Changing key p in group temporal from 0 to 2\n"
     ]
    },
    {
     "name": "stdout",
     "output_type": "stream",
     "text": [
      "--> Elapsed time: 1412.08sec\n",
      "A: (262144, 389)\n"
     ]
    }
   ],
   "source": [
    "\n",
    "\n",
    "# Run cnmf\n",
    "print(\"Extracting...\")\n",
    "start_t = time.time()\n",
    "\n",
    "cnm = cnmf.CNMF(n_processes, params=opts, dview=dview, Ain=Ain)\n",
    "cnm.fit(images)\n",
    "end_t = time.time() - start_t\n",
    "print(\"--> Elapsed time: {0:.2f}sec\".format(end_t))\n",
    "print(\"A:\", cnm.estimates.A.shape)\n",
    "\n",
    "# Cn = cm.local_correlations(images.transpose(1,2,0))\n",
    "# fig = pl.figure()\n",
    "# pl.imshow(Cn, cmap='gray')\n",
    "# pl.savefig(os.path.join(results_dir, '%s_Cn.png' % prefix))\n",
    "# pl.close()\n"
   ]
  },
  {
   "cell_type": "code",
   "execution_count": 47,
   "metadata": {},
   "outputs": [
    {
     "name": "stderr",
     "output_type": "stream",
     "text": [
      "WARNING:root:Changing key min_SNR in group quality from 2.0 to 1.5\n",
      "WARNING:root:Changing key cnn_lowest in group quality from 0.1 to 0.05\n"
     ]
    },
    {
     "name": "stdout",
     "output_type": "stream",
     "text": [
      "Evaluatnig components...\n",
      "USING MODEL:/n/home00/juliana.rhee/caiman_data/model/cnn_model.json\n",
      "WARNING:tensorflow:From /n/coxfs01/2p-pipeline/envs/caiman/lib/python3.7/site-packages/tensorflow/python/ops/resource_variable_ops.py:435: colocate_with (from tensorflow.python.framework.ops) is deprecated and will be removed in a future version.\n",
      "Instructions for updating:\n",
      "Colocations handled automatically by placer.\n"
     ]
    },
    {
     "name": "stderr",
     "output_type": "stream",
     "text": [
      "WARNING:tensorflow:From /n/coxfs01/2p-pipeline/envs/caiman/lib/python3.7/site-packages/tensorflow/python/ops/resource_variable_ops.py:435: colocate_with (from tensorflow.python.framework.ops) is deprecated and will be removed in a future version.\n",
      "Instructions for updating:\n",
      "Colocations handled automatically by placer.\n"
     ]
    },
    {
     "name": "stdout",
     "output_type": "stream",
     "text": [
      "WARNING:tensorflow:From /n/coxfs01/2p-pipeline/envs/caiman/lib/python3.7/site-packages/tensorflow/python/keras/layers/core.py:143: calling dropout (from tensorflow.python.ops.nn_ops) with keep_prob is deprecated and will be removed in a future version.\n",
      "Instructions for updating:\n",
      "Please use `rate` instead of `keep_prob`. Rate should be set to `rate = 1 - keep_prob`.\n"
     ]
    },
    {
     "name": "stderr",
     "output_type": "stream",
     "text": [
      "WARNING:tensorflow:From /n/coxfs01/2p-pipeline/envs/caiman/lib/python3.7/site-packages/tensorflow/python/keras/layers/core.py:143: calling dropout (from tensorflow.python.ops.nn_ops) with keep_prob is deprecated and will be removed in a future version.\n",
      "Instructions for updating:\n",
      "Please use `rate` instead of `keep_prob`. Rate should be set to `rate = 1 - keep_prob`.\n"
     ]
    },
    {
     "name": "stdout",
     "output_type": "stream",
     "text": [
      "389/389 [==============================] - 3s 7ms/sample\n",
      "--> evaluation - Elapsed time: 38.15sec\n"
     ]
    }
   ],
   "source": [
    "\n",
    "# Evaluate components \n",
    "print(\"Evaluatnig components...\")\n",
    "# parameters for component evaluation\n",
    "min_SNR = 1.5               # signal to noise ratio for accepting a component\n",
    "rval_thr = 0.85              # space correlation threshold for accepting a component\n",
    "min_cnn_thr = 0.99          # threshold for CNN based classifier\n",
    "cnn_lowest = 0.05           # neurons with cnn probability lower than this value are rejected\n",
    "#cnm_seeded.estimates.restore_discarded_components()\n",
    "cnm.params.set('quality', {'min_SNR': min_SNR,\n",
    "                           'rval_thr': rval_thr,\n",
    "                           'use_cnn': True,\n",
    "                           'min_cnn_thr': min_cnn_thr,\n",
    "                           'cnn_lowest': cnn_lowest})\n",
    "\n",
    "#%% COMPONENT EVALUATION\n",
    "# the components are evaluated in three ways:\n",
    "#   a) the shape of each component must be correlated with the data\n",
    "#   b) a minimum peak SNR is required over the length of a transient\n",
    "#   c) each shape passes a CNN based classifier\n",
    "start_t = time.time()\n",
    "cnm.estimates.evaluate_components(images, cnm.params, dview=dview)\n",
    "end_t = time.time() - start_t\n",
    "print(\"--> evaluation - Elapsed time: {0:.2f}sec\".format(end_t))\n"
   ]
  },
  {
   "cell_type": "code",
   "execution_count": 48,
   "metadata": {},
   "outputs": [
    {
     "name": "stdout",
     "output_type": "stream",
     "text": [
      "Extracting df/f...\n"
     ]
    }
   ],
   "source": [
    "\n",
    "#%% Extract DF/F values\n",
    "print(\"Extracting df/f...\")\n",
    "quantileMin = 10 # 8\n",
    "frames_window_sec = 30.\n",
    "if 'downsample' in mm_prefix:\n",
    "    ds_factor = float(mm_prefix.split('downsample-')[-1]) #opts.init['tsub']\n",
    "else:\n",
    "    ds_factor = float(opts.init['tsub'])\n",
    "fr = float(opts.data['fr'])\n",
    "frames_window = int(round(frames_window_sec * (fr / ds_factor))) # 250\n",
    "dff_params = {'quantileMin': quantileMin,\n",
    "              'frames_window_sec': frames_window_sec,\n",
    "              'ds_factor': ds_factor,\n",
    "              'fr': fr,\n",
    "              'frames_window': frames_window,\n",
    "              'source': fname_tot}\n",
    "\n",
    "with open(os.path.join(results_dir, '%s_processing-params.json' % prefix), 'w') as f:\n",
    "    json.dump(dff_params, f, indent=4)\n"
   ]
  },
  {
   "cell_type": "code",
   "execution_count": 49,
   "metadata": {},
   "outputs": [
    {
     "name": "stdout",
     "output_type": "stream",
     "text": [
      "--> Elapsed time: 451.26sec\n"
     ]
    },
    {
     "name": "stderr",
     "output_type": "stream",
     "text": [
      "/n/coxfs01/2p-pipeline/envs/caiman/lib/python3.7/site-packages/h5py/_hl/dataset.py:313: H5pyDeprecationWarning: dataset.value has been deprecated. Use dataset[()] instead.\n",
      "  \"Use dataset[()] instead.\", H5pyDeprecationWarning)\n"
     ]
    },
    {
     "name": "stdout",
     "output_type": "stream",
     "text": [
      "Saved results: /n/coxfs01/2p-data/JC085/20190622/FOV1_zoom2p0x/retino_run1/caiman_results/seed-cnm_seeded-JC085-20190622-FOV1_zoom2p0x-retino_run1_results.hdf5\n",
      "******DONE!**********\n"
     ]
    }
   ],
   "source": [
    "\n",
    "start_t = time.time()\n",
    "cnm.estimates.detrend_df_f(quantileMin=quantileMin, frames_window=frames_window)\n",
    "end_t = time.time() - start_t\n",
    "print(\"--> Elapsed time: {0:.2f}sec\".format(end_t))\n",
    "\n",
    "# save results\n",
    "save_results = True\n",
    "if save_results:\n",
    "    cnm.save(os.path.join(results_dir, 'seed-cnm_%s_results.hdf5' % prefix))\n",
    "print(\"Saved results: %s\" % os.path.join(results_dir, 'seed-cnm_%s_results.hdf5' % prefix))\n",
    "\n",
    "print(\"******DONE!**********\")"
   ]
  },
  {
   "cell_type": "code",
   "execution_count": null,
   "metadata": {},
   "outputs": [],
   "source": [
    "\n",
    "Cn = cm.local_correlations(images.transpose(1,2,0))\n",
    "fig = pl.figure()\n",
    "pl.imshow(Cn, cmap='gray')\n",
    "pl.savefig(os.path.join(results_dir, '%s_Cn.png' % prefix))\n",
    "pl.close()"
   ]
  },
  {
   "cell_type": "code",
   "execution_count": null,
   "metadata": {},
   "outputs": [],
   "source": []
  },
  {
   "cell_type": "markdown",
   "metadata": {},
   "source": [
    "# Logging"
   ]
  },
  {
   "cell_type": "code",
   "execution_count": 37,
   "metadata": {},
   "outputs": [],
   "source": [
    "logging.basicConfig(format=\n",
    "                          \"%(relativeCreated)12d [%(filename)s:%(funcName)20s():%(lineno)s] [%(process)d] %(message)s\",\n",
    "                    filename=os.path.join(results_dir, 'caiman.log'),\n",
    "                    level=logging.WARNING)"
   ]
  },
  {
   "cell_type": "code",
   "execution_count": null,
   "metadata": {},
   "outputs": [],
   "source": [
    "\n",
    "\n",
    "# Load data\n",
    "Yr, dims, T = cm.load_memmap(fname_tot)\n",
    "images = np.reshape(Yr.T, [T] + list(dims), order='F') #np.reshape(Yr, dims + (T,), order='F')\n",
    "print(\"Loaded data:\", images.shape)\n",
    "\n",
    "# Create opts for cnmf\n",
    "print(\"Preparing for CNMF extraction...\") \n",
    "#fnames = get_file_paths(results_dir, prefix=prefix) \n",
    "fnames = sorted(glob.glob(os.path.join(results_dir, 'downsample-5', '*.tif')), key=natural_keys)\n",
    "# fnames = sorted(glob.glob(os.path.join(fovdir,\n",
    "#                                        'retino_run2', 'raw*','fov1*_.mmap')), key=natural_keys)\n",
    "\n",
    "print(\"--> got %i files for extraction\" % len(fnames))"
   ]
  },
  {
   "cell_type": "code",
   "execution_count": 38,
   "metadata": {},
   "outputs": [],
   "source": [
    "nrois, d1, d2 = masks.shape"
   ]
  },
  {
   "cell_type": "code",
   "execution_count": null,
   "metadata": {},
   "outputs": [],
   "source": [
    "Cn = cm.local_correlations(images.transpose(1,2,0))\n",
    "Cn[np.isnan(Cn)] = 0\n",
    "pl.figure()\n",
    "pl.imshow(Cn, cmap='gray')"
   ]
  },
  {
   "cell_type": "code",
   "execution_count": null,
   "metadata": {},
   "outputs": [],
   "source": [
    "fig, axes = pl.subplots(2,2, figsize=(12,12))\n",
    "axes[0, 0].imshow(Ain.reshape((d1, d2, nrois)).sum(axis=-1))\n",
    "axes[0, 1].imshow(np.sum(masks, axis=0).T)\n",
    "axes[1, 0].imshow(Cn, cmap='gray')\n",
    "axes[1, 1].imshow(zimg, cmap='gray', vmin=np.percentile(zimg, 1), vmax=np.percentile(zimg, 99.8))"
   ]
  },
  {
   "cell_type": "code",
   "execution_count": null,
   "metadata": {},
   "outputs": [],
   "source": [
    "masks.shape"
   ]
  },
  {
   "cell_type": "code",
   "execution_count": null,
   "metadata": {},
   "outputs": [],
   "source": [
    "pl.figure(figsize=(10,10))\n",
    "mr = np.swapaxes(masks, 1, 2) #np.sum(masks, axis=0)\n",
    "maskr = np.sum(mr, axis=0)\n",
    "msk = maskr.copy()\n",
    "msk[maskr==0] = np.nan\n",
    "pl.imshow(zimg, vmin=np.percentile(zimg, 1), vmax=np.percentile(zimg, 99.8))\n",
    "pl.imshow( msk)"
   ]
  },
  {
   "cell_type": "code",
   "execution_count": null,
   "metadata": {},
   "outputs": [],
   "source": [
    "prefix"
   ]
  },
  {
   "cell_type": "code",
   "execution_count": null,
   "metadata": {
    "scrolled": true
   },
   "outputs": [],
   "source": [
    "\n",
    "opts = caiman_params(fnames)"
   ]
  },
  {
   "cell_type": "code",
   "execution_count": null,
   "metadata": {},
   "outputs": [],
   "source": [
    "if seed_manual:\n",
    "    # params object\n",
    "    dview=None \n",
    "    # Reset default patch params to run on full\n",
    "    rf = None          # half-size of the patches in pixels. `None` when seeded CNMF is used.\n",
    "    only_init = False  # has to be `False` when seeded CNMF is used\n",
    "    gSig = (2, 2)      # expected half size of neurons in pixels, v important for proper component detection\n",
    "    fr = 44.65 \n",
    "\n",
    "    opts_dict = {'fnames': fnames,\n",
    "                 'fr': fr,\n",
    "                'decay_time': 0.4,\n",
    "                'p': 2,\n",
    "                'nb': 2,\n",
    "                'rf': rf,\n",
    "                'only_init': only_init,\n",
    "                'gSig': gSig,\n",
    "                'ssub': 1,\n",
    "                'tsub': 1,\n",
    "                'merge_thr': 0.85,\n",
    "                'n_pixels_per_process': 1000}\n",
    "\n",
    "    opts.change_params(opts_dict)\n",
    "    #opts = params.CNMFParams(params_dict=opts_dict)\n",
    "    "
   ]
  },
  {
   "cell_type": "code",
   "execution_count": null,
   "metadata": {},
   "outputs": [],
   "source": [
    "print(n_processes)"
   ]
  },
  {
   "cell_type": "code",
   "execution_count": null,
   "metadata": {
    "scrolled": true
   },
   "outputs": [],
   "source": [
    "\n",
    "# #%% start a cluster for parallel processing \n",
    "#(if a cluster already exists it will be closed and a new session will be opened)\n",
    "if 'dview' in locals():\n",
    "    cm.stop_server(dview=dview)\n",
    "c, dview, n_processes = cm.cluster.setup_cluster(\n",
    "    backend='local', n_processes=n_processes, single_thread=False)\n",
    "#n_processes=2\n",
    "#dview = None\n",
    "print(\"--- running on %i processes ---\" % n_processes)\n",
    "print(\"--- dview: \", dview)\n"
   ]
  },
  {
   "cell_type": "code",
   "execution_count": 26,
   "metadata": {},
   "outputs": [],
   "source": [
    "crd = nb_plot_contour(Cn, Ain.astype('float32'), Cn.shape[0], Cn.shape[1], thr=0.99)\n"
   ]
  },
  {
   "cell_type": "code",
   "execution_count": 27,
   "metadata": {
    "scrolled": true
   },
   "outputs": [
    {
     "name": "stdout",
     "output_type": "stream",
     "text": [
      "spatial support for each components given by the user\n",
      "cluster temporary folder: /net/coxfs01/srv/export/coxfs01/share_root/2p-pipeline/repos/2p-pipeline/pipeline/python\n",
      "cluster temporary folder: /net/coxfs01/srv/export/coxfs01/share_root/2p-pipeline/repos/2p-pipeline/pipeline/python\n",
      "--> Elapsed time: 1566935821.91sec\n"
     ]
    }
   ],
   "source": [
    "if seed_manual:\n",
    "    start_t = time.time()  \n",
    "    cnm = cnmf.CNMF(n_processes, params=opts, dview=dview, Ain=Ain) \n",
    "    cnm.fit(images)\n",
    "    end_t = time.time() \n",
    "    print(\"--> Elapsed time: {0:.2f}sec\".format(end_t))  "
   ]
  },
  {
   "cell_type": "code",
   "execution_count": 28,
   "metadata": {},
   "outputs": [
    {
     "data": {
      "text/plain": [
       "(262144, 238)"
      ]
     },
     "execution_count": 28,
     "metadata": {},
     "output_type": "execute_result"
    }
   ],
   "source": [
    "cnm.estimates.A.shape"
   ]
  },
  {
   "cell_type": "code",
   "execution_count": 62,
   "metadata": {},
   "outputs": [],
   "source": [
    "Av = images.mean(axis=0)\n"
   ]
  },
  {
   "cell_type": "code",
   "execution_count": 97,
   "metadata": {},
   "outputs": [
    {
     "data": {
      "text/plain": [
       "(262144, 238)"
      ]
     },
     "execution_count": 97,
     "metadata": {},
     "output_type": "execute_result"
    }
   ],
   "source": [
    "Ain.shape"
   ]
  },
  {
   "cell_type": "code",
   "execution_count": null,
   "metadata": {},
   "outputs": [],
   "source": [
    "AAin2.reshape((d1, d2, nrois)), 1, 2)"
   ]
  },
  {
   "cell_type": "code",
   "execution_count": 98,
   "metadata": {},
   "outputs": [
    {
     "data": {
      "text/plain": [
       "<matplotlib.image.AxesImage at 0x2b0edbb26da0>"
      ]
     },
     "execution_count": 98,
     "metadata": {},
     "output_type": "execute_result"
    },
    {
     "data": {
      "image/png": "[encoded data removed]",
      "text/plain": [
       "<Figure size 864x576 with 3 Axes>"
      ]
     },
     "metadata": {
      "needs_background": "light"
     },
     "output_type": "display_data"
    }
   ],
   "source": [
    "fig, axes = pl.subplots(1,3, figsize=(12,8))\n",
    "axes[0].imshow(Cn)\n",
    "axes[1].imshow(Av)\n",
    "axes[2].imshow(Ain.reshape((d1, d2, nrois)).sum(axis=-1))\n"
   ]
  },
  {
   "cell_type": "code",
   "execution_count": 79,
   "metadata": {},
   "outputs": [
    {
     "data": {
      "text/plain": [
       "(262144, 238)"
      ]
     },
     "execution_count": 79,
     "metadata": {},
     "output_type": "execute_result"
    }
   ],
   "source": [
    "Ain.astype('float32').shape"
   ]
  },
  {
   "cell_type": "code",
   "execution_count": 112,
   "metadata": {},
   "outputs": [],
   "source": [
    "crd = nb_plot_contour(Cn, Ain.astype('float32'), Av.shape[0], Av.shape[1], thr=0.99)\n"
   ]
  },
  {
   "cell_type": "code",
   "execution_count": 21,
   "metadata": {},
   "outputs": [
    {
     "data": {
      "text/plain": [
       "<caiman.source_extraction.cnmf.estimates.Estimates at 0x2ad7ca2605c0>"
      ]
     },
     "execution_count": 21,
     "metadata": {},
     "output_type": "execute_result"
    }
   ],
   "source": [
    "\n",
    "#%% plot contours of found components\n",
    "Cn = cm.local_correlations(images.transpose(1,2,0))\n",
    "Cn[np.isnan(Cn)] = 0\n",
    "cnm.estimates.plot_contours_nb(img=Cn)"
   ]
  },
  {
   "cell_type": "code",
   "execution_count": 24,
   "metadata": {},
   "outputs": [
    {
     "data": {
      "image/png": "[encoded data removed]",
      "text/plain": [
       "<Figure size 432x288 with 2 Axes>"
      ]
     },
     "metadata": {
      "needs_background": "light"
     },
     "output_type": "display_data"
    }
   ],
   "source": [
    "pl.figure()\n",
    "pl.imshow(Cn, cmap='gray')\n",
    "pl.colorbar()\n",
    "\n",
    "pl.savefig(os.path.join(results_dir, '%s_Cn.png' % prefix))"
   ]
  },
  {
   "cell_type": "code",
   "execution_count": 25,
   "metadata": {},
   "outputs": [
    {
     "data": {
      "text/plain": [
       "(262144, 0)"
      ]
     },
     "execution_count": 25,
     "metadata": {},
     "output_type": "execute_result"
    }
   ],
   "source": [
    "cnm.estimates.A.shape"
   ]
  },
  {
   "cell_type": "markdown",
   "metadata": {},
   "source": [
    "# Try patches"
   ]
  },
  {
   "cell_type": "code",
   "execution_count": 19,
   "metadata": {},
   "outputs": [
    {
     "name": "stderr",
     "output_type": "stream",
     "text": [
      "WARNING:root:Changing key p in group preprocess from 2 to 0\n",
      "WARNING:root:Changing key p in group temporal from 2 to 0\n",
      "WARNING:root:Changing key n_processes in group patch from 1 to 8\n",
      "WARNING:root:Changing key init_batch in group online from 200 to 35728\n",
      "WARNING:root:Changing key medw in group spatial from None to (3, 3)\n",
      "WARNING:root:Changing key n_pixels_per_process in group preprocess from None to 28077\n",
      "WARNING:root:Changing key n_pixels_per_process in group spatial from None to 28077\n",
      "WARNING:root:Changing key n_pixels_per_process in group preprocess from 28077 to 625\n",
      "WARNING:root:Changing key n_pixels_per_process in group spatial from 28077 to 625\n"
     ]
    }
   ],
   "source": [
    "%%capture\n",
    "#%% RUN CNMF ON PATCHES\n",
    "\n",
    "# First extract spatial and temporal components on patches and combine them\n",
    "# for this step deconvolution is turned off (p=0)\n",
    "opts.change_params({'p': 0})\n",
    "cnm = cnmf.CNMF(n_processes, params=opts, dview=dview)\n",
    "cnm = cnm.fit(images)"
   ]
  },
  {
   "cell_type": "code",
   "execution_count": 19,
   "metadata": {},
   "outputs": [
    {
     "data": {
      "text/plain": [
       "<caiman.source_extraction.cnmf.estimates.Estimates at 0x2b965756d208>"
      ]
     },
     "execution_count": 19,
     "metadata": {},
     "output_type": "execute_result"
    }
   ],
   "source": [
    "#%% plot contours of found components\n",
    "Cn = cm.local_correlations(images.transpose(1,2,0))\n",
    "Cn[np.isnan(Cn)] = 0\n",
    "cnm.estimates.plot_contours_nb(img=Cn)"
   ]
  },
  {
   "cell_type": "code",
   "execution_count": 20,
   "metadata": {},
   "outputs": [
    {
     "data": {
      "text/plain": [
       "<caiman.source_extraction.cnmf.estimates.Estimates at 0x2b965756d208>"
      ]
     },
     "execution_count": 20,
     "metadata": {},
     "output_type": "execute_result"
    }
   ],
   "source": [
    "cnm.estimates.plot_contours_nb(img=Cn)"
   ]
  },
  {
   "cell_type": "markdown",
   "metadata": {},
   "source": [
    "# Rerun on full"
   ]
  },
  {
   "cell_type": "code",
   "execution_count": 89,
   "metadata": {},
   "outputs": [
    {
     "name": "stderr",
     "output_type": "stream",
     "text": [
      "WARNING:root:Changing key p in group preprocess from 2 to 1\n",
      "WARNING:root:Changing key p in group temporal from 2 to 1\n",
      "WARNING:root:Changing key p in group temporal from 1 to 0\n",
      "WARNING:root:Changing key p in group temporal from 0 to 1\n"
     ]
    }
   ],
   "source": [
    "# %%capture\n",
    "# #%% RE-RUN seeded CNMF on accepted patches to refine and perform deconvolution \n",
    "# p=1\n",
    "\n",
    "# # Reset default patch params to run on full\n",
    "# rf = None          # half-size of the patches in pixels. `None` when seeded CNMF is used.\n",
    "# only_init = False  # has to be `False` when seeded CNMF is used\n",
    "# gSig = (2, 2)      # expected half size of neurons in pixels, v important for proper component detection\n",
    "# cnm.params.change_params({'p': p, 'rf': rf, 'only_init': only_init, 'gSig': gSig})\n",
    "# cnm2 = cnm.fit(images, dview=None)    \n"
   ]
  },
  {
   "cell_type": "code",
   "execution_count": 20,
   "metadata": {},
   "outputs": [
    {
     "data": {
      "text/plain": [
       "(262144, 1108)"
      ]
     },
     "execution_count": 20,
     "metadata": {},
     "output_type": "execute_result"
    }
   ],
   "source": [
    "cnm.estimates.A.shape"
   ]
  },
  {
   "cell_type": "code",
   "execution_count": 21,
   "metadata": {},
   "outputs": [
    {
     "name": "stderr",
     "output_type": "stream",
     "text": [
      "WARNING:root:Changing key p in group preprocess from 0 to 2\n",
      "WARNING:root:Changing key p in group temporal from 0 to 2\n"
     ]
    },
    {
     "name": "stdout",
     "output_type": "stream",
     "text": [
      "cluster temporary folder: /net/coxfs01/srv/export/coxfs01/share_root/2p-pipeline/repos/2p-pipeline/pipeline/python\n"
     ]
    },
    {
     "name": "stderr",
     "output_type": "stream",
     "text": [
      "WARNING:root:Changing key p in group temporal from 2 to 0\n"
     ]
    },
    {
     "name": "stdout",
     "output_type": "stream",
     "text": [
      "cluster temporary folder: /net/coxfs01/srv/export/coxfs01/share_root/2p-pipeline/repos/2p-pipeline/pipeline/python\n"
     ]
    },
    {
     "name": "stderr",
     "output_type": "stream",
     "text": [
      "WARNING:root:Changing key p in group temporal from 0 to 2\n"
     ]
    }
   ],
   "source": [
    "\n",
    "#\n",
    "p=2\n",
    "cnm.params.change_params({'p': p})\n",
    "cnm2 = cnm.refit(images, dview=None)"
   ]
  },
  {
   "cell_type": "code",
   "execution_count": 22,
   "metadata": {},
   "outputs": [
    {
     "data": {
      "text/plain": [
       "(262144, 1108)"
      ]
     },
     "execution_count": 22,
     "metadata": {},
     "output_type": "execute_result"
    }
   ],
   "source": [
    "cnm2.estimates.A.shape"
   ]
  },
  {
   "cell_type": "code",
   "execution_count": 23,
   "metadata": {},
   "outputs": [
    {
     "data": {
      "text/plain": [
       "['JC085-20190622-FOV1_zoom2p0x-retino_run1_mc-rigid.npz',\n",
       " 'seed-cnm_seeded-JC085-20190622-FOV1_zoom2p0x-retino_run1_results.hdf5',\n",
       " 'JC085-20190622-FOV1_zoom2p0x-retino_run1_processing-params.json',\n",
       " 'patch-cnm_JC085-20190622-FOV1_zoom2p0x-retino_run1_results.hdf5',\n",
       " 'memmap',\n",
       " 'seeded-JC085-20190622-FOV1_zoom2p0x-retino_run1_processing-params.json']"
      ]
     },
     "execution_count": 23,
     "metadata": {},
     "output_type": "execute_result"
    }
   ],
   "source": [
    "os.listdir(results_dir)"
   ]
  },
  {
   "cell_type": "code",
   "execution_count": 25,
   "metadata": {
    "scrolled": true
   },
   "outputs": [
    {
     "name": "stdout",
     "output_type": "stream",
     "text": [
      "(262144, 1108)\n"
     ]
    }
   ],
   "source": [
    "print(cnm2.estimates.A.shape)"
   ]
  },
  {
   "cell_type": "code",
   "execution_count": 44,
   "metadata": {
    "scrolled": true
   },
   "outputs": [
    {
     "data": {
      "text/plain": [
       "CNMFParams:\n",
       "\n",
       "data:\n",
       "\n",
       "{'caiman_version': '1.6.2',\n",
       " 'decay_time': 0.4,\n",
       " 'dims': (512, 512),\n",
       " 'dxy': (1, 1),\n",
       " 'fnames': ['/n/coxfs01/2p-data/JC084/20190525/FOV1_zoom2p0x/caiman_results/gratings/downsample-5/file00001_fov1_gratings_00001.tif',\n",
       "            '/n/coxfs01/2p-data/JC084/20190525/FOV1_zoom2p0x/caiman_results/gratings/downsample-5/file00002_fov1_gratings_00002.tif',\n",
       "            '/n/coxfs01/2p-data/JC084/20190525/FOV1_zoom2p0x/caiman_results/gratings/downsample-5/file00003_fov1_gratings_00003.tif',\n",
       "            '/n/coxfs01/2p-data/JC084/20190525/FOV1_zoom2p0x/caiman_results/gratings/downsample-5/file00004_fov1_gratings_00004.tif',\n",
       "            '/n/coxfs01/2p-data/JC084/20190525/FOV1_zoom2p0x/caiman_results/gratings/downsample-5/file00005_fov1_gratings_00005.tif',\n",
       "            '/n/coxfs01/2p-data/JC084/20190525/FOV1_zoom2p0x/caiman_results/gratings/downsample-5/file00006_fov1_gratings_00006.tif',\n",
       "            '/n/coxfs01/2p-data/JC084/20190525/FOV1_zoom2p0x/caiman_results/gratings/downsample-5/file00007_fov1_gratings_00007.tif',\n",
       "            '/n/coxfs01/2p-data/JC084/20190525/FOV1_zoom2p0x/caiman_results/gratings/downsample-5/file00008_fov1_gratings_00008.tif',\n",
       "            '/n/coxfs01/2p-data/JC084/20190525/FOV1_zoom2p0x/caiman_results/gratings/downsample-5/file00009_fov1_gratings_00001.tif',\n",
       "            '/n/coxfs01/2p-data/JC084/20190525/FOV1_zoom2p0x/caiman_results/gratings/downsample-5/file00010_fov1_gratings_00002.tif',\n",
       "            '/n/coxfs01/2p-data/JC084/20190525/FOV1_zoom2p0x/caiman_results/gratings/downsample-5/file00011_fov1_gratings_00003.tif',\n",
       "            '/n/coxfs01/2p-data/JC084/20190525/FOV1_zoom2p0x/caiman_results/gratings/downsample-5/file00012_fov1_gratings_00004.tif',\n",
       "            '/n/coxfs01/2p-data/JC084/20190525/FOV1_zoom2p0x/caiman_results/gratings/downsample-5/file00013_fov1_gratings_00005.tif',\n",
       "            '/n/coxfs01/2p-data/JC084/20190525/FOV1_zoom2p0x/caiman_results/gratings/downsample-5/file00014_fov1_gratings_00006.tif',\n",
       "            '/n/coxfs01/2p-data/JC084/20190525/FOV1_zoom2p0x/caiman_results/gratings/downsample-5/file00015_fov1_gratings_00007.tif',\n",
       "            '/n/coxfs01/2p-data/JC084/20190525/FOV1_zoom2p0x/caiman_results/gratings/downsample-5/file00016_fov1_gratings_00008.tif',\n",
       "            '/n/coxfs01/2p-data/JC084/20190525/FOV1_zoom2p0x/caiman_results/gratings/downsample-5/file00017_fov1_gratings_00001.tif',\n",
       "            '/n/coxfs01/2p-data/JC084/20190525/FOV1_zoom2p0x/caiman_results/gratings/downsample-5/file00018_fov1_gratings_00002.tif',\n",
       "            '/n/coxfs01/2p-data/JC084/20190525/FOV1_zoom2p0x/caiman_results/gratings/downsample-5/file00019_fov1_gratings_00003.tif',\n",
       "            '/n/coxfs01/2p-data/JC084/20190525/FOV1_zoom2p0x/caiman_results/gratings/downsample-5/file00020_fov1_gratings_00004.tif',\n",
       "            '/n/coxfs01/2p-data/JC084/20190525/FOV1_zoom2p0x/caiman_results/gratings/downsample-5/file00021_fov1_gratings_00005.tif',\n",
       "            '/n/coxfs01/2p-data/JC084/20190525/FOV1_zoom2p0x/caiman_results/gratings/downsample-5/file00022_fov1_gratings_00006.tif',\n",
       "            '/n/coxfs01/2p-data/JC084/20190525/FOV1_zoom2p0x/caiman_results/gratings/downsample-5/file00023_fov1_gratings_00007.tif',\n",
       "            '/n/coxfs01/2p-data/JC084/20190525/FOV1_zoom2p0x/caiman_results/gratings/downsample-5/file00024_fov1_gratings_00008.tif',\n",
       "            '/n/coxfs01/2p-data/JC084/20190525/FOV1_zoom2p0x/caiman_results/gratings/downsample-5/file00025_fov1_gratings_00001.tif',\n",
       "            '/n/coxfs01/2p-data/JC084/20190525/FOV1_zoom2p0x/caiman_results/gratings/downsample-5/file00026_fov1_gratings_00002.tif',\n",
       "            '/n/coxfs01/2p-data/JC084/20190525/FOV1_zoom2p0x/caiman_results/gratings/downsample-5/file00027_fov1_gratings_00003.tif',\n",
       "            '/n/coxfs01/2p-data/JC084/20190525/FOV1_zoom2p0x/caiman_results/gratings/downsample-5/file00028_fov1_gratings_00004.tif',\n",
       "            '/n/coxfs01/2p-data/JC084/20190525/FOV1_zoom2p0x/caiman_results/gratings/downsample-5/file00029_fov1_gratings_00005.tif',\n",
       "            '/n/coxfs01/2p-data/JC084/20190525/FOV1_zoom2p0x/caiman_results/gratings/downsample-5/file00030_fov1_gratings_00006.tif',\n",
       "            '/n/coxfs01/2p-data/JC084/20190525/FOV1_zoom2p0x/caiman_results/gratings/downsample-5/file00031_fov1_gratings_00007.tif',\n",
       "            '/n/coxfs01/2p-data/JC084/20190525/FOV1_zoom2p0x/caiman_results/gratings/downsample-5/file00032_fov1_gratings_00008.tif'],\n",
       " 'fr': 44.65,\n",
       " 'last_commit': 'GITW-835e3a1cd24293b6d8eaad79dd1a286de9aadad3',\n",
       " 'mmap_C': None,\n",
       " 'mmap_F': None,\n",
       " 'var_name_hdf5': 'mov'}\n",
       "\n",
       "spatial_params:\n",
       "\n",
       "{'block_size_spat': 5000,\n",
       " 'dist': 3,\n",
       " 'expandCore': array([[0, 0, 1, 0, 0],\n",
       "       [0, 1, 1, 1, 0],\n",
       "       [1, 1, 1, 1, 1],\n",
       "       [0, 1, 1, 1, 0],\n",
       "       [0, 0, 1, 0, 0]]),\n",
       " 'extract_cc': True,\n",
       " 'maxthr': 0.1,\n",
       " 'medw': (3, 3),\n",
       " 'method_exp': 'dilate',\n",
       " 'method_ls': 'lasso_lars',\n",
       " 'n_pixels_per_process': 1000,\n",
       " 'nb': 2,\n",
       " 'normalize_yyt_one': True,\n",
       " 'nrgthr': 0.9999,\n",
       " 'num_blocks_per_run_spat': 20,\n",
       " 'se': array([[1, 1, 1],\n",
       "       [1, 1, 1],\n",
       "       [1, 1, 1]], dtype=uint8),\n",
       " 'ss': array([[1, 1, 1],\n",
       "       [1, 1, 1],\n",
       "       [1, 1, 1]], dtype=uint8),\n",
       " 'thr_method': 'nrg',\n",
       " 'update_background_components': True}\n",
       "\n",
       "temporal_params:\n",
       "\n",
       "{'ITER': 2,\n",
       " 'bas_nonneg': False,\n",
       " 'block_size_temp': 5000,\n",
       " 'fudge_factor': 0.96,\n",
       " 'lags': 5,\n",
       " 'memory_efficient': False,\n",
       " 'method_deconvolution': 'oasis',\n",
       " 'nb': 2,\n",
       " 'noise_method': 'mean',\n",
       " 'noise_range': [0.25, 0.5],\n",
       " 'num_blocks_per_run_temp': 20,\n",
       " 'optimize_g': False,\n",
       " 'p': 2,\n",
       " 's_min': None,\n",
       " 'solvers': ['ECOS', 'SCS'],\n",
       " 'verbosity': False}\n",
       "\n",
       "init_params:\n",
       "\n",
       "{'K': 8,\n",
       " 'SC_kernel': 'heat',\n",
       " 'SC_nnn': 20,\n",
       " 'SC_normalize': True,\n",
       " 'SC_sigma': 1,\n",
       " 'SC_thr': 0,\n",
       " 'SC_use_NN': False,\n",
       " 'alpha_snmf': 100,\n",
       " 'center_psf': False,\n",
       " 'gSig': (2, 2),\n",
       " 'gSiz': [11, 11],\n",
       " 'init_iter': 2,\n",
       " 'kernel': None,\n",
       " 'lambda_gnmf': 1,\n",
       " 'maxIter': 5,\n",
       " 'max_iter_snmf': 500,\n",
       " 'method_init': 'greedy_roi',\n",
       " 'min_corr': 0.85,\n",
       " 'min_pnr': 20,\n",
       " 'nIter': 5,\n",
       " 'nb': 2,\n",
       " 'normalize_init': True,\n",
       " 'options_local_NMF': None,\n",
       " 'perc_baseline_snmf': 20,\n",
       " 'ring_size_factor': 1.5,\n",
       " 'rolling_length': 100,\n",
       " 'rolling_sum': True,\n",
       " 'sigma_smooth_snmf': (0.5, 0.5, 0.5),\n",
       " 'ssub': 1,\n",
       " 'ssub_B': 2,\n",
       " 'tsub': 1}\n",
       "\n",
       "preprocess_params:\n",
       "\n",
       "{'check_nan': True,\n",
       " 'compute_g': False,\n",
       " 'include_noise': False,\n",
       " 'lags': 5,\n",
       " 'max_num_samples_fft': 3072,\n",
       " 'n_pixels_per_process': 1000,\n",
       " 'noise_method': 'mean',\n",
       " 'noise_range': [0.25, 0.5],\n",
       " 'p': 2,\n",
       " 'pixels': None,\n",
       " 'sn': None}\n",
       "\n",
       "patch_params:\n",
       "\n",
       "{'border_pix': 0,\n",
       " 'del_duplicates': False,\n",
       " 'in_memory': True,\n",
       " 'low_rank_background': True,\n",
       " 'memory_fact': 1,\n",
       " 'n_processes': 16,\n",
       " 'nb_patch': 1,\n",
       " 'only_init': False,\n",
       " 'p_patch': 0,\n",
       " 'p_ssub': 2,\n",
       " 'p_tsub': 2,\n",
       " 'remove_very_bad_comps': False,\n",
       " 'rf': None,\n",
       " 'skip_refinement': False,\n",
       " 'stride': 12}\n",
       "\n",
       "online:\n",
       "\n",
       "{'N_samples_exceptionality': 18,\n",
       " 'batch_update_suff_stat': False,\n",
       " 'dist_shape_update': False,\n",
       " 'ds_factor': 1,\n",
       " 'epochs': 1,\n",
       " 'expected_comps': 500,\n",
       " 'init_batch': 29504,\n",
       " 'init_method': 'bare',\n",
       " 'iters_shape': 5,\n",
       " 'max_comp_update_shape': inf,\n",
       " 'max_num_added': 5,\n",
       " 'max_shifts_online': 10,\n",
       " 'min_SNR': 2.0,\n",
       " 'min_num_trial': 5,\n",
       " 'minibatch_shape': 100,\n",
       " 'minibatch_suff_stat': 5,\n",
       " 'motion_correct': True,\n",
       " 'movie_name_online': '/n/coxfs01/2p-data/JC084/20190525/FOV1_zoom2p0x/caiman_results/gratings/downsample-5/online_movie.avi',\n",
       " 'n_refit': 0,\n",
       " 'normalize': False,\n",
       " 'num_times_comp_updated': inf,\n",
       " 'path_to_model': '/n/home00/juliana.rhee/caiman_data/model/cnn_model_online.h5',\n",
       " 'rval_thr': 0.85,\n",
       " 'save_online_movie': False,\n",
       " 'show_movie': False,\n",
       " 'simultaneously': False,\n",
       " 'sniper_mode': False,\n",
       " 'test_both': False,\n",
       " 'thresh_CNN_noisy': 0.5,\n",
       " 'thresh_fitness_delta': -50,\n",
       " 'thresh_fitness_raw': -68.09731800627658,\n",
       " 'thresh_overlap': 0.5,\n",
       " 'update_freq': 200,\n",
       " 'update_num_comps': True,\n",
       " 'use_dense': True,\n",
       " 'use_peak_max': True}\n",
       "\n",
       "quality:\n",
       "\n",
       "{'SNR_lowest': 0.5,\n",
       " 'cnn_lowest': 0.05,\n",
       " 'gSig_range': None,\n",
       " 'min_SNR': 1.5,\n",
       " 'min_cnn_thr': 0.99,\n",
       " 'rval_lowest': -1,\n",
       " 'rval_thr': 0.85,\n",
       " 'use_cnn': True}\n",
       "\n",
       "merging:\n",
       "\n",
       "{'do_merge': True,\n",
       " 'max_merge_area': None,\n",
       " 'merge_parallel': False,\n",
       " 'merge_thr': 0.85}\n",
       "\n",
       "motion:\n",
       "\n",
       "{'border_nan': 'copy',\n",
       " 'gSig_filt': None,\n",
       " 'is3D': False,\n",
       " 'max_deviation_rigid': 3,\n",
       " 'max_shifts': (6, 6),\n",
       " 'min_mov': None,\n",
       " 'niter_rig': 1,\n",
       " 'nonneg_movie': True,\n",
       " 'num_frames_split': 80,\n",
       " 'num_splits_to_process_els': [7, None],\n",
       " 'num_splits_to_process_rig': None,\n",
       " 'overlaps': (24, 24),\n",
       " 'pw_rigid': False,\n",
       " 'shifts_opencv': True,\n",
       " 'splits_els': 11,\n",
       " 'splits_rig': 11,\n",
       " 'strides': (48, 48),\n",
       " 'upsample_factor_grid': 4,\n",
       " 'use_cuda': False}"
      ]
     },
     "execution_count": 44,
     "metadata": {},
     "output_type": "execute_result"
    }
   ],
   "source": [
    "cnm.params"
   ]
  },
  {
   "cell_type": "markdown",
   "metadata": {},
   "source": [
    "# Evaluate components"
   ]
  },
  {
   "cell_type": "code",
   "execution_count": 26,
   "metadata": {},
   "outputs": [
    {
     "name": "stderr",
     "output_type": "stream",
     "text": [
      "WARNING:root:Changing key min_SNR in group quality from 2.0 to 1.5\n",
      "WARNING:root:Changing key cnn_lowest in group quality from 0.1 to 0.05\n"
     ]
    }
   ],
   "source": [
    "# parameters for component evaluation\n",
    "min_SNR = 1.5               # signal to noise ratio for accepting a component\n",
    "rval_thr = 0.85              # space correlation threshold for accepting a component\n",
    "min_cnn_thr = 0.99          # threshold for CNN based classifier\n",
    "cnn_lowest = 0.05           # neurons with cnn probability lower than this value are rejected\n",
    "#cnm_seeded.estimates.restore_discarded_components()\n",
    "cnm2.params.set('quality', {'min_SNR': min_SNR,\n",
    "                           'rval_thr': rval_thr,\n",
    "                           'use_cnn': True,\n",
    "                           'min_cnn_thr': min_cnn_thr,\n",
    "                           'cnn_lowest': cnn_lowest})\n",
    "\n",
    "#%% COMPONENT EVALUATION\n",
    "# the components are evaluated in three ways:\n",
    "#   a) the shape of each component must be correlated with the data\n",
    "#   b) a minimum peak SNR is required over the length of a transient\n",
    "#   c) each shape passes a CNN based classifier"
   ]
  },
  {
   "cell_type": "code",
   "execution_count": 27,
   "metadata": {},
   "outputs": [
    {
     "name": "stdout",
     "output_type": "stream",
     "text": [
      "USING MODEL:/n/home00/juliana.rhee/caiman_data/model/cnn_model.json\n",
      "WARNING:tensorflow:From /n/coxfs01/2p-pipeline/envs/caiman/lib/python3.7/site-packages/tensorflow/python/ops/resource_variable_ops.py:435: colocate_with (from tensorflow.python.framework.ops) is deprecated and will be removed in a future version.\n",
      "Instructions for updating:\n",
      "Colocations handled automatically by placer.\n"
     ]
    },
    {
     "name": "stderr",
     "output_type": "stream",
     "text": [
      "WARNING:tensorflow:From /n/coxfs01/2p-pipeline/envs/caiman/lib/python3.7/site-packages/tensorflow/python/ops/resource_variable_ops.py:435: colocate_with (from tensorflow.python.framework.ops) is deprecated and will be removed in a future version.\n",
      "Instructions for updating:\n",
      "Colocations handled automatically by placer.\n"
     ]
    },
    {
     "name": "stdout",
     "output_type": "stream",
     "text": [
      "WARNING:tensorflow:From /n/coxfs01/2p-pipeline/envs/caiman/lib/python3.7/site-packages/tensorflow/python/keras/layers/core.py:143: calling dropout (from tensorflow.python.ops.nn_ops) with keep_prob is deprecated and will be removed in a future version.\n",
      "Instructions for updating:\n",
      "Please use `rate` instead of `keep_prob`. Rate should be set to `rate = 1 - keep_prob`.\n"
     ]
    },
    {
     "name": "stderr",
     "output_type": "stream",
     "text": [
      "WARNING:tensorflow:From /n/coxfs01/2p-pipeline/envs/caiman/lib/python3.7/site-packages/tensorflow/python/keras/layers/core.py:143: calling dropout (from tensorflow.python.ops.nn_ops) with keep_prob is deprecated and will be removed in a future version.\n",
      "Instructions for updating:\n",
      "Please use `rate` instead of `keep_prob`. Rate should be set to `rate = 1 - keep_prob`.\n"
     ]
    },
    {
     "name": "stdout",
     "output_type": "stream",
     "text": [
      "1108/1108 [==============================] - 6s 6ms/sample\n"
     ]
    },
    {
     "data": {
      "text/plain": [
       "<caiman.source_extraction.cnmf.estimates.Estimates at 0x2ad4ab7ff080>"
      ]
     },
     "execution_count": 27,
     "metadata": {},
     "output_type": "execute_result"
    }
   ],
   "source": [
    "cnm2.estimates.evaluate_components(images, cnm2.params, dview=dview)\n"
   ]
  },
  {
   "cell_type": "code",
   "execution_count": 28,
   "metadata": {},
   "outputs": [
    {
     "data": {
      "text/plain": [
       "<caiman.source_extraction.cnmf.estimates.Estimates at 0x2ad4ab7ff080>"
      ]
     },
     "execution_count": 28,
     "metadata": {},
     "output_type": "execute_result"
    }
   ],
   "source": [
    "cnm2.estimates.select_components(use_object=True)"
   ]
  },
  {
   "cell_type": "code",
   "execution_count": 29,
   "metadata": {},
   "outputs": [
    {
     "data": {
      "text/plain": [
       "(262144, 887)"
      ]
     },
     "execution_count": 29,
     "metadata": {},
     "output_type": "execute_result"
    }
   ],
   "source": [
    "cnm2.estimates.A.shape"
   ]
  },
  {
   "cell_type": "code",
   "execution_count": null,
   "metadata": {},
   "outputs": [],
   "source": []
  },
  {
   "cell_type": "code",
   "execution_count": 31,
   "metadata": {},
   "outputs": [
    {
     "data": {
      "text/plain": [
       "<caiman.source_extraction.cnmf.estimates.Estimates at 0x2b02b11eec18>"
      ]
     },
     "execution_count": 31,
     "metadata": {},
     "output_type": "execute_result"
    }
   ],
   "source": [
    "#%% PLOT accepted COMPONENTS\n",
    "cnm2.estimates.plot_contours_nb(img=Cn, idx=cnm2.estimates.idx_components)"
   ]
  },
  {
   "cell_type": "code",
   "execution_count": 32,
   "metadata": {},
   "outputs": [
    {
     "data": {
      "text/plain": [
       "<caiman.source_extraction.cnmf.estimates.Estimates at 0x2b02b11eec18>"
      ]
     },
     "execution_count": 32,
     "metadata": {},
     "output_type": "execute_result"
    }
   ],
   "source": [
    "cnm.estimates.plot_contours_nb(img=Cn) #, idx=cnm.estimates.idx_components)"
   ]
  },
  {
   "cell_type": "markdown",
   "metadata": {},
   "source": [
    "# Extract dff"
   ]
  },
  {
   "cell_type": "code",
   "execution_count": 30,
   "metadata": {},
   "outputs": [
    {
     "data": {
      "text/plain": [
       "'JC085-20190622-FOV1_zoom2p0x-retino_run1'"
      ]
     },
     "execution_count": 30,
     "metadata": {},
     "output_type": "execute_result"
    }
   ],
   "source": [
    "prefix"
   ]
  },
  {
   "cell_type": "code",
   "execution_count": 31,
   "metadata": {},
   "outputs": [
    {
     "name": "stdout",
     "output_type": "stream",
     "text": [
      "Extracting df/f...\n"
     ]
    }
   ],
   "source": [
    "#%% Extract DF/F values\n",
    "print(\"Extracting df/f...\")\n",
    "quantileMin = 10 # 8\n",
    "frames_window_sec = 30.\n",
    "if 'downsample' in mm_prefix:\n",
    "    ds_factor = float(mm_prefix.split('downsample-')[-1]) #opts.init['tsub']\n",
    "else:\n",
    "    ds_factor = float(opts.init['tsub'])\n",
    "fr = float(opts.data['fr'])\n",
    "frames_window = int(round(frames_window_sec * (fr / ds_factor))) # 250\n",
    "dff_params = {'quantileMin': quantileMin,\n",
    "              'frames_window_sec': frames_window_sec,\n",
    "              'ds_factor': ds_factor,\n",
    "              'fr': fr,\n",
    "              'frames_window': frames_window,\n",
    "              'source': fname_tot}\n",
    "\n",
    "with open(os.path.join(results_dir, '%s_processing-params.json' % prefix), 'w') as f:\n",
    "    json.dump(dff_params, f, indent=4)\n"
   ]
  },
  {
   "cell_type": "code",
   "execution_count": 32,
   "metadata": {},
   "outputs": [
    {
     "data": {
      "text/plain": [
       "<caiman.source_extraction.cnmf.estimates.Estimates at 0x2ad4ab7ff080>"
      ]
     },
     "execution_count": 32,
     "metadata": {},
     "output_type": "execute_result"
    }
   ],
   "source": [
    "#%% Extract DF/F values\n",
    "cnm2.estimates.detrend_df_f(quantileMin=quantileMin, frames_window=frames_window)"
   ]
  },
  {
   "cell_type": "markdown",
   "metadata": {},
   "source": [
    "# Save"
   ]
  },
  {
   "cell_type": "code",
   "execution_count": 33,
   "metadata": {},
   "outputs": [
    {
     "name": "stderr",
     "output_type": "stream",
     "text": [
      "/n/coxfs01/2p-pipeline/envs/caiman/lib/python3.7/site-packages/h5py/_hl/dataset.py:313: H5pyDeprecationWarning: dataset.value has been deprecated. Use dataset[()] instead.\n",
      "  \"Use dataset[()] instead.\", H5pyDeprecationWarning)\n"
     ]
    }
   ],
   "source": [
    "save_results=True\n",
    "if save_results:\n",
    "    cnm2.save(os.path.join(results_dir, 'patch-cnm_%s_results.hdf5' % prefix))"
   ]
  },
  {
   "cell_type": "code",
   "execution_count": null,
   "metadata": {},
   "outputs": [],
   "source": [
    "\n",
    "#%% plot contours of found components\n",
    "Cn = cm.local_correlations(images.transpose(1,2,0))\n",
    "Cn[np.isnan(Cn)] = 0\n",
    "cnm2.estimates.plot_contours_nb(img=Cn)"
   ]
  },
  {
   "cell_type": "code",
   "execution_count": 37,
   "metadata": {},
   "outputs": [
    {
     "ename": "NameError",
     "evalue": "name 'Cn' is not defined",
     "output_type": "error",
     "traceback": [
      "\u001b[0;31m---------------------------------------------------------------------------\u001b[0m",
      "\u001b[0;31mNameError\u001b[0m                                 Traceback (most recent call last)",
      "\u001b[0;32m<ipython-input-37-6be8e3bd05af>\u001b[0m in \u001b[0;36m<module>\u001b[0;34m\u001b[0m\n\u001b[0;32m----> 1\u001b[0;31m \u001b[0mcnm2\u001b[0m\u001b[0;34m.\u001b[0m\u001b[0mestimates\u001b[0m\u001b[0;34m.\u001b[0m\u001b[0mnb_view_components\u001b[0m\u001b[0;34m(\u001b[0m\u001b[0mimg\u001b[0m\u001b[0;34m=\u001b[0m\u001b[0mCn\u001b[0m\u001b[0;34m,\u001b[0m \u001b[0mdenoised_color\u001b[0m\u001b[0;34m=\u001b[0m\u001b[0;34m'red'\u001b[0m\u001b[0;34m)\u001b[0m \u001b[0;31m#, idx=cnm.estimates.idx_components)\u001b[0m\u001b[0;34m\u001b[0m\u001b[0;34m\u001b[0m\u001b[0m\n\u001b[0m",
      "\u001b[0;31mNameError\u001b[0m: name 'Cn' is not defined"
     ]
    }
   ],
   "source": [
    "cnm2.estimates.nb_view_components(img=Cn, denoised_color='red') #, idx=cnm.estimates.idx_components)\n"
   ]
  },
  {
   "cell_type": "code",
   "execution_count": 43,
   "metadata": {},
   "outputs": [
    {
     "data": {
      "text/plain": [
       "(1, 29504)"
      ]
     },
     "execution_count": 43,
     "metadata": {},
     "output_type": "execute_result"
    }
   ],
   "source": [
    "cnm.estimates.f.shape"
   ]
  },
  {
   "cell_type": "code",
   "execution_count": null,
   "metadata": {},
   "outputs": [],
   "source": [
    "background = cnm.estimates.b.dot(cnm.estimates.f)\n"
   ]
  },
  {
   "cell_type": "code",
   "execution_count": null,
   "metadata": {},
   "outputs": [],
   "source": [
    "pl.figure(figsize=(15,4))\n",
    "pl.plot(background)"
   ]
  },
  {
   "cell_type": "code",
   "execution_count": null,
   "metadata": {},
   "outputs": [],
   "source": [
    "background.shape"
   ]
  },
  {
   "cell_type": "code",
   "execution_count": null,
   "metadata": {},
   "outputs": [],
   "source": []
  },
  {
   "cell_type": "code",
   "execution_count": 132,
   "metadata": {},
   "outputs": [
    {
     "data": {
      "text/plain": [
       "False"
      ]
     },
     "execution_count": 132,
     "metadata": {},
     "output_type": "execute_result"
    }
   ],
   "source": [
    " (cnm.params.get('init', 'method_init') == 'corr_pnr' and\n",
    "                    cnm.params.get('init', 'ring_size_factor') is not None)"
   ]
  },
  {
   "cell_type": "markdown",
   "metadata": {},
   "source": [
    "# Load data"
   ]
  },
  {
   "cell_type": "code",
   "execution_count": 11,
   "metadata": {},
   "outputs": [],
   "source": [
    "from caiman.source_extraction.cnmf.cnmf import load_CNMF"
   ]
  },
  {
   "cell_type": "code",
   "execution_count": 15,
   "metadata": {},
   "outputs": [
    {
     "name": "stderr",
     "output_type": "stream",
     "text": [
      "/n/coxfs01/2p-pipeline/envs/caiman/lib/python3.7/site-packages/h5py/_hl/dataset.py:313: H5pyDeprecationWarning: dataset.value has been deprecated. Use dataset[()] instead.\n",
      "  \"Use dataset[()] instead.\", H5pyDeprecationWarning)\n"
     ]
    }
   ],
   "source": [
    "results_path = glob.glob(os.path.join(results_dir, 'patches-%s*_results.hdf5' % prefix))[0]\n",
    "cnm = load_CNMF(results_path, n_processes=n_processes)"
   ]
  },
  {
   "cell_type": "code",
   "execution_count": 17,
   "metadata": {},
   "outputs": [
    {
     "data": {
      "text/plain": [
       "(262144, 0)"
      ]
     },
     "execution_count": 17,
     "metadata": {},
     "output_type": "execute_result"
    }
   ],
   "source": [
    "cnm.estimates.A.shape"
   ]
  },
  {
   "cell_type": "code",
   "execution_count": null,
   "metadata": {},
   "outputs": [],
   "source": []
  }
 ],
 "metadata": {
  "kernelspec": {
   "display_name": "Python 3",
   "language": "python",
   "name": "python3"
  },
  "language_info": {
   "codemirror_mode": {
    "name": "ipython",
    "version": 3
   },
   "file_extension": ".py",
   "mimetype": "text/x-python",
   "name": "python",
   "nbconvert_exporter": "python",
   "pygments_lexer": "ipython3",
   "version": "3.7.1"
  }
 },
 "nbformat": 4,
 "nbformat_minor": 2
}
