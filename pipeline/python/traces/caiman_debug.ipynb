{
 "cells": [
  {
   "cell_type": "code",
   "execution_count": 1,
   "metadata": {},
   "outputs": [
    {
     "name": "stderr",
     "output_type": "stream",
     "text": [
      "/home/julianarhee/anaconda2/envs/caiman/lib/python3.7/site-packages/sklearn/utils/deprecation.py:144: FutureWarning: The sklearn.decomposition.incremental_pca module is  deprecated in version 0.22 and will be removed in version 0.24. The corresponding classes / functions should instead be imported from sklearn.decomposition. Anything that cannot be imported from sklearn.decomposition is now part of the private API.\n",
      "  warnings.warn(message, FutureWarning)\n",
      "/home/julianarhee/anaconda2/envs/caiman/lib/python3.7/site-packages/tensorflow/python/framework/dtypes.py:526: FutureWarning: Passing (type, 1) or '1type' as a synonym of type is deprecated; in a future version of numpy, it will be understood as (type, (1,)) / '(1,)type'.\n",
      "  _np_qint8 = np.dtype([(\"qint8\", np.int8, 1)])\n",
      "/home/julianarhee/anaconda2/envs/caiman/lib/python3.7/site-packages/tensorflow/python/framework/dtypes.py:527: FutureWarning: Passing (type, 1) or '1type' as a synonym of type is deprecated; in a future version of numpy, it will be understood as (type, (1,)) / '(1,)type'.\n",
      "  _np_quint8 = np.dtype([(\"quint8\", np.uint8, 1)])\n",
      "/home/julianarhee/anaconda2/envs/caiman/lib/python3.7/site-packages/tensorflow/python/framework/dtypes.py:528: FutureWarning: Passing (type, 1) or '1type' as a synonym of type is deprecated; in a future version of numpy, it will be understood as (type, (1,)) / '(1,)type'.\n",
      "  _np_qint16 = np.dtype([(\"qint16\", np.int16, 1)])\n",
      "/home/julianarhee/anaconda2/envs/caiman/lib/python3.7/site-packages/tensorflow/python/framework/dtypes.py:529: FutureWarning: Passing (type, 1) or '1type' as a synonym of type is deprecated; in a future version of numpy, it will be understood as (type, (1,)) / '(1,)type'.\n",
      "  _np_quint16 = np.dtype([(\"quint16\", np.uint16, 1)])\n",
      "/home/julianarhee/anaconda2/envs/caiman/lib/python3.7/site-packages/tensorflow/python/framework/dtypes.py:530: FutureWarning: Passing (type, 1) or '1type' as a synonym of type is deprecated; in a future version of numpy, it will be understood as (type, (1,)) / '(1,)type'.\n",
      "  _np_qint32 = np.dtype([(\"qint32\", np.int32, 1)])\n",
      "/home/julianarhee/anaconda2/envs/caiman/lib/python3.7/site-packages/tensorflow/python/framework/dtypes.py:535: FutureWarning: Passing (type, 1) or '1type' as a synonym of type is deprecated; in a future version of numpy, it will be understood as (type, (1,)) / '(1,)type'.\n",
      "  np_resource = np.dtype([(\"resource\", np.ubyte, 1)])\n"
     ]
    },
    {
     "data": {
      "text/html": [
       "\n",
       "    <div class=\"bk-root\">\n",
       "        <a href=\"https://bokeh.org\" target=\"_blank\" class=\"bk-logo bk-logo-small bk-logo-notebook\"></a>\n",
       "        <span id=\"1001\">Loading BokehJS ...</span>\n",
       "    </div>"
      ]
     },
     "metadata": {},
     "output_type": "display_data"
    },
    {
     "data": {
      "application/javascript": [
       "\n",
       "(function(root) {\n",
       "  function now() {\n",
       "    return new Date();\n",
       "  }\n",
       "\n",
       "  var force = true;\n",
       "\n",
       "  if (typeof root._bokeh_onload_callbacks === \"undefined\" || force === true) {\n",
       "    root._bokeh_onload_callbacks = [];\n",
       "    root._bokeh_is_loading = undefined;\n",
       "  }\n",
       "\n",
       "  var JS_MIME_TYPE = 'application/javascript';\n",
       "  var HTML_MIME_TYPE = 'text/html';\n",
       "  var EXEC_MIME_TYPE = 'application/vnd.bokehjs_exec.v0+json';\n",
       "  var CLASS_NAME = 'output_bokeh rendered_html';\n",
       "\n",
       "  /**\n",
       "   * Render data to the DOM node\n",
       "   */\n",
       "  function render(props, node) {\n",
       "    var script = document.createElement(\"script\");\n",
       "    node.appendChild(script);\n",
       "  }\n",
       "\n",
       "  /**\n",
       "   * Handle when an output is cleared or removed\n",
       "   */\n",
       "  function handleClearOutput(event, handle) {\n",
       "    var cell = handle.cell;\n",
       "\n",
       "    var id = cell.output_area._bokeh_element_id;\n",
       "    var server_id = cell.output_area._bokeh_server_id;\n",
       "    // Clean up Bokeh references\n",
       "    if (id != null && id in Bokeh.index) {\n",
       "      Bokeh.index[id].model.document.clear();\n",
       "      delete Bokeh.index[id];\n",
       "    }\n",
       "\n",
       "    if (server_id !== undefined) {\n",
       "      // Clean up Bokeh references\n",
       "      var cmd = \"from bokeh.io.state import curstate; print(curstate().uuid_to_server['\" + server_id + \"'].get_sessions()[0].document.roots[0]._id)\";\n",
       "      cell.notebook.kernel.execute(cmd, {\n",
       "        iopub: {\n",
       "          output: function(msg) {\n",
       "            var id = msg.content.text.trim();\n",
       "            if (id in Bokeh.index) {\n",
       "              Bokeh.index[id].model.document.clear();\n",
       "              delete Bokeh.index[id];\n",
       "            }\n",
       "          }\n",
       "        }\n",
       "      });\n",
       "      // Destroy server and session\n",
       "      var cmd = \"import bokeh.io.notebook as ion; ion.destroy_server('\" + server_id + \"')\";\n",
       "      cell.notebook.kernel.execute(cmd);\n",
       "    }\n",
       "  }\n",
       "\n",
       "  /**\n",
       "   * Handle when a new output is added\n",
       "   */\n",
       "  function handleAddOutput(event, handle) {\n",
       "    var output_area = handle.output_area;\n",
       "    var output = handle.output;\n",
       "\n",
       "    // limit handleAddOutput to display_data with EXEC_MIME_TYPE content only\n",
       "    if ((output.output_type != \"display_data\") || (!output.data.hasOwnProperty(EXEC_MIME_TYPE))) {\n",
       "      return\n",
       "    }\n",
       "\n",
       "    var toinsert = output_area.element.find(\".\" + CLASS_NAME.split(' ')[0]);\n",
       "\n",
       "    if (output.metadata[EXEC_MIME_TYPE][\"id\"] !== undefined) {\n",
       "      toinsert[toinsert.length - 1].firstChild.textContent = output.data[JS_MIME_TYPE];\n",
       "      // store reference to embed id on output_area\n",
       "      output_area._bokeh_element_id = output.metadata[EXEC_MIME_TYPE][\"id\"];\n",
       "    }\n",
       "    if (output.metadata[EXEC_MIME_TYPE][\"server_id\"] !== undefined) {\n",
       "      var bk_div = document.createElement(\"div\");\n",
       "      bk_div.innerHTML = output.data[HTML_MIME_TYPE];\n",
       "      var script_attrs = bk_div.children[0].attributes;\n",
       "      for (var i = 0; i < script_attrs.length; i++) {\n",
       "        toinsert[toinsert.length - 1].firstChild.setAttribute(script_attrs[i].name, script_attrs[i].value);\n",
       "      }\n",
       "      // store reference to server id on output_area\n",
       "      output_area._bokeh_server_id = output.metadata[EXEC_MIME_TYPE][\"server_id\"];\n",
       "    }\n",
       "  }\n",
       "\n",
       "  function register_renderer(events, OutputArea) {\n",
       "\n",
       "    function append_mime(data, metadata, element) {\n",
       "      // create a DOM node to render to\n",
       "      var toinsert = this.create_output_subarea(\n",
       "        metadata,\n",
       "        CLASS_NAME,\n",
       "        EXEC_MIME_TYPE\n",
       "      );\n",
       "      this.keyboard_manager.register_events(toinsert);\n",
       "      // Render to node\n",
       "      var props = {data: data, metadata: metadata[EXEC_MIME_TYPE]};\n",
       "      render(props, toinsert[toinsert.length - 1]);\n",
       "      element.append(toinsert);\n",
       "      return toinsert\n",
       "    }\n",
       "\n",
       "    /* Handle when an output is cleared or removed */\n",
       "    events.on('clear_output.CodeCell', handleClearOutput);\n",
       "    events.on('delete.Cell', handleClearOutput);\n",
       "\n",
       "    /* Handle when a new output is added */\n",
       "    events.on('output_added.OutputArea', handleAddOutput);\n",
       "\n",
       "    /**\n",
       "     * Register the mime type and append_mime function with output_area\n",
       "     */\n",
       "    OutputArea.prototype.register_mime_type(EXEC_MIME_TYPE, append_mime, {\n",
       "      /* Is output safe? */\n",
       "      safe: true,\n",
       "      /* Index of renderer in `output_area.display_order` */\n",
       "      index: 0\n",
       "    });\n",
       "  }\n",
       "\n",
       "  // register the mime type if in Jupyter Notebook environment and previously unregistered\n",
       "  if (root.Jupyter !== undefined) {\n",
       "    var events = require('base/js/events');\n",
       "    var OutputArea = require('notebook/js/outputarea').OutputArea;\n",
       "\n",
       "    if (OutputArea.prototype.mime_types().indexOf(EXEC_MIME_TYPE) == -1) {\n",
       "      register_renderer(events, OutputArea);\n",
       "    }\n",
       "  }\n",
       "\n",
       "  \n",
       "  if (typeof (root._bokeh_timeout) === \"undefined\" || force === true) {\n",
       "    root._bokeh_timeout = Date.now() + 5000;\n",
       "    root._bokeh_failed_load = false;\n",
       "  }\n",
       "\n",
       "  var NB_LOAD_WARNING = {'data': {'text/html':\n",
       "     \"<div style='background-color: #fdd'>\\n\"+\n",
       "     \"<p>\\n\"+\n",
       "     \"BokehJS does not appear to have successfully loaded. If loading BokehJS from CDN, this \\n\"+\n",
       "     \"may be due to a slow or bad network connection. Possible fixes:\\n\"+\n",
       "     \"</p>\\n\"+\n",
       "     \"<ul>\\n\"+\n",
       "     \"<li>re-rerun `output_notebook()` to attempt to load from CDN again, or</li>\\n\"+\n",
       "     \"<li>use INLINE resources instead, as so:</li>\\n\"+\n",
       "     \"</ul>\\n\"+\n",
       "     \"<code>\\n\"+\n",
       "     \"from bokeh.resources import INLINE\\n\"+\n",
       "     \"output_notebook(resources=INLINE)\\n\"+\n",
       "     \"</code>\\n\"+\n",
       "     \"</div>\"}};\n",
       "\n",
       "  function display_loaded() {\n",
       "    var el = document.getElementById(\"1001\");\n",
       "    if (el != null) {\n",
       "      el.textContent = \"BokehJS is loading...\";\n",
       "    }\n",
       "    if (root.Bokeh !== undefined) {\n",
       "      if (el != null) {\n",
       "        el.textContent = \"BokehJS \" + root.Bokeh.version + \" successfully loaded.\";\n",
       "      }\n",
       "    } else if (Date.now() < root._bokeh_timeout) {\n",
       "      setTimeout(display_loaded, 100)\n",
       "    }\n",
       "  }\n",
       "\n",
       "\n",
       "  function run_callbacks() {\n",
       "    try {\n",
       "      root._bokeh_onload_callbacks.forEach(function(callback) {\n",
       "        if (callback != null)\n",
       "          callback();\n",
       "      });\n",
       "    } finally {\n",
       "      delete root._bokeh_onload_callbacks\n",
       "    }\n",
       "    console.debug(\"Bokeh: all callbacks have finished\");\n",
       "  }\n",
       "\n",
       "  function load_libs(css_urls, js_urls, callback) {\n",
       "    if (css_urls == null) css_urls = [];\n",
       "    if (js_urls == null) js_urls = [];\n",
       "\n",
       "    root._bokeh_onload_callbacks.push(callback);\n",
       "    if (root._bokeh_is_loading > 0) {\n",
       "      console.debug(\"Bokeh: BokehJS is being loaded, scheduling callback at\", now());\n",
       "      return null;\n",
       "    }\n",
       "    if (js_urls == null || js_urls.length === 0) {\n",
       "      run_callbacks();\n",
       "      return null;\n",
       "    }\n",
       "    console.debug(\"Bokeh: BokehJS not loaded, scheduling load and callback at\", now());\n",
       "    root._bokeh_is_loading = css_urls.length + js_urls.length;\n",
       "\n",
       "    function on_load() {\n",
       "      root._bokeh_is_loading--;\n",
       "      if (root._bokeh_is_loading === 0) {\n",
       "        console.debug(\"Bokeh: all BokehJS libraries/stylesheets loaded\");\n",
       "        run_callbacks()\n",
       "      }\n",
       "    }\n",
       "\n",
       "    function on_error() {\n",
       "      console.error(\"failed to load \" + url);\n",
       "    }\n",
       "\n",
       "    for (var i = 0; i < css_urls.length; i++) {\n",
       "      var url = css_urls[i];\n",
       "      const element = document.createElement(\"link\");\n",
       "      element.onload = on_load;\n",
       "      element.onerror = on_error;\n",
       "      element.rel = \"stylesheet\";\n",
       "      element.type = \"text/css\";\n",
       "      element.href = url;\n",
       "      console.debug(\"Bokeh: injecting link tag for BokehJS stylesheet: \", url);\n",
       "      document.body.appendChild(element);\n",
       "    }\n",
       "\n",
       "    for (var i = 0; i < js_urls.length; i++) {\n",
       "      var url = js_urls[i];\n",
       "      var element = document.createElement('script');\n",
       "      element.onload = on_load;\n",
       "      element.onerror = on_error;\n",
       "      element.async = false;\n",
       "      element.src = url;\n",
       "      console.debug(\"Bokeh: injecting script tag for BokehJS library: \", url);\n",
       "      document.head.appendChild(element);\n",
       "    }\n",
       "  };var element = document.getElementById(\"1001\");\n",
       "  if (element == null) {\n",
       "    console.error(\"Bokeh: ERROR: autoload.js configured with elementid '1001' but no matching script tag was found. \")\n",
       "    return false;\n",
       "  }\n",
       "\n",
       "  function inject_raw_css(css) {\n",
       "    const element = document.createElement(\"style\");\n",
       "    element.appendChild(document.createTextNode(css));\n",
       "    document.body.appendChild(element);\n",
       "  }\n",
       "\n",
       "  \n",
       "  var js_urls = [\"https://cdn.pydata.org/bokeh/release/bokeh-1.4.0.min.js\", \"https://cdn.pydata.org/bokeh/release/bokeh-widgets-1.4.0.min.js\", \"https://cdn.pydata.org/bokeh/release/bokeh-tables-1.4.0.min.js\", \"https://cdn.pydata.org/bokeh/release/bokeh-gl-1.4.0.min.js\"];\n",
       "  var css_urls = [];\n",
       "  \n",
       "\n",
       "  var inline_js = [\n",
       "    function(Bokeh) {\n",
       "      Bokeh.set_log_level(\"info\");\n",
       "    },\n",
       "    function(Bokeh) {\n",
       "    \n",
       "    \n",
       "    }\n",
       "  ];\n",
       "\n",
       "  function run_inline_js() {\n",
       "    \n",
       "    if (root.Bokeh !== undefined || force === true) {\n",
       "      \n",
       "    for (var i = 0; i < inline_js.length; i++) {\n",
       "      inline_js[i].call(root, root.Bokeh);\n",
       "    }\n",
       "    if (force === true) {\n",
       "        display_loaded();\n",
       "      }} else if (Date.now() < root._bokeh_timeout) {\n",
       "      setTimeout(run_inline_js, 100);\n",
       "    } else if (!root._bokeh_failed_load) {\n",
       "      console.log(\"Bokeh: BokehJS failed to load within specified timeout.\");\n",
       "      root._bokeh_failed_load = true;\n",
       "    } else if (force !== true) {\n",
       "      var cell = $(document.getElementById(\"1001\")).parents('.cell').data().cell;\n",
       "      cell.output_area.append_execute_result(NB_LOAD_WARNING)\n",
       "    }\n",
       "\n",
       "  }\n",
       "\n",
       "  if (root._bokeh_is_loading === 0) {\n",
       "    console.debug(\"Bokeh: BokehJS loaded, going straight to plotting\");\n",
       "    run_inline_js();\n",
       "  } else {\n",
       "    load_libs(css_urls, js_urls, function() {\n",
       "      console.debug(\"Bokeh: BokehJS plotting callback run at\", now());\n",
       "      run_inline_js();\n",
       "    });\n",
       "  }\n",
       "}(window));"
      ],
      "application/vnd.bokehjs_load.v0+json": "\n(function(root) {\n  function now() {\n    return new Date();\n  }\n\n  var force = true;\n\n  if (typeof root._bokeh_onload_callbacks === \"undefined\" || force === true) {\n    root._bokeh_onload_callbacks = [];\n    root._bokeh_is_loading = undefined;\n  }\n\n  \n\n  \n  if (typeof (root._bokeh_timeout) === \"undefined\" || force === true) {\n    root._bokeh_timeout = Date.now() + 5000;\n    root._bokeh_failed_load = false;\n  }\n\n  var NB_LOAD_WARNING = {'data': {'text/html':\n     \"<div style='background-color: #fdd'>\\n\"+\n     \"<p>\\n\"+\n     \"BokehJS does not appear to have successfully loaded. If loading BokehJS from CDN, this \\n\"+\n     \"may be due to a slow or bad network connection. Possible fixes:\\n\"+\n     \"</p>\\n\"+\n     \"<ul>\\n\"+\n     \"<li>re-rerun `output_notebook()` to attempt to load from CDN again, or</li>\\n\"+\n     \"<li>use INLINE resources instead, as so:</li>\\n\"+\n     \"</ul>\\n\"+\n     \"<code>\\n\"+\n     \"from bokeh.resources import INLINE\\n\"+\n     \"output_notebook(resources=INLINE)\\n\"+\n     \"</code>\\n\"+\n     \"</div>\"}};\n\n  function display_loaded() {\n    var el = document.getElementById(\"1001\");\n    if (el != null) {\n      el.textContent = \"BokehJS is loading...\";\n    }\n    if (root.Bokeh !== undefined) {\n      if (el != null) {\n        el.textContent = \"BokehJS \" + root.Bokeh.version + \" successfully loaded.\";\n      }\n    } else if (Date.now() < root._bokeh_timeout) {\n      setTimeout(display_loaded, 100)\n    }\n  }\n\n\n  function run_callbacks() {\n    try {\n      root._bokeh_onload_callbacks.forEach(function(callback) {\n        if (callback != null)\n          callback();\n      });\n    } finally {\n      delete root._bokeh_onload_callbacks\n    }\n    console.debug(\"Bokeh: all callbacks have finished\");\n  }\n\n  function load_libs(css_urls, js_urls, callback) {\n    if (css_urls == null) css_urls = [];\n    if (js_urls == null) js_urls = [];\n\n    root._bokeh_onload_callbacks.push(callback);\n    if (root._bokeh_is_loading > 0) {\n      console.debug(\"Bokeh: BokehJS is being loaded, scheduling callback at\", now());\n      return null;\n    }\n    if (js_urls == null || js_urls.length === 0) {\n      run_callbacks();\n      return null;\n    }\n    console.debug(\"Bokeh: BokehJS not loaded, scheduling load and callback at\", now());\n    root._bokeh_is_loading = css_urls.length + js_urls.length;\n\n    function on_load() {\n      root._bokeh_is_loading--;\n      if (root._bokeh_is_loading === 0) {\n        console.debug(\"Bokeh: all BokehJS libraries/stylesheets loaded\");\n        run_callbacks()\n      }\n    }\n\n    function on_error() {\n      console.error(\"failed to load \" + url);\n    }\n\n    for (var i = 0; i < css_urls.length; i++) {\n      var url = css_urls[i];\n      const element = document.createElement(\"link\");\n      element.onload = on_load;\n      element.onerror = on_error;\n      element.rel = \"stylesheet\";\n      element.type = \"text/css\";\n      element.href = url;\n      console.debug(\"Bokeh: injecting link tag for BokehJS stylesheet: \", url);\n      document.body.appendChild(element);\n    }\n\n    for (var i = 0; i < js_urls.length; i++) {\n      var url = js_urls[i];\n      var element = document.createElement('script');\n      element.onload = on_load;\n      element.onerror = on_error;\n      element.async = false;\n      element.src = url;\n      console.debug(\"Bokeh: injecting script tag for BokehJS library: \", url);\n      document.head.appendChild(element);\n    }\n  };var element = document.getElementById(\"1001\");\n  if (element == null) {\n    console.error(\"Bokeh: ERROR: autoload.js configured with elementid '1001' but no matching script tag was found. \")\n    return false;\n  }\n\n  function inject_raw_css(css) {\n    const element = document.createElement(\"style\");\n    element.appendChild(document.createTextNode(css));\n    document.body.appendChild(element);\n  }\n\n  \n  var js_urls = [\"https://cdn.pydata.org/bokeh/release/bokeh-1.4.0.min.js\", \"https://cdn.pydata.org/bokeh/release/bokeh-widgets-1.4.0.min.js\", \"https://cdn.pydata.org/bokeh/release/bokeh-tables-1.4.0.min.js\", \"https://cdn.pydata.org/bokeh/release/bokeh-gl-1.4.0.min.js\"];\n  var css_urls = [];\n  \n\n  var inline_js = [\n    function(Bokeh) {\n      Bokeh.set_log_level(\"info\");\n    },\n    function(Bokeh) {\n    \n    \n    }\n  ];\n\n  function run_inline_js() {\n    \n    if (root.Bokeh !== undefined || force === true) {\n      \n    for (var i = 0; i < inline_js.length; i++) {\n      inline_js[i].call(root, root.Bokeh);\n    }\n    if (force === true) {\n        display_loaded();\n      }} else if (Date.now() < root._bokeh_timeout) {\n      setTimeout(run_inline_js, 100);\n    } else if (!root._bokeh_failed_load) {\n      console.log(\"Bokeh: BokehJS failed to load within specified timeout.\");\n      root._bokeh_failed_load = true;\n    } else if (force !== true) {\n      var cell = $(document.getElementById(\"1001\")).parents('.cell').data().cell;\n      cell.output_area.append_execute_result(NB_LOAD_WARNING)\n    }\n\n  }\n\n  if (root._bokeh_is_loading === 0) {\n    console.debug(\"Bokeh: BokehJS loaded, going straight to plotting\");\n    run_inline_js();\n  } else {\n    load_libs(css_urls, js_urls, function() {\n      console.debug(\"Bokeh: BokehJS plotting callback run at\", now());\n      run_inline_js();\n    });\n  }\n}(window));"
     },
     "metadata": {},
     "output_type": "display_data"
    }
   ],
   "source": [
    "import bokeh.plotting as bpl\n",
    "import cv2\n",
    "import glob\n",
    "import logging\n",
    "import matplotlib.pyplot as plt\n",
    "import numpy as np\n",
    "import os\n",
    "\n",
    "try:\n",
    "    cv2.setNumThreads(0)\n",
    "except():\n",
    "    pass\n",
    "\n",
    "try:\n",
    "    if __IPYTHON__:\n",
    "        # this is used for debugging purposes only. allows to reload classes\n",
    "        # when changed\n",
    "        get_ipython().magic('load_ext autoreload')\n",
    "        get_ipython().magic('autoreload 2')\n",
    "except NameError:\n",
    "    pass\n",
    "\n",
    "import caiman as cm\n",
    "from caiman.motion_correction import MotionCorrect\n",
    "from caiman.source_extraction.cnmf import cnmf as cnmf\n",
    "from caiman.source_extraction.cnmf import params as params\n",
    "from caiman.utils.utils import download_demo\n",
    "from caiman.utils.visualization import plot_contours, nb_view_patches, nb_plot_contour\n",
    "bpl.output_notebook()\n"
   ]
  },
  {
   "cell_type": "code",
   "execution_count": 15,
   "metadata": {},
   "outputs": [],
   "source": [
    "import json\n",
    "import re\n",
    "def atoi(text):\n",
    "    return int(text) if text.isdigit() else text\n",
    "\n",
    "def natural_keys(text):\n",
    "    return [ atoi(c) for c in re.split('(\\d+)', text) ]\n"
   ]
  },
  {
   "cell_type": "code",
   "execution_count": 3,
   "metadata": {},
   "outputs": [],
   "source": [
    "logging.basicConfig(format=\n",
    "                          \"%(relativeCreated)12d [%(filename)s:%(funcName)20s():%(lineno)s] [%(process)d] %(message)s\",\n",
    "                    filename=\"/tmp/caiman.log\",\n",
    "                    level=logging.WARNING)"
   ]
  },
  {
   "cell_type": "code",
   "execution_count": 4,
   "metadata": {},
   "outputs": [],
   "source": [
    "\n",
    "def get_file_paths(results_dir, mm_prefix='Yr'):\n",
    "    try:\n",
    "        mparams_fpath = os.path.join(results_dir, '%s_memmap-params.json' % mm_prefix)\n",
    "        print(\"Loading memmap params...\")\n",
    "        print(mparams_fpath)\n",
    "        with open(mparams_fpath, 'r') as f:\n",
    "            mparams = json.load(f)\n",
    "        fnames = mparams['fnames']\n",
    "    except Exception as e:\n",
    "        print(e)\n",
    "        print(\"Unable to load memmap params, trying alt.\")\n",
    "        try:\n",
    "            fnames = []\n",
    "            if 'downsample' in mm_prefix:\n",
    "                print(\"checking scratch\")\n",
    "                fovdir = results_dir.split('/caiman_results/')[0]\n",
    "                fov = os.path.split(fovdir)[-1]\n",
    "                sessiondir = os.path.split(fovdir)[0]\n",
    "                session = os.path.split(sessiondir)[-1]\n",
    "                animalid = os.path.split(os.path.split(sessiondir)[0])[-1]\n",
    "                print(\"Animal: %s, Fov: %s, Session: %s\" % (animalid, fov, session))\n",
    "                fnames = sorted(glob.glob(os.path.join('/n/scratchlfs/cox_lab/julianarhee/downsampled/*%s*/*.tif' % mm_prefix)), key=natural_keys)\n",
    "                print(fnames[0:5]) \n",
    "            if len(fnames)==0 and 'downsample' not in mm_prefix: \n",
    "                dpath = glob.glob(os.path.join(results_dir, 'memmap', '*%s*.npz' % mm_prefix))[0]#) [0]) \n",
    "                minfo = np.load(dpath)\n",
    "                fnames = sorted(list(minfo['mmap_fnames']))\n",
    "        except Exception as e:\n",
    "            print(\"unable to load file names.\")\n",
    "            return None\n",
    "    \n",
    "    return fnames #fnames = mparams['fnames']\n",
    "\n",
    "def get_full_memmap_path(results_dir, framestr='order_C_frames', prefix='Yr'):\n",
    "    print(\"Getting full mmap path for prefix: %s\" % prefix)\n",
    "    print(\"-- dir: %s\" % results_dir)\n",
    "    print(glob.glob(os.path.join(results_dir, 'memmap', '*%s*.mmap' % prefix))) \n",
    "    try:\n",
    "        fname_new = glob.glob(os.path.join(results_dir, 'memmap', '*%s*_d*%s*_.mmap' % (prefix, framestr)))\n",
    "        if len(fname_new) > 1:\n",
    "            nframes = max([int(i.split('_')[-2]) for i in fname_new])\n",
    "            framestr = '_frames_%i_' % nframes\n",
    "            fname_new = glob.glob(os.path.join(results_dir, 'memmap', '*%s*_d*%s*_.mmap' % (prefix, framestr)))[0]\n",
    "        else:\n",
    "            assert len(fname_new)==1, \"Unique fname_new not found: %s\" % str(fname_new)\n",
    "            fname_new = fname_new[0] \n",
    "        mm_prefix = os.path.splitext(os.path.split(fname_new)[-1])[0].split('_d1_')[0]\n",
    "        print(\"CORRECTED PREFIX: %s\" % mm_prefix)\n",
    "    except Exception as e:\n",
    "        print(e)\n",
    "        return None\n",
    "    return fname_new, mm_prefix\n"
   ]
  },
  {
   "cell_type": "code",
   "execution_count": 5,
   "metadata": {},
   "outputs": [
    {
     "name": "stdout",
     "output_type": "stream",
     "text": [
      "Loading memmap params...\n",
      "/n/coxfs01/2p-data/JC084/20190522/FOV1_zoom2p0x/caiman_results/gratings/JC084-20190522-FOV1_zoom2p0x-gratings-Yr_memmap-params.json\n"
     ]
    }
   ],
   "source": [
    "rootdir = '/n/coxfs01/2p-data'\n",
    "animalid = 'JC084'\n",
    "session = '20190522'\n",
    "fov = 'FOV1_zoom2p0x'\n",
    "experiment = 'gratings'\n",
    "\n",
    "results_dir = os.path.join(rootdir, animalid, session, fov, 'caiman_results', experiment)\n",
    "\n",
    "mm_prefix = 'JC084-20190522-FOV1_zoom2p0x-gratings-Yr'\n",
    "\n",
    "fnames = get_file_paths(results_dir, mm_prefix=mm_prefix)\n"
   ]
  },
  {
   "cell_type": "code",
   "execution_count": 6,
   "metadata": {},
   "outputs": [
    {
     "data": {
      "text/plain": [
       "['/n/coxfs01/2p-data/JC084/20190522/FOV1_zoom2p0x/gratings_run1/raw_d0390b/fov1_gratings_00001.tif',\n",
       " '/n/coxfs01/2p-data/JC084/20190522/FOV1_zoom2p0x/gratings_run1/raw_d0390b/fov1_gratings_00002.tif',\n",
       " '/n/coxfs01/2p-data/JC084/20190522/FOV1_zoom2p0x/gratings_run1/raw_d0390b/fov1_gratings_00003.tif',\n",
       " '/n/coxfs01/2p-data/JC084/20190522/FOV1_zoom2p0x/gratings_run1/raw_d0390b/fov1_gratings_00004.tif',\n",
       " '/n/coxfs01/2p-data/JC084/20190522/FOV1_zoom2p0x/gratings_run1/raw_d0390b/fov1_gratings_00005.tif',\n",
       " '/n/coxfs01/2p-data/JC084/20190522/FOV1_zoom2p0x/gratings_run1/raw_d0390b/fov1_gratings_00006.tif',\n",
       " '/n/coxfs01/2p-data/JC084/20190522/FOV1_zoom2p0x/gratings_run1/raw_d0390b/fov1_gratings_00007.tif',\n",
       " '/n/coxfs01/2p-data/JC084/20190522/FOV1_zoom2p0x/gratings_run1/raw_d0390b/fov1_gratings_00008.tif',\n",
       " '/n/coxfs01/2p-data/JC084/20190522/FOV1_zoom2p0x/gratings_run2/raw_a8b68a/fov1_gratings_00001.tif',\n",
       " '/n/coxfs01/2p-data/JC084/20190522/FOV1_zoom2p0x/gratings_run2/raw_a8b68a/fov1_gratings_00002.tif',\n",
       " '/n/coxfs01/2p-data/JC084/20190522/FOV1_zoom2p0x/gratings_run2/raw_a8b68a/fov1_gratings_00003.tif',\n",
       " '/n/coxfs01/2p-data/JC084/20190522/FOV1_zoom2p0x/gratings_run2/raw_a8b68a/fov1_gratings_00004.tif',\n",
       " '/n/coxfs01/2p-data/JC084/20190522/FOV1_zoom2p0x/gratings_run2/raw_a8b68a/fov1_gratings_00005.tif',\n",
       " '/n/coxfs01/2p-data/JC084/20190522/FOV1_zoom2p0x/gratings_run2/raw_a8b68a/fov1_gratings_00006.tif',\n",
       " '/n/coxfs01/2p-data/JC084/20190522/FOV1_zoom2p0x/gratings_run2/raw_a8b68a/fov1_gratings_00007.tif',\n",
       " '/n/coxfs01/2p-data/JC084/20190522/FOV1_zoom2p0x/gratings_run3/raw_e327d6/fov1_gratings_00001.tif',\n",
       " '/n/coxfs01/2p-data/JC084/20190522/FOV1_zoom2p0x/gratings_run3/raw_e327d6/fov1_gratings_00002.tif',\n",
       " '/n/coxfs01/2p-data/JC084/20190522/FOV1_zoom2p0x/gratings_run3/raw_e327d6/fov1_gratings_00003.tif',\n",
       " '/n/coxfs01/2p-data/JC084/20190522/FOV1_zoom2p0x/gratings_run3/raw_e327d6/fov1_gratings_00004.tif',\n",
       " '/n/coxfs01/2p-data/JC084/20190522/FOV1_zoom2p0x/gratings_run3/raw_e327d6/fov1_gratings_00005.tif',\n",
       " '/n/coxfs01/2p-data/JC084/20190522/FOV1_zoom2p0x/gratings_run3/raw_e327d6/fov1_gratings_00006.tif',\n",
       " '/n/coxfs01/2p-data/JC084/20190522/FOV1_zoom2p0x/gratings_run3/raw_e327d6/fov1_gratings_00007.tif',\n",
       " '/n/coxfs01/2p-data/JC084/20190522/FOV1_zoom2p0x/gratings_run3/raw_e327d6/fov1_gratings_00008.tif',\n",
       " '/n/coxfs01/2p-data/JC084/20190522/FOV1_zoom2p0x/gratings_run4/raw_913375/fov1_gratings_00001.tif',\n",
       " '/n/coxfs01/2p-data/JC084/20190522/FOV1_zoom2p0x/gratings_run4/raw_913375/fov1_gratings_00002.tif',\n",
       " '/n/coxfs01/2p-data/JC084/20190522/FOV1_zoom2p0x/gratings_run4/raw_913375/fov1_gratings_00003.tif',\n",
       " '/n/coxfs01/2p-data/JC084/20190522/FOV1_zoom2p0x/gratings_run4/raw_913375/fov1_gratings_00004.tif',\n",
       " '/n/coxfs01/2p-data/JC084/20190522/FOV1_zoom2p0x/gratings_run4/raw_913375/fov1_gratings_00005.tif',\n",
       " '/n/coxfs01/2p-data/JC084/20190522/FOV1_zoom2p0x/gratings_run4/raw_913375/fov1_gratings_00006.tif',\n",
       " '/n/coxfs01/2p-data/JC084/20190522/FOV1_zoom2p0x/gratings_run4/raw_913375/fov1_gratings_00007.tif',\n",
       " '/n/coxfs01/2p-data/JC084/20190522/FOV1_zoom2p0x/gratings_run4/raw_913375/fov1_gratings_00008.tif']"
      ]
     },
     "execution_count": 6,
     "metadata": {},
     "output_type": "execute_result"
    }
   ],
   "source": [
    "fnames"
   ]
  },
  {
   "cell_type": "code",
   "execution_count": 7,
   "metadata": {},
   "outputs": [],
   "source": [
    "# dataset dependent parameters\n",
    "fr = 44.65                             # imaging rate in frames per second\n",
    "decay_time = 0.4                    # length of a typical transient in seconds\n",
    "\n",
    "# motion correction parameters\n",
    "#strides = (48, 48)          # start a new patch for pw-rigid motion correction every x pixels\n",
    "#overlaps = (24, 24)         # overlap between pathes (size of patch strides+overlaps)\n",
    "#max_shifts = (6,6)          # maximum allowed rigid shifts (in pixels)\n",
    "#max_deviation_rigid = 3     # maximum shifts deviation allowed for patch with respect to rigid shifts\n",
    "#pw_rigid = False             # flag for performing non-rigid motion correction\n",
    "\n",
    "# parameters for source extraction and deconvolution\n",
    "p = 1                       # order of the autoregressive system\n",
    "gnb = 2                     # number of global background components\n",
    "merge_thr = 0.85            # merging threshold, max correlation allowed\n",
    "rf = 25                     # half-size of the patches in pixels. e.g., if rf=25, patches are 50x50\n",
    "stride_cnmf = 12             # amount of overlap between the patches in pixels\n",
    "K = 8                       # number of components per patch\n",
    "gSig = [2, 2]               # expected half size of neurons in pixels\n",
    "method_init = 'greedy_roi'  # initialization method (if analyzing dendritic data using 'sparse_nmf')\n",
    "ssub = 1                    # spatial subsampling during initialization\n",
    "tsub = 1                    # temporal subsampling during intialization\n",
    "\n",
    "# parameters for component evaluation\n",
    "min_SNR = 2.0               # signal to noise ratio for accepting a component\n",
    "rval_thr = 0.85              # space correlation threshold for accepting a component\n",
    "cnn_thr = 0.99              # threshold for CNN based classifier\n",
    "cnn_lowest = 0.1 # neurons with cnn probability lower than this value are rejected\n"
   ]
  },
  {
   "cell_type": "code",
   "execution_count": 8,
   "metadata": {},
   "outputs": [],
   "source": [
    "opts_dict = {'fnames': fnames,\n",
    "            'fr': fr,\n",
    "            'decay_time': decay_time,\n",
    "            #'strides': strides,\n",
    "            #'overlaps': overlaps,\n",
    "            #'max_shifts': max_shifts,\n",
    "            #'max_deviation_rigid': max_deviation_rigid,\n",
    "            #'pw_rigid': pw_rigid,\n",
    "            'p': p,\n",
    "            'nb': gnb,\n",
    "            'rf': rf,\n",
    "            'K': K, \n",
    "            'stride': stride_cnmf,\n",
    "            'method_init': method_init,\n",
    "            'rolling_sum': True,\n",
    "            'only_init': True,\n",
    "            'ssub': ssub,\n",
    "            'tsub': tsub,\n",
    "            'merge_thr': merge_thr, \n",
    "            'min_SNR': min_SNR,\n",
    "            'rval_thr': rval_thr,\n",
    "            'use_cnn': True,\n",
    "            'min_cnn_thr': cnn_thr,\n",
    "            'cnn_lowest': cnn_lowest}\n",
    "\n",
    "opts = params.CNMFParams(params_dict=opts_dict)"
   ]
  },
  {
   "cell_type": "code",
   "execution_count": 9,
   "metadata": {},
   "outputs": [],
   "source": [
    "#%% start a cluster for parallel processing (if a cluster already exists it will be closed and a new session will be opened)\n",
    "if 'dview' in locals():\n",
    "    cm.stop_server(dview=dview)\n",
    "c, dview, n_processes = cm.cluster.setup_cluster(\n",
    "    backend='local', n_processes=1, single_thread=True)\n",
    "dview=None"
   ]
  },
  {
   "cell_type": "code",
   "execution_count": 10,
   "metadata": {},
   "outputs": [
    {
     "ename": "NameError",
     "evalue": "name 'fname_new' is not defined",
     "output_type": "error",
     "traceback": [
      "\u001b[0;31m------------------------------------------------------------------------\u001b[0m",
      "\u001b[0;31mNameError\u001b[0m                              Traceback (most recent call last)",
      "\u001b[0;32m<ipython-input-10-7192daaba0c2>\u001b[0m in \u001b[0;36m<module>\u001b[0;34m\u001b[0m\n\u001b[0;32m----> 1\u001b[0;31m \u001b[0mfname_new\u001b[0m\u001b[0;34m\u001b[0m\u001b[0;34m\u001b[0m\u001b[0m\n\u001b[0m",
      "\u001b[0;31mNameError\u001b[0m: name 'fname_new' is not defined"
     ]
    }
   ],
   "source": [
    "fname_new"
   ]
  },
  {
   "cell_type": "code",
   "execution_count": 11,
   "metadata": {},
   "outputs": [
    {
     "name": "stdout",
     "output_type": "stream",
     "text": [
      "Getting full mmap path for prefix: JC084-20190522-FOV1_zoom2p0x-gratings-Yr\n",
      "-- dir: /n/coxfs01/2p-data/JC084/20190522/FOV1_zoom2p0x/caiman_results/gratings\n",
      "['/n/coxfs01/2p-data/JC084/20190522/FOV1_zoom2p0x/caiman_results/gratings/memmap/JC084-20190522-FOV1_zoom2p0x-gratings-Yr_d1_512_d2_512_d3_1_order_C_frames_142910_.mmap']\n",
      "CORRECTED PREFIX: JC084-20190522-FOV1_zoom2p0x-gratings-Yr\n",
      "Extracting CNMF from: /n/coxfs01/2p-data/JC084/20190522/FOV1_zoom2p0x/caiman_results/gratings/memmap/JC084-20190522-FOV1_zoom2p0x-gratings-Yr_d1_512_d2_512_d3_1_order_C_frames_142910_.mmap\n"
     ]
    }
   ],
   "source": [
    "\n",
    "#%% MEMORY MAPPING\n",
    "# memory map the file in order 'C'\n",
    "fname_new, _ = get_full_memmap_path(results_dir, framestr='_frames_142910', prefix=mm_prefix)\n",
    "print(\"Extracting CNMF from: %s\" % fname_new)\n",
    "    \n",
    "# now load the file\n",
    "Yr, dims, T = cm.load_memmap(fname_new)\n",
    "images = np.reshape(Yr.T, [T] + list(dims), order='F') \n",
    "    #load frames in python format (T x X x Y)\n",
    "    "
   ]
  },
  {
   "cell_type": "code",
   "execution_count": 12,
   "metadata": {},
   "outputs": [
    {
     "name": "stdout",
     "output_type": "stream",
     "text": [
      "images: 0.0 0.0\n"
     ]
    }
   ],
   "source": [
    "print(\"images:\", images.max(), images.min())"
   ]
  },
  {
   "cell_type": "code",
   "execution_count": 16,
   "metadata": {},
   "outputs": [],
   "source": [
    "rig_mfiles = sorted(glob.glob(os.path.join(rootdir, animalid, session, fov, '%s*' % experiment, 'raw_*', '*_rig_*.mmap')), key=natural_keys)"
   ]
  },
  {
   "cell_type": "code",
   "execution_count": 70,
   "metadata": {},
   "outputs": [
    {
     "data": {
      "text/plain": [
       "'/n/coxfs01/2p-data/JC084/20190522/FOV1_zoom2p0x/gratings_run1/raw_d0390b/fov1_gratings_00001_rig__d1_512_d2_512_d3_1_order_F_frames_4610_.mmap'"
      ]
     },
     "execution_count": 70,
     "metadata": {},
     "output_type": "execute_result"
    }
   ],
   "source": [
    "rig_mfiles[0]"
   ]
  },
  {
   "cell_type": "code",
   "execution_count": 71,
   "metadata": {},
   "outputs": [
    {
     "name": "stdout",
     "output_type": "stream",
     "text": [
      "(512, 512)\n",
      "4610\n"
     ]
    }
   ],
   "source": [
    "# now load the file\n",
    "Yr, dims, T = cm.load_memmap(rig_mfiles[-1])\n",
    "print(dims)\n",
    "print(T)\n",
    "images = np.reshape(Yr.T, [T] + list(dims), order='F') \n"
   ]
  },
  {
   "cell_type": "code",
   "execution_count": 72,
   "metadata": {},
   "outputs": [
    {
     "name": "stdout",
     "output_type": "stream",
     "text": [
      "images: 26354.438 -933.7417\n"
     ]
    }
   ],
   "source": [
    "print(\"images:\", images.max(), images.min())"
   ]
  },
  {
   "cell_type": "code",
   "execution_count": 73,
   "metadata": {},
   "outputs": [],
   "source": [
    "img0 = images.sum(axis=0)\n"
   ]
  },
  {
   "cell_type": "code",
   "execution_count": 74,
   "metadata": {},
   "outputs": [
    {
     "data": {
      "text/plain": [
       "<matplotlib.image.AxesImage at 0x7f263ee861d0>"
      ]
     },
     "execution_count": 74,
     "metadata": {},
     "output_type": "execute_result"
    },
    {
     "data": {
      "image/png": "[encoded data removed]",
      "text/plain": [
       "<Figure size 432x288 with 1 Axes>"
      ]
     },
     "metadata": {
      "needs_background": "light"
     },
     "output_type": "display_data"
    }
   ],
   "source": [
    "pl.figure()\n",
    "pl.imshow(img0)\n",
    "\n"
   ]
  },
  {
   "cell_type": "code",
   "execution_count": 75,
   "metadata": {},
   "outputs": [
    {
     "ename": "Exception",
     "evalue": "The file should be in C order (see save_memmap function)",
     "output_type": "error",
     "traceback": [
      "\u001b[0;31m------------------------------------------------------------------------\u001b[0m",
      "\u001b[0;31mException\u001b[0m                              Traceback (most recent call last)",
      "\u001b[0;32m<ipython-input-75-2421ea3b00a6>\u001b[0m in \u001b[0;36m<module>\u001b[0;34m\u001b[0m\n\u001b[1;32m      1\u001b[0m \u001b[0;32mif\u001b[0m \u001b[0mnp\u001b[0m\u001b[0;34m.\u001b[0m\u001b[0misfortran\u001b[0m\u001b[0;34m(\u001b[0m\u001b[0mYr\u001b[0m\u001b[0;34m)\u001b[0m\u001b[0;34m:\u001b[0m\u001b[0;34m\u001b[0m\u001b[0;34m\u001b[0m\u001b[0m\n\u001b[0;32m----> 2\u001b[0;31m     \u001b[0;32mraise\u001b[0m \u001b[0mException\u001b[0m\u001b[0;34m(\u001b[0m\u001b[0;34m'The file should be in C order (see save_memmap function)'\u001b[0m\u001b[0;34m)\u001b[0m\u001b[0;34m\u001b[0m\u001b[0;34m\u001b[0m\u001b[0m\n\u001b[0m",
      "\u001b[0;31mException\u001b[0m: The file should be in C order (see save_memmap function)"
     ]
    }
   ],
   "source": [
    "if np.isfortran(Yr):\n",
    "    raise Exception('The file should be in C order (see save_memmap function)')\n"
   ]
  },
  {
   "cell_type": "code",
   "execution_count": 78,
   "metadata": {},
   "outputs": [
    {
     "name": "stdout",
     "output_type": "stream",
     "text": [
      "/n/coxfs01/2p-data/JC084/20190522/FOV1_zoom2p0x/caiman_results/gratings/memmap/JC084-20190522-FOV1_zoom2p0x-gratings-Yr\n",
      "None\n",
      "100\n"
     ]
    }
   ],
   "source": [
    "print(base_name)\n",
    "print(dview)\n",
    "n_chunks = 100\n",
    "print(n_chunks)\n"
   ]
  },
  {
   "cell_type": "code",
   "execution_count": 96,
   "metadata": {},
   "outputs": [
    {
     "data": {
      "text/plain": [
       "'/n/coxfs01/2p-data/JC084/20190522/FOV1_zoom2p0x/caiman_results/gratings/memmap/JC084-20190522-FOV1_zoom2p0x-gratings-Yr'"
      ]
     },
     "execution_count": 96,
     "metadata": {},
     "output_type": "execute_result"
    }
   ],
   "source": [
    "base_name"
   ]
  },
  {
   "cell_type": "code",
   "execution_count": null,
   "metadata": {},
   "outputs": [],
   "source": [
    "start_t = time.time() \n",
    "\n",
    "fname_new = cm.save_memmap_join(rig_mfiles, base_name=base_name, dview=dview, n_chunks=n_chunks)\n",
    "\n",
    "end_t = time.time() - start_t\n"
   ]
  },
  {
   "cell_type": "code",
   "execution_count": null,
   "metadata": {},
   "outputs": [],
   "source": [
    "print(\"DONE JOINING MMAP FILES!\")\n",
    "print(\"Elapsed: {0:.2f}sec\".format(end_t))  "
   ]
  },
  {
   "cell_type": "code",
   "execution_count": null,
   "metadata": {},
   "outputs": [],
   "source": []
  },
  {
   "cell_type": "code",
   "execution_count": 87,
   "metadata": {},
   "outputs": [
    {
     "name": "stdout",
     "output_type": "stream",
     "text": [
      "(512, 512) 18440\n",
      "(18440, 512, 512)\n"
     ]
    }
   ],
   "source": [
    "Yr, dims, T = cm.load_memmap(fname_new)\n",
    "print(dims, T)\n",
    "images = np.reshape(Yr.T, [T] + list(dims), order='F') \n",
    "print(images.shape)\n",
    "img = images.sum(axis=0)\n"
   ]
  },
  {
   "cell_type": "code",
   "execution_count": 88,
   "metadata": {},
   "outputs": [
    {
     "name": "stdout",
     "output_type": "stream",
     "text": [
      "25660.0 -1836.0\n"
     ]
    },
    {
     "data": {
      "image/png": "[encoded data removed]",
      "text/plain": [
       "<Figure size 432x288 with 1 Axes>"
      ]
     },
     "metadata": {
      "needs_background": "light"
     },
     "output_type": "display_data"
    }
   ],
   "source": [
    "pl.figure()\n",
    "pl.imshow(img)\n",
    "print(images.max(), images.min())"
   ]
  },
  {
   "cell_type": "code",
   "execution_count": null,
   "metadata": {},
   "outputs": [],
   "source": []
  },
  {
   "cell_type": "code",
   "execution_count": 55,
   "metadata": {},
   "outputs": [],
   "source": [
    "f1 = '/n/coxfs01/2p-data/JC084/20190525/FOV1_zoom2p0x/caiman_results/gratings/memmap/file00001_fov1_gratings_00001_rig__d1_512_d2_512_d3_1_order_C_frames_4610_.mmap'\n",
    "f2 = '/n/coxfs01/2p-data/JC084/20190525/FOV1_zoom2p0x/caiman_results/gratings/memmap/gratings-downsample-1-mcorrected0006_d1_512_d2_512_d3_1_order_F_frames_4610_.mmap'\n"
   ]
  },
  {
   "cell_type": "code",
   "execution_count": 59,
   "metadata": {},
   "outputs": [
    {
     "name": "stdout",
     "output_type": "stream",
     "text": [
      "(512, 512) 4610\n",
      "(4610, 512, 512)\n"
     ]
    }
   ],
   "source": [
    "Yr, dims, T = cm.load_memmap(f1)\n",
    "print(dims, T)\n",
    "images = np.reshape(Yr.T, [T] + list(dims), order='F') \n",
    "print(images.shape)\n",
    "img = images.sum(axis=0)\n"
   ]
  },
  {
   "cell_type": "code",
   "execution_count": 68,
   "metadata": {},
   "outputs": [
    {
     "name": "stdout",
     "output_type": "stream",
     "text": [
      "(512, 512) 4610\n",
      "(512, 512, 4610)\n"
     ]
    }
   ],
   "source": [
    "Yr, dims, T = cm.load_memmap(f2)\n",
    "print(dims, T)\n",
    "images = np.reshape(Yr.T, list(dims) + [T], order='C') \n",
    "print(images.shape)\n",
    "img2 = images.sum(axis=-1)\n"
   ]
  },
  {
   "cell_type": "code",
   "execution_count": 69,
   "metadata": {},
   "outputs": [
    {
     "data": {
      "text/plain": [
       "<matplotlib.image.AxesImage at 0x7f24ab84f400>"
      ]
     },
     "execution_count": 69,
     "metadata": {},
     "output_type": "execute_result"
    },
    {
     "data": {
      "image/png": "[encoded data removed]",
      "text/plain": [
       "<Figure size 432x288 with 2 Axes>"
      ]
     },
     "metadata": {
      "needs_background": "light"
     },
     "output_type": "display_data"
    }
   ],
   "source": [
    "pl.figure()\n",
    "pl.subplot(1,2,1)\n",
    "pl.imshow(img)\n",
    "pl.subplot(1,2,2)\n",
    "pl.imshow(img2)\n",
    "\n"
   ]
  },
  {
   "cell_type": "code",
   "execution_count": null,
   "metadata": {},
   "outputs": [],
   "source": []
  },
  {
   "cell_type": "code",
   "execution_count": 39,
   "metadata": {},
   "outputs": [],
   "source": [
    "\n",
    "def load_mc_results(results_dir, mc, prefix='Yr'):\n",
    "    try:\n",
    "        res = np.load(os.path.join(results_dir, '%s_mc-rigid.npz' % prefix), allow_pickle=True)\n",
    "        #mc = mc_results[mc] \n",
    "        print(list(res.keys()))\n",
    "        mc.fname = res['fname']\n",
    "        mc.max_shifts = res['max_shifts']\n",
    "        mc.min_mov = res['min_mov']\n",
    "        mc.border_nan = res['border_nan']\n",
    "        mc.fname_tot_rig = list(res['fname_tot_rig'])\n",
    "        mc.total_template_rig = res['total_template_rig']\n",
    "        mc.templates_rig = res['templates_rig']\n",
    "        mc.shifts_rig = res['shifts_rig']\n",
    "        mc.mmap_file = res['mmap_file']\n",
    "        mc.border_to_0 = res['border_to_0']\n",
    "        mc.gSig_filt = res['gSig_filt']\n",
    "\n",
    "    except Exception as e:\n",
    "        print(e)\n",
    "        print(\"Error loading MC\")\n",
    "        return None\n",
    "\n",
    "    return mc "
   ]
  },
  {
   "cell_type": "code",
   "execution_count": 40,
   "metadata": {},
   "outputs": [
    {
     "name": "stdout",
     "output_type": "stream",
     "text": [
      "... Checking for existing .mmap files\n",
      "['fname', 'max_shifts', 'min_mov', 'border_nan', 'fname_tot_rig', 'total_template_rig', 'templates_rig', 'shifts_rig', 'mmap_file', 'border_to_0', 'gSig_filt']\n"
     ]
    }
   ],
   "source": [
    "print(\"... Checking for existing .mmap files\")\n",
    "mc = MotionCorrect(fnames, **opts.get_group('motion'))\n",
    "mc = load_mc_results(results_dir, mc, prefix=mm_prefix)\n",
    "assert mc is not None, \"---> No completed MC found. Running now...\"\n",
    "assert len(mc.mmap_file)==len(fnames), \"--> Incorrect .mmap files found (%i - should be %i)\" % (len(mc.mmap_file), len(fnames))"
   ]
  },
  {
   "cell_type": "code",
   "execution_count": 28,
   "metadata": {},
   "outputs": [
    {
     "name": "stdout",
     "output_type": "stream",
     "text": [
      "... checking for existing mmap total: d1_512_d2_512, order_C_frames_142910\n",
      "7\n"
     ]
    }
   ],
   "source": [
    "nframes_total = sum([int(mf.split('_')[-2]) for mf in mc.mmap_file])\n",
    "d1, d2 = mc.total_template_rig.shape\n",
    "dimstr = 'd1_%i_d2_%i' % (d1, d2)\n",
    "framestr = 'order_C_frames_%i' % nframes_total\n",
    "print('... checking for existing mmap total: %s, %s' % (dimstr, framestr))\n",
    "bord_px = np.ceil(np.max(np.abs(mc.shifts_rig))).astype(np.int)\n",
    "print(bord_px)"
   ]
  },
  {
   "cell_type": "code",
   "execution_count": 95,
   "metadata": {},
   "outputs": [
    {
     "data": {
      "text/plain": [
       "True"
      ]
     },
     "execution_count": 95,
     "metadata": {},
     "output_type": "execute_result"
    }
   ],
   "source": [
    "list(mc.mmap_file) == rig_mfiles"
   ]
  },
  {
   "cell_type": "code",
   "execution_count": null,
   "metadata": {},
   "outputs": [],
   "source": []
  },
  {
   "cell_type": "code",
   "execution_count": 33,
   "metadata": {},
   "outputs": [],
   "source": [
    "import pylab as pl\n",
    "import time"
   ]
  },
  {
   "cell_type": "code",
   "execution_count": 52,
   "metadata": {},
   "outputs": [
    {
     "data": {
      "text/plain": [
       "<matplotlib.image.AxesImage at 0x7f24ab74ce80>"
      ]
     },
     "execution_count": 52,
     "metadata": {},
     "output_type": "execute_result"
    },
    {
     "data": {
      "image/png": "[encoded data removed]",
      "text/plain": [
       "<Figure size 432x288 with 1 Axes>"
      ]
     },
     "metadata": {
      "needs_background": "light"
     },
     "output_type": "display_data"
    }
   ],
   "source": [
    "pl.figure()\n",
    "pl.imshow(mc.total_template_rig)"
   ]
  },
  {
   "cell_type": "code",
   "execution_count": 42,
   "metadata": {},
   "outputs": [
    {
     "name": "stdout",
     "output_type": "stream",
     "text": [
      "... saving total result to: /n/coxfs01/2p-data/JC084/20190522/FOV1_zoom2p0x/caiman_results/gratings/memmap/JC084-20190522-FOV1_zoom2p0x-gratings-Yr\n"
     ]
    }
   ],
   "source": [
    "start_t = time.time() \n",
    "base_name = '%s/memmap/%s' % (results_dir, mm_prefix)\n",
    "print(\"... saving total result to: %s\" % base_name)\n"
   ]
  },
  {
   "cell_type": "code",
   "execution_count": 50,
   "metadata": {},
   "outputs": [
    {
     "data": {
      "text/plain": [
       "array(-372., dtype=float32)"
      ]
     },
     "execution_count": 50,
     "metadata": {},
     "output_type": "execute_result"
    }
   ],
   "source": [
    "mc.min_mov"
   ]
  },
  {
   "cell_type": "code",
   "execution_count": null,
   "metadata": {},
   "outputs": [],
   "source": []
  },
  {
   "cell_type": "code",
   "execution_count": 43,
   "metadata": {
    "scrolled": true
   },
   "outputs": [
    {
     "ename": "KeyboardInterrupt",
     "evalue": "",
     "output_type": "error",
     "traceback": [
      "\u001b[0;31m------------------------------------------------------------------------\u001b[0m",
      "\u001b[0;31mKeyboardInterrupt\u001b[0m                      Traceback (most recent call last)",
      "\u001b[0;32m<ipython-input-43-2212d8a142a7>\u001b[0m in \u001b[0;36m<module>\u001b[0;34m\u001b[0m\n\u001b[0;32m----> 1\u001b[0;31m \u001b[0mfname_new\u001b[0m \u001b[0;34m=\u001b[0m \u001b[0mcm\u001b[0m\u001b[0;34m.\u001b[0m\u001b[0msave_memmap\u001b[0m\u001b[0;34m(\u001b[0m\u001b[0mmc\u001b[0m\u001b[0;34m.\u001b[0m\u001b[0mfname_tot_rig\u001b[0m\u001b[0;34m,\u001b[0m \u001b[0mbase_name\u001b[0m\u001b[0;34m=\u001b[0m\u001b[0mbase_name\u001b[0m\u001b[0;34m,\u001b[0m \u001b[0mborder_to_0\u001b[0m\u001b[0;34m=\u001b[0m\u001b[0mbord_px\u001b[0m\u001b[0;34m,\u001b[0m \u001b[0morder\u001b[0m\u001b[0;34m=\u001b[0m\u001b[0;34m'C'\u001b[0m\u001b[0;34m,\u001b[0m \u001b[0mdview\u001b[0m\u001b[0;34m=\u001b[0m\u001b[0mdview\u001b[0m\u001b[0;34m)\u001b[0m\u001b[0;34m\u001b[0m\u001b[0;34m\u001b[0m\u001b[0m\n\u001b[0m\u001b[1;32m      2\u001b[0m \u001b[0mend_t\u001b[0m \u001b[0;34m=\u001b[0m \u001b[0mtime\u001b[0m\u001b[0;34m.\u001b[0m\u001b[0mtime\u001b[0m\u001b[0;34m(\u001b[0m\u001b[0;34m)\u001b[0m \u001b[0;34m-\u001b[0m \u001b[0mstart_t\u001b[0m\u001b[0;34m\u001b[0m\u001b[0;34m\u001b[0m\u001b[0m\n",
      "\u001b[0;32m~/Repositories/CaImAn/caiman/mmapping.py\u001b[0m in \u001b[0;36msave_memmap\u001b[0;34m(filenames, base_name, resize_fact, remove_init, idx_xy, order, xy_shifts, is_3D, add_to_movie, border_to_0, dview, n_chunks, slices)\u001b[0m\n\u001b[1;32m    424\u001b[0m                                               \u001b[0mxy_shifts\u001b[0m\u001b[0;34m=\u001b[0m\u001b[0mxy_shifts\u001b[0m\u001b[0;34m,\u001b[0m\u001b[0;34m\u001b[0m\u001b[0;34m\u001b[0m\u001b[0m\n\u001b[1;32m    425\u001b[0m                                               \u001b[0mslices\u001b[0m\u001b[0;34m=\u001b[0m\u001b[0mslices\u001b[0m\u001b[0;34m,\u001b[0m\u001b[0;34m\u001b[0m\u001b[0;34m\u001b[0m\u001b[0m\n\u001b[0;32m--> 426\u001b[0;31m                                               add_to_movie=add_to_movie)\n\u001b[0m\u001b[1;32m    427\u001b[0m         \u001b[0;32melse\u001b[0m\u001b[0;34m:\u001b[0m\u001b[0;34m\u001b[0m\u001b[0;34m\u001b[0m\u001b[0m\n\u001b[1;32m    428\u001b[0m             \u001b[0mfname_parts\u001b[0m \u001b[0;34m=\u001b[0m \u001b[0mfilenames\u001b[0m\u001b[0;34m\u001b[0m\u001b[0;34m\u001b[0m\u001b[0m\n",
      "\u001b[0;32m~/Repositories/CaImAn/caiman/mmapping.py\u001b[0m in \u001b[0;36msave_memmap_each\u001b[0;34m(fnames, dview, base_name, resize_fact, remove_init, idx_xy, xy_shifts, add_to_movie, border_to_0, order, slices)\u001b[0m\n\u001b[1;32m    157\u001b[0m             \u001b[0mfnames_new\u001b[0m \u001b[0;34m=\u001b[0m \u001b[0mmy_map\u001b[0m\u001b[0;34m(\u001b[0m\u001b[0mdview\u001b[0m\u001b[0;34m,\u001b[0m \u001b[0msave_place_holder\u001b[0m\u001b[0;34m,\u001b[0m \u001b[0mpars\u001b[0m\u001b[0;34m)\u001b[0m\u001b[0;34m\u001b[0m\u001b[0;34m\u001b[0m\u001b[0m\n\u001b[1;32m    158\u001b[0m     \u001b[0;32melse\u001b[0m\u001b[0;34m:\u001b[0m\u001b[0;34m\u001b[0m\u001b[0;34m\u001b[0m\u001b[0m\n\u001b[0;32m--> 159\u001b[0;31m         \u001b[0mfnames_new\u001b[0m \u001b[0;34m=\u001b[0m \u001b[0mlist\u001b[0m\u001b[0;34m(\u001b[0m\u001b[0mmap\u001b[0m\u001b[0;34m(\u001b[0m\u001b[0msave_place_holder\u001b[0m\u001b[0;34m,\u001b[0m \u001b[0mpars\u001b[0m\u001b[0;34m)\u001b[0m\u001b[0;34m)\u001b[0m\u001b[0;34m\u001b[0m\u001b[0;34m\u001b[0m\u001b[0m\n\u001b[0m\u001b[1;32m    160\u001b[0m \u001b[0;34m\u001b[0m\u001b[0m\n\u001b[1;32m    161\u001b[0m     \u001b[0;32mreturn\u001b[0m \u001b[0mfnames_new\u001b[0m\u001b[0;34m\u001b[0m\u001b[0;34m\u001b[0m\u001b[0m\n",
      "\u001b[0;32m~/Repositories/CaImAn/caiman/mmapping.py\u001b[0m in \u001b[0;36msave_place_holder\u001b[0;34m(pars)\u001b[0m\n\u001b[1;32m    330\u001b[0m                        \u001b[0madd_to_movie\u001b[0m\u001b[0;34m=\u001b[0m\u001b[0madd_to_movie\u001b[0m\u001b[0;34m,\u001b[0m\u001b[0;34m\u001b[0m\u001b[0;34m\u001b[0m\u001b[0m\n\u001b[1;32m    331\u001b[0m                        \u001b[0mborder_to_0\u001b[0m\u001b[0;34m=\u001b[0m\u001b[0mborder_to_0\u001b[0m\u001b[0;34m,\u001b[0m\u001b[0;34m\u001b[0m\u001b[0;34m\u001b[0m\u001b[0m\n\u001b[0;32m--> 332\u001b[0;31m                        slices=slices)\n\u001b[0m\u001b[1;32m    333\u001b[0m \u001b[0;34m\u001b[0m\u001b[0m\n\u001b[1;32m    334\u001b[0m \u001b[0;34m\u001b[0m\u001b[0m\n",
      "\u001b[0;32m~/Repositories/CaImAn/caiman/mmapping.py\u001b[0m in \u001b[0;36msave_memmap\u001b[0;34m(filenames, base_name, resize_fact, remove_init, idx_xy, order, xy_shifts, is_3D, add_to_movie, border_to_0, dview, n_chunks, slices)\u001b[0m\n\u001b[1;32m    455\u001b[0m             \u001b[0;32melse\u001b[0m\u001b[0;34m:\u001b[0m\u001b[0;34m\u001b[0m\u001b[0;34m\u001b[0m\u001b[0m\n\u001b[1;32m    456\u001b[0m                 \u001b[0;32mif\u001b[0m \u001b[0misinstance\u001b[0m\u001b[0;34m(\u001b[0m\u001b[0mf\u001b[0m\u001b[0;34m,\u001b[0m \u001b[0mbasestring\u001b[0m\u001b[0;34m)\u001b[0m \u001b[0;32mor\u001b[0m \u001b[0misinstance\u001b[0m\u001b[0;34m(\u001b[0m\u001b[0mf\u001b[0m\u001b[0;34m,\u001b[0m \u001b[0mlist\u001b[0m\u001b[0;34m)\u001b[0m\u001b[0;34m:\u001b[0m\u001b[0;34m\u001b[0m\u001b[0;34m\u001b[0m\u001b[0m\n\u001b[0;32m--> 457\u001b[0;31m                     \u001b[0mYr\u001b[0m \u001b[0;34m=\u001b[0m \u001b[0mcm\u001b[0m\u001b[0;34m.\u001b[0m\u001b[0mload\u001b[0m\u001b[0;34m(\u001b[0m\u001b[0mf\u001b[0m\u001b[0;34m,\u001b[0m \u001b[0mfr\u001b[0m\u001b[0;34m=\u001b[0m\u001b[0;36m1\u001b[0m\u001b[0;34m,\u001b[0m \u001b[0min_memory\u001b[0m\u001b[0;34m=\u001b[0m\u001b[0;32mTrue\u001b[0m\u001b[0;34m)\u001b[0m\u001b[0;34m\u001b[0m\u001b[0;34m\u001b[0m\u001b[0m\n\u001b[0m\u001b[1;32m    458\u001b[0m                 \u001b[0;32melse\u001b[0m\u001b[0;34m:\u001b[0m\u001b[0;34m\u001b[0m\u001b[0;34m\u001b[0m\u001b[0m\n\u001b[1;32m    459\u001b[0m                     \u001b[0mYr\u001b[0m \u001b[0;34m=\u001b[0m \u001b[0mcm\u001b[0m\u001b[0;34m.\u001b[0m\u001b[0mmovie\u001b[0m\u001b[0;34m(\u001b[0m\u001b[0mf\u001b[0m\u001b[0;34m)\u001b[0m\u001b[0;34m\u001b[0m\u001b[0;34m\u001b[0m\u001b[0m\n",
      "\u001b[0;32m~/Repositories/CaImAn/caiman/base/movies.py\u001b[0m in \u001b[0;36mload\u001b[0;34m(file_name, fr, start_time, meta_data, subindices, shape, var_name_hdf5, in_memory, is_behavior, bottom, top, left, right, channel, outtype, is3D)\u001b[0m\n\u001b[1;32m   1686\u001b[0m             \u001b[0;32mif\u001b[0m \u001b[0min_memory\u001b[0m\u001b[0;34m:\u001b[0m\u001b[0;34m\u001b[0m\u001b[0;34m\u001b[0m\u001b[0m\n\u001b[1;32m   1687\u001b[0m                 \u001b[0mlogging\u001b[0m\u001b[0;34m.\u001b[0m\u001b[0mdebug\u001b[0m\u001b[0;34m(\u001b[0m\u001b[0;34m'loading mmap file in memory'\u001b[0m\u001b[0;34m)\u001b[0m\u001b[0;34m\u001b[0m\u001b[0;34m\u001b[0m\u001b[0m\n\u001b[0;32m-> 1688\u001b[0;31m                 \u001b[0mimages\u001b[0m \u001b[0;34m=\u001b[0m \u001b[0mnp\u001b[0m\u001b[0;34m.\u001b[0m\u001b[0marray\u001b[0m\u001b[0;34m(\u001b[0m\u001b[0mimages\u001b[0m\u001b[0;34m)\u001b[0m\u001b[0;34m.\u001b[0m\u001b[0mastype\u001b[0m\u001b[0;34m(\u001b[0m\u001b[0mouttype\u001b[0m\u001b[0;34m)\u001b[0m\u001b[0;34m\u001b[0m\u001b[0;34m\u001b[0m\u001b[0m\n\u001b[0m\u001b[1;32m   1689\u001b[0m \u001b[0;34m\u001b[0m\u001b[0m\n\u001b[1;32m   1690\u001b[0m             \u001b[0mlogging\u001b[0m\u001b[0;34m.\u001b[0m\u001b[0mdebug\u001b[0m\u001b[0;34m(\u001b[0m\u001b[0;34m'mmap'\u001b[0m\u001b[0;34m)\u001b[0m\u001b[0;34m\u001b[0m\u001b[0;34m\u001b[0m\u001b[0m\n",
      "\u001b[0;31mKeyboardInterrupt\u001b[0m: "
     ]
    }
   ],
   "source": [
    "fname_new = cm.save_memmap(mc.fname_tot_rig, base_name=base_name, border_to_0=bord_px, order='C', dview=dview)     \n",
    "end_t = time.time() - start_t"
   ]
  },
  {
   "cell_type": "code",
   "execution_count": 47,
   "metadata": {
    "scrolled": true
   },
   "outputs": [
    {
     "name": "stdout",
     "output_type": "stream",
     "text": [
      "/n/coxfs01/2p-data/JC084/20190522/FOV1_zoom2p0x/gratings_run1/raw_d0390b/fov1_gratings_00001_rig__d1_512_d2_512_d3_1_order_F_frames_4610_.mmap\n",
      "no order\n",
      "/n/coxfs01/2p-data/JC084/20190522/FOV1_zoom2p0x/gratings_run1/raw_d0390b/fov1_gratings_00002_rig__d1_512_d2_512_d3_1_order_F_frames_4610_.mmap\n",
      "no order\n",
      "/n/coxfs01/2p-data/JC084/20190522/FOV1_zoom2p0x/gratings_run1/raw_d0390b/fov1_gratings_00003_rig__d1_512_d2_512_d3_1_order_F_frames_4610_.mmap\n",
      "no order\n",
      "/n/coxfs01/2p-data/JC084/20190522/FOV1_zoom2p0x/gratings_run1/raw_d0390b/fov1_gratings_00004_rig__d1_512_d2_512_d3_1_order_F_frames_4610_.mmap\n",
      "no order\n",
      "/n/coxfs01/2p-data/JC084/20190522/FOV1_zoom2p0x/gratings_run1/raw_d0390b/fov1_gratings_00005_rig__d1_512_d2_512_d3_1_order_F_frames_4610_.mmap\n",
      "no order\n",
      "/n/coxfs01/2p-data/JC084/20190522/FOV1_zoom2p0x/gratings_run1/raw_d0390b/fov1_gratings_00006_rig__d1_512_d2_512_d3_1_order_F_frames_4610_.mmap\n",
      "no order\n",
      "/n/coxfs01/2p-data/JC084/20190522/FOV1_zoom2p0x/gratings_run1/raw_d0390b/fov1_gratings_00007_rig__d1_512_d2_512_d3_1_order_F_frames_4610_.mmap\n",
      "no order\n",
      "/n/coxfs01/2p-data/JC084/20190522/FOV1_zoom2p0x/gratings_run1/raw_d0390b/fov1_gratings_00008_rig__d1_512_d2_512_d3_1_order_F_frames_4610_.mmap\n",
      "no order\n",
      "/n/coxfs01/2p-data/JC084/20190522/FOV1_zoom2p0x/gratings_run2/raw_a8b68a/fov1_gratings_00001_rig__d1_512_d2_512_d3_1_order_F_frames_4610_.mmap\n",
      "no order\n",
      "/n/coxfs01/2p-data/JC084/20190522/FOV1_zoom2p0x/gratings_run2/raw_a8b68a/fov1_gratings_00002_rig__d1_512_d2_512_d3_1_order_F_frames_4610_.mmap\n",
      "no order\n",
      "/n/coxfs01/2p-data/JC084/20190522/FOV1_zoom2p0x/gratings_run2/raw_a8b68a/fov1_gratings_00003_rig__d1_512_d2_512_d3_1_order_F_frames_4610_.mmap\n",
      "no order\n",
      "/n/coxfs01/2p-data/JC084/20190522/FOV1_zoom2p0x/gratings_run2/raw_a8b68a/fov1_gratings_00004_rig__d1_512_d2_512_d3_1_order_F_frames_4610_.mmap\n",
      "no order\n",
      "/n/coxfs01/2p-data/JC084/20190522/FOV1_zoom2p0x/gratings_run2/raw_a8b68a/fov1_gratings_00005_rig__d1_512_d2_512_d3_1_order_F_frames_4610_.mmap\n",
      "no order\n",
      "/n/coxfs01/2p-data/JC084/20190522/FOV1_zoom2p0x/gratings_run2/raw_a8b68a/fov1_gratings_00006_rig__d1_512_d2_512_d3_1_order_F_frames_4610_.mmap\n",
      "no order\n",
      "/n/coxfs01/2p-data/JC084/20190522/FOV1_zoom2p0x/gratings_run2/raw_a8b68a/fov1_gratings_00007_rig__d1_512_d2_512_d3_1_order_F_frames_4610_.mmap\n",
      "no order\n",
      "/n/coxfs01/2p-data/JC084/20190522/FOV1_zoom2p0x/gratings_run3/raw_e327d6/fov1_gratings_00001_rig__d1_512_d2_512_d3_1_order_F_frames_4610_.mmap\n",
      "no order\n",
      "/n/coxfs01/2p-data/JC084/20190522/FOV1_zoom2p0x/gratings_run3/raw_e327d6/fov1_gratings_00002_rig__d1_512_d2_512_d3_1_order_F_frames_4610_.mmap\n",
      "no order\n",
      "/n/coxfs01/2p-data/JC084/20190522/FOV1_zoom2p0x/gratings_run3/raw_e327d6/fov1_gratings_00003_rig__d1_512_d2_512_d3_1_order_F_frames_4610_.mmap\n",
      "no order\n",
      "/n/coxfs01/2p-data/JC084/20190522/FOV1_zoom2p0x/gratings_run3/raw_e327d6/fov1_gratings_00004_rig__d1_512_d2_512_d3_1_order_F_frames_4610_.mmap\n",
      "no order\n",
      "/n/coxfs01/2p-data/JC084/20190522/FOV1_zoom2p0x/gratings_run3/raw_e327d6/fov1_gratings_00005_rig__d1_512_d2_512_d3_1_order_F_frames_4610_.mmap\n",
      "no order\n",
      "/n/coxfs01/2p-data/JC084/20190522/FOV1_zoom2p0x/gratings_run3/raw_e327d6/fov1_gratings_00006_rig__d1_512_d2_512_d3_1_order_F_frames_4610_.mmap\n",
      "no order\n",
      "/n/coxfs01/2p-data/JC084/20190522/FOV1_zoom2p0x/gratings_run3/raw_e327d6/fov1_gratings_00007_rig__d1_512_d2_512_d3_1_order_F_frames_4610_.mmap\n",
      "no order\n",
      "/n/coxfs01/2p-data/JC084/20190522/FOV1_zoom2p0x/gratings_run3/raw_e327d6/fov1_gratings_00008_rig__d1_512_d2_512_d3_1_order_F_frames_4610_.mmap\n",
      "no order\n",
      "/n/coxfs01/2p-data/JC084/20190522/FOV1_zoom2p0x/gratings_run4/raw_913375/fov1_gratings_00001_rig__d1_512_d2_512_d3_1_order_F_frames_4610_.mmap\n",
      "no order\n",
      "/n/coxfs01/2p-data/JC084/20190522/FOV1_zoom2p0x/gratings_run4/raw_913375/fov1_gratings_00002_rig__d1_512_d2_512_d3_1_order_F_frames_4610_.mmap\n",
      "no order\n",
      "/n/coxfs01/2p-data/JC084/20190522/FOV1_zoom2p0x/gratings_run4/raw_913375/fov1_gratings_00003_rig__d1_512_d2_512_d3_1_order_F_frames_4610_.mmap\n",
      "no order\n",
      "/n/coxfs01/2p-data/JC084/20190522/FOV1_zoom2p0x/gratings_run4/raw_913375/fov1_gratings_00004_rig__d1_512_d2_512_d3_1_order_F_frames_4610_.mmap\n",
      "no order\n",
      "/n/coxfs01/2p-data/JC084/20190522/FOV1_zoom2p0x/gratings_run4/raw_913375/fov1_gratings_00005_rig__d1_512_d2_512_d3_1_order_F_frames_4610_.mmap\n",
      "no order\n",
      "/n/coxfs01/2p-data/JC084/20190522/FOV1_zoom2p0x/gratings_run4/raw_913375/fov1_gratings_00006_rig__d1_512_d2_512_d3_1_order_F_frames_4610_.mmap\n",
      "no order\n",
      "/n/coxfs01/2p-data/JC084/20190522/FOV1_zoom2p0x/gratings_run4/raw_913375/fov1_gratings_00007_rig__d1_512_d2_512_d3_1_order_F_frames_4610_.mmap\n",
      "no order\n",
      "/n/coxfs01/2p-data/JC084/20190522/FOV1_zoom2p0x/gratings_run4/raw_913375/fov1_gratings_00008_rig__d1_512_d2_512_d3_1_order_F_frames_4610_.mmap\n",
      "no order\n"
     ]
    }
   ],
   "source": [
    "order='C'\n",
    "for file__ in mc.fname_tot_rig:\n",
    "    print(file__)\n",
    "    if ('order_' + order not in file__) or ('.mmap' not in file__):\n",
    "        print('no order')"
   ]
  },
  {
   "cell_type": "code",
   "execution_count": null,
   "metadata": {},
   "outputs": [],
   "source": []
  },
  {
   "cell_type": "code",
   "execution_count": 90,
   "metadata": {},
   "outputs": [
    {
     "data": {
      "text/plain": [
       "(18440, 512, 512)"
      ]
     },
     "execution_count": 90,
     "metadata": {},
     "output_type": "execute_result"
    }
   ],
   "source": [
    "images.shape"
   ]
  },
  {
   "cell_type": "markdown",
   "metadata": {},
   "source": [
    "# Run CNMF on patches"
   ]
  },
  {
   "cell_type": "code",
   "execution_count": 91,
   "metadata": {},
   "outputs": [],
   "source": [
    "%%capture\n",
    "#%% RUN CNMF ON PATCHES\n",
    "# First extract spatial and temporal components on patches and combine them\n",
    "# for this step deconvolution is turned off (p=0). If you want to have\n",
    "# deconvolution within each patch change params.patch['p_patch'] to a\n",
    "# nonzero value\n",
    "cnm = cnmf.CNMF(n_processes, params=opts, dview=dview)\n",
    "cnm = cnm.fit(images)"
   ]
  },
  {
   "cell_type": "code",
   "execution_count": 93,
   "metadata": {},
   "outputs": [
    {
     "name": "stdout",
     "output_type": "stream",
     "text": [
      "C: (1179, 18440)\n",
      "A: (262144, 1179)\n"
     ]
    }
   ],
   "source": [
    "print(\"C:\", cnm.estimates.C.shape)\n",
    "print(\"A:\", cnm.estimates.A.shape)"
   ]
  },
  {
   "cell_type": "code",
   "execution_count": null,
   "metadata": {},
   "outputs": [],
   "source": []
  },
  {
   "cell_type": "code",
   "execution_count": 29,
   "metadata": {},
   "outputs": [
    {
     "data": {
      "text/plain": [
       "(slice(None, None, None), slice(None, None, None))"
      ]
     },
     "execution_count": 29,
     "metadata": {},
     "output_type": "execute_result"
    }
   ],
   "source": [
    "indices=(slice(None), slice(None))\n",
    "indices"
   ]
  },
  {
   "cell_type": "code",
   "execution_count": 32,
   "metadata": {},
   "outputs": [],
   "source": [
    "if isinstance(indices, slice):\n",
    "    indices = [indices]\n",
    "if isinstance(indices, tuple):\n",
    "    indices = list(indices)\n",
    "indices = [slice(None)] + indices\n"
   ]
  },
  {
   "cell_type": "code",
   "execution_count": 34,
   "metadata": {},
   "outputs": [],
   "source": [
    "if len(indices) < len(images.shape):\n",
    "    print(len(indices))\n",
    "    indices = indices + [slice(None)]*(len(images.shape) - len(indices))"
   ]
  },
  {
   "cell_type": "code",
   "execution_count": 35,
   "metadata": {},
   "outputs": [
    {
     "name": "stdout",
     "output_type": "stream",
     "text": [
      "False\n",
      "25\n",
      "None\n"
     ]
    }
   ],
   "source": [
    "dims_orig = images.shape[1:]\n",
    "dims_sliced = images[tuple(indices)].shape[1:]\n",
    "is_sliced = (dims_orig != dims_sliced)\n",
    "print(is_sliced)\n",
    "print(cnm.params.get('patch', 'rf'))\n",
    "print(cnm.dview)\n",
    "if cnm.params.get('patch', 'rf') is None and (is_sliced or 'ndarray' in str(type(images))):\n",
    "    images = images[tuple(indices)]\n",
    "    cnm.dview = None\n",
    "    logging.info(\"Parallel processing in a single patch \"\n",
    "                    \"is not available for loaded in memory or sliced\" +\n",
    "                    \" data.\")"
   ]
  },
  {
   "cell_type": "code",
   "execution_count": 37,
   "metadata": {},
   "outputs": [
    {
     "data": {
      "text/plain": [
       "(142910, 512, 512)"
      ]
     },
     "execution_count": 37,
     "metadata": {},
     "output_type": "execute_result"
    }
   ],
   "source": [
    "images.shape"
   ]
  },
  {
   "cell_type": "code",
   "execution_count": 39,
   "metadata": {},
   "outputs": [
    {
     "name": "stdout",
     "output_type": "stream",
     "text": [
      "Y: (512, 512, 142910)\n",
      "Yr: (262144, 142910)\n"
     ]
    }
   ],
   "source": [
    "\n",
    "T = images.shape[0]\n",
    "cnm.params.set('online', {'init_batch': T})\n",
    "cnm.dims = images.shape[1:]\n",
    "#self.params.data['dims'] = images.shape[1:]\n",
    "Y = np.transpose(images, list(range(1, len(cnm.dims) + 1)) + [0])\n",
    "print(\"Y:\", Y.shape)\n",
    "Yr = np.transpose(np.reshape(images, (T, -1), order='F'))\n",
    "if np.isfortran(Yr):\n",
    "    raise Exception('The file is in F order, it should be in C order (see save_memmap function)')\n",
    "print(\"Yr:\", Yr.shape)\n",
    "\n",
    "logging.info((T,) + cnm.dims)"
   ]
  },
  {
   "cell_type": "code",
   "execution_count": 40,
   "metadata": {},
   "outputs": [
    {
     "data": {
      "text/plain": [
       "[1, 2, 0]"
      ]
     },
     "execution_count": 40,
     "metadata": {},
     "output_type": "execute_result"
    }
   ],
   "source": [
    " list(range(1, len(cnm.dims) + 1)) + [0]"
   ]
  },
  {
   "cell_type": "code",
   "execution_count": 42,
   "metadata": {},
   "outputs": [],
   "source": [
    "# Make sure filename is pointed correctly (numpy sets it to None sometimes)\n",
    "try:\n",
    "    Y.filename = images.filename\n",
    "    Yr.filename = images.filename\n",
    "    cnm.mmap_file = images.filename\n",
    "except AttributeError:  # if no memmapping cause working with small data\n",
    "    print(\"NO MEMMAP\")\n",
    "    pass\n"
   ]
  },
  {
   "cell_type": "code",
   "execution_count": 43,
   "metadata": {},
   "outputs": [
    {
     "data": {
      "text/plain": [
       "'/n/coxfs01/2p-data/JC084/20190522/FOV1_zoom2p0x/caiman_results/gratings/memmap/JC084-20190522-FOV1_zoom2p0x-gratings-Yr_d1_512_d2_512_d3_1_order_C_frames_142910_.mmap'"
      ]
     },
     "execution_count": 43,
     "metadata": {},
     "output_type": "execute_result"
    }
   ],
   "source": [
    "images.filename"
   ]
  },
  {
   "cell_type": "code",
   "execution_count": 45,
   "metadata": {},
   "outputs": [
    {
     "name": "stdout",
     "output_type": "stream",
     "text": [
      "Using 1 processes\n",
      "3818\n",
      "using 3818 pixels per process\n",
      "using 5000 block_size_spat\n",
      "using 5000 block_size_temp\n"
     ]
    }
   ],
   "source": [
    "\n",
    "# update/set all options that depend on data dimensions\n",
    "# number of rows, columns [and depths]\n",
    "cnm.params.set('spatial', {'medw': (3,) * len(cnm.dims),\n",
    "                            'se': np.ones((3,) * len(cnm.dims), dtype=np.uint8),\n",
    "                            'ss': np.ones((3,) * len(cnm.dims), dtype=np.uint8)\n",
    "                            })\n",
    "\n",
    "print(('Using ' + str(cnm.params.get('patch', 'n_processes')) + ' processes'))\n",
    "if cnm.params.get('preprocess', 'n_pixels_per_process') is None:\n",
    "    avail_memory_per_process = psutil.virtual_memory()[\n",
    "        1] / 2.**30 / cnm.params.get('patch', 'n_processes')\n",
    "    mem_per_pix = 3.6977678498329843e-09\n",
    "    npx_per_proc = np.int(avail_memory_per_process / 8. / mem_per_pix / T)\n",
    "    npx_per_proc = np.int(np.minimum(npx_per_proc, np.prod(self.dims) // self.params.get('patch', 'n_processes')))\n",
    "    cnm.params.set('preprocess', {'n_pixels_per_process': npx_per_proc})\n",
    "\n",
    "print( cnm.params.get('preprocess', 'n_pixels_per_process') )\n",
    "cnm.params.set('spatial', {'n_pixels_per_process': cnm.params.get('preprocess', 'n_pixels_per_process')})\n",
    "\n",
    "print('using ' + str(cnm.params.get('preprocess', 'n_pixels_per_process')) + ' pixels per process')\n",
    "print('using ' + str(cnm.params.get('spatial', 'block_size_spat')) + ' block_size_spat')\n",
    "print('using ' + str(cnm.params.get('temporal', 'block_size_temp')) + ' block_size_temp')\n"
   ]
  },
  {
   "cell_type": "code",
   "execution_count": 46,
   "metadata": {},
   "outputs": [
    {
     "data": {
      "text/plain": [
       "False"
      ]
     },
     "execution_count": 46,
     "metadata": {},
     "output_type": "execute_result"
    }
   ],
   "source": [
    "cnm.params.get('patch', 'rf') is None"
   ]
  },
  {
   "cell_type": "code",
   "execution_count": 47,
   "metadata": {},
   "outputs": [],
   "source": [
    "if cnm.params.get('patch', 'stride') is None:\n",
    "    cnm.params.set('patch', {'stride': np.int(cnm.params.get('patch', 'rf') * 2 * .1)})\n",
    "    print(\n",
    "        ('Setting the stride to 10% of 2*rf automatically:' + str(cnm.params.get('patch', 'stride'))))\n"
   ]
  },
  {
   "cell_type": "code",
   "execution_count": 48,
   "metadata": {},
   "outputs": [],
   "source": [
    "if type(images) is np.ndarray:\n",
    "    raise Exception(\n",
    "        'You need to provide a memory mapped file as input if you use patches!!')\n"
   ]
  },
  {
   "cell_type": "code",
   "execution_count": 49,
   "metadata": {},
   "outputs": [
    {
     "name": "stdout",
     "output_type": "stream",
     "text": [
      "init, nb: 2\n",
      "patch, memory_fact: 1\n",
      "patch, border_pix: 0\n",
      "True\n",
      "False\n"
     ]
    }
   ],
   "source": [
    "print(\"init, nb:\", cnm.params.get('init', 'nb'))\n",
    "print(\"patch, memory_fact:\", cnm.params.get('patch', 'memory_fact'))\n",
    "print(\"patch, border_pix:\", cnm.params.get('patch', 'border_pix'))\n",
    "\n",
    "print(cnm.params.get('patch', 'low_rank_background'))\n",
    "print(cnm.params.get('patch', 'del_duplicates'))\n",
    "\n",
    "border_pix = cnm.params.get('patch', 'border_pix')"
   ]
  },
  {
   "cell_type": "code",
   "execution_count": 93,
   "metadata": {},
   "outputs": [],
   "source": [
    "import caiman as cm\n",
    "from caiman.source_extraction.cnmf.map_reduce import run_CNMF_patches, cnmf_patches\n",
    "from caiman.mmapping import load_memmap\n"
   ]
  },
  {
   "cell_type": "code",
   "execution_count": 57,
   "metadata": {},
   "outputs": [],
   "source": [
    "\n",
    "cnm.estimates.A, cnm.estimates.C, cnm.estimates.YrA, cnm.estimates.b, cnm.estimates.f, \\\n",
    "    cnm.estimates.sn, cnm.estimates.optional_outputs = run_CNMF_patches(\n",
    "        images.filename, cnm.dims + (T,), cnm.params,\n",
    "        dview=cnm.dview, memory_fact=cnm.params.get('patch', 'memory_fact'),\n",
    "        gnb=cnm.params.get('init', 'nb'), border_pix=cnm.params.get('patch', 'border_pix'),\n",
    "        low_rank_background=cnm.params.get('patch', 'low_rank_background'),\n",
    "        del_duplicates=cnm.params.get('patch', 'del_duplicates'),\n",
    "        indices=indices)\n"
   ]
  },
  {
   "cell_type": "code",
   "execution_count": 58,
   "metadata": {},
   "outputs": [
    {
     "name": "stdout",
     "output_type": "stream",
     "text": [
      "A: \n",
      "C: []\n"
     ]
    }
   ],
   "source": [
    "print(\"A:\", cnm.estimates.A)\n",
    "print(\"C:\", cnm.estimates.C)"
   ]
  },
  {
   "cell_type": "markdown",
   "metadata": {},
   "source": [
    "#### run_CNMF_patches"
   ]
  },
  {
   "cell_type": "code",
   "execution_count": 61,
   "metadata": {},
   "outputs": [
    {
     "name": "stdout",
     "output_type": "stream",
     "text": [
      "/n/coxfs01/2p-data/JC084/20190522/FOV1_zoom2p0x/caiman_results/gratings/memmap/JC084-20190522-FOV1_zoom2p0x-gratings-Yr_d1_512_d2_512_d3_1_order_C_frames_142910_.mmap\n",
      "(512, 512, 142910)\n",
      "2\n"
     ]
    }
   ],
   "source": [
    "file_name = images.filename\n",
    "print(file_name)\n",
    "shape = cnm.dims + (T,)\n",
    "print(shape)\n",
    "params = cnm.params\n",
    "\n",
    "dview=cnm.dview\n",
    "memory_fact=1\n",
    "gnb=cnm.params.get('init', 'nb')\n",
    "print(gnb)\n",
    "border_pix = cnm.params.get('patch', 'border_pix')\n",
    "low_rank_background =cnm.params.get('patch', 'low_rank_background')\n",
    "del_duplicates=cnm.params.get('patch', 'del_duplicates')"
   ]
  },
  {
   "cell_type": "code",
   "execution_count": 62,
   "metadata": {},
   "outputs": [],
   "source": [
    "\n",
    "dims = shape[:-1]\n",
    "d = np.prod(dims)\n",
    "T = shape[-1]\n",
    "\n",
    "rf = params.get('patch', 'rf')\n",
    "if rf is None:\n",
    "    rf = 16\n",
    "if np.isscalar(rf):\n",
    "    rfs = [rf] * len(dims)\n",
    "else:\n",
    "    rfs = rf\n",
    "\n",
    "stride = params.get('patch', 'stride')\n",
    "if stride is None:\n",
    "    stride = 4\n",
    "if np.isscalar(stride):\n",
    "    strides = [stride] * len(dims)\n",
    "else:\n",
    "    strides = stride"
   ]
  },
  {
   "cell_type": "code",
   "execution_count": 63,
   "metadata": {},
   "outputs": [
    {
     "data": {
      "text/plain": [
       "[12, 12]"
      ]
     },
     "execution_count": 63,
     "metadata": {},
     "output_type": "execute_result"
    }
   ],
   "source": [
    "strides"
   ]
  },
  {
   "cell_type": "code",
   "execution_count": 69,
   "metadata": {},
   "outputs": [],
   "source": [
    "from copy import deepcopy"
   ]
  },
  {
   "cell_type": "code",
   "execution_count": 70,
   "metadata": {},
   "outputs": [],
   "source": [
    "\n",
    "params_copy = deepcopy(params)\n",
    "npx_per_proc = np.prod(rfs) // memory_fact\n",
    "params_copy.set('preprocess', {'n_pixels_per_process': npx_per_proc})\n",
    "params_copy.set('spatial', {'n_pixels_per_process': npx_per_proc})\n",
    "params_copy.set('temporal', {'n_pixels_per_process': npx_per_proc})\n"
   ]
  },
  {
   "cell_type": "code",
   "execution_count": 76,
   "metadata": {},
   "outputs": [],
   "source": [
    "from caiman.cluster import extract_patch_coordinates\n",
    "import time"
   ]
  },
  {
   "cell_type": "code",
   "execution_count": 73,
   "metadata": {},
   "outputs": [
    {
     "name": "stdout",
     "output_type": "stream",
     "text": [
      "Patch size: (50, 50)\n"
     ]
    }
   ],
   "source": [
    "\n",
    "idx_flat, idx_2d = extract_patch_coordinates(\n",
    "    dims, rfs, strides, border_pix=border_pix, indices=indices[1:])\n",
    "args_in = []\n",
    "patch_centers = []\n",
    "for id_f, id_2d in zip(idx_flat, idx_2d):\n",
    "    #        print(id_2d)\n",
    "    args_in.append((file_name, id_f, id_2d, params_copy))\n",
    "    if del_duplicates:\n",
    "        foo = np.zeros(d, dtype=bool)\n",
    "        foo[id_f] = 1\n",
    "        patch_centers.append(scipy.ndimage.center_of_mass(\n",
    "            foo.reshape(dims, order='F')))\n",
    "print('Patch size: {0}'.format(id_2d))"
   ]
  },
  {
   "cell_type": "code",
   "execution_count": 77,
   "metadata": {},
   "outputs": [
    {
     "name": "stdout",
     "output_type": "stream",
     "text": [
      "Elapsed time for processing patches:              3293s\n"
     ]
    }
   ],
   "source": [
    "st = time.time()\n",
    "if dview is not None:\n",
    "    if 'multiprocessing' in str(type(dview)):\n",
    "        file_res = dview.map_async(cnmf_patches, args_in).get(4294967)\n",
    "    else:\n",
    "        try:\n",
    "            file_res = dview.map_sync(cnmf_patches, args_in)\n",
    "            dview.results.clear()\n",
    "        except:\n",
    "            print('Something went wrong')\n",
    "            raise\n",
    "        finally:\n",
    "            print('Patch processing complete')\n",
    "\n",
    "else:\n",
    "    file_res = list(map(cnmf_patches, args_in))\n",
    "\n",
    "print('Elapsed time for processing patches: \\\n",
    "             {0}s'.format(str(time.time() - st).split('.')[0]))"
   ]
  },
  {
   "cell_type": "code",
   "execution_count": 89,
   "metadata": {},
   "outputs": [],
   "source": [
    "R = cnmf_patches(args_in[0])"
   ]
  },
  {
   "cell_type": "markdown",
   "metadata": {},
   "source": [
    "#### cnmf_patches()"
   ]
  },
  {
   "cell_type": "code",
   "execution_count": 91,
   "metadata": {},
   "outputs": [
    {
     "name": "stdout",
     "output_type": "stream",
     "text": [
      "/n/coxfs01/2p-data/JC084/20190522/FOV1_zoom2p0x/caiman_results/gratings/memmap/JC084-20190522-FOV1_zoom2p0x-gratings-Yr_d1_512_d2_512_d3_1_order_C_frames_142910_.mmap\n",
      "[    0     1     2 ... 25648 25649 25650]\n",
      "(51, 51)\n"
     ]
    }
   ],
   "source": [
    "file_name, idx_, shapes, params = args_in[0]\n",
    "print(file_name)\n",
    "print(idx_)\n",
    "print(shapes)\n"
   ]
  },
  {
   "cell_type": "code",
   "execution_count": 110,
   "metadata": {},
   "outputs": [
    {
     "name": "stdout",
     "output_type": "stream",
     "text": [
      "(262144, 142910)\n"
     ]
    }
   ],
   "source": [
    "Yr, dims, timesteps = load_memmap(file_name)\n",
    "print(Yr.shape)"
   ]
  },
  {
   "cell_type": "code",
   "execution_count": 97,
   "metadata": {},
   "outputs": [
    {
     "data": {
      "text/plain": [
       "142910"
      ]
     },
     "execution_count": 97,
     "metadata": {},
     "output_type": "execute_result"
    }
   ],
   "source": [
    "timesteps"
   ]
  },
  {
   "cell_type": "code",
   "execution_count": 98,
   "metadata": {},
   "outputs": [
    {
     "name": "stdout",
     "output_type": "stream",
     "text": [
      "0 25650\n"
     ]
    }
   ],
   "source": [
    "\n",
    "# slicing array (takes the min and max index in n-dimensional space and\n",
    "# cuts the box they define)\n",
    "# for 2d a rectangle/square, for 3d a rectangular cuboid/cube, etc.\n",
    "upper_left_corner = min(idx_)\n",
    "lower_right_corner = max(idx_)\n",
    "print(upper_left_corner, lower_right_corner)\n",
    "\n",
    "indices = np.unravel_index([upper_left_corner, lower_right_corner],\n",
    "                           dims, order='F')  # indices as tuples\n",
    "slices = [slice(min_dim, max_dim + 1) for min_dim, max_dim in indices]\n",
    "# insert slice for timesteps, equivalent to :\n",
    "slices.insert(0, slice(timesteps))"
   ]
  },
  {
   "cell_type": "code",
   "execution_count": 99,
   "metadata": {},
   "outputs": [
    {
     "data": {
      "text/plain": [
       "[slice(None, 142910, None), slice(0, 51, None), slice(0, 51, None)]"
      ]
     },
     "execution_count": 99,
     "metadata": {},
     "output_type": "execute_result"
    }
   ],
   "source": [
    "slices"
   ]
  },
  {
   "cell_type": "code",
   "execution_count": 111,
   "metadata": {},
   "outputs": [
    {
     "data": {
      "text/plain": [
       "(142910, 512, 512)"
      ]
     },
     "execution_count": 111,
     "metadata": {},
     "output_type": "execute_result"
    }
   ],
   "source": [
    "\n",
    "images = np.reshape(Yr.T, [timesteps] + list(dims), order='F')\n",
    "images.shape\n",
    "\n",
    "#images = np.reshape(Yr.T, [T] + list(dims), order='F') #np.reshape(Yr, dims + (T,), order='F')\n"
   ]
  },
  {
   "cell_type": "code",
   "execution_count": 113,
   "metadata": {},
   "outputs": [
    {
     "data": {
      "text/plain": [
       "0.0"
      ]
     },
     "execution_count": 113,
     "metadata": {},
     "output_type": "execute_result"
    }
   ],
   "source": [
    "Yr.max()"
   ]
  },
  {
   "cell_type": "code",
   "execution_count": 101,
   "metadata": {},
   "outputs": [
    {
     "name": "stdout",
     "output_type": "stream",
     "text": [
      "in_memory\n"
     ]
    }
   ],
   "source": [
    "if params.get('patch', 'in_memory'):\n",
    "    print('in_memory')\n",
    "    images = np.array(images[slices], dtype=np.float32)\n",
    "else:\n",
    "    images = images[slices]\n"
   ]
  },
  {
   "cell_type": "code",
   "execution_count": 104,
   "metadata": {},
   "outputs": [],
   "source": [
    "import pylab as pl"
   ]
  },
  {
   "cell_type": "code",
   "execution_count": null,
   "metadata": {},
   "outputs": [],
   "source": []
  },
  {
   "cell_type": "code",
   "execution_count": null,
   "metadata": {},
   "outputs": [],
   "source": []
  },
  {
   "cell_type": "code",
   "execution_count": null,
   "metadata": {},
   "outputs": [],
   "source": []
  },
  {
   "cell_type": "code",
   "execution_count": null,
   "metadata": {},
   "outputs": [],
   "source": [
    "# count components\n",
    "count = 0\n",
    "count_bgr = 0\n",
    "patch_id = 0\n",
    "num_patches = len(file_res)\n",
    "for jj, fff in enumerate(file_res):\n",
    "    if fff is not None:\n",
    "        idx_, shapes, A, b, C, f, S, bl, c1, neurons_sn, g, sn, _, YrA = fff\n",
    "        print(C.shape)\n",
    "        for _ in range(np.shape(b)[-1]):\n",
    "            count_bgr += 1\n",
    "\n",
    "        A = A.tocsc()\n",
    "        if del_duplicates:\n",
    "            keep = []\n",
    "            for ii in range(np.shape(A)[-1]):\n",
    "                neuron_center = (np.array(scipy.ndimage.center_of_mass(\n",
    "                    A[:, ii].toarray().reshape(shapes, order='F'))) -\n",
    "                    np.array(shapes) / 2. + np.array(patch_centers[jj]))\n",
    "                if np.argmin([np.linalg.norm(neuron_center - p) for p in\n",
    "                              np.array(patch_centers)]) == jj:\n",
    "                    keep.append(ii)\n",
    "            A = A[:, keep]\n",
    "            file_res[jj][2] = A\n",
    "            file_res[jj][4] = C[keep]\n",
    "            if S is not None:\n",
    "                file_res[jj][6] = S[keep]\n",
    "                file_res[jj][7] = bl[keep]\n",
    "                file_res[jj][8] = c1[keep]\n",
    "                file_res[jj][9] = neurons_sn[keep]\n",
    "                file_res[jj][10] = g[keep]\n",
    "            file_res[jj][-1] = YrA[keep]\n",
    "\n",
    "        # for ii in range(np.shape(A)[-1]):\n",
    "        #     new_comp = A[:, ii] / np.sqrt(A[:, ii].power(2).sum())\n",
    "        #     if new_comp.sum() > 0:\n",
    "        #         count += 1\n",
    "        count += np.sum(A.sum(0) > 0)\n",
    "\n",
    "        patch_id += 1"
   ]
  },
  {
   "cell_type": "code",
   "execution_count": null,
   "metadata": {},
   "outputs": [],
   "source": []
  },
  {
   "cell_type": "code",
   "execution_count": null,
   "metadata": {},
   "outputs": [],
   "source": [
    "\n",
    "# INITIALIZING\n",
    "nb_patch = params.get('patch', 'nb_patch')\n",
    "C_tot = np.zeros((count, T), dtype=np.float32)\n",
    "if params.get('init', 'center_psf'):\n",
    "    S_tot = np.zeros((count, T), dtype=np.float32)\n",
    "else:\n",
    "    S_tot = None\n",
    "YrA_tot = np.zeros((count, T), dtype=np.float32)\n",
    "F_tot = np.zeros((max(0, num_patches * nb_patch), T), dtype=np.float32)\n",
    "mask = np.zeros(d, dtype=np.uint8)\n",
    "sn_tot = np.zeros((d))\n"
   ]
  },
  {
   "cell_type": "code",
   "execution_count": null,
   "metadata": {},
   "outputs": [],
   "source": []
  },
  {
   "cell_type": "code",
   "execution_count": null,
   "metadata": {},
   "outputs": [],
   "source": []
  },
  {
   "cell_type": "code",
   "execution_count": null,
   "metadata": {},
   "outputs": [],
   "source": []
  }
 ],
 "metadata": {
  "kernelspec": {
   "display_name": "Python 3",
   "language": "python",
   "name": "python3"
  },
  "language_info": {
   "codemirror_mode": {
    "name": "ipython",
    "version": 3
   },
   "file_extension": ".py",
   "mimetype": "text/x-python",
   "name": "python",
   "nbconvert_exporter": "python",
   "pygments_lexer": "ipython3",
   "version": "3.7.3"
  }
 },
 "nbformat": 4,
 "nbformat_minor": 4
}
