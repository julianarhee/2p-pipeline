{
 "cells": [
  {
   "cell_type": "code",
   "execution_count": 1,
   "metadata": {},
   "outputs": [],
   "source": [
    "\n",
    "import cv2\n",
    "import glob\n",
    "import logging\n",
    "import matplotlib.pyplot as plt\n",
    "import numpy as np\n",
    "import os\n",
    "\n",
    "try:\n",
    "    cv2.setNumThreads(0)\n",
    "except():\n",
    "    pass\n",
    "\n",
    "try:\n",
    "    if __IPYTHON__:\n",
    "        # this is used for debugging purposes only. allows to reload classes\n",
    "        # when changed\n",
    "        get_ipython().magic('load_ext autoreload')\n",
    "        get_ipython().magic('autoreload 2')\n",
    "except NameError:\n",
    "    pass\n",
    "\n",
    "import caiman as cm\n",
    "from caiman.motion_correction import MotionCorrect\n",
    "from caiman.source_extraction.cnmf import cnmf as cnmf\n",
    "from caiman.source_extraction.cnmf import params as params\n",
    "from caiman.utils.utils import download_demo\n",
    "from caiman.utils.visualization import plot_contours, nb_view_patches, nb_plot_contour\n",
    "\n",
    "import pylab as pl\n",
    "\n",
    "\n",
    "import tifffile as tf\n",
    "import json\n",
    "import time"
   ]
  },
  {
   "cell_type": "code",
   "execution_count": 2,
   "metadata": {},
   "outputs": [],
   "source": [
    "import re\n",
    "def atoi(text):\n",
    "    return int(text) if text.isdigit() else text\n",
    "\n",
    "def natural_keys(text):\n",
    "    return [ atoi(c) for c in re.split('(\\d+)', text) ]"
   ]
  },
  {
   "cell_type": "code",
   "execution_count": null,
   "metadata": {},
   "outputs": [],
   "source": []
  },
  {
   "cell_type": "code",
   "execution_count": 3,
   "metadata": {},
   "outputs": [],
   "source": [
    "rootdir = '/n/coxfs01/2p-data'\n",
    "animalid = 'JC084'\n",
    "session = '20190525' #'20190505_JC083'\n",
    "session_dir = os.path.join(rootdir, animalid, session)\n",
    "fov = 'FOV1_zoom2p0x'\n",
    "run_list = ['gratings']\n",
    "run_label = 'gratings'\n"
   ]
  },
  {
   "cell_type": "code",
   "execution_count": 4,
   "metadata": {},
   "outputs": [
    {
     "name": "stdout",
     "output_type": "stream",
     "text": [
      "[gratings]: added 32 tifs to queue.\n"
     ]
    }
   ],
   "source": [
    "motion_correct = True\n",
    "fnames = []\n",
    "for run in run_list:\n",
    "    if motion_correct:\n",
    "        fnames_tmp = glob.glob(os.path.join(session_dir, fov, '%s*' % run, 'raw*', '*.tif'))\n",
    "    else:\n",
    "        fnames_tmp = [f for f in glob.glob(os.path.join(session_dir, fov, '%s*' % run, \n",
    "                                                        'processed', 'processed001*','mcorrected*', '*.tif'))\\\n",
    "                     if len(os.path.split(os.path.split(f)[0])[-1].split('_'))==2]\n",
    "    fnames.extend(fnames_tmp)\n",
    "    print(\"[%s]: added %i tifs to queue.\" % (run, len(fnames_tmp)))\n",
    "fnames = sorted(fnames, key=natural_keys)"
   ]
  },
  {
   "cell_type": "code",
   "execution_count": 5,
   "metadata": {},
   "outputs": [
    {
     "name": "stdout",
     "output_type": "stream",
     "text": [
      "/n/coxfs01/2p-data/JC084/20190525/FOV1_zoom2p0x/gratings_run1/raw_92f59a/fov1_gratings_00001.tif\n"
     ]
    }
   ],
   "source": [
    "fn = fnames[0]\n",
    "print(fn)"
   ]
  },
  {
   "cell_type": "code",
   "execution_count": 6,
   "metadata": {},
   "outputs": [],
   "source": [
    "fovdir = glob.glob(os.path.join(session_dir, fov))[0]"
   ]
  },
  {
   "cell_type": "code",
   "execution_count": 7,
   "metadata": {},
   "outputs": [
    {
     "name": "stdout",
     "output_type": "stream",
     "text": [
      "/n/coxfs01/2p-data/JC084/20190525/FOV1_zoom2p0x/tmp\n"
     ]
    }
   ],
   "source": [
    "tmpdir = os.path.join(fovdir, 'tmp')\n",
    "print(tmpdir)\n",
    "if not os.path.exists(tmpdir):\n",
    "    os.makedirs(tmpdir)"
   ]
  },
  {
   "cell_type": "code",
   "execution_count": 8,
   "metadata": {},
   "outputs": [
    {
     "name": "stdout",
     "output_type": "stream",
     "text": [
      "(4610, 512, 512)\n"
     ]
    }
   ],
   "source": [
    "mov = tf.imread(fn)\n",
    "print(mov.shape)"
   ]
  },
  {
   "cell_type": "code",
   "execution_count": 9,
   "metadata": {},
   "outputs": [],
   "source": [
    "from caiman.source_extraction.cnmf.initialization import resize as cmresize\n"
   ]
  },
  {
   "cell_type": "code",
   "execution_count": null,
   "metadata": {},
   "outputs": [],
   "source": [
    "ds_factor = (1, 1, 0.1)\n",
    "ds_mov = cmresize(mov, ds_factor)"
   ]
  },
  {
   "cell_type": "code",
   "execution_count": null,
   "metadata": {},
   "outputs": [],
   "source": [
    "tf.imsave(os.path.join(tmpdir, 'ds.tif'))"
   ]
  },
  {
   "cell_type": "code",
   "execution_count": null,
   "metadata": {},
   "outputs": [],
   "source": []
  }
 ],
 "metadata": {
  "kernelspec": {
   "display_name": "Python 3",
   "language": "python",
   "name": "python3"
  },
  "language_info": {
   "codemirror_mode": {
    "name": "ipython",
    "version": 3
   },
   "file_extension": ".py",
   "mimetype": "text/x-python",
   "name": "python",
   "nbconvert_exporter": "python",
   "pygments_lexer": "ipython3",
   "version": "3.6.7"
  }
 },
 "nbformat": 4,
 "nbformat_minor": 2
}
