{
 "cells": [
  {
   "cell_type": "code",
   "execution_count": 3,
   "metadata": {
    "collapsed": true
   },
   "outputs": [],
   "source": [
    "from createdicts import *"
   ]
  },
  {
   "cell_type": "code",
   "execution_count": 4,
   "metadata": {
    "collapsed": true
   },
   "outputs": [],
   "source": [
    "# Set paths and opt variables:\n",
    "\n",
    "#source = '/nas/volume1/2photon/RESDATA/TEFO'\n",
    "#session = '20161219_JR030W'\n",
    "animal = 'R2B1'\n",
    "\n",
    "receipt_date = '9999-99-99'\n",
    "create_new = False\n",
    "new_analysis = False\n",
    "extract_timecourse = True\n",
    "do_trials = True\n",
    "\n",
    "create_new_metrics = False\n",
    "metric_id = ''\n",
    "\n",
    "#sessionpath = os.path.join(source, session)\n",
    "#dictpath = os.path.join(sessionpath, 'dicts', 'output')\n",
    "dictpath = '/nas/volume1/2photon/RESDATA/TEFO/20161219_JR030W/dicts/output'"
   ]
  },
  {
   "cell_type": "markdown",
   "metadata": {},
   "source": [
    "### Load animal info:"
   ]
  },
  {
   "cell_type": "code",
   "execution_count": 5,
   "metadata": {
    "collapsed": false
   },
   "outputs": [
    {
     "name": "stdout",
     "output_type": "stream",
     "text": [
      "b940cc14-141a-433e-8058-6cb369a007fd :  ['receipt_date', 'id', 'name', 'sex']\n"
     ]
    }
   ],
   "source": [
    "animalinfo_fn = 'animal_info.pkl'\n",
    "with open(os.path.join(dictpath, animalinfo_fn), 'rb') as f:\n",
    "    master = pkl.load(f)\n",
    "\n",
    "for key in master.keys():\n",
    "    print key, ': ', master[key].keys()"
   ]
  },
  {
   "cell_type": "markdown",
   "metadata": {},
   "source": [
    "### Load session info:"
   ]
  },
  {
   "cell_type": "code",
   "execution_count": 6,
   "metadata": {
    "collapsed": false
   },
   "outputs": [
    {
     "name": "stdout",
     "output_type": "stream",
     "text": [
      "runs :  ['gratingsFinalMask2', 'retinotopyFinal', 'retinotopyFinalMask']\n",
      "start_time :  32925943.679\n",
      "date :  2016-12-19\n",
      "microscope :  tefo\n",
      "animal :  {'receipt_date': '9999-99-99', 'id': 'b940cc14-141a-433e-8058-6cb369a007fd', 'name': 'R2B1', 'sex': 'female'}\n",
      "microscope_rev :  rev1\n",
      "id :  f8a12da9-eee7-4bd6-910a-7e37bb4251d8\n"
     ]
    }
   ],
   "source": [
    "a_uuid = master.keys()[0]\n",
    "\n",
    "sessioninfo_fn = 'session_info_%s.pkl' % master[a_uuid]['name']\n",
    "with open(os.path.join(dictpath, sessioninfo_fn), 'rb') as f:\n",
    "    session_info = pkl.load(f)\n",
    "    \n",
    "for key in session_info.keys():\n",
    "    print key, ': ', session_info[key]"
   ]
  },
  {
   "cell_type": "markdown",
   "metadata": {},
   "source": [
    "### Load run info for session:"
   ]
  },
  {
   "cell_type": "code",
   "execution_count": 7,
   "metadata": {
    "collapsed": false
   },
   "outputs": [
    {
     "name": "stdout",
     "output_type": "stream",
     "text": [
      "e45705de-af87-4548-bed0-5969e8a55c2d :  ['session', 'stages_um', 'imaging_fov_um', 'vol_rate', 'tiffs', 'run_number', 'run_name', 'id']\n"
     ]
    }
   ],
   "source": [
    "\n",
    "run_fn = 'run_info_%s.pkl' % session_info['id']\n",
    "with open(os.path.join(dictpath, run_fn), 'rb') as f:\n",
    "    run_info = pkl.load(f)\n",
    "\n",
    "for key in run_info.keys():\n",
    "    print key, ': ', run_info[key].keys()"
   ]
  },
  {
   "cell_type": "code",
   "execution_count": 8,
   "metadata": {
    "collapsed": false
   },
   "outputs": [
    {
     "name": "stdout",
     "output_type": "stream",
     "text": [
      "Run ID:  e45705de-af87-4548-bed0-5969e8a55c2d\n",
      "session :  f8a12da9-eee7-4bd6-910a-7e37bb4251d8\n",
      "stages_um :  [12568, 52037, 59050]\n",
      "imaging_fov_um :  [500, 500, 210]\n",
      "vol_rate :  4.11\n",
      "tiffs :  [('right', 1), ('top', 2), ('bottom', 3), ('left', 4)]\n",
      "run_number :  1\n",
      "run_name :  retinotopyFinal\n",
      "id :  e45705de-af87-4548-bed0-5969e8a55c2d\n"
     ]
    }
   ],
   "source": [
    "r_uuid = run_info.keys()[0] # look at 1 run (only one run included for now, anyway)\n",
    "\n",
    "print \"Run ID: \", r_uuid\n",
    "for key in run_info[r_uuid].keys():\n",
    "    print key, ': ', run_info[r_uuid][key]"
   ]
  },
  {
   "cell_type": "markdown",
   "metadata": {},
   "source": [
    "### Load trial info:"
   ]
  },
  {
   "cell_type": "code",
   "execution_count": 9,
   "metadata": {
    "collapsed": false
   },
   "outputs": [
    {
     "name": "stdout",
     "output_type": "stream",
     "text": [
      "Run IDs:  e45705de-af87-4548-bed0-5969e8a55c2d\n",
      "Trial IDs:  ['40bc9c0c-5dab-40b1-9876-d6e454556d09', '2dcc2e59-8c20-4d15-8cbf-69466edde893', 'ab2e5b7a-0a23-427d-8dca-5b32f77489cb', '2ffe8507-51e5-48fc-991c-48ea8fe5b915']\n"
     ]
    }
   ],
   "source": [
    "trialinfo_fn = 'trial_info.pkl'\n",
    "with open(os.path.join(dictpath, trialinfo_fn), 'rb') as f:\n",
    "    trial_info = pkl.load(f)\n",
    "\n",
    "for key in trial_info.keys():\n",
    "    print 'Run IDs: ', key\n",
    "    print 'Trial IDs: ', trial_info[key].keys()"
   ]
  },
  {
   "cell_type": "code",
   "execution_count": 10,
   "metadata": {
    "collapsed": false
   },
   "outputs": [
    {
     "name": "stdout",
     "output_type": "stream",
     "text": [
      "Trial:  40bc9c0c-5dab-40b1-9876-d6e454556d09\n",
      "Trial Info:\n",
      "stim_off_times :  34576605.0\n",
      "run :  e45705de-af87-4548-bed0-5969e8a55c2d\n",
      "end_time_ms :  34576605.0\n",
      "stimuli :  {'stimulus': 'top', 'position': (0.0, 28.963623046875), 'scale': 0.37}\n",
      "start_time_ms :  34495515.0\n",
      "stim_on_times :  34495515.0\n",
      "id :  40bc9c0c-5dab-40b1-9876-d6e454556d09\n",
      "idx_in_run :  2\n"
     ]
    }
   ],
   "source": [
    "r_uuid = run_info.keys()[0]\n",
    "\n",
    "trial_list = trial_info[r_uuid].keys()\n",
    "t_uuid = trial_list[0] # look at 1 trial\n",
    "curr_trial_info = trial_info[r_uuid][t_uuid]\n",
    "\n",
    "print \"Trial: \", t_uuid\n",
    "print \"Trial Info:\"\n",
    "for key in curr_trial_info.keys():\n",
    "    print key, ': ', curr_trial_info[key]\n",
    "    "
   ]
  },
  {
   "cell_type": "markdown",
   "metadata": {},
   "source": [
    "### Load cell info:"
   ]
  },
  {
   "cell_type": "code",
   "execution_count": 11,
   "metadata": {
    "collapsed": true
   },
   "outputs": [],
   "source": [
    "\n",
    "cellinfo_fn = 'cell_info_%s.pkl' % r_uuid\n",
    "with open(os.path.join(dictpath, cellinfo_fn), 'rb') as f:\n",
    "    cell_info = pkl.load(f)\n",
    "    "
   ]
  },
  {
   "cell_type": "code",
   "execution_count": 13,
   "metadata": {
    "collapsed": false
   },
   "outputs": [
    {
     "name": "stdout",
     "output_type": "stream",
     "text": [
      "N ROIs in run:  3876\n"
     ]
    }
   ],
   "source": [
    "roi_list = cell_info.keys()\n",
    "\n",
    "print \"N ROIs in run: \", len(roi_list)"
   ]
  },
  {
   "cell_type": "code",
   "execution_count": 14,
   "metadata": {
    "collapsed": false
   },
   "outputs": [
    {
     "name": "stdout",
     "output_type": "stream",
     "text": [
      "Cell ID:  65053fda-a52e-4c45-8de4-f5e86c651412\n",
      "Cell Info:\n",
      "mask :  [0.0, 0.0, 0.0, 0.0, 0.0, 0.0, 0.0, 0.0, 0.0, 0.0, 0.0, 0.0, 0.0, 0.0, 0.0, 0.0, 0.0, 0.0, 0.0, 0.0, 0.0, 0.0, 0.0, 0.0, 0.0, 0.0, 0.0, 0.0, 0.0, 0.0, 0.0, 0.0, 0.0, 0.0, 0.0, 0.0, 0.0, 0.0, 0.0, 0.0, 0.0, 0.0, 0.0, 0.0, 0.0, 0.0, 0.0, 0.0, 0.0, 0.0, 0.0, 0.0, 0.0, 0.0, 0.0, 0.0, 0.0, 0.0, 0.0, 0.0, 0.0, 0.0, 0.0, 0.0, 0.0, 0.0, 0.0, 0.0, 0.0, 0.0, 0.0, 0.0, 0.0, 0.0, 0.0, 0.0, 0.0, 0.0, 0.0, 0.0, 0.0, 0.0, 0.0, 0.0, 0.0, 0.0, 0.0, 0.0, 0.0, 0.0, 0.0, 0.0, 0.0, 0.0, 0.0, 0.0, 0.0, 0.0, 0.0, 0.0, ...]\n",
      "Fill: nan\n",
      "IntIndex\n",
      "Indices: array([     0,      1,      2, ..., 316797, 316798, 316799], dtype=int32)\n",
      "\n",
      "run :  e45705de-af87-4548-bed0-5969e8a55c2d\n",
      "id :  65053fda-a52e-4c45-8de4-f5e86c651412\n",
      "cell_idx :  687\n"
     ]
    }
   ],
   "source": [
    "c_uuid = roi_list[0] # look at 1 cell\n",
    "\n",
    "print \"Cell ID: \", c_uuid\n",
    "print \"Cell Info:\"\n",
    "for key in cell_info[c_uuid].keys():\n",
    "    print key, ': ', cell_info[c_uuid][key]"
   ]
  },
  {
   "cell_type": "markdown",
   "metadata": {},
   "source": [
    "### Load timecourse data:"
   ]
  },
  {
   "cell_type": "code",
   "execution_count": 15,
   "metadata": {
    "collapsed": false
   },
   "outputs": [
    {
     "name": "stdout",
     "output_type": "stream",
     "text": [
      "N trials:  4\n"
     ]
    }
   ],
   "source": [
    "timecourses_fn = 'timecourses_%s.pkl' % r_uuid\n",
    "with open(os.path.join(dictpath, timecourses_fn), 'rb') as f:\n",
    "    timecourses = pkl.load(f)\n",
    "\n",
    "trial_list = timecourses.keys()\n",
    "print \"N trials: \", len(trial_list)"
   ]
  },
  {
   "cell_type": "code",
   "execution_count": 16,
   "metadata": {
    "collapsed": false
   },
   "outputs": [
    {
     "name": "stdout",
     "output_type": "stream",
     "text": [
      "Cell ID:  65053fda-a52e-4c45-8de4-f5e86c651412\n",
      "Data for trial ID:  40bc9c0c-5dab-40b1-9876-d6e454556d09\n",
      "Dtype: float64, Size: (340,)\n"
     ]
    },
    {
     "data": {
      "text/plain": [
       "[<matplotlib.lines.Line2D at 0x7fa61fcc2b90>]"
      ]
     },
     "execution_count": 16,
     "metadata": {},
     "output_type": "execute_result"
    },
    {
     "data": {
      "image/png": "[encoded data removed]",
      "text/plain": [
       "<matplotlib.figure.Figure at 0x7fa62445e910>"
      ]
     },
     "metadata": {},
     "output_type": "display_data"
    }
   ],
   "source": [
    "# Check out timecourse for an roi:\n",
    "%matplotlib inline\n",
    "import matplotlib.pyplot as plt\n",
    "\n",
    "r_uuid = run_info.keys()[0]\n",
    "c_uuid = roi_list[0]\n",
    "t_uuid = trial_list[0]\n",
    "\n",
    "data = timecourses[t_uuid][c_uuid]\n",
    "print \"Cell ID: \", c_uuid\n",
    "print \"Data for trial ID: \", t_uuid\n",
    "print \"Dtype: %s, Size: %s\" % (data.dtype, str(data.shape))\n",
    "plt.plot(data)"
   ]
  },
  {
   "cell_type": "code",
   "execution_count": 17,
   "metadata": {
    "collapsed": true
   },
   "outputs": [],
   "source": [
    "def create_new_metric_rev(rev_name, rev_uuid, cell_metric_names, dictpath):\n",
    "    metric_info_fn = 'metric_info_%s.pkl' % rev_name\n",
    "    per_cell_metric_info = dict((str(uuid.uuid4()), {'name': k, 'rev': rev_uuid}) for k in cell_metric_names)\n",
    "    for m_uuid in per_cell_metric_info.keys():\n",
    "        per_cell_metric_info[m_uuid]['id'] = m_uuid\n",
    "    \n",
    "    with open(os.path.join(dictpath, metric_info_fn), 'wb') as f:\n",
    "        pkl.dump(per_cell_metric_info, f, protocol=pkl.HIGHEST_PROTOCOL)\n",
    "    f.close()\n",
    "    \n",
    "    return per_cell_metric_info"
   ]
  },
  {
   "cell_type": "code",
   "execution_count": 19,
   "metadata": {
    "collapsed": false
   },
   "outputs": [
    {
     "name": "stdout",
     "output_type": "stream",
     "text": [
      "Loaded metric info: metric_info_rev1.pkl, ID: 1a55a442-d3af-4920-b668-16b7eb30e8d0\n"
     ]
    }
   ],
   "source": [
    "# Get cell metric INFO:\n",
    "\n",
    "\n",
    "if create_new_metrics:\n",
    "    \n",
    "    rev_name = 'rev1'\n",
    "    rev_uuid = str(uuid.uuid4())\n",
    "    cell_metric_names = ['phase', 'magnitude', 'target selectivity']\n",
    "    \n",
    "    per_cell_metric_info = create_new_metric_rev(rev_name, rev_uuid, cell_metric_names, dictpath)\n",
    "    \n",
    "    print \"Created new METRIC-INFO struct: %s\" % metric_info_fn, rev_uuid\n",
    "    metric_rev_uuid = rev_uuid\n",
    "    \n",
    "else:\n",
    "    if len(metric_id)==0:\n",
    "        metric_id = 'rev1' # Just use rev1 as default for now...\n",
    "        \n",
    "    metric_info_fn = 'metric_info_%s.pkl' % metric_id\n",
    "    with open(os.path.join(dictpath, metric_info_fn), 'rb') as f:\n",
    "        per_cell_metric_info = pkl.load(f)\n",
    "    \n",
    "    metric_list = per_cell_metric_info.keys()\n",
    "    metric_rev_uuid = per_cell_metric_info[metric_list[0]]['rev']\n",
    "    print \"Loaded metric info: %s, ID: %s\" % (metric_info_fn, metric_rev_uuid)\n"
   ]
  },
  {
   "cell_type": "markdown",
   "metadata": {},
   "source": [
    "### Check out per cell metric info:"
   ]
  },
  {
   "cell_type": "code",
   "execution_count": 20,
   "metadata": {
    "collapsed": false
   },
   "outputs": [
    {
     "name": "stdout",
     "output_type": "stream",
     "text": [
      "Metric-info revision ID:  1a55a442-d3af-4920-b668-16b7eb30e8d0\n",
      "2f1f7ef5-e75a-4583-ae2d-c28a90780ecc :  ['rev', 'name', 'id']\n",
      "d8f8fe00-66fc-48c0-8105-866171abed11 :  ['rev', 'name', 'id']\n",
      "a40df565-7208-42c7-b250-c0eb8e7df1f1 :  ['rev', 'name', 'id']\n"
     ]
    }
   ],
   "source": [
    "metric_id = 'rev1' # Just use rev1 as default for now...\n",
    "metric_info_fn = 'metric_info_%s.pkl' % metric_id\n",
    "with open(os.path.join(dictpath, metric_info_fn), 'rb') as f:\n",
    "    per_cell_metric_info = pkl.load(f)\n",
    "\n",
    "metric_list = per_cell_metric_info.keys()\n",
    "\n",
    "print \"Metric-info revision ID: \", metric_rev_uuid\n",
    "for metric in metric_list:\n",
    "    print metric, ': ', per_cell_metric_info[metric].keys()"
   ]
  },
  {
   "cell_type": "code",
   "execution_count": 21,
   "metadata": {
    "collapsed": false
   },
   "outputs": [
    {
     "name": "stdout",
     "output_type": "stream",
     "text": [
      "phase ID:  d8f8fe00-66fc-48c0-8105-866171abed11\n",
      "mag ID:  a40df565-7208-42c7-b250-c0eb8e7df1f1\n",
      "ratio ID:  2f1f7ef5-e75a-4583-ae2d-c28a90780ecc\n"
     ]
    }
   ],
   "source": [
    "# Get m_uuids for current metric rev:\n",
    "phase_muuid = [muuid for muuid in per_cell_metric_info.keys() if per_cell_metric_info[muuid]['name']=='phase'][0]\n",
    "magnitude_muuid = [muuid for muuid in per_cell_metric_info.keys() if per_cell_metric_info[muuid]['name']=='magnitude'][0]\n",
    "ratio_muuid = [muuid for muuid in per_cell_metric_info.keys() if per_cell_metric_info[muuid]['name']=='target selectivity'][0]\n",
    "\n",
    "print \"phase ID: \", phase_muuid\n",
    "print \"mag ID: \", magnitude_muuid\n",
    "print \"ratio ID: \", ratio_muuid"
   ]
  },
  {
   "cell_type": "code",
   "execution_count": 22,
   "metadata": {
    "collapsed": false
   },
   "outputs": [],
   "source": [
    "# Get cell metrics:\n",
    "\n",
    "cellmetrics_fn = 'cell_metrics_%s_%s.pkl' % (metric_rev_uuid, r_uuid)\n",
    "with open(os.path.join(dictpath, cellmetrics_fn), 'rb') as f:\n",
    "    per_cell_metrics = pkl.load(f)\n"
   ]
  },
  {
   "cell_type": "code",
   "execution_count": 23,
   "metadata": {
    "collapsed": false
   },
   "outputs": [
    {
     "name": "stdout",
     "output_type": "stream",
     "text": [
      "1654\n",
      "Trial 2 (top): Phase is 3.04\n",
      "Trial 3 (bottom): Phase is 3.04\n",
      "Trial 1 (right): Phase is 1.39\n",
      "Trial 4 (left): Phase is 1.56\n"
     ]
    }
   ],
   "source": [
    "# Check per-cell-metric-info:\n",
    "r_uuid = run_info.keys()[0]\n",
    "t_uuid = trial_list[0]\n",
    "c_uuid = roi_list[1001]\n",
    "cellidx = cell_info[c_uuid]['cell_idx']\n",
    "print cellidx\n",
    "\n",
    "# Get m_uuids for current metric rev:\n",
    "phase_muuid = [muuid for muuid in per_cell_metric_info.keys() if per_cell_metric_info[muuid]['name']=='phase'][0]\n",
    "magnitude_muuid = [muuid for muuid in per_cell_metric_info.keys() if per_cell_metric_info[muuid]['name']=='magnitude'][0]\n",
    "ratio_muuid = [muuid for muuid in per_cell_metric_info.keys() if per_cell_metric_info[muuid]['name']=='target selectivity'][0]\n",
    "\n",
    "for t_uuid in trial_list:\n",
    "    stimulus = trial_info[r_uuid][t_uuid]['stimuli']['stimulus']\n",
    "    tidx = trial_info[r_uuid][t_uuid]['idx_in_run']\n",
    "    curr_cell_phase = per_cell_metrics[phase_muuid][c_uuid][t_uuid]\n",
    "    print \"Trial %i (%s): Phase is %0.2f\" % (tidx, stimulus, curr_cell_phase)\n",
    "\n"
   ]
  },
  {
   "cell_type": "code",
   "execution_count": 24,
   "metadata": {
    "collapsed": false
   },
   "outputs": [
    {
     "data": {
      "text/plain": [
       "{'e45705de-af87-4548-bed0-5969e8a55c2d': {'2dcc2e59-8c20-4d15-8cbf-69466edde893': {'end_time_ms': 34681248.0,\n",
       "   'id': '2dcc2e59-8c20-4d15-8cbf-69466edde893',\n",
       "   'idx_in_run': 3,\n",
       "   'run': 'e45705de-af87-4548-bed0-5969e8a55c2d',\n",
       "   'start_time_ms': 34600158.0,\n",
       "   'stim_off_times': 34681248.0,\n",
       "   'stim_on_times': 34600158.0,\n",
       "   'stimuli': {'position': (0.0, -28.963623046875),\n",
       "    'scale': 0.37,\n",
       "    'stimulus': 'bottom'}},\n",
       "  '2ffe8507-51e5-48fc-991c-48ea8fe5b915': {'end_time_ms': 34782969.0,\n",
       "   'id': '2ffe8507-51e5-48fc-991c-48ea8fe5b915',\n",
       "   'idx_in_run': 4,\n",
       "   'run': 'e45705de-af87-4548-bed0-5969e8a55c2d',\n",
       "   'start_time_ms': 34701879.0,\n",
       "   'stim_off_times': 34782969.0,\n",
       "   'stim_on_times': 34701879.0,\n",
       "   'stimuli': {'position': (-45.363624572753906, 0.0),\n",
       "    'scale': 0.37,\n",
       "    'stimulus': 'left'}},\n",
       "  '40bc9c0c-5dab-40b1-9876-d6e454556d09': {'end_time_ms': 34576605.0,\n",
       "   'id': '40bc9c0c-5dab-40b1-9876-d6e454556d09',\n",
       "   'idx_in_run': 2,\n",
       "   'run': 'e45705de-af87-4548-bed0-5969e8a55c2d',\n",
       "   'start_time_ms': 34495515.0,\n",
       "   'stim_off_times': 34576605.0,\n",
       "   'stim_on_times': 34495515.0,\n",
       "   'stimuli': {'position': (0.0, 28.963623046875),\n",
       "    'scale': 0.37,\n",
       "    'stimulus': 'top'}},\n",
       "  'ab2e5b7a-0a23-427d-8dca-5b32f77489cb': {'end_time_ms': 34478172.0,\n",
       "   'id': 'ab2e5b7a-0a23-427d-8dca-5b32f77489cb',\n",
       "   'idx_in_run': 1,\n",
       "   'run': 'e45705de-af87-4548-bed0-5969e8a55c2d',\n",
       "   'start_time_ms': 34397082.0,\n",
       "   'stim_off_times': 34478172.0,\n",
       "   'stim_on_times': 34397082.0,\n",
       "   'stimuli': {'position': (45.363624572753906, 0.0),\n",
       "    'scale': 0.37,\n",
       "    'stimulus': 'right'}}}}"
      ]
     },
     "execution_count": 24,
     "metadata": {},
     "output_type": "execute_result"
    }
   ],
   "source": [
    "trial_info"
   ]
  },
  {
   "cell_type": "code",
   "execution_count": null,
   "metadata": {
    "collapsed": true
   },
   "outputs": [],
   "source": []
  }
 ],
 "metadata": {
  "kernelspec": {
   "display_name": "Python 2",
   "language": "python",
   "name": "python2"
  },
  "language_info": {
   "codemirror_mode": {
    "name": "ipython",
    "version": 2
   },
   "file_extension": ".py",
   "mimetype": "text/x-python",
   "name": "python",
   "nbconvert_exporter": "python",
   "pygments_lexer": "ipython2",
   "version": "2.7.13"
  }
 },
 "nbformat": 4,
 "nbformat_minor": 0
}
