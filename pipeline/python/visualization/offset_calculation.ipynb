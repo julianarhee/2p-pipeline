{
 "cells": [
  {
   "cell_type": "code",
   "execution_count": 1,
   "metadata": {
    "collapsed": true
   },
   "outputs": [],
   "source": [
    "import os\n",
    "\n",
    "import sys"
   ]
  },
  {
   "cell_type": "code",
   "execution_count": 8,
   "metadata": {},
   "outputs": [],
   "source": [
    "sipath ='~/Downloads/ScanImageTiffReader-1.1-Linux'\n",
    "sireader = os.path.join(sipath, 'share', 'python')\n",
    "\n",
    "sireader =  '/home/juliana/Downloads/ScanImageTiffReader-1.1-Linux/share/python'\n",
    "sys.path.append(sireader)"
   ]
  },
  {
   "cell_type": "code",
   "execution_count": 9,
   "metadata": {},
   "outputs": [],
   "source": [
    "from ScanImageTiffReader import ScanImageTiffReader"
   ]
  },
  {
   "cell_type": "code",
   "execution_count": 45,
   "metadata": {
    "collapsed": true
   },
   "outputs": [],
   "source": [
    "currtiffpath = '/mnt/odyssey/CE074/20180215/FOV2_zoom1x_LI/blobs/raw_607fb2/FOV1_zoom1x_lateral_00001.tif'\n",
    "\n",
    "metadata = ScanImageTiffReader(currtiffpath).metadata()\n",
    "meta = metadata.splitlines()\n"
   ]
  },
  {
   "cell_type": "code",
   "execution_count": 47,
   "metadata": {},
   "outputs": [],
   "source": [
    "currtiffpath2 = '/mnt/odyssey/CE077/20180319/FOV1_zoom1x/gratings_run2/raw_a6e339/FOV1_zoom1x_gratings_00010.tif'\n",
    "\n",
    "metadata2 = ScanImageTiffReader(currtiffpath2).metadata()\n",
    "meta2 = metadata2.splitlines()\n"
   ]
  },
  {
   "cell_type": "code",
   "execution_count": 54,
   "metadata": {},
   "outputs": [],
   "source": [
    "# Get ScanImage metadata:\n",
    "sistring = [l for l in meta2 if 'SI.' in l]\n",
    "\n",
    "# Iterate through list of SI. strings and turn into dict:\n",
    "SI = {}\n",
    "for item in sistring:\n",
    "    t = SI\n",
    "    fieldname = item.split(' = ')[0] #print fieldname\n",
    "    fvalue = item.split(' = ')[1]\n",
    "    value = format_si_value(fvalue)\n",
    "\n",
    "    for ix,part in enumerate(fieldname.split('.')):\n",
    "        nsubfields = len(fieldname.split('.'))\n",
    "        if ix==nsubfields-1:\n",
    "            t.setdefault(part, value)\n",
    "        else:\n",
    "            t = t.setdefault(part, {})\n"
   ]
  },
  {
   "cell_type": "code",
   "execution_count": 60,
   "metadata": {},
   "outputs": [
    {
     "data": {
      "text/plain": [
       "{'beamClockDelay': 1.5e-06,\n",
       " 'beamClockExtend': 0,\n",
       " 'bidirectional': True,\n",
       " 'channelOffsets': [-265.0, -382.0, 155.0, 184.0],\n",
       " 'channels': {},\n",
       " 'channelsAdcResolution': 16,\n",
       " 'channelsAutoReadOffsets': True,\n",
       " 'channelsAvailable': 4,\n",
       " 'channelsDataType': 'int16',\n",
       " 'channelsFilter': 'Bessel',\n",
       " 'channelsInputRanges': [-0.5, 0.5],\n",
       " 'channelsSubtractOffsets': '[true true true true]',\n",
       " 'fillFractionSpatial': 0.9,\n",
       " 'fillFractionTemporal': 0.712867,\n",
       " 'flybackTimePerFrame': 0.001,\n",
       " 'flytoTimePerScanfield': 0.001,\n",
       " 'fovCornerPoints': [[-5.0, -10.0], [5.0, -10.0], [5.0, 10.0], [-5.0, 10.0]],\n",
       " 'keepResonantScannerOn': 1,\n",
       " 'linePhase': -2.95e-06,\n",
       " 'linePhaseMode': 'Nearest Neighbor',\n",
       " 'logAverageFactor': 1,\n",
       " 'logFramesPerFile': 'Inf',\n",
       " 'logFramesPerFileLock': False,\n",
       " 'maxSampleRate': 120000000.0,\n",
       " 'name': 'ResScanner',\n",
       " 'nominalFovCornerPoints': [[-5.0, -10.0],\n",
       "  [5.0, -10.0],\n",
       "  [5.0, 10.0],\n",
       "  [-5.0, 10.0]],\n",
       " 'pixelBinFactor': 1,\n",
       " 'resonantLimitedFovMode': True,\n",
       " 'sampleRate': 120000000.0,\n",
       " 'scanPixelTimeMaxMinRatio': 2.6,\n",
       " 'scanPixelTimeMean': 5.79102e-08,\n",
       " 'scannerFrequency': 12018.7,\n",
       " 'scannerToRefTransform': [[1.0, 0.0, 0.0], [0.0, 1.0, 0.0], [0.0, 0.0, 1.0]],\n",
       " 'scannerType': 'Resonant',\n",
       " 'settleTimeFraction': 0,\n",
       " 'simulated': False,\n",
       " 'trigAcqEdge': 'rising',\n",
       " 'trigAcqInTerm': '',\n",
       " 'trigNextEdge': 'rising',\n",
       " 'trigNextInTerm': '',\n",
       " 'trigNextStopEnable': True,\n",
       " 'trigStopEdge': 'rising',\n",
       " 'trigStopInTerm': '',\n",
       " 'uniformSampling': False,\n",
       " 'useNonlinearResonantFov2VoltsCurve': False}"
      ]
     },
     "execution_count": 60,
     "metadata": {},
     "output_type": "execute_result"
    }
   ],
   "source": [
    "SI['SI']['hScan2D']\n"
   ]
  },
  {
   "cell_type": "code",
   "execution_count": 53,
   "metadata": {
    "collapsed": true
   },
   "outputs": [],
   "source": [
    "import re\n",
    "def format_si_value(value):\n",
    "    num_format = re.compile(r'\\-?[0-9]+\\.?[0-9]*|\\.?[0-9]')\n",
    "    sci_format = re.compile('-?\\ *[0-9]+\\.?[0-9]*(?:[Ee]\\ *-?\\ *[0-9]+)?')\n",
    "\n",
    "    try:\n",
    "        return eval(value)\n",
    "    except:\n",
    "        if value == 'true':\n",
    "            return True\n",
    "        elif value == 'false':\n",
    "            return False\n",
    "        elif len(re.findall(num_format, value))>0:  # has numbers\n",
    "            if '[' in value:\n",
    "                ends = [value.index('[')+1,  value.index(']')]\n",
    "                tmpvalue = value[ends[0]:ends[1]]\n",
    "                #print tmpvalue\n",
    "                if ';' in value:\n",
    "                    rows = tmpvalue.split(';');\n",
    "                    value = [[float(i) for i in re.findall(num_format, row)] for row in rows]\n",
    "                else:\n",
    "                    value = [float(i) for i in re.findall(num_format, tmpvalue)]\n",
    "                return value\n",
    "                \n",
    "        else:\n",
    "            return value\n"
   ]
  },
  {
   "cell_type": "code",
   "execution_count": 43,
   "metadata": {},
   "outputs": [
    {
     "name": "stdout",
     "output_type": "stream",
     "text": [
      "name: SI.hChannels.channelOffset\n",
      "value: [-98 -1153 151 183]\n"
     ]
    }
   ],
   "source": [
    "string =  'SI.hChannels.channelOffset = [-98 -1153 151 183]'\n",
    "fieldname = string.split(' = ')[0]\n",
    "fieldvalue = string.split(' = ')[1]\n",
    "print \"name:\", fieldname\n",
    "print \"value:\", fieldvalue"
   ]
  },
  {
   "cell_type": "code",
   "execution_count": 44,
   "metadata": {},
   "outputs": [
    {
     "name": "stdout",
     "output_type": "stream",
     "text": [
      "-98 -1153 151 183\n"
     ]
    },
    {
     "data": {
      "text/plain": [
       "[-98.0, -1153.0, 151.0, 183.0]"
      ]
     },
     "execution_count": 44,
     "metadata": {},
     "output_type": "execute_result"
    }
   ],
   "source": [
    "fval = format_si_value(fieldvalue)\n",
    "fval"
   ]
  },
  {
   "cell_type": "code",
   "execution_count": 36,
   "metadata": {},
   "outputs": [
    {
     "name": "stdout",
     "output_type": "stream",
     "text": [
      "True\n",
      "True\n",
      "[1, 18]\n",
      "-98 -1153 151 183\n",
      "[-98.0, -1153.0, 151.0, 183.0]\n"
     ]
    }
   ],
   "source": [
    "num_format = re.compile(r'\\-?[0-9]+\\.?[0-9]*|\\.?[0-9]')\n",
    "print len(re.findall(num_format, fieldvalue))>0\n",
    "print '[' in fieldvalue\n",
    "ends = [fieldvalue.index('[')+1,  fieldvalue.index(']')]\n",
    "print ends\n",
    "tmpvalue = fieldvalue[ends[0]:ends[1]]\n",
    "print tmpvalue\n",
    "value = [float(i) for i in re.findall(num_format, tmpvalue)]\n",
    "print value"
   ]
  },
  {
   "cell_type": "code",
   "execution_count": 35,
   "metadata": {},
   "outputs": [
    {
     "data": {
      "text/plain": [
       "[-98.0, -1153.0, 151.0, 183.0]"
      ]
     },
     "execution_count": 35,
     "metadata": {},
     "output_type": "execute_result"
    }
   ],
   "source": [
    "[float(i) for i in re.findall(num_format, tmpvalue)]"
   ]
  },
  {
   "cell_type": "code",
   "execution_count": null,
   "metadata": {
    "collapsed": true
   },
   "outputs": [],
   "source": []
  }
 ],
 "metadata": {
  "kernelspec": {
   "display_name": "Python 2",
   "language": "python",
   "name": "python2"
  },
  "language_info": {
   "codemirror_mode": {
    "name": "ipython",
    "version": 2
   },
   "file_extension": ".py",
   "mimetype": "text/x-python",
   "name": "python",
   "nbconvert_exporter": "python",
   "pygments_lexer": "ipython2",
   "version": "2.7.13"
  }
 },
 "nbformat": 4,
 "nbformat_minor": 2
}
