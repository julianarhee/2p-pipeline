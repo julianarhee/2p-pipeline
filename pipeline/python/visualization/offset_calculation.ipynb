{
 "cells": [
  {
   "cell_type": "code",
   "execution_count": 1,
   "metadata": {
    "collapsed": true
   },
   "outputs": [],
   "source": [
    "import os\n",
    "\n",
    "import sys"
   ]
  },
  {
   "cell_type": "code",
   "execution_count": 2,
   "metadata": {
    "collapsed": true
   },
   "outputs": [],
   "source": [
    "sipath ='~/Downloads/ScanImageTiffReader-1.1-Linux'\n",
    "sireader = os.path.join(sipath, 'share', 'python')\n",
    "\n",
    "sireader =  '/home/juliana/Downloads/ScanImageTiffReader-1.1-Linux/share/python'\n",
    "sys.path.append(sireader)"
   ]
  },
  {
   "cell_type": "code",
   "execution_count": 3,
   "metadata": {
    "collapsed": true
   },
   "outputs": [],
   "source": [
    "from ScanImageTiffReader import ScanImageTiffReader"
   ]
  },
  {
   "cell_type": "code",
   "execution_count": 4,
   "metadata": {
    "collapsed": true
   },
   "outputs": [],
   "source": [
    "#currtiffpath = '/mnt/odyssey/CE074/20180215/FOV2_zoom1x_LI/blobs/raw_607fb2/FOV1_zoom1x_lateral_00001.tif'\n",
    "currtiffpath = '/nas/volume1/2photon/RESDATA/20161218_CE24_highres_quick/center/center_150um_210um_00001.tif'\n",
    "metadata = ScanImageTiffReader(currtiffpath).metadata()\n",
    "meta = metadata.splitlines()\n"
   ]
  },
  {
   "cell_type": "code",
   "execution_count": 5,
   "metadata": {
    "scrolled": true
   },
   "outputs": [
    {
     "data": {
      "text/plain": [
       "['SI.LINE_FORMAT_VERSION = 1',\n",
       " 'SI.TIFF_FORMAT_VERSION = 3',\n",
       " \"SI.VERSION_MAJOR = '2016'\",\n",
       " \"SI.VERSION_MINOR = '2'\",\n",
       " \"SI.acqState = 'grab'\",\n",
       " 'SI.acqsPerLoop = 1',\n",
       " 'SI.extTrigEnable = false',\n",
       " 'SI.hBeams.beamCalibratedStatus = true',\n",
       " 'SI.hBeams.directMode = false',\n",
       " 'SI.hBeams.enablePowerBox = false',\n",
       " 'SI.hBeams.flybackBlanking = true',\n",
       " 'SI.hBeams.interlaceDecimation = 1',\n",
       " 'SI.hBeams.interlaceOffset = 0',\n",
       " 'SI.hBeams.lengthConstants = 400',\n",
       " 'SI.hBeams.powerBoxEndFrame = Inf',\n",
       " 'SI.hBeams.powerBoxStartFrame = 1',\n",
       " 'SI.hBeams.powerBoxes.rect = [0.25 0.25 0.5 0.5]',\n",
       " 'SI.hBeams.powerBoxes.powers = NaN',\n",
       " \"SI.hBeams.powerBoxes.name = ''\",\n",
       " 'SI.hBeams.powerBoxes.oddLines = true',\n",
       " 'SI.hBeams.powerBoxes.evenLines = true',\n",
       " 'SI.hBeams.powerLimits = 100',\n",
       " 'SI.hBeams.powers = 82',\n",
       " 'SI.hBeams.pzAdjust = true',\n",
       " 'SI.hBeams.pzCustom = {[]}',\n",
       " 'SI.hBeams.stackEndPower = NaN',\n",
       " 'SI.hBeams.stackStartPower = NaN',\n",
       " 'SI.hBeams.stackUseStartPower = false',\n",
       " 'SI.hBeams.stackUserOverrideLz = false',\n",
       " 'SI.hChannels.channelAdcResolution = {16 16 16 16}',\n",
       " 'SI.hChannels.channelDisplay = [1;2]',\n",
       " 'SI.hChannels.channelInputRange = {[-0.25 0.25] [-0.25 0.25] [-1 1] [-1 1]}',\n",
       " 'SI.hChannels.channelLUT = {[0 31165] [0 5506] [0 100] [0 100]}',\n",
       " \"SI.hChannels.channelMergeColor = {'green';'red';'red';'red'}\",\n",
       " \"SI.hChannels.channelName = {'Channel 1' 'Channel 2' 'Channel 3' 'Channel 4'}\",\n",
       " 'SI.hChannels.channelOffset = [1177 1449 152 188]',\n",
       " 'SI.hChannels.channelSave = [1;2]',\n",
       " 'SI.hChannels.channelSubtractOffset = [true true true true]',\n",
       " \"SI.hChannels.channelType = {'stripe' 'stripe' 'stripe' 'stripe'}\",\n",
       " 'SI.hChannels.channelsActive = [1;2]',\n",
       " 'SI.hChannels.channelsAvailable = 4',\n",
       " 'SI.hChannels.loggingEnable = 1',\n",
       " \"SI.hConfigurationSaver.cfgFilename = ''\",\n",
       " \"SI.hConfigurationSaver.usrFilename = 'C:\\\\Users\\\\12k 2p\\\\Repositories\\\\12k2p-software\\\\SI-usrs\\\\standard2016.usr'\",\n",
       " 'SI.hCycleManager.cycleIterIdxTotal = 0',\n",
       " 'SI.hCycleManager.cyclesCompleted = 0',\n",
       " 'SI.hCycleManager.enabled = false',\n",
       " 'SI.hCycleManager.itersCompleted = 0',\n",
       " 'SI.hCycleManager.totalCycles = 1',\n",
       " 'SI.hDisplay.autoScaleSaturationFraction = [0.1 0.01]',\n",
       " 'SI.hDisplay.channelsMergeEnable = 1',\n",
       " 'SI.hDisplay.channelsMergeFocusOnly = false',\n",
       " 'SI.hDisplay.displayRollingAverageFactor = 1',\n",
       " 'SI.hDisplay.displayRollingAverageFactorLock = false',\n",
       " 'SI.hDisplay.enableScanfieldDisplays = false',\n",
       " 'SI.hDisplay.lineScanHistoryLength = 1000',\n",
       " \"SI.hDisplay.renderer = 'auto'\",\n",
       " 'SI.hDisplay.scanfieldDisplayColumns = 5',\n",
       " 'SI.hDisplay.scanfieldDisplayRows = 5',\n",
       " \"SI.hDisplay.scanfieldDisplayTilingMode = 'Auto'\",\n",
       " 'SI.hDisplay.scanfieldDisplays.enable = false',\n",
       " \"SI.hDisplay.scanfieldDisplays.name = 'Display 1'\",\n",
       " 'SI.hDisplay.scanfieldDisplays.channel = 1',\n",
       " 'SI.hDisplay.scanfieldDisplays.roi = 1',\n",
       " 'SI.hDisplay.scanfieldDisplays.z = 0',\n",
       " 'SI.hDisplay.selectedZs = []',\n",
       " 'SI.hDisplay.showScanfieldDisplayNames = false',\n",
       " \"SI.hDisplay.volumeDisplayStyle = 'Tiled'\",\n",
       " 'SI.hFastZ.actuatorLag = 0',\n",
       " 'SI.hFastZ.discardFlybackFrames = false',\n",
       " 'SI.hFastZ.enable = 1',\n",
       " 'SI.hFastZ.enableFieldCurveCorr = false',\n",
       " 'SI.hFastZ.flybackTime = 0',\n",
       " 'SI.hFastZ.numDiscardFlybackFrames = 0',\n",
       " 'SI.hFastZ.numFramesPerVolume = 20',\n",
       " 'SI.hFastZ.numVolumes = 50',\n",
       " 'SI.hFastZ.positionAbsolute = 28.2933',\n",
       " 'SI.hFastZ.positionTarget = 0',\n",
       " 'SI.hFastZ.scannerBandwidth = 1000',\n",
       " 'SI.hFastZ.useArbitraryZs = false',\n",
       " 'SI.hFastZ.userZs = 0',\n",
       " 'SI.hFastZ.volumePeriodAdjustment = -0.0006',\n",
       " \"SI.hFastZ.waveformType = 'sawtooth'\",\n",
       " 'SI.hIntegrationRoiManager.enable = false',\n",
       " 'SI.hIntegrationRoiManager.enableDisplay = true',\n",
       " 'SI.hIntegrationRoiManager.integrationHistoryLength = 1000',\n",
       " 'SI.hIntegrationRoiManager.postProcessFcn = @scanimage.components.integrationRois.integrationPostProcessingFcn',\n",
       " 'SI.hMotionManager.detectMotionFcn = @scanimage.components.motionCorrection.fftCorr_detectMotionFcn',\n",
       " 'SI.hMotionManager.enable = false',\n",
       " 'SI.hMotionManager.gpuAcceleration = false',\n",
       " 'SI.hMotionManager.motionHistoryLength = 30',\n",
       " 'SI.hMotionManager.referenceChannel = 1',\n",
       " 'SI.hMotionManager.referenceImagePreprocessFcn = @scanimage.components.motionCorrection.fftCorr_preprocessFcn',\n",
       " 'SI.hMotionManager.referenceZ = 0',\n",
       " 'SI.hMotionManager.showMotionDisplay = false',\n",
       " \"SI.hMotors.motorDimensionConfiguration = 'xyz-z'\",\n",
       " 'SI.hMotors.motorFastMotionThreshold = 100',\n",
       " 'SI.hMotors.motorMoveTimeout = 30',\n",
       " 'SI.hMotors.motorPosition = [0 0 0 0]',\n",
       " 'SI.hMotors.motorSecondMotorZEnable = 1',\n",
       " 'SI.hMotors.motorStepLimit = Inf',\n",
       " 'SI.hMotors.motorToRefTransform = [NaN NaN NaN;NaN NaN NaN;NaN NaN NaN]',\n",
       " 'SI.hMotors.motorToRefTransformAbsolute = [NaN NaN NaN;NaN NaN NaN;NaN NaN NaN]',\n",
       " 'SI.hMotors.motorToRefTransformValid = false',\n",
       " 'SI.hMotors.userDefinedPositions = []',\n",
       " 'SI.hPhotostim.allowMultipleOutputs = false',\n",
       " 'SI.hPhotostim.autoTriggerPeriod = 0',\n",
       " 'SI.hPhotostim.compensateMotionEnabled = true',\n",
       " 'SI.hPhotostim.completedSequences = 0',\n",
       " 'SI.hPhotostim.logging = false',\n",
       " 'SI.hPhotostim.monitoring = false',\n",
       " 'SI.hPhotostim.monitoringSampleRate = 9000',\n",
       " 'SI.hPhotostim.nextStimulus = 1',\n",
       " 'SI.hPhotostim.numOutputs = 0',\n",
       " 'SI.hPhotostim.numSequences = Inf',\n",
       " 'SI.hPhotostim.sequencePosition = 1',\n",
       " 'SI.hPhotostim.sequenceSelectedStimuli = []',\n",
       " \"SI.hPhotostim.status = 'Offline'\",\n",
       " 'SI.hPhotostim.stimImmediately = false',\n",
       " 'SI.hPhotostim.stimSelectionAssignment = []',\n",
       " \"SI.hPhotostim.stimSelectionDevice = ''\",\n",
       " 'SI.hPhotostim.stimSelectionTerms = []',\n",
       " 'SI.hPhotostim.stimSelectionTriggerTerm = []',\n",
       " 'SI.hPhotostim.stimTriggerTerm = 1',\n",
       " \"SI.hPhotostim.stimulusMode = 'sequence'\",\n",
       " 'SI.hPhotostim.syncTriggerTerm = []',\n",
       " 'SI.hPmts.autoPower = []',\n",
       " 'SI.hPmts.bandwidths = []',\n",
       " 'SI.hPmts.gains = []',\n",
       " 'SI.hPmts.names = []',\n",
       " 'SI.hPmts.offsets = []',\n",
       " 'SI.hPmts.powersOn = []',\n",
       " 'SI.hPmts.tripped = []',\n",
       " 'SI.hRoiManager.forceSquarePixelation = true',\n",
       " 'SI.hRoiManager.forceSquarePixels = true',\n",
       " 'SI.hRoiManager.imagingFovDeg = [-4.5 -4.5;4.5 -4.5;4.5 4.5;-4.5 4.5]',\n",
       " 'SI.hRoiManager.imagingFovUm = [-90 -90;90 -90;90 90;-90 90]',\n",
       " 'SI.hRoiManager.linePeriod = 4.15765e-05',\n",
       " 'SI.hRoiManager.linesPerFrame = 512',\n",
       " 'SI.hRoiManager.mroiEnable = false',\n",
       " 'SI.hRoiManager.pixelsPerLine = 512',\n",
       " 'SI.hRoiManager.scanAngleMultiplierFast = 1',\n",
       " 'SI.hRoiManager.scanAngleMultiplierSlow = 1',\n",
       " 'SI.hRoiManager.scanAngleShiftFast = 0',\n",
       " 'SI.hRoiManager.scanAngleShiftSlow = 0',\n",
       " 'SI.hRoiManager.scanFramePeriod = 0.022365',\n",
       " 'SI.hRoiManager.scanFrameRate = 44.7127',\n",
       " 'SI.hRoiManager.scanRotation = 0',\n",
       " \"SI.hRoiManager.scanType = 'frame'\",\n",
       " 'SI.hRoiManager.scanVolumeRate = 2.23564',\n",
       " 'SI.hRoiManager.scanZoomFactor = 1',\n",
       " 'SI.hScan2D.beamClockDelay = 1.5e-06',\n",
       " 'SI.hScan2D.beamClockExtend = 0',\n",
       " 'SI.hScan2D.bidirectional = true',\n",
       " 'SI.hScan2D.channelOffsets = [1177 1449 152 188]',\n",
       " 'SI.hScan2D.channels = {}',\n",
       " 'SI.hScan2D.channelsAdcResolution = 16',\n",
       " 'SI.hScan2D.channelsAutoReadOffsets = true',\n",
       " 'SI.hScan2D.channelsAvailable = 4',\n",
       " \"SI.hScan2D.channelsDataType = 'int16'\",\n",
       " \"SI.hScan2D.channelsFilter = 'Bessel'\",\n",
       " 'SI.hScan2D.channelsInputRanges = {[-0.25 0.25] [-0.25 0.25] [-1 1] [-1 1]}',\n",
       " 'SI.hScan2D.channelsSubtractOffsets = [true true true true]',\n",
       " 'SI.hScan2D.fillFractionSpatial = 0.9',\n",
       " 'SI.hScan2D.fillFractionTemporal = 0.712867',\n",
       " 'SI.hScan2D.flybackTimePerFrame = 0.001',\n",
       " 'SI.hScan2D.flytoTimePerScanfield = 0.001',\n",
       " 'SI.hScan2D.fovCornerPoints = [-5 -10;5 -10;5 10;-5 10]',\n",
       " 'SI.hScan2D.keepResonantScannerOn = 0',\n",
       " 'SI.hScan2D.linePhase = -5.83333e-06',\n",
       " \"SI.hScan2D.linePhaseMode = 'Nearest Neighbor'\",\n",
       " 'SI.hScan2D.logAverageFactor = 1',\n",
       " 'SI.hScan2D.logFramesPerFile = Inf',\n",
       " 'SI.hScan2D.logFramesPerFileLock = false',\n",
       " 'SI.hScan2D.maxSampleRate = 1.2e+08',\n",
       " \"SI.hScan2D.name = 'ResScanner'\",\n",
       " 'SI.hScan2D.nominalFovCornerPoints = [-5 -10;5 -10;5 10;-5 10]',\n",
       " 'SI.hScan2D.pixelBinFactor = 1',\n",
       " 'SI.hScan2D.resonantLimitedFovMode = true',\n",
       " 'SI.hScan2D.sampleRate = 1.2e+08',\n",
       " 'SI.hScan2D.scanPixelTimeMaxMinRatio = 2.6',\n",
       " 'SI.hScan2D.scanPixelTimeMean = 5.78776e-08',\n",
       " 'SI.hScan2D.scannerFrequency = 12026',\n",
       " 'SI.hScan2D.scannerToRefTransform = [1 0 0;0 1 0;0 0 1]',\n",
       " \"SI.hScan2D.scannerType = 'Resonant'\",\n",
       " 'SI.hScan2D.settleTimeFraction = 0',\n",
       " 'SI.hScan2D.simulated = false',\n",
       " \"SI.hScan2D.trigAcqEdge = 'rising'\",\n",
       " \"SI.hScan2D.trigAcqInTerm = ''\",\n",
       " \"SI.hScan2D.trigNextEdge = 'rising'\",\n",
       " \"SI.hScan2D.trigNextInTerm = ''\",\n",
       " 'SI.hScan2D.trigNextStopEnable = true',\n",
       " \"SI.hScan2D.trigStopEdge = 'rising'\",\n",
       " \"SI.hScan2D.trigStopInTerm = ''\",\n",
       " 'SI.hScan2D.uniformSampling = false',\n",
       " 'SI.hScan2D.useNonlinearResonantFov2VoltsCurve = false',\n",
       " 'SI.hStackManager.framesPerSlice = 1',\n",
       " 'SI.hStackManager.numSlices = 20',\n",
       " 'SI.hStackManager.shutterCloseMinZStepSize = 0',\n",
       " 'SI.hStackManager.stackReturnHome = true',\n",
       " 'SI.hStackManager.stackSlicesDone = 0',\n",
       " 'SI.hStackManager.stackStartCentered = false',\n",
       " 'SI.hStackManager.stackZEndPos = NaN',\n",
       " 'SI.hStackManager.stackZStartPos = NaN',\n",
       " 'SI.hStackManager.stackZStepSize = 3',\n",
       " 'SI.hStackManager.stageDependentZs = false',\n",
       " 'SI.hStackManager.zPowerReference = 0',\n",
       " 'SI.hStackManager.zs = [0 3 6 9 12 15 18 21 24 27 30 33 36 39 42 45 48 51 54 57]',\n",
       " 'SI.hUserFunctions.userFunctionsCfg = []',\n",
       " 'SI.hUserFunctions.userFunctionsOverride = []',\n",
       " 'SI.hUserFunctions.userFunctionsUsr = []',\n",
       " 'SI.hWSConnector.enable = false',\n",
       " \"SI.imagingSystem = 'ResScanner'\",\n",
       " 'SI.loopAcqInterval = 10',\n",
       " 'SI.objectiveResolution = 20',\n",
       " '',\n",
       " '{',\n",
       " '  \"RoiGroups\": {',\n",
       " '    \"imagingRoiGroup\": {',\n",
       " '      \"ver\": 1,',\n",
       " '      \"classname\": \"scanimage.mroi.RoiGroup\",',\n",
       " '      \"name\": \"Default Imaging ROI Group\",',\n",
       " '      \"rois\": {',\n",
       " '        \"ver\": 1,',\n",
       " '        \"classname\": \"scanimage.mroi.Roi\",',\n",
       " '        \"name\": \"Default Imaging Roi\",',\n",
       " '        \"zs\": 0,',\n",
       " '        \"scanfields\": {',\n",
       " '          \"ver\": 1,',\n",
       " '          \"classname\": \"scanimage.mroi.scanfield.fields.RotatedRectangle\",',\n",
       " '          \"name\": \"Default Imaging Scanfield\",',\n",
       " '          \"centerXY\": [0,0],',\n",
       " '          \"sizeXY\": [9,9],',\n",
       " '          \"rotationDegrees\": 0,',\n",
       " '          \"enable\": 1,',\n",
       " '          \"pixelResolutionXY\": [512,512],',\n",
       " '          \"pixelToRefTransform\": [',\n",
       " '            [0.017578125,0,-4.508789063],',\n",
       " '            [0,0.017578125,-4.508789063],',\n",
       " '            [0,0,1]',\n",
       " '          ],',\n",
       " '          \"affine\": [',\n",
       " '            [9,0,-4.5],',\n",
       " '            [0,9,-4.5],',\n",
       " '            [0,0,1]',\n",
       " '          ]',\n",
       " '        },',\n",
       " '        \"discretePlaneMode\": 0',\n",
       " '      }',\n",
       " '    },',\n",
       " '    \"photostimRoiGroups\": null,',\n",
       " '    \"integrationRoiGroup\": {',\n",
       " '      \"ver\": 1,',\n",
       " '      \"classname\": \"scanimage.mroi.RoiGroup\",',\n",
       " '      \"name\": \"\",',\n",
       " '      \"rois\": {',\n",
       " '        \"_ArrayType_\": \"double\",',\n",
       " '        \"_ArraySize_\": [1,0],',\n",
       " '        \"_ArrayData_\": null',\n",
       " '      }',\n",
       " '    }',\n",
       " '  }',\n",
       " '}']"
      ]
     },
     "execution_count": 5,
     "metadata": {},
     "output_type": "execute_result"
    }
   ],
   "source": [
    "meta"
   ]
  },
  {
   "cell_type": "code",
   "execution_count": null,
   "metadata": {
    "collapsed": true
   },
   "outputs": [],
   "source": [
    "currtiffpath2 = ''"
   ]
  },
  {
   "cell_type": "code",
   "execution_count": 47,
   "metadata": {
    "collapsed": true
   },
   "outputs": [],
   "source": [
    "currtiffpath2 = '/mnt/odyssey/CE077/20180319/FOV1_zoom1x/gratings_run2/raw_a6e339/FOV1_zoom1x_gratings_00010.tif'\n",
    "\n",
    "metadata2 = ScanImageTiffReader(currtiffpath2).metadata()\n",
    "meta2 = metadata2.splitlines()\n"
   ]
  },
  {
   "cell_type": "code",
   "execution_count": 54,
   "metadata": {
    "collapsed": true
   },
   "outputs": [],
   "source": [
    "# Get ScanImage metadata:\n",
    "sistring = [l for l in meta2 if 'SI.' in l]\n",
    "\n",
    "# Iterate through list of SI. strings and turn into dict:\n",
    "SI = {}\n",
    "for item in sistring:\n",
    "    t = SI\n",
    "    fieldname = item.split(' = ')[0] #print fieldname\n",
    "    fvalue = item.split(' = ')[1]\n",
    "    value = format_si_value(fvalue)\n",
    "\n",
    "    for ix,part in enumerate(fieldname.split('.')):\n",
    "        nsubfields = len(fieldname.split('.'))\n",
    "        if ix==nsubfields-1:\n",
    "            t.setdefault(part, value)\n",
    "        else:\n",
    "            t = t.setdefault(part, {})\n"
   ]
  },
  {
   "cell_type": "code",
   "execution_count": 60,
   "metadata": {},
   "outputs": [
    {
     "data": {
      "text/plain": [
       "{'beamClockDelay': 1.5e-06,\n",
       " 'beamClockExtend': 0,\n",
       " 'bidirectional': True,\n",
       " 'channelOffsets': [-265.0, -382.0, 155.0, 184.0],\n",
       " 'channels': {},\n",
       " 'channelsAdcResolution': 16,\n",
       " 'channelsAutoReadOffsets': True,\n",
       " 'channelsAvailable': 4,\n",
       " 'channelsDataType': 'int16',\n",
       " 'channelsFilter': 'Bessel',\n",
       " 'channelsInputRanges': [-0.5, 0.5],\n",
       " 'channelsSubtractOffsets': '[true true true true]',\n",
       " 'fillFractionSpatial': 0.9,\n",
       " 'fillFractionTemporal': 0.712867,\n",
       " 'flybackTimePerFrame': 0.001,\n",
       " 'flytoTimePerScanfield': 0.001,\n",
       " 'fovCornerPoints': [[-5.0, -10.0], [5.0, -10.0], [5.0, 10.0], [-5.0, 10.0]],\n",
       " 'keepResonantScannerOn': 1,\n",
       " 'linePhase': -2.95e-06,\n",
       " 'linePhaseMode': 'Nearest Neighbor',\n",
       " 'logAverageFactor': 1,\n",
       " 'logFramesPerFile': 'Inf',\n",
       " 'logFramesPerFileLock': False,\n",
       " 'maxSampleRate': 120000000.0,\n",
       " 'name': 'ResScanner',\n",
       " 'nominalFovCornerPoints': [[-5.0, -10.0],\n",
       "  [5.0, -10.0],\n",
       "  [5.0, 10.0],\n",
       "  [-5.0, 10.0]],\n",
       " 'pixelBinFactor': 1,\n",
       " 'resonantLimitedFovMode': True,\n",
       " 'sampleRate': 120000000.0,\n",
       " 'scanPixelTimeMaxMinRatio': 2.6,\n",
       " 'scanPixelTimeMean': 5.79102e-08,\n",
       " 'scannerFrequency': 12018.7,\n",
       " 'scannerToRefTransform': [[1.0, 0.0, 0.0], [0.0, 1.0, 0.0], [0.0, 0.0, 1.0]],\n",
       " 'scannerType': 'Resonant',\n",
       " 'settleTimeFraction': 0,\n",
       " 'simulated': False,\n",
       " 'trigAcqEdge': 'rising',\n",
       " 'trigAcqInTerm': '',\n",
       " 'trigNextEdge': 'rising',\n",
       " 'trigNextInTerm': '',\n",
       " 'trigNextStopEnable': True,\n",
       " 'trigStopEdge': 'rising',\n",
       " 'trigStopInTerm': '',\n",
       " 'uniformSampling': False,\n",
       " 'useNonlinearResonantFov2VoltsCurve': False}"
      ]
     },
     "execution_count": 60,
     "metadata": {},
     "output_type": "execute_result"
    }
   ],
   "source": [
    "SI['SI']['hScan2D']\n"
   ]
  },
  {
   "cell_type": "code",
   "execution_count": 53,
   "metadata": {
    "collapsed": true
   },
   "outputs": [],
   "source": [
    "import re\n",
    "def format_si_value(value):\n",
    "    num_format = re.compile(r'\\-?[0-9]+\\.?[0-9]*|\\.?[0-9]')\n",
    "    sci_format = re.compile('-?\\ *[0-9]+\\.?[0-9]*(?:[Ee]\\ *-?\\ *[0-9]+)?')\n",
    "\n",
    "    try:\n",
    "        return eval(value)\n",
    "    except:\n",
    "        if value == 'true':\n",
    "            return True\n",
    "        elif value == 'false':\n",
    "            return False\n",
    "        elif len(re.findall(num_format, value))>0:  # has numbers\n",
    "            if '[' in value:\n",
    "                ends = [value.index('[')+1,  value.index(']')]\n",
    "                tmpvalue = value[ends[0]:ends[1]]\n",
    "                #print tmpvalue\n",
    "                if ';' in value:\n",
    "                    rows = tmpvalue.split(';');\n",
    "                    value = [[float(i) for i in re.findall(num_format, row)] for row in rows]\n",
    "                else:\n",
    "                    value = [float(i) for i in re.findall(num_format, tmpvalue)]\n",
    "                return value\n",
    "                \n",
    "        else:\n",
    "            return value\n"
   ]
  },
  {
   "cell_type": "code",
   "execution_count": 43,
   "metadata": {},
   "outputs": [
    {
     "name": "stdout",
     "output_type": "stream",
     "text": [
      "name: SI.hChannels.channelOffset\n",
      "value: [-98 -1153 151 183]\n"
     ]
    }
   ],
   "source": [
    "string =  'SI.hChannels.channelOffset = [-98 -1153 151 183]'\n",
    "fieldname = string.split(' = ')[0]\n",
    "fieldvalue = string.split(' = ')[1]\n",
    "print \"name:\", fieldname\n",
    "print \"value:\", fieldvalue"
   ]
  },
  {
   "cell_type": "code",
   "execution_count": 44,
   "metadata": {},
   "outputs": [
    {
     "name": "stdout",
     "output_type": "stream",
     "text": [
      "-98 -1153 151 183\n"
     ]
    },
    {
     "data": {
      "text/plain": [
       "[-98.0, -1153.0, 151.0, 183.0]"
      ]
     },
     "execution_count": 44,
     "metadata": {},
     "output_type": "execute_result"
    }
   ],
   "source": [
    "fval = format_si_value(fieldvalue)\n",
    "fval"
   ]
  },
  {
   "cell_type": "code",
   "execution_count": 36,
   "metadata": {},
   "outputs": [
    {
     "name": "stdout",
     "output_type": "stream",
     "text": [
      "True\n",
      "True\n",
      "[1, 18]\n",
      "-98 -1153 151 183\n",
      "[-98.0, -1153.0, 151.0, 183.0]\n"
     ]
    }
   ],
   "source": [
    "num_format = re.compile(r'\\-?[0-9]+\\.?[0-9]*|\\.?[0-9]')\n",
    "print len(re.findall(num_format, fieldvalue))>0\n",
    "print '[' in fieldvalue\n",
    "ends = [fieldvalue.index('[')+1,  fieldvalue.index(']')]\n",
    "print ends\n",
    "tmpvalue = fieldvalue[ends[0]:ends[1]]\n",
    "print tmpvalue\n",
    "value = [float(i) for i in re.findall(num_format, tmpvalue)]\n",
    "print value"
   ]
  },
  {
   "cell_type": "code",
   "execution_count": 35,
   "metadata": {},
   "outputs": [
    {
     "data": {
      "text/plain": [
       "[-98.0, -1153.0, 151.0, 183.0]"
      ]
     },
     "execution_count": 35,
     "metadata": {},
     "output_type": "execute_result"
    }
   ],
   "source": [
    "[float(i) for i in re.findall(num_format, tmpvalue)]"
   ]
  },
  {
   "cell_type": "code",
   "execution_count": null,
   "metadata": {
    "collapsed": true
   },
   "outputs": [],
   "source": []
  }
 ],
 "metadata": {
  "kernelspec": {
   "display_name": "Python 2",
   "language": "python",
   "name": "python2"
  },
  "language_info": {
   "codemirror_mode": {
    "name": "ipython",
    "version": 2
   },
   "file_extension": ".py",
   "mimetype": "text/x-python",
   "name": "python",
   "nbconvert_exporter": "python",
   "pygments_lexer": "ipython2",
   "version": "2.7.13"
  }
 },
 "nbformat": 4,
 "nbformat_minor": 2
}
