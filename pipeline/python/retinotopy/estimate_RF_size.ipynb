{
 "cells": [
  {
   "cell_type": "code",
   "execution_count": 19,
   "metadata": {
    "collapsed": true
   },
   "outputs": [],
   "source": [
    "%matplotlib inline\n",
    "import matplotlib.pyplot as plt\n",
    "# import matplotlib\n",
    "# matplotlib.use('Agg')\n",
    "import os\n",
    "import h5py\n",
    "import json\n",
    "import re\n",
    "import datetime\n",
    "import optparse\n",
    "import pprint\n",
    "import cPickle as pkl\n",
    "import tifffile as tf\n",
    "import pylab as pl\n",
    "import numpy as np\n",
    "from scipy import ndimage\n",
    "import cv2\n",
    "import pickle\n",
    "import glob\n",
    "from scipy.optimize import curve_fit\n",
    "\n",
    "from pipeline.python.utils import natural_keys, label_figure, replace_root\n",
    "\n",
    "pp = pprint.PrettyPrinter(indent=4)\n",
    "\n",
    "#%%"
   ]
  },
  {
   "cell_type": "code",
   "execution_count": 2,
   "metadata": {
    "collapsed": true
   },
   "outputs": [],
   "source": [
    "\n",
    "#-----------------------------------------------------\n",
    "#           FUNCTIONS FOR DATA PROCESSING\n",
    "#-----------------------------------------------------\n",
    "\n",
    "def block_mean(ar, fact):\n",
    "\tassert isinstance(fact, int), type(fact)\n",
    "\tsx, sy = ar.shape\n",
    "\tX, Y = np.ogrid[0:sx, 0:sy]\n",
    "\tregions = sy/fact * (X/fact) + Y/fact\n",
    "\tres = ndimage.mean(ar, labels=regions, index=np.arange(regions.max() + 1))\n",
    "\tres.shape = (sx/fact, sy/fact)\n",
    "\treturn res\n",
    "\n",
    "def block_mean_stack(stack0, ds_factor, along_axis=2):\n",
    "    if along_axis==2:\n",
    "\tim0 = block_mean(stack0[:,:,0],ds_factor) \n",
    "        print im0.shape\n",
    "\tstack1 = np.zeros((im0.shape[0],im0.shape[1],stack0.shape[2]))\n",
    "\tfor i in range(0,stack0.shape[2]):\n",
    "            stack1[:,:,i] = block_mean(stack0[:,:,i],ds_factor) \n",
    "    else:\n",
    " \tim0 = block_mean(stack0[0,:,:],ds_factor) \n",
    "\tstack1 = np.zeros((stack0.shape[0], im0.shape[0], im0.shape[1]))\n",
    "\tfor i in range(stack0.shape[0]):\n",
    "            stack1[i,:,:] = block_mean(stack0[i,:,:],ds_factor) \n",
    "\n",
    "    return stack1\n",
    "\n",
    "def smooth_array(inputArray,fwhm):\n",
    "\tszList=np.array([None,None,None,11,None,21,None,27,None,31,None,37,None,43,None,49,None,53,None,59,None,55,None,69,None,79,None,89,None,99])\n",
    "\tsigmaList=np.array([None,None,None,.9,None,1.7,None,2.6,None,3.4,None,4.3,None,5.1,None,6.4,None,6.8,None,7.6,None,8.5,None,9.4,None,10.3,None,11.2,None,12])\n",
    "\tsigma=sigmaList[fwhm]\n",
    "\tsz=szList[fwhm]\n",
    "\n",
    "\toutputArray=cv2.GaussianBlur(inputArray, (sz,sz), sigma, sigma)\n",
    "\treturn outputArray\n",
    "\n",
    "def smooth_stack(stack0, fwhm):\n",
    "\tstack1 = np.zeros(stack0.shape)\n",
    "\tfor i in range(0,stack0.shape[2]):\n",
    "\t\tstack1[:,:,i] = smooth_array(stack0[:,:,i], fwhm) \n",
    "\treturn stack1\n",
    "\n",
    "def get_processed_stack(tiff_path_full,RETINOID):\n",
    "\t# Read in RAW tiff: \n",
    "\tprint('Loading file : %s'%(tiff_path_full))\n",
    "\tstack0 = tf.imread(tiff_path_full)\n",
    "        print stack0.shape\n",
    "\t#swap axes for familiarity\n",
    "\tstack1 = np.swapaxes(stack0,0,2)\n",
    "\tstack1 = np.swapaxes(stack1,1,0)\n",
    "\tdel stack0 # to save space\n",
    "\n",
    "\t#block-reduce, if indicated\n",
    "\tif RETINOID['PARAMS']['downsample_factor'] is not None:\n",
    "\t\tprint('Performing block-reduction on stack....')\n",
    "\t\tstack1 = block_mean_stack(stack1, int(RETINOID['PARAMS']['downsample_factor']))\n",
    "\n",
    "\t#spatial smoothing, if indicated\n",
    "\tif RETINOID['PARAMS']['smooth_fwhm'] is not None:\n",
    "\t\tprint('Performing spatial smoothing on stack....')\n",
    "\t\tstack1 = smooth_stack(stack1, int(RETINOID['PARAMS']['smooth_fwhm']))\n",
    "\treturn stack1\n",
    "\t\t\n",
    "def process_array(roi_trace, RETINOID, stack_info):\n",
    "\t\n",
    "\tframe_rate = stack_info['frame_rate']\n",
    "\tstimfreq = stack_info['stimfreq']\n",
    "\t#hard-code for now, in the future, get from mworks file\n",
    "\tif RETINOID['PARAMS']['minus_rolling_mean']:\n",
    "\t\tprint('Removing rolling mean from traces...')\n",
    "\t\tdetrend_roi_trace = np.zeros(roi_trace.shape)\n",
    "\n",
    "\t\twindowsz = int(np.ceil((np.true_divide(1,stimfreq)*3)*frame_rate))\n",
    "\n",
    "\t\tfor roi in range(roi_trace.shape[0]):\n",
    "\t\t\ttmp0=roi_trace[roi,:];\n",
    "\t\t\ttmp1=np.concatenate((np.ones(windowsz)*tmp0[0], tmp0, np.ones(windowsz)*tmp0[-1]),0)\n",
    "\n",
    "\t\t\trolling_mean=np.convolve(tmp1, np.ones(windowsz)/windowsz, 'same')\n",
    "\t\t\trolling_mean=rolling_mean[windowsz:-windowsz]\n",
    "\n",
    "\t\t\tdetrend_roi_trace[roi,:]=np.subtract(tmp0,rolling_mean)\n",
    "\t\troi_trace = detrend_roi_trace\n",
    "\t\tdel detrend_roi_trace\n",
    "\tif RETINOID['PARAMS']['average_frames'] is not None:\n",
    "\t\tprint('Performing temporal smoothing on traces...')\n",
    "\t\tsmooth_roi_trace = np.zeros(roi_trace.shape)\n",
    "\n",
    "\t\twindowsz = int(RETINOID['PARAMS']['average_frames'])\n",
    "\n",
    "\t\tfor roi in range(roi_trace.shape[0]):\n",
    "\t\t\ttmp0=roi_trace[roi,:];\n",
    "\t\t\ttmp1=np.concatenate((np.ones(windowsz)*tmp0[0], tmp0, np.ones(windowsz)*tmp0[-1]),0)\n",
    "\n",
    "\t\t\ttmp2=np.convolve(tmp1, np.ones(windowsz)/windowsz, 'same')\n",
    "\t\t\ttmp2=tmp2[windowsz:-windowsz]\n",
    "\n",
    "\t\t\tsmooth_roi_trace[roi,:]=tmp2\n",
    "\t\troi_trace = smooth_roi_trace\n",
    "\t\tdel smooth_roi_trace\n",
    "\treturn roi_trace\n",
    "\n",
    "def do_regression(t,phi,roi_trace,npixels,tpoints,roi_type,signal_fit_idx):\n",
    "\tprint('Doing regression')\n",
    "\t#doing regression to get amplitude and variance expained\n",
    "\tt=np.transpose(np.expand_dims(t,1))\n",
    "\ttmatrix=np.tile(t,(npixels,1))\n",
    "\n",
    "\tphimatrix=np.tile(phi,(1,tpoints))\n",
    "\tXmatrix=np.cos(tmatrix+phimatrix)\n",
    "\n",
    "\tbeta_array=np.zeros((npixels))\n",
    "\tvarexp_array=np.zeros((npixels))\n",
    "\tif roi_type != 'pixels':\n",
    "\t\tsignal_fit = np.zeros((npixels,tpoints))\n",
    "\n",
    "\tfor midx in range(npixels):\n",
    "\t\tx=np.expand_dims(Xmatrix[midx,:],1)\n",
    "\t\ty=roi_trace[midx,:]\n",
    "\t\tbeta=np.matmul(np.linalg.pinv(x),y)\n",
    "\t\tbeta_array[midx]=beta\n",
    "\t\tyHat=x*beta\n",
    "\t\tif roi_type == 'pixels':\n",
    "\t\t\tif midx == signal_fit_idx:\n",
    "\t\t\t\tsignal_fit=np.squeeze(yHat)\n",
    "\t\telse:\n",
    "\t\t\tsignal_fit[midx,:]=np.squeeze(yHat)\n",
    "\t\tSSreg=np.sum((yHat-np.mean(y,0))**2)\n",
    "\t\tSStotal=np.sum((y-np.mean(y,0))**2)\n",
    "\t\tvarexp_array[midx]=SSreg/SStotal\n",
    "\n",
    "\treturn varexp_array, beta_array, signal_fit\n"
   ]
  },
  {
   "cell_type": "markdown",
   "metadata": {},
   "source": [
    "## Load retinotopy run source"
   ]
  },
  {
   "cell_type": "code",
   "execution_count": 5,
   "metadata": {
    "collapsed": true
   },
   "outputs": [],
   "source": [
    "rootdir = '/n/coxfs01/2p-data' #'/mnt/odyssey'\n",
    "animalid = 'CE077'\n",
    "session = '20180523'\n",
    "acquisition = 'FOV1_zoom1x'\n",
    "run = 'retino'\n",
    "analysis_id = 'analysis004'\n",
    "default = False\n",
    "slurm = False\n"
   ]
  },
  {
   "cell_type": "code",
   "execution_count": 6,
   "metadata": {},
   "outputs": [
    {
     "name": "stdout",
     "output_type": "stream",
     "text": [
      "/n/coxfs01/2p-data/CE077/20180523/FOV1_zoom1x/retino_run1/retino_analysis/analysis001_4a6393/visualization\n",
      "{   u'DST': u'/n/coxfs01/2p-data/CE077/20180523/FOV1_zoom1x/retino_run1/retino_analysis/analysis001_4a6393',\n",
      "    u'PARAMS': {   u'average_frames': u'5',\n",
      "                   u'downsample_factor': u'2',\n",
      "                   u'excluded_tiffs': [],\n",
      "                   u'hashid': u'0f3eac',\n",
      "                   u'minus_rolling_mean': True,\n",
      "                   u'rid_hash': u'2e3286',\n",
      "                   u'roi_id': u'rois002',\n",
      "                   u'roi_type': u'manual2D_warp',\n",
      "                   u'signal_channel': 1,\n",
      "                   u'smooth_fwhm': None,\n",
      "                   u'tiff_source': u'/n/coxfs01/2p-data/CE077/20180523/FOV1_zoom1x/retino_run1/processed/processed001_f7567f/mcorrected_cad896'},\n",
      "    u'SRC': u'/n/coxfs01/2p-data/CE077/20180523/FOV1_zoom1x/retino_run1/processed/processed001_f7567f/mcorrected_cad896',\n",
      "    u'analysis_hash': u'4a6393',\n",
      "    u'analysis_id': u'analysis001'}\n"
     ]
    }
   ],
   "source": [
    "acquisition_dir = os.path.join(rootdir, animalid, session, acquisition)\n",
    "run_dir = glob.glob(os.path.join(acquisition_dir, 'retino*'))[0]\n",
    "run = os.path.split(run_dir)[1]\n",
    "\n",
    "retino_roi_analysis = glob.glob(os.path.join(rootdir, animalid, session, acquisition, 'retino*', 'retino_analysis', 'analysis*', 'visualization'))[0]\n",
    "print retino_roi_analysis\n",
    "\n",
    "retinoids_fpath = glob.glob(os.path.join(acquisition_dir, 'retino*', 'retino_analysis', 'analysisids_*.json'))[0]\n",
    "retinoid_dir = os.path.split(retino_roi_analysis)[0]\n",
    "retinoid = os.path.split(retinoid_dir)[1]\n",
    "\n",
    "with open(retinoids_fpath, 'r') as f: rids = json.load(f)\n",
    "RID = rids[retinoid.split('_')[0]]\n",
    "pp.pprint(RID)\n"
   ]
  },
  {
   "cell_type": "markdown",
   "metadata": {},
   "source": [
    "## Get meta info for current run and source tiffs using analysis-ID params:"
   ]
  },
  {
   "cell_type": "code",
   "execution_count": 7,
   "metadata": {},
   "outputs": [],
   "source": [
    "\n",
    "# =============================================================================\n",
    "# Get meta info for current run and source tiffs using analysis-ID params:\n",
    "# =============================================================================\n",
    "analysis_hash = RID['analysis_hash']\n",
    "\n",
    "tiff_dir = RID['SRC']\n",
    "if rootdir not in tiff_dir:\n",
    "    tiff_dir = replace_root(tiff_dir, rootdir, animalid, session)\n",
    "    \n",
    "tiff_fpaths = sorted([os.path.join(tiff_dir, t) for t in os.listdir(tiff_dir) if t.endswith('tif')], key=natural_keys)\n",
    "#print \"Found %i tiffs in dir %s.\\nExtracting analysis with ROI set %s.\" % (len(tiff_files), tiff_dir, roi_name)\n",
    "\n",
    "# Get associated RUN info:\n",
    "runmeta_path = os.path.join(run_dir, '%s.json' % run)\n",
    "with open(runmeta_path, 'r') as r:\n",
    "    runinfo = json.load(r)\n",
    "\n",
    "nslices = len(runinfo['slices'])\n",
    "nchannels = runinfo['nchannels']\n",
    "nvolumes = runinfo['nvolumes']\n",
    "ntiffs = runinfo['ntiffs']"
   ]
  },
  {
   "cell_type": "markdown",
   "metadata": {},
   "source": [
    "## Load paradigm info"
   ]
  },
  {
   "cell_type": "code",
   "execution_count": 8,
   "metadata": {},
   "outputs": [
    {
     "name": "stdout",
     "output_type": "stream",
     "text": [
      "Getting paradigm file info\n"
     ]
    }
   ],
   "source": [
    "print 'Getting paradigm file info'\n",
    "paradigm_fpath = glob.glob(os.path.join(run_dir, 'paradigm', 'files', '*.json'))[0]\n",
    "with open(paradigm_fpath, 'r') as r: mwinfo = json.load(r)\n",
    "# pp.pprint(mwinfo)"
   ]
  },
  {
   "cell_type": "markdown",
   "metadata": {},
   "source": [
    "### Load ROI masks:"
   ]
  },
  {
   "cell_type": "code",
   "execution_count": 9,
   "metadata": {},
   "outputs": [
    {
     "name": "stdout",
     "output_type": "stream",
     "text": [
      "Getting masks\n",
      "(182, 512, 512)\n"
     ]
    }
   ],
   "source": [
    "session_dir = os.path.split(acquisition_dir)[0]\n",
    "assert RID['PARAMS']['roi_type'] != 'pixels', \"ROI type for analysis should not be pixels. This is: %s\" % RID['PARAMS']['roi_type']\n",
    "print 'Getting masks'\n",
    "# Load ROI set specified in analysis param set:\n",
    "roidict_fpath = glob.glob(os.path.join(session_dir, 'ROIs', 'rids_*.json'))[0]\n",
    "with open(roidict_fpath, 'r') as f: roidict = json.load(f)\n",
    "\n",
    "roi_dir = roidict[RID['PARAMS']['roi_id']]['DST']\n",
    "if rootdir not in roi_dir:\n",
    "    roi_dir = replace_root(roi_dir, rootdir, animalid, session)\n",
    "mask_fpath = os.path.join(roi_dir, 'masks.hdf5')\n",
    "maskfile = h5py.File(mask_fpath,  'r')#read\n",
    "masks = maskfile[maskfile.keys()[0]]['masks']['Slice01']\n",
    "print masks.shape"
   ]
  },
  {
   "cell_type": "markdown",
   "metadata": {},
   "source": [
    "### Set output directories"
   ]
  },
  {
   "cell_type": "code",
   "execution_count": 10,
   "metadata": {},
   "outputs": [
    {
     "name": "stdout",
     "output_type": "stream",
     "text": [
      "/n/coxfs01/2p-data/CE077/20180523/FOV1_zoom1x/retino_run1/retino_analysis/analysis001_4a6393/traces\n"
     ]
    }
   ],
   "source": [
    "\n",
    "output_dir = os.path.join(retinoid_dir,'traces')\n",
    "if not os.path.exists(output_dir):\n",
    "        os.makedirs(output_dir)\n",
    "print output_dir\n"
   ]
  },
  {
   "cell_type": "markdown",
   "metadata": {},
   "source": [
    "### Process raw tiff arrays"
   ]
  },
  {
   "cell_type": "markdown",
   "metadata": {},
   "source": [
    "#### Combine reps of the same condition:"
   ]
  },
  {
   "cell_type": "code",
   "execution_count": 11,
   "metadata": {},
   "outputs": [
    {
     "name": "stdout",
     "output_type": "stream",
     "text": [
      "{u'top': [3, 2, 6], u'right': [1, 5, 4]}\n"
     ]
    }
   ],
   "source": [
    "rep_list = [(k, v['stimuli']['stimulus']) for k,v in mwinfo.items()]\n",
    "unique_conditions = np.unique([rep[1] for rep in rep_list])\n",
    "conditions = dict((cond, [int(run) for run,config in rep_list if config==cond]) for cond in unique_conditions)\n",
    "print conditions"
   ]
  },
  {
   "cell_type": "code",
   "execution_count": 16,
   "metadata": {
    "collapsed": true
   },
   "outputs": [],
   "source": [
    "def get_averaged_condition_stack(conditions, tiff_fpaths, RID):\n",
    "    cstack = {}\n",
    "    condition_list = conditions.keys()\n",
    "    curr_cond = 'right'\n",
    "    for curr_cond in condition_list:\n",
    "        curr_tiff_fpaths = [tiff_fpaths[int(i)-1] for i in conditions[curr_cond]]\n",
    "        for tidx, tiff_fpath in enumerate(curr_tiff_fpaths):    \n",
    "            print \"Loading: \", tiff_fpath\n",
    "            tiff_stack = get_processed_stack(tiff_fpath, RID)\n",
    "            szx, szy, nframes = tiff_stack.shape\n",
    "            print szx, szy, nframes\n",
    "            if tidx == 0:\n",
    "                # initiate stack\n",
    "                stack = np.empty(tiff_stack.shape, dtype=tiff_stack.dtype)\n",
    "            stack =  stack + tiff_stack\n",
    "\n",
    "        # Get stack average:\n",
    "        cstack[curr_cond] = stack / len(curr_tiff_fpaths)\n",
    "\n",
    "    return cstack"
   ]
  },
  {
   "cell_type": "code",
   "execution_count": 17,
   "metadata": {
    "scrolled": true
   },
   "outputs": [
    {
     "name": "stdout",
     "output_type": "stream",
     "text": [
      "Loading:  /n/coxfs01/2p-data/CE077/20180523/FOV1_zoom1x/retino_run1/processed/processed001_f7567f/mcorrected_cad896/FOV1_zoom1x_retino_Slice01_Channel01_File003.tif\n",
      "Loading file : /n/coxfs01/2p-data/CE077/20180523/FOV1_zoom1x/retino_run1/processed/processed001_f7567f/mcorrected_cad896/FOV1_zoom1x_retino_Slice01_Channel01_File003.tif\n",
      "(4125, 512, 512)\n",
      "Performing block-reduction on stack....\n",
      "(256, 256)\n",
      "256 256 4125\n",
      "Loading:  /n/coxfs01/2p-data/CE077/20180523/FOV1_zoom1x/retino_run1/processed/processed001_f7567f/mcorrected_cad896/FOV1_zoom1x_retino_Slice01_Channel01_File002.tif\n",
      "Loading file : /n/coxfs01/2p-data/CE077/20180523/FOV1_zoom1x/retino_run1/processed/processed001_f7567f/mcorrected_cad896/FOV1_zoom1x_retino_Slice01_Channel01_File002.tif\n",
      "(4125, 512, 512)\n",
      "Performing block-reduction on stack....\n",
      "(256, 256)\n",
      "256 256 4125\n",
      "Loading:  /n/coxfs01/2p-data/CE077/20180523/FOV1_zoom1x/retino_run1/processed/processed001_f7567f/mcorrected_cad896/FOV1_zoom1x_retino_Slice01_Channel01_File006.tif\n",
      "Loading file : /n/coxfs01/2p-data/CE077/20180523/FOV1_zoom1x/retino_run1/processed/processed001_f7567f/mcorrected_cad896/FOV1_zoom1x_retino_Slice01_Channel01_File006.tif\n",
      "(4125, 512, 512)\n",
      "Performing block-reduction on stack....\n",
      "(256, 256)\n",
      "256 256 4125\n",
      "Loading:  /n/coxfs01/2p-data/CE077/20180523/FOV1_zoom1x/retino_run1/processed/processed001_f7567f/mcorrected_cad896/FOV1_zoom1x_retino_Slice01_Channel01_File001.tif\n",
      "Loading file : /n/coxfs01/2p-data/CE077/20180523/FOV1_zoom1x/retino_run1/processed/processed001_f7567f/mcorrected_cad896/FOV1_zoom1x_retino_Slice01_Channel01_File001.tif\n",
      "(4125, 512, 512)\n",
      "Performing block-reduction on stack....\n",
      "(256, 256)\n",
      "256 256 4125\n",
      "Loading:  /n/coxfs01/2p-data/CE077/20180523/FOV1_zoom1x/retino_run1/processed/processed001_f7567f/mcorrected_cad896/FOV1_zoom1x_retino_Slice01_Channel01_File005.tif\n",
      "Loading file : /n/coxfs01/2p-data/CE077/20180523/FOV1_zoom1x/retino_run1/processed/processed001_f7567f/mcorrected_cad896/FOV1_zoom1x_retino_Slice01_Channel01_File005.tif\n",
      "(4125, 512, 512)\n",
      "Performing block-reduction on stack....\n",
      "(256, 256)\n",
      "256 256 4125\n",
      "Loading:  /n/coxfs01/2p-data/CE077/20180523/FOV1_zoom1x/retino_run1/processed/processed001_f7567f/mcorrected_cad896/FOV1_zoom1x_retino_Slice01_Channel01_File004.tif\n",
      "Loading file : /n/coxfs01/2p-data/CE077/20180523/FOV1_zoom1x/retino_run1/processed/processed001_f7567f/mcorrected_cad896/FOV1_zoom1x_retino_Slice01_Channel01_File004.tif\n",
      "(4125, 512, 512)\n",
      "Performing block-reduction on stack....\n",
      "(256, 256)\n",
      "256 256 4125\n"
     ]
    }
   ],
   "source": [
    "cstack = get_averaged_condition_stack(conditions, tiff_fpaths, RID)"
   ]
  },
  {
   "cell_type": "code",
   "execution_count": null,
   "metadata": {
    "collapsed": true
   },
   "outputs": [],
   "source": []
  },
  {
   "cell_type": "code",
   "execution_count": 28,
   "metadata": {},
   "outputs": [
    {
     "data": {
      "text/plain": [
       "<matplotlib.image.AxesImage at 0x2b280ca50390>"
      ]
     },
     "execution_count": 28,
     "metadata": {},
     "output_type": "execute_result"
    },
    {
     "data": {
      "image/png": "[encoded data removed]",
      "text/plain": [
       "<matplotlib.figure.Figure at 0x2b278b765150>"
      ]
     },
     "metadata": {},
     "output_type": "display_data"
    }
   ],
   "source": [
    "pl.figure(); pl.subplot(1,2,1); pl.imshow(np.mean(cstack['right'], axis=-1));\n",
    "pl.subplot(1,2,2); pl.imshow(np.sum(masks, axis=0))"
   ]
  },
  {
   "cell_type": "markdown",
   "metadata": {},
   "source": [
    "#### Reshape masks and averaged tiff stack, extract ROI traces"
   ]
  },
  {
   "cell_type": "code",
   "execution_count": 29,
   "metadata": {
    "collapsed": true
   },
   "outputs": [],
   "source": [
    "def apply_masks_to_tifs(masks, stack):\n",
    "    szx, szy, nframes = stack.shape\n",
    "    nrois = masks.shape[0]\n",
    "    maskr = np.reshape(masks, (nrois, szx*szy))\n",
    "    stackr = np.reshape(stack, (szx*szy, nframes))\n",
    "    print \"masks:\", maskr.shape\n",
    "    print \"stack:\", stackr.shape\n",
    "    roi_traces = np.dot(maskr, stackr)\n",
    "    return roi_traces"
   ]
  },
  {
   "cell_type": "markdown",
   "metadata": {},
   "source": [
    "#### Block reduce masks to match downsampled tiffs:"
   ]
  },
  {
   "cell_type": "code",
   "execution_count": 30,
   "metadata": {},
   "outputs": [
    {
     "name": "stdout",
     "output_type": "stream",
     "text": [
      "(182, 256, 256)\n"
     ]
    }
   ],
   "source": [
    "masks = block_mean_stack(masks, int(RID['PARAMS']['downsample_factor']), along_axis=0)\n",
    "print masks.shape"
   ]
  },
  {
   "cell_type": "code",
   "execution_count": 31,
   "metadata": {},
   "outputs": [
    {
     "name": "stdout",
     "output_type": "stream",
     "text": [
      "masks: (182, 65536)\n",
      "stack: (65536, 4125)\n",
      "(182, 4125)\n",
      "masks: (182, 65536)\n",
      "stack: (65536, 4125)\n",
      "(182, 4125)\n"
     ]
    }
   ],
   "source": [
    "rtraces = {}\n",
    "for curr_cond in cstack.keys():\n",
    "    roi_traces = apply_masks_to_tifs(masks, cstack[curr_cond])\n",
    "    print roi_traces.shape\n",
    "    rtraces[curr_cond] = roi_traces"
   ]
  },
  {
   "cell_type": "markdown",
   "metadata": {},
   "source": [
    "#### Save roi traces to disk:"
   ]
  },
  {
   "cell_type": "code",
   "execution_count": 33,
   "metadata": {},
   "outputs": [
    {
     "name": "stdout",
     "output_type": "stream",
     "text": [
      "Saved averaged stacks to:\n",
      "/n/coxfs01/2p-data/CE077/20180523/FOV1_zoom1x/retino_run1/retino_analysis/analysis001_4a6393/traces/averaged_roi_traces.pkl\n",
      "\n"
     ]
    }
   ],
   "source": [
    "traces = {'mwinfo': mwinfo,\n",
    "         'conditions': conditions,\n",
    "         'source_tifs': tiff_fpaths,\n",
    "         'RETINOID': RID,\n",
    "          'masks': masks,\n",
    "          'roi_traces': rtraces\n",
    "         }\n",
    "avg_trace_fpath = os.path.join(output_dir, 'averaged_roi_traces.pkl')\n",
    "with open(avg_trace_fpath, 'wb') as f: pkl.dump(traces, f, protocol=pkl.HIGHEST_PROTOCOL)\n",
    "print \"Saved averaged stacks to:\\n%s\\n\" % avg_trace_fpath\n",
    "del retino"
   ]
  },
  {
   "cell_type": "code",
   "execution_count": 34,
   "metadata": {},
   "outputs": [
    {
     "data": {
      "text/plain": [
       "[<matplotlib.lines.Line2D at 0x2b278b075690>]"
      ]
     },
     "execution_count": 34,
     "metadata": {},
     "output_type": "execute_result"
    },
    {
     "data": {
      "image/png": "[encoded data removed]",
      "text/plain": [
       "<matplotlib.figure.Figure at 0x2b278b878d50>"
      ]
     },
     "metadata": {},
     "output_type": "display_data"
    }
   ],
   "source": [
    "pl.figure(); pl.plot(roi_traces[2,:])"
   ]
  },
  {
   "cell_type": "markdown",
   "metadata": {},
   "source": [
    "#### Process extracted ROI traces"
   ]
  },
  {
   "cell_type": "code",
   "execution_count": 37,
   "metadata": {},
   "outputs": [
    {
     "name": "stdout",
     "output_type": "stream",
     "text": [
      "{   'frame_rate': 44.6927, 'n_reps': 3, 'stimfreq': 0.13, 'stimulus': u'top'}\n",
      "Removing rolling mean from traces...\n",
      "Performing temporal smoothing on traces...\n",
      "{   'frame_rate': 44.6927, 'n_reps': 3, 'stimfreq': 0.13, 'stimulus': u'right'}\n",
      "Removing rolling mean from traces...\n",
      "Performing temporal smoothing on traces...\n",
      "Saved averaged stacks to:\n",
      "/n/coxfs01/2p-data/CE077/20180523/FOV1_zoom1x/retino_run1/retino_analysis/analysis001_4a6393/traces/averaged_roi_traces.pkl\n",
      "\n"
     ]
    }
   ],
   "source": [
    "# Smooth roi traces:\n",
    "traceinfo = dict((cond, dict()) for cond in rtraces.keys())\n",
    "for curr_cond in rtraces.keys():\n",
    "    # get some info from paradigm and run file\n",
    "    stack_info = dict()\n",
    "    stack_info['stimulus'] = curr_cond\n",
    "    stack_info['stimfreq'] = np.unique([v['stimuli']['scale'] for k,v in mwinfo.items() if v['stimuli']['stimulus']==curr_cond])[0]\n",
    "    stack_info['frame_rate'] = runinfo['frame_rate']\n",
    "    stack_info['n_reps'] = len(conditions[curr_cond])\n",
    "    pp.pprint(stack_info)\n",
    "\n",
    "    traces = process_array(rtraces[curr_cond], RID, stack_info)\n",
    "    \n",
    "    traceinfo[curr_cond]['traces'] = traces\n",
    "    traceinfo[curr_cond]['info'] = stack_info\n",
    "    \n",
    "traces = {'mwinfo': mwinfo,\n",
    "         'conditions': conditions,\n",
    "         'source_tifs': tiff_fpaths,\n",
    "         'RETINOID': RID,\n",
    "          'masks': masks,\n",
    "          'traces': traceinfo\n",
    "         }\n",
    "avg_trace_fpath = os.path.join(output_dir, 'averaged_roi_traces.pkl')\n",
    "with open(avg_trace_fpath, 'wb') as f: pkl.dump(traces, f, protocol=pkl.HIGHEST_PROTOCOL)\n",
    "print \"Saved averaged stacks to:\\n%s\\n\" % avg_trace_fpath\n",
    "del traces\n"
   ]
  },
  {
   "cell_type": "code",
   "execution_count": 69,
   "metadata": {},
   "outputs": [
    {
     "data": {
      "text/plain": [
       "[<matplotlib.lines.Line2D at 0x7f0effc6d690>]"
      ]
     },
     "execution_count": 69,
     "metadata": {},
     "output_type": "execute_result"
    },
    {
     "data": {
      "image/png": "[encoded data removed]",
      "text/plain": [
       "<matplotlib.figure.Figure at 0x7f0eff59edd0>"
      ]
     },
     "metadata": {},
     "output_type": "display_data"
    }
   ],
   "source": [
    "pl.figure(); pl.plot(traces[2,:])\n"
   ]
  },
  {
   "cell_type": "markdown",
   "metadata": {},
   "source": [
    "#### Average all cycles to fit curve"
   ]
  },
  {
   "cell_type": "code",
   "execution_count": 75,
   "metadata": {
    "collapsed": true
   },
   "outputs": [],
   "source": [
    "frate = runinfo['frame_rate']\n",
    "stimfreq = stack_info['stimfreq']\n",
    "stimperiod = 1.0/stimfreq\n",
    "ncycles = int(round((nframes/frate) / stimperiod))\n",
    "\n",
    "stimframes_start_int= stimperiod*frate\n",
    "stimframes_incl = int(np.floor(stimperiod*frate))\n"
   ]
  },
  {
   "cell_type": "code",
   "execution_count": 76,
   "metadata": {},
   "outputs": [
    {
     "name": "stdout",
     "output_type": "stream",
     "text": [
      "[    0.   344.   688.  1031.  1375.  1719.  2063.  2407.  2750.  3094.\n",
      "  3438.  3782.]\n",
      "[ 344.  344.  343.  344.  344.  344.  344.  343.  344.  344.  344.]\n"
     ]
    }
   ],
   "source": [
    "framestart = np.round(np.arange(0,stimframes_start_int*ncycles,stimframes_start_int))\n",
    "print(framestart)\n",
    "print(np.diff(framestart))"
   ]
  },
  {
   "cell_type": "code",
   "execution_count": 95,
   "metadata": {},
   "outputs": [
    {
     "name": "stdout",
     "output_type": "stream",
     "text": [
      "[   0  344  688 1031 1375 1719 2063 2407 2750 3094 3438 3782]\n"
     ]
    }
   ],
   "source": [
    "curr_roi = 1\n",
    "ncycles = int(round((nframes/frate) / stimperiod))\n",
    "framestart = framestart.astype('int')\n",
    "print(framestart)\n",
    "parsed_traces = np.zeros((ncycles,stimframes_incl))\n",
    "for cycle in range(0,ncycles):\n",
    "    parsed_traces[cycle,:]=traces[curr_roi,framestart[cycle]:framestart[cycle]+stimframes_incl]\n",
    "\n",
    "    "
   ]
  },
  {
   "cell_type": "code",
   "execution_count": 96,
   "metadata": {},
   "outputs": [
    {
     "data": {
      "text/plain": [
       "[<matplotlib.lines.Line2D at 0x7f0f02857cd0>]"
      ]
     },
     "execution_count": 96,
     "metadata": {},
     "output_type": "execute_result"
    },
    {
     "data": {
      "image/png": "[encoded data removed]",
      "text/plain": [
       "<matplotlib.figure.Figure at 0x7f0f0287e450>"
      ]
     },
     "metadata": {},
     "output_type": "display_data"
    }
   ],
   "source": [
    "pl.figure()\n",
    "for i in range(0,6):\n",
    "    plt.plot(parsed_traces[i,:], 'k', linewidth=1, alpha=0.5)\n",
    "pl.plot(np.mean(parsed_traces, axis=0), 'k', linewidth=2)"
   ]
  },
  {
   "cell_type": "code",
   "execution_count": 176,
   "metadata": {},
   "outputs": [
    {
     "name": "stdout",
     "output_type": "stream",
     "text": [
      "44.59\n"
     ]
    }
   ],
   "source": [
    "nframes_per_cycle = parsed_traces.shape[-1]\n",
    "cycles_per_degree = stack_info['stimfreq']\n",
    "\n",
    "frames_per_cycle = nframes_per_cycle * cycles_per_degree\n",
    "print frames_per_cycle"
   ]
  },
  {
   "cell_type": "code",
   "execution_count": 177,
   "metadata": {},
   "outputs": [
    {
     "data": {
      "text/plain": [
       "(182, 4125)"
      ]
     },
     "execution_count": 177,
     "metadata": {},
     "output_type": "execute_result"
    }
   ],
   "source": [
    "roi_traces.shape"
   ]
  },
  {
   "cell_type": "markdown",
   "metadata": {},
   "source": [
    "### Fit gaussian to average response to cycle:"
   ]
  },
  {
   "cell_type": "code",
   "execution_count": null,
   "metadata": {
    "collapsed": true
   },
   "outputs": [],
   "source": [
    "from scipy.optimize import curve_fit\n",
    "\n",
    "def func(x, sigmag, mu, alpha, c,a):\n",
    "    #normal distribution\n",
    "    normpdf = (1/(sigmag*np.sqrt(2*math.pi)))*np.exp(-(np.power((x-mu),2)/(2*np.power(sigmag,2))))\n",
    "    normcdf = (0.5*(1+sp.erf((alpha*((x-mu)/sigmag))/(np.sqrt(2)))))\n",
    "    return 2*a*normpdf*normcdf + c\n",
    "\n",
    "def gaus(x,a,x0,sigma):\n",
    "    return a*np.exp(-(x-x0)**2/(2*sigma**2))\n"
   ]
  },
  {
   "cell_type": "code",
   "execution_count": 218,
   "metadata": {},
   "outputs": [
    {
     "name": "stdout",
     "output_type": "stream",
     "text": [
      "[   0  344  688 1031 1375 1719 2063 2407 2750 3094 3438 3782]\n",
      "[ 782.51686888  321.16491465   12.15992602]\n",
      "0.5332633424\n",
      "(296, 342)\n",
      "62\n",
      "62\n"
     ]
    },
    {
     "data": {
      "text/plain": [
       "Text(0.5,1,u'roi000061')"
      ]
     },
     "execution_count": 218,
     "metadata": {},
     "output_type": "execute_result"
    },
    {
     "data": {
      "image/png": "[encoded data removed]",
      "text/plain": [
       "<matplotlib.figure.Figure at 0x7f0efe6bae10>"
      ]
     },
     "metadata": {},
     "output_type": "display_data"
    }
   ],
   "source": [
    "fitness_threshold = 0.5\n",
    "size_threshold = 0.1 #0.1\n",
    "\n",
    "\n",
    "curr_roi = 60\n",
    "\n",
    "\n",
    "ncycles = int(round((nframes/frate) / stimperiod))\n",
    "framestart = framestart.astype('int')\n",
    "print(framestart)\n",
    "parsed_traces = np.zeros((ncycles,stimframes_incl))\n",
    "for cycle in range(0,ncycles):\n",
    "    parsed_traces[cycle,:]=traces[curr_roi,framestart[cycle]:framestart[cycle]+stimframes_incl]\n",
    "\n",
    "\n",
    "y0 = np.mean(parsed_traces, axis=0)\n",
    "\n",
    "x0 = np.arange(0,y0.size)\n",
    "y2 = y0 #- y0.min()\n",
    "\n",
    "try:\n",
    "    #popt, pcov = curve_fit(gaus, x0, y2)\n",
    "    center_start = np.argmax(y2)-(np.argmax(y2)/1)\n",
    "    center_end = np.argmax(y2)+(np.argmax(y2)/1)*2\n",
    "    if center_start < 0:\n",
    "        center_start = 0\n",
    "    if center_end > len(y2):\n",
    "        center_end = len(y2)\n",
    "    centered = y2[np.arange(center_start, center_end)]\n",
    "    popt, pcov = curve_fit(gaus, x0, y2, p0=(y2[np.argmax(y2)], np.argmax(y2), 1))\n",
    "                          \n",
    "    y_fit = gaus(x0,*popt)\n",
    "#     plt.plot(x0,y2,'b+:', label='data')\n",
    "#     plt.plot(x0,y_fit,'ro:', label='fit')\n",
    "#     plt.legend()\n",
    "    print(popt)\n",
    "\n",
    "    ss_res = np.sum((y2 - y_fit)**2)\n",
    "    ss_tot = np.sum((y2-np.mean(y2))**2)\n",
    "    r_squared = 1 - (ss_res / ss_tot)\n",
    "    print(r_squared)\n",
    "except RuntimeError:\n",
    "    print(\"Error - curve_fit failed\")\n",
    "\n",
    "# fitness_threshold = 0.5\n",
    "# size_threshold = 0.1 #0.1\n",
    "if r_squared>fitness_threshold:\n",
    "    fit_norm = y_fit/np.max(y_fit)\n",
    "\n",
    "    border_start = np.where(fit_norm>=size_threshold)[0]\n",
    "    if len(border_start)==0:\n",
    "        border_start = 0\n",
    "    else:\n",
    "        border_start = border_start[0]\n",
    "    border_end = np.where(fit_norm[border_start:]<=size_threshold)[0]\n",
    "    if len(border_end) == 0:\n",
    "        border_end = len(fit_norm)-1\n",
    "    else:\n",
    "        border_end = border_end[0]\n",
    "    #rf_size_frames = border_end\n",
    "    print(border_start, border_end) #rf_size_frames)\n",
    "\n",
    "    # extrapolate around peak, in case edge:\n",
    "    peak = np.argmax(y2)\n",
    "    tail2 = border_end - peak\n",
    "    tail1 = peak - border_start\n",
    "    if tail1 < tail2:\n",
    "        border_edge1 = peak - tail2\n",
    "        border_edge2 = peak + tail2\n",
    "    elif tail2 < tail1:\n",
    "        border_edge2 = peak + tail1\n",
    "        border_edge1 = peak - tail1\n",
    "    else:\n",
    "        border_edge1 = peak - tail1\n",
    "        border_edge2 = peak + tail2\n",
    "\n",
    "    rf_size_frames = border_edge2 - border_edge1\n",
    "    print rf_size_frames\n",
    "else:\n",
    "    rf_size_frames = 0\n",
    "\n",
    "print rf_size_frames\n",
    "\n",
    "\n",
    "plt.plot(y2[0:], 'b+', label='data')\n",
    "\n",
    "plt.plot(y_fit[0:], 'r', label='fit')\n",
    "pl.plot(np.arange(border_start, border_end), y_fit[np.arange(border_start, border_end)], \n",
    "                'k--', linewidth=2, label='FW')\n",
    "pl.legend()\n",
    "pl.title('roi%06d' % (curr_roi+1))"
   ]
  },
  {
   "cell_type": "code",
   "execution_count": 217,
   "metadata": {
    "collapsed": true
   },
   "outputs": [],
   "source": [
    "# TODO: Check that found peak matches PHASE based on fft..."
   ]
  },
  {
   "cell_type": "code",
   "execution_count": null,
   "metadata": {
    "collapsed": true
   },
   "outputs": [],
   "source": []
  },
  {
   "cell_type": "code",
   "execution_count": null,
   "metadata": {
    "collapsed": true
   },
   "outputs": [],
   "source": []
  },
  {
   "cell_type": "code",
   "execution_count": null,
   "metadata": {
    "collapsed": true
   },
   "outputs": [],
   "source": []
  },
  {
   "cell_type": "code",
   "execution_count": 138,
   "metadata": {
    "collapsed": true
   },
   "outputs": [],
   "source": [
    "def gaus(x,a,x0,sigma):\n",
    "    return a*np.exp(-(x-x0)**2/(2*sigma**2))"
   ]
  },
  {
   "cell_type": "code",
   "execution_count": 175,
   "metadata": {},
   "outputs": [
    {
     "name": "stdout",
     "output_type": "stream",
     "text": [
      "0\n",
      "Error - curve_fit failed\n",
      "1\n",
      "Error - curve_fit failed\n",
      "2\n",
      "3\n",
      "Error - curve_fit failed\n",
      "4\n",
      "5\n",
      "6\n",
      "7\n",
      "Error - curve_fit failed\n",
      "8\n",
      "9\n",
      "10\n",
      "11\n",
      "Error - curve_fit failed\n"
     ]
    }
   ],
   "source": [
    "cycle_mean = np.zeros((ncycles,))\n",
    "cycle_sigma = np.zeros((ncycles,))\n",
    "cycle_size = np.zeros((ncycles,))\n",
    "cycle_gof = np.zeros((ncycles,))\n",
    "for cycle in range(ncycles):\n",
    "    print(cycle)\n",
    "\n",
    "    y0 = parsed_traces[cycle,:]\n",
    "\n",
    "    x0 = np.arange(0,y0.size)\n",
    "    y1 = y0 - y0.min()\n",
    "    try:\n",
    "\n",
    "        popt, pcov = curve_fit(gaus, x0, y1)\n",
    "\n",
    "        y_fit = gaus(x0,*popt)\n",
    "\n",
    "        ss_res = np.sum((y1 - y_fit)**2)\n",
    "        ss_tot = np.sum((y1-np.mean(y1))**2)\n",
    "        r_squared = 1 - (ss_res / ss_tot)\n",
    "        cycle_gof[cycle] = r_squared\n",
    "\n",
    "        if r_squared>.75:\n",
    "            #record gaussian values\n",
    "            cycle_mean[cycle] = popt[1]\n",
    "            cycle_sigma[cycle] = popt[2]\n",
    "\n",
    "            #find width of gaussian at 10% of max\n",
    "            x1 = np.arange(-y0.size,y0.size*2)\n",
    "            y_fit = gaus(x1,*popt)\n",
    "            fit_norm = y_fit/np.max(y_fit)\n",
    "            border_start = np.where(fit_norm>.1)[0][0]\n",
    "            border_end = np.where(fit_norm[border_start:]<.1)[0][0]\n",
    "            rf_size_frames = border_end\n",
    "            cycle_size[cycle] = rf_size_frames\n",
    "        else:\n",
    "            #if fit is sub-par populate with NaNs\n",
    "            cycle_mean[cycle] = np.nan\n",
    "            cycle_sigma[cycle] = np.nan\n",
    "            cycle_size[cycle] = np.nan\n",
    "    except RuntimeError:\n",
    "        #if fit is sub-par populate with NaNs\n",
    "        cycle_mean[cycle] = np.nan\n",
    "        cycle_sigma[cycle] = np.nan\n",
    "        cycle_size[cycle] = np.nan\n",
    "        cycle_gof[cycle] = np.nan\n",
    "        print(\"Error - curve_fit failed\")"
   ]
  },
  {
   "cell_type": "code",
   "execution_count": 176,
   "metadata": {},
   "outputs": [
    {
     "name": "stdout",
     "output_type": "stream",
     "text": [
      "[ nan  nan  nan  nan  nan  nan  nan  nan  nan  nan  nan  nan]\n",
      "[ nan  nan  nan  nan  nan  nan  nan  nan  nan  nan  nan  nan]\n",
      "[        nan         nan  0.34218432         nan  0.68814021  0.15111795\n",
      "  0.38575737         nan  0.32562475  0.43638453  0.31413129         nan]\n"
     ]
    }
   ],
   "source": [
    "print(cycle_sigma)\n",
    "print(cycle_size)\n",
    "print(cycle_gof)"
   ]
  },
  {
   "cell_type": "code",
   "execution_count": null,
   "metadata": {
    "collapsed": true
   },
   "outputs": [],
   "source": [
    "print('here')"
   ]
  },
  {
   "cell_type": "code",
   "execution_count": null,
   "metadata": {
    "collapsed": true
   },
   "outputs": [],
   "source": []
  },
  {
   "cell_type": "code",
   "execution_count": null,
   "metadata": {
    "collapsed": true
   },
   "outputs": [],
   "source": [
    "#VISUALIZE!!!\n",
    "print('Visualizing results')\n",
    "print('Output folder: %s'%(tiff_fig_dir))\n",
    "#visualize pixel-based results\n",
    "if RETINOID['PARAMS']['roi_type'] == 'pixels':\n",
    "\n",
    "    fig_name = 'best_pixel_power_%s.png' %(tiff_fn[:-4])\n",
    "    fig=plt.figure()\n",
    "    plt.plot(freqs,mag_data[max_mod_idx,:])\n",
    "    plt.xlabel('Frequency (Hz)',fontsize=16)\n",
    "    plt.ylabel('Magnitude',fontsize=16)\n",
    "    axes = plt.gca()\n",
    "    ymin, ymax = axes.get_ylim()\n",
    "    plt.axvline(x=freqs[freq_idx], ymin=ymin, ymax = ymax, linewidth=1, color='r')\n",
    "    plt.savefig(os.path.join(tiff_fig_dir,fig_name))\n",
    "    plt.close()\n",
    "\n",
    "    fig_name = 'best_pixel_power_zoom_%s.png' %(tiff_fn[:-4])\n",
    "    fig=plt.figure()\n",
    "    plt.plot(freqs[0:top_freq_idx],mag_data[max_mod_idx,0:top_freq_idx])\n",
    "    plt.xlabel('Frequency (Hz)',fontsize=16)\n",
    "    plt.ylabel('Magnitude',fontsize=16)\n",
    "    axes = plt.gca()\n",
    "    ymin, ymax = axes.get_ylim()\n",
    "    plt.axvline(x=freqs[freq_idx], ymin=ymin, ymax = ymax, linewidth=1, color='r')\n",
    "    plt.savefig(os.path.join(tiff_fig_dir,fig_name))\n",
    "    plt.close()\n",
    "\n",
    "    stimperiod_t=np.true_divide(1,stimfreq)\n",
    "    stimperiod_frames=stimperiod_t*frame_rate\n",
    "    periodstartframes=np.round(np.arange(0,len(frametimes),stimperiod_frames))[:-1]\n",
    "    periodstartframes = periodstartframes.astype('int')\n",
    "\n",
    "    fig_name = 'best_pixel_frequency_fit_%s.png' %(tiff_fn[:-4])\n",
    "    fig=plt.figure()\n",
    "    plt.plot(frametimes,roi_trace[max_mod_idx,:],'b')\n",
    "    plt.plot(frametimes,signal_fit,'r')\n",
    "    plt.xlabel('Time (s)',fontsize=16)\n",
    "    plt.ylabel('Pixel Value',fontsize=16)\n",
    "    axes = plt.gca()\n",
    "    ymin, ymax = axes.get_ylim()\n",
    "    for f in periodstartframes:\n",
    "        plt.axvline(x=frametimes[f], ymin=ymin, ymax = ymax, linewidth=1, color='k')\n",
    "    axes.set_xlim([frametimes[0],frametimes[-1]])\n",
    "    plt.savefig(os.path.join(tiff_fig_dir,fig_name))\n",
    "    plt.close()\n",
    "\n",
    "\n",
    "    mag_map = np.reshape(mag_array,(szy,szx))\n",
    "    mag_ratio_map = np.reshape(mag_ratio_array,(szy,szx))\n",
    "    phase_map = np.reshape(phase_array,(szy,szx))\n",
    "    beta_map = np.reshape(beta_array,(szy,szx))\n",
    "    varexp_map = np.reshape(varexp_array,(szy,szx))\n",
    "\n",
    "\n",
    "    fig_name = 'phase_map_%s.png' %(tiff_fn[:-4])\n",
    "    #set phase map range for visualization\n",
    "    phase_map_disp=np.copy(phase_map)\n",
    "    phase_map_disp[phase_map<0]=-phase_map[phase_map<0]\n",
    "    phase_map_disp[phase_map>0]=(2*np.pi)-phase_map[phase_map>0]\n",
    "\n",
    "    fig=plt.figure()\n",
    "    plt.imshow(phase_map_disp,'nipy_spectral',vmin=0,vmax=2*np.pi)\n",
    "    plt.colorbar()\n",
    "    plt.savefig(os.path.join(tiff_fig_dir,fig_name))\n",
    "    plt.close()\n",
    "\n",
    "    fig_name = 'mag_map_%s.png' %(tiff_fn[:-4])\n",
    "    fig=plt.figure()\n",
    "    plt.imshow(mag_map)\n",
    "    plt.colorbar()\n",
    "    plt.savefig(os.path.join(tiff_fig_dir,fig_name))\n",
    "    plt.close()\n",
    "\n",
    "    fig_name = 'mag_ratio_map_%s.png' %(tiff_fn[:-4])\n",
    "    fig=plt.figure()\n",
    "    plt.imshow(mag_ratio_map)\n",
    "    plt.colorbar()\n",
    "    plt.savefig(os.path.join(tiff_fig_dir,fig_name))\n",
    "    plt.close()\n",
    "\n",
    "    fig_name = 'beta_map_%s.png' %(tiff_fn[:-4])\n",
    "    fig=plt.figure()\n",
    "    plt.imshow(beta_map)\n",
    "    plt.colorbar()\n",
    "    plt.savefig(os.path.join(tiff_fig_dir,fig_name))\n",
    "    plt.close()\n",
    "\n",
    "    fig_name = 'var_exp_map_%s.png' %(tiff_fn[:-4])\n",
    "    fig=plt.figure()\n",
    "    plt.imshow(varexp_map)\n",
    "    plt.colorbar()\n",
    "    plt.savefig(os.path.join(tiff_fig_dir,fig_name))\n",
    "    plt.close()\n",
    "\n",
    "    # #Read in average image (for viuslization)\n",
    "    avg_dir = os.path.join('%s_mean_slices'%(str(RETINOID['SRC'])),'visible')\n",
    "    s0 = tiff_fn[:-4]\n",
    "    s1 = s0[s0.find('Slice'):]\n",
    "\n",
    "    avg_fn = 'vis_mean_%s.tif'%(s1)\n",
    "\n",
    "    im0 = tf.imread(os.path.join(avg_dir, avg_fn))\n",
    "    if RETINOID['PARAMS']['downsample_factor'] is not None:\n",
    "        ds = int(RETINOID['PARAMS']['downsample_factor'])\n",
    "        im0 = block_mean(im0,ds)\n",
    "    im1 = np.uint8(np.true_divide(im0,np.max(im0))*255)\n",
    "    im2 = np.dstack((im1,im1,im1))\n",
    "\n",
    "    fig_name = 'phase_map_overlay_%s.png' %(tiff_fn[:-4])\n",
    "\n",
    "\n",
    "    fig=plt.figure()\n",
    "    plt.imshow(im2,'gray')\n",
    "    plt.imshow(phase_map_disp,'nipy_spectral',alpha=0.25,vmin=0,vmax=2*np.pi)\n",
    "    plt.colorbar()\n",
    "    plt.savefig(os.path.join(tiff_fig_dir,fig_name))\n",
    "    plt.close()\n",
    "else:"
   ]
  },
  {
   "cell_type": "code",
   "execution_count": null,
   "metadata": {
    "collapsed": true
   },
   "outputs": [],
   "source": [
    "#make figure directory for stimulus type\n",
    "fig_dir = os.path.join(tiff_fig_dir, file_str,'spectrum')\n",
    "if not os.path.exists(fig_dir):\n",
    "        os.makedirs(fig_dir)\n",
    "\n",
    "for midx in range(nmasks):\n",
    "    fig_name = 'full_spectrum_mask%04d_%s.png' %(midx+1,RETINOID['PARAMS']['roi_type'])\n",
    "    fig=plt.figure()\n",
    "    plt.plot(freqs,mag_data[midx,:])\n",
    "    plt.xlabel('Frequency (Hz)',fontsize=16)\n",
    "    plt.ylabel('Magnitude',fontsize=16)\n",
    "    axes = plt.gca()\n",
    "    ymin, ymax = axes.get_ylim()\n",
    "    plt.axvline(x=freqs[freq_idx], ymin=ymin, ymax = ymax, linewidth=1, color='r')\n",
    "    plt.savefig(os.path.join(fig_dir,fig_name))\n",
    "    plt.close()\n",
    "\n",
    "for midx in range(nmasks):\n",
    "    fig_name = 'zoom_spectrum_mask%04d_%s.png' %(midx+1,RETINOID['PARAMS']['roi_type'])\n",
    "    fig=plt.figure()\n",
    "    plt.plot(freqs[0:top_freq_idx],mag_data[midx,0:top_freq_idx])\n",
    "    plt.xlabel('Frequency (Hz)',fontsize=16)\n",
    "    plt.ylabel('Magnitude',fontsize=16)\n",
    "    axes = plt.gca()\n",
    "    ymin, ymax = axes.get_ylim()\n",
    "    plt.axvline(x=freqs[freq_idx], ymin=ymin, ymax = ymax, linewidth=1, color='r')\n",
    "    plt.savefig(os.path.join(fig_dir,fig_name))\n",
    "    plt.close()\n",
    "\n",
    "\n",
    "fig_dir = os.path.join(tiff_fig_dir, file_str,'timecourse')\n",
    "if not os.path.exists(fig_dir):\n",
    "        os.makedirs(fig_dir)\n",
    "\n",
    "stimperiod_t=np.true_divide(1,stimfreq)\n",
    "stimperiod_frames=stimperiod_t*frame_rate\n",
    "periodstartframes=np.round(np.arange(0,len(frametimes),stimperiod_frames))[:-1]\n",
    "periodstartframes = periodstartframes.astype('int')\n",
    "\n",
    "for midx in range(nmasks):\n",
    "    fig_name = 'timecourse_fit_mask%04d_%s.png' %(midx+1,RETINOID['PARAMS']['roi_type'])\n",
    "    fig=plt.figure()\n",
    "    plt.plot(frametimes,roi_trace[midx,:],'b')\n",
    "    plt.plot(frametimes,signal_fit[midx,:],'r')\n",
    "    plt.xlabel('Time (s)',fontsize=16)\n",
    "    plt.ylabel('Pixel Value',fontsize=16)\n",
    "    axes = plt.gca()\n",
    "    ymin, ymax = axes.get_ylim()\n",
    "    for f in periodstartframes:\n",
    "        plt.axvline(x=frametimes[f], ymin=ymin, ymax = ymax, linewidth=1, color='k')\n",
    "    axes.set_xlim([frametimes[0],frametimes[-1]])\n",
    "    plt.savefig(os.path.join(fig_dir,fig_name))\n",
    "    plt.close()\n",
    "\n",
    "#set phase map range for visualization\n",
    "phase_array_disp=np.copy(phase_array)\n",
    "phase_array_disp[phase_array<0]=-phase_array[phase_array<0]\n",
    "phase_array_disp[phase_array>0]=(2*np.pi)-phase_array[phase_array>0]\n",
    "\n",
    "#mark rois\n",
    "magratio_roi = np.empty((szy,szx))\n",
    "magratio_roi[:] = np.NAN\n",
    "\n",
    "mag_roi = np.copy(magratio_roi)\n",
    "varexp_roi = np.copy(magratio_roi)\n",
    "phase_roi = np.copy(magratio_roi)\n",
    "\n",
    "for midx in range(nmasks):\n",
    "    maskpix = np.where(np.squeeze(masks[midx,:,:]))\n",
    "    print(len(maskpix))\n",
    "    magratio_roi[maskpix]=mag_ratio_array[midx]\n",
    "    mag_roi[maskpix]=mag_array[midx]\n",
    "    varexp_roi[maskpix]=varexp_array[midx]\n",
    "    phase_roi[maskpix]=phase_array_disp[midx]\n",
    "\n",
    "fig_dir = tiff_fig_dir"
   ]
  },
  {
   "cell_type": "code",
   "execution_count": null,
   "metadata": {
    "collapsed": true
   },
   "outputs": [],
   "source": [
    "plt.imshow(mag_roi)"
   ]
  },
  {
   "cell_type": "code",
   "execution_count": null,
   "metadata": {
    "collapsed": true
   },
   "outputs": [],
   "source": []
  },
  {
   "cell_type": "code",
   "execution_count": null,
   "metadata": {
    "collapsed": true
   },
   "outputs": [],
   "source": [
    "    # #Read in average image (for viuslization)\n",
    "    avg_dir = os.path.join('%s_mean_slices'%(str(RETINOID['SRC'])),'visible')\n",
    "    s0 = tiff_fn[:-4]\n",
    "    s1 = s0[s0.find('Slice'):]\n",
    "\n",
    "    avg_fn = 'vis_mean_%s.tif'%(s1)\n",
    "\n",
    "    im0 = tf.imread(os.path.join(avg_dir, avg_fn))\n",
    "    if RETINOID['PARAMS']['downsample_factor'] is not None:\n",
    "        ds = int(RETINOID['PARAMS']['downsample_factor'])\n",
    "        im0 = block_mean(im0,ds)\n",
    "    im1 = np.uint8(np.true_divide(im0,np.max(im0))*255)\n",
    "    im2 = np.dstack((im1,im1,im1))\n",
    "\n",
    "    fig_name = 'phase_info_%s.png' %(tiff_fn[:-4])\n",
    "    fig=plt.figure()\n",
    "    plt.imshow(im2,'gray')\n",
    "    plt.imshow(phase_roi,'nipy_spectral',alpha = 0.5,vmin=0,vmax=2*np.pi)\n",
    "    plt.colorbar()\n",
    "    plt.savefig(os.path.join(fig_dir,fig_name))\n",
    "    plt.close()\n",
    "\n",
    "    fig_name = 'mag_info_%s.png' %(tiff_fn[:-4])\n",
    "    fig=plt.figure()\n",
    "    plt.imshow(im2,'gray')\n",
    "    plt.imshow(mag_roi, alpha = 0.5)\n",
    "    plt.colorbar()\n",
    "    plt.savefig(os.path.join(fig_dir,fig_name))\n",
    "    plt.close()\n",
    "\n",
    "    fig_name = 'mag_ratio_info_%s.png' %(tiff_fn[:-4])\n",
    "    fig=plt.figure()\n",
    "    plt.imshow(im2,'gray')\n",
    "    plt.imshow(magratio_roi, alpha = 0.5)\n",
    "    plt.colorbar()\n",
    "    plt.savefig(os.path.join(fig_dir,fig_name))\n",
    "    plt.close()\n",
    "\n",
    "    fig_name = 'varexp_info_%s.png' %(tiff_fn[:-4])\n",
    "    fig=plt.figure()\n",
    "    plt.imshow(im2,'gray')\n",
    "    plt.imshow(varexp_roi, alpha = 0.5)\n",
    "    plt.colorbar()\n",
    "    plt.savefig(os.path.join(fig_dir,fig_name))\n",
    "    plt.close()\n",
    "\n",
    "    fig_name = 'phase_nice_%s.png' %(tiff_fn[:-4])\n",
    "    dpi = 80\n",
    "    szY,szX = im1.shape\n",
    "    # What size does the figure need to be in inches to fit the image?\n",
    "    figsize = szX / float(dpi), szY / float(dpi)\n",
    "    # Create a figure of the right size with one axes that takes up the full figure\n",
    "    fig = plt.figure(figsize=figsize)\n",
    "    ax = fig.add_axes([0, 0, 1, 1])\n",
    "    # Hide spines, ticks, etc.\n",
    "    ax.axis('off')\n",
    "    ax.imshow(im2,'gray')\n",
    "    ax.imshow(phase_roi,'nipy_spectral',alpha = 0.5,vmin=0,vmax=2*np.pi)\n",
    "    fig.savefig(os.path.join(fig_dir,fig_name), dpi=dpi, transparent=True)\n",
    "    plt.close()\n",
    "\n",
    "    fig_dir = os.path.join(tiff_fig_dir,'histos')\n",
    "    if not os.path.exists(fig_dir):\n",
    "            os.makedirs(fig_dir)\n",
    "\n",
    "    if np.max(mag_ratio_array)>np.min(mag_ratio_array):\n",
    "        fig_fn = 'roi_mag_ratio%s.png'%(tiff_fn[:-4])\n",
    "        bin_loc = np.arange(0,np.max(mag_ratio_array)+.002,.002)\n",
    "        plt.hist(mag_ratio_array,bin_loc)\n",
    "        plt.xlabel('Magnitude Ratio')\n",
    "        plt.ylabel('ROI Count')\n",
    "        plt.savefig(os.path.join(fig_dir,fig_fn))\n",
    "        plt.close()\n",
    "\n",
    "    if np.max(phase_array)>np.min(phase_array):\n",
    "        fig_fn = 'roi_phase%s.png'%(tiff_fn[:-4])\n",
    "        bin_loc = np.arange(0,(2*np.pi)+.2,.2)\n",
    "        plt.hist(phase_array,bin_loc)\n",
    "        plt.xlabel('Phase')\n",
    "        plt.ylabel('ROI Count')\n",
    "        plt.savefig(os.path.join(fig_dir,fig_fn))\n",
    "        plt.close()\n",
    "\n",
    "    if np.max(varexp_array)>np.min(varexp_array):\n",
    "        fig_fn = 'roi_varexp%s.png'%(tiff_fn[:-4])\n",
    "        bin_loc = np.arange(0,np.max(varexp_array)+.01,.01)\n",
    "        plt.hist(varexp_array,bin_loc)\n",
    "        plt.xlabel('Variance Explained')\n",
    "        plt.ylabel('ROI')\n",
    "        plt.savefig(os.path.join(fig_dir,fig_fn))\n",
    "        plt.close()"
   ]
  },
  {
   "cell_type": "code",
   "execution_count": null,
   "metadata": {
    "collapsed": true
   },
   "outputs": [],
   "source": []
  },
  {
   "cell_type": "code",
   "execution_count": null,
   "metadata": {
    "collapsed": true
   },
   "outputs": [],
   "source": []
  },
  {
   "cell_type": "code",
   "execution_count": null,
   "metadata": {
    "collapsed": true
   },
   "outputs": [],
   "source": [
    "print(masks.shape)"
   ]
  },
  {
   "cell_type": "code",
   "execution_count": null,
   "metadata": {
    "collapsed": true
   },
   "outputs": [],
   "source": [
    "plt.imshow(np.squeeze(masks[0,:,:]))\n",
    "plt.colorbar()"
   ]
  },
  {
   "cell_type": "code",
   "execution_count": null,
   "metadata": {
    "collapsed": true
   },
   "outputs": [],
   "source": [
    "print(phase_data.shape,roi_trace.shape,frametimes.shape)"
   ]
  },
  {
   "cell_type": "code",
   "execution_count": null,
   "metadata": {
    "collapsed": true
   },
   "outputs": [],
   "source": []
  },
  {
   "cell_type": "code",
   "execution_count": null,
   "metadata": {
    "collapsed": true
   },
   "outputs": [],
   "source": []
  },
  {
   "cell_type": "code",
   "execution_count": null,
   "metadata": {
    "collapsed": true,
    "scrolled": true
   },
   "outputs": [],
   "source": [
    "# #\n",
    "# #doing regression to get amplitude and variance expained\n",
    "# t=frametimes*(2*np.pi)*stimfreq\n",
    "# t=np.transpose(np.expand_dims(t,1))\n",
    "# tmatrix=np.tile(t,(phase_data.shape[0],1))\n",
    "\n",
    "# phi=np.expand_dims(phase_array,1)\n",
    "# phimatrix=np.tile(phi,(1,roi_trace.shape[1]))\n",
    "# Xmatrix=np.cos(tmatrix+phimatrix)\n",
    "\n",
    "# beta_array=np.zeros((roi_trace.shape[0]))\n",
    "# varexp_array=np.zeros((roi_trace.shape[0]))\n",
    "# signal_fit=np.zeros((roi_trace.shape))\n",
    "\n",
    "# for midx in range(roi_trace.shape[0]):\n",
    "#     x=np.expand_dims(Xmatrix[midx,:],1)\n",
    "#     y=roi_trace[midx,:]\n",
    "#     beta=np.matmul(np.linalg.pinv(x),y)\n",
    "#     beta_array[midx]=beta\n",
    "#     yHat=x*beta\n",
    "#     if midx == max_mod_idx:\n",
    "#         signal_fit=np.squeeze(yHat)\n",
    "#     SSreg=np.sum((yHat-np.mean(y,0))**2)\n",
    "#     SStotal=np.sum((y-np.mean(y,0))**2)\n",
    "#     varexp_array[midx]=SSreg/SStotal\n",
    "\n",
    "\n",
    "\n",
    "print('Saving data to file')\n",
    "\n",
    "#save data values to structure\n",
    "if 'mag_array' not in file_grp.keys():\n",
    "    magset = file_grp.create_dataset('mag_array',mag_array.shape, mag_array.dtype)\n",
    "magset[...] = mag_array\n",
    "if 'phase_array' not in file_grp.keys():\n",
    "    phaseset = file_grp.create_dataset('phase_array',phase_array.shape, phase_array.dtype)\n",
    "phaseset[...] = phase_array\n",
    "if 'mag_ratio_array' not in file_grp.keys():\n",
    "    ratioset = file_grp.create_dataset('mag_ratio_array',mag_ratio_array.shape, mag_ratio_array.dtype)\n",
    "ratioset[...] = mag_ratio_array\n",
    "if 'beta_array' not in file_grp.keys():\n",
    "    betaset = file_grp.create_dataset('beta_array',beta_array.shape, beta_array.dtype)\n",
    "betaset[...] = beta_array\n",
    "if 'var_exp_array' not in file_grp.keys():\n",
    "    varset = file_grp.create_dataset('var_exp_array',varexp_array.shape, varexp_array.dtype)\n",
    "varset[...] = varexp_array\n",
    "\n",
    "file_grp.close()\n",
    "#     retinostruct['data']=dict()\n",
    "#     retinostruct['data']['mag_array']=mag_array\n",
    "#     retinostruct['data']['magratio_array']=mag_ratio_array\n",
    "#     retinostruct['data']['phase_array']=phase_array\n",
    "#     retinostruct['data']['beta_array']=beta_array\n",
    "#     retinostruct['data']['varexp_array']=varexp_array\n",
    "\n",
    "#     data_fn = 'retinostruct_%s.pkl' %(tiff_fn[:-4])\n",
    "#     pickle_out = open(os.path.join(file_dir,data_fn),\"wb\")\n",
    "#     pickle.dump(retinostruct, pickle_out)\n",
    "#     pickle_out.close()\n",
    "\n",
    "\n",
    "\n",
    "\n",
    "#visualize pixel-based results\n",
    "if RETINOID['PARAMS']['roi_type'] == 'pixels':\n",
    "    mag_map = np.reshape(mag_array,(szy,szx))\n",
    "    mag_ratio_map = np.reshape(mag_ratio_array,(szy,szx))\n",
    "    phase_map = np.reshape(phase_array,(szy,szx))\n",
    "    beta_map = np.reshape(beta_array,(szy,szx))\n",
    "    varexp_map = np.reshape(varexp_array,(szy,szx))\n",
    "\n",
    "\n",
    "    fig_name = 'phase_map_%s.png' %(tiff_fn[:-4])\n",
    "    #set phase map range for visualization\n",
    "    phase_map_disp=np.copy(phase_map)\n",
    "    phase_map_disp[phase_map<0]=-phase_map[phase_map<0]\n",
    "    phase_map_disp[phase_map>0]=(2*np.pi)-phase_map[phase_map>0]\n",
    "\n",
    "    fig=plt.figure()\n",
    "    plt.imshow(phase_map_disp,'nipy_spectral',vmin=0,vmax=2*np.pi)\n",
    "    plt.colorbar()\n",
    "    plt.savefig(os.path.join(fig_dir,fig_name))\n",
    "    plt.close()\n",
    "\n",
    "    fig_name = 'mag_map_%s.png' %(tiff_fn[:-4])\n",
    "    fig=plt.figure()\n",
    "    plt.imshow(mag_map)\n",
    "    plt.colorbar()\n",
    "    plt.savefig(os.path.join(fig_dir,fig_name))\n",
    "    plt.close()\n",
    "\n",
    "    fig_name = 'mag_ratio_map_%s.png' %(tiff_fn[:-4])\n",
    "    fig=plt.figure()\n",
    "    plt.imshow(mag_ratio_map)\n",
    "    plt.colorbar()\n",
    "    plt.savefig(os.path.join(fig_dir,fig_name))\n",
    "    plt.close()\n",
    "\n",
    "    fig_name = 'beta_map_%s.png' %(tiff_fn[:-4])\n",
    "    fig=plt.figure()\n",
    "    plt.imshow(beta_map)\n",
    "    plt.colorbar()\n",
    "    plt.savefig(os.path.join(fig_dir,fig_name))\n",
    "    plt.close()\n",
    "\n",
    "    fig_name = 'var_exp_map_%s.png' %(tiff_fn[:-4])\n",
    "    fig=plt.figure()\n",
    "    plt.imshow(varexp_map)\n",
    "    plt.colorbar()\n",
    "    plt.savefig(os.path.join(fig_dir,fig_name))\n",
    "    plt.close()\n",
    "\n",
    "    # #Read in average image (for viuslization)\n",
    "    avg_dir = os.path.join('%s_mean_slices'%(str(RETINOID['SRC'])),'visible')\n",
    "    s0 = tiff_fn[:-4]\n",
    "    s1 = s0[s0.find('Slice'):]\n",
    "\n",
    "    avg_fn = 'vis_mean_%s.tif'%(s1)\n",
    "\n",
    "    im0 = tf.imread(os.path.join(avg_dir, avg_fn))\n",
    "    if RETINOID['PARAMS']['downsample_factor'] is not None:\n",
    "        ds = int(RETINOID['PARAMS']['downsample_factor'])\n",
    "        im0 = block_mean(im0,ds)\n",
    "    im1 = np.uint8(np.true_divide(im0,np.max(im0))*255)\n",
    "    im2 = np.dstack((im1,im1,im1))\n",
    "\n",
    "    fig_name = 'phase_map_overlay_%s.png' %(tiff_fn[:-4])\n",
    "\n",
    "\n",
    "    fig=plt.figure()\n",
    "    plt.imshow(im2,'gray')\n",
    "    plt.imshow(phase_map_disp,'nipy_spectral',alpha=0.25,vmin=0,vmax=2*np.pi)\n",
    "    plt.colorbar()\n",
    "    plt.savefig(os.path.join(fig_dir,fig_name))\n",
    "    plt.close()\n"
   ]
  },
  {
   "cell_type": "code",
   "execution_count": null,
   "metadata": {
    "collapsed": true
   },
   "outputs": [],
   "source": [
    "print(periodstartframes)"
   ]
  },
  {
   "cell_type": "code",
   "execution_count": null,
   "metadata": {
    "collapsed": true
   },
   "outputs": [],
   "source": [
    "\n",
    "# imdir = os.path.join(ref_data['data_dir'][analysisid],'Averaged_Slices_%s'\\\n",
    "#              %(ref_data['average_source'][analysisid]),'Channel%02d'%(signal_channel),\n",
    "#              'File%03d'%(fidx+1))\n",
    "# imfile = 'average_Slice%02d_Channel%02d_File%03d.tif'%(slidx+1, signal_channel, fidx+1)\n",
    "\n",
    "# retinostruct['data'][fidx]['average_image_path']=os.path.join(imdir,imfile)"
   ]
  },
  {
   "cell_type": "code",
   "execution_count": null,
   "metadata": {
    "collapsed": true
   },
   "outputs": [],
   "source": [
    "#spatial smoothing, if indicated\n",
    "#reshape\n",
    "\n",
    "\n",
    "\n"
   ]
  },
  {
   "cell_type": "code",
   "execution_count": null,
   "metadata": {
    "collapsed": true
   },
   "outputs": [],
   "source": [
    "#save magnitude, magnitude ratio, phase arrays"
   ]
  }
 ],
 "metadata": {
  "anaconda-cloud": {},
  "kernelspec": {
   "display_name": "Python 2",
   "language": "python",
   "name": "python2"
  },
  "language_info": {
   "codemirror_mode": {
    "name": "ipython",
    "version": 2
   },
   "file_extension": ".py",
   "mimetype": "text/x-python",
   "name": "python",
   "nbconvert_exporter": "python",
   "pygments_lexer": "ipython2",
   "version": "2.7.13"
  }
 },
 "nbformat": 4,
 "nbformat_minor": 1
}
