{
 "cells": [
  {
   "cell_type": "code",
   "execution_count": 81,
   "metadata": {
    "collapsed": true
   },
   "outputs": [],
   "source": [
    "import os\n",
    "import json\n",
    "import re\n",
    "import scipy.io as spio\n",
    "import numpy as np\n",
    "from bokeh.plotting import figure\n",
    "import tifffile as tf\n",
    "import seaborn as sns\n",
    "# %matplotlib notebook\n",
    "from matplotlib import gridspec\n",
    "from mpl_toolkits.axes_grid1 import make_axes_locatable\n",
    "import matplotlib.pyplot as plt\n",
    "import skimage.color\n",
    "from json_tricks.np import dump, dumps, load, loads\n",
    "from mat2py import loadmat\n",
    "from skimage import color\n",
    "import cPickle as pkl\n",
    "\n",
    "def atoi(text):\n",
    "    return int(text) if text.isdigit() else text\n",
    "\n",
    "def natural_keys(text):\n",
    "    return [ atoi(c) for c in re.split('(\\d+)', text) ]"
   ]
  },
  {
   "cell_type": "code",
   "execution_count": 82,
   "metadata": {
    "collapsed": true
   },
   "outputs": [],
   "source": [
    "# import optparse\n",
    "\n",
    "# parser = optparse.OptionParser()\n",
    "# parser.add_option('-S', '--source', action='store', dest='source', default='/nas/volume1/2photon/projects', help='source dir (root project dir containing all expts) [default: /nas/volume1/2photon/projects]')\n",
    "# parser.add_option('-E', '--experiment', action='store', dest='experiment', default='', help='experiment type (parent of session dir)') \n",
    "# parser.add_option('-s', '--session', action='store', dest='session', default='', help='session dir (format: YYYMMDD_ANIMALID') \n",
    "# parser.add_option('-A', '--acq', action='store', dest='acquisition', default='', help=\"acquisition folder (ex: 'FOV1_zoom3x')\")\n",
    "# parser.add_option('-f', '--functional', action='store', dest='functional_dir', default='functional', help=\"folder containing functional TIFFs. [default: 'functional']\")\n",
    "\n",
    "# parser.add_option('-O', '--stimon', action=\"store\",\n",
    "#                   dest=\"stim_on_sec\", default='', help=\"Time (s) stimulus ON.\")\n",
    "# parser.add_option('-i', '--iti', action=\"store\",\n",
    "#                   dest=\"iti_pre\", default=1., help=\"Time (s) before stim onset to use as basline [default=1].\")\n",
    "# parser.add_option('-z', '--slice', action=\"store\",\n",
    "#                   dest=\"sliceidx\", default=0, help=\"Slice index to look at (0-index) [default: 0]\")\n",
    "\n",
    "# parser.add_option('--custom', action=\"store_true\",\n",
    "#                   dest=\"custom_mw\", default=False, help=\"Not using MW (custom params must be specified)\")\n",
    "# parser.add_option('-g', '--gap', action=\"store\",\n",
    "#                   dest=\"gap\", default=400, help=\"num frames to separate subplots [default: 400]\")\n",
    "\n",
    "# (options, args) = parser.parse_args() \n",
    "\n",
    "\n",
    "# source = options.source #'/nas/volume1/2photon/projects'\n",
    "# experiment = options.experiment #'scenes' #'gratings_phaseMod' #'retino_bar' #'gratings_phaseMod'\n",
    "# session = options.session #'20171003_JW016' #'20170927_CE059' #'20170902_CE054' #'20170825_CE055'\n",
    "# acquisition = options.acquisition #'FOV1' #'FOV1_zoom3x' #'FOV1_zoom3x_run2' #'FOV1_planar'\n",
    "# functional_dir = options.functional_dir #'functional' #'functional_subset'\n",
    "\n",
    "# stim_on_sec = float(options.stim_on_sec) #2. # 0.5\n",
    "# iti_pre = float(options.iti_pre)\n",
    "\n",
    "# custom_mw = options.custom_mw\n",
    "# spacing = int(options.gap)\n",
    "# curr_slice_idx = options.sliceidx"
   ]
  },
  {
   "cell_type": "code",
   "execution_count": 83,
   "metadata": {
    "collapsed": true
   },
   "outputs": [],
   "source": [
    "source = '/nas/volume1/2photon/projects'\n",
    "experiment = 'gratings_phaseMod'\n",
    "session = '20171009_CE059'\n",
    "acquisition = 'FOV1_zoom3x'\n",
    "functional_dir = 'functional'\n",
    "\n",
    "curr_file_idx = 6\n",
    "curr_slice_idx = 0 #1 #20\n",
    "custom_mw = False\n",
    "\n",
    "# source = '/nas/volume1/2photon/projects'\n",
    "# experiment = 'scenes'\n",
    "# session = '20171003_JW016'\n",
    "# acquisition = 'FOV1'\n",
    "# functional_dir = 'functional'\n",
    "# \n",
    "# curr_file_idx = 2\n",
    "# curr_slice_idx = 20\n",
    "curr_roi_method = 'blobs_DoG'\n",
    "plot_traces = True #False\n"
   ]
  },
  {
   "cell_type": "code",
   "execution_count": 84,
   "metadata": {
    "collapsed": true
   },
   "outputs": [],
   "source": [
    "acquisition_dir = os.path.join(source, experiment, session, acquisition)\n",
    "figdir = os.path.join(acquisition_dir, 'example_figures')\n",
    "\n",
    "# Create ROI dir in figures:\n",
    "figbase = 'example_figures'\n",
    "figdir = os.path.join(acquisition_dir, figbase, 'rois')\n",
    "if not os.path.exists(figdir):\n",
    "    os.mkdirs(figdir)\n",
    "    \n",
    "# Load reference info:\n",
    "ref_json = 'reference_%s.json' % functional_dir \n",
    "with open(os.path.join(acquisition_dir, ref_json), 'r') as fr:\n",
    "    ref = json.load(fr)\n",
    "    \n",
    "# Load SI meta data:\n",
    "si_basepath = ref['raw_simeta_path'][0:-4]\n",
    "simeta_json_path = '%s.json' % si_basepath\n",
    "with open(simeta_json_path, 'r') as fs:\n",
    "    simeta = json.load(fs)\n"
   ]
  },
  {
   "cell_type": "code",
   "execution_count": 85,
   "metadata": {},
   "outputs": [
    {
     "name": "stdout",
     "output_type": "stream",
     "text": [
      "Loading masks: Slice01...\n",
      "SLICE NAMES: ['Slice01']\n"
     ]
    }
   ],
   "source": [
    "# Get masks for each slice: \n",
    "roi_methods_dir = os.path.join(acquisition_dir, 'ROIs')\n",
    "roiparams = loadmat(os.path.join(roi_methods_dir, curr_roi_method, 'roiparams.mat'))\n",
    "maskpaths = roiparams['roiparams']['maskpaths']\n",
    "if not isinstance(maskpaths, list):\n",
    "    maskpaths = [maskpaths]\n",
    "\n",
    "masks = dict((\"Slice%02d\" % int(slice_idx+1), dict()) for slice_idx in range(len(maskpaths)))\n",
    "for slice_idx,maskpath in enumerate(sorted(maskpaths, key=natural_keys)):\n",
    "    slice_name = \"Slice%02d\" % int(slice_idx+1)\n",
    "    print \"Loading masks: %s...\" % slice_name \n",
    "    currmasks = loadmat(maskpath); currmasks = currmasks['masks']\n",
    "    masks[slice_name]['nrois'] =  currmasks.shape[2]\n",
    "    masks[slice_name]['masks'] = currmasks\n",
    "\n",
    "slice_names = sorted(masks.keys(), key=natural_keys)\n",
    "print \"SLICE NAMES:\", slice_names\n",
    "curr_slice_name = slice_names[curr_slice_idx]\n"
   ]
  },
  {
   "cell_type": "code",
   "execution_count": 86,
   "metadata": {
    "collapsed": true
   },
   "outputs": [],
   "source": [
    "# # Get FILE list:\n",
    "# average_source = 'Averaged_Slices_Corrected'\n",
    "# signal_channel = 1\n",
    "# average_slice_dir = os.path.join(acquisition_dir, functional_dir, 'DATA', average_source, \"Channel{:02d}\".format(signal_channel))\n",
    "# file_names = [f for f in os.listdir(average_slice_dir) if '_vis' not in f]\n",
    "# print \"File names:\", file_names\n",
    "# nfiles = len(file_names)"
   ]
  },
  {
   "cell_type": "code",
   "execution_count": 87,
   "metadata": {},
   "outputs": [
    {
     "data": {
      "text/plain": [
       "['File001',\n",
       " 'File003',\n",
       " 'File002',\n",
       " 'File005',\n",
       " 'File004',\n",
       " 'File007',\n",
       " 'File006',\n",
       " 'File009',\n",
       " 'File008',\n",
       " 'File010']"
      ]
     },
     "execution_count": 87,
     "metadata": {},
     "output_type": "execute_result"
    }
   ],
   "source": [
    "# Get PARADIGM INFO:\n",
    "path_to_functional = os.path.join(acquisition_dir, functional_dir)\n",
    "paradigm_dir = 'paradigm_files'\n",
    "path_to_paradigm_files = os.path.join(path_to_functional, paradigm_dir)\n",
    "path_to_trace_structs = os.path.join(acquisition_dir, 'Traces', curr_roi_method, 'Parsed')\n",
    "\n",
    "### LOad trial info dict:\n",
    "with open(os.path.join(path_to_paradigm_files, 'parsed_trials.pkl'), 'rb') as f:\n",
    "    trialdict = pkl.load(f)\n",
    "trialdict.keys()"
   ]
  },
  {
   "cell_type": "code",
   "execution_count": 88,
   "metadata": {},
   "outputs": [
    {
     "name": "stdout",
     "output_type": "stream",
     "text": [
      "Loading parsed traces...\n"
     ]
    }
   ],
   "source": [
    "# Load stim trace structs:\n",
    "print \"Loading parsed traces...\"\n",
    "stimtrace_fns = os.listdir(path_to_trace_structs)\n",
    "stimtrace_fns = sorted([f for f in stimtrace_fns if 'stimtraces' in f and f.endswith('.pkl')], key=natural_keys)\n",
    "stimtrace_fn = stimtrace_fns[curr_slice_idx]\n",
    "with open(os.path.join(path_to_trace_structs, stimtrace_fn), 'rb') as f:\n",
    "    stimtraces = pkl.load(f)"
   ]
  },
  {
   "cell_type": "code",
   "execution_count": 89,
   "metadata": {
    "collapsed": true
   },
   "outputs": [],
   "source": [
    "stimlist = sorted(stimtraces.keys(), key=natural_keys)\n",
    "nstimuli = len(stimlist)\n",
    "nrois = stimtraces[stimlist[0]]['nrois']"
   ]
  },
  {
   "cell_type": "code",
   "execution_count": 90,
   "metadata": {},
   "outputs": [
    {
     "name": "stdout",
     "output_type": "stream",
     "text": [
      "89.4054\n",
      "45.0\n"
     ]
    }
   ],
   "source": [
    "currfile='File001'\n",
    "stim_on_sec = 2.\n",
    "iti = 1. #4.\n",
    "nframes = int(simeta[currfile]['SI']['hFastZ']['numVolumes'])\n",
    "framerate = float(simeta[currfile]['SI']['hRoiManager']['scanFrameRate'])\n",
    "volumerate = float(simeta[currfile]['SI']['hRoiManager']['scanVolumeRate'])\n",
    "frames_tsecs = np.arange(0, nframes)*(1/volumerate)\n",
    "\n",
    "nframes_on = stim_on_sec * volumerate\n",
    "#nframes_off = vols_per_trial - nframes_on\n",
    "frames_iti = round(iti * volumerate) \n",
    "print nframes_on\n",
    "print frames_iti"
   ]
  },
  {
   "cell_type": "code",
   "execution_count": 91,
   "metadata": {
    "collapsed": true
   },
   "outputs": [],
   "source": [
    "\n",
    "color_by_roi = True\n",
    "\n",
    "spacing = 25\n",
    "cmaptype = 'rainbow'\n",
    "colormap = plt.get_cmap(cmaptype)\n",
    "\n",
    "if color_by_roi:\n",
    "    colorvals = colormap(np.linspace(0, 1, nrois)) #get_spaced_colors(nrois)\n",
    "else:\n",
    "    colorvals = colormap(np.linspace(0, 1, nstimuli)) #get_spaced_colors(nstimuli)\n",
    "\n",
    "colorvals255 = [c[0:-1]*255 for c in colorvals]\n",
    "#colorvals = np.true_divide(colorvals255, 255.)\n",
    "#print len(colorvals255)\n",
    "roi_interval = 10\n",
    "\n",
    "#plot_rois = np.arange(0, nrois, roi_interval) #int(nrois/2)\n",
    "plot_rois = [1]"
   ]
  },
  {
   "cell_type": "code",
   "execution_count": 92,
   "metadata": {},
   "outputs": [
    {
     "data": {
      "text/plain": [
       "[u'grating-ori-0-sf-0.100000',\n",
       " u'grating-ori-0-sf-0.500000',\n",
       " u'grating-ori-30-sf-0.100000',\n",
       " u'grating-ori-30-sf-0.500000',\n",
       " u'grating-ori-60-sf-0.100000',\n",
       " u'grating-ori-60-sf-0.500000',\n",
       " u'grating-ori-90-sf-0.100000',\n",
       " u'grating-ori-90-sf-0.500000',\n",
       " u'grating-ori-120-sf-0.100000',\n",
       " u'grating-ori-120-sf-0.500000',\n",
       " u'grating-ori-150-sf-0.100000',\n",
       " u'grating-ori-150-sf-0.500000']"
      ]
     },
     "execution_count": 92,
     "metadata": {},
     "output_type": "execute_result"
    }
   ],
   "source": [
    "stimlist\n",
    "stimnames = [stimtraces[stim]['name'] for stim in stimlist]\n",
    "stimnames"
   ]
  },
  {
   "cell_type": "code",
   "execution_count": 93,
   "metadata": {},
   "outputs": [
    {
     "name": "stdout",
     "output_type": "stream",
     "text": [
      "STIM | ori - sf\n",
      "1 0 0.100000\n",
      "2 0 0.500000\n",
      "3 30 0.100000\n",
      "4 30 0.500000\n",
      "5 60 0.100000\n",
      "6 60 0.500000\n",
      "7 90 0.100000\n",
      "8 90 0.500000\n",
      "9 120 0.100000\n",
      "10 120 0.500000\n",
      "11 150 0.100000\n",
      "12 150 0.500000\n"
     ]
    }
   ],
   "source": [
    "stiminfo = dict()\n",
    "print \"STIM | ori - sf\"\n",
    "for stim in stimlist: #sorted(stimtraces.keys(), key=natural_keys):\n",
    "    \n",
    "    ori = stimtraces[stim]['name'].split('-')[2]\n",
    "    sf = stimtraces[stim]['name'].split('-')[4]\n",
    "    stiminfo[stim] = (int(ori), float(sf))\n",
    "    print stim, ori, sf"
   ]
  },
  {
   "cell_type": "code",
   "execution_count": 107,
   "metadata": {
    "collapsed": true
   },
   "outputs": [],
   "source": [
    "oris = sorted(list(set([stiminfo[stim][0] for stim in stimlist])))\n",
    "sfs = sorted(list(set([stiminfo[stim][1] for stim in stimlist])))\n",
    "noris = len(set(oris))\n",
    "nsfs = len(set(sfs))"
   ]
  },
  {
   "cell_type": "code",
   "execution_count": 108,
   "metadata": {},
   "outputs": [
    {
     "data": {
      "text/plain": [
       "{'1': (0, 0.1),\n",
       " '10': (120, 0.5),\n",
       " '11': (150, 0.1),\n",
       " '12': (150, 0.5),\n",
       " '2': (0, 0.5),\n",
       " '3': (30, 0.1),\n",
       " '4': (30, 0.5),\n",
       " '5': (60, 0.1),\n",
       " '6': (60, 0.5),\n",
       " '7': (90, 0.1),\n",
       " '8': (90, 0.5),\n",
       " '9': (120, 0.1)}"
      ]
     },
     "execution_count": 108,
     "metadata": {},
     "output_type": "execute_result"
    }
   ],
   "source": [
    "stiminfo"
   ]
  },
  {
   "cell_type": "code",
   "execution_count": 109,
   "metadata": {
    "scrolled": false
   },
   "outputs": [
    {
     "name": "stdout",
     "output_type": "stream",
     "text": [
      "[0]\n",
      "[ 6  7  8  9 10 11]\n"
     ]
    },
    {
     "data": {
      "image/png": "[encoded data removed]",
      "text/plain": [
       "<matplotlib.figure.Figure at 0x7fb378dd8590>"
      ]
     },
     "metadata": {},
     "output_type": "display_data"
    }
   ],
   "source": [
    "print plot_rois\n",
    "plot_rois = [0]\n",
    "\n",
    "\n",
    "even_idxs = np.arange(noris, noris*2)\n",
    "print even_idxs\n",
    "for ridx, roi in enumerate(plot_rois):\n",
    "\n",
    "    fig = plt.figure(figsize=(noris, noris))\n",
    "    gs = gridspec.GridSpec(nsfs, noris)\n",
    "    gs.update(wspace=.01, hspace=.01)\n",
    "    \n",
    "    rowidx= 0\n",
    "    plotidx = 0\n",
    "    for stimidx, stim in enumerate(stimlist):\n",
    "    #for sf in range(nsfs):\n",
    "        ori = stiminfo[stim][0]\n",
    "        sf = stiminfo[stim][1]\n",
    "        \n",
    "\n",
    "        if np.mod(stimidx,2)==0:\n",
    "            plt.subplot(gs[stimidx/2])\n",
    "            bottomrow = False\n",
    "        else: \n",
    "            plt.subplot(gs[even_idxs[rowidx]])\n",
    "            bottomrow = True\n",
    "            rowidx += 1\n",
    "            \n",
    "        ntrialstmp = len(stimtraces[stim]['traces'])\n",
    "        nframestmp = min([stimtraces[stim]['traces'][i].shape[0] for i in range(len(stimtraces[stim]['traces']))])\n",
    "        raw = np.zeros((ntrialstmp, nframestmp))\n",
    "        for trialnum in range(ntrialstmp):\n",
    "            raw[trialnum, :] = stimtraces[stim]['traces'][trialnum][0:nframestmp, roi].T\n",
    "\n",
    "        xvals = np.arange(0, raw.shape[1])\n",
    "\n",
    "        ntrials = raw.shape[0]\n",
    "        nframes_in_trial = raw.shape[1]\n",
    "        curr_dfs = np.empty((ntrials, nframes_in_trial))\n",
    "        for trial in range(ntrials):\n",
    "            if custom_mw is True:\n",
    "                frame_on = stimtraces[stim]['frames_stim_on'][trial][0]\n",
    "            else:\n",
    "                #frame_on = int(frames_iti)+1 #stimtraces[stim]['frames_stim_on'][trial][0]\n",
    "                frame_on = stimtraces[stim]['frames'][trial].index(stimtraces[stim]['frames_stim_on'][trial][0])\n",
    "\n",
    "            baseline = np.mean(raw[trial, 0:frame_on])\n",
    "            df = (raw[trial,:] - baseline) / baseline\n",
    "            curr_dfs[trial,:] = df\n",
    "\n",
    "            if color_by_roi:\n",
    "                plt.plot(xvals, df, color=colorvals[roi], alpha=.7, linewidth=0.2)\n",
    "            else:\n",
    "                plt.plot(xvals, df, color=colorvals[stimnum], alpha=1, linewidth=0.2)\n",
    "\n",
    "        # Plot stimulus ON period:\n",
    "        if custom_mw is True:\n",
    "            stim_frames = xvals[0] + stimtraces[stim]['frames_stim_on'][trial] #frames_stim_on[stim][trial]\n",
    "        else:\n",
    "            on_fr_idx = stimtraces[stim]['frames'][trial].index(stimtraces[stim]['frames_stim_on'][trial][0])\n",
    "            nframes_on = (stimtraces[stim]['frames_stim_on'][trial][1] - stimtraces[stim]['frames_stim_on'][trial][0] + 1)\n",
    "            off_fr_idx = on_fr_idx + nframes_on - 1\n",
    "            stim_frames = [on_fr_idx, off_fr_idx]\n",
    "\n",
    "        plt.plot(stim_frames, np.ones((2,))*-0.5, color='k')\n",
    "        plt.ylim([-1, 4])\n",
    "        \n",
    "        # Plot average:\n",
    "        avg = np.mean(curr_dfs, axis=0) \n",
    "        if color_by_roi:\n",
    "            plt.plot(xvals, avg, color=colorvals[roi], alpha=1, linewidth=1.2)\n",
    "        else:\n",
    "            plt.plot(xvals, avg, color=colorvals[stimnum], alpha=1, linewidth=1.2)\n",
    "\n",
    "        # Format subplots:\n",
    "        if plotidx==0:\n",
    "            plt.axis('off')\n",
    "            ax = plt.gca()\n",
    "            ax.text(-1,0.5, sfs[0], size=12, ha=\"center\", rotation=90, transform=ax.transAxes)\n",
    "        elif plotidx==nsfs-1:\n",
    "            plt.yticks([0, 1])\n",
    "            sns.despine(bottom=True, trim=True, offset=5)\n",
    "            ax = plt.gca()\n",
    "            ax.text(-1,0.5, sfs[1], size=12, ha=\"center\", rotation=90, transform=ax.transAxes)\n",
    "            ax.axes.get_xaxis().set_visible(False)\n",
    "            ax.axes.get_xaxis().set_ticks([])\n",
    "        else:\n",
    "            plt.axis('off')\n",
    "        \n",
    "        if bottomrow is True:\n",
    "            ax = plt.gca()\n",
    "            ax.text(.5,-0.2, oris[rowidx-1], size=12, ha=\"center\", rotation=0, transform=ax.transAxes)\n",
    "           \n",
    "        ptitle = \"%2.0f., %0.2f\" % (float(stiminfo[stim][0]), float(stiminfo[stim][1]))\n",
    "\n",
    "        plotidx += 1\n",
    "\n",
    "    plt.subplots_adjust(top=1)\n",
    "    plt.suptitle('ROI: %i' % ridx)\n",
    "    \n",
    "    figname = 'stimgrid_roi%i.png' % int(ridx+1)\n",
    "    #plt.savefig(os.path.join(figdir, figname), bbox_inches='tight', pad=0)\n",
    "\n",
    "    plt.show()"
   ]
  },
  {
   "cell_type": "code",
   "execution_count": null,
   "metadata": {
    "collapsed": true
   },
   "outputs": [],
   "source": []
  },
  {
   "cell_type": "code",
   "execution_count": null,
   "metadata": {
    "collapsed": true
   },
   "outputs": [],
   "source": []
  }
 ],
 "metadata": {
  "kernelspec": {
   "display_name": "Python 2",
   "language": "python",
   "name": "python2"
  },
  "language_info": {
   "codemirror_mode": {
    "name": "ipython",
    "version": 2
   },
   "file_extension": ".py",
   "mimetype": "text/x-python",
   "name": "python",
   "nbconvert_exporter": "python",
   "pygments_lexer": "ipython2",
   "version": "2.7.13"
  }
 },
 "nbformat": 4,
 "nbformat_minor": 2
}
