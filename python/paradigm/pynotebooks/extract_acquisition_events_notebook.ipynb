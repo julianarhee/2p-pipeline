{
 "cells": [
  {
   "cell_type": "code",
   "execution_count": 1,
   "metadata": {
    "collapsed": true
   },
   "outputs": [],
   "source": [
    "import os\n",
    "import json\n",
    "import re\n",
    "import scipy.io as spio\n",
    "import numpy as np\n",
    "from json_tricks.np import dump, dumps, load, loads\n",
    "import pandas as pd\n",
    "import pymworks\n",
    "import cPickle as pkl\n",
    "from collections import Counter\n",
    "\n",
    "def atoi(text):\n",
    "    return int(text) if text.isdigit() else text\n",
    "\n",
    "def natural_keys(text):\n",
    "    return [ atoi(c) for c in re.split('(\\d+)', text) ]"
   ]
  },
  {
   "cell_type": "code",
   "execution_count": 2,
   "metadata": {
    "collapsed": true
   },
   "outputs": [],
   "source": [
    "source = '/nas/volume1/2photon/projects'\n",
    "experiment = 'scenes' #'retino_bar' #'gratings_phaseMod'\n",
    "session = '20171025_CE062' #'20170902_CE054' #'20170825_CE055'\n",
    "acquisition = 'FOV1' #'FOV1_zoom3x_run2' #'FOV1_planar'\n",
    "functional_dir = 'functional'\n",
    "acquisition_dir = os.path.join(source, experiment, session, acquisition)\n"
   ]
  },
  {
   "cell_type": "code",
   "execution_count": 3,
   "metadata": {
    "collapsed": true
   },
   "outputs": [],
   "source": [
    "# Load reference info:\n",
    "ref_json = 'reference_%s.json' % functional_dir \n",
    "with open(os.path.join(acquisition_dir, ref_json), 'r') as fr:\n",
    "    ref = json.load(fr)\n",
    "\n",
    "# Load SI meta data:\n",
    "si_basepath = ref['raw_simeta_path'][0:-4]\n",
    "simeta_json_path = '%s.json' % si_basepath\n",
    "with open(simeta_json_path, 'r') as fs:\n",
    "    simeta = json.load(fs)\n",
    "\n",
    "file_names = sorted([k for k in simeta.keys() if 'File' in k], key=natural_keys)\n",
    "nfiles = len(file_names)\n"
   ]
  },
  {
   "cell_type": "code",
   "execution_count": 16,
   "metadata": {},
   "outputs": [
    {
     "name": "stdout",
     "output_type": "stream",
     "text": [
      "Found 20 serial-data files, and 020 TIFFs.\n",
      "Found 20 MW files, and 20 ARD files.\n"
     ]
    }
   ],
   "source": [
    "# Get PARADIGM INFO:\n",
    "path_to_functional = os.path.join(acquisition_dir, functional_dir)\n",
    "paradigm_dir = 'paradigm_files'\n",
    "path_to_paradigm_files = os.path.join(path_to_functional, paradigm_dir)\n",
    "path_to_raw = os.path.join(path_to_paradigm_files, 'raw')\n",
    "\n",
    "# Get SERIAL data:\n",
    "serialdata_fns = os.listdir(path_to_raw)\n",
    "serialdata_fns = sorted([f for f in serialdata_fns if 'serial_data' in f], key=natural_keys)\n",
    "print \"Found %02d serial-data files, and %03d TIFFs.\" % (len(serialdata_fns), nfiles)\n",
    "\n",
    "# Load MW info:\n",
    "pydict_jsons = os.listdir(path_to_paradigm_files)\n",
    "pydict_jsons = sorted([p for p in pydict_jsons if p.endswith('.json') and 'trial_info' in p], key=natural_keys)\n",
    "print \"Found %02d MW files, and %02d ARD files.\" % (len(pydict_jsons), len(serialdata_fns))"
   ]
  },
  {
   "cell_type": "code",
   "execution_count": 17,
   "metadata": {},
   "outputs": [
    {
     "data": {
      "text/plain": [
       "['20171025_CE062_FOV1_zoom1x_scenes_file002_serial_data_20171025203112624127.txt',\n",
       " '20171025_CE062_FOV1_zoom1x_scenes_file003_serial_data_20171025203603174189.txt',\n",
       " '20171025_CE062_FOV1_zoom1x_scenes_file004_serial_data_20171025203848663808.txt',\n",
       " '20171025_CE062_FOV1_zoom1x_scenes_file005_serial_data_20171025210128614621.txt',\n",
       " '20171025_CE062_FOV1_zoom1x_scenes_file006_serial_data_20171025210407312220.txt',\n",
       " '20171025_CE062_FOV1_zoom1x_scenes_file007_serial_data_20171025210650143888.txt',\n",
       " '20171025_CE062_FOV1_zoom1x_scenes_file009_serial_data_20171025211402581426.txt',\n",
       " '20171025_CE062_FOV1_zoom1x_scenes_file012_serial_data_20171025212606524437.txt',\n",
       " '20171025_CE062_FOV1_zoom1x_scenes_file013_serial_data_20171025212845255427.txt',\n",
       " '20171025_CE062_FOV1_zoom1x_scenes_file014_serial_data_20171025213121624107.txt',\n",
       " '20171025_CE062_FOV1_zoom1x_scenes_file015_serial_data_20171025213352708094.txt',\n",
       " '20171025_CE062_FOV1_zoom1x_scenes_file016_serial_data_20171025213629956272.txt',\n",
       " '20171025_CE062_FOV1_zoom1x_scenes_file018_serial_data_20171025214352929963.txt',\n",
       " '20171025_CE062_FOV1_zoom1x_scenes_file019_serial_data_20171025214657591140.txt',\n",
       " '20171025_CE062_FOV1_zoom1x_scenes_file020_serial_data_20171025214940130224.txt',\n",
       " '20171025_CE062_FOV1_zoom1x_scenes_file021_serial_data_20171025215216853707.txt',\n",
       " '20171025_CE062_FOV1_zoom1x_scenes_file022_serial_data_20171025215500812521.txt',\n",
       " '20171025_CE062_FOV1_zoom1x_scenes_file024_serial_data_20171025220349995811.txt',\n",
       " '20171025_CE062_FOV1_zoom1x_scenes_file025_serial_data_20171025220631546312.txt',\n",
       " '20171025_CE062_FOV1_zoom1x_scenes_file026_serial_data_20171025220910524689.txt']"
      ]
     },
     "execution_count": 17,
     "metadata": {},
     "output_type": "execute_result"
    }
   ],
   "source": [
    "serialdata_fns"
   ]
  },
  {
   "cell_type": "code",
   "execution_count": 18,
   "metadata": {},
   "outputs": [
    {
     "data": {
      "text/plain": [
       "['trial_info_20171025_CE062_FOV1_zoom1x_scene_file002.json',\n",
       " 'trial_info_20171025_CE062_FOV1_zoom1x_scene_file003.json',\n",
       " 'trial_info_20171025_CE062_FOV1_zoom1x_scene_file004.json',\n",
       " 'trial_info_20171025_CE062_FOV1_zoom1x_scene_file005.json',\n",
       " 'trial_info_20171025_CE062_FOV1_zoom1x_scene_file006.json',\n",
       " 'trial_info_20171025_CE062_FOV1_zoom1x_scene_file007.json',\n",
       " 'trial_info_20171025_CE062_FOV1_zoom1x_scene_file009.json',\n",
       " 'trial_info_20171025_CE062_FOV1_zoom1x_scene_file012.json',\n",
       " 'trial_info_20171025_CE062_FOV1_zoom1x_scene_file013.json',\n",
       " 'trial_info_20171025_CE062_FOV1_zoom1x_scene_file014.json',\n",
       " 'trial_info_20171025_CE062_FOV1_zoom1x_scene_file015.json',\n",
       " 'trial_info_20171025_CE062_FOV1_zoom1x_scene_file016.json',\n",
       " 'trial_info_20171025_CE062_FOV1_zoom1x_scene_file018.json',\n",
       " 'trial_info_20171025_CE062_FOV1_zoom1x_scene_file019.json',\n",
       " 'trial_info_20171025_CE062_FOV1_zoom1x_scene_file020.json',\n",
       " 'trial_info_20171025_CE062_FOV1_zoom1x_scene_file021.json',\n",
       " 'trial_info_20171025_CE062_FOV1_zoom1x_scene_file022.json',\n",
       " 'trial_info_20171025_CE062_FOV1_zoom1x_scene_file024.json',\n",
       " 'trial_info_20171025_CE062_FOV1_zoom1x_scene_file025.json',\n",
       " 'trial_info_20171025_CE062_FOV1_zoom1x_scene_file026.json']"
      ]
     },
     "execution_count": 18,
     "metadata": {},
     "output_type": "execute_result"
    }
   ],
   "source": [
    "pydict_jsons"
   ]
  },
  {
   "cell_type": "code",
   "execution_count": 126,
   "metadata": {},
   "outputs": [
    {
     "name": "stdout",
     "output_type": "stream",
     "text": [
      "20171025_CE062_FOV1_zoom1x_scenes_file007_serial_data_20171025210650143888.txt\n"
     ]
    }
   ],
   "source": [
    "fid = 5\n",
    "fn = serialdata_fns[fid]\n",
    "print fn"
   ]
  },
  {
   "cell_type": "code",
   "execution_count": 127,
   "metadata": {},
   "outputs": [
    {
     "name": "stdout",
     "output_type": "stream",
     "text": [
      "=================================\n",
      "Processing files:\n",
      "MW:  trial_info_20171025_CE062_FOV1_zoom1x_scene_file007.json\n",
      "ARD:  20171025_CE062_FOV1_zoom1x_scenes_file007_serial_data_20171025210650143888.txt\n",
      "---------------------------------\n",
      "Index([u'acquisition_trigger', u' frame_trigger', u' pixel_clock',\n",
      "       u' abosolute_arduino_time', u' relative_arduino_time',\n",
      "       u'     absolute_computer_time', u' relative_computer_time'],\n",
      "      dtype='object')\n",
      "Found 4650 frame-triggers:\n"
     ]
    }
   ],
   "source": [
    "trialdict_by_file = dict()\n",
    "#for fid,fn in enumerate(sorted(serialdata_fns, key=natural_keys)):\n",
    "# fid = 0\n",
    "# fn = serialdata_fns[fid]\n",
    "framerate = float(simeta['File001']['SI']['hRoiManager']['scanFrameRate'])\n",
    "\n",
    "currfile = \"File%03d\" % int(fid+1)\n",
    "\n",
    "print \"=================================\"\n",
    "print \"Processing files:\"\n",
    "print \"MW: \", pydict_jsons[fid]\n",
    "print \"ARD: \", serialdata_fns[fid]\n",
    "print \"---------------------------------\"\n",
    "\n",
    "### LOAD MW DATA.\n",
    "with open(os.path.join(path_to_paradigm_files, pydict_jsons[fid]), 'r') as f:\n",
    "    trials = json.load(f)\n",
    "\n",
    "### LOAD SERIAL DATA.\n",
    "ardata = pd.read_csv(os.path.join(path_to_raw, serialdata_fns[fid]), sep='\\t')\n",
    "print ardata.columns\n",
    "\n",
    "frame_triggers = ardata[' frame_trigger']\n",
    "arduino_time = ardata[' relative_arduino_time']\n",
    "bitcodes = ardata[' pixel_clock']\n",
    "\n",
    "frame_on_idxs = [idx+1 for idx,diff in enumerate(np.diff(frame_triggers)) if diff==1]\n",
    "#print len(frame_on_idxs)\n",
    "frame_on_idxs.append(0)\n",
    "frame_on_idxs = sorted(frame_on_idxs)\n",
    "print \"Found %i frame-triggers:\" % len(frame_on_idxs)"
   ]
  },
  {
   "cell_type": "code",
   "execution_count": 128,
   "metadata": {},
   "outputs": [
    {
     "data": {
      "text/plain": [
       "15172"
      ]
     },
     "execution_count": 128,
     "metadata": {},
     "output_type": "execute_result"
    }
   ],
   "source": [
    "[i for i,b in enumerate(bitcodes) if b==12][0]"
   ]
  },
  {
   "cell_type": "code",
   "execution_count": 129,
   "metadata": {
    "collapsed": true
   },
   "outputs": [],
   "source": [
    "### Get bitcodes for each frame:\n",
    "frame_bitcodes = dict()\n",
    "for idx,frameidx in enumerate(frame_on_idxs):\n",
    "    #framenum = 'frame'+str(idx)\n",
    "    if idx==len(frame_on_idxs)-1:\n",
    "        bcodes = bitcodes[frameidx:]\n",
    "    else:\n",
    "        bcodes = bitcodes[frameidx:frame_on_idxs[idx+1]]\n",
    "    frame_bitcodes[idx] = bcodes\n",
    "\n",
    "### Get first frame of trial start:\n",
    "modes_by_frame = dict()\n",
    "for frame in frame_bitcodes.keys():\n",
    "    bitcode_counts = Counter(frame_bitcodes[frame])\n",
    "    modes_by_frame[frame] = bitcode_counts.most_common(1)[0][0]\n"
   ]
  },
  {
   "cell_type": "code",
   "execution_count": 130,
   "metadata": {},
   "outputs": [
    {
     "name": "stdout",
     "output_type": "stream",
     "text": [
      "4\n"
     ]
    }
   ],
   "source": [
    "first_stim_frame = [k for k in sorted(modes_by_frame.keys()) if modes_by_frame[k]>0][1]\n",
    "print first_stim_frame\n"
   ]
  },
  {
   "cell_type": "code",
   "execution_count": 131,
   "metadata": {},
   "outputs": [],
   "source": [
    "\n",
    "### Get all bitcodes and corresonding frame-numbers for each trial:\n",
    "trialdict = dict()\n",
    "allframes = sorted(frame_bitcodes.keys()) #, key=natural_keys)\n",
    "curr_frames = sorted(allframes[first_stim_frame+1:]) #, key=natural_keys)\n"
   ]
  },
  {
   "cell_type": "code",
   "execution_count": 132,
   "metadata": {},
   "outputs": [
    {
     "name": "stdout",
     "output_type": "stream",
     "text": [
      "4\n"
     ]
    },
    {
     "data": {
      "text/plain": [
       "90     15\n",
       "91     15\n",
       "92     15\n",
       "93     15\n",
       "94     15\n",
       "95     15\n",
       "96     15\n",
       "97     15\n",
       "98     15\n",
       "99     15\n",
       "100    15\n",
       "101    15\n",
       "102    15\n",
       "103    15\n",
       "104    15\n",
       "105    15\n",
       "106    15\n",
       "107    15\n",
       "108    15\n",
       "109    15\n",
       "110    15\n",
       "111    15\n",
       "112    15\n",
       "Name:  pixel_clock, dtype: int64"
      ]
     },
     "execution_count": 132,
     "metadata": {},
     "output_type": "execute_result"
    }
   ],
   "source": [
    "print first_stim_frame\n",
    "frame_bitcodes[first_stim_frame]"
   ]
  },
  {
   "cell_type": "code",
   "execution_count": 133,
   "metadata": {},
   "outputs": [
    {
     "data": {
      "text/plain": [
       "4.0"
      ]
     },
     "execution_count": 133,
     "metadata": {},
     "output_type": "execute_result"
    }
   ],
   "source": [
    "trials[trial]['iti_duration']/1E3 # * framerate"
   ]
  },
  {
   "cell_type": "code",
   "execution_count": 134,
   "metadata": {},
   "outputs": [
    {
     "name": "stdout",
     "output_type": "stream",
     "text": [
      "1.03062987169 [Tial 1]\n",
      "skipping iti... 173\n",
      "1.00822487448 [Tial 2]\n",
      "skipping iti... 173\n",
      "1.03062987169 [Tial 3]\n",
      "skipping iti... 173\n",
      "1.00822487448 [Tial 4]\n",
      "skipping iti... 173\n",
      "1.03062987169 [Tial 5]\n",
      "skipping iti... 173\n",
      "1.00822487448 [Tial 6]\n",
      "skipping iti... 173\n",
      "1.03062987169 [Tial 7]\n",
      "skipping iti... 173\n",
      "1.00822487448 [Tial 8]\n",
      "skipping iti... 173\n",
      "1.00822487448 [Tial 9]\n",
      "skipping iti... 173\n",
      "1.00822487448 [Tial 10]\n",
      "skipping iti... 173\n",
      "1.00822487448 [Tial 11]\n",
      "skipping iti... 173\n",
      "1.00822487448 [Tial 12]\n",
      "skipping iti... 173\n",
      "1.00822487448 [Tial 13]\n",
      "skipping iti... 173\n",
      "1.03062987169 [Tial 14]\n",
      "skipping iti... 173\n",
      "1.00822487448 [Tial 15]\n",
      "skipping iti... 173\n",
      "1.03062987169 [Tial 16]\n",
      "skipping iti... 173\n",
      "1.00822487448 [Tial 17]\n",
      "skipping iti... 173\n",
      "1.03062987169 [Tial 18]\n",
      "skipping iti... 173\n",
      "1.00822487448 [Tial 19]\n",
      "skipping iti... 173\n",
      "1.00822487448 [Tial 20]\n"
     ]
    }
   ],
   "source": [
    "\n",
    "for trial in sorted(trials.keys(), key=natural_keys): #sorted(trials.keys, key=natural_keys):\n",
    "    #print trial\n",
    "    trialdict[trial] = dict()\n",
    "    trialdict[trial]['name'] = trials[trial]['stimuli']['stimulus']\n",
    "    trialdict[trial]['duration'] = trials[trial]['stim_off_times'] - trials[trial]['stim_on_times']\n",
    "\n",
    "    if int(trial)>1:\n",
    "    # Skip a good number of frames from the last \"found\" index of previous trial.\n",
    "    # Since ITI is long (relative to framerate), this is safe to do. Avoids possibility that\n",
    "    # first bitcode of trial N happened to be last stimulus bitcode of trial N-1\n",
    "        nframes_to_skip = int(((trials[trial]['iti_duration']/1E3) * framerate) - 5)\n",
    "        #nframes_to_skip = int(((1000/1E3) * framerate) - 5)\n",
    "        print 'skipping iti...', nframes_to_skip\n",
    "        curr_frames = allframes[first_frame+nframes_to_skip:]\n",
    "\n",
    "    first_found_frame = []\n",
    "    minframes = 4\n",
    "    for bitcode in trials[trial]['all_bitcodes']:\n",
    "            looking = True\n",
    "            while looking is True:\n",
    "                for frame in sorted(curr_frames):\n",
    "                    tmp_frames = [i for i in frame_bitcodes[frame] if i==bitcode]\n",
    "                    consecutives = [i for i in np.diff(tmp_frames) if i==0]\n",
    "\n",
    "                    if frame>1:\n",
    "                        tmp_frames_pre = [i for i in frame_bitcodes[int(frame)-1] if i==bitcode]\n",
    "                        consecutives_pre = [i for i in np.diff(tmp_frames_pre) if i==0]\n",
    "                    \n",
    "                    if len(trials[trial]['all_bitcodes'])<3:\n",
    "                        if len(consecutives)>=minframes:\n",
    "                            first_frame = frame\n",
    "                            looking = False\n",
    "                    else:\n",
    "                        if frame>1 and len(consecutives_pre)>=minframes:\n",
    "                            if len(consecutives_pre) > len(consecutives):\n",
    "                                first_frame = int(frame) - 1\n",
    "                            elif len(consecutives)>=minframes:\n",
    "                                first_frame = int(frame)\n",
    "                            #print \"found2...\", bitcode, first_frame #len(curr_frames)\n",
    "                            looking = False\n",
    "\n",
    "                        elif len(consecutives)>=minframes:\n",
    "                            first_frame = frame \n",
    "                            #print \"found...\", bitcode, first_frame #len(curr_frames)\n",
    "                            looking = False\n",
    "\n",
    "                    if looking is False:\n",
    "                        break\n",
    "\n",
    "            first_found_frame.append((bitcode, first_frame)) #first_frame))\n",
    "            curr_frames = allframes[first_frame+1:] #curr_frames[idx:] #curr_frames[first_frame:]\n",
    "\n",
    "    #if (first_found_frame[-1][1] - first_found_frame[0][1])/framerate > 2.5:\n",
    "    #print \"Trial %i dur (s):\" % int(trial)\n",
    "    print (first_found_frame[-1][1] - first_found_frame[0][1])/framerate, '[Tial %i]' % int(trial)\n",
    "\n",
    "    trialdict[trial]['stim_on_idx'] = first_found_frame[0][1]\n",
    "    trialdict[trial]['stim_off_idx'] = first_found_frame[-1][1]"
   ]
  },
  {
   "cell_type": "code",
   "execution_count": 120,
   "metadata": {},
   "outputs": [
    {
     "data": {
      "text/plain": [
       "{u'all_bitcodes': [14, 1],\n",
       " u'end_time_ms': 2616178091.0,\n",
       " u'iti_bitcode': 1,\n",
       " u'iti_duration': 4000,\n",
       " u'start_time_ms': 2616173074.0,\n",
       " u'stim_bitcode': 14,\n",
       " u'stim_off_times': 15100.0,\n",
       " u'stim_on_times': 14084.0,\n",
       " u'stimuli': {u'position': [0.0, 0.0], u'scale': 65.0, u'stimulus': u'10'}}"
      ]
     },
     "execution_count": 120,
     "metadata": {},
     "output_type": "execute_result"
    }
   ],
   "source": [
    "trials[trial]"
   ]
  },
  {
   "cell_type": "code",
   "execution_count": 121,
   "metadata": {
    "scrolled": false
   },
   "outputs": [
    {
     "data": {
      "text/plain": [
       "[(14, 856), (1, 901)]"
      ]
     },
     "execution_count": 121,
     "metadata": {},
     "output_type": "execute_result"
    }
   ],
   "source": [
    "first_found_frame"
   ]
  },
  {
   "cell_type": "code",
   "execution_count": 95,
   "metadata": {},
   "outputs": [
    {
     "data": {
      "text/plain": [
       "1.0082248744760032"
      ]
     },
     "execution_count": 95,
     "metadata": {},
     "output_type": "execute_result"
    }
   ],
   "source": [
    "(first_found_frame[1][1] - first_found_frame[0][1]) / framerate"
   ]
  },
  {
   "cell_type": "code",
   "execution_count": 118,
   "metadata": {},
   "outputs": [
    {
     "data": {
      "text/plain": [
       "15175     0\n",
       "15176    14\n",
       "15177     3\n",
       "15178     1\n",
       "15179     1\n",
       "15180     1\n",
       "15181     1\n",
       "15182     1\n",
       "15183     1\n",
       "15184     1\n",
       "15185     1\n",
       "15186     1\n",
       "15187     1\n",
       "15188     1\n",
       "15189     1\n",
       "15190     1\n",
       "15191     1\n",
       "15192     1\n",
       "15193     1\n",
       "15194     1\n",
       "15195     1\n",
       "15196     1\n",
       "Name:  pixel_clock, dtype: int64"
      ]
     },
     "execution_count": 118,
     "metadata": {},
     "output_type": "execute_result"
    }
   ],
   "source": [
    "frame_bitcodes[677]"
   ]
  },
  {
   "cell_type": "code",
   "execution_count": 36,
   "metadata": {},
   "outputs": [
    {
     "data": {
      "text/plain": [
       "'/nas/volume1/2photon/projects/gratings_phaseMod/20170927_CE059/FOV1_zoom3x/functional_subset/paradigm_files'"
      ]
     },
     "execution_count": 36,
     "metadata": {},
     "output_type": "execute_result"
    }
   ],
   "source": [
    "path_to_paradigm_files"
   ]
  },
  {
   "cell_type": "code",
   "execution_count": 38,
   "metadata": {
    "collapsed": true
   },
   "outputs": [],
   "source": [
    "with open(os.path.join(path_to_paradigm_files, 'parsed_trials.pkl'), 'rb') as f:\n",
    "    trialdict = pkl.load(f)"
   ]
  },
  {
   "cell_type": "code",
   "execution_count": 94,
   "metadata": {},
   "outputs": [
    {
     "data": {
      "text/plain": [
       "1443"
      ]
     },
     "execution_count": 94,
     "metadata": {},
     "output_type": "execute_result"
    }
   ],
   "source": [
    "ref['frame_idxs'].index(2403) + 1"
   ]
  },
  {
   "cell_type": "code",
   "execution_count": 50,
   "metadata": {},
   "outputs": [
    {
     "data": {
      "text/plain": [
       "[1, 2, 3, 6, 7]"
      ]
     },
     "execution_count": 50,
     "metadata": {},
     "output_type": "execute_result"
    }
   ],
   "source": [
    "ref['frame_idxs'][0:5]"
   ]
  },
  {
   "cell_type": "code",
   "execution_count": null,
   "metadata": {
    "collapsed": true
   },
   "outputs": [],
   "source": []
  }
 ],
 "metadata": {
  "kernelspec": {
   "display_name": "Python 2",
   "language": "python",
   "name": "python2"
  },
  "language_info": {
   "codemirror_mode": {
    "name": "ipython",
    "version": 2
   },
   "file_extension": ".py",
   "mimetype": "text/x-python",
   "name": "python",
   "nbconvert_exporter": "python",
   "pygments_lexer": "ipython2",
   "version": "2.7.13"
  }
 },
 "nbformat": 4,
 "nbformat_minor": 2
}
