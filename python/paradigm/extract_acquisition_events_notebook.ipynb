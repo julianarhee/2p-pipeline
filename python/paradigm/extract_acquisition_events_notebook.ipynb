{
 "cells": [
  {
   "cell_type": "code",
   "execution_count": 1,
   "metadata": {
    "collapsed": true
   },
   "outputs": [],
   "source": [
    "import os\n",
    "import json\n",
    "import re\n",
    "import scipy.io as spio\n",
    "import numpy as np\n",
    "from json_tricks.np import dump, dumps, load, loads\n",
    "import pandas as pd\n",
    "import pymworks\n",
    "import cPickle as pkl\n",
    "from collections import Counter\n",
    "\n",
    "def atoi(text):\n",
    "    return int(text) if text.isdigit() else text\n",
    "\n",
    "def natural_keys(text):\n",
    "    return [ atoi(c) for c in re.split('(\\d+)', text) ]"
   ]
  },
  {
   "cell_type": "code",
   "execution_count": 3,
   "metadata": {
    "collapsed": true
   },
   "outputs": [],
   "source": [
    "source = '/nas/volume1/2photon/projects'\n",
    "experiment = 'gratings_phaseMod' #'retino_bar' #'gratings_phaseMod'\n",
    "session = '20170927_CE059' #'20170902_CE054' #'20170825_CE055'\n",
    "acquisition = 'FOV1_zoom3x' #'FOV1_zoom3x_run2' #'FOV1_planar'\n",
    "functional_dir = 'functional_subset'\n",
    "acquisition_dir = os.path.join(source, experiment, session, acquisition)\n"
   ]
  },
  {
   "cell_type": "code",
   "execution_count": 4,
   "metadata": {
    "collapsed": true
   },
   "outputs": [],
   "source": [
    "# Load reference info:\n",
    "ref_json = 'reference_%s.json' % functional_dir \n",
    "with open(os.path.join(acquisition_dir, ref_json), 'r') as fr:\n",
    "    ref = json.load(fr)\n",
    "\n",
    "# Load SI meta data:\n",
    "si_basepath = ref['raw_simeta_path'][0:-4]\n",
    "simeta_json_path = '%s.json' % si_basepath\n",
    "with open(simeta_json_path, 'r') as fs:\n",
    "    simeta = json.load(fs)\n",
    "\n",
    "file_names = sorted([k for k in simeta.keys() if 'File' in k], key=natural_keys)\n",
    "nfiles = len(file_names)\n"
   ]
  },
  {
   "cell_type": "code",
   "execution_count": 5,
   "metadata": {},
   "outputs": [
    {
     "name": "stdout",
     "output_type": "stream",
     "text": [
      "Found 03 serial-data files, and 003 TIFFs.\n",
      "Found 03 MW files, and 03 ARD files.\n"
     ]
    }
   ],
   "source": [
    "# Get PARADIGM INFO:\n",
    "path_to_functional = os.path.join(acquisition_dir, functional_dir)\n",
    "paradigm_dir = 'paradigm_files'\n",
    "path_to_paradigm_files = os.path.join(path_to_functional, paradigm_dir)\n",
    "path_to_raw = os.path.join(path_to_paradigm_files, 'raw')\n",
    "\n",
    "# Get SERIAL data:\n",
    "serialdata_fns = os.listdir(path_to_raw)\n",
    "serialdata_fns = sorted([f for f in serialdata_fns if 'serial_data' in f], key=natural_keys)\n",
    "print \"Found %02d serial-data files, and %03d TIFFs.\" % (len(serialdata_fns), nfiles)\n",
    "\n",
    "# Load MW info:\n",
    "pydict_jsons = os.listdir(path_to_paradigm_files)\n",
    "pydict_jsons = sorted([p for p in pydict_jsons if p.endswith('.json') and 'trial_info' in p], key=natural_keys)\n",
    "print \"Found %02d MW files, and %02d ARD files.\" % (len(pydict_jsons), len(serialdata_fns))"
   ]
  },
  {
   "cell_type": "code",
   "execution_count": 22,
   "metadata": {},
   "outputs": [
    {
     "name": "stdout",
     "output_type": "stream",
     "text": [
      "20170927_CE059_FOV1_zoom3x_003_serial_data_20170927185244245420.txt\n"
     ]
    }
   ],
   "source": [
    "fid = 0\n",
    "fn = serialdata_fns[fid]\n",
    "print fn"
   ]
  },
  {
   "cell_type": "code",
   "execution_count": 6,
   "metadata": {},
   "outputs": [
    {
     "name": "stdout",
     "output_type": "stream",
     "text": [
      "=================================\n",
      "Processing files:\n",
      "MW:  trial_info_20170927_CE059_FOV1_zoom3x_003.json\n",
      "ARD:  20170927_CE059_FOV1_zoom3x_003_serial_data_20170927185244245420.txt\n",
      "---------------------------------\n",
      "Index([u'acquisition_trigger', u' frame_trigger', u' pixel_clock',\n",
      "       u' abosolute_arduino_time', u' relative_arduino_time',\n",
      "       u'     absolute_computer_time', u' relative_computer_time'],\n",
      "      dtype='object')\n",
      "Found 12625 frame-triggers:\n"
     ]
    }
   ],
   "source": [
    "trialdict_by_file = dict()\n",
    "#for fid,fn in enumerate(sorted(serialdata_fns, key=natural_keys)):\n",
    "# fid = 0\n",
    "# fn = serialdata_fns[fid]\n",
    "framerate = float(simeta['File001']['SI']['hRoiManager']['scanFrameRate'])\n",
    "\n",
    "currfile = \"File%03d\" % int(fid+1)\n",
    "\n",
    "print \"=================================\"\n",
    "print \"Processing files:\"\n",
    "print \"MW: \", pydict_jsons[fid]\n",
    "print \"ARD: \", serialdata_fns[fid]\n",
    "print \"---------------------------------\"\n",
    "\n",
    "### LOAD MW DATA.\n",
    "with open(os.path.join(path_to_paradigm_files, pydict_jsons[fid]), 'r') as f:\n",
    "    trials = json.load(f)\n",
    "\n",
    "### LOAD SERIAL DATA.\n",
    "ardata = pd.read_csv(os.path.join(path_to_raw, serialdata_fns[fid]), sep='\\t')\n",
    "print ardata.columns\n",
    "\n",
    "frame_triggers = ardata[' frame_trigger']\n",
    "arduino_time = ardata[' relative_arduino_time']\n",
    "bitcodes = ardata[' pixel_clock']\n",
    "\n",
    "frame_on_idxs = [idx+1 for idx,diff in enumerate(np.diff(frame_triggers)) if diff==1]\n",
    "#print len(frame_on_idxs)\n",
    "frame_on_idxs.append(0)\n",
    "frame_on_idxs = sorted(frame_on_idxs)\n",
    "print \"Found %i frame-triggers:\" % len(frame_on_idxs)"
   ]
  },
  {
   "cell_type": "code",
   "execution_count": 23,
   "metadata": {},
   "outputs": [
    {
     "data": {
      "text/plain": [
       "4099"
      ]
     },
     "execution_count": 23,
     "metadata": {},
     "output_type": "execute_result"
    }
   ],
   "source": [
    "[i for i,b in enumerate(bitcodes) if b==12][0]"
   ]
  },
  {
   "cell_type": "code",
   "execution_count": 77,
   "metadata": {
    "collapsed": true
   },
   "outputs": [],
   "source": [
    "### Get bitcodes for each frame:\n",
    "frame_bitcodes = dict()\n",
    "for idx,frameidx in enumerate(frame_on_idxs):\n",
    "    #framenum = 'frame'+str(idx)\n",
    "    if idx==len(frame_on_idxs)-1:\n",
    "        bcodes = bitcodes[frameidx:]\n",
    "    else:\n",
    "        bcodes = bitcodes[frameidx:frame_on_idxs[idx+1]]\n",
    "    frame_bitcodes[idx] = bcodes\n",
    "\n",
    "### Get first frame of trial start:\n",
    "modes_by_frame = dict()\n",
    "for frame in frame_bitcodes.keys():\n",
    "    bitcode_counts = Counter(frame_bitcodes[frame])\n",
    "    modes_by_frame[frame] = bitcode_counts.most_common(1)[0][0]\n",
    "\n",
    "first_stim_frame = [k for k in sorted(modes_by_frame.keys()) if modes_by_frame[k]>0][0]\n",
    "\n",
    "### Get all bitcodes and corresonding frame-numbers for each trial:\n",
    "trialdict = dict()\n",
    "allframes = sorted(frame_bitcodes.keys()) #, key=natural_keys)\n",
    "curr_frames = sorted(allframes[first_stim_frame+1:]) #, key=natural_keys)\n"
   ]
  },
  {
   "cell_type": "code",
   "execution_count": 78,
   "metadata": {},
   "outputs": [
    {
     "name": "stdout",
     "output_type": "stream",
     "text": [
      "7\n"
     ]
    },
    {
     "data": {
      "text/plain": [
       "4091    15\n",
       "4092    15\n",
       "4093    15\n",
       "4094    15\n",
       "4095    15\n",
       "4096    15\n",
       "4097    15\n",
       "4098    13\n",
       "4099    12\n",
       "4100    12\n",
       "4101    12\n",
       "4102    12\n",
       "Name:  pixel_clock, dtype: int64"
      ]
     },
     "execution_count": 78,
     "metadata": {},
     "output_type": "execute_result"
    }
   ],
   "source": [
    "print first_stim_frame\n",
    "frame_bitcodes[349]"
   ]
  },
  {
   "cell_type": "code",
   "execution_count": 92,
   "metadata": {},
   "outputs": [
    {
     "name": "stdout",
     "output_type": "stream",
     "text": [
      "1.99325108632 [Tial 5]\n"
     ]
    }
   ],
   "source": [
    "\n",
    "for trial in ['5']: #sorted(trials.keys(), key=natural_keys): #sorted(trials.keys, key=natural_keys):\n",
    "    #print trial\n",
    "    trialdict[trial] = dict()\n",
    "    trialdict[trial]['name'] = trials[trial]['stimuli']['stimulus']\n",
    "    trialdict[trial]['duration'] = trials[trial]['stim_off_times'] - trials[trial]['stim_on_times']\n",
    "\n",
    "    first_found_frame = []\n",
    "    minframes = 4\n",
    "    for bitcode in trials[trial]['all_bitcodes']:\n",
    "            looking = True\n",
    "            while looking is True:\n",
    "                for frame in sorted(curr_frames):\n",
    "                    tmp_frames = [i for i in frame_bitcodes[frame] if i==bitcode]\n",
    "                    consecutives = [i for i in np.diff(tmp_frames) if i==0]\n",
    "\n",
    "                    if frame>1:\n",
    "                        tmp_frames_pre = [i for i in frame_bitcodes[int(frame)-1] if i==bitcode]\n",
    "                        consecutives_pre = [i for i in np.diff(tmp_frames_pre) if i==0]\n",
    "\n",
    "                    if frame>1 and len(consecutives_pre)>=minframes:\n",
    "                        if len(consecutives_pre) > len(consecutives):\n",
    "                            first_frame = int(frame) - 1\n",
    "                        elif len(consecutives)>=minframes:\n",
    "                            first_frame = int(frame)\n",
    "                        #print \"found2...\", bitcode, first_frame #len(curr_frames)\n",
    "                        looking = False\n",
    "\n",
    "                    elif len(consecutives)>=minframes:\n",
    "                        first_frame = frame \n",
    "                        #print \"found...\", bitcode, first_frame #len(curr_frames)\n",
    "                        looking = False\n",
    "\n",
    "                    if looking is False:\n",
    "                        break\n",
    "\n",
    "            first_found_frame.append((bitcode, first_frame)) #first_frame))\n",
    "            curr_frames = allframes[first_frame+1:] #curr_frames[idx:] #curr_frames[first_frame:]\n",
    "\n",
    "    #if (first_found_frame[-1][1] - first_found_frame[0][1])/framerate > 2.5:\n",
    "    #print \"Trial %i dur (s):\" % int(trial)\n",
    "    print (first_found_frame[-1][1] - first_found_frame[0][1])/framerate, '[Tial %i]' % int(trial)\n",
    "\n",
    "    trialdict[trial]['stim_on_idx'] = first_found_frame[0][1]\n",
    "    trialdict[trial]['stim_off_idx'] = first_found_frame[-1][1]"
   ]
  },
  {
   "cell_type": "code",
   "execution_count": 93,
   "metadata": {},
   "outputs": [
    {
     "data": {
      "text/plain": [
       "[(2, 2403),\n",
       " (4, 2404),\n",
       " (11, 2405),\n",
       " (7, 2407),\n",
       " (6, 2408),\n",
       " (5, 2410),\n",
       " (7, 2411),\n",
       " (5, 2413),\n",
       " (8, 2414),\n",
       " (13, 2415),\n",
       " (4, 2417),\n",
       " (2, 2418),\n",
       " (0, 2420),\n",
       " (5, 2421),\n",
       " (2, 2423),\n",
       " (1, 2424),\n",
       " (11, 2425),\n",
       " (3, 2427),\n",
       " (14, 2428),\n",
       " (5, 2430),\n",
       " (11, 2431),\n",
       " (12, 2433),\n",
       " (6, 2434),\n",
       " (3, 2435),\n",
       " (12, 2437),\n",
       " (14, 2438),\n",
       " (11, 2439),\n",
       " (13, 2441),\n",
       " (14, 2442),\n",
       " (2, 2444),\n",
       " (11, 2445),\n",
       " (13, 2447),\n",
       " (1, 2448),\n",
       " (15, 2449),\n",
       " (7, 2451),\n",
       " (11, 2452),\n",
       " (4, 2454),\n",
       " (5, 2455),\n",
       " (13, 2456),\n",
       " (11, 2458),\n",
       " (10, 2459),\n",
       " (3, 2461),\n",
       " (7, 2462),\n",
       " (4, 2464),\n",
       " (5, 2465),\n",
       " (6, 2467),\n",
       " (14, 2468),\n",
       " (15, 2469),\n",
       " (13, 2471),\n",
       " (6, 2472),\n",
       " (0, 2474),\n",
       " (5, 2475),\n",
       " (10, 2477),\n",
       " (3, 2478),\n",
       " (8, 2479),\n",
       " (10, 2481),\n",
       " (14, 2482),\n",
       " (5, 2484),\n",
       " (1, 2485),\n",
       " (11, 2486),\n",
       " (3, 2488),\n",
       " (11, 2489),\n",
       " (5, 2491),\n",
       " (0, 2492),\n",
       " (1, 2493),\n",
       " (7, 2495),\n",
       " (0, 2497),\n",
       " (4, 2498),\n",
       " (14, 2499),\n",
       " (12, 2501),\n",
       " (9, 2502),\n",
       " (4, 2504),\n",
       " (6, 2505),\n",
       " (1, 2506),\n",
       " (5, 2508),\n",
       " (4, 2509),\n",
       " (6, 2511),\n",
       " (10, 2512),\n",
       " (1, 2513),\n",
       " (13, 2515),\n",
       " (14, 2516),\n",
       " (7, 2518),\n",
       " (8, 2519),\n",
       " (0, 2521),\n",
       " (5, 2522),\n",
       " (7, 2523),\n",
       " (9, 2525),\n",
       " (14, 2526),\n",
       " (10, 2528),\n",
       " (1, 2529),\n",
       " (6, 2531),\n",
       " (2, 2532),\n",
       " (8, 2533),\n",
       " (4, 2535),\n",
       " (14, 2536),\n",
       " (9, 2538),\n",
       " (6, 2539),\n",
       " (1, 2540),\n",
       " (7, 2542),\n",
       " (1, 2543),\n",
       " (8, 2545),\n",
       " (13, 2546),\n",
       " (1, 2548),\n",
       " (12, 2549),\n",
       " (1, 2550),\n",
       " (13, 2552),\n",
       " (11, 2553),\n",
       " (14, 2555),\n",
       " (9, 2556),\n",
       " (1, 2558),\n",
       " (12, 2559),\n",
       " (7, 2560),\n",
       " (11, 2562),\n",
       " (5, 2563),\n",
       " (6, 2565),\n",
       " (1, 2566),\n",
       " (6, 2568),\n",
       " (2, 2569),\n",
       " (13, 2570),\n",
       " (7, 2572),\n",
       " (5, 2573)]"
      ]
     },
     "execution_count": 93,
     "metadata": {},
     "output_type": "execute_result"
    }
   ],
   "source": [
    "first_found_frame"
   ]
  },
  {
   "cell_type": "code",
   "execution_count": null,
   "metadata": {
    "collapsed": true
   },
   "outputs": [],
   "source": []
  },
  {
   "cell_type": "code",
   "execution_count": 36,
   "metadata": {},
   "outputs": [
    {
     "data": {
      "text/plain": [
       "'/nas/volume1/2photon/projects/gratings_phaseMod/20170927_CE059/FOV1_zoom3x/functional_subset/paradigm_files'"
      ]
     },
     "execution_count": 36,
     "metadata": {},
     "output_type": "execute_result"
    }
   ],
   "source": [
    "path_to_paradigm_files"
   ]
  },
  {
   "cell_type": "code",
   "execution_count": 38,
   "metadata": {
    "collapsed": true
   },
   "outputs": [],
   "source": [
    "with open(os.path.join(path_to_paradigm_files, 'parsed_trials.pkl'), 'rb') as f:\n",
    "    trialdict = pkl.load(f)"
   ]
  },
  {
   "cell_type": "code",
   "execution_count": 94,
   "metadata": {},
   "outputs": [
    {
     "data": {
      "text/plain": [
       "1443"
      ]
     },
     "execution_count": 94,
     "metadata": {},
     "output_type": "execute_result"
    }
   ],
   "source": [
    "ref['frame_idxs'].index(2403) + 1"
   ]
  },
  {
   "cell_type": "code",
   "execution_count": 50,
   "metadata": {},
   "outputs": [
    {
     "data": {
      "text/plain": [
       "[1, 2, 3, 6, 7]"
      ]
     },
     "execution_count": 50,
     "metadata": {},
     "output_type": "execute_result"
    }
   ],
   "source": [
    "ref['frame_idxs'][0:5]"
   ]
  },
  {
   "cell_type": "code",
   "execution_count": null,
   "metadata": {
    "collapsed": true
   },
   "outputs": [],
   "source": []
  }
 ],
 "metadata": {
  "kernelspec": {
   "display_name": "Python 2",
   "language": "python",
   "name": "python2"
  },
  "language_info": {
   "codemirror_mode": {
    "name": "ipython",
    "version": 2
   },
   "file_extension": ".py",
   "mimetype": "text/x-python",
   "name": "python",
   "nbconvert_exporter": "python",
   "pygments_lexer": "ipython2",
   "version": "2.7.13"
  }
 },
 "nbformat": 4,
 "nbformat_minor": 2
}
