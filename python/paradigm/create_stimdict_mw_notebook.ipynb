{
 "cells": [
  {
   "cell_type": "code",
   "execution_count": 1,
   "metadata": {
    "collapsed": true
   },
   "outputs": [],
   "source": [
    "#!/usr/bin/env python2\n",
    "import os\n",
    "import json\n",
    "import re\n",
    "import scipy.io as spio\n",
    "import numpy as np\n",
    "from json_tricks.np import dump, dumps, load, loads\n",
    "from mat2py import loadmat\n",
    "import cPickle as pkl\n",
    "\n",
    "def atoi(text):\n",
    "    return int(text) if text.isdigit() else text\n",
    "\n",
    "def natural_keys(text):\n",
    "    return [ atoi(c) for c in re.split('(\\d+)', text) ]\n",
    " \n",
    "class StimInfo:\n",
    "    def __init__(self):\n",
    "        self.stimid = []\n",
    "        self.trials = []\n",
    "        self.frames = []\n",
    "        self.frames_sec = []\n",
    "        self.stim_on_idx = []\n",
    "\n",
    "# source = '/nas/volume1/2photon/projects'\n",
    "# experiment = 'scenes'\n",
    "# session = '20171003_JW016'\n",
    "# acquisition = 'FOV1'\n",
    "# functional_dir = 'functional'\n",
    "source = '/nas/volume1/2photon/projects'\n",
    "experiment = 'gratings_phaseMod'\n",
    "session = '20171009_CE059'\n",
    "acquisition = 'FOV1_zoom3x'\n",
    "functional_dir = 'functional'\n",
    "\n",
    "acquisition_dir = os.path.join(source, experiment, session, acquisition)\n",
    "figdir = os.path.join(acquisition_dir, 'example_figures')\n"
   ]
  },
  {
   "cell_type": "code",
   "execution_count": 2,
   "metadata": {
    "collapsed": true
   },
   "outputs": [],
   "source": [
    "\n",
    "# ================================================================================\n",
    "# frame info:\n",
    "# ================================================================================\n",
    "#first_frame_on = 50\n",
    "stim_on_sec = 2.\n",
    "iti = 1. #4.\n",
    "#vols_per_trial = 15\n",
    "same_order = False\n",
    "# =================================================================================\n",
    "\n",
    "# Load reference info:\n",
    "ref_json = 'reference_%s.json' % functional_dir \n",
    "with open(os.path.join(acquisition_dir, ref_json), 'r') as fr:\n",
    "    ref = json.load(fr)\n"
   ]
  },
  {
   "cell_type": "code",
   "execution_count": 3,
   "metadata": {},
   "outputs": [
    {
     "data": {
      "text/plain": [
       "u'/nas/volume1/2photon/projects/gratings_phaseMod/20171009_CE059/FOV1_zoom3x/Traces'"
      ]
     },
     "execution_count": 3,
     "metadata": {},
     "output_type": "execute_result"
    }
   ],
   "source": [
    "ref['trace_dir']"
   ]
  },
  {
   "cell_type": "code",
   "execution_count": 4,
   "metadata": {},
   "outputs": [
    {
     "name": "stdout",
     "output_type": "stream",
     "text": [
      "Found 10 stim-order files, and 10 TIFFs.\n",
      "stimorder_File001.txt\n",
      "stimorder_File002.txt\n",
      "stimorder_File003.txt\n",
      "stimorder_File004.txt\n",
      "stimorder_File005.txt\n",
      "stimorder_File006.txt\n",
      "stimorder_File007.txt\n",
      "stimorder_File008.txt\n",
      "stimorder_File009.txt\n",
      "stimorder_File010.txt\n"
     ]
    }
   ],
   "source": [
    "# =====================================================\n",
    "# Set ROI method and Trace method:\n",
    "# =====================================================\n",
    "curr_roi_method = ref['roi_id'][0] #'blobs_DoG'\n",
    "#curr_trace_method = ref['trace_id'] #'blobs_DoG'\n",
    "trace_dir = os.path.join(ref['trace_dir'], curr_roi_method)\n",
    "#trace_dir = ref['trace_dir']\n",
    "# =====================================================\n",
    "\n",
    "# Create parsed-trials dir with default format:\n",
    "parsed_traces_dir = os.path.join(trace_dir, 'Parsed')\n",
    "if not os.path.exists(parsed_traces_dir):\n",
    "    os.mkdir(parsed_traces_dir)\n",
    "\n",
    "# Get PARADIGM INFO:\n",
    "path_to_functional = os.path.join(acquisition_dir, functional_dir)\n",
    "paradigm_dir = 'paradigm_files'\n",
    "path_to_paradigm_files = os.path.join(path_to_functional, paradigm_dir)\n",
    "\n",
    "\n",
    "# Load SI meta data:\n",
    "si_basepath = ref['raw_simeta_path'][0:-4]\n",
    "simeta_json_path = '%s.json' % si_basepath\n",
    "with open(simeta_json_path, 'r') as fs:\n",
    "    simeta = json.load(fs)\n",
    "\n",
    "file_names = sorted([k for k in simeta.keys() if 'File' in k], key=natural_keys)\n",
    "nfiles = len(file_names)\n",
    "\n",
    "# Get stim-order files:\n",
    "stimorder_fns = os.listdir(path_to_paradigm_files)\n",
    "stimorder_fns = sorted([f for f in stimorder_fns if 'stim_order' in f or 'stimorder' in f])\n",
    "print \"Found %i stim-order files, and %i TIFFs.\" % (len(stimorder_fns), nfiles)\n",
    "if len(stimorder_fns) < nfiles:\n",
    "    if same_order:\n",
    "        # Same stimulus order for each file (complete set)\n",
    "        stimorder_fns = np.tile(stimorder_fns, [nfiles,])\n",
    "\n",
    "for i in stimorder_fns:\n",
    "    print i\n",
    "\n",
    "# Create stimulus-dict:\n",
    "#stimdict_basename = 'stimdict'\n",
    "\n",
    "def serialize_json(instance=None, path=None):\n",
    "    dt = {}\n",
    "    dt.update(vars(instance))\n",
    "    return dt\n"
   ]
  },
  {
   "cell_type": "code",
   "execution_count": 5,
   "metadata": {},
   "outputs": [
    {
     "data": {
      "text/plain": [
       "['File001',\n",
       " 'File003',\n",
       " 'File002',\n",
       " 'File005',\n",
       " 'File004',\n",
       " 'File007',\n",
       " 'File006',\n",
       " 'File009',\n",
       " 'File008',\n",
       " 'File010']"
      ]
     },
     "execution_count": 5,
     "metadata": {},
     "output_type": "execute_result"
    }
   ],
   "source": [
    "with open(os.path.join(path_to_paradigm_files, 'parsed_trials.pkl'), 'rb') as f:\n",
    "    trialdict = pkl.load(f)\n",
    "trialdict.keys()"
   ]
  },
  {
   "cell_type": "code",
   "execution_count": 6,
   "metadata": {},
   "outputs": [
    {
     "data": {
      "text/plain": [
       "{u'1': {'duration': 2000.0,\n",
       "  'name': u'grating-ori-120-sf-0.100000',\n",
       "  'stim_off_idx': 273,\n",
       "  'stim_on_idx': 183,\n",
       "  'stimid': 9},\n",
       " u'10': {'duration': 2000.0,\n",
       "  'name': u'grating-ori-150-sf-0.500000',\n",
       "  'stim_off_idx': 2695,\n",
       "  'stim_on_idx': 2605,\n",
       "  'stimid': 12},\n",
       " u'11': {'duration': 2000.0,\n",
       "  'name': u'grating-ori-120-sf-0.500000',\n",
       "  'stim_off_idx': 2964,\n",
       "  'stim_on_idx': 2874,\n",
       "  'stimid': 10},\n",
       " u'12': {'duration': 2000.0,\n",
       "  'name': u'grating-ori-60-sf-0.100000',\n",
       "  'stim_off_idx': 3233,\n",
       "  'stim_on_idx': 3144,\n",
       "  'stimid': 5},\n",
       " u'13': {'duration': 2000.0,\n",
       "  'name': u'grating-ori-150-sf-0.100000',\n",
       "  'stim_off_idx': 3502,\n",
       "  'stim_on_idx': 3413,\n",
       "  'stimid': 11},\n",
       " u'14': {'duration': 2000.0,\n",
       "  'name': u'grating-ori-60-sf-0.100000',\n",
       "  'stim_off_idx': 3771,\n",
       "  'stim_on_idx': 3682,\n",
       "  'stimid': 5},\n",
       " u'15': {'duration': 2000.0,\n",
       "  'name': u'grating-ori-90-sf-0.100000',\n",
       "  'stim_off_idx': 4041,\n",
       "  'stim_on_idx': 3951,\n",
       "  'stimid': 7},\n",
       " u'16': {'duration': 2000.0,\n",
       "  'name': u'grating-ori-90-sf-0.100000',\n",
       "  'stim_off_idx': 4310,\n",
       "  'stim_on_idx': 4220,\n",
       "  'stimid': 7},\n",
       " u'17': {'duration': 2000.0,\n",
       "  'name': u'grating-ori-60-sf-0.500000',\n",
       "  'stim_off_idx': 4579,\n",
       "  'stim_on_idx': 4489,\n",
       "  'stimid': 6},\n",
       " u'18': {'duration': 2000.0,\n",
       "  'name': u'grating-ori-120-sf-0.500000',\n",
       "  'stim_off_idx': 4848,\n",
       "  'stim_on_idx': 4758,\n",
       "  'stimid': 10},\n",
       " u'19': {'duration': 2000.0,\n",
       "  'name': u'grating-ori-120-sf-0.100000',\n",
       "  'stim_off_idx': 5117,\n",
       "  'stim_on_idx': 5027,\n",
       "  'stimid': 9},\n",
       " u'2': {'duration': 2000.0,\n",
       "  'name': u'grating-ori-150-sf-0.500000',\n",
       "  'stim_off_idx': 542,\n",
       "  'stim_on_idx': 452,\n",
       "  'stimid': 12},\n",
       " u'20': {'duration': 2000.0,\n",
       "  'name': u'grating-ori-0-sf-0.100000',\n",
       "  'stim_off_idx': 5386,\n",
       "  'stim_on_idx': 5296,\n",
       "  'stimid': 1},\n",
       " u'21': {'duration': 2000.0,\n",
       "  'name': u'grating-ori-150-sf-0.100000',\n",
       "  'stim_off_idx': 5655,\n",
       "  'stim_on_idx': 5565,\n",
       "  'stimid': 11},\n",
       " u'22': {'duration': 2000.0,\n",
       "  'name': u'grating-ori-0-sf-0.500000',\n",
       "  'stim_off_idx': 5924,\n",
       "  'stim_on_idx': 5834,\n",
       "  'stimid': 2},\n",
       " u'23': {'duration': 2000.0,\n",
       "  'name': u'grating-ori-90-sf-0.500000',\n",
       "  'stim_off_idx': 6193,\n",
       "  'stim_on_idx': 6104,\n",
       "  'stimid': 8},\n",
       " u'24': {'duration': 2000.0,\n",
       "  'name': u'grating-ori-30-sf-0.500000',\n",
       "  'stim_off_idx': 6462,\n",
       "  'stim_on_idx': 6373,\n",
       "  'stimid': 4},\n",
       " u'3': {'duration': 2000.0,\n",
       "  'name': u'grating-ori-0-sf-0.500000',\n",
       "  'stim_off_idx': 811,\n",
       "  'stim_on_idx': 722,\n",
       "  'stimid': 2},\n",
       " u'4': {'duration': 2000.0,\n",
       "  'name': u'grating-ori-60-sf-0.500000',\n",
       "  'stim_off_idx': 1080,\n",
       "  'stim_on_idx': 991,\n",
       "  'stimid': 6},\n",
       " u'5': {'duration': 2000.0,\n",
       "  'name': u'grating-ori-90-sf-0.500000',\n",
       "  'stim_off_idx': 1350,\n",
       "  'stim_on_idx': 1260,\n",
       "  'stimid': 8},\n",
       " u'6': {'duration': 2000.0,\n",
       "  'name': u'grating-ori-30-sf-0.500000',\n",
       "  'stim_off_idx': 1619,\n",
       "  'stim_on_idx': 1529,\n",
       "  'stimid': 4},\n",
       " u'7': {'duration': 2000.0,\n",
       "  'name': u'grating-ori-30-sf-0.100000',\n",
       "  'stim_off_idx': 1888,\n",
       "  'stim_on_idx': 1798,\n",
       "  'stimid': 3},\n",
       " u'8': {'duration': 2000.0,\n",
       "  'name': u'grating-ori-30-sf-0.100000',\n",
       "  'stim_off_idx': 2157,\n",
       "  'stim_on_idx': 2067,\n",
       "  'stimid': 3},\n",
       " u'9': {'duration': 2000.0,\n",
       "  'name': u'grating-ori-0-sf-0.100000',\n",
       "  'stim_off_idx': 2426,\n",
       "  'stim_on_idx': 2336,\n",
       "  'stimid': 1}}"
      ]
     },
     "execution_count": 6,
     "metadata": {},
     "output_type": "execute_result"
    }
   ],
   "source": [
    "trialdict['File001']"
   ]
  },
  {
   "cell_type": "code",
   "execution_count": 7,
   "metadata": {
    "collapsed": true
   },
   "outputs": [],
   "source": [
    "mw = True\n",
    "stimdict = dict()\n",
    "for fi in range(nfiles):\n",
    "    currfile= \"File%03d\" % int(fi+1)\n",
    "       \n",
    "    nframes = int(simeta[currfile]['SI']['hFastZ']['numVolumes'])\n",
    "    framerate = float(simeta[currfile]['SI']['hRoiManager']['scanFrameRate'])\n",
    "    volumerate = float(simeta[currfile]['SI']['hRoiManager']['scanVolumeRate'])\n",
    "    frames_tsecs = np.arange(0, nframes)*(1/volumerate)\n",
    "\n",
    "    nframes_on = stim_on_sec * volumerate\n",
    "    frames_iti = round(iti * volumerate) \n",
    "\n",
    "    # Load stim-order:\n",
    "    stim_fn = stimorder_fns[fi] #'stim_order.txt'\n",
    "    with open(os.path.join(path_to_paradigm_files, stim_fn)) as f:\n",
    "        stimorder = f.readlines()\n",
    "    curr_stimorder = [l.strip() for l in stimorder]\n",
    "    unique_stims = sorted(set(curr_stimorder), key=natural_keys)\n",
    "    \n",
    "    if mw is False:\n",
    "        nframes_off = vols_per_trial - nframes_on # HACKYYY\n",
    "        first_frame_on = 50 \n",
    "        for trialnum,stim in enumerate(curr_stimorder):\n",
    "            #print \"Stim on frame:\", first_frame_on\n",
    "            if not stim in stimdict.keys():\n",
    "                stimdict[stim] = dict()\n",
    "            if not currfile in stimdict[stim].keys():\n",
    "                stimdict[stim][currfile] = StimInfo()  #StimInfo()\n",
    "            framenums = list(np.arange(int(first_frame_on-frames_iti), int(first_frame_on+(vols_per_trial))))\n",
    "            frametimes = [frames_tsecs[f] for f in framenums]\n",
    "            stimdict[stim][currfile].trials.append(trialnum)      \n",
    "            stimdict[stim][currfile].frames.append(framenums)\n",
    "            stimdict[stim][currfile].frames_sec.append(frametimes)\n",
    "            stimdict[stim][currfile].stim_on_idx.append(framenums.index(first_frame_on))\n",
    "            first_frame_on = first_frame_on + vols_per_trial\n",
    "    else:\n",
    "        for trialnum,stim in enumerate(curr_stimorder):\n",
    "            currtrial = str(trialnum+1)\n",
    "            if not stim in stimdict.keys():\n",
    "                stimdict[stim] = dict()\n",
    "            if not currfile in stimdict[stim].keys():\n",
    "                stimdict[stim][currfile] = StimInfo()\n",
    "            first_frame_on = int(trialdict[currfile][currtrial]['stim_on_idx'])\n",
    "            framenums = list(np.arange(int(first_frame_on-frames_iti), int(trialdict[currfile][currtrial]['stim_off_idx']+(frames_iti*3))))\n",
    "            frametimes = [frames_tsecs[f] for f in framenums]\n",
    "            \n",
    "            stimdict[stim][currfile].stimid.append(trialdict[currfile][currtrial]['name'])\n",
    "            stimdict[stim][currfile].trials.append(trialnum)      \n",
    "            stimdict[stim][currfile].frames.append(framenums)\n",
    "            stimdict[stim][currfile].frames_sec.append(frametimes)\n",
    "            stimdict[stim][currfile].stim_on_idx.append(first_frame_on)\n"
   ]
  },
  {
   "cell_type": "code",
   "execution_count": 16,
   "metadata": {},
   "outputs": [
    {
     "data": {
      "text/plain": [
       "u'grating-ori-30-sf-0.100000'"
      ]
     },
     "execution_count": 16,
     "metadata": {},
     "output_type": "execute_result"
    }
   ],
   "source": [
    "list(set(stimdict[stim][currfile].stimid))[0]"
   ]
  },
  {
   "cell_type": "code",
   "execution_count": 131,
   "metadata": {},
   "outputs": [
    {
     "name": "stdout",
     "output_type": "stream",
     "text": [
      "24 90\n",
      "20 90\n",
      "21 90\n",
      "22 90\n",
      "23 90\n",
      "1 90\n",
      "3 89\n",
      "2 90\n",
      "5 90\n",
      "4 89\n",
      "7 90\n",
      "6 90\n",
      "9 90\n",
      "8 90\n",
      "11 90\n",
      "10 90\n",
      "13 90\n",
      "12 90\n",
      "15 89\n",
      "14 89\n",
      "17 90\n",
      "16 90\n",
      "19 90\n",
      "18 90\n"
     ]
    }
   ],
   "source": [
    "for trial in trialdict['File003'].keys():\n",
    "    print trial, trialdict['File003'][trial]['stim_off_idx']-trialdict['File003'][trial]['stim_on_idx']\n",
    "#trialdict['File001']['9']"
   ]
  },
  {
   "cell_type": "code",
   "execution_count": 132,
   "metadata": {},
   "outputs": [
    {
     "name": "stdout",
     "output_type": "stream",
     "text": [
      "{'duration': 2000.0, 'stim_on_idx': 2336, 'name': u'grating-ori-0-sf-0.100000', 'stimid': 1, 'stim_off_idx': 2426}\n",
      "{'duration': 2000.0, 'stim_on_idx': 4758, 'name': u'grating-ori-120-sf-0.500000', 'stimid': 10, 'stim_off_idx': 4848}\n",
      "{'duration': 2000.0, 'stim_on_idx': 5027, 'name': u'grating-ori-120-sf-0.100000', 'stimid': 9, 'stim_off_idx': 5117}\n"
     ]
    }
   ],
   "source": [
    "print trialdict['File001']['9']\n",
    "print trialdict['File001']['18']\n",
    "print trialdict['File001']['19']"
   ]
  },
  {
   "cell_type": "code",
   "execution_count": 133,
   "metadata": {},
   "outputs": [
    {
     "name": "stdout",
     "output_type": "stream",
     "text": [
      "11 270\n",
      "10 270\n",
      "12 270\n",
      "1 270\n",
      "3 270\n",
      "2 270\n",
      "5 269\n",
      "4 269\n",
      "7 270\n",
      "6 270\n",
      "9 270\n",
      "8 269\n"
     ]
    }
   ],
   "source": [
    "for stim in stimdict.keys():\n",
    "    print stim, len(stimdict[stim]['File001'].frames[1])"
   ]
  },
  {
   "cell_type": "code",
   "execution_count": 134,
   "metadata": {},
   "outputs": [
    {
     "name": "stdout",
     "output_type": "stream",
     "text": [
      "stimdict.pkl\n",
      "stimdict.json\n"
     ]
    }
   ],
   "source": [
    "\n",
    "# Save to PKL:\n",
    "curr_stimdict_pkl = 'stimdict.pkl' #% currfile # % currslice\n",
    "print curr_stimdict_pkl\n",
    "with open(os.path.join(path_to_paradigm_files, curr_stimdict_pkl), 'w') as f:\n",
    "    pkl.dump(stimdict, f, protocol=pkl.HIGHEST_PROTOCOL) #, f, indent=4)\n",
    "\n",
    "# Save to JSON:\n",
    "for fi in range(nfiles):\n",
    "    currfile = \"File%03d\" % int(fi+1)\n",
    "    for stim in stimdict.keys():\n",
    "        stimdict[stim][currfile] = serialize_json(stimdict[stim][currfile]) \n",
    "\n",
    "curr_stimdict_json = 'stimdict.json' #% currfile # % currslice\n",
    "print curr_stimdict_json\n",
    "with open(os.path.join(path_to_paradigm_files, curr_stimdict_json), 'w') as f:\n",
    "    dump(stimdict, f, indent=4)\n",
    "\n",
    "\n"
   ]
  },
  {
   "cell_type": "code",
   "execution_count": 103,
   "metadata": {},
   "outputs": [
    {
     "ename": "AttributeError",
     "evalue": "'dict' object has no attribute 'frames'",
     "output_type": "error",
     "traceback": [
      "\u001b[0;31m---------------------------------------------------------------------------\u001b[0m",
      "\u001b[0;31mAttributeError\u001b[0m                            Traceback (most recent call last)",
      "\u001b[0;32m<ipython-input-103-9ce296fd505c>\u001b[0m in \u001b[0;36m<module>\u001b[0;34m()\u001b[0m\n\u001b[1;32m      1\u001b[0m \u001b[0;32mfor\u001b[0m \u001b[0mstim\u001b[0m \u001b[0;32min\u001b[0m \u001b[0mstimdict\u001b[0m\u001b[0;34m.\u001b[0m\u001b[0mkeys\u001b[0m\u001b[0;34m(\u001b[0m\u001b[0;34m)\u001b[0m\u001b[0;34m:\u001b[0m\u001b[0;34m\u001b[0m\u001b[0m\n\u001b[1;32m      2\u001b[0m     \u001b[0;32mfor\u001b[0m \u001b[0mfilename\u001b[0m \u001b[0;32min\u001b[0m \u001b[0mstimdict\u001b[0m\u001b[0;34m[\u001b[0m\u001b[0mstim\u001b[0m\u001b[0;34m]\u001b[0m\u001b[0;34m.\u001b[0m\u001b[0mkeys\u001b[0m\u001b[0;34m(\u001b[0m\u001b[0;34m)\u001b[0m\u001b[0;34m:\u001b[0m\u001b[0;34m\u001b[0m\u001b[0m\n\u001b[0;32m----> 3\u001b[0;31m         \u001b[0;32mfor\u001b[0m \u001b[0mt\u001b[0m \u001b[0;32min\u001b[0m \u001b[0mrange\u001b[0m\u001b[0;34m(\u001b[0m\u001b[0mlen\u001b[0m\u001b[0;34m(\u001b[0m\u001b[0mstimdict\u001b[0m\u001b[0;34m[\u001b[0m\u001b[0mstim\u001b[0m\u001b[0;34m]\u001b[0m\u001b[0;34m[\u001b[0m\u001b[0mfilename\u001b[0m\u001b[0;34m]\u001b[0m\u001b[0;34m.\u001b[0m\u001b[0mframes\u001b[0m\u001b[0;34m)\u001b[0m\u001b[0;34m)\u001b[0m\u001b[0;34m:\u001b[0m\u001b[0;34m\u001b[0m\u001b[0m\n\u001b[0m\u001b[1;32m      4\u001b[0m             \u001b[0;32mif\u001b[0m \u001b[0mlen\u001b[0m\u001b[0;34m(\u001b[0m\u001b[0mstimdict\u001b[0m\u001b[0;34m[\u001b[0m\u001b[0mstim\u001b[0m\u001b[0;34m]\u001b[0m\u001b[0;34m[\u001b[0m\u001b[0mfilename\u001b[0m\u001b[0;34m]\u001b[0m\u001b[0;34m.\u001b[0m\u001b[0mframes\u001b[0m\u001b[0;34m[\u001b[0m\u001b[0mt\u001b[0m\u001b[0;34m]\u001b[0m\u001b[0;34m)\u001b[0m\u001b[0;34m>\u001b[0m\u001b[0;36m270\u001b[0m\u001b[0;34m:\u001b[0m\u001b[0;34m\u001b[0m\u001b[0m\n\u001b[1;32m      5\u001b[0m                 \u001b[0;32mprint\u001b[0m \u001b[0mstim\u001b[0m\u001b[0;34m,\u001b[0m \u001b[0mfilename\u001b[0m\u001b[0;34m,\u001b[0m \u001b[0mlen\u001b[0m\u001b[0;34m(\u001b[0m\u001b[0mstimdict\u001b[0m\u001b[0;34m[\u001b[0m\u001b[0mstim\u001b[0m\u001b[0;34m]\u001b[0m\u001b[0;34m[\u001b[0m\u001b[0mfilename\u001b[0m\u001b[0;34m]\u001b[0m\u001b[0;34m.\u001b[0m\u001b[0mframes\u001b[0m\u001b[0;34m[\u001b[0m\u001b[0mt\u001b[0m\u001b[0;34m]\u001b[0m\u001b[0;34m)\u001b[0m\u001b[0;34m\u001b[0m\u001b[0m\n",
      "\u001b[0;31mAttributeError\u001b[0m: 'dict' object has no attribute 'frames'"
     ]
    }
   ],
   "source": [
    "for stim in stimdict.keys():\n",
    "    for filename in stimdict[stim].keys():\n",
    "        for t in range(len(stimdict[stim][filename].frames)):\n",
    "            if len(stimdict[stim][filename].frames[t])>270:\n",
    "                print stim, filename, len(stimdict[stim][filename].frames[t])\n"
   ]
  },
  {
   "cell_type": "code",
   "execution_count": null,
   "metadata": {
    "collapsed": true
   },
   "outputs": [],
   "source": []
  }
 ],
 "metadata": {
  "kernelspec": {
   "display_name": "Python 2",
   "language": "python",
   "name": "python2"
  },
  "language_info": {
   "codemirror_mode": {
    "name": "ipython",
    "version": 2
   },
   "file_extension": ".py",
   "mimetype": "text/x-python",
   "name": "python",
   "nbconvert_exporter": "python",
   "pygments_lexer": "ipython2",
   "version": "2.7.13"
  }
 },
 "nbformat": 4,
 "nbformat_minor": 2
}
