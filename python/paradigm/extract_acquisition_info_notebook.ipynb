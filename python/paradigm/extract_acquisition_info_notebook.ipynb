{
 "cells": [
  {
   "cell_type": "code",
   "execution_count": 1,
   "metadata": {
    "collapsed": true
   },
   "outputs": [],
   "source": [
    "#!/usr/bin/env python2\n",
    "import os\n",
    "import json\n",
    "import re\n",
    "import scipy.io as spio\n",
    "import numpy as np\n",
    "from json_tricks.np import dump, dumps, load, loads\n",
    "import pandas as pd\n",
    "\n",
    "def atoi(text):\n",
    "    return int(text) if text.isdigit() else text\n",
    "\n",
    "def natural_keys(text):\n",
    "    return [ atoi(c) for c in re.split('(\\d+)', text) ]\n"
   ]
  },
  {
   "cell_type": "code",
   "execution_count": 2,
   "metadata": {
    "collapsed": true
   },
   "outputs": [],
   "source": [
    "source = '/nas/volume1/2photon/projects'\n",
    "experiment = 'gratings_phaseMod'\n",
    "session = '20171009_CE059'\n",
    "acquisition = 'FOV1_zoom3x'\n",
    "functional_dir = 'functional'\n",
    "\n",
    "acquisition_dir = os.path.join(source, experiment, session, acquisition)\n",
    "figdir = os.path.join(acquisition_dir, 'example_figures')\n",
    "\n",
    "# # ================================================================================\n",
    "# # frame info:\n",
    "# # ================================================================================\n",
    "# first_frame_on = 50\n",
    "# stim_on_sec = 0.5\n",
    "# iti = 1.\n",
    "# vols_per_trial = 15\n",
    "# same_order = True\n",
    "# # ================================================================================="
   ]
  },
  {
   "cell_type": "code",
   "execution_count": 3,
   "metadata": {
    "collapsed": true
   },
   "outputs": [],
   "source": [
    "# Load reference info:\n",
    "ref_json = 'reference_%s.json' % functional_dir \n",
    "with open(os.path.join(acquisition_dir, ref_json), 'r') as fr:\n",
    "    ref = json.load(fr)\n",
    "\n",
    "# Load SI meta data:\n",
    "si_basepath = ref['raw_simeta_path'][0:-4]\n",
    "simeta_json_path = '%s.json' % si_basepath\n",
    "with open(simeta_json_path, 'r') as fs:\n",
    "    simeta = json.load(fs)\n",
    "\n",
    "file_names = sorted([k for k in simeta.keys() if 'File' in k], key=natural_keys)\n",
    "nfiles = len(file_names)"
   ]
  },
  {
   "cell_type": "code",
   "execution_count": 4,
   "metadata": {},
   "outputs": [
    {
     "name": "stdout",
     "output_type": "stream",
     "text": [
      "N volumes: 6620\n",
      "Volume Rate (Hz): 44.7027\n",
      "Frame Rate (Hz): 44.7027\n"
     ]
    }
   ],
   "source": [
    "volumerate = float(simeta['File001']['SI']['hRoiManager']['scanVolumeRate'])\n",
    "framerate = float(simeta['File001']['SI']['hRoiManager']['scanFrameRate'])\n",
    "nvolumes = int(simeta['File001']['SI']['hFastZ']['numVolumes'])\n",
    "\n",
    "print \"N volumes:\", nvolumes\n",
    "print \"Volume Rate (Hz):\", volumerate\n",
    "print \"Frame Rate (Hz):\", framerate"
   ]
  },
  {
   "cell_type": "code",
   "execution_count": 5,
   "metadata": {},
   "outputs": [
    {
     "name": "stdout",
     "output_type": "stream",
     "text": [
      "Found 10 serial-data files, and 10 TIFFs.\n"
     ]
    }
   ],
   "source": [
    "# Get PARADIGM INFO:\n",
    "path_to_functional = os.path.join(acquisition_dir, functional_dir)\n",
    "paradigm_dir = 'paradigm_files'\n",
    "path_to_paradigm_files = os.path.join(path_to_functional, paradigm_dir)\n",
    "\n",
    "# Get stim-order files:\n",
    "serialdata_fns = os.listdir(path_to_paradigm_files)\n",
    "serialdata_fns = sorted([f for f in serialdata_fns if 'serial_data' in f])\n",
    "print \"Found %i serial-data files, and %i TIFFs.\" % (len(serialdata_fns), nfiles)"
   ]
  },
  {
   "cell_type": "code",
   "execution_count": 107,
   "metadata": {},
   "outputs": [
    {
     "name": "stdout",
     "output_type": "stream",
     "text": [
      "fid: 2\n",
      "fn: 20171009_CE059_FOV1_zoom3x_003_serial_data_20171009170545679404.txt\n"
     ]
    }
   ],
   "source": [
    "fid = 2\n",
    "print \"fid:\", fid\n",
    "print \"fn:\", serialdata_fns[fid]\n",
    "ardata = pd.read_csv(os.path.join(path_to_paradigm_files, serialdata_fns[fid]), sep='\\t')"
   ]
  },
  {
   "cell_type": "code",
   "execution_count": 108,
   "metadata": {},
   "outputs": [
    {
     "data": {
      "text/plain": [
       "Index([u'acquisition_trigger', u' frame_trigger', u' pixel_clock',\n",
       "       u' abosolute_arduino_time', u' relative_arduino_time',\n",
       "       u'     absolute_computer_time', u' relative_computer_time'],\n",
       "      dtype='object')"
      ]
     },
     "execution_count": 108,
     "metadata": {},
     "output_type": "execute_result"
    }
   ],
   "source": [
    "ardata.columns"
   ]
  },
  {
   "cell_type": "code",
   "execution_count": 109,
   "metadata": {},
   "outputs": [
    {
     "name": "stdout",
     "output_type": "stream",
     "text": [
      "148436\n"
     ]
    }
   ],
   "source": [
    "frame_triggers = ardata[' frame_trigger']\n",
    "print len(frame_triggers)\n",
    "\n",
    "arduino_time = ardata[' relative_arduino_time']\n",
    "computer_time = ardata[' relative_computer_time']"
   ]
  },
  {
   "cell_type": "code",
   "execution_count": 110,
   "metadata": {
    "collapsed": true
   },
   "outputs": [],
   "source": [
    "bitcodes = ardata[' pixel_clock']"
   ]
  },
  {
   "cell_type": "markdown",
   "metadata": {},
   "source": [
    "### TEST MW files:"
   ]
  },
  {
   "cell_type": "code",
   "execution_count": 11,
   "metadata": {},
   "outputs": [
    {
     "data": {
      "text/plain": [
       "['20171009_CE059_FOV1_zoom3x_001.mwk',\n",
       " '20171009_CE059_FOV1_zoom3x_002.mwk',\n",
       " '20171009_CE059_FOV1_zoom3x_003.mwk',\n",
       " '20171009_CE059_FOV1_zoom3x_004.mwk',\n",
       " '20171009_CE059_FOV1_zoom3x_005.mwk',\n",
       " '20171009_CE059_FOV1_zoom3x_006.mwk',\n",
       " '20171009_CE059_FOV1_zoom3x_007.mwk',\n",
       " '20171009_CE059_FOV1_zoom3x_008.mwk',\n",
       " '20171009_CE059_FOV1_zoom3x_009.mwk',\n",
       " '20171009_CE059_FOV1_zoom3x_010.mwk']"
      ]
     },
     "execution_count": 11,
     "metadata": {},
     "output_type": "execute_result"
    }
   ],
   "source": [
    "mw_fns = os.listdir(path_to_paradigm_files)\n",
    "mw_fns = sorted([f for f in mw_fns if f.endswith('.mwk')])\n",
    "mw_fns"
   ]
  },
  {
   "cell_type": "code",
   "execution_count": 12,
   "metadata": {},
   "outputs": [
    {
     "name": "stdout",
     "output_type": "stream",
     "text": [
      "20171009_CE059_FOV1_zoom3x_001.mwk\n"
     ]
    }
   ],
   "source": [
    "import pymworks\n",
    "dfn = os.path.join(path_to_paradigm_files, mw_fns[fid])\n",
    "df = pymworks.open(os.path.join(path_to_paradigm_files, mw_fns[fid]))\n",
    "print mw_fns[fid]\n",
    "#pixelevents, stimevents, trialevents, trigger_times, sprint ession_info = get_stimulus_events(curr_dfn, stimtype=stimtype, phasemod=phasemod, triggername=trigger_varname)\n",
    "\n",
    "\n"
   ]
  },
  {
   "cell_type": "code",
   "execution_count": 17,
   "metadata": {},
   "outputs": [
    {
     "name": "stdout",
     "output_type": "stream",
     "text": [
      "****************************************************************\n",
      "Parsing file\n",
      "/nas/volume1/2photon/projects/gratings_phaseMod/20171009_CE059/FOV1_zoom3x/functional/paradigm_files/20171009_CE059_FOV1_zoom3x_001.mwk... \n",
      "Found 1 start events in session.\n",
      "Bounds:  [[1218328934002, 1218484705733]]\n",
      "bound ID: 0 155.771731 sec\n",
      "****************************************************************\n",
      "[[1218328934002, 1218484705733]]\n",
      "................................................................\n",
      "SECTION 0\n",
      "................................................................\n",
      "first SI-trigger ON event received:  Event[code=44, name=frame_trigger, time=1218336288001, value=0]\n",
      "first SI-trigger OFF event received:  Event[code=44, name=frame_trigger, time=1218484296161, value=1]\n",
      "Duration of first run: 148.0082 sec.\n",
      "Incrementally searching to find each pair of ON/OFF trigger events...\n",
      "........................................................................................\n",
      "Found 2 chunks from frame-on/-off triggers:\n",
      "........................................................................................\n",
      "0 :  148.00816\n",
      "1 :  0.409447\n",
      "........................................................................................\n",
      "Choose runs. Formatting hints:\n",
      "To choose RANGE:  <0:20> to include 0th through 20th runs.\n",
      "To select specific runs:  <0,1,2,5> to only include runs 0,1,2, and 5.\n",
      "Select indices of runs to include, or press <enter> to accept all:\n",
      "0\n",
      "Run: 0\n",
      "Press <enter> to accept. Press 'r' to re-try.\n",
      "Selected 1 runs.\n",
      "selected runs: [0]\n",
      "N pix-evs found in boundary: 2906\n",
      "Got 2906 pix code events within SI frame-trigger bounds.\n",
      "Found 24 total image onset events.\n",
      "Getting subsequent ITI for each image event...\n",
      "Found 24 iti events after a stimulus onset.\n",
      "Confirming 24 stimulus onsets, with min-max durations of 2.000003-2.000003 sec.\n",
      "Length of trial epochs:  49\n",
      "Number of trials found:  24\n"
     ]
    }
   ],
   "source": [
    "curr_dfn = dfn\n",
    "stimtype = 'grating'\n",
    "phasemod = True\n",
    "trigger_varname = 'frame_trigger'\n",
    "pixelevents, stimevents, trialevents, trigger_times, session_info = get_stimulus_events(curr_dfn, stimtype=stimtype, phasemod=phasemod, triggername=trigger_varname)\n"
   ]
  },
  {
   "cell_type": "code",
   "execution_count": 19,
   "metadata": {},
   "outputs": [
    {
     "name": "stdout",
     "output_type": "stream",
     "text": [
      "================================================================\n",
      "MW parsing summary:\n",
      "================================================================\n",
      "Found 2906 pixel clock events.\n",
      "Found 24 stimulus on events.\n",
      "Found 49 trial epoch (stim ON + ITI) events.\n",
      "Found 1 runs (i.e., trigger boundary events).\n",
      "{'tboundary': [1218328934002, 1218484705733], 'stimduration': 2000, 'stimsize': 100, 'ITI': 4000}\n"
     ]
    }
   ],
   "source": [
    "    # For EACH boundary found for a given datafile (dfn), make sure all the events are concatenated together:\n",
    "    print \"================================================================\"\n",
    "    print \"MW parsing summary:\"\n",
    "    print \"================================================================\"\n",
    "    if len(pixelevents) > 1:\n",
    "        pixelevents = [item for sublist in pixelevents for item in sublist]\n",
    "        pixelevents = list(set(pixelevents))\n",
    "        pixelevents.sort(key=operator.itemgetter(1))\n",
    "    else:\n",
    "        pixelevents = pixelevents[0]\n",
    "    print \"Found %i pixel clock events.\" % len(pixelevents)\n",
    "\n",
    "    # Check that all possible pixel vals are used (otherwise, pix-clock may be missing input):\n",
    "    n_codes = set([i.value[-1]['bit_code'] for i in pixelevents])\n",
    "    if len(n_codes)<16:\n",
    "        print \"Check pixel clock -- missing bit values...\"\n",
    "\n",
    "\n",
    "    if len(stimevents) > 1:\n",
    "        stimevents = [item for sublist in stimevents for item in sublist]\n",
    "        stimevents = list(set(stimevents))\n",
    "        stimevents.sort(key=operator.itemgetter(1))\n",
    "    else:\n",
    "        stimevents = stimevents[0]\n",
    "    print \"Found %i stimulus on events.\" % len(stimevents)\n",
    "    \n",
    "    if not stimtype=='bar':\n",
    "\tif len(trialevents) > 1:\n",
    "\t    trialevents = [item for sublist in trialevents for item in sublist]\n",
    "\t    trialevents = list(set(trialevents))\n",
    "\t    trialevents.sort(key=operator.itemgetter(1))\n",
    "\telse:\n",
    "\t    trialevents = trialevents[0]\n",
    "\tprint \"Found %i trial epoch (stim ON + ITI) events.\" % len(trialevents)\n",
    "\n",
    "\n",
    "    if len(trigger_times) > 1:\n",
    "        trigger_times = [item for sublist in trigger_times for item in sublist]\n",
    "        trigger_times = list(set(trigger_times))\n",
    "        trigger_times.sort(key=operator.itemgetter(1))\n",
    "    else:\n",
    "        trigger_times = trigger_times[0]\n",
    "    print \"Found %i runs (i.e., trigger boundary events).\" % len(trigger_times)\n",
    "\n",
    "    if len(session_info) > 1:\n",
    "        session_info = [item for sublist in session_info for item in sublist]\n",
    "        session_info = list(set(trigger_times))\n",
    "        session_info.sort(key=operator.itemgetter(1))\n",
    "    else:\n",
    "        session_info = session_info[0]\n",
    "    #print \"N sessions in file: .\", len(session_info)\n",
    "    print session_info"
   ]
  },
  {
   "cell_type": "code",
   "execution_count": 25,
   "metadata": {},
   "outputs": [
    {
     "name": "stdout",
     "output_type": "stream",
     "text": [
      "Found 24 trials, corresponding to 1 TIFFs.\n"
     ]
    }
   ],
   "source": [
    "    print \"Found %i trials, corresponding to %i TIFFs.\" % (len(stimevents), len(trigger_times))\n",
    "    refresh_rate = 60"
   ]
  },
  {
   "cell_type": "code",
   "execution_count": 28,
   "metadata": {
    "collapsed": true
   },
   "outputs": [],
   "source": [
    "\n",
    "def get_timekey(item):\n",
    "    return item.time\n"
   ]
  },
  {
   "cell_type": "code",
   "execution_count": 29,
   "metadata": {},
   "outputs": [],
   "source": [
    "\n",
    "ntrials = len(stimevents)\n",
    "post_itis = sorted(trialevents[2::2], key=get_timekey) # get_stimulus_events() returns alternating list of [trial1-stimonset, trial2-iti, trial2-stimonset, trial2-iti, etc...]\n"
   ]
  },
  {
   "cell_type": "code",
   "execution_count": 38,
   "metadata": {},
   "outputs": [],
   "source": [
    "\n",
    "# Get dynamic-grating bicode events:\n",
    "dynamic_stim_bitcodes = []\n",
    "bitcodes_by_trial = dict((i+1, dict()) for i in range(len(stimevents)))\n",
    "#for stim,iti in zip(sorted(stimevents, key=get_timekey), sorted(itis, key=get_timekey)):\n",
    "for trialidx,(stim,iti) in enumerate(zip(sorted(stimevents, key=get_timekey), sorted(post_itis, key=get_timekey))):\n",
    "    trialnum = trialidx + 1\n",
    "    # For each trial, store all associated stimulus-bitcode events (including the 1st stim-onset) as a list of\n",
    "    # display-update events related to that trial:\n",
    "    current_bitcode_evs = [p for p in sorted(pixelevents, key=get_timekey) if p.time>=stim.time and p.time<=iti.time] # p.time<=iti.time to get bit-code for post-stimulus ITI\n",
    "    current_bitcode_values = [p.value[-1]['bit_code'] for p in sorted(current_bitcode_evs, key=get_timekey)]\n",
    "    dynamic_stim_bitcodes.append(current_bitcode_evs)\n",
    "    bitcodes_by_trial[trialnum] = current_bitcode_values #current_bitcode_evs\n",
    "\n",
    "# Roughly calculate how many pixel-clock events there should be. For static images, there should be 1 bitcode-event per trial.\n",
    "# For drifting gratings, on a 60Hz monitor, there should be 60-61 bitcode-events per trial.\n",
    "nexpected_pixelevents = (ntrials * (session_info['stimduration']/1E3) * refresh_rate) + ntrials + 1\n",
    "nbitcode_events = sum([len(tr) for tr in dynamic_stim_bitcodes]) + 1 #len(itis) + 1 # Add an extra ITI for blank before first stimulus\n",
    "\n"
   ]
  },
  {
   "cell_type": "code",
   "execution_count": 39,
   "metadata": {},
   "outputs": [
    {
     "name": "stdout",
     "output_type": "stream",
     "text": [
      "Expected 2905 pixel events, missing 0 pevs.\n"
     ]
    }
   ],
   "source": [
    "print \"Expected %i pixel events, missing %i pevs.\" % (nexpected_pixelevents, nexpected_pixelevents-nbitcode_events)\n"
   ]
  },
  {
   "cell_type": "code",
   "execution_count": 41,
   "metadata": {},
   "outputs": [],
   "source": [
    "# GET TRIAL INFO FOR DB:\n",
    "trial = dict((i+1, dict()) for i in range(len(stimevents)))\n",
    "stimevents = sorted(stimevents, key=get_timekey)\n",
    "trialevents = sorted(trialevents, key=get_timekey)\n",
    "run_start_time = trialevents[0].time\n",
    "for trialidx,(stim,iti) in enumerate(zip(sorted(stimevents, key=get_timekey), sorted(post_itis, key=get_timekey))):\n",
    "    trialnum = trialidx + 1\n",
    "    # blankidx = trialidx*2 + 1\n",
    "    trial[trialnum]['start_time_ms'] = round(stim.time/1E3)\n",
    "    trial[trialnum]['end_time_ms'] = round((iti.time + session_info['ITI']))\n",
    "    if stimtype=='grating':\n",
    "        ori = stim.value[1]['rotation']\n",
    "        sf = round(stim.value[1]['frequency'], 2)\n",
    "        stimname = 'grating-ori-%i-sf-%f' % (ori, sf)\n",
    "        stimpos = [stim.value[1]['xoffset'], stim.value[1]['yoffset']]\n",
    "    else:\n",
    "        # TODO:  fill this out with the appropriate variable tags for RSVP images\n",
    "        stimname = ''\n",
    "        stimpos = ''\n",
    "    stimsize = stim.value[1]['height']\n",
    "    trial[trialnum]['stimuli'] = {'stimulus': stimname, 'position': stimpos, 'scale': stimsize}\n",
    "    trial[trialnum]['stim_on_times'] = round((stim.time - run_start_time)/1E3)\n",
    "    trial[trialnum]['stim_off_times'] = round((iti.time - run_start_time)/1E3)\n",
    "    trial[trialnum]['all_bitcodes'] = bitcodes_by_trial[trialnum]\n",
    "    #if stim.value[-1]['name']=='pixel clock':\n",
    "    trial[trialnum]['stim_bitcode'] = stim.value[-1]['bit_code']\n",
    "    trial[trialnum]['iti_bitcode'] = iti.value[-1]['bit_code']\n"
   ]
  },
  {
   "cell_type": "code",
   "execution_count": 44,
   "metadata": {},
   "outputs": [
    {
     "data": {
      "text/plain": [
       "{'all_bitcodes': [10,\n",
       "  9,\n",
       "  10,\n",
       "  8,\n",
       "  1,\n",
       "  4,\n",
       "  13,\n",
       "  0,\n",
       "  10,\n",
       "  5,\n",
       "  12,\n",
       "  15,\n",
       "  6,\n",
       "  8,\n",
       "  9,\n",
       "  11,\n",
       "  5,\n",
       "  14,\n",
       "  13,\n",
       "  15,\n",
       "  1,\n",
       "  0,\n",
       "  3,\n",
       "  11,\n",
       "  1,\n",
       "  4,\n",
       "  15,\n",
       "  1,\n",
       "  14,\n",
       "  12,\n",
       "  8,\n",
       "  5,\n",
       "  8,\n",
       "  11,\n",
       "  0,\n",
       "  9,\n",
       "  2,\n",
       "  7,\n",
       "  4,\n",
       "  5,\n",
       "  2,\n",
       "  9,\n",
       "  8,\n",
       "  12,\n",
       "  9,\n",
       "  0,\n",
       "  11,\n",
       "  0,\n",
       "  4,\n",
       "  1,\n",
       "  7,\n",
       "  11,\n",
       "  13,\n",
       "  11,\n",
       "  3,\n",
       "  13,\n",
       "  6,\n",
       "  7,\n",
       "  5,\n",
       "  0,\n",
       "  8,\n",
       "  13,\n",
       "  2,\n",
       "  15,\n",
       "  12,\n",
       "  7,\n",
       "  11,\n",
       "  12,\n",
       "  0,\n",
       "  7,\n",
       "  8,\n",
       "  7,\n",
       "  13,\n",
       "  11,\n",
       "  4,\n",
       "  1,\n",
       "  15,\n",
       "  2,\n",
       "  10,\n",
       "  14,\n",
       "  9,\n",
       "  11,\n",
       "  7,\n",
       "  12,\n",
       "  4,\n",
       "  11,\n",
       "  4,\n",
       "  14,\n",
       "  1,\n",
       "  0,\n",
       "  3,\n",
       "  5,\n",
       "  2,\n",
       "  11,\n",
       "  14,\n",
       "  3,\n",
       "  11,\n",
       "  9,\n",
       "  4,\n",
       "  13,\n",
       "  4,\n",
       "  2,\n",
       "  12,\n",
       "  11,\n",
       "  10,\n",
       "  4,\n",
       "  2,\n",
       "  10,\n",
       "  3,\n",
       "  2,\n",
       "  5,\n",
       "  6,\n",
       "  14,\n",
       "  4,\n",
       "  5,\n",
       "  10,\n",
       "  11,\n",
       "  1,\n",
       "  0,\n",
       "  6,\n",
       "  7],\n",
       " 'end_time_ms': 1218390470903.0,\n",
       " 'iti_bitcode': 7,\n",
       " 'start_time_ms': 1218388467.0,\n",
       " 'stim_bitcode': 10,\n",
       " 'stim_off_times': 54151.0,\n",
       " 'stim_on_times': 52151.0,\n",
       " 'stimuli': {'position': [0, 0],\n",
       "  'scale': 100,\n",
       "  'stimulus': 'grating-ori-0-sf-0.100000'}}"
      ]
     },
     "execution_count": 44,
     "metadata": {},
     "output_type": "execute_result"
    }
   ],
   "source": [
    "trial[9]"
   ]
  },
  {
   "cell_type": "code",
   "execution_count": 650,
   "metadata": {},
   "outputs": [
    {
     "data": {
      "text/html": [
       "\n",
       "    <div class=\"bk-root\">\n",
       "        <a href=\"http://bokeh.pydata.org\" target=\"_blank\" class=\"bk-logo bk-logo-small bk-logo-notebook\"></a>\n",
       "        <span id=\"c4cc3c8d-d1b8-4677-8c37-123e2da925e6\">Loading BokehJS ...</span>\n",
       "    </div>"
      ]
     },
     "metadata": {},
     "output_type": "display_data"
    },
    {
     "data": {
      "application/javascript": [
       "\n",
       "(function(global) {\n",
       "  function now() {\n",
       "    return new Date();\n",
       "  }\n",
       "\n",
       "  var force = true;\n",
       "\n",
       "  if (typeof (window._bokeh_onload_callbacks) === \"undefined\" || force === true) {\n",
       "    window._bokeh_onload_callbacks = [];\n",
       "    window._bokeh_is_loading = undefined;\n",
       "  }\n",
       "\n",
       "\n",
       "  \n",
       "  if (typeof (window._bokeh_timeout) === \"undefined\" || force === true) {\n",
       "    window._bokeh_timeout = Date.now() + 5000;\n",
       "    window._bokeh_failed_load = false;\n",
       "  }\n",
       "\n",
       "  var NB_LOAD_WARNING = {'data': {'text/html':\n",
       "     \"<div style='background-color: #fdd'>\\n\"+\n",
       "     \"<p>\\n\"+\n",
       "     \"BokehJS does not appear to have successfully loaded. If loading BokehJS from CDN, this \\n\"+\n",
       "     \"may be due to a slow or bad network connection. Possible fixes:\\n\"+\n",
       "     \"</p>\\n\"+\n",
       "     \"<ul>\\n\"+\n",
       "     \"<li>re-rerun `output_notebook()` to attempt to load from CDN again, or</li>\\n\"+\n",
       "     \"<li>use INLINE resources instead, as so:</li>\\n\"+\n",
       "     \"</ul>\\n\"+\n",
       "     \"<code>\\n\"+\n",
       "     \"from bokeh.resources import INLINE\\n\"+\n",
       "     \"output_notebook(resources=INLINE)\\n\"+\n",
       "     \"</code>\\n\"+\n",
       "     \"</div>\"}};\n",
       "\n",
       "  function display_loaded() {\n",
       "    if (window.Bokeh !== undefined) {\n",
       "      var el = document.getElementById(\"c4cc3c8d-d1b8-4677-8c37-123e2da925e6\");\n",
       "      el.textContent = \"BokehJS \" + Bokeh.version + \" successfully loaded.\";\n",
       "    } else if (Date.now() < window._bokeh_timeout) {\n",
       "      setTimeout(display_loaded, 100)\n",
       "    }\n",
       "  }\n",
       "\n",
       "  function run_callbacks() {\n",
       "    window._bokeh_onload_callbacks.forEach(function(callback) { callback() });\n",
       "    delete window._bokeh_onload_callbacks\n",
       "    console.info(\"Bokeh: all callbacks have finished\");\n",
       "  }\n",
       "\n",
       "  function load_libs(js_urls, callback) {\n",
       "    window._bokeh_onload_callbacks.push(callback);\n",
       "    if (window._bokeh_is_loading > 0) {\n",
       "      console.log(\"Bokeh: BokehJS is being loaded, scheduling callback at\", now());\n",
       "      return null;\n",
       "    }\n",
       "    if (js_urls == null || js_urls.length === 0) {\n",
       "      run_callbacks();\n",
       "      return null;\n",
       "    }\n",
       "    console.log(\"Bokeh: BokehJS not loaded, scheduling load and callback at\", now());\n",
       "    window._bokeh_is_loading = js_urls.length;\n",
       "    for (var i = 0; i < js_urls.length; i++) {\n",
       "      var url = js_urls[i];\n",
       "      var s = document.createElement('script');\n",
       "      s.src = url;\n",
       "      s.async = false;\n",
       "      s.onreadystatechange = s.onload = function() {\n",
       "        window._bokeh_is_loading--;\n",
       "        if (window._bokeh_is_loading === 0) {\n",
       "          console.log(\"Bokeh: all BokehJS libraries loaded\");\n",
       "          run_callbacks()\n",
       "        }\n",
       "      };\n",
       "      s.onerror = function() {\n",
       "        console.warn(\"failed to load library \" + url);\n",
       "      };\n",
       "      console.log(\"Bokeh: injecting script tag for BokehJS library: \", url);\n",
       "      document.getElementsByTagName(\"head\")[0].appendChild(s);\n",
       "    }\n",
       "  };var element = document.getElementById(\"c4cc3c8d-d1b8-4677-8c37-123e2da925e6\");\n",
       "  if (element == null) {\n",
       "    console.log(\"Bokeh: ERROR: autoload.js configured with elementid 'c4cc3c8d-d1b8-4677-8c37-123e2da925e6' but no matching script tag was found. \")\n",
       "    return false;\n",
       "  }\n",
       "\n",
       "  var js_urls = [\"https://cdn.pydata.org/bokeh/release/bokeh-0.12.5.min.js\", \"https://cdn.pydata.org/bokeh/release/bokeh-widgets-0.12.5.min.js\"];\n",
       "\n",
       "  var inline_js = [\n",
       "    function(Bokeh) {\n",
       "      Bokeh.set_log_level(\"info\");\n",
       "    },\n",
       "    \n",
       "    function(Bokeh) {\n",
       "      \n",
       "    },\n",
       "    \n",
       "    function(Bokeh) {\n",
       "      \n",
       "      document.getElementById(\"c4cc3c8d-d1b8-4677-8c37-123e2da925e6\").textContent = \"BokehJS is loading...\";\n",
       "    },\n",
       "    function(Bokeh) {\n",
       "      console.log(\"Bokeh: injecting CSS: https://cdn.pydata.org/bokeh/release/bokeh-0.12.5.min.css\");\n",
       "      Bokeh.embed.inject_css(\"https://cdn.pydata.org/bokeh/release/bokeh-0.12.5.min.css\");\n",
       "      console.log(\"Bokeh: injecting CSS: https://cdn.pydata.org/bokeh/release/bokeh-widgets-0.12.5.min.css\");\n",
       "      Bokeh.embed.inject_css(\"https://cdn.pydata.org/bokeh/release/bokeh-widgets-0.12.5.min.css\");\n",
       "    }\n",
       "  ];\n",
       "\n",
       "  function run_inline_js() {\n",
       "    \n",
       "    if ((window.Bokeh !== undefined) || (force === true)) {\n",
       "      for (var i = 0; i < inline_js.length; i++) {\n",
       "        inline_js[i](window.Bokeh);\n",
       "      }if (force === true) {\n",
       "        display_loaded();\n",
       "      }} else if (Date.now() < window._bokeh_timeout) {\n",
       "      setTimeout(run_inline_js, 100);\n",
       "    } else if (!window._bokeh_failed_load) {\n",
       "      console.log(\"Bokeh: BokehJS failed to load within specified timeout.\");\n",
       "      window._bokeh_failed_load = true;\n",
       "    } else if (force !== true) {\n",
       "      var cell = $(document.getElementById(\"c4cc3c8d-d1b8-4677-8c37-123e2da925e6\")).parents('.cell').data().cell;\n",
       "      cell.output_area.append_execute_result(NB_LOAD_WARNING)\n",
       "    }\n",
       "\n",
       "  }\n",
       "\n",
       "  if (window._bokeh_is_loading === 0) {\n",
       "    console.log(\"Bokeh: BokehJS loaded, going straight to plotting\");\n",
       "    run_inline_js();\n",
       "  } else {\n",
       "    load_libs(js_urls, function() {\n",
       "      console.log(\"Bokeh: BokehJS plotting callback run at\", now());\n",
       "      run_inline_js();\n",
       "    });\n",
       "  }\n",
       "}(this));"
      ]
     },
     "metadata": {},
     "output_type": "display_data"
    }
   ],
   "source": [
    "from bokeh.charts import Histogram\n",
    "from bokeh.charts import defaults,show, output_file\n",
    "from bokeh.io import output_notebook\n",
    "from bokeh.plotting import figure\n",
    "\n",
    "output_notebook()"
   ]
  },
  {
   "cell_type": "code",
   "execution_count": 651,
   "metadata": {},
   "outputs": [
    {
     "data": {
      "text/html": [
       "\n",
       "\n",
       "    <div class=\"bk-root\">\n",
       "        <div class=\"bk-plotdiv\" id=\"6ed4a88c-7da2-48a8-bfe2-d4379ef62a05\"></div>\n",
       "    </div>\n",
       "<script type=\"text/javascript\">\n",
       "  \n",
       "  (function(global) {\n",
       "    function now() {\n",
       "      return new Date();\n",
       "    }\n",
       "  \n",
       "    var force = false;\n",
       "  \n",
       "    if (typeof (window._bokeh_onload_callbacks) === \"undefined\" || force === true) {\n",
       "      window._bokeh_onload_callbacks = [];\n",
       "      window._bokeh_is_loading = undefined;\n",
       "    }\n",
       "  \n",
       "  \n",
       "    \n",
       "    if (typeof (window._bokeh_timeout) === \"undefined\" || force === true) {\n",
       "      window._bokeh_timeout = Date.now() + 0;\n",
       "      window._bokeh_failed_load = false;\n",
       "    }\n",
       "  \n",
       "    var NB_LOAD_WARNING = {'data': {'text/html':\n",
       "       \"<div style='background-color: #fdd'>\\n\"+\n",
       "       \"<p>\\n\"+\n",
       "       \"BokehJS does not appear to have successfully loaded. If loading BokehJS from CDN, this \\n\"+\n",
       "       \"may be due to a slow or bad network connection. Possible fixes:\\n\"+\n",
       "       \"</p>\\n\"+\n",
       "       \"<ul>\\n\"+\n",
       "       \"<li>re-rerun `output_notebook()` to attempt to load from CDN again, or</li>\\n\"+\n",
       "       \"<li>use INLINE resources instead, as so:</li>\\n\"+\n",
       "       \"</ul>\\n\"+\n",
       "       \"<code>\\n\"+\n",
       "       \"from bokeh.resources import INLINE\\n\"+\n",
       "       \"output_notebook(resources=INLINE)\\n\"+\n",
       "       \"</code>\\n\"+\n",
       "       \"</div>\"}};\n",
       "  \n",
       "    function display_loaded() {\n",
       "      if (window.Bokeh !== undefined) {\n",
       "        var el = document.getElementById(\"6ed4a88c-7da2-48a8-bfe2-d4379ef62a05\");\n",
       "        el.textContent = \"BokehJS \" + Bokeh.version + \" successfully loaded.\";\n",
       "      } else if (Date.now() < window._bokeh_timeout) {\n",
       "        setTimeout(display_loaded, 100)\n",
       "      }\n",
       "    }\n",
       "  \n",
       "    function run_callbacks() {\n",
       "      window._bokeh_onload_callbacks.forEach(function(callback) { callback() });\n",
       "      delete window._bokeh_onload_callbacks\n",
       "      console.info(\"Bokeh: all callbacks have finished\");\n",
       "    }\n",
       "  \n",
       "    function load_libs(js_urls, callback) {\n",
       "      window._bokeh_onload_callbacks.push(callback);\n",
       "      if (window._bokeh_is_loading > 0) {\n",
       "        console.log(\"Bokeh: BokehJS is being loaded, scheduling callback at\", now());\n",
       "        return null;\n",
       "      }\n",
       "      if (js_urls == null || js_urls.length === 0) {\n",
       "        run_callbacks();\n",
       "        return null;\n",
       "      }\n",
       "      console.log(\"Bokeh: BokehJS not loaded, scheduling load and callback at\", now());\n",
       "      window._bokeh_is_loading = js_urls.length;\n",
       "      for (var i = 0; i < js_urls.length; i++) {\n",
       "        var url = js_urls[i];\n",
       "        var s = document.createElement('script');\n",
       "        s.src = url;\n",
       "        s.async = false;\n",
       "        s.onreadystatechange = s.onload = function() {\n",
       "          window._bokeh_is_loading--;\n",
       "          if (window._bokeh_is_loading === 0) {\n",
       "            console.log(\"Bokeh: all BokehJS libraries loaded\");\n",
       "            run_callbacks()\n",
       "          }\n",
       "        };\n",
       "        s.onerror = function() {\n",
       "          console.warn(\"failed to load library \" + url);\n",
       "        };\n",
       "        console.log(\"Bokeh: injecting script tag for BokehJS library: \", url);\n",
       "        document.getElementsByTagName(\"head\")[0].appendChild(s);\n",
       "      }\n",
       "    };var element = document.getElementById(\"6ed4a88c-7da2-48a8-bfe2-d4379ef62a05\");\n",
       "    if (element == null) {\n",
       "      console.log(\"Bokeh: ERROR: autoload.js configured with elementid '6ed4a88c-7da2-48a8-bfe2-d4379ef62a05' but no matching script tag was found. \")\n",
       "      return false;\n",
       "    }\n",
       "  \n",
       "    var js_urls = [];\n",
       "  \n",
       "    var inline_js = [\n",
       "      function(Bokeh) {\n",
       "        (function() {\n",
       "          var fn = function() {\n",
       "            var docs_json = {\"4d3bd35f-a000-4de2-bbcc-fd6cdc7f3ddb\":{\"roots\":{\"references\":[{\"attributes\":{\"data_source\":{\"id\":\"1609fa1c-d2b5-4fe6-a049-ee87cc053955\",\"type\":\"ColumnDataSource\"},\"glyph\":{\"id\":\"d6492fc0-70aa-4c55-9d71-028f870a3f51\",\"type\":\"Quad\"},\"hover_glyph\":null,\"muted_glyph\":null,\"nonselection_glyph\":{\"id\":\"8e28654e-e4d8-4aae-859b-f28bc4a5848d\",\"type\":\"Quad\"},\"selection_glyph\":null},\"id\":\"9078b5d2-f517-4300-9768-b0eaeb30ec03\",\"type\":\"GlyphRenderer\"},{\"attributes\":{\"callback\":null,\"column_names\":[\"right\",\"top\",\"left\"],\"data\":{\"left\":{\"__ndarray__\":\"AAAAAADAjkB7FK5H4cKOQPYoXI/CxY5AcT0K16PIjkDsUbgehcuOQGZmZmZmzo5A4XoUrkfRjkBcj8L1KNSOQNejcD0K145AUrgehevZjkDNzMzMzNyOQEjhehSu345Aw/UoXI/ijkA9CtejcOWOQLgehetR6I5AMzMzMzPrjkCuR+F6FO6OQClcj8L18I5ApHA9CtfzjkAfhetRuPaOQJqZmZmZ+Y5AFK5H4Xr8jkCPwvUoXP+OQArXo3A9Ao9AhetRuB4Fj0AAAAAAAAiPQHsUrkfhCo9A9ihcj8INj0BxPQrXoxCPQOxRuB6FE49AZmZmZmYWj0DhehSuRxmPQFyPwvUoHI9A16NwPQofj0BSuB6F6yGPQM3MzMzMJI9ASOF6FK4nj0DD9ShcjyqPQD0K16NwLY9AuB6F61Ewj0AzMzMzMzOPQK5H4XoUNo9AKVyPwvU4j0CkcD0K1zuPQB+F61G4Po9AmpmZmZlBj0AUrkfhekSPQI/C9ShcR49ACtejcD1Kj0CF61G4Hk2PQAAAAAAAUI9AexSuR+FSj0D2KFyPwlWPQHE9CtejWI9A7FG4HoVbj0BmZmZmZl6PQOF6FK5HYY9AXI/C9Shkj0DXo3A9CmePQFK4HoXraY9AzczMzMxsj0BI4XoUrm+PQMP1KFyPco9APQrXo3B1j0C4HoXrUXiPQDMzMzMze49ArkfhehR+j0ApXI/C9YCPQKRwPQrXg49AH4XrUbiGj0CamZmZmYmPQBSuR+F6jI9Aj8L1KFyPj0AK16NwPZKPQIXrUbgelY9AAAAAAACYj0B7FK5H4ZqPQPYoXI/CnY9AcT0K16Ogj0DsUbgehaOPQGZmZmZmpo9A4XoUrkepj0Bcj8L1KKyPQNejcD0Kr49AUrgeheuxj0DNzMzMzLSPQEjhehSut49Aw/UoXI+6j0A9CtejcL2PQLgehetRwI9AMzMzMzPDj0CuR+F6FMaPQClcj8L1yI9ApHA9CtfLj0AfhetRuM6PQJqZmZmZ0Y9AFK5H4XrUj0CPwvUoXNePQArXo3A92o9AhetRuB7dj0A=\",\"dtype\":\"float64\",\"shape\":[100]},\"right\":{\"__ndarray__\":\"exSuR+HCjkD2KFyPwsWOQHE9CtejyI5A7FG4HoXLjkBmZmZmZs6OQOF6FK5H0Y5AXI/C9SjUjkDXo3A9CteOQFK4HoXr2Y5AzczMzMzcjkBI4XoUrt+OQMP1KFyP4o5APQrXo3DljkC4HoXrUeiOQDMzMzMz645ArkfhehTujkApXI/C9fCOQKRwPQrX845AH4XrUbj2jkCamZmZmfmOQBSuR+F6/I5Aj8L1KFz/jkAK16NwPQKPQIXrUbgeBY9AAAAAAAAIj0B7FK5H4QqPQPYoXI/CDY9AcT0K16MQj0DsUbgehROPQGZmZmZmFo9A4XoUrkcZj0Bcj8L1KByPQNejcD0KH49AUrgeheshj0DNzMzMzCSPQEjhehSuJ49Aw/UoXI8qj0A9CtejcC2PQLgehetRMI9AMzMzMzMzj0CuR+F6FDaPQClcj8L1OI9ApHA9Ctc7j0AfhetRuD6PQJqZmZmZQY9AFK5H4XpEj0CPwvUoXEePQArXo3A9So9AhetRuB5Nj0AAAAAAAFCPQHsUrkfhUo9A9ihcj8JVj0BxPQrXo1iPQOxRuB6FW49AZmZmZmZej0DhehSuR2GPQFyPwvUoZI9A16NwPQpnj0BSuB6F62mPQM3MzMzMbI9ASOF6FK5vj0DD9Shcj3KPQD0K16NwdY9AuB6F61F4j0AzMzMzM3uPQK5H4XoUfo9AKVyPwvWAj0CkcD0K14OPQB+F61G4ho9AmpmZmZmJj0AUrkfheoyPQI/C9Shcj49ACtejcD2Sj0CF61G4HpWPQAAAAAAAmI9AexSuR+Gaj0D2KFyPwp2PQHE9CtejoI9A7FG4HoWjj0BmZmZmZqaPQOF6FK5HqY9AXI/C9Sisj0DXo3A9Cq+PQFK4HoXrsY9AzczMzMy0j0BI4XoUrrePQMP1KFyPuo9APQrXo3C9j0C4HoXrUcCPQDMzMzMzw49ArkfhehTGj0ApXI/C9ciPQKRwPQrXy49AH4XrUbjOj0CamZmZmdGPQBSuR+F61I9Aj8L1KFzXj0AK16NwPdqPQIXrUbge3Y9AAAAAAADgj0A=\",\"dtype\":\"float64\",\"shape\":[100]},\"top\":{\"__ndarray__\":\"idH8G3ifjj8AAAAAAAAAAAAAAAAAAAAAAAAAAAAAAAAAAAAAAAAAAAAAAAAAAAAAAAAAAAAAAAAAAAAAAAAAAAAAAAAAAAAAAAAAAAAAAAAAAAAAAAAAAD2xwpEJ48U/AAAAAAAAAAAAAAAAAAAAAAAAAAAAAAAAAAAAAAAAAAAAAAAAAAAAAAAAAAAAAAAAAAAAAAAAAAAAAAAAAAAAAAAAAAAAAAAAAAAAAAAAAADXNuRAxEW2PwAAAAAAAAAAAAAAAAAAAAAAAAAAAAAAAAAAAAAAAAAAAAAAAAAAAAAAAAAAAAAAAAAAAAAAAAAAAAAAAAAAAAAAAAAAAAAAAAAAAAAAAAAAulRFj8VjdD8AAAAAAAAAAAAAAAAAAAAAAAAAAAAAAAAAAAAAAAAAAAAAAAAAAAAAAAAAAAAAAAAAAAAAAAAAAAAAAAAAAAAAAAAAAAAAAAAAAAAAAAAAAKJ12DKFNgFAAAAAAAAAAAAAAAAAAAAAAAAAAAAAAAAAAAAAAAAAAAAAAAAAAAAAAAAAAAAAAAAAAAAAAAAAAAAAAAAAAAAAAAAAAAAAAAAAAAAAAAAAAAAwApNR10PCPwAAAAAAAAAAAAAAAAAAAAAAAAAAAAAAAAAAAAAAAAAAAAAAAAAAAAAAAAAAAAAAAAAAAAAAAAAAAAAAAAAAAAAAAAAAAAAAAAAAAAAAAAAAuIjOsymzgz8AAAAAAAAAAAAAAAAAAAAAAAAAAAAAAAAAAAAAAAAAAAAAAAAAAAAAAAAAAAAAAAAAAAAAAAAAAAAAAAAAAAAAAAAAAAAAAAAAAAAAAAAAAKAgmXUW58g/AAAAAAAAAAAAAAAAAAAAAAAAAAAAAAAAAAAAAAAAAAAAAAAAAAAAAAAAAAAAAAAAAAAAAAAAAAAAAAAAAAAAAAAAAAAAAAAAAAAAAAAAAAAwWYwdf3ZFPwAAAAAAAAAAAAAAAAAAAAAAAAAAAAAAAAAAAAAAAAAAAAAAAAAAAAAAAAAAAAAAAAAAAAAAAAAAAAAAAAAAAAAAAAAAAAAAAAAAAAAAAAAAjM5zEXRNRz8=\",\"dtype\":\"float64\",\"shape\":[100]}}},\"id\":\"1609fa1c-d2b5-4fe6-a049-ee87cc053955\",\"type\":\"ColumnDataSource\"},{\"attributes\":{},\"id\":\"f0d25a08-dc4a-4a44-b319-be76fa410b0b\",\"type\":\"BasicTicker\"},{\"attributes\":{\"plot\":{\"id\":\"322d62c4-80b6-49fb-8e2d-123c9f41c2a7\",\"subtype\":\"Figure\",\"type\":\"Plot\"}},\"id\":\"b346c91e-bde7-4c44-861c-9d2c4c70d297\",\"type\":\"ZoomOutTool\"},{\"attributes\":{},\"id\":\"79a290ff-f713-4643-8757-cdf2eeb382e6\",\"type\":\"BasicTicker\"},{\"attributes\":{\"active_drag\":\"auto\",\"active_scroll\":\"auto\",\"active_tap\":\"auto\",\"tools\":[{\"id\":\"f3450f36-2e71-43b5-9571-0d520196eafe\",\"type\":\"SaveTool\"},{\"id\":\"5efe61d0-37e1-4199-9b38-29899bde2c19\",\"type\":\"ZoomInTool\"},{\"id\":\"b346c91e-bde7-4c44-861c-9d2c4c70d297\",\"type\":\"ZoomOutTool\"},{\"id\":\"70b79852-1f32-4bc2-8189-4e3b2bd3bf45\",\"type\":\"PanTool\"}]},\"id\":\"43347934-2892-497a-9951-7e8d300f8663\",\"type\":\"Toolbar\"},{\"attributes\":{\"formatter\":{\"id\":\"f5a59898-b55b-40b7-93da-9e80fb8a058f\",\"type\":\"BasicTickFormatter\"},\"plot\":{\"id\":\"322d62c4-80b6-49fb-8e2d-123c9f41c2a7\",\"subtype\":\"Figure\",\"type\":\"Plot\"},\"ticker\":{\"id\":\"f0d25a08-dc4a-4a44-b319-be76fa410b0b\",\"type\":\"BasicTicker\"}},\"id\":\"f1677ff9-1329-41e4-bf1d-9b76f24c4fe6\",\"type\":\"LinearAxis\"},{\"attributes\":{},\"id\":\"2ac06037-da14-477a-8c30-f6a63746e20a\",\"type\":\"ToolEvents\"},{\"attributes\":{\"plot\":{\"id\":\"322d62c4-80b6-49fb-8e2d-123c9f41c2a7\",\"subtype\":\"Figure\",\"type\":\"Plot\"}},\"id\":\"70b79852-1f32-4bc2-8189-4e3b2bd3bf45\",\"type\":\"PanTool\"},{\"attributes\":{\"plot\":{\"id\":\"322d62c4-80b6-49fb-8e2d-123c9f41c2a7\",\"subtype\":\"Figure\",\"type\":\"Plot\"}},\"id\":\"5efe61d0-37e1-4199-9b38-29899bde2c19\",\"type\":\"ZoomInTool\"},{\"attributes\":{\"bottom\":{\"value\":0},\"fill_alpha\":{\"value\":0.1},\"fill_color\":{\"value\":\"#1f77b4\"},\"left\":{\"field\":\"left\"},\"line_alpha\":{\"value\":0.1},\"line_color\":{\"value\":\"#1f77b4\"},\"right\":{\"field\":\"right\"},\"top\":{\"field\":\"top\"}},\"id\":\"8e28654e-e4d8-4aae-859b-f28bc4a5848d\",\"type\":\"Quad\"},{\"attributes\":{\"formatter\":{\"id\":\"62dcb95a-104c-408c-8f5c-82346f7f5ea0\",\"type\":\"BasicTickFormatter\"},\"plot\":{\"id\":\"322d62c4-80b6-49fb-8e2d-123c9f41c2a7\",\"subtype\":\"Figure\",\"type\":\"Plot\"},\"ticker\":{\"id\":\"79a290ff-f713-4643-8757-cdf2eeb382e6\",\"type\":\"BasicTicker\"}},\"id\":\"92cd9edb-5945-4a5f-b77e-20eee30fa86a\",\"type\":\"LinearAxis\"},{\"attributes\":{\"plot\":{\"id\":\"322d62c4-80b6-49fb-8e2d-123c9f41c2a7\",\"subtype\":\"Figure\",\"type\":\"Plot\"},\"ticker\":{\"id\":\"f0d25a08-dc4a-4a44-b319-be76fa410b0b\",\"type\":\"BasicTicker\"}},\"id\":\"1670f3ef-f997-45c8-95e3-00c520f8229e\",\"type\":\"Grid\"},{\"attributes\":{\"plot\":{\"id\":\"322d62c4-80b6-49fb-8e2d-123c9f41c2a7\",\"subtype\":\"Figure\",\"type\":\"Plot\"}},\"id\":\"f3450f36-2e71-43b5-9571-0d520196eafe\",\"type\":\"SaveTool\"},{\"attributes\":{\"dimension\":1,\"plot\":{\"id\":\"322d62c4-80b6-49fb-8e2d-123c9f41c2a7\",\"subtype\":\"Figure\",\"type\":\"Plot\"},\"ticker\":{\"id\":\"79a290ff-f713-4643-8757-cdf2eeb382e6\",\"type\":\"BasicTicker\"}},\"id\":\"590c410f-f818-4825-8b43-9c73e8a7b6c5\",\"type\":\"Grid\"},{\"attributes\":{},\"id\":\"62dcb95a-104c-408c-8f5c-82346f7f5ea0\",\"type\":\"BasicTickFormatter\"},{\"attributes\":{\"bottom\":{\"value\":0},\"fill_color\":{\"value\":\"#036564\"},\"left\":{\"field\":\"left\"},\"line_color\":{\"value\":\"#033649\"},\"right\":{\"field\":\"right\"},\"top\":{\"field\":\"top\"}},\"id\":\"d6492fc0-70aa-4c55-9d71-028f870a3f51\",\"type\":\"Quad\"},{\"attributes\":{\"plot\":null,\"text\":\"Intervals between writes (ms)\"},\"id\":\"939a3b7e-d7c9-4edf-aeed-742ea0e355f3\",\"type\":\"Title\"},{\"attributes\":{\"background_fill_color\":{\"value\":\"white\"},\"below\":[{\"id\":\"f1677ff9-1329-41e4-bf1d-9b76f24c4fe6\",\"type\":\"LinearAxis\"}],\"left\":[{\"id\":\"92cd9edb-5945-4a5f-b77e-20eee30fa86a\",\"type\":\"LinearAxis\"}],\"renderers\":[{\"id\":\"f1677ff9-1329-41e4-bf1d-9b76f24c4fe6\",\"type\":\"LinearAxis\"},{\"id\":\"1670f3ef-f997-45c8-95e3-00c520f8229e\",\"type\":\"Grid\"},{\"id\":\"92cd9edb-5945-4a5f-b77e-20eee30fa86a\",\"type\":\"LinearAxis\"},{\"id\":\"590c410f-f818-4825-8b43-9c73e8a7b6c5\",\"type\":\"Grid\"},{\"id\":\"9078b5d2-f517-4300-9768-b0eaeb30ec03\",\"type\":\"GlyphRenderer\"}],\"title\":{\"id\":\"939a3b7e-d7c9-4edf-aeed-742ea0e355f3\",\"type\":\"Title\"},\"tool_events\":{\"id\":\"2ac06037-da14-477a-8c30-f6a63746e20a\",\"type\":\"ToolEvents\"},\"toolbar\":{\"id\":\"43347934-2892-497a-9951-7e8d300f8663\",\"type\":\"Toolbar\"},\"x_range\":{\"id\":\"1c8c7cf9-d580-4e23-95b3-829121c1fa06\",\"type\":\"DataRange1d\"},\"y_range\":{\"id\":\"b400efb5-b80a-4475-a8f1-0a4a9d48db6d\",\"type\":\"DataRange1d\"}},\"id\":\"322d62c4-80b6-49fb-8e2d-123c9f41c2a7\",\"subtype\":\"Figure\",\"type\":\"Plot\"},{\"attributes\":{\"callback\":null},\"id\":\"b400efb5-b80a-4475-a8f1-0a4a9d48db6d\",\"type\":\"DataRange1d\"},{\"attributes\":{},\"id\":\"f5a59898-b55b-40b7-93da-9e80fb8a058f\",\"type\":\"BasicTickFormatter\"},{\"attributes\":{\"callback\":null},\"id\":\"1c8c7cf9-d580-4e23-95b3-829121c1fa06\",\"type\":\"DataRange1d\"}],\"root_ids\":[\"322d62c4-80b6-49fb-8e2d-123c9f41c2a7\"]},\"title\":\"Bokeh Application\",\"version\":\"0.12.5\"}};\n",
       "            var render_items = [{\"docid\":\"4d3bd35f-a000-4de2-bbcc-fd6cdc7f3ddb\",\"elementid\":\"6ed4a88c-7da2-48a8-bfe2-d4379ef62a05\",\"modelid\":\"322d62c4-80b6-49fb-8e2d-123c9f41c2a7\"}];\n",
       "            \n",
       "            Bokeh.embed.embed_items(docs_json, render_items);\n",
       "          };\n",
       "          if (document.readyState != \"loading\") fn();\n",
       "          else document.addEventListener(\"DOMContentLoaded\", fn);\n",
       "        })();\n",
       "      },\n",
       "      function(Bokeh) {\n",
       "      }\n",
       "    ];\n",
       "  \n",
       "    function run_inline_js() {\n",
       "      \n",
       "      if ((window.Bokeh !== undefined) || (force === true)) {\n",
       "        for (var i = 0; i < inline_js.length; i++) {\n",
       "          inline_js[i](window.Bokeh);\n",
       "        }if (force === true) {\n",
       "          display_loaded();\n",
       "        }} else if (Date.now() < window._bokeh_timeout) {\n",
       "        setTimeout(run_inline_js, 100);\n",
       "      } else if (!window._bokeh_failed_load) {\n",
       "        console.log(\"Bokeh: BokehJS failed to load within specified timeout.\");\n",
       "        window._bokeh_failed_load = true;\n",
       "      } else if (force !== true) {\n",
       "        var cell = $(document.getElementById(\"6ed4a88c-7da2-48a8-bfe2-d4379ef62a05\")).parents('.cell').data().cell;\n",
       "        cell.output_area.append_execute_result(NB_LOAD_WARNING)\n",
       "      }\n",
       "  \n",
       "    }\n",
       "  \n",
       "    if (window._bokeh_is_loading === 0) {\n",
       "      console.log(\"Bokeh: BokehJS loaded, going straight to plotting\");\n",
       "      run_inline_js();\n",
       "    } else {\n",
       "      load_libs(js_urls, function() {\n",
       "        console.log(\"Bokeh: BokehJS plotting callback run at\", now());\n",
       "        run_inline_js();\n",
       "      });\n",
       "    }\n",
       "  }(this));\n",
       "</script>"
      ]
     },
     "metadata": {},
     "output_type": "display_data"
    }
   ],
   "source": [
    "p1 = figure(title=\"Intervals between writes (ms)\",tools=\"save, zoom_in, zoom_out, pan\",\n",
    "            background_fill_color=\"white\")\n",
    "\n",
    "#medintervals = np.array([i for i in intervals if i<=10000000])\n",
    "\n",
    "hist, edges = np.histogram(np.diff(arduino_time), density=True, bins=100)\n",
    "p1.quad(top=hist, bottom=0, left=edges[:-1], right=edges[1:],\n",
    "        fill_color=\"#036564\", line_color=\"#033649\")\n",
    "show(p1)"
   ]
  },
  {
   "cell_type": "code",
   "execution_count": 111,
   "metadata": {},
   "outputs": [
    {
     "name": "stdout",
     "output_type": "stream",
     "text": [
      "6620\n"
     ]
    }
   ],
   "source": [
    "# frame_off_idxs = [idx for idx,val in enumerate(frame_triggers) if val==0]\n",
    "frame_on_idxs = [idx+1 for idx,diff in enumerate(np.diff(frame_triggers)) if diff==1]\n",
    "#print len(frame_on_idxs)\n",
    "frame_on_idxs.append(0)\n",
    "frame_on_idxs = sorted(frame_on_idxs)\n",
    "print len(frame_on_idxs)\n"
   ]
  },
  {
   "cell_type": "code",
   "execution_count": 112,
   "metadata": {},
   "outputs": [
    {
     "name": "stdout",
     "output_type": "stream",
     "text": [
      "Time expected between frames (ms): 22.3700134444\n",
      "N frames:  6620\n"
     ]
    }
   ],
   "source": [
    "frame_on_times = [arduino_time[i] for i in frame_on_idxs]\n",
    "print \"Time expected between frames (ms):\", (1/framerate)*1000\n",
    "print \"N frames: \", len(frame_on_times)"
   ]
  },
  {
   "cell_type": "code",
   "execution_count": 113,
   "metadata": {
    "collapsed": true
   },
   "outputs": [],
   "source": [
    "### Get bitcodes for each frame:\n",
    "frame_bitcodes = dict()\n",
    "for idx,frameidx in enumerate(frame_on_idxs):\n",
    "    #framenum = 'frame'+str(idx)\n",
    "    if idx==len(frame_on_idxs)-1:\n",
    "        bcodes = bitcodes[frameidx:]\n",
    "    else:\n",
    "        bcodes = bitcodes[frameidx:frame_on_idxs[idx+1]]\n",
    "    frame_bitcodes[idx] = bcodes"
   ]
  },
  {
   "cell_type": "code",
   "execution_count": 114,
   "metadata": {},
   "outputs": [
    {
     "data": {
      "text/plain": [
       "2236    10\n",
       "2237    10\n",
       "2238    10\n",
       "2239    10\n",
       "2240    10\n",
       "2241    10\n",
       "2242    10\n",
       "2243    10\n",
       "2244    10\n",
       "2245    10\n",
       "2246    10\n",
       "2247    10\n",
       "2248    10\n",
       "2249    10\n",
       "2250    10\n",
       "2251    10\n",
       "2252    10\n",
       "2253    10\n",
       "2254    10\n",
       "2255    10\n",
       "2256    10\n",
       "2257    10\n",
       "Name:  pixel_clock, dtype: int64"
      ]
     },
     "execution_count": 114,
     "metadata": {},
     "output_type": "execute_result"
    }
   ],
   "source": [
    "frame_bitcodes[100]"
   ]
  },
  {
   "cell_type": "code",
   "execution_count": 115,
   "metadata": {},
   "outputs": [
    {
     "data": {
      "text/plain": [
       "6620"
      ]
     },
     "execution_count": 115,
     "metadata": {},
     "output_type": "execute_result"
    }
   ],
   "source": [
    "len(frame_bitcodes)"
   ]
  },
  {
   "cell_type": "code",
   "execution_count": 116,
   "metadata": {},
   "outputs": [
    {
     "data": {
      "text/plain": [
       "[3, 4, 5, 6, 7, 8, 9, 10, 11, 12, 13, 14, 15, 16, 17, 18, 19, 20, 21, 22]"
      ]
     },
     "execution_count": 116,
     "metadata": {},
     "output_type": "execute_result"
    }
   ],
   "source": [
    "frames_with_stim = [f for f in frame_bitcodes.keys() if sum(frame_bitcodes[f])>0]\n",
    "frames_with_stim = sorted(frames_with_stim) #, key=natural_keys)\n",
    "frames_with_stim[0:20]\n",
    "# blank_frames = [k for k in frame_bitcodes.keys() if k < frames_with_stim[0]]\n",
    "# print blank_frames"
   ]
  },
  {
   "cell_type": "code",
   "execution_count": 117,
   "metadata": {
    "collapsed": true
   },
   "outputs": [],
   "source": [
    "# for b in blank_frames:\n",
    "#     frame_bitcodes.pop(b, None)"
   ]
  },
  {
   "cell_type": "code",
   "execution_count": 118,
   "metadata": {},
   "outputs": [
    {
     "name": "stdout",
     "output_type": "stream",
     "text": [
      "First real stim on frame  4\n",
      "[0, 1, 2, 3]\n"
     ]
    }
   ],
   "source": [
    "from collections import Counter\n",
    "modes_by_frame = dict()\n",
    "for frame in frame_bitcodes.keys():\n",
    "    bitcode_counts = Counter(frame_bitcodes[frame])\n",
    "    modes_by_frame[frame] = bitcode_counts.most_common(1)[0][0]\n",
    "\n",
    "first_stim_frame = [k for k in sorted(modes_by_frame.keys()) if modes_by_frame[k]>0][0]\n",
    "print \"First real stim on frame \", first_stim_frame\n",
    "\n",
    "blank_frames = [k for k in modes_by_frame.keys() if k < first_stim_frame]\n",
    "print blank_frames\n",
    "for b in blank_frames:\n",
    "    modes_by_frame.pop(b, None)"
   ]
  },
  {
   "cell_type": "code",
   "execution_count": 119,
   "metadata": {},
   "outputs": [
    {
     "data": {
      "text/plain": [
       "68     0\n",
       "69     0\n",
       "70     0\n",
       "71     0\n",
       "72     0\n",
       "73     0\n",
       "74     0\n",
       "75     0\n",
       "76     0\n",
       "77     0\n",
       "78     0\n",
       "79     0\n",
       "80     0\n",
       "81     0\n",
       "82     0\n",
       "83     0\n",
       "84     0\n",
       "85     0\n",
       "86     0\n",
       "87    10\n",
       "88    10\n",
       "89    10\n",
       "Name:  pixel_clock, dtype: int64"
      ]
     },
     "execution_count": 119,
     "metadata": {},
     "output_type": "execute_result"
    }
   ],
   "source": [
    "frame_bitcodes[3]"
   ]
  },
  {
   "cell_type": "code",
   "execution_count": null,
   "metadata": {
    "collapsed": true
   },
   "outputs": [],
   "source": []
  },
  {
   "cell_type": "markdown",
   "metadata": {},
   "source": [
    "### Check parse_mw_trials.py output:"
   ]
  },
  {
   "cell_type": "code",
   "execution_count": 120,
   "metadata": {},
   "outputs": [
    {
     "data": {
      "text/plain": [
       "['trial_info_20171009_CE059_FOV1_zoom3x_001.json',\n",
       " 'trial_info_20171009_CE059_FOV1_zoom3x_002.json',\n",
       " 'trial_info_20171009_CE059_FOV1_zoom3x_003.json',\n",
       " 'trial_info_20171009_CE059_FOV1_zoom3x_004.json',\n",
       " 'trial_info_20171009_CE059_FOV1_zoom3x_005.json',\n",
       " 'trial_info_20171009_CE059_FOV1_zoom3x_006.json',\n",
       " 'trial_info_20171009_CE059_FOV1_zoom3x_007.json',\n",
       " 'trial_info_20171009_CE059_FOV1_zoom3x_008.json',\n",
       " 'trial_info_20171009_CE059_FOV1_zoom3x_009.json',\n",
       " 'trial_info_20171009_CE059_FOV1_zoom3x_010.json']"
      ]
     },
     "execution_count": 120,
     "metadata": {},
     "output_type": "execute_result"
    }
   ],
   "source": [
    "pydict_jsons = os.listdir(path_to_paradigm_files)\n",
    "pydict_jsons = sorted([p for p in pydict_jsons if p.endswith('.json') and 'trial_info' in p], key=natural_keys)\n",
    "pydict_jsons"
   ]
  },
  {
   "cell_type": "code",
   "execution_count": 121,
   "metadata": {},
   "outputs": [
    {
     "name": "stdout",
     "output_type": "stream",
     "text": [
      "trial_info_20171009_CE059_FOV1_zoom3x_003.json\n",
      "[u'24', u'20', u'21', u'22', u'23', u'1', u'3', u'2', u'5', u'4', u'7', u'6', u'9', u'8', u'11', u'10', u'13', u'12', u'15', u'14', u'17', u'16', u'19', u'18']\n"
     ]
    }
   ],
   "source": [
    "#fid = 0\n",
    "print pydict_jsons[fid]\n",
    "with open(os.path.join(path_to_paradigm_files, pydict_jsons[fid]), 'r') as f:\n",
    "    trials = json.load(f)\n",
    "print trials.keys()"
   ]
  },
  {
   "cell_type": "code",
   "execution_count": 122,
   "metadata": {},
   "outputs": [
    {
     "data": {
      "text/plain": [
       "{u'all_bitcodes': [4,\n",
       "  0,\n",
       "  5,\n",
       "  8,\n",
       "  4,\n",
       "  5,\n",
       "  8,\n",
       "  13,\n",
       "  6,\n",
       "  1,\n",
       "  6,\n",
       "  11,\n",
       "  14,\n",
       "  7,\n",
       "  14,\n",
       "  6,\n",
       "  12,\n",
       "  0,\n",
       "  10,\n",
       "  11,\n",
       "  6,\n",
       "  11,\n",
       "  13,\n",
       "  5,\n",
       "  14,\n",
       "  0,\n",
       "  12,\n",
       "  13,\n",
       "  1,\n",
       "  13,\n",
       "  15,\n",
       "  9,\n",
       "  2,\n",
       "  14,\n",
       "  2,\n",
       "  7,\n",
       "  3,\n",
       "  2,\n",
       "  13,\n",
       "  10,\n",
       "  0,\n",
       "  3,\n",
       "  9,\n",
       "  15,\n",
       "  13,\n",
       "  12,\n",
       "  9,\n",
       "  4,\n",
       "  12,\n",
       "  8,\n",
       "  0,\n",
       "  14,\n",
       "  5,\n",
       "  8,\n",
       "  9,\n",
       "  5,\n",
       "  3,\n",
       "  10,\n",
       "  2,\n",
       "  13,\n",
       "  9,\n",
       "  5,\n",
       "  7,\n",
       "  11,\n",
       "  13,\n",
       "  8,\n",
       "  3,\n",
       "  12,\n",
       "  4,\n",
       "  6,\n",
       "  1,\n",
       "  9,\n",
       "  12,\n",
       "  9,\n",
       "  1,\n",
       "  12,\n",
       "  3,\n",
       "  6,\n",
       "  14,\n",
       "  1,\n",
       "  10,\n",
       "  4,\n",
       "  8,\n",
       "  11,\n",
       "  7,\n",
       "  10,\n",
       "  15,\n",
       "  7,\n",
       "  9,\n",
       "  7,\n",
       "  2,\n",
       "  12,\n",
       "  8,\n",
       "  9,\n",
       "  1,\n",
       "  7,\n",
       "  3,\n",
       "  15,\n",
       "  2,\n",
       "  10,\n",
       "  14,\n",
       "  9,\n",
       "  6,\n",
       "  7,\n",
       "  10,\n",
       "  7,\n",
       "  5,\n",
       "  10,\n",
       "  11,\n",
       "  7,\n",
       "  9,\n",
       "  2,\n",
       "  5,\n",
       "  0,\n",
       "  3,\n",
       "  13,\n",
       "  5,\n",
       "  4,\n",
       "  15,\n",
       "  6,\n",
       "  1],\n",
       " u'end_time_ms': 1218924799445.0,\n",
       " u'iti_bitcode': 1,\n",
       " u'start_time_ms': 1218922795.0,\n",
       " u'stim_bitcode': 4,\n",
       " u'stim_off_times': 108302.0,\n",
       " u'stim_on_times': 106302.0,\n",
       " u'stimuli': {u'position': [0, 0],\n",
       "  u'scale': 100,\n",
       "  u'stimulus': u'grating-ori-120-sf-0.100000'}}"
      ]
     },
     "execution_count": 122,
     "metadata": {},
     "output_type": "execute_result"
    }
   ],
   "source": [
    "trials['18']"
   ]
  },
  {
   "cell_type": "code",
   "execution_count": 136,
   "metadata": {},
   "outputs": [
    {
     "name": "stdout",
     "output_type": "stream",
     "text": [
      "First real stim on frame  4\n"
     ]
    }
   ],
   "source": [
    "modes_by_frame = dict()\n",
    "for frame in frame_bitcodes.keys():\n",
    "    bitcode_counts = Counter(frame_bitcodes[frame])\n",
    "    modes_by_frame[frame] = bitcode_counts.most_common(1)[0][0]\n",
    "\n",
    "first_stim_frame = [k for k in sorted(modes_by_frame.keys()) if modes_by_frame[k]>0][0]\n",
    "print \"First real stim on frame \", first_stim_frame"
   ]
  },
  {
   "cell_type": "code",
   "execution_count": 137,
   "metadata": {},
   "outputs": [],
   "source": [
    "modes = [(idx, modes_by_frame[f]) for idx,f in enumerate(sorted(modes_by_frame.keys()))]\n",
    "find_diffs = [idx+1 for idx,val in enumerate(np.diff([m[1] for m in modes])) if not val==0]"
   ]
  },
  {
   "cell_type": "code",
   "execution_count": 138,
   "metadata": {},
   "outputs": [
    {
     "name": "stdout",
     "output_type": "stream",
     "text": [
      "[(4, 10), (184, 14), (185, 1), (186, 12), (187, 7)]\n"
     ]
    }
   ],
   "source": [
    "changeframes = [modes[idx] for idx in find_diffs]\n",
    "print changeframes[0:5]"
   ]
  },
  {
   "cell_type": "code",
   "execution_count": 140,
   "metadata": {},
   "outputs": [
    {
     "name": "stdout",
     "output_type": "stream",
     "text": [
      "found... 0 183\n",
      "found... 14 184\n",
      "found... 1 185\n",
      "found... 12 186\n",
      "found2... 1 186\n",
      "found... 7 187\n",
      "found... 2 188\n",
      "found... 8 189\n",
      "found2... 0 189\n",
      "found... 6 190\n",
      "found... 15 191\n",
      "found... 14 192\n",
      "found2... 1 192\n",
      "found... 11 193\n",
      "found... 8 194\n",
      "found2... 7 195\n",
      "found2... 11 195\n",
      "found... 6 196\n",
      "found... 7 197\n",
      "found2... 15 198\n",
      "found2... 12 198\n",
      "found... 13 199\n",
      "found... 1 200\n",
      "found2... 7 201\n",
      "found2... 1 201\n",
      "found... 0 202\n",
      "found... 2 203\n",
      "found2... 5 204\n",
      "found2... 0 204\n",
      "found... 2 205\n",
      "found... 3 206\n",
      "found2... 4 207\n",
      "found2... 6 207\n",
      "found... 15 208\n",
      "found... 10 209\n",
      "found2... 8 210\n",
      "found2... 14 210\n",
      "found... 10 211\n",
      "found... 15 212\n",
      "found2... 14 213\n",
      "found2... 9 213\n",
      "found... 4 214\n",
      "found... 8 215\n",
      "found2... 1 215\n",
      "found... 11 216\n",
      "found... 7 217\n",
      "found... 14 218\n",
      "found2... 11 218\n",
      "found... 13 219\n",
      "found... 1 220\n",
      "found... 12 221\n",
      "found2... 8 221\n",
      "found... 6 222\n",
      "found... 8 223\n",
      "found... 5 224\n",
      "found2... 12 224\n",
      "found... 0 225\n",
      "found2... 12 226\n",
      "found... 7 227\n",
      "found2... 3 227\n",
      "found... 11 228\n",
      "found... 5 229\n",
      "found... 4 230\n",
      "found2... 13 230\n",
      "found... 14 231\n",
      "found... 3 232\n",
      "found... 13 233\n",
      "found2... 15 233\n",
      "found... 11 234\n",
      "found... 12 235\n",
      "found2... 2 236\n",
      "found2... 3 236\n",
      "found... 9 237\n",
      "found... 10 238\n",
      "found... 12 239\n",
      "found2... 8 239\n",
      "found... 13 240\n",
      "found... 7 241\n",
      "found2... 3 242\n",
      "found2... 11 242\n",
      "found... 1 243\n",
      "found... 7 244\n",
      "found2... 14 245\n",
      "found2... 15 245\n",
      "found... 1 246\n",
      "found... 15 247\n",
      "found2... 7 248\n",
      "found2... 14 248\n",
      "found... 6 249\n",
      "found... 8 250\n",
      "found2... 11 250\n",
      "found... 9 251\n",
      "found... 7 252\n",
      "found... 6 253\n",
      "found2... 1 253\n",
      "found... 14 254\n",
      "found... 6 255\n",
      "found... 10 256\n",
      "found2... 5 257\n",
      "found2... 4 257\n",
      "found... 1 258\n",
      "found... 8 259\n",
      "found2... 12 259\n",
      "found... 10 260\n",
      "found2... 12 261\n",
      "found... 0 262\n",
      "found2... 6 262\n",
      "found... 15 263\n",
      "found... 12 264\n",
      "found... 6 265\n",
      "found2... 1 266\n",
      "found2... 0 266\n",
      "found... 15 267\n",
      "found... 4 268\n",
      "found2... 2 268\n",
      "found... 9 269\n",
      "found... 10 270\n",
      "found... 15 271\n",
      "found2... 6 271\n",
      "found... 9 272\n",
      "found... 12 273\n",
      "Trial 1 dur (s):\n",
      "2.01330120999\n"
     ]
    }
   ],
   "source": [
    "trialdict = dict()\n",
    "allframes = sorted(frame_bitcodes.keys()) #, key=natural_keys)\n",
    "curr_frames = sorted(allframes[first_stim_frame+1:]) #, key=natural_keys)\n",
    "#curr_frames = sorted(allframes[3142:])\n",
    "\n",
    "for trial in ['1']: #sorted(trials.keys(), key=natural_keys): #sorted(trials.keys, key=natural_keys):\n",
    "    #print trial\n",
    "    trialdict[trial] = dict()\n",
    "    trialdict[trial]['name'] = trials[trial]['stimuli']['stimulus']\n",
    "    trialdict[trial]['duration'] = trials[trial]['stim_off_times'] - trials[trial]['stim_on_times']\n",
    "\n",
    "    first_found_frame = []\n",
    "    minframes = 5\n",
    "    for bitcode in trials[trial]['all_bitcodes']:\n",
    "        #print bitcode # = 2\n",
    "            looking = True\n",
    "            while looking is True:\n",
    "                #for idx,frame in enumerate(sorted(curr_frames)):\n",
    "                for frame in sorted(curr_frames):\n",
    "#                     if frame > first_stim_frame:\n",
    "                    tmp_frames = [i for i in frame_bitcodes[frame] if i==bitcode]\n",
    "                    consecutives = [i for i in np.diff(tmp_frames) if i==0]\n",
    "\n",
    "                    if frame>1:\n",
    "                        tmp_frames_pre = [i for i in frame_bitcodes[int(frame)-1] if i==bitcode]\n",
    "                        consecutives_pre = [i for i in np.diff(tmp_frames_pre) if i==0]\n",
    "\n",
    "                    if frame>1 and len(consecutives_pre)>=minframes:\n",
    "                        #first_frame = frame - 1\n",
    "                        if len(consecutives_pre) > len(consecutives):\n",
    "                            first_frame = int(frame) - 1\n",
    "                        elif len(consecutives)>=minframes:\n",
    "                            first_frame = int(frame)\n",
    "                        print \"found2...\", bitcode, first_frame #len(curr_frames)\n",
    "                        looking = False\n",
    "\n",
    "#                     if frame>1 and len(consecutives_pre)>=minframes and len(consecutives)>=minframes:\n",
    "#                         if len(consecutives_pre) > len(consecutives):\n",
    "#                             first_frame = int(frame) - 1\n",
    "#                         else:\n",
    "#                             first_frame = frame\n",
    "                    elif len(consecutives)>=minframes:\n",
    "                        first_frame = frame \n",
    "                        print \"found...\", bitcode, first_frame #len(curr_frames)\n",
    "                        looking = False\n",
    "\n",
    "                    if looking is False:\n",
    "                        break\n",
    "\n",
    "            first_found_frame.append((bitcode, first_frame)) #first_frame))\n",
    "            curr_frames = allframes[first_frame+1:] #curr_frames[idx:] #curr_frames[first_frame:]\n",
    "\n",
    "    print \"Trial %i dur (s):\" % int(trial)\n",
    "    print (first_found_frame[-1][1] - first_found_frame[0][1])/framerate\n",
    "\n",
    "    trialdict[trial]['stim_on_idx'] = first_found_frame[0][1]\n",
    "    trialdict[trial]['stim_off_idx'] = first_found_frame[-1][1]\n",
    "    \n",
    "    #print first_found_frame[-1][1] - first_found_frame[0][1]\n",
    "\n",
    "#\n",
    "                    "
   ]
  },
  {
   "cell_type": "code",
   "execution_count": 134,
   "metadata": {
    "scrolled": false
   },
   "outputs": [
    {
     "data": {
      "text/plain": [
       "112    10\n",
       "113    10\n",
       "114    10\n",
       "115    10\n",
       "116    10\n",
       "117    10\n",
       "118    10\n",
       "119    10\n",
       "120    10\n",
       "121    10\n",
       "122    10\n",
       "123    10\n",
       "124    10\n",
       "125    10\n",
       "126    10\n",
       "127    10\n",
       "128    10\n",
       "129    10\n",
       "130    10\n",
       "131    10\n",
       "132    10\n",
       "133    10\n",
       "134    10\n",
       "Name:  pixel_clock, dtype: int64"
      ]
     },
     "execution_count": 134,
     "metadata": {},
     "output_type": "execute_result"
    }
   ],
   "source": [
    "frame_bitcodes[5]"
   ]
  },
  {
   "cell_type": "code",
   "execution_count": 53,
   "metadata": {},
   "outputs": [
    {
     "data": {
      "text/plain": [
       "23450    2\n",
       "23451    0\n",
       "23452    0\n",
       "23453    0\n",
       "23454    0\n",
       "23455    0\n",
       "23456    0\n",
       "23457    0\n",
       "23458    0\n",
       "23459    0\n",
       "23460    0\n",
       "23461    0\n",
       "23462    0\n",
       "23463    0\n",
       "23464    0\n",
       "23465    0\n",
       "23466    9\n",
       "23467    9\n",
       "23468    9\n",
       "23469    9\n",
       "23470    9\n",
       "23471    9\n",
       "Name:  pixel_clock, dtype: int64"
      ]
     },
     "execution_count": 53,
     "metadata": {},
     "output_type": "execute_result"
    }
   ],
   "source": [
    "frame_bitcodes[1049]"
   ]
  },
  {
   "cell_type": "code",
   "execution_count": 634,
   "metadata": {},
   "outputs": [
    {
     "data": {
      "text/plain": [
       "224    10\n",
       "225    10\n",
       "226    10\n",
       "227    10\n",
       "228    10\n",
       "229    10\n",
       "230    10\n",
       "231    10\n",
       "232    10\n",
       "233    10\n",
       "234    10\n",
       "235    10\n",
       "236    10\n",
       "237    10\n",
       "238    10\n",
       "239    10\n",
       "240    10\n",
       "241    10\n",
       "242    10\n",
       "243    10\n",
       "244     0\n",
       "245    10\n",
       "Name:  pixel_clock, dtype: int64"
      ]
     },
     "execution_count": 634,
     "metadata": {},
     "output_type": "execute_result"
    }
   ],
   "source": [
    "iti_bitcode = 1\n",
    "looking = True\n",
    "while looking is True:\n",
    "    #for idx,frame in enumerate(sorted(curr_frames)):\n",
    "    for frame in sorted(frame_bitcodes.keys()):\n",
    "\n",
    "        if len([i for i in frame_bitcodes[frame] if i==iti_bitcode])>=4\n",
    "            iti_frame.append(frame)\n",
    "            print \"found...\", bitcode, frame #len(curr_frames)"
   ]
  },
  {
   "cell_type": "code",
   "execution_count": null,
   "metadata": {
    "collapsed": true
   },
   "outputs": [],
   "source": [
    "trialdict = dict()\n",
    "allframes = frame_bitcodes.keys()\n",
    "curr_frames = sorted(allframes[0:]) #, key=natural_keys)\n",
    "\n",
    "for trial in ['9']: #sorted(trials.keys(), key=natural_keys): #sorted(trials.keys, key=natural_keys):\n",
    "    print trial\n",
    "    trialdict[trial] = dict()\n",
    "    trialdict[trial]['name'] = trials[trial]['stimuli']['stimulus']\n",
    "    trialdict[trial]['duration'] = trials[trial]['stim_off_times'] - trials[trial]['stim_on_times']\n",
    "\n",
    "    first_found_frame = []\n",
    "    frame_counter = 0\n",
    "    \n",
    "    post_iti_code = trials[str(int(trial)-1)]['iti_bitcode']\n",
    "    for \n",
    "        #print bitcode # = 2\n",
    "#         looking = True\n",
    "#         while looking is True:\n",
    "#             for idx,frame in enumerate(sorted(curr_frames)):\n",
    "#                 if len([i for i in frame_bitcodes[frame] if i==bitcode])>=4:\n",
    "#                     print \"found...\", bitcode, len(curr_frames)\n",
    "#                     # Check that curr bitcode didn't start on previous frame\n",
    "#                     #if bitcode in frame_bitcodes[curr_frames[idx-1]]:\n",
    "#                     #     first_frame = frame-1 #(frame_counter+idx)-1\n",
    "#                     #else:\n",
    "#                     first_frame = frame # frame_counter+idx\n",
    "#                     #print first_frame\n",
    "#                     looking = False\n",
    "\n",
    "#                 if looking==False:\n",
    "#                     break\n",
    "\n",
    "#         first_found_frame.append((bitcode, first_frame))\n",
    "#         curr_frames = curr_frames[first_frame:] #curr_frames[idx:] #curr_frames[first_frame:]\n",
    "#         frame_counter += first_frame\n",
    "            looking = True\n",
    "            while looking is True:\n",
    "                #for idx,frame in enumerate(sorted(curr_frames)):\n",
    "                for frame in sorted(curr_frames):\n",
    "                    #print frame\n",
    "                    if len([i for i in frame_bitcodes[frame] if i==bitcode])>=4:\n",
    "                        print \"found...\", bitcode, frame #len(curr_frames)\n",
    "                        # Check that curr bitcode didn't start on previous frame\n",
    "                        #if bitcode in frame_bitcodes[curr_frames[idx-1]]:\n",
    "                        #     first_frame = frame-1 #(frame_counter+idx)-1\n",
    "                        #else:\n",
    "                        #first_frame = frame # frame_counter+idx\n",
    "                        #print first_frame\n",
    "                        looking = False\n",
    "\n",
    "                    if looking is False:\n",
    "                        break\n",
    "\n",
    "            first_found_frame.append((bitcode, frame)) #first_frame))\n",
    "            curr_frames = curr_frames[frame:] #curr_frames[idx:] #curr_frames[first_frame:]\n",
    "            frame_counter += frame #first_frame\n",
    "\n",
    "    print (first_found_frame[-1][1] - first_found_frame[0][1])/framerate\n",
    "  \n",
    "    \n",
    "    trialdict[trial]['stim_on_idx'] = first_found_frame[0][1]\n",
    "    trialdict[trial]['stim_off_idx'] = first_found_frame[-1][1]\n",
    "    \n",
    "    #print first_found_frame[-1][1] - first_found_frame[0][1]\n",
    "\n",
    "#"
   ]
  },
  {
   "cell_type": "code",
   "execution_count": 621,
   "metadata": {},
   "outputs": [
    {
     "data": {
      "text/plain": [
       "84037     2\n",
       "84038     2\n",
       "84039     2\n",
       "84040     2\n",
       "84041     2\n",
       "84042     2\n",
       "84043     2\n",
       "84044     2\n",
       "84045     2\n",
       "84046    11\n",
       "84047    13\n",
       "84048    13\n",
       "84049    13\n",
       "84050    13\n",
       "84051    13\n",
       "84052    13\n",
       "84053    13\n",
       "84054    13\n",
       "84055    13\n",
       "84056    13\n",
       "84057    13\n",
       "84058    13\n",
       "Name:  pixel_clock, dtype: int64"
      ]
     },
     "execution_count": 621,
     "metadata": {},
     "output_type": "execute_result"
    }
   ],
   "source": [
    "frame_bitcodes[3759]"
   ]
  },
  {
   "cell_type": "code",
   "execution_count": 592,
   "metadata": {},
   "outputs": [
    {
     "data": {
      "text/plain": [
       "89.97219407328863"
      ]
     },
     "execution_count": 592,
     "metadata": {},
     "output_type": "execute_result"
    }
   ],
   "source": [
    "4022/volumerate"
   ]
  },
  {
   "cell_type": "code",
   "execution_count": 544,
   "metadata": {
    "collapsed": true
   },
   "outputs": [],
   "source": [
    "    for trial in sorted(trialdict.keys(), key=natural_keys): #sorted(trials.keys, key=natural_keys):\n",
    "        stimid = stimlist.index(trialdict[trial]['name'])\n",
    "        trialdict[trial]['stimid'] = stimid\n",
    "    \n",
    "    stimorder = [trialdict[trial]['stimid'] for trial in sorted(trialdict.keys(), key=natural_keys)]\n",
    "    with open(os.path.join(path_to_paradigm_files, 'stimorder_test.txt'),'w') as f:\n",
    "        f.write('\\n'.join([str(n) for n in stimorder])+'\\n')\n",
    "    print \n",
    "    "
   ]
  },
  {
   "cell_type": "code",
   "execution_count": 546,
   "metadata": {},
   "outputs": [
    {
     "data": {
      "text/plain": [
       "{'duration': 1983.0,\n",
       " 'name': u'grating-ori-60-sf-0.500000',\n",
       " 'stim_off_idx': 273,\n",
       " 'stim_on_idx': 184,\n",
       " 'stimid': 5}"
      ]
     },
     "execution_count": 546,
     "metadata": {},
     "output_type": "execute_result"
    }
   ],
   "source": [
    "trialdict['1']"
   ]
  },
  {
   "cell_type": "code",
   "execution_count": 542,
   "metadata": {},
   "outputs": [
    {
     "data": {
      "text/plain": [
       "[u'grating-ori-0-sf-0.100000',\n",
       " u'grating-ori-0-sf-0.500000',\n",
       " u'grating-ori-30-sf-0.100000',\n",
       " u'grating-ori-30-sf-0.500000',\n",
       " u'grating-ori-60-sf-0.100000',\n",
       " u'grating-ori-60-sf-0.500000',\n",
       " u'grating-ori-90-sf-0.100000',\n",
       " u'grating-ori-90-sf-0.500000',\n",
       " u'grating-ori-120-sf-0.100000',\n",
       " u'grating-ori-120-sf-0.500000',\n",
       " u'grating-ori-150-sf-0.100000',\n",
       " u'grating-ori-150-sf-0.500000']"
      ]
     },
     "execution_count": 542,
     "metadata": {},
     "output_type": "execute_result"
    }
   ],
   "source": [
    "stimlist = set([trialdict[trial]['name'] for trial in trialdict.keys()])\n",
    "stimlist = sorted(stimlist, key=natural_keys)\n",
    "stimlist"
   ]
  },
  {
   "cell_type": "code",
   "execution_count": 540,
   "metadata": {},
   "outputs": [
    {
     "name": "stdout",
     "output_type": "stream",
     "text": [
      "grating-ori-60-sf-0.100000\n",
      "4\n"
     ]
    }
   ],
   "source": [
    "stimid = [s for s in sorted(stimlist, key=natural_keys)].index(trialdict[trial]['name'])\n",
    "print trialdict[trial]['name']\n",
    "print stimid      "
   ]
  },
  {
   "cell_type": "code",
   "execution_count": null,
   "metadata": {
    "collapsed": true
   },
   "outputs": [],
   "source": []
  },
  {
   "cell_type": "code",
   "execution_count": 578,
   "metadata": {},
   "outputs": [
    {
     "name": "stdout",
     "output_type": "stream",
     "text": [
      "4241\n"
     ]
    }
   ],
   "source": [
    "first_found_frame = []\n",
    "curr_frames = frame_bitcodes.keys()\n",
    "frame_counter = 0\n",
    "\n",
    "for bitcode in trials['19']['all_bitcodes']:\n",
    "    #print bitcode # = 2\n",
    "    looking = True\n",
    "    while looking is True:\n",
    "        for idx,frame in enumerate(sorted(curr_frames)):\n",
    "            if len([i for i in frame_bitcodes[frame] if i==bitcode])>=4:\n",
    "                #print \"found...\", bitcode, len(curr_frames)\n",
    "                # Check that curr bitcode didn't start on previous frame\n",
    "                #if bitcode in frame_bitcodes[curr_frames[idx-1]]:\n",
    "                #     first_frame = frame-1 #(frame_counter+idx)-1\n",
    "                #else:\n",
    "                first_frame = frame # frame_counter+idx\n",
    "                #print first_frame\n",
    "                looking = False\n",
    "\n",
    "            if looking==False:\n",
    "                break\n",
    "\n",
    "    first_found_frame.append((bitcode, first_frame))\n",
    "    curr_frames = curr_frames[idx:] #curr_frames[first_frame:]\n",
    "    frame_counter += first_frame\n",
    "    \n",
    "print first_found_frame[-1][1] - first_found_frame[0][1]\n"
   ]
  },
  {
   "cell_type": "code",
   "execution_count": 577,
   "metadata": {},
   "outputs": [
    {
     "data": {
      "text/plain": [
       "[(10, 4),\n",
       " (9, 195),\n",
       " (10, 202),\n",
       " (8, 202),\n",
       " (1, 213),\n",
       " (4, 216),\n",
       " (13, 228),\n",
       " (0, 229),\n",
       " (10, 241),\n",
       " (5, 243),\n",
       " (12, 261),\n",
       " (15, 469),\n",
       " (6, 477),\n",
       " (8, 477),\n",
       " (9, 481),\n",
       " (11, 483),\n",
       " (5, 485),\n",
       " (14, 489),\n",
       " (13, 495),\n",
       " (15, 495),\n",
       " (1, 498),\n",
       " (0, 503),\n",
       " (3, 527),\n",
       " (11, 538),\n",
       " (1, 722),\n",
       " (4, 736),\n",
       " (15, 744),\n",
       " (1, 750),\n",
       " (14, 762),\n",
       " (12, 775),\n",
       " (8, 780),\n",
       " (5, 786),\n",
       " (8, 796),\n",
       " (11, 803),\n",
       " (0, 996),\n",
       " (9, 1004),\n",
       " (2, 1055),\n",
       " (7, 1055),\n",
       " (4, 1066),\n",
       " (5, 1069),\n",
       " (2, 1070),\n",
       " (9, 1273),\n",
       " (8, 1274),\n",
       " (12, 1313),\n",
       " (9, 1322),\n",
       " (0, 1573),\n",
       " (11, 1582),\n",
       " (0, 1582),\n",
       " (4, 1603),\n",
       " (1, 1613),\n",
       " (7, 1618),\n",
       " (11, 1802),\n",
       " (13, 1802),\n",
       " (11, 1802),\n",
       " (3, 1803),\n",
       " (13, 1803),\n",
       " (6, 1805),\n",
       " (7, 1822),\n",
       " (5, 1828),\n",
       " (0, 1836),\n",
       " (8, 1837),\n",
       " (13, 1849),\n",
       " (2, 1856),\n",
       " (15, 1869),\n",
       " (12, 1871),\n",
       " (7, 1887),\n",
       " (11, 2068),\n",
       " (12, 2068),\n",
       " (0, 2069),\n",
       " (7, 2110),\n",
       " (8, 2112),\n",
       " (7, 2120),\n",
       " (13, 2120),\n",
       " (11, 2125),\n",
       " (4, 2151),\n",
       " (1, 2156),\n",
       " (15, 2340),\n",
       " (2, 2376),\n",
       " (10, 2385),\n",
       " (14, 2388),\n",
       " (9, 2398),\n",
       " (11, 2399),\n",
       " (7, 2413),\n",
       " (12, 2426),\n",
       " (4, 2640),\n",
       " (11, 2662),\n",
       " (4, 2663),\n",
       " (14, 2669),\n",
       " (1, 2685),\n",
       " (0, 2901),\n",
       " (3, 2909),\n",
       " (5, 2929),\n",
       " (2, 3153),\n",
       " (11, 3163),\n",
       " (14, 3187),\n",
       " (3, 3189),\n",
       " (11, 3190),\n",
       " (9, 3190),\n",
       " (4, 3213),\n",
       " (13, 3231),\n",
       " (4, 3414),\n",
       " (2, 3420),\n",
       " (12, 3424),\n",
       " (11, 3438),\n",
       " (10, 3438),\n",
       " (4, 3439),\n",
       " (2, 3443),\n",
       " (10, 3493),\n",
       " (3, 3494),\n",
       " (2, 3502),\n",
       " (5, 3687),\n",
       " (6, 3694),\n",
       " (14, 3714),\n",
       " (4, 3720),\n",
       " (5, 3741),\n",
       " (10, 3757),\n",
       " (11, 3982),\n",
       " (1, 4015),\n",
       " (0, 4016),\n",
       " (6, 4028),\n",
       " (7, 4223)]"
      ]
     },
     "execution_count": 577,
     "metadata": {},
     "output_type": "execute_result"
    }
   ],
   "source": [
    "first_found_frame"
   ]
  },
  {
   "cell_type": "code",
   "execution_count": 516,
   "metadata": {
    "collapsed": true
   },
   "outputs": [],
   "source": [
    "# found_bitcodes = [match[0] for match in first_found_frame]\n",
    "# mw_bitcodes = trials['1']['all_bitcodes']\n",
    "# [idx for idx,(mw,ard) in enumerate(zip(found_bitcodes, mw_bitcodes)) if not mw==ard]"
   ]
  },
  {
   "cell_type": "code",
   "execution_count": null,
   "metadata": {
    "collapsed": true
   },
   "outputs": [],
   "source": []
  },
  {
   "cell_type": "code",
   "execution_count": null,
   "metadata": {
    "collapsed": true
   },
   "outputs": [],
   "source": []
  }
 ],
 "metadata": {
  "kernelspec": {
   "display_name": "Python 2",
   "language": "python",
   "name": "python2"
  },
  "language_info": {
   "codemirror_mode": {
    "name": "ipython",
    "version": 2
   },
   "file_extension": ".py",
   "mimetype": "text/x-python",
   "name": "python",
   "nbconvert_exporter": "python",
   "pygments_lexer": "ipython2",
   "version": "2.7.13"
  }
 },
 "nbformat": 4,
 "nbformat_minor": 2
}
