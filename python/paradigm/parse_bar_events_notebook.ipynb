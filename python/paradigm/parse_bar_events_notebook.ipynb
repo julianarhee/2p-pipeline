{
 "cells": [
  {
   "cell_type": "code",
   "execution_count": 2,
   "metadata": {},
   "outputs": [],
   "source": [
    "import numpy as np\n",
    "import os\n",
    "#from skimage.measure import block_reduce\n",
    "from scipy.misc import imread\n",
    "import cPickle as pkl\n",
    "import scipy.signal\n",
    "import numpy.fft as fft\n",
    "import sys\n",
    "import optparse\n",
    "from PIL import Image\n",
    "import re\n",
    "import itertools\n",
    "from scipy import ndimage\n",
    "\n",
    "import time\n",
    "import datetime\n",
    "\n",
    "import pandas as pd\n",
    "\n",
    "from bokeh.io import gridplot, output_file, show\n",
    "from bokeh.plotting import figure\n",
    "import csv\n",
    "\n",
    "import pymworks \n",
    "import pandas as pd\n",
    "import operator\n",
    "import codecs\n",
    "\n",
    "# import matplotlib.pyplot as plt\n",
    "# import matplotlib.patches as patches\n",
    "\n",
    "import scipy.io\n",
    "import copy"
   ]
  },
  {
   "cell_type": "code",
   "execution_count": 3,
   "metadata": {
    "scrolled": true
   },
   "outputs": [],
   "source": [
    "# !pip2 install bokeh"
   ]
  },
  {
   "cell_type": "code",
   "execution_count": 4,
   "metadata": {
    "collapsed": true
   },
   "outputs": [],
   "source": [
    "# Abstract struct class       \n",
    "class Struct:\n",
    "    def __init__ (self, *argv, **argd):\n",
    "        if len(argd):\n",
    "            # Update by dictionary\n",
    "            self.__dict__.update (argd)\n",
    "        else:\n",
    "            # Update by position\n",
    "            attrs = filter (lambda x: x[0:2] != \"__\", dir(self))\n",
    "            for n in range(len(argv)):\n",
    "                setattr(self, attrs[n], argv[n])\n",
    "\n",
    "\n",
    "class cycstruct(Struct):\n",
    "    times = []\n",
    "    idxs = 0\n",
    "    vals = 0\n",
    "    ordernum = 0\n",
    "    triggers = 0\n"
   ]
  },
  {
   "cell_type": "code",
   "execution_count": 5,
   "metadata": {
    "collapsed": true
   },
   "outputs": [],
   "source": [
    "prepend = '/Users/julianarhee'\n",
    "source_dir = os.path.join(prepend,'nas/volume1/2photon/RESDATA/20170724_CE051/retinotopy1') #options.source_dir #'/nas/volume1/2photon/RESDATA/TEFO/20160118_AG33/fov1_gratings1'\n",
    "stimtype = 'bar' #options.stimtype #'grating'\n",
    "mask = False #options.mask # False\n",
    "long_trials = False #options.long_trials #True\n",
    "no_ard = False #options.no_ard\n",
    "\n",
    "# Look in child dir (of source_dir) to find mw_data paths:\n",
    "mw_files = os.listdir(os.path.join(source_dir, 'mw_data'))\n",
    "mw_files = [m for m in mw_files if m.endswith('.mwk')]\n"
   ]
  },
  {
   "cell_type": "code",
   "execution_count": 6,
   "metadata": {},
   "outputs": [
    {
     "name": "stdout",
     "output_type": "stream",
     "text": [
      "MW file:  ['/Users/julianarhee/nas/volume1/2photon/RESDATA/20170724_CE051/retinotopy1/mw_data/20170724_CE051W_bar_run1.mwk']\n"
     ]
    }
   ],
   "source": [
    "mwfile = mw_files[0]\n",
    "\n",
    "fn_base = mwfile[:-4]\n",
    "mw_data_dir = os.path.join(source_dir, 'mw_data')\n",
    "mw_fn = fn_base+'.mwk'\n",
    "dfn = os.path.join(mw_data_dir, mw_fn)\n",
    "dfns = [dfn]\n",
    "\n",
    "print \"MW file: \", dfns"
   ]
  },
  {
   "cell_type": "code",
   "execution_count": 7,
   "metadata": {
    "collapsed": true
   },
   "outputs": [],
   "source": [
    "# Parse pixel, stimulus, trial, and (if relevant) MW trigger events:\n",
    "\n",
    "# if stimtype=='bar':\n",
    "#     pevs, runs, trigg_times, info = get_bar_events(dfns, stimtype=stimtype)\n",
    "# else:\n",
    "#     pevs, ievs, tevs, trigg_times, info = get_stimulus_events(dfns, stimtype=stimtype)\n",
    "    \n"
   ]
  },
  {
   "cell_type": "code",
   "execution_count": 8,
   "metadata": {},
   "outputs": [
    {
     "name": "stdout",
     "output_type": "stream",
     "text": [
      "****************************************************************\n",
      "Parsing file\n",
      "/Users/julianarhee/nas/volume1/2photon/RESDATA/20170724_CE051/retinotopy1/mw_data/20170724_CE051W_bar_run1.mwk... \n",
      "Found 1 start events in session.\n",
      "Bounds:  [[1145373500909, 1145918985978]]\n",
      "bound ID: 0 545.485069 sec\n",
      "****************************************************************\n"
     ]
    }
   ],
   "source": [
    "# Open MW file and get time-stamped boundaries for acquisition:\n",
    "\n",
    "df = None\n",
    "df = pymworks.open(dfn)                                                          # Open the datafile\n",
    "\n",
    "modes = df.get_events('#state_system_mode')                                      # Find timestamps for run-time start and end (2=run)\n",
    "start_ev = [i for i in modes if i['value']==2][0]                                # 2=running, 0 or 1 = stopped\n",
    "\n",
    "run_idxs = [i for i,e in enumerate(modes) if e['time']>start_ev['time']]         # Get all \"run states\" if more than 1 found\n",
    "\n",
    "end_ev = next(i for i in modes[run_idxs[0]:] if i['value']==0 or i['value']==1)  # Find the first \"stop\" event after the first \"run\" event\n",
    "\n",
    "# Create a list of runs using start/stop-event times (so long as \"Stop\" button was not pressed during acquisition, only 1 chunk of time)\n",
    "bounds = []\n",
    "bounds.append([start_ev.time, end_ev.time])\n",
    "for r in run_idxs[1:]: \n",
    "    if modes[r].time < end_ev.time:  # Ignore any extra \"run\" events if there was no actual \"stop\" event\n",
    "        continue\n",
    "    else:                            # Otherwise, find the next \"stop\" event if any additional/new \"run\" events found.\n",
    "        try:\n",
    "            stop_ev = next(i for i in modes[r:] if i['value']==0 or i['value']==1)\n",
    "        except StopIteration:\n",
    "            end_event_name = 'trial_end'\n",
    "            print \"NO STOP DETECTED IN STATE MODES. Using alternative timestamp: %s.\" % end_event_name\n",
    "            stop_ev = df.get_events(end_event_name)[-1]\n",
    "            print stop_ev\n",
    "        bounds.append([modes[r]['time'], stop_ev['time']])\n",
    "\n",
    "bounds[:] = [x for x in bounds if ((x[1]-x[0])/1E6)>1]\n",
    "# print \"................................................................\"\n",
    "print \"****************************************************************\"\n",
    "print \"Parsing file\\n%s... \" % dfn\n",
    "print \"Found %i start events in session.\" % len(bounds)\n",
    "print \"Bounds: \", bounds\n",
    "for bidx, bound in enumerate(bounds):\n",
    "    print \"bound ID:\", bidx, (bound[1]-bound[0])/1E6, \"sec\"\n",
    "print \"****************************************************************\"\n"
   ]
  },
  {
   "cell_type": "code",
   "execution_count": 9,
   "metadata": {},
   "outputs": [],
   "source": [
    "# modes"
   ]
  },
  {
   "cell_type": "code",
   "execution_count": 24,
   "metadata": {},
   "outputs": [
    {
     "name": "stdout",
     "output_type": "stream",
     "text": [
      "................................................................\n",
      "SECTION 0\n",
      "................................................................\n",
      "Found > 1 name for frame-trigger:\n",
      "Choose:  ['frame_trigger_timeout', 'frame_trigger_on', 'trigger_received', 'trigger_active', 'frame_trigger']\n",
      "Hint: RSVP could be FrameTrigger, otherwise frame_trigger.\n",
      "Type var name to use: frame_trigger\n"
     ]
    }
   ],
   "source": [
    "pixelevents = []\n",
    "stimevents = dict()\n",
    "trialevents = []\n",
    "session_info = dict()\n",
    "#for bidx,boundary in enumerate(bounds):\n",
    "bidx = 0\n",
    "boundary = bounds[0]\n",
    "if (boundary[1] - boundary[0]) < 1000000:\n",
    "    print \"Not a real boundary, only %i seconds found. Skipping.\" % int(boundary[1] - boundary[0])\n",
    "    #continue\n",
    "\n",
    "print \"................................................................\"\n",
    "print \"SECTION %i\" % bidx\n",
    "print \"................................................................\"\n",
    "\n",
    "# deal with inconsistent trigger-naming:\n",
    "codec_list = df.get_codec()\n",
    "trigger_names = [i for i in codec_list.values() if ('trigger' in i or 'Trigger' in i) and 'flag' not in i]\n",
    "if len(trigger_names) > 1:\n",
    "    print \"Found > 1 name for frame-trigger:\"\n",
    "    print \"Choose: \", trigger_names\n",
    "    print \"Hint: RSVP could be FrameTrigger, otherwise frame_trigger.\"\n",
    "    trigg_var_name = raw_input(\"Type var name to use: \")\n",
    "    trigg_evs = df.get_events(trigg_var_name)\n",
    "else:\n",
    "    trigg_evs = df.get_events(trigger_names[0])\n",
    "\n"
   ]
  },
  {
   "cell_type": "code",
   "execution_count": 25,
   "metadata": {
    "collapsed": true
   },
   "outputs": [],
   "source": [
    "#trigg_evs"
   ]
  },
  {
   "cell_type": "code",
   "execution_count": 26,
   "metadata": {},
   "outputs": [
    {
     "name": "stdout",
     "output_type": "stream",
     "text": [
      "[Event[code=39, name=frame_trigger, time=1145373500992, value=1], Event[code=39, name=frame_trigger, time=1145405071045, value=0], Event[code=39, name=frame_trigger, time=1145479478958, value=1], Event[code=39, name=frame_trigger, time=1145550431007, value=0], Event[code=39, name=frame_trigger, time=1145624847035, value=1], Event[code=39, name=frame_trigger, time=1145676550960, value=0], Event[code=39, name=frame_trigger, time=1145750983041, value=1], Event[code=39, name=frame_trigger, time=1145781391026, value=0], Event[code=39, name=frame_trigger, time=1145855839009, value=1], Event[code=39, name=frame_trigger, time=1145876191108, value=0], Event[code=39, name=frame_trigger, time=1145878023082, value=1], Event[code=39, name=frame_trigger, time=1145878039081, value=0], Event[code=39, name=frame_trigger, time=1145878071022, value=1], Event[code=39, name=frame_trigger, time=1145878087051, value=0]]\n"
     ]
    }
   ],
   "source": [
    "# Only include SI trigger events if they were acquired while MW was actually \"running\" (i.e., start/stop time boundaries):\n",
    "trigg_evs = [t for t in trigg_evs if t.time >= boundary[0] and t.time <= boundary[1]]\n",
    "\n",
    "print trigg_evs"
   ]
  },
  {
   "cell_type": "code",
   "execution_count": 27,
   "metadata": {},
   "outputs": [
    {
     "name": "stdout",
     "output_type": "stream",
     "text": [
      "first_on_idx:  1\n",
      "first on event:  Event[code=39, name=frame_trigger, time=1145405071045, value=0]\n",
      "first_off_idx:  2\n",
      "first off event:  Event[code=39, name=frame_trigger, time=1145479478958, value=1]\n",
      "Duration of first run: 74.4079 sec.\n"
     ]
    }
   ],
   "source": [
    "getout=0\n",
    "while getout==0:\n",
    "    # Find all trigger LOW events after the first onset trigger (frame_trigger=0 when SI frame-trigger is high, =1 otherwise)\n",
    "    tmp_first_trigger_idx = [i for i,e in enumerate(trigg_evs) if e.value==0][0]        # Find 1st SI frame trigger received by MW (should be \"0\")\n",
    "    first_off_ev = next(i for i in trigg_evs[tmp_first_trigger_idx:] if i['value']==1)  # Find the next \"frame-off\" event from SI (i.e., when MW is waiting for the next DI trigger)\n",
    "    first_off_idx = [i.time for i in trigg_evs].index(first_off_ev.time)                # Get corresponding timestamp for first SI frame-off event\n",
    "\n",
    "    # NOTE:  In previous versions of MW protocols, frame-trigger incorrectly reassigned on/off values...\n",
    "    # Make sure only 1 OFF event for each ON event, and vice versa.\n",
    "    # Should abort to examine trigger values and tstamps, but likely, will want to take the \"frame ON\" event immediately before the found \"frame OFF\" event.\n",
    "    # (This is because previously, we didn't realize MW's receipt of DI from SI was actually \"0\" (and frame_trigger was  being used as a flag to turn HIGH, i.e., 1, if trigger received from SI))\n",
    "    if not trigg_evs[first_off_idx-1].time==trigg_evs[tmp_first_trigger_idx].time:\n",
    "        print \"Incorrect sequence of frame-triggers detected in MW trigger events received from SI:\"\n",
    "        trigg_evs\n",
    "\n",
    "        # Let USER decide what to do next:\n",
    "        print \"Press <q> to quit and examine. Press <ENTER> to just use frame-ON idx immediately before found frame-OFF idx: \"\n",
    "        user_choice = raw_input()\n",
    "        valid_response = 0\n",
    "        while not valid_response:\n",
    "            if user_choice=='':\n",
    "                print \"Moving on...\"\n",
    "                do_quickndirty = True\n",
    "                valid_response = 1\n",
    "            elif user_choice=='q':\n",
    "                print \"quitting...\"\n",
    "                do_quickndirty = False\n",
    "                valid_response = 1\n",
    "            else:\n",
    "                \"Invalid entry provided. Try again.\"\n",
    "                user_choice = raw_input()\n",
    "        if do_quickndirty:\n",
    "            first_on_idx = first_off_idx - 1\n",
    "            first_on_ev = trigg_evs[first_on_idx]\n",
    "        else:\n",
    "            print \"ABORTING!\"\n",
    "            getout=1\n",
    "    else:\n",
    "        first_on_idx = first_off_idx -1\n",
    "        first_on_ev = trigg_evs[first_on_idx]\n",
    "        getout=1\n",
    "\n",
    "print \"first_on_idx: \", first_on_idx\n",
    "print \"first on event: \", first_on_ev\n",
    "print \"first_off_idx: \", first_off_idx\n",
    "print \"first off event: \", first_off_ev\n",
    "print \"Duration of first run: {0:.4f} sec.\".format((first_off_ev.time - first_on_ev.time)/1E6)"
   ]
  },
  {
   "cell_type": "code",
   "execution_count": 28,
   "metadata": {},
   "outputs": [
    {
     "data": {
      "text/plain": [
       "14"
      ]
     },
     "execution_count": 28,
     "metadata": {},
     "output_type": "execute_result"
    }
   ],
   "source": [
    "len(trigg_evs)"
   ]
  },
  {
   "cell_type": "code",
   "execution_count": 29,
   "metadata": {},
   "outputs": [
    {
     "name": "stdout",
     "output_type": "stream",
     "text": [
      "4\n",
      "6\n",
      "8\n",
      "10\n",
      "12\n",
      "Got to STOP.\n",
      "........................................................................................\n",
      "Found %i chunks from frame-on/-off triggers:\n",
      "........................................................................................\n",
      "0 :  74.407913\n",
      "1 :  74.416028\n",
      "2 :  74.432081\n",
      "3 :  74.447983\n",
      "4 :  1.831974\n",
      "5 :  0.031941\n",
      "........................................................................................\n",
      "Select indices [EX: 0,1,2,4] of runs to include, or press <enter> to accept all:\n",
      "0,1,2,3\n",
      "Selected 4 runs.\n",
      "Press <enter> to accept. Press 'r' to re-try.\n"
     ]
    }
   ],
   "source": [
    "# Now, get all \"trigger\" boundaries that demarcate each \"run\" after first run:\n",
    "\n",
    "found_trigger_evs = [[first_on_ev, first_off_ev]] # placeholder for off ev\n",
    "start_idx = copy.copy(first_off_idx)\n",
    "while start_idx < len(trigg_evs)-1: \n",
    "    try:\n",
    "        found_new_start = False\n",
    "        early_abort = False\n",
    "        curr_chunk = trigg_evs[start_idx+1:] # Look for next OFF event after last off event \n",
    "\n",
    "        try:\n",
    "            curr_off_ev = next(i for i in curr_chunk if i['value']==1)\n",
    "            curr_off_idx = [i.time for i in trigg_evs].index(curr_off_ev.time)\n",
    "            curr_start_idx = curr_off_idx - 1  # next \"frame-start\" should be immediately before next found \"frame-off\" event\n",
    "            curr_start_ev = trigg_evs[curr_start_idx]\n",
    "            if trigg_evs[curr_start_idx]['value']!=0:\n",
    "            # i.e., if prev-found ev with value=1 is not a true frame-on trigger (just a repeated event with same value), just ignore it.\n",
    "                continue\n",
    "            else:\n",
    "                found_new_start = True\n",
    "        except IndexError:\n",
    "            break\n",
    "\n",
    "        last_found_idx = [i.time for i in trigg_evs].index(curr_off_ev.time)\n",
    "        found_trigger_evs.append([curr_start_ev, curr_off_ev])\n",
    "        start_idx = last_found_idx #start_idx + found_idx\n",
    "        print start_idx\n",
    "    except StopIteration:\n",
    "        print \"Got to STOP.\"\n",
    "        if found_new_start is True:\n",
    "            early_abort = True\n",
    "        break\n",
    "        \n",
    "# If no proper off-event found for a given start event (remember, we always look for the next OFF event), just use the end of the session as t-end.\n",
    "# Since we look for the next OFF event (rather than the next start), if we break out of the loop, we haven't cycled through all the trigg_evs.\n",
    "# This likely means that there is another frame-ON event, but not corresponding OFF event.\n",
    "if early_abort is True: \n",
    "    if found_new_start is True:\n",
    "        found_trigger_evs.append([curr_chunk[curr_idx], end_ev])\n",
    "    else:\n",
    "        found_trigger_evs[-1][1] = end_ev\n",
    "\n",
    "\n",
    "trigger_evs = [t for t in found_trigger_evs if (t[1].time - t[0].time) > 1]\n",
    "trigger_times = [[t[0].time, t[1].time] for t in trigger_evs]\n",
    "print \"........................................................................................\"\n",
    "print \"Found %i chunks from frame-on/-off triggers:\"\n",
    "print \"........................................................................................\"\n",
    "for tidx,trigger in enumerate(trigger_times):\n",
    "    print tidx, \": \", (trigger[1]-trigger[0])/1E6\n",
    "print \"........................................................................................\"\n",
    "runs_selected = 0\n",
    "while not runs_selected:\n",
    "    user_run_selection = input(\"Select indices [EX: 0,1,2,4] of runs to include, or press <enter> to accept all:\\n\")\n",
    "    print \"Selected %i runs.\" % len(user_run_selection)\n",
    "    if any([i>= len(trigger_times) for i in user_run_selection]):\n",
    "        print \"Bad index selected, try again.\"\n",
    "        continue\n",
    "    else:\n",
    "        confirm_selection = raw_input(\"Press <enter> to accept. Press 'r' to re-try.\")\n",
    "        if confirm_selection=='':\n",
    "            runs_selected = 1\n",
    "        else:\n",
    "            continue\n",
    "            \n",
    "trigger_times = [trigger_times[i] for i in user_run_selection]"
   ]
  },
  {
   "cell_type": "code",
   "execution_count": 30,
   "metadata": {},
   "outputs": [
    {
     "name": "stdout",
     "output_type": "stream",
     "text": [
      "N pix-evs found in boundary: 20327\n",
      "Got 17760 pix code events for current session.\n"
     ]
    }
   ],
   "source": [
    "# Get pixel-clock events:\n",
    "tmp_display_evs = df.get_events('#stimDisplayUpdate')                                                  # Get all stimulus-display-update events\n",
    "display_evs = [e for e in tmp_display_evs if e.value and not e.value[0]==None]                         # Filter out empty display-update events\n",
    "display_evs = [d for d in display_evs if d.time <= boundary[1] and d.time >= boundary[0]]              # Only include display-update events within time boundary of the session\n",
    "\n",
    "tmp_pixelclock_evs = [i for i in display_evs for v in i.value if 'bit_code' in v.keys()]                      # Filter out any display-update events without a pixel-clock event\n",
    "print \"N pix-evs found in boundary: %i\" % len(tmp_pixelclock_evs)\n",
    "# nons = np.where(np.diff([i.value[-1]['bit_code'] for i in pdevs])==0)[0] # pix stim event is always last\n",
    "# pdevs = [p for i,p in enumerate(pdevs) if i not in nons]\n",
    "\n",
    "pixelclock_evs = [p for p in tmp_pixelclock_evs if p.time <= trigger_times[-1][1] and p['time'] >= trigger_times[0][0]] # Make sure pixel events are within trigger times...\n",
    "#pdev_info = [(v['bit_code'], p.time) for p in pdevs for v in p.value if 'bit_code' in v.keys()]\n",
    "#print \"Got %i pix code events.\" % len(pdev_info)\n",
    "#P.append(pdev_info)\n",
    "print \"Got %i pix code events for current session.\" % len(pixelclock_evs)\n",
    "pixelevents.append(pixelclock_evs)"
   ]
  },
  {
   "cell_type": "code",
   "execution_count": 31,
   "metadata": {},
   "outputs": [
    {
     "name": "stdout",
     "output_type": "stream",
     "text": [
      "Run 0 :  right\n",
      "Run 1 :  top\n",
      "Run 2 :  top\n",
      "Run 3 :  right\n"
     ]
    }
   ],
   "source": [
    "# Get Image events:\n",
    "bar_update_evs = [i for i in pixelclock_evs for v in i.value if '_bar' in v['name']]\n",
    "\n",
    "# Get condition/run info:\n",
    "condition_evs = df.get_events('condition')\n",
    "condition_names = ['left', 'right', 'bottom', 'top']  # 0=left start, 1=right start, 2=bottom start, 3=top start\n",
    "run_start_idxs = [i+1 for i,v in enumerate(condition_evs) if v.value==-1 and condition_evs[i+1].value>=0]  # non-run values for \"condition\" is -1\n",
    "run_start_idxs = [run_start_idxs[selected_run] for selected_run in user_run_selection]\n",
    "for run_idx,run_start_idx in enumerate(run_start_idxs):\n",
    "    print \"Run\", run_idx, \": \", condition_names[condition_evs[run_start_idx].value]\n",
    "\n",
    "nruns = len(run_start_idxs)"
   ]
  },
  {
   "cell_type": "code",
   "execution_count": 32,
   "metadata": {},
   "outputs": [
    {
     "name": "stdout",
     "output_type": "stream",
     "text": [
      "Target frequency: 0.27 Hz, 20 cycles.\n",
      "Expected run duration: ~74.07 seconds.\n",
      "Found 4 runs.\n",
      "Run 0: 73.99 s.\n",
      "Run 1: 73.98 s.\n",
      "Run 2: 73.99 s.\n",
      "Run 3: 73.98 s.\n"
     ]
    }
   ],
   "source": [
    "# Get all cycle info for each run (should be ncycles per run):\n",
    "ncycles = df.get_events('ncycles')[-1].value          # Use last value, since default value may be different\n",
    "target_freq = df.get_events('cyc_per_sec')[-1].value\n",
    "print \"Target frequency: {0:.2f} Hz, {ncycles} cycles.\".format(target_freq, ncycles=ncycles)\n",
    "\n",
    "# Use frame trigger times for each run to get bar-update events for each run:\n",
    "bar_evs_by_run = []\n",
    "for run_idx in range(nruns):         \n",
    "    bar_evs_by_run.append([b for b in bar_update_evs if b.time <= trigger_times[run_idx][-1] and b.time >= trigger_times[run_idx][0]])\n",
    "    \n",
    "print \"Expected run duration: ~{0:.2f} seconds.\".format((1/target_freq)*ncycles)\n",
    "print \"Found %i runs.\" % nruns\n",
    "for runidx,bar_evs in enumerate(bar_evs_by_run):\n",
    "    print \"Run {runidx}: {0:.2f} s.\".format((bar_evs[-1].time - bar_evs[0].time)/1E6, runidx=runidx)\n",
    "    "
   ]
  },
  {
   "cell_type": "code",
   "execution_count": 33,
   "metadata": {},
   "outputs": [],
   "source": [
    "# For each run, parse bar-update events into the stuff we care about:\n",
    "# Each run has many \"bar states\", stored as list: [[t1, (xpos1, ypos1)], [t2, (xpos2, ypos2)], ..., [tN, (xposN, yposN)]]\n",
    "bar_states = []\n",
    "for curr_run_bar_evs in bar_evs_by_run:\n",
    "    time_xy = [[update.time, (update.value[1]['pos_x'], update.value[1]['pos_y'])] for update in curr_run_bar_evs]\n",
    "    bar_states.append(time_xy)"
   ]
  },
  {
   "cell_type": "code",
   "execution_count": 34,
   "metadata": {},
   "outputs": [
    {
     "data": {
      "text/plain": [
       "0.0"
      ]
     },
     "execution_count": 34,
     "metadata": {},
     "output_type": "execute_result"
    }
   ],
   "source": [
    "run = bar_states[0]\n",
    "np.sum(np.diff([r[1][1] for r in run]))"
   ]
  },
  {
   "cell_type": "code",
   "execution_count": 38,
   "metadata": {},
   "outputs": [],
   "source": [
    "# Sort bar events into a dict that contains all the session's runs:\n",
    "\n",
    "order_in_session = 0\n",
    "for ridx,run in enumerate(bar_states):\n",
    "    if np.sum(np.diff([r[1][1] for r in run]))==0:                    # VERTICAL bar, since ypos does not change.\n",
    "        positions = [i[1][0] for i in run]                            # Only \"xpos\" is changing value.\n",
    "        if positions[0] < 0:                                          # LEFT of center is negative, so bar starts at left.\n",
    "            restarts = list(np.where(np.diff(positions) < 0)[0] + 1)  # Cycle starts occur when pos. goes from POS-->NEG.\n",
    "            curr_run = 'left'\n",
    "        else:                                                         # RIGHT of center is positive, bar starts from right.\n",
    "            restarts = list(np.where(np.diff(positions) > 0)[0] + 1)  # Cycle starts occur when goes from NEG-->POS.\n",
    "            curr_run = 'right'\n",
    "    else:                                                             # HORIZONTAL bar, xpos doesn't change.\n",
    "        positions = [i[1][1] for i in run] \n",
    "        if positions[0] < 0:                                          # BELOW center is negative, bar starts at bottom.\n",
    "            restarts = list(np.where(np.diff(positions) < 0)[0] + 1)\n",
    "            curr_run = 'bottom'\n",
    "        else:\n",
    "            restarts = list(np.where(np.diff(positions) > 0)[0] + 1)  # ABOVE center is positive, bar starts at top.\n",
    "            curr_run = 'top'\n",
    "    \n",
    "    restarts.append(0)                                                # Add 0 so first start is included in all starting-position indices.\n",
    "    if curr_run in stimevents.keys():                                        # Add repetition number if this condition is a repeat\n",
    "        ncond_rep = len([i for i in stimevents.keys() if i==curr_run]) \n",
    "        curr_run = curr_run + '_' + str(ncond_rep+1)\n",
    "\n",
    "    stimevents[curr_run] = cycstruct()\n",
    "    stimevents[curr_run].states = run\n",
    "    stimevents[curr_run].idxs = sorted(restarts)\n",
    "    stimevents[curr_run].vals = positions\n",
    "    stimevents[curr_run].ordernum = order_in_session\n",
    "    stimevents[curr_run].triggers = trigger_times[ridx] \n",
    "    order_in_session += 1\n",
    "\n",
    "\n",
    "session_info['ncycles'] = ncycles\n",
    "session_info['target_freq'] = df.get_events('cyc_per_sec')[-1].value\n",
    "session_info['barwidth'] = df.get_events('bar_size_deg')[-1].value\n"
   ]
  },
  {
   "cell_type": "code",
   "execution_count": null,
   "metadata": {
    "collapsed": true
   },
   "outputs": [],
   "source": [
    "pdev_info = [(v['bit_code'], p.time) for p in pdevs for v in p.value if 'bit_code' in v.keys()]\n",
    "return pixelevents, stimevents, trigger_times, session_info"
   ]
  }
 ],
 "metadata": {
  "kernelspec": {
   "display_name": "Python 2",
   "language": "python",
   "name": "python2"
  },
  "language_info": {
   "codemirror_mode": {
    "name": "ipython",
    "version": 2
   },
   "file_extension": ".py",
   "mimetype": "text/x-python",
   "name": "python",
   "nbconvert_exporter": "python",
   "pygments_lexer": "ipython2",
   "version": "2.7.13"
  }
 },
 "nbformat": 4,
 "nbformat_minor": 2
}
