{
 "cells": [
  {
   "cell_type": "code",
   "execution_count": 1,
   "metadata": {},
   "outputs": [
    {
     "name": "stdout",
     "output_type": "stream",
     "text": [
      "KERAS NOT INSTALLED. IF YOU WANT TO USE THE CNN BASED COMPONENT CLASSIFIER (experimental) CONTACT THE DEVELOPERS\n"
     ]
    }
   ],
   "source": [
    "from __future__ import division\n",
    "from __future__ import print_function\n",
    "import matplotlib\n",
    "matplotlib.use('TkAgg')\n",
    "from builtins import zip\n",
    "from builtins import str\n",
    "from builtins import map\n",
    "from builtins import range\n",
    "from past.utils import old_div\n",
    "import cv2\n",
    "import glob\n",
    "import numpy as np\n",
    "import os\n",
    "from scipy.sparse import spdiags, issparse\n",
    "\n",
    "# import caiman\n",
    "from caiman.base.rois import com\n",
    "import caiman as cm\n",
    "\n",
    "import time\n",
    "import pylab as pl\n",
    "\n",
    "import re\n",
    "import json\n",
    "import h5py\n",
    "import cPickle as pkl\n",
    "import scipy.io\n",
    "import pandas as pd\n",
    "from mpl_toolkits.axes_grid1 import make_axes_locatable\n",
    "import pprint\n",
    "\n",
    "pp = pprint.PrettyPrinter(indent=4)\n",
    "\n",
    "def atoi(text):\n",
    "    return int(text) if text.isdigit() else text\n",
    "\n",
    "def natural_keys(text):\n",
    "    return [ atoi(c) for c in re.split('(\\d+)', text) ]\n",
    "\n",
    "def serialize_json(instance=None, path=None):\n",
    "    dt = {}\n",
    "    dt.update(vars(instance))\n"
   ]
  },
  {
   "cell_type": "code",
   "execution_count": 2,
   "metadata": {
    "collapsed": true
   },
   "outputs": [],
   "source": [
    "source = '/nas/volume1/2photon/projects'\n",
    "experiment = 'gratings_phaseMod'\n",
    "session = '20171009_CE059'\n",
    "acquisition = 'FOV1_zoom3x'\n",
    "functional = 'functional'\n",
    "\n",
    "roi_id = 'caiman2Dnmf001'\n",
    "roi_method = 'caiman2D'\n",
    "\n",
    "save_movies = False #True\n",
    "\n",
    "inspect_components = False\n",
    "display_average = True\n",
    "reuse_reference = True\n"
   ]
  },
  {
   "cell_type": "code",
   "execution_count": 3,
   "metadata": {
    "collapsed": true
   },
   "outputs": [],
   "source": [
    "acquisition_dir = os.path.join(source, experiment, session, acquisition)\n",
    "\n",
    "acquisition_meta_fn = os.path.join(acquisition_dir, 'reference_%s.json' % functional)\n",
    "with open(acquisition_meta_fn, 'r') as f:\n",
    "    acqmeta = json.load(f)\n"
   ]
  },
  {
   "cell_type": "code",
   "execution_count": 4,
   "metadata": {
    "collapsed": true
   },
   "outputs": [],
   "source": [
    "roi_dir = os.path.join(acqmeta['roi_dir'], roi_id)\n",
    "roiparams_path = os.path.join(roi_dir, 'roiparams.json')\n",
    "with open(roiparams_path, 'r') as f:\n",
    "    roiparams = json.load(f)\n",
    "\n",
    "if not roi_id==roiparams['roi_id']:\n",
    "    print(\"***WARNING***\")\n",
    "    print(\"Loaded ROIPARAMS id doesn't match user-specified roi_id.\")\n",
    "    pp.pprint(roiparams)\n",
    "    use_loaded = raw_input('Use loaded ROIPARAMS? Press Y/n: ')\n",
    "    if use_loaded=='Y':\n",
    "        roi_id = roiparams['roi_id']\n",
    "        roiparams['params']['use_kept_ony'] = use_kept_only\n",
    "    else:\n",
    "        print(\"Not a valid entry. Re-start with correct ROI_ID.\")        \n",
    "else:\n",
    "    use_kept_only = roiparams['params']['use_kept_only'] \n",
    "   "
   ]
  },
  {
   "cell_type": "code",
   "execution_count": 5,
   "metadata": {
    "collapsed": true
   },
   "outputs": [],
   "source": [
    "# Load mcparams.mat:\n",
    "mcparams = scipy.io.loadmat(acqmeta['mcparams_path'])\n",
    "mc_ids = sorted([m for m in mcparams.keys() if 'mcparams' in m], key=natural_keys)\n",
    "if len(mc_ids)>1:\n",
    "    for mcidx,mcid in enumerate(sorted(mc_ids, key=natural_keys)):\n",
    "        print(mcidx, mcid)\n",
    "    mc_id_idx = raw_input('Select IDX of mc-method to use: ')\n",
    "    mc_id = mc_ids[int(mc_id_idx)]\n",
    "    print(\"Using MC-METHOD: \", mc_id)\n",
    "else:\n",
    "    mc_id = mc_ids[0]\n",
    "    "
   ]
  },
  {
   "cell_type": "code",
   "execution_count": 6,
   "metadata": {},
   "outputs": [
    {
     "name": "stdout",
     "output_type": "stream",
     "text": [
      "Specified signal channel is: Channel01\n",
      "Selected reference file: File006\n"
     ]
    }
   ],
   "source": [
    "mcparams = mcparams[mc_id] #mcparams['mcparams01']\n",
    "reference_file_idx = int(mcparams['ref_file'])\n",
    "signal_channel_idx = int(mcparams['ref_channel'])\n",
    "\n",
    "signal_channel = 'Channel%02d' % int(signal_channel_idx)\n",
    "reference_file = 'File%03d' % int(reference_file_idx)\n",
    "if signal_channel_idx==0:\n",
    "    signal_channel_idx = input('No ref channel found. Enter signal channel idx (1-indexing): ')\n",
    "if reference_file_idx==0:\n",
    "    reference_file_idx = input('No ref file found. Enter file idx (1-indexing): ')\n",
    "\n",
    "signal_channel = 'Channel%02d' % int(signal_channel_idx)\n",
    "reference_file = 'File%03d' % int(reference_file_idx)\n",
    "print(\"Specified signal channel is:\", signal_channel)\n",
    "print(\"Selected reference file:\", reference_file)"
   ]
  },
  {
   "cell_type": "code",
   "execution_count": 8,
   "metadata": {},
   "outputs": [
    {
     "name": "stdout",
     "output_type": "stream",
     "text": [
      "1\n"
     ]
    }
   ],
   "source": [
    "if isinstance(acqmeta['slices'], int):\n",
    "    nslices = acqmeta['slices']\n",
    "else:\n",
    "    nslices = len(acqmeta['slices'])\n",
    "    \n",
    "print(nslices)"
   ]
  },
  {
   "cell_type": "code",
   "execution_count": 9,
   "metadata": {
    "collapsed": true
   },
   "outputs": [],
   "source": [
    "# source of NMF output run:\n",
    "nmf_output_dir = os.path.join(roi_dir, 'nmf_output')\n",
    "nmf_fns = sorted([n for n in os.listdir(nmf_output_dir) if n.endswith('npz')], key=natural_keys)\n",
    "\n",
    "ref_nmf_fn = [f for f in nmf_fns if reference_file in f][0]\n",
    "\n",
    "file_names = sorted(['File%03d' % int(f+1) for f in range(acqmeta['ntiffs'])], key=natural_keys)\n",
    "if not len(file_names)==len(nmf_fns):\n",
    "    print('***ALERT***')\n",
    "    print('Found NMF results does not match num tiff files.')\n",
    "\n",
    "# Get source tiffs (mmap):\n",
    "tiff_source = str(mcparams['dest_dir'][0][0][0])\n",
    "tiff_dir = os.path.join(acquisition_dir, functional, 'DATA', tiff_source)\n",
    "#tiff_dir\n",
    "\n",
    "# Get mmap tiffs:\n",
    "memmapped_fns = sorted([m for m in os.listdir(tiff_dir) if m.endswith('mmap')], key=natural_keys)\n"
   ]
  },
  {
   "cell_type": "code",
   "execution_count": 11,
   "metadata": {
    "collapsed": true
   },
   "outputs": [],
   "source": [
    "currslice = 0"
   ]
  },
  {
   "cell_type": "code",
   "execution_count": 12,
   "metadata": {
    "scrolled": true
   },
   "outputs": [
    {
     "name": "stdout",
     "output_type": "stream",
     "text": [
      "{   u'maskpath3d': [],\n",
      "    u'maskpaths': [   u'/nas/volume1/2photon/projects/gratings_phaseMod/20171009_CE059/FOV1_zoom3x/ROIs/caiman2Dnmf001/masks/20171009_CE059_FOV1_zoom3x_Slice01_Channel01_masks.pkl'],\n",
      "    u'maskpaths_mat': [   u'/nas/volume1/2photon/projects/gratings_phaseMod/20171009_CE059/FOV1_zoom3x/ROIs/caiman2Dnmf001/masks/20171009_CE059_FOV1_zoom3x_Slice01_Channel01_masks.mat'],\n",
      "    u'nrois': [36],\n",
      "    u'params': {   u'kept_rois': [   1,\n",
      "                                     4,\n",
      "                                     6,\n",
      "                                     7,\n",
      "                                     14,\n",
      "                                     16,\n",
      "                                     18,\n",
      "                                     19,\n",
      "                                     20,\n",
      "                                     21,\n",
      "                                     22,\n",
      "                                     23,\n",
      "                                     24,\n",
      "                                     25,\n",
      "                                     26,\n",
      "                                     28,\n",
      "                                     29,\n",
      "                                     30,\n",
      "                                     31,\n",
      "                                     32,\n",
      "                                     33,\n",
      "                                     34,\n",
      "                                     35,\n",
      "                                     36,\n",
      "                                     37,\n",
      "                                     38,\n",
      "                                     39,\n",
      "                                     40,\n",
      "                                     42,\n",
      "                                     43,\n",
      "                                     44,\n",
      "                                     45,\n",
      "                                     48,\n",
      "                                     49,\n",
      "                                     51,\n",
      "                                     52],\n",
      "                   u'reference_file': u'File006',\n",
      "                   u'signal_channel': u'Channel01',\n",
      "                   u'use_kept_only': True,\n",
      "                   u'use_reference': True},\n",
      "    u'roi_id': u'caiman2Dnmf001',\n",
      "    u'roi_info': [],\n",
      "    u'sourcepaths': [   u'/nas/volume1/2photon/projects/gratings_phaseMod/20171009_CE059/FOV1_zoom3x/ROIs/caiman2Dnmf001/nmf_output/FOV1_zoom3x_File006_d1_512_d2_512_d3_1_order_C_frames_6620_.results_analysis.npz']}\n"
     ]
    }
   ],
   "source": [
    "    \n",
    "    if use_kept_only is True:\n",
    "        if 'kept_rois' in roiparams['params'].keys():\n",
    "            kept = roiparams['params']['kept_rois']\n",
    "        else:\n",
    "            ref_nmf_fn = [n for n in nmf_fns if reference_file in n][0]\n",
    "            ref_nmf = np.load(os.path.join(nmf_output_dir, ref_nmf_fn))\n",
    "            kept = [i for i in ref_nmf['idx_components']]\n",
    "            \n",
    "            for fid,curr_file in enumerate(sorted(file_names, key=natural_keys)):\n",
    "                #print(\"Extracting ROI STRUCT from %s\" % curr_file)\n",
    "                curr_nmf_fn = [n for n in nmf_fns if curr_file in n][0]\n",
    "                nmf = np.load(os.path.join(nmf_output_dir, curr_nmf_fn))\n",
    "                curr_kept = [i for i in ref_nmf['idx_components']]\n",
    "                kept = list(set(kept) & set(curr_kept))\n",
    "                #print(kept)\n",
    "            roiparams['params']['kept_rois'] = kept\n",
    "        if not roiparams['nrois'][currslice]==len(kept):\n",
    "            roiparams['nrois'][currslice] = len(kept)\n",
    "    pp.pprint(roiparams)"
   ]
  },
  {
   "cell_type": "code",
   "execution_count": 13,
   "metadata": {
    "collapsed": true
   },
   "outputs": [],
   "source": [
    "fid = 0\n",
    "curr_file = file_names[fid]"
   ]
  },
  {
   "cell_type": "code",
   "execution_count": 27,
   "metadata": {},
   "outputs": [
    {
     "name": "stdout",
     "output_type": "stream",
     "text": [
      "Extracting ROI STRUCT from File001\n",
      "Keeping 36 ROIs.\n",
      "(36, 6620)\n"
     ]
    }
   ],
   "source": [
    "        print(\"Extracting ROI STRUCT from %s\" % curr_file)\n",
    "        curr_nmf_fn = [n for n in nmf_fns if curr_file in n][0]\n",
    "        nmf = np.load(os.path.join(nmf_output_dir, curr_nmf_fn))\n",
    "        \n",
    "\n",
    "        d1 = int(nmf['d1'])\n",
    "        d2 = int(nmf['d2'])\n",
    "              \n",
    "        if use_kept_only:\n",
    "            print(\"Keeping %i ROIs.\" % len(kept))\n",
    "            A = nmf['A'].all().tocsc()[:, kept]\n",
    "            C = nmf['C'][kept, :]\n",
    "            YrA = nmf['YrA'][kept, :]\n",
    "            Cdf = nmf['Cdf'][kept,:]\n",
    "        else:\n",
    "            A = nmf['A'].all()\n",
    "            C = nmf['C']\n",
    "            nmf['YrA'] = nmf['YrA']\n",
    "            Cdf = nmf['Cdf']\n",
    "        \n",
    "        print(Cdf.shape)       \n",
    "        f = nmf['f']\n",
    "        b = nmf['b']\n",
    "        \n",
    "        curr_mmap = [m for m in memmapped_fns if curr_file in m][0]\n",
    "        Yr, dims, T = cm.load_memmap(os.path.join(tiff_dir, curr_mmap))"
   ]
  },
  {
   "cell_type": "code",
   "execution_count": 28,
   "metadata": {
    "collapsed": true
   },
   "outputs": [],
   "source": [
    "bl = np.copy(b)"
   ]
  },
  {
   "cell_type": "code",
   "execution_count": 29,
   "metadata": {},
   "outputs": [],
   "source": [
    "    nA = np.array(np.sqrt(A.power(2).sum(0)).T)\n",
    "    A = scipy.sparse.coo_matrix(A / nA.T)\n",
    "    C = C * nA\n",
    "    bl = (bl * nA.T).squeeze()\n",
    "    nA = np.array(np.sqrt(A.power(2).sum(0)).T)\n",
    "    T = C.shape[-1]"
   ]
  },
  {
   "cell_type": "code",
   "execution_count": 30,
   "metadata": {},
   "outputs": [
    {
     "name": "stdout",
     "output_type": "stream",
     "text": [
      "nA: (36, 1)\n",
      "A: (262144, 36)\n",
      "C: (36, 6620)\n",
      "bl: (262144, 36)\n"
     ]
    }
   ],
   "source": [
    "print(\"nA:\", nA.shape)\n",
    "print(\"A:\", A.shape)\n",
    "print(\"C:\", C.shape)\n",
    "print(\"bl:\", bl.shape)\n"
   ]
  },
  {
   "cell_type": "code",
   "execution_count": 33,
   "metadata": {},
   "outputs": [
    {
     "name": "stdout",
     "output_type": "stream",
     "text": [
      "AY: (36, 6620)\n"
     ]
    }
   ],
   "source": [
    "AY = A.T.dot(Yr)\n",
    "print(\"AY:\", AY.shape)"
   ]
  },
  {
   "cell_type": "code",
   "execution_count": 35,
   "metadata": {},
   "outputs": [
    {
     "name": "stdout",
     "output_type": "stream",
     "text": [
      "(1, 262144, 36)\n"
     ]
    }
   ],
   "source": [
    "bas_val = bl[None, :]\n",
    "print(bas_val.shape)"
   ]
  },
  {
   "cell_type": "code",
   "execution_count": 36,
   "metadata": {},
   "outputs": [
    {
     "ename": "MemoryError",
     "evalue": "",
     "output_type": "error",
     "traceback": [
      "\u001b[0;31m---------------------------------------------------------------------------\u001b[0m",
      "\u001b[0;31mMemoryError\u001b[0m                               Traceback (most recent call last)",
      "\u001b[0;32m<ipython-input-36-6e8465c268d4>\u001b[0m in \u001b[0;36m<module>\u001b[0;34m()\u001b[0m\n\u001b[0;32m----> 1\u001b[0;31m \u001b[0mBas\u001b[0m \u001b[0;34m=\u001b[0m \u001b[0mnp\u001b[0m\u001b[0;34m.\u001b[0m\u001b[0mrepeat\u001b[0m\u001b[0;34m(\u001b[0m\u001b[0mbas_val\u001b[0m\u001b[0;34m,\u001b[0m \u001b[0mT\u001b[0m\u001b[0;34m,\u001b[0m \u001b[0;36m0\u001b[0m\u001b[0;34m)\u001b[0m\u001b[0;34m.\u001b[0m\u001b[0mT\u001b[0m\u001b[0;34m\u001b[0m\u001b[0m\n\u001b[0m\u001b[1;32m      2\u001b[0m \u001b[0;32mprint\u001b[0m\u001b[0;34m(\u001b[0m\u001b[0mBas\u001b[0m\u001b[0;34m.\u001b[0m\u001b[0mshape\u001b[0m\u001b[0;34m)\u001b[0m\u001b[0;34m\u001b[0m\u001b[0m\n",
      "\u001b[0;32m/home/julianarhee/anaconda/envs/2pdev/lib/python2.7/site-packages/numpy/core/fromnumeric.pyc\u001b[0m in \u001b[0;36mrepeat\u001b[0;34m(a, repeats, axis)\u001b[0m\n\u001b[1;32m    396\u001b[0m \u001b[0;34m\u001b[0m\u001b[0m\n\u001b[1;32m    397\u001b[0m     \"\"\"\n\u001b[0;32m--> 398\u001b[0;31m     \u001b[0;32mreturn\u001b[0m \u001b[0m_wrapfunc\u001b[0m\u001b[0;34m(\u001b[0m\u001b[0ma\u001b[0m\u001b[0;34m,\u001b[0m \u001b[0;34m'repeat'\u001b[0m\u001b[0;34m,\u001b[0m \u001b[0mrepeats\u001b[0m\u001b[0;34m,\u001b[0m \u001b[0maxis\u001b[0m\u001b[0;34m=\u001b[0m\u001b[0maxis\u001b[0m\u001b[0;34m)\u001b[0m\u001b[0;34m\u001b[0m\u001b[0m\n\u001b[0m\u001b[1;32m    399\u001b[0m \u001b[0;34m\u001b[0m\u001b[0m\n\u001b[1;32m    400\u001b[0m \u001b[0;34m\u001b[0m\u001b[0m\n",
      "\u001b[0;32m/home/julianarhee/anaconda/envs/2pdev/lib/python2.7/site-packages/numpy/core/fromnumeric.pyc\u001b[0m in \u001b[0;36m_wrapfunc\u001b[0;34m(obj, method, *args, **kwds)\u001b[0m\n\u001b[1;32m     55\u001b[0m \u001b[0;32mdef\u001b[0m \u001b[0m_wrapfunc\u001b[0m\u001b[0;34m(\u001b[0m\u001b[0mobj\u001b[0m\u001b[0;34m,\u001b[0m \u001b[0mmethod\u001b[0m\u001b[0;34m,\u001b[0m \u001b[0;34m*\u001b[0m\u001b[0margs\u001b[0m\u001b[0;34m,\u001b[0m \u001b[0;34m**\u001b[0m\u001b[0mkwds\u001b[0m\u001b[0;34m)\u001b[0m\u001b[0;34m:\u001b[0m\u001b[0;34m\u001b[0m\u001b[0m\n\u001b[1;32m     56\u001b[0m     \u001b[0;32mtry\u001b[0m\u001b[0;34m:\u001b[0m\u001b[0;34m\u001b[0m\u001b[0m\n\u001b[0;32m---> 57\u001b[0;31m         \u001b[0;32mreturn\u001b[0m \u001b[0mgetattr\u001b[0m\u001b[0;34m(\u001b[0m\u001b[0mobj\u001b[0m\u001b[0;34m,\u001b[0m \u001b[0mmethod\u001b[0m\u001b[0;34m)\u001b[0m\u001b[0;34m(\u001b[0m\u001b[0;34m*\u001b[0m\u001b[0margs\u001b[0m\u001b[0;34m,\u001b[0m \u001b[0;34m**\u001b[0m\u001b[0mkwds\u001b[0m\u001b[0;34m)\u001b[0m\u001b[0;34m\u001b[0m\u001b[0m\n\u001b[0m\u001b[1;32m     58\u001b[0m \u001b[0;34m\u001b[0m\u001b[0m\n\u001b[1;32m     59\u001b[0m     \u001b[0;31m# An AttributeError occurs if the object does not have\u001b[0m\u001b[0;34m\u001b[0m\u001b[0;34m\u001b[0m\u001b[0m\n",
      "\u001b[0;31mMemoryError\u001b[0m: "
     ]
    }
   ],
   "source": [
    "Bas = np.repeat(bas_val, T, 0).T\n",
    "print(Bas.shape)"
   ]
  },
  {
   "cell_type": "code",
   "execution_count": null,
   "metadata": {
    "collapsed": true
   },
   "outputs": [],
   "source": []
  }
 ],
 "metadata": {
  "kernelspec": {
   "display_name": "Python 2",
   "language": "python",
   "name": "python2"
  },
  "language_info": {
   "codemirror_mode": {
    "name": "ipython",
    "version": 2
   },
   "file_extension": ".py",
   "mimetype": "text/x-python",
   "name": "python",
   "nbconvert_exporter": "python",
   "pygments_lexer": "ipython2",
   "version": "2.7.13"
  }
 },
 "nbformat": 4,
 "nbformat_minor": 2
}
