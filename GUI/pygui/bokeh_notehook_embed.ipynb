{
 "cells": [
  {
   "cell_type": "markdown",
   "metadata": {},
   "source": [
    "# Example Bokeh Application Embedded in Jupyter Notebook\n",
    "\n",
    "Hello, world / Iris data set example to illustrate embedding of Bokeh applications within a Jupyter notebook.\n",
    "\n",
    "Note that this example will only run with the latest version of [bokeh (version 0.12.5)](http://bokeh.pydata.org/en/latest/#)."
   ]
  },
  {
   "cell_type": "code",
   "execution_count": 1,
   "metadata": {
    "collapsed": true
   },
   "outputs": [],
   "source": [
    "import pandas as pd\n",
    "from bokeh.layouts import row, widgetbox, column, layout\n",
    "from bokeh.models import Select, Slider\n",
    "from bokeh.charts import Histogram\n",
    "from bokeh.io import show\n",
    "from bokeh.application.handlers import FunctionHandler\n",
    "from bokeh.application import Application\n",
    "from bokeh.models.widgets import RadioButtonGroup"
   ]
  },
  {
   "cell_type": "markdown",
   "metadata": {},
   "source": [
    "## Load the Iris Data Set"
   ]
  },
  {
   "cell_type": "code",
   "execution_count": 3,
   "metadata": {},
   "outputs": [
    {
     "data": {
      "text/html": [
       "<div>\n",
       "<style>\n",
       "    .dataframe thead tr:only-child th {\n",
       "        text-align: right;\n",
       "    }\n",
       "\n",
       "    .dataframe thead th {\n",
       "        text-align: left;\n",
       "    }\n",
       "\n",
       "    .dataframe tbody tr th {\n",
       "        vertical-align: top;\n",
       "    }\n",
       "</style>\n",
       "<table border=\"1\" class=\"dataframe\">\n",
       "  <thead>\n",
       "    <tr style=\"text-align: right;\">\n",
       "      <th></th>\n",
       "      <th>Sepal Length</th>\n",
       "      <th>Sepal Width</th>\n",
       "      <th>Petal Length</th>\n",
       "      <th>Petal Width</th>\n",
       "      <th>Species</th>\n",
       "    </tr>\n",
       "  </thead>\n",
       "  <tbody>\n",
       "    <tr>\n",
       "      <th>0</th>\n",
       "      <td>5.1</td>\n",
       "      <td>3.5</td>\n",
       "      <td>1.4</td>\n",
       "      <td>0.2</td>\n",
       "      <td>Iris-setosa</td>\n",
       "    </tr>\n",
       "    <tr>\n",
       "      <th>1</th>\n",
       "      <td>4.9</td>\n",
       "      <td>3.0</td>\n",
       "      <td>1.4</td>\n",
       "      <td>0.2</td>\n",
       "      <td>Iris-setosa</td>\n",
       "    </tr>\n",
       "    <tr>\n",
       "      <th>2</th>\n",
       "      <td>4.7</td>\n",
       "      <td>3.2</td>\n",
       "      <td>1.3</td>\n",
       "      <td>0.2</td>\n",
       "      <td>Iris-setosa</td>\n",
       "    </tr>\n",
       "    <tr>\n",
       "      <th>3</th>\n",
       "      <td>4.6</td>\n",
       "      <td>3.1</td>\n",
       "      <td>1.5</td>\n",
       "      <td>0.2</td>\n",
       "      <td>Iris-setosa</td>\n",
       "    </tr>\n",
       "    <tr>\n",
       "      <th>4</th>\n",
       "      <td>5.0</td>\n",
       "      <td>3.6</td>\n",
       "      <td>1.4</td>\n",
       "      <td>0.2</td>\n",
       "      <td>Iris-setosa</td>\n",
       "    </tr>\n",
       "  </tbody>\n",
       "</table>\n",
       "</div>"
      ],
      "text/plain": [
       "   Sepal Length  Sepal Width  Petal Length  Petal Width      Species\n",
       "0           5.1          3.5           1.4          0.2  Iris-setosa\n",
       "1           4.9          3.0           1.4          0.2  Iris-setosa\n",
       "2           4.7          3.2           1.3          0.2  Iris-setosa\n",
       "3           4.6          3.1           1.5          0.2  Iris-setosa\n",
       "4           5.0          3.6           1.4          0.2  Iris-setosa"
      ]
     },
     "execution_count": 3,
     "metadata": {},
     "output_type": "execute_result"
    }
   ],
   "source": [
    "iris_df = pd.read_csv(\"data/iris.data\", \n",
    "    names=[\"Sepal Length\", \"Sepal Width\", \"Petal Length\", \"Petal Width\", \"Species\"])\n",
    "feature_names = iris_df.columns[0:-1].values.tolist()\n",
    "iris_df.head()"
   ]
  },
  {
   "cell_type": "code",
   "execution_count": 2,
   "metadata": {
    "collapsed": true,
    "scrolled": true
   },
   "outputs": [],
   "source": [
    "# Load reference dict:\n",
    "import json\n",
    "import os\n",
    "source = '/nas/volume1/2photon/projects'\n",
    "experiment = 'gratings_phaseMod'\n",
    "session = '20170825_CE055'\n",
    "acquisition = 'FOV1_planar'\n",
    "functional_dir = 'functional_test'\n",
    "\n",
    "acquisition_dir = os.path.join(source, experiment, session, acquisition)\n",
    "\n",
    "refdict_fn = 'reference_%s2.json' % functional_dir\n",
    "with open(os.path.join(acquisition_dir, refdict_fn), 'r') as fr:\n",
    "    ref = json.load(fr)\n",
    "    \n",
    "#ref"
   ]
  },
  {
   "cell_type": "code",
   "execution_count": 3,
   "metadata": {
    "collapsed": true
   },
   "outputs": [],
   "source": [
    "# Get ROI methods:\n",
    "roi_methods_dir = os.path.join(ref['acquisition_base_dir'], 'ROIs')\n",
    "roi_methods = os.listdir(roi_methods_dir)\n",
    "roi_methods = [str(r) for r in roi_methods]\n",
    "\n",
    "# print \"ROI methods:\"\n",
    "# roi_names\n"
   ]
  },
  {
   "cell_type": "code",
   "execution_count": 4,
   "metadata": {},
   "outputs": [
    {
     "name": "stdout",
     "output_type": "stream",
     "text": [
      "Trace methods:\n"
     ]
    },
    {
     "data": {
      "text/plain": [
       "['blobs_DoG']"
      ]
     },
     "execution_count": 4,
     "metadata": {},
     "output_type": "execute_result"
    }
   ],
   "source": [
    "# Get TRACE methods:\n",
    "trace_methods_dir = os.path.join(ref['acquisition_base_dir'], 'Traces')\n",
    "trace_methods = os.listdir(trace_methods_dir)\n",
    "trace_methods = [str(r) for r in trace_methods]\n",
    "\n",
    "print \"Trace methods:\"\n",
    "trace_methods\n"
   ]
  },
  {
   "cell_type": "code",
   "execution_count": 5,
   "metadata": {},
   "outputs": [
    {
     "name": "stdout",
     "output_type": "stream",
     "text": [
      "Slices:\n"
     ]
    },
    {
     "data": {
      "text/plain": [
       "['Slice01']"
      ]
     },
     "execution_count": 5,
     "metadata": {},
     "output_type": "execute_result"
    }
   ],
   "source": [
    "# Get SLICE list:\n",
    "if isinstance(ref['slices'], int):\n",
    "    slice_names = ['Slice01']\n",
    "else:\n",
    "    slice_names = [\"Slice{:02d}\".format(i+1) for i in range(len(ref['slices']))]\n",
    "\n",
    "print \"Slices:\"\n",
    "slice_names"
   ]
  },
  {
   "cell_type": "code",
   "execution_count": 6,
   "metadata": {},
   "outputs": [
    {
     "name": "stdout",
     "output_type": "stream",
     "text": [
      "[u'File001']\n",
      "File001\n"
     ]
    }
   ],
   "source": [
    "# Get FILE list:\n",
    "\n",
    "average_slice_dir = os.path.join(ref['data_dir'], 'Averaged_Slices', \"Channel{:02d}\".format(ref['signal_channel']))\n",
    "file_fns = [f for f in os.listdir(average_slice_dir) if '_visible' not in f]\n",
    "print file_fns\n",
    "nfiles = len(file_fns)\n",
    "\n",
    "curr_file = file_fns[0]\n",
    "print curr_file\n"
   ]
  },
  {
   "cell_type": "code",
   "execution_count": 7,
   "metadata": {},
   "outputs": [
    {
     "name": "stdout",
     "output_type": "stream",
     "text": [
      "[u'average_Slice01_Channel01_File001.tif']\n"
     ]
    }
   ],
   "source": [
    "# Get AVERAGE slices:\n",
    "\n",
    "slice_fns = [f for f in os.listdir(os.path.join(average_slice_dir, curr_file)) if f.endswith('.tif')]\n",
    "print slice_fns\n",
    "\n",
    "# roi_slice_dir = os.path.join(roi_dir, ref['roi_id'], 'figures')\n",
    "# roi_slice_imgs = os.listdir(roi_slice_dir)\n",
    "# curr_file = roi_slice_imgs[0]\n"
   ]
  },
  {
   "cell_type": "code",
   "execution_count": 8,
   "metadata": {
    "collapsed": true
   },
   "outputs": [],
   "source": [
    "import scipy.io as spio\n",
    "import numpy as np\n",
    "\n",
    "def loadmat(filename):\n",
    "    '''\n",
    "    this function should be called instead of direct spio.loadmat\n",
    "    as it cures the problem of not properly recovering python dictionaries\n",
    "    from mat files. It calls the function check keys to cure all entries\n",
    "    which are still mat-objects\n",
    "    '''\n",
    "    data = spio.loadmat(filename, struct_as_record=False, squeeze_me=True)\n",
    "\n",
    "    return _check_keys(data)\n",
    "\n",
    "\n",
    "def _check_keys(dict):\n",
    "    '''\n",
    "    checks if entries in dictionary are mat-objects. If yes\n",
    "    todict is called to change them to nested dictionaries\n",
    "    '''\n",
    "    for key in dict:\n",
    "        if isinstance(dict[key], spio.matlab.mio5_params.mat_struct):\n",
    "            dict[key] = _todict(dict[key])\n",
    "\n",
    "    return dict\n",
    "\n",
    "\n",
    "def _todict(matobj):\n",
    "    '''\n",
    "    A recursive function which constructs from matobjects nested dictionaries\n",
    "    '''\n",
    "    dict = {}\n",
    "    for strg in matobj._fieldnames:\n",
    "        elem = matobj.__dict__[strg]\n",
    "        if isinstance(elem, spio.matlab.mio5_params.mat_struct):\n",
    "            dict[strg] = _todict(elem)\n",
    "        elif isinstance(elem,np.ndarray):\n",
    "            dict[strg] = _tolist(elem)\n",
    "        else:\n",
    "            dict[strg] = elem\n",
    "\n",
    "    return dict\n",
    "\n",
    "\n",
    "def _tolist(ndarray):\n",
    "    '''\n",
    "    A recursive function which constructs lists from cellarrays \n",
    "    (which are loaded as numpy ndarrays), recursing into the elements\n",
    "    if they contain matobjects.\n",
    "    '''\n",
    "    elem_list = []\n",
    "    for sub_elem in ndarray:\n",
    "        if isinstance(sub_elem, spio.matlab.mio5_params.mat_struct):\n",
    "            elem_list.append(_todict(sub_elem))\n",
    "        elif isinstance(sub_elem,np.ndarray):\n",
    "            elem_list.append(_tolist(sub_elem))\n",
    "        else:\n",
    "            elem_list.append(sub_elem)\n",
    "\n",
    "    return elem_list\n"
   ]
  },
  {
   "cell_type": "code",
   "execution_count": 9,
   "metadata": {},
   "outputs": [
    {
     "data": {
      "text/plain": [
       "['nrois', 'maskpaths', 'maskpath3d', 'params', 'roi_info', 'sourcepaths']"
      ]
     },
     "execution_count": 9,
     "metadata": {},
     "output_type": "execute_result"
    }
   ],
   "source": [
    "# Load ROIPARAMS.mat:\n",
    "current_roi_name = 'blobs_DoG'\n",
    "roiparams_path = os.path.join(ref['acquisition_base_dir'], 'ROIs', current_roi_name, 'roiparams.mat')\n",
    "roiparams = loadmat(roiparams_path)\n",
    "roiparams = roiparams['roiparams']\n",
    "\n",
    "maskpaths = roiparams['maskpaths']\n",
    "# if isinstance(maskpaths, unicode):\n",
    "#     masks = loadmat(maskpaths)\n",
    "# else:\n",
    "#     masks = loadmat(maskpaths[slice_idx])\n",
    "\n",
    "roiparams.keys()"
   ]
  },
  {
   "cell_type": "code",
   "execution_count": 10,
   "metadata": {
    "collapsed": true
   },
   "outputs": [],
   "source": [
    "trace_types = ['raw', 'meansub', 'df/f']\n",
    "tracestruct = loadmat(os.path.join(ref['trace_dir'], ref['trace_structs'][0]))\n",
    "traces = tracestruct['file']\n",
    "\n",
    "#len(traces['rawtracemat'])\n",
    "\n",
    "#len([traces['rawtracemat'][f][0] for f in range(len(traces['rawtracemat']))])"
   ]
  },
  {
   "cell_type": "code",
   "execution_count": 11,
   "metadata": {
    "collapsed": true
   },
   "outputs": [],
   "source": [
    "from bokeh.plotting import figure\n",
    "import tifffile as tf\n",
    "import cv2\n",
    "\n",
    "import matplotlib.pylab as plt\n",
    "%matplotlib notebook\n",
    "\n",
    "from skimage import img_as_uint"
   ]
  },
  {
   "cell_type": "markdown",
   "metadata": {},
   "source": [
    "## Create Embedded Application"
   ]
  },
  {
   "cell_type": "code",
   "execution_count": 30,
   "metadata": {
    "collapsed": true
   },
   "outputs": [],
   "source": [
    "# Create the Document Application\n",
    "def modify_doc(doc):\n",
    "    \n",
    "    # Create the main plot\n",
    "    def create_figure():\n",
    "        \n",
    "        curr_roi = roi_slider.value\n",
    "        curr_file = file_name.value\n",
    "        curr_file_idx = file_fns.index(curr_file)\n",
    "        \n",
    "        current_slice_dir = os.path.join(average_slice_dir, curr_file)\n",
    "        slice_fns = os.listdir(current_slice_dir)\n",
    "        slice_fns = [s for s in slice_fns if s.endswith('.tif')]\n",
    "        \n",
    "        current_roi_method = roi_method.value\n",
    "        current_slice_name = slice_name.value\n",
    "        slice_idx = slice_names.index(current_slice_name)\n",
    "        \n",
    "        # LOAD masks of selected ROI-type (and, if relevant, selected Slice):\n",
    "        roiparams_path = os.path.join(ref['acquisition_base_dir'], 'ROIs', current_roi_method, 'roiparams.mat')\n",
    "        roiparams = loadmat(roiparams_path); roiparams = roiparams['roiparams']\n",
    "\n",
    "        maskpaths = roiparams['maskpaths']\n",
    "        if isinstance(maskpaths, unicode):\n",
    "            masks = loadmat(maskpaths); masks = masks['masks']\n",
    "        else:\n",
    "            masks = loadmat(maskpaths[slice_idx]); masks = masks['masks']\n",
    "\n",
    "        curr_mask = masks[:,:,curr_roi]\n",
    "#         curr_mask = curr_mask[::-1]\n",
    "#         xs=[]; ys=[]\n",
    "#         for x in range(curr_mask.shape[1]):\n",
    "#             for y in range(curr_mask.shape[0]):\n",
    "#                 if curr_mask[y,x]==1:\n",
    "#                     xs.append(x)\n",
    "#                     ys.append(y)\n",
    "#         xs = [float(x)/curr_mask.shape[0] for x in xs]\n",
    "#         ys = [float(y)/curr_mask.shape[1] for y in ys]\n",
    "        #mask_img = np.ma.masked_where(curr_mask==1, img)\n",
    "\n",
    "                    \n",
    "    \n",
    "        # GET average slice image:\n",
    "        tiff_path = os.path.join(current_slice_dir, slice_fns[slice_idx])\n",
    "        with tf.TiffFile(tiff_path) as tif:\n",
    "            img = tif.asarray()\n",
    "        # reverse y axis manualy\n",
    "        img = img[::-1]\n",
    "    \n",
    "        mask_img = np.ma.masked_where(curr_mask==1, img)\n",
    "    \n",
    "        # LOAD TRACES of selected ROI-type, Slice, and File:\n",
    "        tracestruct = loadmat(os.path.join(ref['trace_dir'], ref['trace_structs'][slice_idx]))\n",
    "        if nfiles==1:\n",
    "            traces = tracestruct['file']\n",
    "        else:\n",
    "            traces = tracestruct['file'][curr_file_idx]\n",
    "        \n",
    "\n",
    "        # Plot selected traces:\n",
    "        curr_trace_type = trace_types[trace_type_group.active]\n",
    "        if curr_trace_type=='raw':\n",
    "            #curr_trace = traces['rawtracemat'][:,curr_roi]\n",
    "            selected_mat = 'rawtracemat'\n",
    "            curr_ylabel = 'intensity'\n",
    "            to_perc = 1.\n",
    "        elif curr_trace_type=='meansub':\n",
    "            #curr_trace = traces['tracematDC'][:,curr_roi]\n",
    "            selected_mat = 'tracematDC'\n",
    "            curr_ylabel = 'intensity'\n",
    "            to_perc = 1.\n",
    "        elif curr_trace_type=='df/f':\n",
    "            #curr_trace = traces['df_f'][:,curr_roi]*100.\n",
    "            selected_mat = 'df_f'\n",
    "            curr_ylabel = 'df/f %'\n",
    "            to_perc = 100.\n",
    "        \n",
    "        curr_trace = [traces[selected_mat][f][curr_roi]*to_perc for f in range(len(traces[selected_mat]))]\n",
    "            \n",
    "    \n",
    "        # Create figure 1:\n",
    "        s1 = figure(plot_width=600, plot_height=400, x_range=(0,1), y_range=(0,1))\n",
    "        \n",
    "        s1.image([img], 0, 0, 1, 1, dilate=True) #], x=[0], y=[0], dw=None, dh=None, dilate=True)\n",
    "        #s1.patch(xs, ys, alpha=1, line_width=2)\n",
    "        s1.image([mask_img], 0, 0, 1, 1)\n",
    "            \n",
    "        # Set the x axis label\n",
    "        s1.xaxis.axis_label = current_slice_name\n",
    "\n",
    "        # Set the y axis label\n",
    "        s1.yaxis.axis_label = ''\n",
    "        s1.xaxis.major_tick_line_color = None  # turn off x-axis major ticks\n",
    "        s1.xaxis.minor_tick_line_color = None  # turn off x-axis minor ticks\n",
    "        s1.yaxis.major_tick_line_color = None  # turn off y-axis major ticks\n",
    "        s1.yaxis.minor_tick_line_color = None  # turn off y-axis minor ticks\n",
    "        s1.xaxis.major_label_text_font_size = '0pt'  # preferred method for removing tick labels\n",
    "        s1.yaxis.major_label_text_font_size = '0pt'  # preferred method for removing tick labels\n",
    "\n",
    "        \n",
    "        # Create figure 2:\n",
    "        s2 = figure(plot_width=600, plot_height=400) #, x_range=(0,1), y_range=(0,1))\n",
    "        s2.line(range(1, len(curr_trace)), curr_trace)\n",
    "        s2.xaxis.axis_label = 'frame'\n",
    "        s2.yaxis.axis_label = curr_ylabel\n",
    "        \n",
    "        p = column(s1, s2)\n",
    "        return p\n",
    "\n",
    "    # Update the plot\n",
    "    def update(attr, old, new):\n",
    "        layout.children[1] = create_figure()\n",
    "        #push_notebook()\n",
    "    # ----------------------------------------------------------------------------------\n",
    "    # Controls\n",
    "    # ----------------------------------------------------------------------------------\n",
    "    file_name = Select(title='File:', options=file_fns, value=file_fns[0])\n",
    "    file_name.on_change('value', update)\n",
    "    file_menu = widgetbox([file_name], width=200)\n",
    "\n",
    "    roi_slider = Slider(start=1, end=roiparams['nrois'], value=1, step=1, title=\"ROI num\")\n",
    "    roi_slider.on_change('value', update) #, callback=update)\n",
    "    \n",
    "    # ROI-METHODS:\n",
    "    roi_method = Select(title=\"ROI method:\", options=roi_methods, value=roi_methods[0])\n",
    "    roi_method.on_change('value', update)\n",
    "    roi_menu = widgetbox([roi_method], width=200)\n",
    "    \n",
    "    slice_name = Select(title=\"Slice:\", options=slice_names, value=slice_names[0])\n",
    "    slice_name.on_change('value', update)\n",
    "    slice_menu = widgetbox([slice_name], width=200)\n",
    "    \n",
    "    # TRACE-METHODS:\n",
    "    trace_method = Select(title=\"Trace method:\", options=trace_methods, value=trace_methods[0])\n",
    "    trace_method.on_change('value', update)\n",
    "    trace_menu = widgetbox([trace_method], width=200)\n",
    "\n",
    "    trace_type_group = RadioButtonGroup(labels=trace_types, active=0)\n",
    "    trace_type_group.on_change('active', update) #lambda attr, old, new: update())\n",
    "    # ----------------------------------------------------------------------------------\n",
    "\n",
    "    p = create_figure()\n",
    "    layout = column(roi_slider, row(column(file_menu, slice_menu, roi_menu, trace_method, trace_type_group), p)) \n",
    "    #layout2 = row(column(trace_method, trace_type_group), s2)\n",
    "    #doc.add_root(layout)\n",
    "    #l = layout([layout1], [layout2])\n",
    "    #l = layout([layout1]) #, sizing_mode='stretch_both')\n",
    "    doc.add_root(layout)\n",
    "\n",
    "# Set up the Application \n",
    "handler = FunctionHandler(modify_doc)\n",
    "app = Application(handler)"
   ]
  },
  {
   "cell_type": "code",
   "execution_count": 22,
   "metadata": {
    "collapsed": true
   },
   "outputs": [],
   "source": [
    "from skimage import color, img_as_float, img_as_ubyte\n"
   ]
  },
  {
   "cell_type": "code",
   "execution_count": 23,
   "metadata": {},
   "outputs": [
    {
     "name": "stdout",
     "output_type": "stream",
     "text": [
      "Loading...\n"
     ]
    }
   ],
   "source": [
    "# Get ROI methods:\n",
    "roi_methods_dir = os.path.join(ref['acquisition_base_dir'], 'ROIs')\n",
    "roi_methods = os.listdir(roi_methods_dir)\n",
    "roi_methods = [str(r) for r in roi_methods]\n",
    "roi_methods_dict = dict()\n",
    "print \"Loading...\"\n",
    "for r in roi_methods:\n",
    "    roiparams = loadmat(os.path.join(roi_methods_dir, r, 'roiparams.mat'))\n",
    "    roiparams = roiparams['roiparams']\n",
    "    roi_methods_dict[r] = dict()\n",
    "    #roi_methods_dict[r]['maskpaths'] = roiparams['maskpaths']\n",
    "    maskpaths = roiparams['maskpaths']\n",
    "    if isinstance(maskpaths, unicode):\n",
    "        roi_methods_dict[r]['Slice01'] = dict()\n",
    "        masks = loadmat(maskpaths); masks = masks['masks']\n",
    "        roi_methods_dict[r]['Slice01']['nrois'] = masks.shape[2]\n",
    "        roi_methods_dict[r]['Slice01']['masks'] = masks\n",
    "    else:\n",
    "        for si,sl in enumerate(maskpaths):\n",
    "            masks = loadmat(sl); masks = masks['masks']\n",
    "            roi_methods_dict[r]['Slice{:02d}'.format(si+1)] = dict()\n",
    "            roi_methods_dict[r]['Slice{:02d}'.format(si+1)]['nrois'] = masks.shape[2]\n",
    "            roi_methods_dict[r]['Slice{:02d}'.format(si+1)]['masks'] = masks\n"
   ]
  },
  {
   "cell_type": "code",
   "execution_count": 32,
   "metadata": {},
   "outputs": [
    {
     "name": "stdout",
     "output_type": "stream",
     "text": [
      "PLOTTED\n",
      "(512, 512, 3)\n"
     ]
    }
   ],
   "source": [
    "curr_roi = 1\n",
    "curr_file = file_fns[0]\n",
    "curr_file_idx = 0\n",
    "\n",
    "current_slice_dir = os.path.join(average_slice_dir, curr_file)\n",
    "slice_fns = os.listdir(current_slice_dir)\n",
    "slice_fns = [s for s in slice_fns if s.endswith('.tif')]\n",
    "\n",
    "current_roi_method = roi_methods[0] #.value\n",
    "current_slice_name = slice_names[0] #.value\n",
    "slice_idx = slice_names.index(current_slice_name)\n",
    "\n",
    "# GET average slice image:\n",
    "tiff_path = os.path.join(current_slice_dir, slice_fns[slice_idx])\n",
    "with tf.TiffFile(tiff_path) as tif:\n",
    "    img = tif.asarray()\n",
    "# reverse y axis manualy\n",
    "img = img[::-1]\n",
    "\n",
    "\n",
    "curr_mask = roi_methods_dict[current_roi_method][current_slice_name]['masks'][:,:,curr_roi]\n",
    "#curr_mask[curr_mask==0] = None #None\n",
    "#curr_mask = np.ma.array(curr_mask)\n",
    "all_masks = np.sum(roi_methods_dict[current_roi_method][current_slice_name]['masks'], axis=2)\n",
    "#all_masks[all_masks==0] = None\n",
    "#all_masks = np.ma.array(all_masks)\n",
    "\n",
    "xs=[]; ys=[]\n",
    "for x in range(curr_mask.shape[0]):\n",
    "    for y in range(curr_mask.shape[1]):\n",
    "        if curr_mask[x,y]==1:\n",
    "            xs.append(x)\n",
    "            ys.append(y)\n",
    "\n",
    "\n",
    "img = img_as_ubyte(img)\n",
    "rows,cols = img.shape\n",
    "cmask = np.zeros((rows,cols,3))\n",
    "#cmask[all_masks==1] = [0, 1, 0]\n",
    "cmask[xs,ys] = [1, 0, 0]\n",
    "img_color = np.dstack((img, img, img))\n",
    "img_hsv = color.rgb2hsv(img_color)\n",
    "cmask_hsv = color.rgb2hsv(cmask)\n",
    "img_hsv[..., 0] = cmask_hsv[..., 0]\n",
    "img_hsv[..., 1] = cmask_hsv[..., 1] * 0.5\n",
    "img_masked = color.hsv2rgb(img_hsv)\n",
    "\n",
    "\n",
    "\n",
    "# Create figure 1:\n",
    "s1 = figure() #plot_width=600, plot_height=400, x_range=(0,1), y_range=(0,1))\n",
    "\n",
    "#    s1.image([img], 0, 0, 1, 1, dilate=True) #], x=[0], y=[0], dw=None, dh=None, dilate=True)\n",
    "#    s1.patches(xs=[roi[0] for roi in roi_list], ys=[roi[1] for roi in roi_list], alpha=0.5)    \n",
    "#     for roi in roi_list: \n",
    "#         s1.patch(roi[0], roi[1], line_width=2, alpha=0.5, fill_alpha=0.0)\n",
    "    #s1.patch(xs, ys, line_width=2, alpha=0.5, fill_alpha=0.0)\n",
    "#    s1.image_rgba([curr_mask], 0, 0, 1, 1, alpha=0.5)\n",
    "s1.image([img_masked], 0, 0, 1, 1) #, alpha=0.3)\n",
    "\n",
    "print \"PLOTTED\"\n",
    "print cmask.shape\n",
    "\n",
    "# Set the x axis label\n",
    "s1.xaxis.axis_label = current_slice_name\n",
    "\n",
    "# Set the y axis label\n",
    "s1.yaxis.axis_label = ''\n",
    "s1.xaxis.major_tick_line_color = None  # turn off x-axis major ticks\n",
    "s1.xaxis.minor_tick_line_color = None  # turn off x-axis minor ticks\n",
    "s1.yaxis.major_tick_line_color = None  # turn off y-axis major ticks\n",
    "s1.yaxis.minor_tick_line_color = None  # turn off y-axis minor ticks\n",
    "s1.xaxis.major_label_text_font_size = '0pt'  # preferred method for removing tick labels\n",
    "s1.yaxis.major_label_text_font_size = '0pt'  # preferred method for removing tick labels}}}\n"
   ]
  },
  {
   "cell_type": "code",
   "execution_count": 33,
   "metadata": {
    "collapsed": true
   },
   "outputs": [],
   "source": [
    "#output_file(\"image.html\", title=\"image.py example\")\n",
    "show(s1)  # open a browsers1"
   ]
  },
  {
   "cell_type": "code",
   "execution_count": null,
   "metadata": {
    "collapsed": true
   },
   "outputs": [],
   "source": []
  },
  {
   "cell_type": "code",
   "execution_count": 14,
   "metadata": {
    "collapsed": true
   },
   "outputs": [],
   "source": [
    "# Create the Document Application\n",
    "def modify_doc(doc):\n",
    "    \n",
    "    def create_figure():\n",
    "\n",
    "        curr_roi = roi_slider.value - 1\n",
    "        curr_file = file_name.value\n",
    "        curr_file_idx = file_fns.index(curr_file)\n",
    "\n",
    "        current_slice_dir = os.path.join(average_slice_dir, curr_file)\n",
    "        slice_fns = os.listdir(current_slice_dir)\n",
    "        slice_fns = [s for s in slice_fns if s.endswith('.tif')]\n",
    "\n",
    "        current_roi_method = roi_method.value\n",
    "        current_slice_name = slice_name.value\n",
    "        slice_idx = slice_names.index(current_slice_name)\n",
    "\n",
    "        # GET average slice image:\n",
    "        tiff_path = os.path.join(current_slice_dir, slice_fns[slice_idx])\n",
    "        with tf.TiffFile(tiff_path) as tif:\n",
    "            img = tif.asarray()\n",
    "        # reverse y axis manualy\n",
    "        img = img[::-1]\n",
    "\n",
    "\n",
    "        curr_mask = roi_methods_dict[current_roi_method][current_slice_name]['masks'][:,:,curr_roi]\n",
    "        #curr_mask[curr_mask==0] = None #None\n",
    "        #curr_mask = np.ma.array(curr_mask)\n",
    "        all_masks = np.sum(roi_methods_dict[current_roi_method][current_slice_name]['masks'], axis=2)\n",
    "        #all_masks[all_masks==0] = None\n",
    "        #all_masks = np.ma.array(all_masks)\n",
    "\n",
    "        xs=[]; ys=[]\n",
    "        for x in range(curr_mask.shape[0]):\n",
    "            for y in range(curr_mask.shape[1]):\n",
    "                if curr_mask[x,y]==1:\n",
    "                    xs.append(x)\n",
    "                    ys.append(y)\n",
    "                    \n",
    "        \n",
    "        img = img_as_float(img)\n",
    "        rows,cols = img.shape\n",
    "        cmask = np.zeros((rows,cols,3))\n",
    "        #cmask[all_masks==1] = [0, 1, 0]\n",
    "        cmask[xs,ys] = [1, 0, 0]\n",
    "        img_color = np.dstack((img, img, img))\n",
    "        img_hsv = color.rgb2hsv(img_color)\n",
    "        cmask_hsv = color.rgb2hsv(cmask)\n",
    "        img_hsv[..., 0] = cmask_hsv[..., 0]\n",
    "        img_hsv[..., 1] = cmask_hsv[..., 1] * 0.5\n",
    "        img_masked = color.hsv2rgb(img_hsv)\n",
    "        \n",
    "        # LOAD TRACES of selected ROI-type, Slice, and File:\n",
    "        tracestruct = loadmat(os.path.join(ref['trace_dir'], ref['trace_structs'][slice_idx]))\n",
    "        if nfiles==1:\n",
    "            traces = tracestruct['file']\n",
    "        else:\n",
    "            traces = tracestruct['file'][curr_file_idx]\n",
    "\n",
    "\n",
    "        # Plot selected traces:\n",
    "        curr_trace_type = trace_types[trace_type_group.active]\n",
    "        if curr_trace_type=='raw':\n",
    "            #curr_trace = traces['rawtracemat'][:,curr_roi]\n",
    "            selected_mat = 'rawtracemat'\n",
    "            curr_ylabel = 'intensity'\n",
    "            to_perc = 1.\n",
    "        elif curr_trace_type=='meansub':\n",
    "            #curr_trace = traces['tracematDC'][:,curr_roi]\n",
    "            selected_mat = 'tracematDC'\n",
    "            curr_ylabel = 'intensity'\n",
    "            to_perc = 1.\n",
    "        elif curr_trace_type=='df/f':\n",
    "            #curr_trace = traces['df_f'][:,curr_roi]*100.\n",
    "            selected_mat = 'df_f'\n",
    "            curr_ylabel = 'df/f %'\n",
    "            to_perc = 100.\n",
    "\n",
    "        curr_trace = [traces[selected_mat][f][curr_roi]*to_perc for f in range(len(traces[selected_mat]))]\n",
    "\n",
    "\n",
    "        # Create figure 1:\n",
    "        s1 = figure(plot_width=600, plot_height=400, x_range=(0,1), y_range=(0,1))\n",
    "\n",
    "    #    s1.image([img], 0, 0, 1, 1, dilate=True) #], x=[0], y=[0], dw=None, dh=None, dilate=True)\n",
    "    #    s1.patches(xs=[roi[0] for roi in roi_list], ys=[roi[1] for roi in roi_list], alpha=0.5)    \n",
    "    #     for roi in roi_list: \n",
    "    #         s1.patch(roi[0], roi[1], line_width=2, alpha=0.5, fill_alpha=0.0)\n",
    "            #s1.patch(xs, ys, line_width=2, alpha=0.5, fill_alpha=0.0)\n",
    "    #    s1.image_rgba([curr_mask], 0, 0, 1, 1, alpha=0.5)\n",
    "        s1.image_rgba([img_masked], 0, 0, 1, 1) #, alpha=0.3)\n",
    "        print \"PLOTTED\"\n",
    "        print cmask.shape\n",
    "\n",
    "        # Set the x axis label\n",
    "        s1.xaxis.axis_label = current_slice_name\n",
    "\n",
    "        # Set the y axis label\n",
    "        s1.yaxis.axis_label = ''\n",
    "        s1.xaxis.major_tick_line_color = None  # turn off x-axis major ticks\n",
    "        s1.xaxis.minor_tick_line_color = None  # turn off x-axis minor ticks\n",
    "        s1.yaxis.major_tick_line_color = None  # turn off y-axis major ticks\n",
    "        s1.yaxis.minor_tick_line_color = None  # turn off y-axis minor ticks\n",
    "        s1.xaxis.major_label_text_font_size = '0pt'  # preferred method for removing tick labels\n",
    "        s1.yaxis.major_label_text_font_size = '0pt'  # preferred method for removing tick labels\n",
    "\n",
    "        # Create figure 2:\n",
    "        s2 = figure(plot_width=1200, plot_height=400) #, x_range=(0,1), y_range=(0,1))\n",
    "        s2.line(range(1, len(curr_trace)), curr_trace)\n",
    "        s2.xaxis.axis_label = 'frame'\n",
    "        s2.yaxis.axis_label = curr_ylabel\n",
    "\n",
    "        p = column(s1, s2)\n",
    "        return p #s1, s2\n",
    "\n",
    "    # Update the plot\n",
    "    def update(attr, old, new):\n",
    "        layout.children[1] = create_figure()\n",
    "        #push_notebook()\n",
    "    # ----------------------------------------------------------------------------------\n",
    "    # Controls\n",
    "    # ----------------------------------------------------------------------------------\n",
    "    file_name = Select(title='File:', options=file_fns, value=file_fns[0])\n",
    "    file_name.on_change('value', update)\n",
    "    file_menu = widgetbox([file_name], width=200)\n",
    "\n",
    "    roi_slider = Slider(start=1, end=roiparams['nrois'], value=1, step=1, title=\"ROI num\")\n",
    "    roi_slider.on_change('value', update) #, callback=update)\n",
    "    \n",
    "    # ROI-METHODS:\n",
    "    roi_method = Select(title=\"ROI method:\", options=roi_methods, value=roi_methods[0])\n",
    "    roi_method.on_change('value', update)\n",
    "    roi_menu = widgetbox([roi_method], width=200)\n",
    "    \n",
    "    slice_name = Select(title=\"Slice:\", options=slice_names, value=slice_names[0])\n",
    "    slice_name.on_change('value', update)\n",
    "    slice_menu = widgetbox([slice_name], width=200)\n",
    "    \n",
    "    # TRACE-METHODS:\n",
    "    trace_method = Select(title=\"Trace method:\", options=trace_methods, value=trace_methods[0])\n",
    "    trace_method.on_change('value', update)\n",
    "    trace_menu = widgetbox([trace_method], width=200)\n",
    "\n",
    "    trace_type_group = RadioButtonGroup(labels=trace_types, active=0)\n",
    "    trace_type_group.on_change('active', update) #lambda attr, old, new: update())\n",
    "    # ----------------------------------------------------------------------------------\n",
    "\n",
    "    p = create_figure()\n",
    "    layout = column(roi_slider, row(column(file_menu, slice_menu, roi_menu, trace_method, trace_type_group), p)) \n",
    "    #layout2 = row(column(trace_method, trace_type_group), s2)\n",
    "    #doc.add_root(layout)\n",
    "    #l = layout([layout1], [layout2])\n",
    "    #l = layout([layout1]) #, sizing_mode='stretch_both')\n",
    "    doc.add_root(layout)\n",
    "\n",
    "# Set up the Application \n",
    "handler = FunctionHandler(modify_doc)\n",
    "app = Application(handler)"
   ]
  },
  {
   "cell_type": "code",
   "execution_count": 15,
   "metadata": {
    "scrolled": false
   },
   "outputs": [
    {
     "name": "stdout",
     "output_type": "stream",
     "text": [
      "PLOTTED\n",
      "(512, 512, 3)\n"
     ]
    },
    {
     "name": "stderr",
     "output_type": "stream",
     "text": [
      "/home/juliana/anaconda/envs/2pdev/lib/python2.7/site-packages/bokeh/models/sources.py:89: BokehUserWarning: ColumnDataSource's columns must be of the same length\n",
      "  lambda: warnings.warn(\"ColumnDataSource's columns must be of the same length\", BokehUserWarning))\n"
     ]
    }
   ],
   "source": [
    "# Create the Document\n",
    "# Not strictly necessary, but helps w/ debugging\n",
    "doc = app.create_document()"
   ]
  },
  {
   "cell_type": "code",
   "execution_count": 16,
   "metadata": {},
   "outputs": [
    {
     "data": {
      "text/html": [
       "<script type='text/javascript'>\n",
       "\n",
       "var target = document.getElementById('notebook-container');\n",
       "\n",
       "var observer = new MutationObserver(function(mutations) {\n",
       "\n",
       "   for (var i = 0; i < mutations.length; i++) {\n",
       "      for (var j=0; j < mutations[i].removedNodes.length; j++) {\n",
       "        for (var k=0; k < mutations[i].removedNodes[j].childNodes.length; k++)\n",
       "          var bokeh_selector = $(mutations[i].removedNodes[j].childNodes[k]).find(\".bokeh_class\");\n",
       "          if (bokeh_selector) {\n",
       "            if (bokeh_selector.length > 0) {\n",
       "               var destroyed_id = bokeh_selector[0].id;\n",
       "                \n",
       "var cmd = \"from bokeh import io; io._destroy_server('<%= destroyed_id %>')\";\n",
       "var command = _.template(cmd)({destroyed_id:destroyed_id});\n",
       "Jupyter.notebook.kernel.execute(command);\n",
       "\n",
       "            }\n",
       "          }\n",
       "      }\n",
       "   }\n",
       "});\n",
       "observer.observe(target, { childList: true, subtree:true });</script>"
      ]
     },
     "metadata": {},
     "output_type": "display_data"
    },
    {
     "data": {
      "text/html": [
       "<div class='bokeh_class' id='ff36adffbcdc45cb9fd1bbbee3ac8817'>\n",
       "<script\n",
       "    src=\"http://127.0.0.1:52336/autoload.js?bokeh-autoload-element=471d83cc-8c7e-4e79-b362-9bef37151dd1&bokeh-app-path=/&bokeh-absolute-url=http://127.0.0.1:52336\"\n",
       "    id=\"471d83cc-8c7e-4e79-b362-9bef37151dd1\"\n",
       "    data-bokeh-model-id=\"\"\n",
       "    data-bokeh-doc-id=\"\"\n",
       "></script></div>"
      ],
      "text/plain": [
       "<IPython.core.display.HTML object>"
      ]
     },
     "metadata": {},
     "output_type": "display_data"
    },
    {
     "name": "stdout",
     "output_type": "stream",
     "text": [
      "PLOTTED\n",
      "(512, 512, 3)\n"
     ]
    },
    {
     "name": "stderr",
     "output_type": "stream",
     "text": [
      "/home/juliana/anaconda/envs/2pdev/lib/python2.7/site-packages/bokeh/models/sources.py:89: BokehUserWarning: ColumnDataSource's columns must be of the same length\n",
      "  lambda: warnings.warn(\"ColumnDataSource's columns must be of the same length\", BokehUserWarning))\n",
      "/home/juliana/anaconda/envs/2pdev/lib/python2.7/site-packages/bokeh/models/sources.py:89: BokehUserWarning: ColumnDataSource's columns must be of the same length\n",
      "  lambda: warnings.warn(\"ColumnDataSource's columns must be of the same length\", BokehUserWarning))\n"
     ]
    }
   ],
   "source": [
    "# Show the application\n",
    "# Make sure the URL matches your Jupyter instance\n",
    "show(app, notebook_url=\"localhost:8888\")\n"
   ]
  },
  {
   "cell_type": "code",
   "execution_count": 18,
   "metadata": {},
   "outputs": [
    {
     "data": {
      "text/html": [
       "<div class='bokeh_class' id='df37897093a6450d9fe0bc1a0abf2784'>\n",
       "<script\n",
       "    src=\"http://127.0.0.1:56061/autoload.js?bokeh-autoload-element=368f7481-98ad-4671-bd00-c3877262dde0&bokeh-app-path=/&bokeh-absolute-url=http://127.0.0.1:56061\"\n",
       "    id=\"368f7481-98ad-4671-bd00-c3877262dde0\"\n",
       "    data-bokeh-model-id=\"\"\n",
       "    data-bokeh-doc-id=\"\"\n",
       "></script></div>"
      ],
      "text/plain": [
       "<IPython.core.display.HTML object>"
      ]
     },
     "metadata": {},
     "output_type": "display_data"
    },
    {
     "name": "stdout",
     "output_type": "stream",
     "text": [
      "PLOTTED\n"
     ]
    },
    {
     "name": "stderr",
     "output_type": "stream",
     "text": [
      "/home/juliana/anaconda/envs/2pdev/lib/python2.7/site-packages/bokeh/models/sources.py:89: BokehUserWarning: ColumnDataSource's columns must be of the same length\n",
      "  lambda: warnings.warn(\"ColumnDataSource's columns must be of the same length\", BokehUserWarning))\n",
      "/home/juliana/anaconda/envs/2pdev/lib/python2.7/site-packages/bokeh/models/sources.py:89: BokehUserWarning: ColumnDataSource's columns must be of the same length\n",
      "  lambda: warnings.warn(\"ColumnDataSource's columns must be of the same length\", BokehUserWarning))\n"
     ]
    }
   ],
   "source": [
    "show(app)"
   ]
  },
  {
   "cell_type": "code",
   "execution_count": null,
   "metadata": {
    "collapsed": true
   },
   "outputs": [],
   "source": []
  }
 ],
 "metadata": {
  "kernelspec": {
   "display_name": "Python 2",
   "language": "python",
   "name": "python2"
  },
  "language_info": {
   "codemirror_mode": {
    "name": "ipython",
    "version": 2
   },
   "file_extension": ".py",
   "mimetype": "text/x-python",
   "name": "python",
   "nbconvert_exporter": "python",
   "pygments_lexer": "ipython2",
   "version": "2.7.13"
  }
 },
 "nbformat": 4,
 "nbformat_minor": 2
}
