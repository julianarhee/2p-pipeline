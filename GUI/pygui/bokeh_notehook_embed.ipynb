{
 "cells": [
  {
   "cell_type": "markdown",
   "metadata": {},
   "source": [
    "# Example Bokeh Application Embedded in Jupyter Notebook\n",
    "\n",
    "Hello, world / Iris data set example to illustrate embedding of Bokeh applications within a Jupyter notebook.\n",
    "\n",
    "Note that this example will only run with the latest version of [bokeh (version 0.12.5)](http://bokeh.pydata.org/en/latest/#)."
   ]
  },
  {
   "cell_type": "code",
   "execution_count": 1,
   "metadata": {
    "collapsed": true
   },
   "outputs": [],
   "source": [
    "import pandas as pd\n",
    "from bokeh.layouts import row, widgetbox\n",
    "from bokeh.models import Select\n",
    "from bokeh.charts import Histogram\n",
    "from bokeh.io import show\n",
    "from bokeh.application.handlers import FunctionHandler\n",
    "from bokeh.application import Application"
   ]
  },
  {
   "cell_type": "markdown",
   "metadata": {},
   "source": [
    "## Load the Iris Data Set"
   ]
  },
  {
   "cell_type": "code",
   "execution_count": 3,
   "metadata": {},
   "outputs": [
    {
     "data": {
      "text/html": [
       "<div>\n",
       "<style>\n",
       "    .dataframe thead tr:only-child th {\n",
       "        text-align: right;\n",
       "    }\n",
       "\n",
       "    .dataframe thead th {\n",
       "        text-align: left;\n",
       "    }\n",
       "\n",
       "    .dataframe tbody tr th {\n",
       "        vertical-align: top;\n",
       "    }\n",
       "</style>\n",
       "<table border=\"1\" class=\"dataframe\">\n",
       "  <thead>\n",
       "    <tr style=\"text-align: right;\">\n",
       "      <th></th>\n",
       "      <th>Sepal Length</th>\n",
       "      <th>Sepal Width</th>\n",
       "      <th>Petal Length</th>\n",
       "      <th>Petal Width</th>\n",
       "      <th>Species</th>\n",
       "    </tr>\n",
       "  </thead>\n",
       "  <tbody>\n",
       "    <tr>\n",
       "      <th>0</th>\n",
       "      <td>5.1</td>\n",
       "      <td>3.5</td>\n",
       "      <td>1.4</td>\n",
       "      <td>0.2</td>\n",
       "      <td>Iris-setosa</td>\n",
       "    </tr>\n",
       "    <tr>\n",
       "      <th>1</th>\n",
       "      <td>4.9</td>\n",
       "      <td>3.0</td>\n",
       "      <td>1.4</td>\n",
       "      <td>0.2</td>\n",
       "      <td>Iris-setosa</td>\n",
       "    </tr>\n",
       "    <tr>\n",
       "      <th>2</th>\n",
       "      <td>4.7</td>\n",
       "      <td>3.2</td>\n",
       "      <td>1.3</td>\n",
       "      <td>0.2</td>\n",
       "      <td>Iris-setosa</td>\n",
       "    </tr>\n",
       "    <tr>\n",
       "      <th>3</th>\n",
       "      <td>4.6</td>\n",
       "      <td>3.1</td>\n",
       "      <td>1.5</td>\n",
       "      <td>0.2</td>\n",
       "      <td>Iris-setosa</td>\n",
       "    </tr>\n",
       "    <tr>\n",
       "      <th>4</th>\n",
       "      <td>5.0</td>\n",
       "      <td>3.6</td>\n",
       "      <td>1.4</td>\n",
       "      <td>0.2</td>\n",
       "      <td>Iris-setosa</td>\n",
       "    </tr>\n",
       "  </tbody>\n",
       "</table>\n",
       "</div>"
      ],
      "text/plain": [
       "   Sepal Length  Sepal Width  Petal Length  Petal Width      Species\n",
       "0           5.1          3.5           1.4          0.2  Iris-setosa\n",
       "1           4.9          3.0           1.4          0.2  Iris-setosa\n",
       "2           4.7          3.2           1.3          0.2  Iris-setosa\n",
       "3           4.6          3.1           1.5          0.2  Iris-setosa\n",
       "4           5.0          3.6           1.4          0.2  Iris-setosa"
      ]
     },
     "execution_count": 3,
     "metadata": {},
     "output_type": "execute_result"
    }
   ],
   "source": [
    "iris_df = pd.read_csv(\"data/iris.data\", \n",
    "    names=[\"Sepal Length\", \"Sepal Width\", \"Petal Length\", \"Petal Width\", \"Species\"])\n",
    "feature_names = iris_df.columns[0:-1].values.tolist()\n",
    "iris_df.head()"
   ]
  },
  {
   "cell_type": "code",
   "execution_count": 10,
   "metadata": {
    "scrolled": true
   },
   "outputs": [
    {
     "data": {
      "text/plain": [
       "{u'acquisition': u'FOV1_planar',\n",
       " u'acquisition_base_dir': u'/nas/volume1/2photon/projects/gratings_phaseMod/20170825_CE055/FOV1_planar',\n",
       " u'data_dir': u'/nas/volume1/2photon/projects/gratings_phaseMod/20170825_CE055/FOV1_planar/functional_test/DATA',\n",
       " u'experiment': u'gratings_phaseMod',\n",
       " u'functional': u'functional_test',\n",
       " u'mcparams_path': u'/nas/volume1/2photon/projects/gratings_phaseMod/20170825_CE055/FOV1_planar/functional_test/DATA/mcparams.mat',\n",
       " u'nchannels': 2,\n",
       " u'ntiffs': 1,\n",
       " u'roi_id': u'blobs_DoG',\n",
       " u'roi_method': u'pyblob2D',\n",
       " u'roiparams_path': u'/nas/volume1/2photon/projects/gratings_phaseMod/20170825_CE055/FOV1_planar/ROIs/blobs_DoG/roiparams.mat',\n",
       " u'session': u'20170825_CE055',\n",
       " u'signal_channel': 1,\n",
       " u'simeta_path': u'/nas/volume1/2photon/projects/gratings_phaseMod/20170825_CE055/FOV1_planar/functional_test/DATA/simeta.mat',\n",
       " u'slices': 1,\n",
       " u'source': u'/nas/volume1/2photon/projects',\n",
       " u'trace_dir': u'/nas/volume1/2photon/projects/gratings_phaseMod/20170825_CE055/FOV1_planar/Traces/blobs_DoG',\n",
       " u'trace_id': u'blobs_DoG',\n",
       " u'trace_structs': [u'traces_Slice01_Channel01.mat'],\n",
       " u'use_bidi_corrected': 1}"
      ]
     },
     "execution_count": 10,
     "metadata": {},
     "output_type": "execute_result"
    }
   ],
   "source": [
    "# Load reference dict:\n",
    "import json\n",
    "import os\n",
    "source = '/nas/volume1/2photon/projects'\n",
    "experiment = 'gratings_phaseMod'\n",
    "session = '20170825_CE055'\n",
    "acquisition = 'FOV1_planar'\n",
    "functional_dir = 'functional_test'\n",
    "\n",
    "acquisition_dir = os.path.join(source, experiment, session, acquisition)\n",
    "\n",
    "refdict_fn = 'reference_%s2.json' % functional_dir\n",
    "with open(os.path.join(acquisition_dir, refdict_fn), 'r') as fr:\n",
    "    ref = json.load(fr)\n",
    "    \n",
    "ref"
   ]
  },
  {
   "cell_type": "code",
   "execution_count": 13,
   "metadata": {},
   "outputs": [
    {
     "name": "stdout",
     "output_type": "stream",
     "text": [
      "ROI methods: [u'blobs_LoG', u'blobs_DoG']\n",
      "Trace methods: [u'blobs_DoG']\n"
     ]
    }
   ],
   "source": [
    "roi_dir = os.path.join(ref['acquisition_base_dir'], 'ROIs')\n",
    "roi_names = os.listdir(roi_dir)\n",
    "print \"ROI methods:\", roi_names\n",
    "\n",
    "trace_dir = os.path.join(ref['acquisition_base_dir'], 'Traces')\n",
    "trace_names = os.listdir(trace_dir)\n",
    "print \"Trace methods:\", trace_names\n"
   ]
  },
  {
   "cell_type": "code",
   "execution_count": 25,
   "metadata": {},
   "outputs": [
    {
     "data": {
      "text/plain": [
       "['Slice001']"
      ]
     },
     "execution_count": 25,
     "metadata": {},
     "output_type": "execute_result"
    }
   ],
   "source": [
    "roi_opts = [str(r) for r in roi_names]\n",
    "trace_opts = [str(r) for r in trace_names]\n",
    "\n",
    "if isinstance(ref['slices'], int):\n",
    "    slice_names = ['Slice001']\n",
    "else:\n",
    "    slice_names = [\"Slice{:02d}\".format(i+1) for i in range(len(ref['slices']))]\n",
    "    \n",
    "slice_names"
   ]
  },
  {
   "cell_type": "code",
   "execution_count": 201,
   "metadata": {},
   "outputs": [
    {
     "name": "stdout",
     "output_type": "stream",
     "text": [
      "[u'File001']\n",
      "File001\n"
     ]
    }
   ],
   "source": [
    "average_slice_dir = os.path.join(ref['data_dir'], 'Averaged_Slices', 'Channel01')\n",
    "files = [f for f in os.listdir(average_slice_dir) if '_visible' not in f]\n",
    "print files\n",
    "\n",
    "curr_file = files[0]\n",
    "print curr_file\n",
    "\n",
    "# roi_slice_dir = os.path.join(roi_dir, ref['roi_id'], 'figures')\n",
    "# roi_slice_imgs = os.listdir(roi_slice_dir)\n",
    "# curr_file = roi_slice_imgs[0]\n"
   ]
  },
  {
   "cell_type": "code",
   "execution_count": 242,
   "metadata": {
    "collapsed": true
   },
   "outputs": [],
   "source": [
    "import scipy.io as spio\n",
    "import numpy as np\n",
    "\n",
    "def loadmat(filename):\n",
    "    '''\n",
    "    this function should be called instead of direct spio.loadmat\n",
    "    as it cures the problem of not properly recovering python dictionaries\n",
    "    from mat files. It calls the function check keys to cure all entries\n",
    "    which are still mat-objects\n",
    "    '''\n",
    "    data = spio.loadmat(filename, struct_as_record=False, squeeze_me=True)\n",
    "\n",
    "    return _check_keys(data)\n",
    "\n",
    "\n",
    "def _check_keys(dict):\n",
    "    '''\n",
    "    checks if entries in dictionary are mat-objects. If yes\n",
    "    todict is called to change them to nested dictionaries\n",
    "    '''\n",
    "    for key in dict:\n",
    "        if isinstance(dict[key], spio.matlab.mio5_params.mat_struct):\n",
    "            dict[key] = _todict(dict[key])\n",
    "\n",
    "    return dict\n",
    "\n",
    "\n",
    "def _todict(matobj):\n",
    "    '''\n",
    "    A recursive function which constructs from matobjects nested dictionaries\n",
    "    '''\n",
    "    dict = {}\n",
    "    for strg in matobj._fieldnames:\n",
    "        elem = matobj.__dict__[strg]\n",
    "        if isinstance(elem, spio.matlab.mio5_params.mat_struct):\n",
    "            dict[strg] = _todict(elem)\n",
    "        elif isinstance(elem,np.ndarray):\n",
    "            dict[strg] = _tolist(elem)\n",
    "        else:\n",
    "            dict[strg] = elem\n",
    "\n",
    "    return dict\n",
    "\n",
    "\n",
    "def _tolist(ndarray):\n",
    "    '''\n",
    "    A recursive function which constructs lists from cellarrays \n",
    "    (which are loaded as numpy ndarrays), recursing into the elements\n",
    "    if they contain matobjects.\n",
    "    '''\n",
    "    elem_list = []\n",
    "    for sub_elem in ndarray:\n",
    "        if isinstance(sub_elem, spio.matlab.mio5_params.mat_struct):\n",
    "            elem_list.append(_todict(sub_elem))\n",
    "        elif isinstance(sub_elem,np.ndarray):\n",
    "            elem_list.append(_tolist(sub_elem))\n",
    "        else:\n",
    "            elem_list.append(sub_elem)\n",
    "\n",
    "    return elem_list\n"
   ]
  },
  {
   "cell_type": "code",
   "execution_count": 251,
   "metadata": {},
   "outputs": [
    {
     "name": "stdout",
     "output_type": "stream",
     "text": [
      "['nrois', 'maskpaths', 'maskpath3d', 'params', 'roi_info', 'sourcepaths']\n",
      "/nas/volume1/2photon/projects/gratings_phaseMod/20170825_CE055/FOV1_planar/ROIs/blobs_DoG/masks/20170825_CE055_FOV1_planar_Slice01_Channel01_masks.mat\n"
     ]
    }
   ],
   "source": [
    "roiparams_path = os.path.join(ref['acquisition_base_dir'], 'ROIs', current_roi_name, 'roiparams.mat')\n",
    "roiparams = loadmat(roiparams_path)\n",
    "#print roiparams['roiparams'].keys()\n",
    "maskpaths = roiparams['roiparams']['maskpaths']\n",
    "#print maskpaths\n",
    "if isinstance(maskpaths, unicode):\n",
    "    masks = loadmat(maskpaths)\n",
    "else:\n",
    "    masks = loadmat(maskpaths[slice_idx])"
   ]
  },
  {
   "cell_type": "code",
   "execution_count": 247,
   "metadata": {},
   "outputs": [
    {
     "data": {
      "text/plain": [
       "['__version__', '__header__', 'masks', '__globals__']"
      ]
     },
     "execution_count": 247,
     "metadata": {},
     "output_type": "execute_result"
    }
   ],
   "source": [
    "\n",
    "masks = loadmat(maskpaths)\n"
   ]
  },
  {
   "cell_type": "code",
   "execution_count": 249,
   "metadata": {},
   "outputs": [
    {
     "data": {
      "text/plain": [
       "(512, 512, 247)"
      ]
     },
     "execution_count": 249,
     "metadata": {},
     "output_type": "execute_result"
    }
   ],
   "source": [
    "masks['masks'].shape"
   ]
  },
  {
   "cell_type": "code",
   "execution_count": 202,
   "metadata": {
    "collapsed": true
   },
   "outputs": [],
   "source": [
    "from bokeh.plotting import figure\n",
    "import tifffile as tf\n",
    "import cv2\n",
    "\n",
    "import matplotlib.pylab as plt\n",
    "%matplotlib notebook\n",
    "\n",
    "from skimage import img_as_uint"
   ]
  },
  {
   "cell_type": "markdown",
   "metadata": {},
   "source": [
    "## Create Embedded Application"
   ]
  },
  {
   "cell_type": "code",
   "execution_count": 299,
   "metadata": {},
   "outputs": [],
   "source": [
    "# Create the Document Application\n",
    "def modify_doc(doc):\n",
    "    \n",
    "    # Create the main plot\n",
    "    def create_figure():\n",
    "        \n",
    "        current_slice_dir = os.path.join(average_slice_dir, curr_file)\n",
    "        slice_fns = os.listdir(current_slice_dir)\n",
    "        slice_fns = [s for s in slice_fns if s.endswith('.tif')]\n",
    "        \n",
    "        current_roi_name = roi_name.value\n",
    "        current_slice_name = slice_name.value\n",
    "#         p = Histogram(iris_df, current_feature_name, title=current_feature_name, color='Species', \n",
    "#             bins=20, legend='top_right', width=600, height=400)\n",
    "\n",
    "        slice_idx = slice_names.index(current_slice_name)\n",
    "        \n",
    "        # GET masks:\n",
    "        roiparams_path = os.path.join(ref['acquisition_base_dir'], 'ROIs', current_roi_name, 'roiparams.mat')\n",
    "        roiparams = loadmat(roiparams_path)\n",
    "        #print roiparams['roiparams'].keys()\n",
    "        maskpaths = roiparams['roiparams']['maskpaths']\n",
    "        #print maskpaths\n",
    "        if isinstance(maskpaths, unicode):\n",
    "            masks = loadmat(maskpaths)\n",
    "        else:\n",
    "            masks = loadmat(maskpaths[slice_idx])\n",
    "        curr_mask = masks['masks'][:,:,100]\n",
    "        curr_mask = curr_mask[::-1]\n",
    "        xs=[]; ys=[]\n",
    "        for x in range(curr_mask.shape[1]):\n",
    "            for y in range(curr_mask.shape[0]):\n",
    "                if curr_mask[y,x]==1:\n",
    "                    xs.append(x)\n",
    "                    ys.append(y)\n",
    "        xs = [float(x)/curr_mask.shape[0] for x in xs]\n",
    "        ys = [float(y)/curr_mask.shape[1] for y in ys]\n",
    "        print xs\n",
    "                    \n",
    "        #curr_mask = curr_mask[::-1]\n",
    "    \n",
    "        # GET average slice image:\n",
    "        tiff_path = os.path.join(current_slice_dir, slice_fns[slice_idx])\n",
    "        \n",
    "        with tf.TiffFile(tiff_path) as tif:\n",
    "            img = tif.asarray()\n",
    "        \n",
    "        # reverse y axis manualy\n",
    "        img = img[::-1]\n",
    "        # img = cv2.imread(tiff_path)\n",
    "         \n",
    "        fov = np.zeros((img.shape[0], img.shape[1], 4))\n",
    "        fov[:,:,1] = img\n",
    "        fov[:,:,0] = curr_mask\n",
    "        fov[:,:,3] = np.ones((img.shape[0], img.shape[1]))*255\n",
    "        \n",
    "    \n",
    "        #p = figure(plot_width=600, plot_height=400) #, x_range=[0, img.shape[0]], y_range=[0, img.shape[1]])\n",
    "        p = figure(plot_width=600, plot_height=400, x_range=(0,1), y_range=(0,1))\n",
    "        #p.image_url(image=[tiff_path], x=[0], y=[0], dw=None, dh=None, dilate=True)\n",
    "        \n",
    "        p.image([img], 0, 0, 1, 1, dilate=True) #], x=[0], y=[0], dw=None, dh=None, dilate=True)\n",
    "        #p.image([curr_mask], 0, 0, 1, 1, dilate=True, alpha=0.5)\n",
    "        #p.image_rgba([fov], 0, 0, 1, 1) #, dilate=True) #], x=[0], y=[0], dw=None, dh=None, dilate=True)\n",
    "        p.patch(xs, ys, alpha=1, line_width=2)\n",
    "            \n",
    "        # Set the x axis label\n",
    "        p.xaxis.axis_label = current_slice_name\n",
    "\n",
    "        # Set the y axis label\n",
    "        p.yaxis.axis_label = ''\n",
    "        return p\n",
    "\n",
    "    # Update the plot\n",
    "    def update(attr, old, new):\n",
    "        layout.children[1] = create_figure()\n",
    "    \n",
    "    # Controls\n",
    "    roi_name = Select(title=\"ROI method:\", options=roi_opts, value=roi_opts[0])\n",
    "    roi_name.on_change('value', update)\n",
    "    \n",
    "    slice_name = Select(title=\"Slice:\", options=slice_names, value=slice_names[0])\n",
    "    slice_name.on_change('value', update)\n",
    "    controls = widgetbox([slice_name], width=200)\n",
    "    p = create_figure()\n",
    "    layout = row(controls, p)\n",
    "    doc.add_root(layout)\n",
    "\n",
    "# Set up the Application \n",
    "handler = FunctionHandler(modify_doc)\n",
    "app = Application(handler)"
   ]
  },
  {
   "cell_type": "code",
   "execution_count": 300,
   "metadata": {
    "scrolled": false
   },
   "outputs": [
    {
     "name": "stdout",
     "output_type": "stream",
     "text": [
      "[0.912109375, 0.912109375, 0.912109375, 0.9140625, 0.9140625, 0.9140625, 0.9140625, 0.9140625, 0.9140625, 0.9140625, 0.916015625, 0.916015625, 0.916015625, 0.916015625, 0.916015625, 0.916015625, 0.916015625, 0.916015625, 0.916015625, 0.916015625, 0.916015625, 0.91796875, 0.91796875, 0.91796875, 0.91796875, 0.91796875, 0.91796875, 0.91796875, 0.91796875, 0.91796875, 0.91796875, 0.91796875, 0.919921875, 0.919921875, 0.919921875, 0.919921875, 0.919921875, 0.919921875, 0.919921875, 0.919921875, 0.919921875, 0.919921875, 0.919921875, 0.919921875, 0.919921875, 0.921875, 0.921875, 0.921875, 0.921875, 0.921875, 0.921875, 0.921875, 0.921875, 0.921875, 0.921875, 0.921875, 0.921875, 0.921875, 0.923828125, 0.923828125, 0.923828125, 0.923828125, 0.923828125, 0.923828125, 0.923828125, 0.923828125, 0.923828125, 0.923828125, 0.923828125, 0.923828125, 0.923828125, 0.923828125, 0.923828125, 0.92578125, 0.92578125, 0.92578125, 0.92578125, 0.92578125, 0.92578125, 0.92578125, 0.92578125, 0.92578125, 0.92578125, 0.92578125, 0.92578125, 0.92578125, 0.92578125, 0.92578125, 0.927734375, 0.927734375, 0.927734375, 0.927734375, 0.927734375, 0.927734375, 0.927734375, 0.927734375, 0.927734375, 0.927734375, 0.927734375, 0.927734375, 0.927734375, 0.927734375, 0.927734375, 0.9296875, 0.9296875, 0.9296875, 0.9296875, 0.9296875, 0.9296875, 0.9296875, 0.9296875, 0.9296875, 0.9296875, 0.9296875, 0.9296875, 0.9296875, 0.931640625, 0.931640625, 0.931640625, 0.931640625, 0.931640625, 0.931640625, 0.931640625, 0.931640625, 0.931640625, 0.931640625, 0.931640625, 0.931640625, 0.931640625, 0.93359375, 0.93359375, 0.93359375, 0.93359375, 0.93359375, 0.93359375, 0.93359375, 0.93359375, 0.93359375, 0.93359375, 0.93359375, 0.935546875, 0.935546875, 0.935546875, 0.935546875, 0.935546875, 0.935546875, 0.935546875, 0.935546875, 0.935546875, 0.935546875, 0.935546875, 0.9375, 0.9375, 0.9375, 0.9375, 0.9375, 0.9375, 0.9375, 0.939453125, 0.939453125, 0.939453125]\n"
     ]
    }
   ],
   "source": [
    "# Create the Document\n",
    "# Not strictly necessary, but helps w/ debugging\n",
    "doc = app.create_document()"
   ]
  },
  {
   "cell_type": "code",
   "execution_count": 301,
   "metadata": {},
   "outputs": [
    {
     "data": {
      "text/html": [
       "<div class='bokeh_class' id='dcf1c8932dd5464e80183f14b1e7c245'>\n",
       "<script\n",
       "    src=\"http://127.0.0.1:40189/autoload.js?bokeh-autoload-element=3c2ec451-ae53-4dc6-abc4-1daf37d3eb19&bokeh-app-path=/&bokeh-absolute-url=http://127.0.0.1:40189\"\n",
       "    id=\"3c2ec451-ae53-4dc6-abc4-1daf37d3eb19\"\n",
       "    data-bokeh-model-id=\"\"\n",
       "    data-bokeh-doc-id=\"\"\n",
       "></script></div>"
      ],
      "text/plain": [
       "<IPython.core.display.HTML object>"
      ]
     },
     "metadata": {},
     "output_type": "display_data"
    }
   ],
   "source": [
    "# Show the application\n",
    "# Make sure the URL matches your Jupyter instance\n",
    "show(app, notebook_url=\"localhost:8888\")\n"
   ]
  },
  {
   "cell_type": "code",
   "execution_count": 284,
   "metadata": {
    "collapsed": true
   },
   "outputs": [],
   "source": [
    "show(p)  # open a browser\n"
   ]
  },
  {
   "cell_type": "code",
   "execution_count": null,
   "metadata": {
    "collapsed": true
   },
   "outputs": [],
   "source": []
  }
 ],
 "metadata": {
  "kernelspec": {
   "display_name": "Python 2",
   "language": "python",
   "name": "python2"
  },
  "language_info": {
   "codemirror_mode": {
    "name": "ipython",
    "version": 2
   },
   "file_extension": ".py",
   "mimetype": "text/x-python",
   "name": "python",
   "nbconvert_exporter": "python",
   "pygments_lexer": "ipython2",
   "version": "2.7.13"
  }
 },
 "nbformat": 4,
 "nbformat_minor": 2
}
